{
  "nbformat": 4,
  "nbformat_minor": 0,
  "metadata": {
    "colab": {
      "name": "deepTC_classification_cnn5.ipynb",
      "version": "0.3.2",
      "provenance": [],
      "collapsed_sections": [],
      "toc_visible": true,
      "include_colab_link": true
    },
    "kernelspec": {
      "name": "python3",
      "display_name": "Python 3"
    },
    "accelerator": "GPU"
  },
  "cells": [
    {
      "cell_type": "markdown",
      "metadata": {
        "id": "view-in-github",
        "colab_type": "text"
      },
      "source": [
        "<a href=\"https://colab.research.google.com/github/aachen6/deepTC/blob/master/colab/deepTC_classification_cnn5.ipynb\" target=\"_parent\"><img src=\"https://colab.research.google.com/assets/colab-badge.svg\" alt=\"Open In Colab\"/></a>"
      ]
    },
    {
      "metadata": {
        "id": "9KZh9h7Dv2Qb",
        "colab_type": "text"
      },
      "cell_type": "markdown",
      "source": [
        "# DeepTC - CNN5\n",
        "\n",
        "The overall objective of *deepTC* can be found on [deepTC github page](https://github.com/aachen6/deepTC/) for new readers. This notebook is where things start to get really fun and exicted, as everything will be linked together and put into the action. This notebook focus on implementation/training of a five-layer convolution network for TC intensity classification from satellite images based on the system we developed so far. \n",
        "\n",
        "1. Data Preprocess\n",
        "   - 1.1 [Satellite images and tracks of TCs](https://github.com/aachen6/deepTC/blob/master/colab/deepTC_images_tracks_sync.ipynb)\n",
        "\n",
        "   - 1.2 [Statistics of satellite images and tracks](https://github.com/aachen6/deepTC/blob/master/colab/deepTC_images_tracks_stats.ipynb)\n",
        "\n",
        "\n",
        "2. Model for TC Image\n",
        "   - 2.1 [Post-binding architecture of TC image](https://github.com/aachen6/deepTC/blob/master/colab/deepTC_net_image.ipynb)\n",
        "\n",
        "   - **2.2 [CNN model for intensity classification](https://github.com/aachen6/deepTC/blob/master/colab/deepTC_classification_cnn5.ipynb)**\n",
        "\n",
        "   - 2.3 [Resnet model for intensity classification](https://github.com/aachen6/deepTC/blob/master/colab/deepTC_classification_resnet.ipynb)\n",
        "\n",
        "   - 2.4 [Resnet model for TC intensity estimation](https://github.com/aachen6/deepTC/blob/master/colab/deepTC_intensity_resnet.ipynb)\n",
        "\n",
        "\n",
        "3. Generversial Model for TC images\n",
        "   - 3.1 [DCGAN model for deepTC](https://github.com/aachen6/deepTC/blob/master/colab/deepTC_dcgan.ipynb)\n",
        "\n",
        "\n",
        "4. Model for TC Track\n",
        "   - 4.1 [Post-binding architecture of TC Track](https://github.com/aachen6/deepTC/blob/master/colab/deepTC_net_track.ipynb)\n",
        "    \n",
        "   - 4.2 [LSTM model for TC track prediction](https://github.com/aachen6/deepTC/blob/master/colab/deepTC_track_lstm.ipynb)\n",
        " \n",
        "   - 4.3 [LSTM-CNN model for TC track prediction](https://github.com/aachen6/deepTC/blob/master/colab/deepTC_track_lstmcnn.ipynb)\n",
        "\n",
        "\n",
        "\n",
        "Let's start with importing the necessary python modules. To reuse our previous notebook where the classes for the model, dataset, trainer, and inference have been defined, we install a package called *import-ipynb*, which loads the .ipynb into current notebook. Since the data is hosted on the Google Drive, we also mount my Google Drive and define some directories here. For new readers, you can find a copy of those datasets in [deepTC github page](https://github.com/aachen6/deepTC/)."
      ]
    },
    {
      "metadata": {
        "id": "gXB8R2GLmRbd",
        "colab_type": "code",
        "colab": {}
      },
      "cell_type": "code",
      "source": [
        "!pip install import-ipynb"
      ],
      "execution_count": 0,
      "outputs": []
    },
    {
      "metadata": {
        "id": "Hv1cwjCXXnfa",
        "colab_type": "code",
        "colab": {}
      },
      "cell_type": "code",
      "source": [
        "import os \n",
        "import yaml\n",
        "import numpy as np\n",
        "import pandas as pd\n",
        "\n",
        "from google.colab import drive\n",
        "drive.mount('/content/drive', force_remount=True)\n",
        "\n",
        "work_dir = r'/content/drive/My Drive/Colab Notebooks/deepTC'\n",
        "p_data  = work_dir + os.sep + 'data/AL'\n",
        "p_image = work_dir + os.sep + 'image/AL'\n",
        "p_model = work_dir + os.sep + 'model/tc_classification/cnn5'\n",
        "\n",
        "# load class defined in other ipynb\n",
        "import import_ipynb\n",
        "model_ipynb = work_dir + os.sep + 'deepTC_net_image.ipynb'\n",
        "with open(model_ipynb, 'rb') as fp:\n",
        "    with open('deepTC_net_lib.ipynb','wb') as fout:\n",
        "       fout.write(fp.read())\n",
        "  \n",
        "import deepTC_net_lib\n",
        "from deepTC_net_lib import YML2Model, ImageDataSet, ImageTrainer, ImageInference\n"
      ],
      "execution_count": 0,
      "outputs": []
    },
    {
      "metadata": {
        "id": "8yHi8RfKvEd0",
        "colab_type": "text"
      },
      "cell_type": "markdown",
      "source": [
        "##CNN5\n",
        "\n",
        "In a nutshell, the convolution network is a deep learning algorithm that applies multiple convolution operations (filters) to an input image with each being able to extract certain features (edge, texture, etc.) that are used collectively to differentiate the input image from others and generate specific output for it, see Figure below. The learning algorithm is the process to determine the best convolution operations that minimize the loss defined to measure the difference between the output and the target of images in the training set. To understand how and why this work, it helps to learn the convolution operation mathematically. The convolution operation moves a signal or function (filtering) along another signal or function (underlying) and performs the integration of the multiplication of the two while it's moving, which generates another signal or function, e.g. a step filtering function produces the average from portion of the underlying function that are covered by the step signal at a particular moment, therefore smooths the underlying function as it moves. By varying the filter function, different information from the underlying function can be obtained through the convolution. \n",
        "\n",
        "<img src='https://leonardoaraujosantos.gitbooks.io/artificial-inteligence/content/assets/ezgif.com-optimize.gif'>*Image credit: Leonardoaraujosantos\n",
        "\n",
        "For the convolution network, the filter generates feature maps, and the feature size is similar to the resolution, i.e. dimension of pixels. The number of filters at each layer is called filter depth or channels (similar to an image that has RGB channels).  The filter size or kernal size defines the portion of image (reception field) that is processed at a time during the convolution (similar to step function size in the example above), which may move at different stride, i.e. pixels the filter slides. Zero padding can be used to maintain the feature size.  \n"
      ]
    },
    {
      "metadata": {
        "id": "AnOP7guxe-wK",
        "colab_type": "text"
      },
      "cell_type": "markdown",
      "source": [
        "###Network Architecture\n",
        "The overall network architecture and training parameters are defined in the configuration file. Specifically, it simply defines a sequential five-layer convolution network (*CNN5 net*) as shown in Figure below. The input images are greyscale with only one channel. The first layer increases the channel size to 32 with a 5 x 5 filter and reduces the feature size by a factor of four using *maxpool2d* function with stride of 2. In each of the following layer, the channel size is doubled with a 3 x 3 filter while the feature size is quartered using *maxpool2d* with stride of 2 in each layer as shown in the callout box. *ReLU* activation function is used for each layer. The features are then flattened and transformed into a vector of 7 corresponding to the number of classes. \n",
        " \n",
        "<img src='https://raw.githubusercontent.com/aachen6/deepTC/master/model/tc_classification/cnn5/cnn5.png' width='800'/>\n",
        "\n",
        "The dataset is firstly split randomly into 90% of training and 10% testing, where the 90% training data is further split randomly into 80% of training and 20% of validation with a final separation ratio of 72:18:10 as shown in the log. The ratio of number of samples for each class is preserved during the split. Since this is a multi-class classification problem, we used *Cross-Entropy* loss with *Adam* optimizer wi The default learning rate &eta;=0.001 and momentum parameters (&beta;<sub>1</sub>=0.9, &beta;<sub>2</sub>=0.999) are used. \n",
        "\n",
        "We trained the model for 15 epochs with a batch size of 64. The loss and accuracy of each batch and epoch (running average) are generated and updated in the plot below during the training and validation process. The model converges very rapidly reaching a validation accuracy of 95% only after 4 epochs. Since validation is performed after training, it presents lower loss and higher accuracy than that from training at the beginning. While the loss decreases and the accuracy increases, they become larger and less than that from training, respectively, indicating the training is saturated. The model achieved a final validation accuary of 98.1% after 15 epochs."
      ]
    },
    {
      "metadata": {
        "id": "kNx21FCKvdz3",
        "colab_type": "text"
      },
      "cell_type": "markdown",
      "source": [
        "###Training and Validation"
      ]
    },
    {
      "metadata": {
        "id": "As3yk9OQu7yy",
        "colab_type": "code",
        "outputId": "78e4342d-10c8-4439-8ca0-43d32bc2c99b",
        "colab": {
          "base_uri": "https://localhost:8080/",
          "height": 3122
        }
      },
      "cell_type": "code",
      "source": [
        "import torch\n",
        "from torchvision.transforms import transforms\n",
        "\n",
        "torch.cuda.empty_cache()\n",
        "\n",
        "# load configuration file\n",
        "f_config = p_model + os.sep + 'config_cnn5.yaml'\n",
        "with open(f_config, 'r') as fp: config = yaml.load(fp)\n",
        "\n",
        "# contruct the model\n",
        "storm_cnn = YML2Model(config, 'cnn5')\n",
        "\n",
        "# update path for config\n",
        "config_params = config['params']\n",
        "config_params['f_image_zip'] = p_image + os.sep + config_params['f_image_zip']\n",
        "config_params['f_storm_msg'] = p_data  + os.sep + config_params['f_storm_msg']\n",
        "config_params['f_state_yml'] = p_model + os.sep + config_params['f_state_yml']\n",
        "config_params['f_model_pth'] = p_model + os.sep + config_params['f_model_pth']\n",
        "config_params['f_test_yml']  = p_model + os.sep + config_params['f_test_yml']\n",
        "\n",
        "# splitted data to be used in other model as well for comparison\n",
        "config_params['f_data_yml']  = work_dir + os.sep + 'model/classification' +\n",
        "                               os.sep + config_params['f_data_yml']\n",
        "\n",
        "# normalization is based on ramdon 1000 samples for this test\n",
        "image_transforms = transforms.Compose([\n",
        "    transforms.Grayscale(1),\n",
        "    transforms.ToTensor(),\n",
        "    transforms.Normalize((0.456,), (0.222,))])\n",
        "\n",
        "# dataset\n",
        "storm_data = ImageDataSet(config_params, image_transforms, hotstart=False)\n",
        "data_split = storm_data.load_data()\n",
        "\n",
        "# model\n",
        "storm_train = ImageTrainer(config_params, storm_cnn, hotstart=False)\n",
        "\n",
        "# train & valid\n",
        "storm_train.train_loop(data_split)\n",
        "\n",
        "# test\n",
        "test_results = storm_train.test_loop(data_split)\n"
      ],
      "execution_count": 0,
      "outputs": [
        {
          "output_type": "stream",
          "text": [
            "------------------------------------\n",
            "summary of dataset\n",
            "------------------------------------\n",
            "               train     valid      test\n",
            "percent         0.72      0.18      0.10\n",
            "size           34944      8742      4857\n",
            "batch            546       136        75\n",
            "------------------------------------\n",
            "summary of GPU\n",
            "------------------------------------\n",
            "Tesla K80\n",
            "Memory Usage:\n",
            "Allocated: 0.0 GB\n",
            "Cached:    0.0 GB\n",
            "------------------------------------\n",
            "training\n",
            "------------------------------------\n"
          ],
          "name": "stdout"
        },
        {
          "output_type": "display_data",
          "data": {
            "text/html": [
              "<img src=\"data:image/png;base64,iVBORw0KGgoAAAANSUhEUgAAAkAAAAGwCAYAAABB4NqyAAAABHNCSVQICAgIfAhkiAAAAAlwSFlz\n",
              "AAALEgAACxIB0t1+/AAAADl0RVh0U29mdHdhcmUAbWF0cGxvdGxpYiB2ZXJzaW9uIDMuMC4yLCBo\n",
              "dHRwOi8vbWF0cGxvdGxpYi5vcmcvOIA7rQAAIABJREFUeJzs3Xl8VPW9//HXOWdmkkz2hEwghE12\n",
              "WUVRAcGCIKi31ba2IIXaX72/trdYtdWqP25vtcXaaqltUau3iNqL19u0XNva1haqghWJoIBsImEn\n",
              "CSGZhOzLbOf8/phksk2SGTLJJHM+z8eDR2bOnDnnexJm5j3fVTEMw0AIIYQQwkTUaBdACCGEEKK/\n",
              "SQASQgghhOlIABJCCCGE6UgAEkIIIYTpSAASQgghhOlIABJCCCGE6UgAEkIIIYTpSAASQgghhOlI\n",
              "ABJCCCGE6UgAEkIIIYTpSAASQgghhOlIABJCCCGE6UgAEkIIIYTpSAASQgghhOlIABJCCCGE6UgA\n",
              "EkIIIYTpSAASQgghhOlIABJCCCGE6UgAEkIIIYTpSAASQgghhOlIABJCCCGE6UgAEkIIIYTpSAAS\n",
              "QgghhOlIABJCCCGE6UgAEkIIIYTpSAASQgghhOlIABJCCCGE6UgAEkIIIYTpSAASQgghhOlIABJC\n",
              "CCGE6UgAEkIIIYTpSAASQgghhOlIABJCCCGE6UgAEkIIIYTpSAASQgghhOlIABJCCCGE6UgAEkII\n",
              "IYTpSAASQgghhOlIABJCCCGE6UgAEkIIIYTpSAASQgghhOlIABJCCCGE6UgAEkIIIYTpSAASQggh\n",
              "hOlIABJCCCGE6UgAEkIIIYTpSAASQgghhOlIABJCCCGE6UgAEkIIIYTpSAASQgghhOlYol2AvvDk\n",
              "k0+yd+9evF4vX//617nxxhsDj+3atYunnnoKTdNYsGABa9asiWJJhRBCCBENMReA3n//fY4fP05e\n",
              "Xh6VlZV89rOfbReAHnvsMTZt2kR2djarVq1i6dKljBs3rsvjOZ21PZ4zPd1OZWVDRMo/mJjxus14\n",
              "zRDadWdlJfdTaS5NKK9lMOff2IzXDOa87lh4LUdKzAWg2bNnM336dABSUlJobGzE5/OhaRqFhYWk\n",
              "pqYybNgwAK6//nry8/O7DUChsFi0Xpd7MDLjdZvxmsFc122ma21hxmsGc163Ga+5KzHXB0jTNOx2\n",
              "OwBbtmxhwYIFaJr/D+50OsnIyAjsm5GRgdPpjEo5hRBCCBE9MVcD1OLNN99ky5YtvPjii706Tnq6\n",
              "PaTEbJYqw47MeN1mvGbov+suKCjgm9/8Jl/5yldYtWoVJSUlPPjgg/h8PrKysvjpT3+KzWbj9ddf\n",
              "5ze/+Q2qqvLFL36RL3zhC/1SPiFEbIjJAPTuu+/y/PPP88ILL5Cc3Pqm7XA4KC8vD9wvLS3F4XB0\n",
              "e6xQ2oezspJD7l8QS8x43Wa8ZgjtuiMRkBoaGli3bh1z5swJbNuwYQMrV67kpptu4qmnnmLLli3c\n",
              "dtttPPvss2zZsgWr1crtt9/OkiVLSEtL63UZhBDmEHMBqLa2lieffJKXX36505thbm4udXV1FBUV\n",
              "MXToULZv38769et7db5Gl5dzF2pI0JReHUcIATabjY0bN7Jx48bAtt27d/ODH/wAgIULF/Liiy8y\n",
              "ZswYpk2bFviCM2vWLPbt28eiRYuiUu6+UOysIzM1HmdVE0MzEvB4dfYfLydnSCKqopAzxM7ZC3VU\n",
              "1rkYmZ0EwO4jpYzPTeVve85x+NRFrp7s4NbrxqCqClW1Lk4UVzN1TCb7jzupbfCQbLeSnhzHb/5+\n",
              "DJtFJSXRRmWti0/PG03pxQaOnKmkpt7N1ZMdnCut48qJWVTWuth1+EKn8l47JZsDJ8qJt/k/Vipr\n",
              "XQBcN30Y+445aXB5A/vaLCrDMhNpcnsprWwEwGpR8Xj1dsdMsVuJs2k4q5oC21ITbVTXu8P6Xd50\n",
              "zUj+tvtcu20WTUU3DHTdCGwbm5PCyfM17fZLjLfg8epMGZPBhYsNlFT0vtP0kNR4yqubet6xWbDf\n",
              "TUcWTcHrM7rdB+BH/zaXYanxIZ87lsVcAHrjjTeorKzkvvvuC2y75pprmDhxIkuWLOHRRx/l/vvv\n",
              "B+Dmm29mzJgxvTrflh0neffgeX55z3wS4mLu1ylEv7JYLFgs7V9HjY2N2Gw2ADIzM3E6nZSXl8d0\n",
              "f76K6ib+Y9OewP2pl2Vw+NTFsI+z52gZe46Wtdv2v++cCrqv26sHPpT/+O7pTscB+Gv+2S7P9f6R\n",
              "UgAaXb5223ceLAl6rrOl7WsUg33A1zR4oMHTblu44QfoFH4AvL7O5+sYfgDqm/zBbf/x8k6PXapw\n",
              "wg8E/910FEr4Afj353bxwkMLURX50h5zn9jLly9n+fLlXT4+e/Zs8vLyIna++iYPXp9Bk9snAUiI\n",
              "PmYYwd/ku9reVqj9+SD6/bxKa1zt7l9K+BGDgQGK0fpT0UFpux2Udo+3f6z1uf7tShfb2943muxk\n",
              "ZiZh0WJuDFTY5BO7lyRFC9G37HY7TU1NxMfHB/rtdezPV1ZWxsyZM7s9TqjzvfRHP68X3zjKzoMl\n",
              "3Dh7BNs+KARg3V1XU1rZyD8PnGfOlKF9ev7BzwCLB8XiQbG4/bc1LxgKhqGAoYKuQvNtw2i+3W6b\n",
              "4r/dThfv5y35WtX959S8refU/OVA8wZ5zAuK7g8mStuQ478dCCz9yPBaKC27GZul64//aH8B6C8S\n",
              "gHqr+fUSyjdQIUT45s6dy9atW7n11lvZtm0b8+fPZ8aMGXzve9+jpqYGTdPYt28fa9eujXZRQ9bS\n",
              "LNQSfgA2/vljzpXVAXDwZEVUytWvFN0fGlR/UPAHBl8gOCiaxx8krG5/wLC42weeAf7d0/Bp4LNg\n",
              "GAqGrjUHr+ZwFghqrfcD/2h+DAL36XSfdtvbhbmWfVpud3iO3piEdYnMBQQSgHpNoeU/YJQLIkQM\n",
              "OHz4ME888QTFxcVYLBa2bt3K+vXrefjhh8nLyyMnJ4fbbrsNq9XK/fffz1133YWiKKxZs6bdiM+B\n",
              "yjAMDp0KHm5aws/gYYDqaw4nntbA0vwvEFhatmttg44XRQ3vTdMwAK8Nw2vDaEoCj9V/22v1b/dZ\n",
              "AjUsSktNi6p33qYYzdvb96sJpTbGMBTwWjF8VvBaMHxW//l9lnbb8FoYyNPsKQM9PfYTCUC9pEgN\n",
              "kBARM3XqVDZv3txp+0svvdRp27Jly1i2bFl/FCti9h5z8qs/Ho52MXqm6CjWJhRbkH9xTShWlz/g\n",
              "hBhiDIPmkGDB8NrAZUf3WQLb8Gn+n3rL/eZ9PTZ/4PDawGehyyYqIS6BBKBeank5SvwRQvSkdICt\n",
              "O6XYGlBTLqLaa9uFHKyuLpuYDF3FcMdDQwp6Szjx+mtC/LUfzbe9rbfxWZHwIgYaCUC91FKVKAFI\n",
              "CBHM1j3n2L6/mHV3XcOHn0R3qH4g8CRf9P+Maz8c29AVDHc8Rm06hjsBwx3X/DM+8A+vhJlwvPiw\n",
              "f26qr/7k7SiXRHQkAai3pAlMCNGNvLdPAHC+vL7T3Dd9TbE1dgg8jYHHDK8V38VsfLUZ6HVpGK54\n",
              "8NqQcBM53/r8tMDtG2bl8ta+onaPZ6cnMGZYCu9/XNpvZVp4ZW6/nWugkwDUS6q0gQkhQqD3x5ck\n",
              "RUdNK0NLc3YTeNLRazIxGpMY6GHnljmjup18sSfTLsvsstN5Wy21NP/3ye349N7/nWxWlefv/1S7\n",
              "bV+6cUK7ANRyTqBTAFqxaBxxNo3f/P1YSOdbvXQiC68YDsDLf/uEfx44H3TG7Ns/NZY7Pz3VlMv5\n",
              "BDNwu6kPGv43kH55cxNCDFp9+haherEMPU3c9H8SN/4jLFnFKJoX30UH7rOTaDo0l6Z9i3CfuAJf\n",
              "6WiMxmQGevgBmDii+7XdRjqS2t3PTk9od3/muMywzjd/+rCw9u/KddN6d5wxOSmMHpoS8v6jh7aO\n",
              "gJwyxj9D+rVTshk7vP0xxg1P7VW5Yo3UAPWSjCYUQnSkGwaqorT7YtQXX5IUWyNa9lksWUUoFi+G\n",
              "T8NbOhKvczhGQwqDIeS0ddctk9n016OB+1PGZPD4165l7a/fD7r/v3/5Sr6+/p3A/Ue/ejUYsPto\n",
              "KVdPdhBn1di8rSDk86+6cSILZuZwsriG//5H8Oel2K2MGZbCgS7malKAlYsndHueX95zXdDtP7zr\n",
              "aqyaSnaGHYAff/1aMpLj2XmohBGOJOobPQxJSyA9KY5DpyqYMCINt9dHdro9cIyrJmbx+NeuxZGe\n",
              "gM9nUFnbhMdnoKkKQzPsQc9rVhKAeinQCVoqgIQQwBvvn2XLjpN8/TNT+M/XjwS2P755b8TOodhr\n",
              "sAw9jZZxAUU1MNw2PIXj8ZaNAJ8tYufpb/OmDWsXgBTF/6GdkRLHxQ7LgwBYLRqOtATKqvxNfXFW\n",
              "/wR/C2bkXNL5VVVh9NAU0pLiugxAy28YT0lFPQdOVjA0w45hGIEFXQEuH5OBqnYfPJMSrEG352Z1\n",
              "rNHyB5aW5q22rrk8O+gxWn5nAKpFwZEuoacrEoB6KdAFSBKQEAL/AslAu/ATGQZqark/+KT61wbT\n",
              "G5LwXBiNryLHP6PwIPbFheMAGDMsmdMltdjbrK340MpZPPR8PnE2jS8tnsD/vHWcf5kzCoB7vzCd\n",
              "H7+yL6zmqwUzcqiqc5GeksCIrM4BIS0pjhuuzOWtva19dh684wr2fFLG7EkO3B6dmnoPy64ZCcDf\n",
              "d59rXnH+LJ+Z1/MC2x0nIlzz2amcj8Aq8yI8EoB6q2UUGPD6ztM0uLysuGF8VIskhIiOsr6Y50fx\n",
              "oWWWYBl6BtXuny3aV52J98Jo9OohdNXMNXFEGscKqyJfnjasFrXdSuXXTR9GQWEVZW1qRIK5dkp2\n",
              "YPX4Fi1hYlS2PwBZtNbrykpLaNdp+Lo2YWdYZiIb7p3fY1m/uHAcv9vuH5H3lZsm+Y/bzbpvX1oy\n",
              "gZnjhvCzvI8AmDQqnUmj0gGwaGrgGG2P95WbJvdYjmCunOjgykt6puiNwf2VYQBQ2ySgP+483W5t\n",
              "HyGEufwogs1cAEpCLfEz/ontssMo8fV4y3NoOjwX97HZ6NVZdNfHpz/6J9587ah296+amMUNIQyz\n",
              "vr5DE9Vn5o0O3J41MQuAG68e2fsCAjfOHgHA5ObwElY/mMHVhUqESWqAeqv5BSKjwIQwp0aXF4CE\n",
              "OAu1DZ7IHVjzYBu/H8XmwlMyGu+F0eCJD/npPfVDaev2ReNZMiuHjX85yoeflAXdp2MH5TWfncaV\n",
              "E7P4087TAPzL3NFMHzsEgHlT/avZx8dZcLl9qIqCqkJdo5c4q4o93soz9y0g3qZRVeciI6X1uqaO\n",
              "yeSZ++Zjjw/eTyZcyxeN4zPzRmOPt/Kr7yzAagn9e7/UEMQ2CUC9JKPAhDCv7fuL2bzVP1fL0/f1\n",
              "3AwTOgPbZYdQ4xvwnB+Dt2hi2EfISksAKkPbNz0Bq0XDqnX9kd9xCHVGShwAaUk2qurcZKW1hpi2\n",
              "4SWhTV+e9GStzT6W5uN0DnWRCj/g72/Tcrx4W5gfefIGH9MkAPWSrAYvhHm9+WFrk7ezqvt+L+Gw\n",
              "DDuNll6GryYDb9Gl9SlcdeME0pPjmD3JwfrffkRygrXLFed7+pj/0pIJZGfYmTUhi30F/uU8Wuae\n",
              "efhLs3j/SClzm2t9Ykmk489dt0wmNXHwjtKLNRKAeqm43P+G8vp7p6NcEiFENNV0mHX3UqkpFVhy\n",
              "CzDccbhPzOBSGmI+PXc0mqoGRiT9bM08oOv1qFpHJQX/JtfSr+fuz03r9Jgj3c5nrut55NNgFOkK\n",
              "oHm9nCBRRJY0cfbSx2f8Vcz7j5dHuSRCiGj6xe8P9voYiq0R29iPwFBwHb8CvHGXdJxQ+/9MGumf\n",
              "aXnWRAcA18/sPN9MevKllSEWjGieaTqUjt1i8JEaICGEuERujy9yB1N0bOM+QrF6cJ+5HKO++2Ug\n",
              "utNT/vn1dz/V3DFZQdcNHBl2nM5aJoxI44UHF/KvT24H4N7bpzNtbHjLScQSe7yVFx5cGFaHcjF4\n",
              "SA2QEEJcooogsxNfKuvIo6hJ1XjLc/CVjejVsTJTux8t1hJ+oHNtkaoqgZFSyXYbqsk7Akv4iV1S\n",
              "AySEEFGmDSnGkl2I3pCM58wUuup+++WlE5k4Mo1T52sCQ9KXXj2C9KQ4ku02hqTFU1xez7WXB++Q\n",
              "/Oj/mY2zqqnHD/XH/vUaCgqruCwn9AU5hRhsJAAJIUQUKfYarKOPYHgtuI9fAboWdL8FM4bxqeY1\n",
              "oYZlJgYC0PJF7UeJjc/tuulsZHYyI7OTu3y8RVZaQvMweiFilwQgIYSIFs2Dbdx+FFXHdWImhqu7\n",
              "WYrb19pcOyWb6rrIjDwTwowkAAkhRFQY2MYeRI1vxFM8Fr3KEXSv1EQb1UGG2H/t01P6uoBCxLSY\n",
              "7ARdUFDA4sWLeeWVVzo9tmjRIlauXMnq1atZvXo1paWlQY4ghBB9y5JzEi3N6V/YtHhcj/ubvC+y\n",
              "EBEXczVADQ0NrFu3jjlz5nS5z8aNG0lMTOzHUgkheqO+vp6HHnqI6upqPB4Pa9asISsri0cffRSA\n",
              "iRMn8oMf/CC6hQyDmurEMvwEuise98kZdNXpef035/LD33zYv4UTwiRirgbIZrOxceNGHI7g1cnR\n",
              "cOFiA6/98yRenx7toggxKP3hD39gzJgxbN68mV/+8pf86Ec/4kc/+hFr167lt7/9LXV1dbzzzjv9\n",
              "WibjEte/UWwN2MYeBEPBfeIK8Ha9NEJGSnxgnR2pABIismIuAFksFuLju58D45FHHuGOO+5g/fr1\n",
              "l/wmFo7HN+/lL7vOsvtjaW4T4lKkp6dTVVUFQE1NDWlpaRQXFzN9+nQAFi5cSH5+fr+Wye25hC80\n",
              "ig/b+I9QLB7mZ96IUZ/aaZf/t2oW100fxhcX+pvFAu9Q0gYmRETFXBNYT+655x7mz59Pamoqa9as\n",
              "YevWrSxbtqzL/dPT7VgswYeldiUrq/0w07pGDwCqRev02GAXa9cTCjNeM0T3um+55RZee+01lixZ\n",
              "Qk1NDc899xw//OEPA49nZmbidDqjVr5QWXJOoSbW4HUO545FN/CPrf61uV58eFFgna7xuWnthrK3\n",
              "fEeT+CNEZJkuAN12222B2wsWLKCgoKDbAFRZ2RD2OYqKq4izdQ5NdXUunM7asI83UGVlJcfU9YTC\n",
              "jNcMoV13XwakP/3pT+Tk5LBp0yY++eQT1qxZQ3Jy6/lCqckN58tMKNfS5PKGdKxWBtqQYgyvBc/Z\n",
              "y9udo6vbANfNHM7f888wa3J2n/6OJdibhxmvORhTBaDa2lruu+8+nnvuOWw2Gx988AFLly6N+Hmq\n",
              "6104bN3N5yGECMe+ffu47rrrAJg0aRIulwuvtzWAlJaW9tjvL9QvM6GGXJc7vHXA1KQq1LgmvM7h\n",
              "oGs4nbU88Y05WDQVp7OWH3/9WuJtlk7n/tx1o5k9YQijh/Zd+JZgbx7R/jIzkMRcADp8+DBPPPEE\n",
              "xcXFWCwWtm7dyqJFi8jNzWXJkiUsWLCA5cuXExcXx+WXX95t7c+l2n20jE/PHd1pe9/3NhIiNo0a\n",
              "NYoDBw6wdOlSiouLSUxMZPjw4Xz44YdcddVVbNu2jdWrV/dbeVqaq8KhZZYA4KsYFtjWdrbl7PTg\n",
              "X5osmsqYYbIkhRCRFnMBaOrUqWzevLnLx++8807uvPPOiJ0vxW6lpsHTbtsf/nmK62fkkJLY9egO\n",
              "IUToli9fztq1a1m1ahVer5dHH32UrKwsvv/976PrOjNmzGDu3LnRLmY3dLSMCxgeG3pNRqCDsxAi\n",
              "emIuAPU3m1UDPJ22u73hVY8LIbqWmJjIL3/5y07bX3311X4vS3lVY9jPUVMrUKxuvKUjAZVl14yM\n",
              "fMGEEGGJuWHw/e266cOCbi+vaurnkggh+sMPXv4g7OcEa/4SQkSX1AD1UmZK8DmHahrceLw6L//t\n",
              "aOvGfphzSAjRd7w+nfqmMEd/KT609FJ0VwJ6XRo2q3zvFGIgkADUS13NTVZR08Seo6XkH5HJD4WI\n",
              "BfsLnDz92qGwn6emOVE0H97SYYBCelJc5AsnhAibfBXpJaWLBPT77Sc5eray4879UCIhRF94c2/R\n",
              "JT3P0qH5674vzohYmYQQl05qgHqpu0hTUFjVb+UQQvStS1o2R/OgpjnRG5IwGpN58eFFkS+YEOKS\n",
              "SA1QL6WGM9Rd+gAJMWh9ci78LzRaeimKquOrGNZlf0EhRHRIDVAvjcvtvJhhi/JqGQkmRCxoaOo8\n",
              "1UUoWkZ/rfv8Z8myZ0aySEKIXpIA1Etd9QESQsSOu3/xbvhPsrpQUyrQ61LJThoS+UIJIXpFmsB6\n",
              "yaKF/issctb3YUmEEAOJlnEBRQFvRU60iyKECEICUD/aeagk2kUQQvQTS+Z5DAN8FUOjXRQhRBAS\n",
              "gIQQIsKUuAbUpGr0mkzwyrw/QgxEEoAiQFWlH5AQopWWIUtfCDHQSQCKgD/99DPRLoIQYgDRMksw\n",
              "dBVfZXa0iyKE6IIEICGEiCAloRbVXodelQU+a7SLI4ToggyDF0KIIMqqGvnN3z5B18ObwLRl7h+v\n",
              "NH8JMaBJDZAQQgTx6j8KOHq2kmNhLGkzcWQq8Y5S4rU4Fo2/og9LJ4ToLQlA/azR5Y12EYQQIfCF\n",
              "WfMDcOVMKz5LPTOypnLz1Zf1QamEEJEiAaif/WjzXgCq61ydV4sXQgwYR05fDPs55zzHALgyeyZx\n",
              "Vg3ofsFkIUT0SB+gfna+3D8b9NqNu2l0eXnyG3MYkpYQ5VIJIXpPp6DmKEnWRCalj0NTNf7jzqvI\n",
              "SJZ5gIQYiKQGKEpamsJqGy9tkUUhRN8oOFfJV3/ydtjPU1MuUuupY5ZjBprqr/0ZMyyF1CQJQEIM\n",
              "RBKA+pvm4bWCN8DiBsAIv5uBEKIPvfCnw5f0vJbRX1dlz4xkcYQQfUQCUISoIa4KryZW81bRDizZ\n",
              "Z/u4REKIfqP4sA0pIyM+nTGpI6NdGiFECCQARcjM8UNC2k+vS8PQVbT0UgAMpApIiFC8/vrrfOYz\n",
              "n+Fzn/scO3bsoKSkhNWrV7Ny5Uruvfde3G531MqmpjnRFQ9XOmagKvK2KsRgIK/UCAl5pIduQa/O\n",
              "RLXXocTV92WRhIgZlZWVPPvss7z66qs8//zzvPXWW2zYsIGVK1fy6quvMmrUKLZs2RKRcxmX0C5t\n",
              "aW7+mj1U5v4RYrCQABQpYYx1bVkfqKUWSAjRvfz8fObMmUNSUhIOh4N169axe/dubrjhBgAWLlxI\n",
              "fn5+dAqnelHTnCToaeQkDo1OGYQQYYvJAFRQUMDixYt55ZVXOj22a9cubr/9dpYvX86zzz4bsXNe\n",
              "NdER8r6+KgeGoaBlSAASIhRFRUU0NTXxjW98g5UrV5Kfn09jYyM2mw2AzMxMnE5nRM6lhNifr4WW\n",
              "UYqi6swfdVXYzxVCRE/MzQPU0NDAunXrmDNnTtDHH3vsMTZt2kR2djarVq1i6dKljBs3rtfnveby\n",
              "bC7LSeGh50P4Fuq1odemo6VcpNZTA6T2+vxCxLqqqiqeeeYZzp8/z5e//OV2TVWhNFulp9uxWLRu\n",
              "9zl3oYajZ8KbAFHL8Dd//cv0BWQlJYf13IEkK2vwlr03zHjdZrzmYGIuANlsNjZu3MjGjRs7PVZY\n",
              "WEhqairDhvkXKbz++uvJz8+PSAACyApjQkNfZTZaykVO1hYwkxEROb8QsSozM5MrrrgCi8XCyJEj\n",
              "SUxMRNM0mpqaiI+Pp7S0FIej+1rYysqGHs+z5qfbwyuYxYWaWoFel4rWGI+zsTa85w8QWVnJOJ2D\n",
              "s+y9YcbrDuWazRKQYq4JzGKxEB8fH/Qxp9NJRkZG4H5GRkbEqs3DpVf636xP1BVE5fxCDCbXXXcd\n",
              "77//PrquU1lZSUNDA3PnzmXr1q0AbNu2jfnz5/d7ubSMCyiKISu/CzEIxVwNUKSFUm0OrYl55oQs\n",
              "PiroOVQZ7gT0uhSKlLMkpKok2RJ7XdZoMMs3hbbMeM0Q3evOzs5m6dKlfPGLXwTge9/7HtOmTeOh\n",
              "hx4iLy+PnJwcbrvttn4vl5ZRimGA76J0fhZisDFVAHI4HJSXlwfuR6ravG2V4pIrc0MKQOBvBlOT\n",
              "atjxyQdcM+zKkJ4zkEj1sXkMhGrzFStWsGLFinbbXnrppT49Z0/06kz0mgzwBK91FkIMXDHXBNad\n",
              "3Nxc6urqKCoqwuv1sn37dubNmxfRc0wcmRbyvi3D4Q+UH4loGYQQ/cNbMhbv+cj0IRRC9K+YqwE6\n",
              "fPgwTzzxBMXFxVgsFrZu3cqiRYvIzc1lyZIlPProo9x///0A3HzzzYwZMyai5w91SQwAoymJdFsm\n",
              "H1ccw+1zY9NsES2LEEIIIYKLuQA0depUNm/e3OXjs2fPJi8vrx9L1L1xSRP54OIujl4sYEbW1GgX\n",
              "RwghhDAFUzWBDUTjkiYC8JHz0lagFkIIIUT4JAD1gQdWzAx53zd31pIWl8qh8qP4dF8flkoIEWl3\n",
              "3TI52kUQQlwiCUB94PLRGTjSQ5sU8dyFOi6zT6DR28jxqlMAeLwShITobz5dD/s5M8cP6YOSCCH6\n",
              "gwSgPpIYH3r3qvxd/p8HnIf533dO8vX171BSISvFC9Gfjp2rCmv/meOGkBBnwZGWwNKrZTZ3IQab\n",
              "mOsEPRjptekYXisHnEe4kJ8CKBw8WUF1nZsJI9JQVVlgUYi+pus9ryfW1qJZw1EVhZ98I/i6g0KI\n",
              "gU1qgPrInCnhzAyr4qvMotpdg5JYDcDv3j7Bk/+zn7f2FfVNAYUQ7cn3DCFMRQJQH7nhytyw9m+Z\n",
              "FFFLLwWg5bvoyeLqSBZLCCGEEEgA6jNKGBMiAujVQ7Aq1uYAFF5VvBCi/8mrVIjBTQLQQGFoNFVk\n",
              "oCY0oMRLB2gh+psRZqKZPCq9bwoihOgXEoAGkI7NYEKI/hNuFyCLJm+fQgxm8gruQyMcSWHt76vK\n",
              "wtAVtAwJQEL0O+kELYSpSADqQ9+94wqSEqzc/blpoT3BZ0WvzUBNrEGxNfZt4YQQQggTk3mA+lBS\n",
              "gpUN984P6zm+i9loqRWo6aX4Skf3TcGEEEIIk5MaoH5y4+zQZor1VTkwjDbD4WWoiRD9QpE2MCFM\n",
              "RQJQP5k7NcSJET3x6HVpqMmVYHHzwSdlGJKChOhzhgxsF8JUJAD1k3DmBdIrs1EU0NLK+rBEQohL\n",
              "NSQ1PtpFEEL0kvQBGoB8lQ7r6KGOAAAgAElEQVSsI4+hpZfiK89l2weFLL16ZLSLJURMC6UJ7Gdr\n",
              "5mEYBsl2az+USAjRl6QGqJ+E04xluBLRG5JQUytA9ZL39ok+LJkQIlTpyXFkpMRjtWjRLooQopck\n",
              "APWTeFt4b5i+ymwUVUdNLe+jEgkhwnHN5dnRLoIQIoIkAPUTR7qdmeOGhLx/YFbojJbRYAZv7yui\n",
              "rLKhT8onhOieLH0hRGyRANSP7rl9esj7Gg3J6K4Ef0doReeTc1W8sq2Ah//zfd47VNKHpRRiYGpq\n",
              "amLx4sW89tprlJSUsHr1alauXMm9996L2+3u/QlkFLwQpiIBaMBS0CsdKJoPNaWC2obWN/hNfz0a\n",
              "uO3y+Pjl7w/wydlKILy+RkIMJs899xypqakAbNiwgZUrV/Lqq68yatQotmzZEuXSCSEGGwlAA5jv\n",
              "Ys+Lo+75uJQDJyt48n/287fdZ7nrie38/HcH+quIMWlfgZPdH8t6bAPJyZMnOXHiBJ/61KcA2L17\n",
              "NzfccAMACxcuJD8/P4qlE0IMRhKA+tktc0aFvK9el47hsaGll6EbevB92tT4/H77SQAOnaroXSFN\n",
              "7pnXDvGfrx+JdjFEG0888QQPP/xw4H5jYyM2mw2AzMxMnE5ntIomhBikZB6gfqap4XQ0UPBVOrA4\n",
              "iiioON3uEcMwKHLWc/Bk5MOOYRg0unzY4+W/h4i+P/7xj8ycOZMRI4IvJxNqs296uh1LN8PX0yq7\n",
              "X4A4OTmerKzkkM41GMXytXXHjNdtxmsORj7h+lk4M0KDfzSYxVHEe4X7gMsD26vr3Tzy4p4Il87v\n",
              "1X8c5619Ray762qGZyX1yTmECNWOHTsoLCxkx44dXLhwAZvNht1up6mpifj4eEpLS3E4HD0ep7KH\n",
              "EZRV1cED0BcXjuN3208wOisRp7P2kq5hoMvKSo7Za+uOGa87lGs2S0CKuQD0+OOPc+DAARRFYe3a\n",
              "tUyf3jryatGiRQwdOhRN838LXL9+PdnZA3tuD70mE8Mdh+YoxOvMxWhM6fNzvrWvCICCwioJQCLq\n",
              "fvGLXwRuP/300wwfPpz9+/ezdetWbr31VrZt28b8+fP77PzLrhnJ0qtHhP3lRQgxsMVUANqzZw9n\n",
              "z54lLy+PkydPsnbtWvLy8trts3HjRhITE6NUwksYaWuouE9PJW7iXmyXHcL18Rww1H4ZsSvjycRA\n",
              "9a1vfYuHHnqIvLw8cnJyuO2223p9zO5eUxJ+hIg9MRWA8vPzWbx4MQBjx46lurqauro6kpIGdy2G\n",
              "Xp2FtywXi6MIS85JvMXje3W8gsIqCsvquOHK3AiVUIj+8a1vfStw+6WXXurz82WmxPX5OYQQ0RFT\n",
              "o8DKy8tJT2+drTUjI6PT6JBHHnmEO+64g/Xr10dlzpy5U4de0vM85yahu+KxDDuFYq/uVRl+8t/7\n",
              "+O9/FNDk9na7X6i/Hq9P58iZi/j04CPVhBisEhNk0VMhYlVM1QB11DHg3HPPPcyfP5/U1FTWrFnD\n",
              "1q1bWbZsWbfH6GnkSItQO41dcucy3YLn9FTiJn2I7bJDfPvZZLrLr6GcJzMzCXt812/wtS5vj8fJ\n",
              "ykpm0+uH+eM7J7nzlsu5fVHvaqcGkq6u3SwdBDsy63ULIWJTTAUgh8NBeXnr4qFlZWVkZWUF7rft\n",
              "J7BgwQIKCgp6DEA9jRyB/htJoNcMwVs6Akt2IZbhJ/AWTehy35IL1Vi01oBUXtXIhcoGpo7JDGx7\n",
              "e/fZbhd4fP2fp1h6ZS4JccH/m7Rc976j/kkDDxwr4/ppl1bDNRAF+5uacdQIyMgRIUTsiakmsHnz\n",
              "5rF161YAjhw5gsPhCPT/qa2t5a677gqsGfTBBx8wfvzgq63wFE5Eb0rwN4UlVnW539d+uoPqOlfg\n",
              "/oPP5/NU3gHqGj2BbRdrmno8X2Wti9/8/ROKyup6V3AhBiMZCSBEzIqpADRr1iymTJnCihUreOyx\n",
              "x3jkkUd47bXX+Mc//kFycjILFixg+fLlrFixgoyMjB5rfwYk3YLn9DQUBWyXHQLF1+Wu337mvU7b\n",
              "3J72+zc0edl7rIyzF4J/u9+xv5h3PjrP9/toziEhBoq247zirD03ewshBreYagIDeOCBB9rdnzRp\n",
              "UuD2nXfeyZ133tnfRYo4vTYD74VRWIaexZJ7HG/hpJ6f1KxtDdDvd5zk9ztOBu6/+PCiTvsfL+pd\n",
              "h2shBou2lT2TR6Xz0YnyLvcVQgx+MVUDZCaeognoTXYsQ8+gJlWG/LwiZ3hNWUaE2gB2HizhwsWe\n",
              "+1PFgo1/PsJLbxyNdjGEEEJ0QwLQYKVreE5NA8B62SFQgzeFnSut5c0PC/u0KOd66B9UXF7Pi28c\n",
              "Ze2v3+/TcgwU+UdKefdgCaVdBL6Pjpdzzy/fpayq+7WnRP+SqQ6FMBcJQFG0/ptze/V8vS4d74XR\n",
              "qPENWHMLgu7z6Esf8Oqbx0M6XrBO0eFOlVRW2cBj//Uh7x0qYcf+YgAamjw9PKszr0/nzIWaqMzV\n",
              "FCldBZznXz9MXaOH7c1LjoiBZ9plGQBcMSGrhz2FEINVzPUBGgx+8o05aIpCRkp8r4/lLRqPlubE\n",
              "MvQsvsps9NqMbvf/47unu3zsgV/t6tQPSNc7BxBdN/jLrjPcOHcM8W0itGEY5L19glPnazh1vgaA\n",
              "aZdltntuZa2L9OSeZ9d99c3j7NhfzNc+fTnXTmkdWu9y+4izDe4OqkpzXcMgznYx71NXDGf8iDRy\n",
              "hkRv2RwhRN+SGqAocKQlkJna+/ADgKHhPjUNwwDrmEOgdj+7c3l1z0Pf2yourw/cPnaukuo6F/uP\n",
              "l/PHnae57+fvdNq/45pJbq+PQ6cuBu6HuoL9h5+UAXC8uLUT9sdnLvJvT73Dtg/Cb9Irqajn8c17\n",
              "Od/mevpalwFH2loGPEVRyM1KQpU1wISIWRKAYoBRn4a35DLU+EasI4712XmeeHU/33n2PRpc/iYt\n",
              "t8dHTYM78Hij29fps73J7eMvu84E7rcdhdadlqavtsu+7mmecPHvu8+GXOaaBjfF5fW8sq2AE8XV\n",
              "vPz3T0J+bl9Rmy9JaoAGGAk7QpiKBKAY4S0eh96QhCW7EDWl74bvGga889H51vN6W9f/anJ7O9Vu\n",
              "eLyXtj5YSzh4a19Rp1qbqjp3p/mMunLfhp38xwu7W5vywggdHm9o5+ha91VAkRphJ4QQInwSgGKF\n",
              "ofqbwnQF65jDPTaF9UZL/x7w9xtqLUPn1p3CS5xBum00+N4Lu9E7VJcUh9mU1fL8cELH19d3buKL\n",
              "KMk/QggRNRKAoiwhzt+hd+3qK7FZevfnMBpS/U1hcU1YRx8BJfzal1CWx+jy/NCpGeG//9F5dJrX\n",
              "p/Nff/+EMxdag1SRs45GV9vQ1j4dbN9X3O7+U3kfhVW2jn2T+kNXTVwtJXlzb8+jwOoaPby9r+iS\n",
              "a9LCMZhH3AkhRLgkAEXZL++Zz38+cD3jhqfy1Vsm9/p43vNj0etTsAwpIW7aTtS0MsKpamhXoxOm\n",
              "izVNIfXv/eCTMnZ8dJ4fvvwhAFV1Lr6/aQ8P/GpXoE9Rx8/ilv4/LeqbOtdwvXvgPOdKgy/pEShX\n",
              "kF+FrhuUV0d+Th6vL3hoCSeLbfrLx7yyrYCte86Fff5iZ12PUxA0urwcOX2RDVsO8t3nLv1vHws0\n",
              "VfoACWEmEoCizKKpWC3+WqAJI9J6f0BDxfXJbLwXRqHENRI3YR+2iR+ixPf9Yqb1Td6QPtyPnm0/\n",
              "c3V1nT/0NLq83LdhJ9A5p/Q0g3VlrYuX/vYJj770Qbf7tT1uQWEVpZUN/PrPR3jwuXxOl9R0+bxQ\n",
              "VNe7ef/jC4H7XdXahFMb1TLJZFll8IDm0/WgNTd7j5XxH5v2dDv5pK4brPn5P/lZ3kd8dKKcizWu\n",
              "Lvc1g2S7NdpFEEL0IwlAA0haUhwvPLSw9wfyWfGcm4zr0Dx81ZloqRXETXsP68iPQXP3/Pw+tvNg\n",
              "Sbv7QfNAh8/0RpePfx5o/7zaNiPQ2naKvnCxgRf/erRd7YfSYeRVdb2bn/z3Pv7ff77PnqP+Ifdn\n",
              "ehmAnnx1H79+/eOuLuGStJS70d25xsswDP7vkzv4WZDmwGf/cBiAmgYPzi4mZOxuSoDi8nr+9v5Z\n",
              "aRYTQsQsCUADjKooXD8zJyLHMpqScB+7ClfBLAxXApah54if8S6a4xzQN31KWsJEqL76k7eD1tqE\n",
              "0ln5gV/t4uT56k41N0//70F2Hirhr/mtw+U71rp8++mdIZXvu7/a1Wno/snz1VTW+mtLfHrr77Gk\n",
              "ov3SFxv//DHVdS50w6DR5cXr0zldUhPyVABAoFZm7zFnp8d8zSPbPj7T/VpwDz2fH5hXKVT/8cJu\n",
              "fr/jJAWFVWE9TwghBguZCXoAumJ8Vruh5r2joFc5cFUPwZJ9FkvOSWyjP0Z3nMNzbjJ6TWbPh4iC\n",
              "UCoePF6dH/3XXgCunZId2N4SMJrcrbVCrTVERpf9hIKdsqKmidffO831M3L433dOcffyKwLnXL10\n",
              "Ipu3HuOhlVew/3jwqQe2fVjImZJajp6tJCFOo9HVeWi9bhi43D4S4kJ/OTqrGvn77tZ+QUXOOnKz\n",
              "krrc/8NjZVw1yRG4//jmvUFrlTpqcPXdaEIhhIgmqQEagCxaa23Fk/82JzIHNVS8F8bQdHA+3rJc\n",
              "lIQ64iZ9gG3cPpS4gbVK+993nwt71NP7R1o7SbfM+bP/eGutycnmofuGAT/avDesY7/5YRHP/OEw\n",
              "H50o5+W/HAls37LjJOCfILKr2ak/Ol4e6PMULPwA/OSVfaz5+T+pqG4KaX6jV7Yd46Hn89m+v3Vk\n",
              "3Pc3+WfYrm1wc/ZC54C352gZJ4r8s2ofPFnBieJqip39Nyu2EEIMNFIDNABNGpnO9TNzuPbybDIj\n",
              "sF5YO944PGem4i0bgXXUJ2gZZahpTrylo/E5czGaor/20e+2n+jV81tGiFXVde7vdCZIOGjx+s7T\n",
              "XHt5dtDHWlZ233mgbc1cz9VUHZvFgjnRvNzHd5/bRYrdyi/umR90P5fHR5xV4+0OUwK0de+Grpv2\n",
              "Hn9lL1dNzOLDIM1pXQm2FpwQQsQCCUADkKoq3LlsUp+ew2hIxX30arSMC1hGHMM67DTWYafRG5Lw\n",
              "VTrwVWVj1KdgpoWraho83P2Ld0Pevy/6B9c0tPYP6jiM/rV3TnHH4vFdPrerYfdthRN+wN+Z+vPX\n",
              "X8ZXPjMtrOf1hSeffJK9e/fi9Xr5+te/zrRp03jwwQfx+XxkZWXx05/+FJvNFu1iCiEGCQlApqbg\n",
              "uzgMX5UDLaMELb0MNbUc6/BTWIefQnfFo1c6mleZT0daTNtr28foUv3u7eC1XSUV9fz7xt3ttnXV\n",
              "d6nF1366o9flMQyjU4fx/33nVNQD0Pvvv8/x48fJy8ujsrKSz372s8yZM4eVK1dy00038dRTT7Fl\n",
              "yxZWrlwZ1XIKIQYPCUACdA1feS6+8lxQvaip5WjpZWhpZViGnsMy9ByG14qvMssfhmqGgK5Fu9Qx\n",
              "4e9BJjjcebAk6EixY4VVfd4kde+GnYxwdN2ZOlpmz57N9OnTAUhJSaGxsZHdu3fzgx/8AICFCxfy\n",
              "4osvSgASQoRMApBoT7egVw5FrxyKR9FRky/6w1B6KZas81iyzmP4VPTqLPS6NPTGJIzGJAx3PGZq\n",
              "LutLL75xlC8uHBf0sX/f2PXEhpFQ1+jpNFHlQKBpGna7HYAtW7awYMECdu7cGWjyyszMxOkMr3mv\n",
              "I5nySAhzkQAkumao6DVD0GuG4Dk7GSWxGi291B+IMkrRMlpHXhleSyAMtf2JJw4JRuErqwzeebq0\n",
              "ixmhzeLNN99ky5YtvPjii9x4442B7aFM2Jiebsdi6brmsqlNF6qsrORelXMwMuM1gzmv24zXHIwE\n",
              "oEFkwYxhpCbG8eddZwBYfeME3t5f3E/DmRWM+jS89Wl4iyaixNWj2GtRE+pQEupQE+pQE6tRkttP\n",
              "nGd4regNzbVELjuGOw7D0/zPHd/clCYBqaMdEZsHKjLKKhui/ld69913ef7553nhhRdITk7GbrfT\n",
              "1NREfHw8paWlOByObp9f2UWobHHxYuvryOnsvr9VrMnKSjbdNYM5rzuUazZLQJIANAj8y9zRfHK2\n",
              "kjuXTUJRFNJT4jAMWHjFcBbOyuVnv93PkR5mA440w5WI4UpEb3taRUeJr28XipSEWtTkSpSU4OUz\n",
              "fFqbQBQHnjYByWMDnwVD18CnNf+0SGiKghJnPTnpEZ6SIQy1tbU8+eSTvPzyy6Sl+dfMmzt3Llu3\n",
              "buXWW29l27ZtzJ8ffPoAIYQIRgLQIPC5BZe1u/+pmcPb3f/SjRN58a9HA/PJRI2hYjQm42vs8O1B\n",
              "8aEk1KPYGlFsLhRr87+2t5Mqw1ol3fCpoGsYugV8mv+2z4LhsbXWLjWHKsMTj+GJk47bg9gbb7xB\n",
              "ZWUl9913X2DbT37yE773ve+Rl5dHTk4Ot912W0TOddOc0RE5jhBiYJMAFAOGZthZu/pKvvqTt6Nd\n",
              "lOAMDaMhBaMhpbudwNohHFncoPlQVB+oPtC8/tuaD0X1gubfrthc/tFravf9QAyvJRCOAjVOugaK\n",
              "AYoOioGiGM33W7eB0f4xjDYVUM3nVNqcO3DbABTwWgM1Wu1qt5rvYwz8YHbqfHVUa4CWL1/O8uXL\n",
              "O21/6aWXolAaIUQsiLkA9Pjjj3PgwAEURWHt2rWBobMAu3bt4qmnnkLTNBYsWMCaNWuiWNLIu3/F\n",
              "THYdKuGGK0fw2H99GHQfi6aGNGFe/1PAE++vrbnkQ+goVpc/SNlcKNam1lomW1MgWKkJA2sJCMNr\n",
              "wfA2hyGPzd/Up6tgKP5aNUMJ3G7702i7LeiBu6lSMxRAaT0OLedQWh9v3m7oKi/++TDXTQk+S7YQ\n",
              "QgxGMRWA9uzZw9mzZ8nLy+PkyZOsXbuWvLy8wOOPPfYYmzZtIjs7m1WrVrF06VLGjQs+3HgwmjI6\n",
              "gymjMwB46u55vL2vmL80d5gGuOmakXxh4TjKqxvZtqeQN/cWRamkfcRQMdwJ4E7A6C7jKL5AGELR\n",
              "aQ0CausHf5t/ge0dQ4L/YM2VQC3Boc3tFhY3itXdWrtldTfXdrkD9xWrCyWuIaxmwP7kOTcx2kUQ\n",
              "QoiIiqkAlJ+fz+LFiwEYO3Ys1dXV1NXVkZSURGFhIampqQwbNgyA66+/nvz8/JgKQG2lJcWx9OoR\n",
              "lFc3MmV0Bh+fucin540GYEhqAsuuGcn+406+dONExg1P5Z5fdl4CQlMVUhJtNDR5cYWwSOegYWgY\n",
              "bjuG294/5/PGYXjjMDr2jerE8Icl1QdqmyY4xUAJ3NbbNdG1NssFOVZbSpDHFN2/vblZT2nT3EeH\n",
              "4/ouDg33qoUQYkCLqQBUXl7OlClTAvczMjJwOp0kJSXhdDrJyMho91hhYfAVvGNFYryVr33a//uY\n",
              "N21Yu8cyUuL56TfnBe7fuWwiRWX1jBqazEt/O8ojX5lNblYSiuKfIO6v+We4enI2iQlWgE6BafKo\n",
              "9E4T6KXYre3WthI9UfxhKcgjMkefEEJEVkwFoI5CmRytJz1NntZisM+bcPuS1sVXP3vDhE6Pf/W2\n",
              "6e3ub/reEmrq3IzNTQVAURRe+vMRxuWm8Ub+aT4zfyxzmkOXYRgUnKvkgQ1dLzT6+YXj+MOOEzz4\n",
              "5dn86Z2THD1zMRKXJSLkjhsnDvr/4z1JTLCiKJCaFBftoggh+kFMBSCHw0F5eXngfllZGVlZWUEf\n",
              "C2XiNOh58jQw52RaCjBuRFq76/6Xa0cCMOkLM4D2k8ll2K28+PCidsfouPDmLdf4n//dFTM7nU83\n",
              "DNRedpCpa/SQEKcFljzQVAWPV0dVFSyaisvtw2pRUdXO52lo8hIfp5HtSKG0rAaPV0dTFVRVoarW\n",
              "RbLdhtXSebFY3TAor2pkSFoCCv7atPomD0kJVny6QZPbR7xNo6KmibTEuMC5z5fXk5Jow+31kZWa\n",
              "AIBPN6ioacKnG2SnJ6CpCrphoOsGhgFnLtRiGAaOdDsen47evJ+iKDQ0efH4dOoaPaQm2qiqc5Gd\n",
              "nkCjy3/NFk2hosZFvE3DZlFRFP+x46wabo/OqBHpMT95WmqijZ/+21zGjc5sNymiECI2xVQAmjdv\n",
              "Hk8//TQrVqzgyJEjOBwOkpL8Czvm5uZSV1dHUVERQ4cOZfv27axfvz7KJTa3jquOd6e34Qcgqbn5\n",
              "ri2btbV2L87WdU2fPb71paIqCnFtnpeR0vXwcFVRcKS39jVSFEi2+9evsmgKSQn+0JSd3r4/0qih\n",
              "ncOEqioMzWi/n6YoaM25a8KItB7Ln5roP3fL78Lapnaz47FbWLTOwS5WZaTEo5noeoUws5gKQLNm\n",
              "zWLKlCmsWLECRVF45JFHeO2110hOTmbJkiU8+uij3H///QDcfPPNjBkzJsolFkIIIUQ0xFQAAnjg\n",
              "gQfa3Z80qbVvy+zZs9sNixdCCCGEOUldrxBCCCFMRwKQEEIIIUxHMSIxVlwIIYQQYhCRGiAhhBBC\n",
              "mI4EICGEEEKYjgQgIYQQQpiOBCAhhBBCmI4EICGEEEKYjgQgIYQQQpiOBKBeevzxx1m+fDkrVqzg\n",
              "4MGD0S5On9u9ezfXXnstq1evZvXq1axbty7aRepTBQUFLF68mFdeeQWAkpISVq9ezcqVK7n33ntx\n",
              "u91RLmHf6HjdDz/8MJ/+9KcDf/cdO3ZEt4B9wGyvZZDXsxlez2Z8LYcq5pbC6E979uzh7Nmz5OXl\n",
              "cfLkSdauXWuKpTauvvpqNmzYEO1i9LmGhgbWrVvHnDlzAts2bNjAypUruemmm3jqqafYsmULK1eu\n",
              "jGIpIy/YdQN85zvfYeHChVEqVd8y62sZ5PUcy69nM76WwyE1QL2Qn5/P4sWLARg7dizV1dXU1dVF\n",
              "uVQiUmw2Gxs3bsThcAS27d69mxtuuAGAhQsXkp+fH63i9Zlg1x3r5LUc+8z4ejbjazkcEoB6oby8\n",
              "nPT09MD9jIwMnE5nFEvUP06cOME3vvEN7rjjDt57771oF6fPWCwW4uPj221rbGzEZrMBkJmZGZN/\n",
              "72DXDfDKK6/w5S9/mW9/+9tcvHgxCiXrO2Z9LYO8nmP59WzG13I4pAksgsywqsjo0aO5++67uemm\n",
              "mygsLOTLX/4y27ZtC7yJmIkZ/t4tbr31VtLS0pg8eTK//vWveeaZZ/j+978f7WL1GbP8beX13Mos\n",
              "f3OzvZa7IzVAveBwOCgvLw/cLysrIysrK4ol6nvZ2dncfPPNKIrCyJEjGTJkCKWlpdEuVr+x2+00\n",
              "NTUBUFpaapqq5Tlz5jB58mQAFi1aREFBQZRLFFlmfC2DvJ7N+HqO9ddyOCQA9cK8efPYunUrAEeO\n",
              "HMHhcJCUlBTlUvWt119/nU2bNgHgdDqpqKggOzs7yqXqP3Pnzg38zbdt28b8+fOjXKL+8a1vfYvC\n",
              "wkLA329i/PjxUS5RZJnxtQzyejbj6znWX8vhkNXge2n9+vV8+OGHKIrCI488wqRJk6JdpD5VV1fH\n",
              "Aw88QE1NDR6Ph7vvvpvrr78+2sXqE4cPH+aJJ56guLgYi8VCdnY269ev5+GHH8blcpGTk8OPf/xj\n",
              "rFZrtIsaUcGue9WqVfz6178mISEBu93Oj3/8YzIzM6Nd1Igy22sZ5PUc669ns76WQyUBSAghhBCm\n",
              "I01gQgghhDAdCUBCCCGEMB0JQEIIIYQwHQlAQgghhDAdCUBCCCGEMB0JQEIIIYQwHQlAQgghhDAd\n",
              "CUBCCCGEMB0JQEIIIYQwHQlAQgghhDAdCUBCCCGEMB0JQEIIIYQwHQlAQgghhDAdCUBCCCGEMB1L\n",
              "tAsw0DmdtT3uk55up7KyoR9KM7CY8brNeM0Q2nVnZSX3U2kuTSivZTDn39iM1wzmvO5YeC1HitQA\n",
              "RYDFokW7CFFhxus24zWDua7bTNfawozXDOa8bjNec1ckAAkhBpSCggIWL17MK6+8AkBJSQmrV69m\n",
              "5cqV3HvvvbjdbgBef/11Pv/5z/OFL3yB3//+99EsshBiEJIAJIQYMBoaGli3bh1z5swJbNuwYQMr\n",
              "V67k1VdfZdSoUWzZsoWGhgaeffZZXn75ZTZv3sxvfvMbqqqqolhyIcRgIwFICDFg2Gw2Nm7ciMPh\n",
              "CGzbvXs3N9xwAwALFy4kPz+fAwcOMG3aNJKTk4mPj2fWrFns27cvWsUWQgxC0gm6l5rcXj48WsqI\n",
              "zARURYl2cYQY1CwWCxZL+7elxsZGbDYbAJmZmTidTsrLy8nIyAjsk5GRgdPp7Ney9rXSygbqGjzU\n",
              "N3mYNDKdP+08zRUTstB1gwkj0trtW1JRz+HTF7nm8mxS7Db+/N5p/vDuacYMS2b2pGwqapq4fFQ6\n",
              "mqbyyrZjpCXHYY+zMH/6MJISrLz27mmGZSRQ5Kyj7GIjXp9Okt3KSEcyC2bmcPZCLb996zjDMu1M\n",
              "HJnO2/uKsMdZcKTbuXH2CJLsVs5dqKW0spEDJ8rRVIWSigZyhiSiGwYXKhr46i2Teea1Q3h8OhnJ\n",
              "cYwZlkJdo4dhmXbmT89h+/5idh0uYfTQFI6ereSK8UM4c6GWyloX116eTWWti7TkOBpdXlbfOJFn\n",
              "/nCIsxdaO7ZPyE1FVRWumuTA5fbh9ups+6AQVQGbVWPGuCF4PD7OXKjlfHk9BrBq2STyD55nRHYy\n",
              "LreP/CMXyEiJ42KNC4A4q8aiK4fz0fFybr1uDHlvn2DCiDR2f1zKqKHJVNe5iLdZmDQqneFDEslK\n",
              "S+DwqQpGOJLISkvgyf/Zz9icFE6X1PLZBWOob/Lyjw8KmXZZJhdrmrBZNZLtVk6dr2FEdhIniqpp\n",
              "cvv41BXD2XnwPF6fEbi++dOHYbWoVFQ34Ui3s+twCRaLSlK8lasnO6ip93DgZDkuj//aXW4fAEMz\n",
              "7CTEacybNox/fFDIv942jbHZSX3/H3gQUAzDMHrezbx6Gjnyqz8c4sNjTu66ZTLzpg3rp1INDFlZ\n",
              "ySGPrIkVZrxmCO26Izly5OmnnyY9PZ1Vq1YxZ84c8vPzATh79iwPPfQQX/rSlzh06BBr164F4Oc/\n",
              "/zk5OTksX768y2N6vZuPDa8AACAASURBVL5B1QH00/f/qcvHXvnBMlKT4jrtm5ESz/e+ejXf+cU/\n",
              "I1aOa6YMZfeRC93uMyQ1nvLqpoidU/StP//s1mgXYUCQGqBeOnz6IgCFZXVBH88/coGNf/6YH/3f\n",
              "axiWmdifRRMiJtjtdpqamoiPj6e0tBSHw4HD4aC8vDywT1lZGTNnzuz2OKEOdx4MIbeopBp3WkKn\n",
              "7Rdrmjh5tjKi5+op/AASfgaZ/vwyM5BJH6Beamn16qoe7aU3jgLw3qGe30SEEJ3NnTuXrVu3ArBt\n",
              "2zbmz5/PjBkzOHToEDU1NdTX17Nv3z6uuuqqKJe0/3TX2K7Ku7oQIZEaICHEgHH48GGeeOIJiouL\n",
              "sVgsbN26lfXr1/Pwww+Tl5dHTk4Ot912G1arlfvvv5+77roLRVFYs2YNycnm+NYK3QcgTZW+iEKE\n",
              "IiYDUEFBAd/85jf5yle+wqpVq9o9tmvXLp566ik0TWPBggWsWbOml2fzv9kYBK8Ckh5WQoRu6tSp\n",
              "bN68udP2l156qdO2ZcuWsWzZsv4oVsTsPebkL/lnePCOK0iI87/9PvPaIfYV+DtwpyTa+PHXrg08\n",
              "1pUHn88P3E6xW9s99ovfH4xsoU3DAM2LonmD/PSgaP5OxYZPA58FQ7f4f/ra/8QIpwrO8P9TDFB1\n",
              "/8/m+0rgNq37KM0fKG32AwWMtv9UMBSMlvt0fkz4xVwACjaPSFuPPfYYmzZtIjs7m1WrVrF06VLG\n",
              "jRt3yecL/FfqIejIADEhxLN/OATAvgJnYNBES/gBqKl3s/eYk+umhz6goqbBE9lCRpvqRbXXgsXj\n",
              "DxbeloBh9QeMbuu/2jLA4kaxulBsLv/PNrexulpDjqU14PSWoavN5dVA15qDiz/cKC0hR9FB0VHU\n",
              "/v+GrDckoRsLURVpK425ANQyj8jGjRs7PVZYWEhqairDhvnfXK6//nry8/N7FYBCJTVBQogW8n4A\n",
              "YIDVhWqvRbXXoCbWoNhrUeO776xueNvUunitreFIV9uFHCzubgOGYSjQfCyjyY7uax+0OtbsGD7/\n",
              "x6WieUH1+gNTlzVGzT8tXtAVjJZaGa+1XU2Mrqvt7k8fm8WB4xebC9ih9qbjtpZrAH9tUZug1akm\n",
              "qc12ozFJwk+zmAtAweYRaeF0OjvNHVJYWNir8wU6QQOfnK1kSFo8mSnxGAao0hYvhAjCfLOP6Cjx\n",
              "Da0hx16Daq9Fsbrb7WV4rfiqM9AbUsAT1xwkPGBp2xTlBYsHxdaEklDXqXbd0FUMdxxGfSp44jA8\n",
              "cf77HW7jtRF6bVL/+MotC7j775GbwkB0L+YCUKSlp9u7nTukJeS8tbeIt/YWATB1bCaHT1Yw+/Ls\n",
              "wIszMdEWk0MLY/GaemLGawbzXneoThRXk5Jo40JFPZflpJKU0No351xpbbvOySeKqxk9LIWLNZ2H\n",
              "j2955yTDs/ppygzVi5pa7m9yaqtTP5E23/RaaD4U1Qdqc02I6gu+TfWhaHqnU+tNCei12egNyegN\n",
              "KRgNyRjueMILJYb/+BYPqDqGxxZmM9nAommDs9yDlakCUMe5Q1rmFOlOT3OH6Hrnb3KHT1YA8MHH\n",
              "pYE3vYYG94CfWyRcg2G+lEgz4zVD/0+EOBg9vnlv4Pao7GQe+T+zA/cffemDdvu+e7CEdw+WBD1O\n",
              "Tb2bdb/5sG8KCaB50NKcaOmlqKnOoOGkNwxdBV3D8GkYXhv4NHRdw3DZ/UGnPhm9MRl81p4P1iMF\n",
              "dAuGOzY+ymQEX/+Kjf81IcrNzaWuro6ioiKGDh3K9u3bWb9+fa+OqUjvZiFMr2OT1tnSARaSLS60\n",
              "9DJ/6EmpCPSN0RsT8V7MRq/NCD46qGUEUjC6hqFr4Gv+2Xx7IE4vd+PsEXh8Otv3FUfkePfcPp0N\n",
              "WyI/2s6i9f3vbu1Xru7zcwwWMReAgs0jsmjRInJzc1myZAmPPvoo999/PwA333wzY8aMiXKJhRCD\n",
              "3UDs0aPYGlHTS/2hJ7ky0Byv16fgvZiNrzIboyl21oQammHnwsXgNfYrbhgPEFYAGjMshdMlNZ22\n",
              "z5kylJnjhlxaIQeA9JS4nncyiZgLQF3NI9Ji9uzZ5OXl9WOJhBAxb8AkIB3NUYRlSDFqUvX/b+/O\n",
              "46Oq7v6Bf+6dJclkkkkmmQlJICEEQiAIEhBZRTYL2lZ9tBKRpVXrYx+1VuEnmFqh1SButEVsrYq2\n",
              "jwqkUlTapxYqdcWwI5BAWAJZSEIy2TMks977+2OSSSaZ5c4+mfm+Xy9ezNz13Jncme+c8z3nWJea\n",
              "OxPAtabA3JIC3iALYvmGvqFe6U+TdvcJuwAo0OhviRDC2enVVfS/R7FueT5EAZqbgonphDTrNFh5\n",
              "B3iegbk9CebWFJhb1YAxOiBlCCZffxY7Skge6nk6Q738vhR6jbVDDP0pEULsqajrQENLt/9PxHAQ\n",
              "p19AVN63YOUdMDWlQXfiZhjO3QBzY0ZYBz8LpgzHz+6YgPwcFTJSBifhqxKiccsNI6zP+/fM6+/p\n",
              "5fk2z5+4ZxJ+siQXCXIpkhXRWP/jvoT2O+aMAgAsnDLc6/JHS/t6GN85x5KOscDD4+bnqGye52Yk\n",
              "2N1OFIA8o6GCaoAIIcRLjsb18XfLGBPbBmlWKViZFpw+GobK8eDanfds9ae3n5qHB1/63OH6d9bN\n",
              "x7nqVry4/YR12bjMRJx1MoP9tHFqHD7baLPsjtlZ+OHsvvzNG3LVeOvvZYP2feC28cgZ0RcIbHl8\n",
              "DrbsOoXvLjbZbDdmuG2wcN2oJADA5kdn25S9v2WLcrBsUQ7u3/Qfh2V35vkHb0Ra8uDhDu5blIPx\n",
              "mYl4bffpQeveWTcfz7x9CHVN16zLXvmfmVDGR6OpvdtmVPEZE4ahvLrNul9vOakCqA8FQN6iNjBC\n",
              "Ip6d0TD8izVDnH4B4mGVYBjA1DgCxuqxABfcj3R/fBwaTYO76Qt9ucNxwMmB1+RuT2RLDVD4vS6e\n",
              "oADIS67+9MwB/2QkhARaU5uDpi6ex8kBtQ3eYuOaIckqAxvdBU4ng+FyHrjOJJ+ew1NCvowHxiSu\n",
              "ghSj2U4A5EVgE25BUW+NDiMwIYNlGJqLpQc1BnpLYPD96cFq/5aDEBI0v9p22OG63/tqvBjWBMnI\n",
              "MkSNOwImqgvG+pHQl84KmeDHU/2bqABgytiBuSyJg/bJHDY432dgMxYAJMYLz3+Kkjoe8d+ZJAHd\n",
              "yvvn48THSgEAcplnA0FOzB7wfjNM//+sepvXBr6+cR6eNxxRDVCA2OslQggJb76661mFBpKRZWCj\n",
              "dJCaFOg4Nw78NftJrs48vTwfR8ob8dnRK4PW3Tw5HbMmDMNb/ziDxlbbGq3ZE1PxTc/I1dPHp+D2\n",
              "2VkQiRhwHI99R2rwHzvj6/x4SS7+/Gk5AGD8yET89PvjB21TuHwKVAnR2HOgEgDw3APToE6MQfU0\n",
              "LYp6RtZePC0Dilgptv3fWet+9sbhuen6NAxXyQEGUMZFobPLCHVCzKDtBr4nL/z3dADAyz+biTOV\n",
              "LRg7wr3X9TcP3Iij5Y3Iy1Li5MUmvLfvvHWdQi7F8kVjMXlMsjU36vkHb0RLhw7xMqmg42/4yQ0w\n",
              "czwUPYHTXXOzMSVHjY3vW14fR7/Bs9MUeGblVKT3BEKFK6agW2+CXCZF9zW9W9cYrqgGyEtuzVrD\n",
              "82ho6Qq7KlhCiJ8wZkhGnULU2GNgJHoYa7Px+MRHPQp+ACA7XYHZ16Van0dJRNaaD6mYRXa6Aony\n",
              "wTUaE7L6JpGedV0qUpQyJCtioE6UYVymctD2AHDTpDTr49SkWCjsHHf0cIXNpNHpKjkkYhGy0xXW\n",
              "ZSzLYFa/MgP2m9pYhsHo4QqMTldAGR9tt5ZooGipCCmJlnGR5DESTBuXYreczsREiTFnUhqU8dHI\n",
              "Sou3WZeZEocpY1U21yiPkdjtseZIRkocslLjoeypzRKLWIwe3vf69H4J2XtNRqXFW9/f0ekKa3I3\n",
              "saAAyEvuJKB9faoeT795EP8oqfJjiQghIcPL3zqSjHKIk+vAaRXQl82EqXYMxKxnTTXA4B9sDAO3\n",
              "y+hJonP/XQaeLpjTCYVDHxYa2NBzFAB5qbVTeFVibzLkkQFdOgkhQ9N3F5qcdoN+9h3HuUGusIlX\n",
              "IU6pAdcVB/3ZaeC7LbUG3nzfMQxjUxshFrHge0KS3uNKxIO/FvoHKQO/cIV0q2adbBTo72/bgQD9\n",
              "e/JADjpI3dvdRwFQAPXOHE8BOyHhYcvffD8hJmCZx0uaVQbezMJwcRLAW2p9FLFSpNoZO0aIKInl\n",
              "GGnJsRiXaUksfnLppL5z9gQDD9rJ1QGAn981Efk5KowZobBZfl1PUm5qkqUpafGNGbhn3mgAwLz8\n",
              "dADAD2c5nnPRUe+lH84aiTvm9O23/JYcAMBjd13n8FhC3LtgDOJ7EoEf+GGeV8caqH92w4QsJe7t\n",
              "mYPMHx64bRxmTRiG2GhLKm9vcjVgya0irlESdACdrGgGQKNHE0Kc4SEZdQqM2AjD5TzrhKU/XpJr\n",
              "k1cj1MAB/FiGwf+7d3L/09mIj5Va9+lfu3X9mGRcP2Zw8rFYxNqcozf4AYAVt4zFilvG2u4waBwb\n",
              "++XuHXG51/z84Zif7/3oy8kJMfjdz+eA43ikpMRDo+n0+pj2PLn0er8ct9es61JtcqP619LZ5AgR\n",
              "hygACgaKgAhxC8dxWL9+PS5cuACJRIINGzZAJpPhqaeegtlshkqlwssvvwypVFjPmlAmTquAKL4V\n",
              "5pYUmDXef+ELFqDPpcE5QIE570DOmuVIZKAAKAiqG7TBLgIhQ8r+/fvR2dmJnTt3orq6GkVFRVAq\n",
              "lVi2bBmWLFmCzZs3Y9euXVi2bFmwi+oVVt4KcfpFy7QWlycgEFFJsPukBjMJmkQ2ygEihIS8yspK\n",
              "TJw4EQCQkZGBuro6HDp0CAsWLAAAzJs3DyUlJcEsovdERkiyTwIAjBUTAbPjAesm22mKsmeMG00h\n",
              "9sKQ7HRLt+6UxMHj6XgqWWHpzt07Pk04VcT4aoQTtdKSTzVSQFd+4jmqASKEhLycnBz85S9/wapV\n",
              "q1BVVYWamhp0d3dbm7ySkpKg0WhcHCWU8daBDo212eC0g8fW6T9+2MO35+HkxWbUNl1DapIMb3wy\n",
              "eCLQ9T++AcN6vkidntnJl/aapZNxtaXLrXFrXFEnyrDhJzdAZR2kMIwiICdefHgGxAJnYk9PjsX6\n",
              "H9+AFKV7gefLP5tp7dVHXKMAiBAS8ubOnYvjx4/jvvvuw9ixYzFq1CicP9834q6QwUUTE2UQi4WN\n",
              "oaNSBfaXtyi5FuKkqzB3JsJUm213m7i4aJtypaVaBkM8XWF/rrGp17mXMC2TSe1e9/B0zwZddKb/\n",
              "eUz95voK9Ovu63O2dpscHtfd83hSLqH7BON1DkVhGQBt3LgRJ0+eBMMwKCwstFadA8AHH3yAPXv2\n",
              "gGVZTJgwAb/85S+DWFJCiFBPPPGE9fHChQuRkpICnU6H6OhoNDQ0QK1WO92/tbVL0HlUqji/9Qyy\n",
              "h4nWQpJ5FrxJbGn6cpCZoNXq7Zarvc3+dQm/Bkvw2N1tDOh19+L6TRgd6PP7+r3u/zcWjNdSCCHX\n",
              "HCkBUtjlAB0+fBhVVVUoLi5GUVERioqKrOu0Wi22bduGDz74ADt27EBFRQW+++67IJaWECJEeXk5\n",
              "nn76aQDAV199hfHjx2PmzJnYu3cvAGDfvn2YM2dOMIvoGYaDNPskGJEZhssTwBscN3k4aigSsbYf\n",
              "4/fMG+3WODDBnpknnHKgw+laIkHY1QCVlJRg4cKFAIDs7Gy0t7dDq9VCLpdDIpFAIpGgq6sLMpkM\n",
              "3d3dUChovARCQl1OTg54nsfdd9+NqKgovPLKKxCJRFi7di2Ki4uRlpaGO+64I9jFdJtkxDmwsZ0w\n",
              "NQ4H1zrM4XbXj07GtPEpdteNGjD/1OIbMzwqS7C+vBmGwbzJ6YLm7gp1mSlxmDZOjWnj7L9XJLSE\n",
              "XQDU1NSEvLy+0T2VSiU0Gg3kcjmioqLwyCOPYOHChYiKisJtt92GrCzHI5QSQkIDy7LYtGnToOXv\n",
              "vvtuEErjG6xCA/GwKnDdsTBW5zrd9ud3T3S4ztvxbIJdAwQAK7431vVGQwDLMnj49gnBLgYRKOwC\n",
              "oIH6J0dqtVr86U9/wr/+9S/I5XKsWrUK5eXlyM11/OHjKnFyVLoCl2rb3S5XuLSxhst1uCMSrxmI\n",
              "3Ov2C4kO0lGnwXOMZaoLLvgfxdR8QyJN8O86H1Or1Whq6usV0djYCJVKBQCoqKjAiBEjoFRauphO\n",
              "nToVpaWlTgMgV4mTUXYmDhQiVBPk3BHoZNFQEInXDFDipG/xkI46DUZigKEqF3x3vOtd/FqaEKgC\n",
              "IiQIwi4JetasWdbEyLKyMqjVasjllrl00tPTUVFRAZ1OBwAoLS3FyJEjvTqfwWj2an9CSGQRD6uE\n",
              "SNEMc5sK5oZMnxxz2jjnPeCcmT7ekns0Ko3yIUlkCbsaoPz8fOTl5aGgoAAMw2D9+vXYvXs34uLi\n",
              "sGjRIjzwwANYuXIlRCIRJk+ejKlTp3p1vv4z8BJCiDOMrB3i4efBG6JwV9ad2HG+etA2C6cMx2fH\n",
              "rrh13Ae/Px75OSrkZQ0eQNGVn9yai6W3jEWcNOx+DxPiVNgFQACwZs0am+f9m7gKCgpQUFDgs3Pd\n",
              "OWcUTlywPxCZPYy0G5KMs2jsmgi1TNhw9oSQ8CBOvQyG5aG/PAGLFo/Gjr2DAyBlfLT7xxWxHvc8\n",
              "EotYZA+LzKZdEtko5PeSu4mDTHQXRMpGlNQf8U+BCCGhieEgUjSB00eDa6cfP4QEGwVAAcZpFeA5\n",
              "BudbLwra3mTm8Nu/nsSJC0N5niNCCCtvAyM2gWtTI1LmvyIklIVlE1hI48TgrilQxV6BzqRDtNh5\n",
              "dXfp5RacvtSM05ea8c66+QEqJCHE19gEy48Yc5sK3585EgBwyw0joGnrhlQiQmZKHHQGE/XKIiRA\n",
              "KAAKAq5TCT6uDRfbLmNC8jjnG9NnISFhQaTQgDez4DqUmJFnydcpWDBm0HafHqwKdNEIiUjUBBYE\n",
              "XIelp8b5tgqX29KvQUKGPkbaBVamBdeZBPCikBh9mZBIRzVAQcBpE8GCxYVW1wEQISS0nK9pw7ma\n",
              "NoxOEz6AYf/mL8B5xS7FRoQEBgVAXvLow4oTIS1mOGo6a9Bl7IJMInO4KUPJkoSElE0fHHd7H1FP\n",
              "AMT1BEDOqoCyUi2BVYZajupGrfsFJIQIQk1g3vLw59qI2Ezw4HGh7bKLw9PvQUKGNNYMNr4FXJcc\n",
              "vCEGgPOPjXGZifjN/dPw4PfHB6Z8hEQoCoC85Gl4khk7EgCoGYyQMMfGN4NhOWvzlxDD1XKIRFT7\n",
              "S4g/UQDkJd7DbMZ3dzVABBHOt1WAo4xIQsKWSDGg+QugRB9CQgAFQF7yOHbhWRjaFajV1uPBV/fi\n",
              "4JmrPi0XIcQzL79/FEXvHfXR0XiwCRrwJgk4bYJbezLuDjNPCHELJUF7yZvaG64zCSJFC9i4Fuz+\n",
              "8pJ1VmZCSPB8daLWZ8diYrRgo3QwNQ9D/9+bQj41UhJjMGdiKq4fTdNmEOIPFAAFUe94QKL4FqBt\n",
              "ZHALQwjxub7eX2q392UYBj+51cVAqYQQj1ETmJe8qgG6pgDLi8HGN/uwRISQUMEqNOB5wDxg8lNP\n",
              "cwcJIb5DNUBe8upzjGcRy6nRGVMHjtXZrKq62olvS68iZ4R7eQOEEM81tXdbH5+tbEF0lBhZqfE4\n",
              "fl6DyqudkIjd+M0oMoKNa7Pk/pikNqsUsVIHOxFCAoUCIC95m6cYZ05Fp6gOZpntbO+//vMRAECX\n",
              "3ujdCQgJA9euXcPatWvR3t4Oo9GIRx55BCqVChs2bAAAjB07Fr/+9a+9Ps8v3zpkffzyzu8AAL//\n",
              "+Wxs3X3a7WOJFE1gGB5c++Du7wp5lOeFJIT4RNgFQBs3bsTJkyfBMAwKCwsxceJE67r6+no8+eST\n",
              "MBqNGD9+PH7zm994fb6sYcKHw7cnjrMkPptlTXbXG4ycV8cnJBx89NFHyMrKwurVq9HQ0IBVq1ZB\n",
              "pVJZ7/HVq1fjyy+/xNy5c706j9E0+H7TG8yC958yVoVj5yw/ZgZOf9FLHiPxooSEEF8Jqxygw4cP\n",
              "o6qqCsXFxSgqKkJRUZHN+k2bNuH+++/Hrl27IBKJUFdX5/U5WXZwFdALD00XvH8snwzeLALnIACi\n",
              "TAFCgMTERLS1tQEAOjo6kJCQgNraWusPnHnz5qGkpCSYRQQAjE5X9DziLbO/G6LAd8UFtUyEEPvC\n",
              "KgAqKSnBwoULAQDZ2dlob2+HVmuZS4fjOBw7dgzz588HAKxfvx5paWk+Oe8P5oyyPk5JjEGK0vHc\n",
              "XgMxDAuuUwk+6hpadW2DN6BkSUJw2223oa6uDosWLcLy5cvx1FNPIT6+r/Y1KSkJGo3GyRECi5W3\n",
              "gZEYe2p/aDwfQkJRWDWBNTU1IS8vz/pcqVRCo9FALpejpaUFsbGxeOGFF1BWVoapU6di9erVPjnv\n",
              "Q3dch1MXNKi62ulRjQ3XoYQoQYPzrRW4MXWK7UoaDI0QfPLJJ0hLS8O2bdtQXl6ORx55BHFxfTUr\n",
              "QnpVJSbKIBaL3D53Q6dB8LZyeTQAS+8vYHDzFwDIYiRQqUKvVigUyxQIkXjdkXjN9oRVADRQ/w9F\n",
              "nufR0NCAlStXIj09HQ899BC++OIL3HzzzU6PIfRDc2SqAlVXOyESsW79ccVES2DuSIIEQLWuGt9X\n",
              "2ZYnKqrvLQrFP9pQLJO/BeqaTWYOPM9D4sGXtj8E870+fvw4Zs+eDQDIzc2FXq+HyWSyrm9oaIBa\n",
              "7XysndbWLo/O/cGnZwVve01r6c0pStCA5xhwHUkAgEf/6zp8fqIWrZ16/Oz2PGg0nR6VxV9UqriQ\n",
              "K1MgROJ1C7nmSPlcD6sASK1Wo6mpL5emsbERKpXlF1hiYiLS0tKQkZEBAJgxYwYuXLjgMgAS8qGp\n",
              "UsVBb7D01jKbOLduKL3eCL4rDrxJgmPVZ3A1sx0itq9lUq/r6wUWajcqfXj41yO//RLdejPeWTc/\n",
              "IOdzJtgfmpmZmTh58iS+973voba2FrGxsUhPT8fRo0cxdepU7Nu3DytWrPDb+QVjGECiAxvbCXN7\n",
              "EsBZPmLzc1TIzxE+GSohxP/CKgdo1qxZ2Lt3LwCgrKwMarUacrkcACAWizFixAhUVlZa12dlZfns\n",
              "3LkZiQCAyTmDh61fOn+0kz0ZAAy4jkR0mtvx0O/+iSPljda1lAIUubr1wnsfhbulS5eitrYWy5cv\n",
              "x+rVq7FhwwYUFhZi8+bNKCgoQEZGBmbOnBnsYgLoN/qzne7vhJDQEVY1QPn5+cjLy0NBQQEYhsH6\n",
              "9euxe/duxMXFYdGiRSgsLMS6devA8zxycnKsCdG+MHtiKjJT4jBcHTtoXW9wZE9vio+5UwmRshFs\n",
              "fAv+ebDKuv7Y+dBJ7CQkWGJjY/H73/9+0PLt27f7/dxXW9xrOrMGQK0UABESysIqAAKANWvW2DzP\n",
              "zc21Ps7MzMSOHTv8cl6WYZA5rK8J4FerpuK5v1hmlOadpEY39Hy49uYKsPEtgGepCoSQIMtIkYFt\n",
              "awbXLQOnH/xjiBASOsKqCSyUZKX2ddGViBy/zOXVlq7vfLccvFEKUXyz04CJEBK6+NhmMCIzNX8R\n",
              "MgSEXQ1QKHlm5VScrWpBukouYGsG5g4lxElXYRZr/V42QojvlTZbeoyZPZj9nRASWBQA+dGotHiM\n",
              "ShM+VQbXqQSSrsIYpQFAvyAJGVp4lDaXW0Z273Sc90cICQ3UBBZCuA4lAMAQ3ehiS0JIqImJ16Gp\n",
              "uxlcezLAs4iJCo3xmwgh9lEAFEJ4XSx4QxR0kgbQLGCEDC3z5koBANenjMeqxWOxdlk+AOC/bhrl\n",
              "bDdCSJBQE1hIYWDuVEKcVA8m+hp4nW3u0OX6DpvkakJIaJgyVoVag2Uy1nunzYYiytIjNBQGsSSE\n",
              "2Ec1QCGmtxmMjW8etK63W70zpZea8erOE9AbaRA9QgKFgwEX2y4hIy7dGvwQQkIbBUAhpnc8IFF8\n",
              "i0f7b/7rSZRVtuLYOcojIiRQronrwfEc8pLGBbsohBCBKAAKMbw+Bpw+GmxcC7zJA/L3FBpGkxkc\n",
              "R3lKJHy0duo93lestNTYTkjOdbElISRUUAAUchhwnUowEiOYmNAdD+i/X/kSj2/+ItjFIMRnuvpN\n",
              "POweHs18NeIkcmTEDfdpmQgh/kMBUAhylgcUSirrO4JdBNKPpq3bZiJd4h6zhzWajKwDHYZOjE8a\n",
              "C5ahj1RChgq6W0OQt3lAJDKtfaMEf/y41O3JO4mFpwFQ7+SnE5Ip/4eQoYQCoBDEG2LA6WK8zgMi\n",
              "kemax005kc3TnDZRggYsw2KccoyPS0QI8ScKgEIU15EERmwCI6NmJkICQZ0Y4/5OYj2Y2HZkK0Yi\n",
              "RuzB/oSQoKEAKEAWTLEkR0ZJhA2Pz3Va8oCoGYyQwBCxjPv7JDSBYYC8JOr9RchQQwFQgCxbOAa/\n",
              "fWw2Rg9XCNrebE2EFh4A8W72ff/Dx6XYc+CyW/sQQvqwCsr/IWSoogAoQBiGgSJWCsG/MY3R4Lpl\n",
              "PXlAnKBdDCZh2/U6Wt6Ij7+mAIgQC/drgBiJAVyXHMNkaj+UhxDiT2EXAG3cuBFLly5FQUEBTp06\n",
              "ZXebV199FStWrAhwyXq48RnLdSaBEZnBxNrPA/rqZB3WvvEtuvUmy4IA5Uu7W9NESLgynM+H/sx0\n",
              "MIz7wRMhJLjCKgA6fPgwqqqqUFxcjKKiIhQVFQ3a5uLFizhy5EgQSmfBuBEB9Y4HJBowHlBt0zV0\n",
              "dBnw50/LoWnTobyqFQDAU48xQjzmUQzDiTFzPA1+SMhQFFazwZeUlGDhwoUAgOzsbLS3t0Or1UIu\n",
              "75tVfdOmTXjiiSewdevWYBVTMJs8oPpsyzKOw6/ePmR3+0BVzFCYRQLtww8/xJ49e6zPS0tLsWPH\n",
              "DmzYsAEAMHbsWPz6178OStlYD5KnCSHBF1Y1QE1NTUhMTLQ+VyqV0Gg01ue7d+/GtGnTkJ6eHozi\n",
              "uc8UBa5LDlbeZfUOBAAAIABJREFUBjCW/B6zWVj4Qa1UJJz86Ec/wnvvvYf33nsPjz32GO644w4U\n",
              "FRWhsLAQO3fuhFarxZdffhmUslGTMCFDU1jVAA3U/4Opra0Nu3fvxrvvvouGhgbBx0hMlEEsdt11\n",
              "XaWKE3S8qCj3XnKuUwmxrBpsbDs4baLd88QrYqBSxdnMZRQXFy24TG06Ez79thI/u2sSJGLXMXH/\n",
              "EXOFniOcBPqa3T1fYoLML2UMlff69ddfxwsvvIDly5dj4sSJAIB58+ahpKQEc+fODXLpCCFDRVgF\n",
              "QGq1Gk1NTdbnjY2NUKlUAICDBw+ipaUF9913HwwGA6qrq7Fx40YUFhY6PWZrq+tpBVSqOGg0nYLK\n",
              "aDCYBG3Xy9yhhDilGmx8Mzhtot3zdLR3Q6PpRJeu79idnbpB2za2dmHn/otYtnAMkhP6Bm178ndf\n",
              "AQAy1bGYOSHVdZm4vt5mQq87XLjzXvuKu+drbeuCRibxaRmEXHcgAqRTp04hNTUVIpEI8fHx1uVJ\n",
              "SUk2tb0BRRVAhAxJYRUAzZo1C6+99hoKCgpQVlYGtVptzf9ZvHgxFi9eDAC4cuUKnn76aZfBjz+4\n",
              "my3AdSjBcwxEybUw1WfhUp2zkaGdfxL/+dNylFe3ged5PP6jSYPWu9uNnpBA27VrF+68885By4U0\n",
              "Q7mqzbX2pnSTNEocMrVj3giHa/BEJF53JF6zPWEVAOXn5yMvLw8FBQVgGAbr16/H7t27ERcXh0WL\n",
              "FgW7eADgfndZsxSmhkxIUishTruEl3bY+QDvOaSrqYyMZkuAYzI7CHQE/pKllAcSLIcOHcIzzzwD\n",
              "hmHQ1tZmXd7Q0AC12vlYPK5qc3Vu1s5a99MZh3xNaDBqNkNBJF53qNTmhoKwCoAAYM2aNTbPc3MH\n",
              "D1E/fPhwvPfee4EqktdMtaMhTqqHOPUyzE3p4PUy2w0oICERoKGhAbGxsZBKpQCAUaNG4ejRo5g6\n",
              "dSr27dvn9dhe7gxR0R/dfoQMTWHVC2wo8HSsEWN1LhiWgyTzLBx95HL9qmacjQlEH9hkKNJoNFAq\n",
              "ldbnhYWF2Lx5MwoKCpCRkYGZM2cGp2B0QxEyJIVdDVC4MrcMg7n9CkQJGrAJjeDaUqzr/n20BpNz\n",
              "VC4/iF39wvXmc5zneegMZsS42cstULTdRmi7jRimlLneOMS0duqRGBcV7GIE3YQJE/D2229bn48e\n",
              "PRrbt28PYoksOGoTJmRIohqgAPN8yHwGxqpx4DnGUgvEmq1ryqstuRA2iaAuPpO9GbvE3q7v/rMc\n",
              "j/z2KzS1dXt8XH96cus3KHzzoOP8pxBW/J8LwS5CZKDxDAmJKBQADSG8Tg7T1ZFgo3QQp1bYrDtX\n",
              "3YrPjl0RfKyLte0+Lds3p+sBAJfqnfVSC7zWTj2+u9gEU88AkmZXmeJBYDJzaHQSOBqMQy9oiyRU\n",
              "AUTI0BSa7RVhzNsfmaa6bIh6E6Kb08HrYgEAL24/YbPdviM1UCfGYGxG4qBj8DzwwvvHBx9c8Ce5\n",
              "4+28bQ5o0+rx9ck63DItA1ES1wNQuvLstkO41m98JGc1Y5q2bpg5PuDNZL/960mcrWrFxoem2z03\n",
              "jTQcGJ7emzQVBiFDE9UABZq3n5XWhGgekswzcPSNXtt0DS9uP4HKq/1qZFyc+9ND1fjlW941E7n6\n",
              "rm5q68bm4u9Q33zN7vo/flyKj76+jL2Hqj0uQ382wQ+cJ4evfaMEhW8e9Ml53XG2ZzLbnfupqWso\n",
              "UiVEB7sIhBAPUAAUYL74rci1psDclgyRohlsovNpPTa+d0zwcZvadahv7kJjq/3mmDOVLfjqZJ3T\n",
              "IIdz0cS0Y/8FlF5uwTv/PGt3fUOLZayWtmsGYYV2UyhXppyqaLa7PISLHFY8Ts+j5CFChiQKgALM\n",
              "Nzko/RKiM8oB1vEAbiaBk6cK8crO7/DnT8udbuOqCaz3+k0m+9v1LqWvFEIIIf5EAVCAGX003QSv\n",
              "j4WpfpQlITqtwvUO6AsqhOSU6I1mtHbq7Z/bWblcHJrt+ZntqCmK90EEdE1nxPP/exSllwbXqIRy\n",
              "DRAZquiPipChiAKgAPvBrJE+O5apfhQ4fTTEwyrBRGtdbu9OTPHMW4ew+vUD0BvNrjfup6GlC9v+\n",
              "cQadXc6bsPwZiBw4VY9LdR3Y/NeT9s7svxP7CQVtgUL1joREEgqAAiwrNd71RkJxIhirxrtMiB6o\n",
              "usF5sMQDaO7QAbD0ytr0/jGcqmiy3cCBTw9V40DpVXz8zWW763vzLHje0lzWrrVfy+SvryIhr5Cr\n",
              "PKZg6dabsOGdwzha3ujR/l+frMN7e8/5uFSEAidChiYKgIY4rk0Fc5sKIkULRMqrdrd5559n8dL2\n",
              "vm7vXS5mvX522yHr40NnGnD+Sjt+9+GpvnMKaUIz2K856hsIksefPinDE1sPOOwRNhDH8ThS3ogu\n",
              "nfPye9NEBwAPvvS53R5Z+49dwdYPv3N9AB8zcxx4nsfx8xpUN2rxh49LPTrOu5+W4/MTtTBzNK6Q\n",
              "PZ4nQRNChiIKgIa83oRo1mFC9Den6q2jRQthEyTYCRiEBBGuvkt4AEd6ajIq6y0zE//n+BVou40O\n",
              "9/nmdD3++HEp3vx7mesCODqvwPakfUdqBi374N/nsfdglcfn9tSZylb80cOgxx5PJ/0khJBwQgFQ\n",
              "gPX/lZmeHOuTY/J6GUx1o8BI9RCnXxR2coHs1fY4G0vHlX4VQIOO9/6+89Zl3frBNUh1TZaaonM1\n",
              "zoM5Z1fpacn/c3zwKNvdehOK/vcoTlzQeHRMnucF134dPefZOeypbuz02bEIECP1fsBOQkjgUQAU\n",
              "YP1/fWekyJGu8k0QZKrPAqeLgXhYFZgY+19w3S6avoTyJim39+ptZq63c7xajdYmAftURZO1VsbV\n",
              "wLveNoHZ0z8463X0XCMq6jrw2t9Oo7G1y63jdXQZ8M+DVfjlW4dcb9xD46N51n7z56M+OU4ku29R\n",
              "Dm6bkQkRy2D+lOHBLg4hxAMUAAUaY/vEZ40RvAjGqnFgGMcJ0TWNrnuKDTqsnYBBSA7QobP2E3V7\n",
              "c4BcJRpXN2rxs1e/tAZt/XOQAAYtHTr8X0ml+6NWexABDQwc7TWjrfvTQZc933p1dhnwiy3f4G9f\n",
              "XnKrHA0OBqj0RrfehH1HagblVZ2vacMH+85H/EznP3TQa3PBlOG4a2423npqnk+mbCGEBF7YBUAb\n",
              "N27E0qVLUVBQgFOnTtmsO3jwIO655x4UFBTg6aefBheEZND+AQ/LAPffNs5m/f232j53B9euhrlV\n",
              "DVF8K0RJ9R4fpz97X3/9vxPLKlvsNuM4Ckx6m8CEfpk3t+sGLevWm7DmD9/ib19ewhuflKFDYOAB\n",
              "AO528OJ4Ho/89iubZY4O0S5w9OreHnbucjdYFpLvtPvLS9i5/wK2f2Zbw7Xpg+PYf/wKLrhobgwn\n",
              "9lqIGcqMJiRshVUAdPjwYVRVVaG4uBhFRUUoKiqyWf/ss89iy5Yt2LlzJ65du4avv/464GXs/4HK\n",
              "MAxGDuvrFn/H7CzMvG6YV8c3VuWCN7OQZJ4FK2/x6liA/S/R/ste3fmdW804bnPx/XP8vAbP/8V/\n",
              "TTpmOyNpOwwsBARXnV0Ga/K3u9yJ3f55sAoPvPi5w6Ty3rylhp6mu/rmLut+z7zd935+9PVlt8eC\n",
              "IoSQoSCsAqCSkhIsXLgQAJCdnY329nZotX3NPrt378awYZYAQ6lUorW1NSjllIh7XvYBX+7TJwyz\n",
              "jpTsKd4gg7EqD2BNkOYegUjlm0lFbc7hTQ6Qnetzdjwhr0ZTuw77jtTYjlXkgLszq9t7O7yIf7C5\n",
              "+CQ+Pej792SgXV9YRgc/V23/b/y1v522PLBeH2/drzfZHLA0hX0ahJ5vwWCvQTo7zYfjdhFCQkpY\n",
              "BUBNTU1ITEy0PlcqldBo+nrPyOVyAEBjYyMOHDiAuXPnBryMABAbLQbgOJn3lyuneHV8c1M6DOem\n",
              "AmYxpFlnIBlZBjCeNffZ7QXmRQR0qa7dp8frtXP/hQF5Qva5eyp72zsMgAQcvKohsD2wyipbUVJq\n",
              "f3wooO9L31nR2xwMVhkJ0vr11Cxc4d19SQgJLeJgF8Cf7H0hNTc34+GHH8b69ettgiVHEhNlEItd\n",
              "JzmqVHGCy9VbCxITI7XZL0kZC1VSLJKS5ACEz+JuD9eZBH3ZTEjHHIdYXQMmRgvDhesBU5Rbx5HF\n",
              "SActS0wU1nPN3muiaRuc/xIXF+3w9UtUxrr12qpUcZDLHV+jUhkLlVIm+FgGO80/yclySCUixMdF\n",
              "2yyvbemGJFqCiaNVgstr75yOREWJHW73Tr+xkRIT+q7vixO1+OJELX44b4zdc/UeUyxmHZ47Olrq\n",
              "smxhwUV1o8hV90NCyJASVgGQWq1GU1NfM0hjYyNUqr4vI61Wi5/+9Kf4xS9+gdmzZws6ZquA7s0q\n",
              "VRw0GuG/7HtnRNfrjDb7tbRcg6gnMTs7PR4VtR2Cj2kPb4iB/ux0SLJOQ5x0FVF5JTBcmAy+SyH4\n",
              "GNfsJBg3NQvrTSb0Neno1DnctrW1CzKR8C8ejaYTWic1Fk3NWjBmYTktGk2n3fyXta99jVWLx6Kj\n",
              "0zaYe+sTy2CF76ybb13G87xbibTOXjN9v95oA7f76Iu+8Z9a2wb/zdo7rkbTCYPBckyjkXN47sNl\n",
              "9QCud/l++jtA2rNnD95++22IxWL8/Oc/x9ixY/HUU0/BbDZDpVLh5ZdfhlQ6OGD3FcqHJiS8hFUT\n",
              "2KxZs7B3714AQFlZGdRqtbXZCwA2bdqEVatW4aabbgpWEQH01UwN/GK0eear3secCMaKSTDW5ICR\n",
              "6hA1/hBESXWCd6+sHxyEudNk5YvmLV9ypzT1zdfs7nCxth1v/v2My/3f+vsZPPq7r0PuNeiv92+u\n",
              "qqHTYTnbtMJ72flLa2srXn/9dWzfvh1vvPEG9u/fjy1btmDZsmXYvn07MjMzsWvXLr+WgUbQJiS8\n",
              "hFUAlJ+fj7y8PBQUFOD555/H+vXrsXv3bvz73/9Gd3c3Pv74Y+zatQsrVqzAihUrUFxcHJRyzpuc\n",
              "DgCYmJ1kszy6XxNHnMyXv2QZmOpHwXA+H+BYSLNPQTyiHELCAXtTaLR2CssJ2f7ZeTzw4ufQGVzM\n",
              "3eUkQLhUOzhnyJlfvX0IR8857mXlTjDS2NrtcNRrZ+PjNLV14/DZBpSUXUW33mSt8ROC53kUvnkQ\n",
              "7+/z/6Sl3IDaKaMpdOcIKykpwYwZMyCXy6FWq/Hcc8/h0KFDWLBgAQBg3rx5KCkp8eocFN4QElnC\n",
              "qgkMANasWWPzPDc31/q4tNR38yl54/bZWbh5cjoSenJVXnp4Bq62dkEeI7Fus3LxWCR9G439dqZg\n",
              "8BTXrob+zHRIx5yAJLUSbIwWhopJgFnieud+Xtx+QtB2nx21lL2+uQtZqfF282lcOXGhCXMmpQne\n",
              "vrbJxdQSblTG8LA/DhFgqQ34+4FKu+sK3zoIk53u80K0aQ242tKFqy3ujSztyv2b/jNo2eu7T9s8\n",
              "/7Cn51gounLlCnQ6HR5++GF0dHTgscceQ3d3t7XJKykpyabDAyGEuBJ2AdBQwDCMNfgBgOSEGCQn\n",
              "xNhskyCPwn235OCKRuty7it38Dq5JQjKPgVRgsaSF3Q+H7xO7npnDz33l6O486ZRDmuCeADHfDjX\n",
              "lTOfHbuCZQstCcE8D+iNZnR2GdDcYb9W61+H7XdZv6JxnAc1MPhxpwXMLHBk6zOVLXh153coXDEF\n",
              "2enCc7r6O3GhCZPHJFuf7z/mu2DbH9ra2rB161bU1dVh5cqVNrV5Qmr2hHZo6M/SIcFCqexL/g/H\n",
              "hPBwvCYhIvG6I/Ga7aEAKMQ9fHsenth6wLcHNUtgOJ8P8fALkKRdsgRBFRPBtaX49jz9fPSV82kf\n",
              "Xv/otN3lvs6f2X/sCirrO2AwcZCIWVyqc55o7ovTdxtMkIiFNWmaBZ7ww88rwAP4x7eVePxHkzwu\n",
              "W52rGrMQkZSUhMmTJ0MsFiMjIwOxsbEQiUTQ6XSIjo5GQ0MD1Gq102MI6dAwUHO/hP/W1r7Xyp1O\n",
              "D0OBux05wkUkXreQa46UACmscoCIOxiYruTAcHESAB5ROScgHXsEbEIDfJeBLYzJSe6JzmDGE699\n",
              "49PzVdR1oKZR6zL4Ae+bAOwXW4SX39kcaYfONAxa5m3p/DG/mD/Mnj0bBw8eBMdxaG1tRVdXF2bO\n",
              "nGnt9LBv3z7MmTPHZ+cb1jNUQv9maZoWg5DwQjVAIc7duavcZW5JBaeLhSSjHCJFM0SKZnD6aJgb\n",
              "M2DSDAdM/utW3Gv7Zxccrjtf0xbgcMyWryqgTGYOf/jIdQ5au9AeV06+i/nQzWX2WEpKCr73ve/h\n",
              "nnvuAQA888wzuO6667B27VoUFxcjLS0Nd9xxh8/O99yD02AwcpD2m+iUwh9CwgsFQCEuEF2o+a54\n",
              "GMqngYnphFhdDVFyHSQjzkOcfhHm5lSYGjLcGjvIp2ULyll7z+2oD5j7Si+34LuLrqfqeGmHsATz\n",
              "qquOq7APlw+uKQoHBQUFKCgosFn27rvv+uVcIpZFTBRVkBMSzigACnGBrHbnu+NgrMqD8UoORMm1\n",
              "EKdUQ6yqhVhVC06rgKkhE+aWYQAfOV8MOr3zLvxC2ZtU1V96e98RH6MqIELCCgVAIS4xzr2pK3zC\n",
              "LIG5YSTMDZlgFU0Qp1SDVWggzT4FfkQ5TJoRMDWOAIzRro81xJ2saPbJcfxZkxfK4/cQQkioogBo\n",
              "CNi2dh7atAasft3HvcFcYsC1q2BoV4GJ6oJIXQ2x6gok6RUQp10CTBKAZ8DzDMAzAHr+7/8PDHie\n",
              "tbRlcWLwJglgkoA3ScCbpHYfgxMh3H5uHyl3PDijNzRt3Vj3J+8GACTCUBI0IeGFAqAhgGEYJMZF\n",
              "4fUnboLRzOHvByqx/9gVRElEdueq8gdeL4OpJhem2jEQJdVBlFwLRmwEGN76j2G4fs85AL3Lebfm\n",
              "UeI51hIMGaPAaRXgtAngtIng9TEYqoGRvwKg+mbfDphIHBuaf3mEEEcoABpCYqLEiAHwg1kj0a7V\n",
              "Y+716Xi1+LvAFoITwawZAbNmhJs78gBrBiM2AGIjmJ5/EBscPDaCidFCHNsBpNRYjmCUWoKhTktA\n",
              "xF2LB3j3BrZzx4efh+7IyIQQQrxDAdAQFC+T4n/uvA4tHX3TNMhjJNB2G4NYKlcYSxOYQQwYBPbu\n",
              "Yjgwsk6w8law8jaw8jaIEhshSrTUpvAcA74rvqeGKAGcVmE5j8hkCaJEJjAiIyDu+V9kAjNgHW+W\n",
              "gNfFguuOBa+Tg+uOBYxRABifT0dBhjZqASMkvFAAFCaeWTUVR8sbsXhaBh586fNgF8c3eBb8NQXM\n",
              "1xQw9/TsZqTd1mCIlbeBkXVALG8HUOX+4TkWLMsBCttEZ94sAt8dC04n7xccWf4FtgccB4jMlpoz\n",
              "kRlgTT3/9y4zWR4zvKVcHGt5zXr+B8/YWcYCXG9uVs83ujV/C7Dmcdksj6xv/mFJsmAXgRASABQA\n",
              "DWGxPaPUZqXGQ50Qg1unZwa5RP7HG2JgbomBuSXVsoAxg43tACtvBRPbYfmCN/ckW5vF4G0eSwCT\n",
              "ZRnMEsu2rAlM9DWwMdfARF/reawFI9NCLLcdKZrnAd4QbUnSNovAcyJLrZZZ1LNMbFnWu84stpyD\n",
              "4Sw1TqwZEJkt/7NmActCo3cXzzP4qjIV42LHB7sofvfHJ+cidVg8WlqGxhQhhBDPUQA0hEVJRNj6\n",
              "i5sQLfVfHkzI40WWfCBtomf7c2LwXQqYBw30yIOJ6u4LiHqCIyZKZ2lCk3aDFfkuQOE51ho48cYo\n",
              "QC8CZw2mxEBPkMWbxT3/93sOpicBnQNYy/8Ma/scDG+7rOcawVgaIxmG73mOAf/zAM9A2yYBYu2V\n",
              "PLxESUUQiezX8lEvMELCCwVAQ5ws2v23cMNPbsCeA5U4ft4yA/uPbs7Gh19Qwq8tBrxeBl4vA9eu\n",
              "crAN31NrYwbDmvqaqnqapqy1OlxvbZGDWiKORahPy2fIjQfSg12K4KLwh5DwQgFQBMkbmYjl3xuL\n",
              "lESZ9cM8XRWLJdMzfRoAhX5Ctq9YErvBicHDMmBlMKfu8CedITDDLYQysYOaIULI0BR2d/TGjRux\n",
              "dOlSFBQU4NSpUzbrvv32W9x9991YunQpXn/99SCV0P9Sk2SIj7WdxPSWG0ZgdcFkpCRaEjy/P3Mk\n",
              "pGIW9y4Y4/PzjxmuwOqC631+XBI8R8+G5/xiQqy7Lx9335yNxPggjMpOCPGbsAqADh8+jKqqKhQX\n",
              "F6OoqAhFRUU2659//nm89tpr2LFjBw4cOICLFy8GqaT+9dyDN2Lzo7Pw2F3X4bpRSfjDkzehYECg\n",
              "kzksDm+suRnjRyoBAFt/cZPg49950yjr41tuGDwekIhlkDdSibEjEjy8AhJqzlW1BrsIQZMzIgG3\n",
              "Ts+kJjBCwkxYNYGVlJRg4cKFAIDs7Gy0t7dDq9VCLpejpqYGCoUCqamW3kNz585FSUkJRo8eHcwi\n",
              "+wXbk6w5eYwKk8c4yl+x1T+XaPG0DBwpb8RDPxyPN/ecQXO/8YaW35KD+fnDcdOkNDBiEeKjRLj7\n",
              "5mywDGPtfn/bjJEAgJWLx+LdT8tx47gUGE0cDp1pQFWD41nMSei6a1743SfuoiRoQsJLWAVATU1N\n",
              "yMvLsz5XKpXQaDSQy+XQaDRQKpU262pqaoJRzJD10s9moOxyC26alIZ75lu+8ApXTMHpS81QxkXh\n",
              "xIUmzJtsyYRVxEqhUsVBo+m05ka8s26+zfFSk2JRuHyK9fniGzNw/6b/AAAeuG0cahq1GJkahzf3\n",
              "nLHZ7ydLcjEsSYYxwxNg5jj89KUvBpX1V6um4u8HKvHdxSZB17Zt7Tx068149Hdf2Sy/cXwKUpUy\n",
              "iEQMLtV14MQFYcfzhyU3ZuDTQ9VBO78zK5aMo67hhJCwElYB0EC+mIE7MVEGsdh1N3OVKs7rcwWb\n",
              "ShWHcaPVg5bljEoGAMy7caTdfdzx0Us/QGV9B7LTFdZf1HPyM1DfdA2yaDFGpMSBZW1/aT++9Hp8\n",
              "fuwKFk8fiZhoMSrrOzBtYjqmTUwHz/PQG83o0Brw7el6ZAyLQ51Gi6njUhAfK8XV5i6wLAO1Oh4A\n",
              "8JuHZuDZN0swaUwyRg9PwI+/n2dzri+O1eDdf5zB7ElpkEpE6NIZMW6kEr/beQJmjseO55YgOkqM\n",
              "b07W4V8llXhyWT4S46KxZstX4HkeL/zPbEjELNq0eiTFR+Of31bizY9PQypmccv0TMybMgImM4cD\n",
              "J+uw4IYMJCmioWnrxqg0BViWgVwehePnGrF0YQ7+8c1l/OqBG8HzQLtWj5goMcwcj88OV6OyvgMi\n",
              "EYMxwxPw1iel1vInJ8Sgqa3b5ppmTUrD2hVTcbC0HllpCmzbU4ofzsmG3mgGyzAwmsx4/t3Ddt+v\n",
              "Vx+/CV06I0QiNiz+xn0hXRUB4wEQEgEY3hdRQoh47bXXoFKpUFBQAABYsGABPvnkE8jlcly5cgWr\n",
              "V69GcXExAGDr1q1ISEjA8uXLnR5To3HdZNNbExJpIvG6Q/Ga9QYzoqQicDxvbf70Fs/zNk0+Qq47\n",
              "1AMkoe+bs2vVG82QiNhBQfpQF4p/14EQidcdDveyr4RVEvSsWbOwd+9eAEBZWRnUajXkcjkAYPjw\n",
              "4dBqtbhy5QpMJhM+//xzzJo1K5jFJcQnonoGwvRV8ANQvosjURJR2AU/hESqsGoCy8/PR15eHgoK\n",
              "CsAwDNavX4/du3cjLi4OixYtwoYNG7B69WoAwK233oqsrKwgl5gQQgghwRBWARAArFmzxuZ5bm6u\n",
              "9fENN9xgbQIjhBBCSOQKqyYwQgghhBAhKAAihBBCSMQJq15ghBBCCCFCUA0QIYQQQiIOBUCEEEII\n",
              "iTgUABFCCCEk4lAARAghhJCIQwEQIYQQQiIOBUCEEEIIiTgUAHlp48aNWLp0KQoKCnDq1KlgF8fv\n",
              "Dh06hOnTp2PFihVYsWIFnnvuuWAXya/Onz+PhQsX4v333wcA1NfXY8WKFVi2bBkef/xxGAyGIJfQ\n",
              "PwZe97p16/CDH/zA+r5/8cUXwS2gH0TavQzQ/RwJ93Mk3stChd1UGIF0+PBhVFVVobi4GBUVFSgs\n",
              "LIyIqTamTZuGLVu2BLsYftfV1YXnnnsOM2bMsC7bsmULli1bhiVLlmDz5s3YtWsXli1bFsRS+p69\n",
              "6waAJ598EvPmzQtSqfwrUu9lgO7ncL6fI/FedgfVAHmhpKQECxcuBABkZ2ejvb0dWq02yKUiviKV\n",
              "SvHWW29BrVZblx06dAgLFiwAAMybNw8lJSXBKp7f2LvucEf3cviLxPs5Eu9ld1AA5IWmpiYkJiZa\n",
              "nyuVSmg0miCWKDAuXryIhx9+GPfeey8OHDgQ7OL4jVgsRnR0tM2y7u5uSKVSAEBSUlJYvt/2rhsA\n",
              "3n//faxcuRJPPPEEWlpaglAy/4nUexmg+zmc7+dIvJfdQU1gPhQJs4qMHDkSjz76KJYsWYKamhqs\n",
              "XLkS+/bts36IRJJIeL973X777UhISMC4cePw5ptvYuvWrXj22WeDXSy/iZT3lu7nPpHynkfavewM\n",
              "1QB5Qa1Wo6mpyfq8sbERKpUqiCXyv5SUFNx6661gGAYZGRlITk5GQ0NDsIsVMDKZDDqdDgDQ0NAQ\n",
              "MVXLM2bMwLhx4wAA8+fPx/nz54NcIt+KxHsZoPs5Eu/ncL+X3UEBkBdmzZqFvXv3AgDKysqgVqsh\n",
              "l8uDXCr/2rNnD7Zt2wYA0Gg0aG5uRkpKSpBLFTgzZ860vuf79u3DnDlzglyiwHjsscdQU1MDwJI3\n",
              "MWbMmCCXyLci8V4G6H6OxPs53O9ld9Bs8F565ZVXcPToUTAMg/Xr1yM3NzfYRfIrrVaLNWvWoKOj\n",
              "A0ajEY8++ijmzp0b7GL5RWlpKV588UXU1tZCLBYjJSUFr7zyCtatWwe9Xo+0tDS88MILkEgkwS6q\n",
              "T9m77uXLl+PNN99ETEwMZDIZXnjhBSQlJQW7qD4VafcyQPdzuN/PkXovC0UBECGEEEIiDjWBEUII\n",
              "ISTiUAA9LrEcAAABNklEQVRECCGEkIhDARAhhBBCIg4FQIQQQgiJOBQAEUIIISTiUABECCGEkIhD\n",
              "ARAhhBBCIg4FQIQQQgiJOBQAEUIIISTiUABECCGEkIhDARAhhBBCIg4FQIQQQgiJOBQAEUIIISTi\n",
              "UABECCGEkIhDARAhhBBCIg4FQIQQQgiJOBQAEUIIISTiUABECCGEkIhDARAhhBBCIg4FQIQQQgiJ\n",
              "OBQAEUIIISTiUABECCGEkIhDARAhhBBCIg4FQIQQQgiJOBQAEUIIISTiUABECCGEkIhDARAhhBBC\n",
              "Ig4FQIQQQgiJOBQAEUIIISTiUABECCGEkIhDARAhhBBCIg4FQIQQQgiJOBQAEUIIISTiUABECCGE\n",
              "kIhDARAhhBBCIg4FQIQQQgiJOBQAEUIIISTiUABECCGEkIjz/wEcC6DosSFsKAAAAABJRU5ErkJg\n",
              "gg==\n",
              "\"/>"
            ],
            "text/plain": [
              "<IPython.core.display.HTML object>"
            ]
          },
          "metadata": {
            "tags": []
          }
        },
        {
          "output_type": "display_data",
          "data": {
            "text/html": [
              "Train: <progress value='100.0' max='100', style='width: 80%'>100.0\n",
              "                           </progress>"
            ],
            "text/plain": [
              "<IPython.core.display.HTML object>"
            ]
          },
          "metadata": {
            "tags": []
          }
        },
        {
          "output_type": "display_data",
          "data": {
            "text/html": [
              "Valid: <progress value='100.0' max='100', style='width: 80%'>100.0\n",
              "                           </progress>"
            ],
            "text/plain": [
              "<IPython.core.display.HTML object>"
            ]
          },
          "metadata": {
            "tags": []
          }
        },
        {
          "output_type": "stream",
          "text": [
            "------------------------------------\n",
            "summary of epoch: 0\n",
            "------------------------------------\n",
            "                loss  accurary\n",
            "train          1.113    57.698\n",
            "valid          0.758    72.235\n",
            " \n"
          ],
          "name": "stdout"
        },
        {
          "output_type": "display_data",
          "data": {
            "text/html": [
              "Train: <progress value='100.0' max='100', style='width: 80%'>100.0\n",
              "                           </progress>"
            ],
            "text/plain": [
              "<IPython.core.display.HTML object>"
            ]
          },
          "metadata": {
            "tags": []
          }
        },
        {
          "output_type": "display_data",
          "data": {
            "text/html": [
              "Valid: <progress value='100.0' max='100', style='width: 80%'>100.0\n",
              "                           </progress>"
            ],
            "text/plain": [
              "<IPython.core.display.HTML object>"
            ]
          },
          "metadata": {
            "tags": []
          }
        },
        {
          "output_type": "stream",
          "text": [
            "------------------------------------\n",
            "summary of epoch: 1\n",
            "------------------------------------\n",
            "                loss  accurary\n",
            "train          0.553    80.122\n",
            "valid          0.377    86.841\n",
            " \n"
          ],
          "name": "stdout"
        },
        {
          "output_type": "display_data",
          "data": {
            "text/html": [
              "Train: <progress value='100.0' max='100', style='width: 80%'>100.0\n",
              "                           </progress>"
            ],
            "text/plain": [
              "<IPython.core.display.HTML object>"
            ]
          },
          "metadata": {
            "tags": []
          }
        },
        {
          "output_type": "display_data",
          "data": {
            "text/html": [
              "Valid: <progress value='100.0' max='100', style='width: 80%'>100.0\n",
              "                           </progress>"
            ],
            "text/plain": [
              "<IPython.core.display.HTML object>"
            ]
          },
          "metadata": {
            "tags": []
          }
        },
        {
          "output_type": "stream",
          "text": [
            "------------------------------------\n",
            "summary of epoch: 2\n",
            "------------------------------------\n",
            "                loss  accurary\n",
            "train          0.289    90.179\n",
            "valid          0.217    92.746\n",
            " \n"
          ],
          "name": "stdout"
        },
        {
          "output_type": "display_data",
          "data": {
            "text/html": [
              "Train: <progress value='100.0' max='100', style='width: 80%'>100.0\n",
              "                           </progress>"
            ],
            "text/plain": [
              "<IPython.core.display.HTML object>"
            ]
          },
          "metadata": {
            "tags": []
          }
        },
        {
          "output_type": "display_data",
          "data": {
            "text/html": [
              "Valid: <progress value='100.0' max='100', style='width: 80%'>100.0\n",
              "                           </progress>"
            ],
            "text/plain": [
              "<IPython.core.display.HTML object>"
            ]
          },
          "metadata": {
            "tags": []
          }
        },
        {
          "output_type": "stream",
          "text": [
            "------------------------------------\n",
            "summary of epoch: 3\n",
            "------------------------------------\n",
            "                loss  accurary\n",
            "train          0.187    93.716\n",
            "valid          0.138    95.532\n",
            " \n"
          ],
          "name": "stdout"
        },
        {
          "output_type": "display_data",
          "data": {
            "text/html": [
              "Train: <progress value='100.0' max='100', style='width: 80%'>100.0\n",
              "                           </progress>"
            ],
            "text/plain": [
              "<IPython.core.display.HTML object>"
            ]
          },
          "metadata": {
            "tags": []
          }
        },
        {
          "output_type": "display_data",
          "data": {
            "text/html": [
              "Valid: <progress value='100.0' max='100', style='width: 80%'>100.0\n",
              "                           </progress>"
            ],
            "text/plain": [
              "<IPython.core.display.HTML object>"
            ]
          },
          "metadata": {
            "tags": []
          }
        },
        {
          "output_type": "stream",
          "text": [
            "------------------------------------\n",
            "summary of epoch: 4\n",
            "------------------------------------\n",
            "                loss  accurary\n",
            "train          0.131    95.682\n",
            "valid          0.097    96.909\n",
            " \n"
          ],
          "name": "stdout"
        },
        {
          "output_type": "display_data",
          "data": {
            "text/html": [
              "Train: <progress value='100.0' max='100', style='width: 80%'>100.0\n",
              "                           </progress>"
            ],
            "text/plain": [
              "<IPython.core.display.HTML object>"
            ]
          },
          "metadata": {
            "tags": []
          }
        },
        {
          "output_type": "display_data",
          "data": {
            "text/html": [
              "Valid: <progress value='100.0' max='100', style='width: 80%'>100.0\n",
              "                           </progress>"
            ],
            "text/plain": [
              "<IPython.core.display.HTML object>"
            ]
          },
          "metadata": {
            "tags": []
          }
        },
        {
          "output_type": "stream",
          "text": [
            "------------------------------------\n",
            "summary of epoch: 5\n",
            "------------------------------------\n",
            "                loss  accurary\n",
            "train          0.101    96.557\n",
            "valid          0.096    96.898\n",
            " \n"
          ],
          "name": "stdout"
        },
        {
          "output_type": "display_data",
          "data": {
            "text/html": [
              "Train: <progress value='100.0' max='100', style='width: 80%'>100.0\n",
              "                           </progress>"
            ],
            "text/plain": [
              "<IPython.core.display.HTML object>"
            ]
          },
          "metadata": {
            "tags": []
          }
        },
        {
          "output_type": "display_data",
          "data": {
            "text/html": [
              "Valid: <progress value='100.0' max='100', style='width: 80%'>100.0\n",
              "                           </progress>"
            ],
            "text/plain": [
              "<IPython.core.display.HTML object>"
            ]
          },
          "metadata": {
            "tags": []
          }
        },
        {
          "output_type": "stream",
          "text": [
            "------------------------------------\n",
            "summary of epoch: 6\n",
            "------------------------------------\n",
            "                loss  accurary\n",
            "train          0.083    97.115\n",
            "valid          0.089    97.087\n",
            " \n"
          ],
          "name": "stdout"
        },
        {
          "output_type": "display_data",
          "data": {
            "text/html": [
              "Train: <progress value='100.0' max='100', style='width: 80%'>100.0\n",
              "                           </progress>"
            ],
            "text/plain": [
              "<IPython.core.display.HTML object>"
            ]
          },
          "metadata": {
            "tags": []
          }
        },
        {
          "output_type": "display_data",
          "data": {
            "text/html": [
              "Valid: <progress value='100.0' max='100', style='width: 80%'>100.0\n",
              "                           </progress>"
            ],
            "text/plain": [
              "<IPython.core.display.HTML object>"
            ]
          },
          "metadata": {
            "tags": []
          }
        },
        {
          "output_type": "stream",
          "text": [
            "------------------------------------\n",
            "summary of epoch: 7\n",
            "------------------------------------\n",
            "                loss  accurary\n",
            "train          0.075    97.530\n",
            "valid          0.067    97.890\n",
            " \n"
          ],
          "name": "stdout"
        },
        {
          "output_type": "display_data",
          "data": {
            "text/html": [
              "Train: <progress value='100.0' max='100', style='width: 80%'>100.0\n",
              "                           </progress>"
            ],
            "text/plain": [
              "<IPython.core.display.HTML object>"
            ]
          },
          "metadata": {
            "tags": []
          }
        },
        {
          "output_type": "display_data",
          "data": {
            "text/html": [
              "Valid: <progress value='100.0' max='100', style='width: 80%'>100.0\n",
              "                           </progress>"
            ],
            "text/plain": [
              "<IPython.core.display.HTML object>"
            ]
          },
          "metadata": {
            "tags": []
          }
        },
        {
          "output_type": "stream",
          "text": [
            "------------------------------------\n",
            "summary of epoch: 8\n",
            "------------------------------------\n",
            "                loss  accurary\n",
            "train          0.057    98.131\n",
            "valid          0.073    97.631\n",
            " \n"
          ],
          "name": "stdout"
        },
        {
          "output_type": "display_data",
          "data": {
            "text/html": [
              "Train: <progress value='100.0' max='100', style='width: 80%'>100.0\n",
              "                           </progress>"
            ],
            "text/plain": [
              "<IPython.core.display.HTML object>"
            ]
          },
          "metadata": {
            "tags": []
          }
        },
        {
          "output_type": "display_data",
          "data": {
            "text/html": [
              "Valid: <progress value='100.0' max='100', style='width: 80%'>100.0\n",
              "                           </progress>"
            ],
            "text/plain": [
              "<IPython.core.display.HTML object>"
            ]
          },
          "metadata": {
            "tags": []
          }
        },
        {
          "output_type": "stream",
          "text": [
            "------------------------------------\n",
            "summary of epoch: 9\n",
            "------------------------------------\n",
            "                loss  accurary\n",
            "train          0.060    97.957\n",
            "valid          0.058    98.049\n",
            " \n"
          ],
          "name": "stdout"
        },
        {
          "output_type": "display_data",
          "data": {
            "text/html": [
              "Train: <progress value='100.0' max='100', style='width: 80%'>100.0\n",
              "                           </progress>"
            ],
            "text/plain": [
              "<IPython.core.display.HTML object>"
            ]
          },
          "metadata": {
            "tags": []
          }
        },
        {
          "output_type": "display_data",
          "data": {
            "text/html": [
              "Valid: <progress value='100.0' max='100', style='width: 80%'>100.0\n",
              "                           </progress>"
            ],
            "text/plain": [
              "<IPython.core.display.HTML object>"
            ]
          },
          "metadata": {
            "tags": []
          }
        },
        {
          "output_type": "stream",
          "text": [
            "------------------------------------\n",
            "summary of epoch: 10\n",
            "------------------------------------\n",
            "                loss  accurary\n",
            "train          0.061    97.940\n",
            "valid          0.053    98.293\n",
            " \n"
          ],
          "name": "stdout"
        },
        {
          "output_type": "display_data",
          "data": {
            "text/html": [
              "Train: <progress value='100.0' max='100', style='width: 80%'>100.0\n",
              "                           </progress>"
            ],
            "text/plain": [
              "<IPython.core.display.HTML object>"
            ]
          },
          "metadata": {
            "tags": []
          }
        },
        {
          "output_type": "display_data",
          "data": {
            "text/html": [
              "Valid: <progress value='100.0' max='100', style='width: 80%'>100.0\n",
              "                           </progress>"
            ],
            "text/plain": [
              "<IPython.core.display.HTML object>"
            ]
          },
          "metadata": {
            "tags": []
          }
        },
        {
          "output_type": "stream",
          "text": [
            "------------------------------------\n",
            "summary of epoch: 11\n",
            "------------------------------------\n",
            "                loss  accurary\n",
            "train          0.045    98.440\n",
            "valid          0.058    98.061\n",
            " \n"
          ],
          "name": "stdout"
        },
        {
          "output_type": "display_data",
          "data": {
            "text/html": [
              "Train: <progress value='100.0' max='100', style='width: 80%'>100.0\n",
              "                           </progress>"
            ],
            "text/plain": [
              "<IPython.core.display.HTML object>"
            ]
          },
          "metadata": {
            "tags": []
          }
        },
        {
          "output_type": "display_data",
          "data": {
            "text/html": [
              "Valid: <progress value='100.0' max='100', style='width: 80%'>100.0\n",
              "                           </progress>"
            ],
            "text/plain": [
              "<IPython.core.display.HTML object>"
            ]
          },
          "metadata": {
            "tags": []
          }
        },
        {
          "output_type": "stream",
          "text": [
            "------------------------------------\n",
            "summary of epoch: 12\n",
            "------------------------------------\n",
            "                loss  accurary\n",
            "train          0.042    98.581\n",
            "valid          0.062    98.152\n",
            " \n"
          ],
          "name": "stdout"
        },
        {
          "output_type": "display_data",
          "data": {
            "text/html": [
              "Train: <progress value='100.0' max='100', style='width: 80%'>100.0\n",
              "                           </progress>"
            ],
            "text/plain": [
              "<IPython.core.display.HTML object>"
            ]
          },
          "metadata": {
            "tags": []
          }
        },
        {
          "output_type": "display_data",
          "data": {
            "text/html": [
              "Valid: <progress value='100.0' max='100', style='width: 80%'>100.0\n",
              "                           </progress>"
            ],
            "text/plain": [
              "<IPython.core.display.HTML object>"
            ]
          },
          "metadata": {
            "tags": []
          }
        },
        {
          "output_type": "stream",
          "text": [
            "------------------------------------\n",
            "summary of epoch: 13\n",
            "------------------------------------\n",
            "                loss  accurary\n",
            "train          0.041    98.655\n",
            "valid          0.059    98.198\n",
            " \n"
          ],
          "name": "stdout"
        },
        {
          "output_type": "display_data",
          "data": {
            "text/html": [
              "Train: <progress value='100.0' max='100', style='width: 80%'>100.0\n",
              "                           </progress>"
            ],
            "text/plain": [
              "<IPython.core.display.HTML object>"
            ]
          },
          "metadata": {
            "tags": []
          }
        },
        {
          "output_type": "display_data",
          "data": {
            "text/html": [
              "Valid: <progress value='100.0' max='100', style='width: 80%'>100.0\n",
              "                           </progress>"
            ],
            "text/plain": [
              "<IPython.core.display.HTML object>"
            ]
          },
          "metadata": {
            "tags": []
          }
        },
        {
          "output_type": "stream",
          "text": [
            "------------------------------------\n",
            "summary of epoch: 14\n",
            "------------------------------------\n",
            "                loss  accurary\n",
            "train          0.039    98.729\n",
            "valid          0.059    98.130\n",
            " \n",
            "------------------------------------\n",
            "summary of test\n",
            "------------------------------------\n",
            "               total  accuracy\n",
            "test            4857    95.000\n"
          ],
          "name": "stdout"
        }
      ]
    },
    {
      "metadata": {
        "id": "pdxnWXXUvcaT",
        "colab_type": "text"
      },
      "cell_type": "markdown",
      "source": [
        "###Test Performance\n",
        "\n",
        "Let's now take a look at the model performance on the test dataset. The overall test accuracy is 95.7%. However, the analysis in [Statistics of satellite images and tracks](https://) shows that the number of sample for each class is not well balanced, the class with a few samples maybe heavilty biased without hurting the overal accuracy. To verify that, let's look at the confusion matrix. Surprisingly, the confusion matrix shows that the model perform well for classes with less samples, indicating the model is not sensitive to such imbalance in the sample classes. To ensure the best practices, we can penalize the loss based on the sample size ratio of each class. Next, we will turn our attention to residual network to see if we can further improve the accuracy of the prediction."
      ]
    },
    {
      "metadata": {
        "id": "Lq4amwYvu8Re",
        "colab_type": "code",
        "outputId": "81aeb3ba-847e-4694-da37-61ee7a0355fd",
        "colab": {
          "base_uri": "https://localhost:8080/",
          "height": 532
        }
      },
      "cell_type": "code",
      "source": [
        "import seaborn as sns\n",
        "import matplotlib.pyplot as plt\n",
        "from sklearn.metrics import confusion_matrix\n",
        "\n",
        "# CONSTANT\n",
        "f_data_yml = config_params['f_data_yml']\n",
        "with open(f_data_yml, 'rb') as fp: data = yaml.load(fp)\n",
        "    \n",
        "one_hot_key   = data['one_hot_key']\n",
        "one_hot_rev   = data['one_hot_rev']\n",
        "train_indices = data['indices']['train']\n",
        "valid_indices = data['indices']['valid']\n",
        "test_indices  = data['indices']['test']\n",
        "\n",
        "f_test = config_params['f_test_yml']\n",
        "with open(f_test, 'r') as fp: test_results = yaml.load(fp)\n",
        "test_idxs = test_results['idxs']\n",
        "#test_idxs = test_idxs.detach().numpy()\n",
        "test_labels = test_results['labels']\n",
        "test_predicts = test_results['predicts']\n",
        "   \n",
        "# check test data, for debug purpose to make sure test dataset is correct\n",
        "# f_img_msg = p_data + os.sep + 'al_ir_track_filtered.msg'\n",
        "# pd_storm = pd.read_msgpack(f_img_msg) \n",
        "# print(len(test_labels))\n",
        "# print(len(pd_storm.iloc[test_indices].index))\n",
        "# print(pd_storm.iloc[test_indices].groupby(b'cat').count())\n",
        "# print(np.unique(test_labels, return_counts=True))\n",
        "\n",
        "# test summary\n",
        "n_correct = np.equal(test_predicts, test_labels).sum().item()\n",
        "accuracy = n_correct / len(test_labels) * 100.\n",
        "divider = '-' * 36\n",
        "print(divider)\n",
        "print('summary of test')\n",
        "print(divider)\n",
        "print('{:<10s}{:>10s}{:>10s}'.format('', 'total', 'accuracy'))\n",
        "print('{:<10s}{:>10d}{:>10.3f}'.format('test', len(test_labels), accuracy))   \n",
        "\n",
        "# confusion matrix\n",
        "cfx = confusion_matrix(test_labels, test_predicts)\n",
        "df_cfx = pd.DataFrame(cfx, index = [one_hot_rev[i] for i in range(7)], \n",
        "                           columns = [str(i+1) for i in range(7)])\n",
        "\n",
        "fig, ax = plt.subplots(figsize = (10,7))\n",
        "sns.heatmap(df_cfx, annot=True, annot_kws={'size': 12}, fmt='d', ax=ax)\n",
        "ax.set_xlabel('Predict',fontsize=16)\n",
        "ax.set_ylabel('Actual',fontsize=16)\n",
        "\n",
        "# true_to_false\n",
        "true_to_false = {} # miss-classified images\n",
        "for i in range(7): true_to_false[one_hot_rev[i]] = []\n",
        "for i, (x, y) in enumerate(zip(test_labels, test_predicts)):\n",
        "    if x==y: continue\n",
        "    true_cat = one_hot_rev[x]\n",
        "    false_cat = one_hot_rev[y]\n",
        "    true_to_false[true_cat].append([test_idxs[i], false_cat])\n",
        "    "
      ],
      "execution_count": 0,
      "outputs": [
        {
          "output_type": "stream",
          "text": [
            "------------------------------------\n",
            "summary of test\n",
            "------------------------------------\n",
            "               total  accuracy\n",
            "test            4857    95.718\n"
          ],
          "name": "stdout"
        },
        {
          "output_type": "display_data",
          "data": {
            "image/png": "[encoded data removed]",
            "text/plain": [
              "<Figure size 720x504 with 2 Axes>"
            ]
          },
          "metadata": {
            "tags": []
          }
        }
      ]
    }
  ]
}