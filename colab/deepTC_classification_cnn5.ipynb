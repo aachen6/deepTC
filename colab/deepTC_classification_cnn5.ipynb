{
  "nbformat": 4,
  "nbformat_minor": 0,
  "metadata": {
    "colab": {
      "name": "deepTC_classification_cnn5.ipynb",
      "version": "0.3.2",
      "provenance": [],
      "collapsed_sections": [],
      "toc_visible": true,
      "include_colab_link": true
    },
    "kernelspec": {
      "name": "python3",
      "display_name": "Python 3"
    },
    "accelerator": "GPU"
  },
  "cells": [
    {
      "cell_type": "markdown",
      "metadata": {
        "id": "view-in-github",
        "colab_type": "text"
      },
      "source": [
        "<a href=\"https://colab.research.google.com/github/aachen6/deepTC/blob/master/colab/deepTC_classification_cnn5.ipynb\" target=\"_parent\"><img src=\"https://colab.research.google.com/assets/colab-badge.svg\" alt=\"Open In Colab\"/></a>"
      ]
    },
    {
      "metadata": {
        "id": "9KZh9h7Dv2Qb",
        "colab_type": "text"
      },
      "cell_type": "markdown",
      "source": [
        "# DeepTC - CNN5\n",
        "\n",
        "The objective of *deepTC* can be found on [deepTC github page](https://github.com/aachen6/deepTC/), and the analysis is outlined below.\n",
        "1. Data Preprocess\n",
        " - 1.1 [Satellite images and tracks of TC](https://github.com/aachen6/deepTC/blob/master/colab/deepTC_images_tracks_sync.ipynb)\n",
        " - 1.2 [Statistics of satellite images and tracks](https://github.com/aachen6/deepTC/blob/master/colab/deepTC_images_tracks_stats.ipynb)\n",
        "\n",
        "2. Model for TC Image\n",
        " - 2.1 [Post-binding architecture of TC image](https://github.com/aachen6/deepTC/blob/master/colab/deepTC_net_image.ipynb)\n",
        " - **2.2 [CNN model for TC image classification ](https://github.com/aachen6/deepTC/blob/master/colab/deepTC_classification_cnn5.ipynb)**\n",
        " - 2.3 [Resnet model for TC image classification](https://github.com/aachen6/deepTC/blob/master/colab/deepTC_classification_resnet.ipynb)\n",
        " - 2.4 [Resnet model for TC image intensity estimation](https://github.com/aachen6/deepTC/blob/master/colab/deepTC_intensity_resnet.ipynb)\n",
        " - 2.5 [Operation of TC image prediction](https://github.com/aachen6/deepTC/blob/master/colab/deepTC_image_prediction.ipynb)\n",
        "\n",
        "3. Model for TC Track\n",
        " - 3.1 [Post-binding architecture of TC track](https://github.com/aachen6/deepTC/blob/master/colab/deepTC_net_track.ipynb)\n",
        " - 3.2 [LSTM model for TC track prediction](https://github.com/aachen6/deepTC/blob/master/colab/deepTC_track_lstm.ipynb)\n",
        " - 3.3 [LSTM model with attention for TC track prediction](https://github.com/aachen6/deepTC/blob/master/colab/deepTC_track_lstm.ipynb) \n",
        " - 3.4 [LSTM-CNN model for TC track prediction](https://github.com/aachen6/deepTC/blob/master/colab/deepTC_track_lstmcnn.ipynb)\n",
        "\n",
        "4. Generative Model for TC Image\n",
        " - 4.1 [DCGAN model for deepTC](https://github.com/aachen6/deepTC/blob/master/colab/deepTC_generative_dcgan.ipynb)\n",
        " - 4.2 [SAGAN model for deepTC](https://github.com/aachen6/deepTC/blob/master/colab/deepTC_generative_sagan.ipynb)\n",
        "\n",
        "This notebook is where things start to get really fun and excited, as everything will be linked together and put into the action. This notebook focuses on implementation/training of a five-layer convolution network for classification of satellite image of TC based on the system we developed so far. Let's start with importing the necessary python modules. To reuse our previous notebook where the classes for the model, dataset, training, and inference have been defined, we install a package called *import-ipynb*, which loads the .ipynb into current notebook. Since the data is hosted on *Google Drive*, we also mount my *Google Drive* and define some directories here. For new readers, you can find a copy of those datasets in [deepTC github page](https://github.com/aachen6/deepTC/)."
      ]
    },
    {
      "metadata": {
        "id": "gXB8R2GLmRbd",
        "colab_type": "code",
        "colab": {}
      },
      "cell_type": "code",
      "source": [
        "!pip install import-ipynb"
      ],
      "execution_count": 0,
      "outputs": []
    },
    {
      "metadata": {
        "id": "Hv1cwjCXXnfa",
        "colab_type": "code",
        "colab": {}
      },
      "cell_type": "code",
      "source": [
        "import os \n",
        "import yaml\n",
        "import numpy as np\n",
        "import pandas as pd\n",
        "\n",
        "from google.colab import drive\n",
        "drive.mount('/content/drive', force_remount=True)\n",
        "\n",
        "work_dir = r'/content/drive/My Drive/Colab Notebooks/deepTC'\n",
        "p_data  = work_dir + os.sep + 'data/AL'\n",
        "p_image = work_dir + os.sep + 'image/AL'\n",
        "p_class = work_dir + os.sep + 'model/tc_classification'\n",
        "p_model = p_class  + os.sep + 'cnn5'\n",
        "\n",
        "# load class defined in other ipynb\n",
        "import import_ipynb\n",
        "model_ipynb = work_dir + os.sep + 'deepTC_net_image.ipynb'\n",
        "with open(model_ipynb, 'rb') as fp:\n",
        "    with open('deepTC_net_lib.ipynb','wb') as fout:\n",
        "       fout.write(fp.read())\n",
        "  \n",
        "import deepTC_net_lib\n",
        "from deepTC_net_lib import YML2ModelNet, ImageDataSet, ImageTrainer, ImageInference\n"
      ],
      "execution_count": 0,
      "outputs": []
    },
    {
      "metadata": {
        "id": "8yHi8RfKvEd0",
        "colab_type": "text"
      },
      "cell_type": "markdown",
      "source": [
        "##CNN5\n",
        "\n",
        "In a nutshell, the convolution network is a deep learning algorithm that applies multiple convolution operations (filters) to an input image with each being able to extract certain features (edge, texture, etc.) that are used collectively to differentiate the input image from others and generate specific output, i.e. classification or regression. A good illustration is shown in figure below. The learning algorithm is the process to determine the best convolution operations that minimize the loss defined to measure the difference between the output and the target of images in the training set. To understand how and why this would work, it helps to learn the convolution operation mathematically. The convolution operation performs the integration (summation) of the multiplication of a signal or function (called filter) overlapping with another signal or function (underlying) at a particular alignment of the two; as the filter is moving along the the underlying signal or function, it generates another signal or function. An example would be moving a step filtering function along a underlying function, the underlying function overlapped with the non-zero portion of the step function will be averaged at a particular moment, therefore will be smoothed as the filter moves. By varying the filter function, different information from the underlying function can be obtained through the convolution. \n",
        "\n",
        "<img src='https://leonardoaraujosantos.gitbooks.io/artificial-inteligence/content/assets/ezgif.com-optimize.gif'>*Image credit: Leonardoaraujosantos\n",
        "\n",
        "For the convolution network, the filter generates feature maps, and the feature size is similar to the resolution, i.e. dimension of pixels. The number of filters at each layer is called filter depth or channels (similar to an image with RGB channels).  The filter size or kernal size defines the portion of image (reception field) that is processed at a time during the convolution (similar to step function size in the example above), which may move at different stride, i.e. pixels the filter slides. Zero padding can be used to maintain the feature size. The algorithom will learn a series of filters that extract different information from the original images, which are used collectively to make prediction, i.e. classfication or regression associated with the images.\n"
      ]
    },
    {
      "metadata": {
        "id": "AnOP7guxe-wK",
        "colab_type": "text"
      },
      "cell_type": "markdown",
      "source": [
        "###Network Architecture\n",
        "The overall network architecture and training parameters are defined in the configuration file. Specifically, it simply defines a sequential five-layer (number of convolution layers rather than conventionally total number of layers) convolution network (*CNN5 net*) as shown in figure below. The input images are greyscale with only one channel. The first layer increases the channel size to 32 with 32 5 x 5 filters and reduces the feature size by a factor of four using *maxpool2d* function with stride of 2. In each of the following layer, the channel size is doubled with 3 x 3 filters while the feature size is quartered using *maxpool2d* with stride of 2 in each layer as shown in the callout box. *ReLU* activation function is used for each layer. The features are then flattened and transformed with two fully connected layers into a vector of 7 corresponding to the number of classes. \n",
        " \n",
        "<img src='https://raw.githubusercontent.com/aachen6/deepTC/master/model/tc_classification/cnn5/cnn5.png' width='800'/>\n",
        "\n",
        "The dataset is split randomly into 90% of training and 10% testing as specified in the configuration file, where the 90% training data is further split randomly into 80% of training and 20% of validation with a final separation ratio of 72:18:10 as shown in the training log below. The ratio of number of samples for each class is preserved during the split. Since this is a multi-class classification problem, we used *Cross-Entropy* loss with *Adam* optimizer. The default learning rate &eta;=0.001 and momentum parameters (&beta;<sub>1</sub>=0.9, &beta;<sub>2</sub>=0.999) are used. \n",
        "\n",
        "We trained the model for 15 epochs with a batch size of 64. The loss and accuracy of each batch and epoch (running average) are generated and updated in the plot below during the training and validation process. The model converges very rapidly reaching a validation accuracy of over 95% only after 4 epochs. Since validation is performed after training, it presents lower loss and higher accuracy than that from training at the beginning. While the loss decreases and the accuracy increases, they become larger and less than that from training, respectively, indicating the training starts to get saturated. The model achieved a final validation accuary of 96.7% after 15 epochs."
      ]
    },
    {
      "metadata": {
        "id": "kNx21FCKvdz3",
        "colab_type": "text"
      },
      "cell_type": "markdown",
      "source": [
        "###Training and Validation"
      ]
    },
    {
      "metadata": {
        "id": "As3yk9OQu7yy",
        "colab_type": "code",
        "outputId": "ff3bae5f-f39a-4d0b-e4ae-76d29687de26",
        "colab": {
          "base_uri": "https://localhost:8080/",
          "height": 3473
        }
      },
      "cell_type": "code",
      "source": [
        "import torch\n",
        "from torchvision.transforms import transforms\n",
        "\n",
        "torch.cuda.empty_cache()\n",
        "\n",
        "# load configuration file\n",
        "f_config = p_model + os.sep + 'config_cnn5.yaml'\n",
        "with open(f_config, 'r') as fp: config = yaml.load(fp)\n",
        "\n",
        "# contruct the model\n",
        "storm_cnn = YML2ModelNet(config, 'cnn5')\n",
        "\n",
        "# update path for config\n",
        "config_params = config['params']\n",
        "config_params['f_image_zip'] = p_image + os.sep + config_params['f_image_zip']\n",
        "config_params['f_storm_msg'] = p_data  + os.sep + config_params['f_storm_msg']\n",
        "config_params['f_data_yml']  = p_class + os.sep + config_params['f_data_yml']\n",
        "config_params['f_state_yml'] = p_model + os.sep + config_params['f_state_yml']\n",
        "config_params['f_model_pth'] = p_model + os.sep + config_params['f_model_pth']\n",
        "config_params['f_test_yml']  = p_model + os.sep + config_params['f_test_yml']\n",
        "\n",
        "# normalization is based on ramdon 1000 samples for this test\n",
        "image_transforms = transforms.Compose([\n",
        "    transforms.Grayscale(1),\n",
        "    transforms.ToTensor(),\n",
        "    transforms.Normalize((0.456,), (0.222,))])\n",
        "\n",
        "# dataset\n",
        "storm_data = ImageDataSet(config_params, image_transforms, hotstart=False)\n",
        "data_split = storm_data.load_data()\n",
        "\n",
        "# model\n",
        "storm_train = ImageTrainer(config_params, storm_cnn, hotstart=False)\n",
        "\n",
        "# train & valid\n",
        "storm_train.train_loop(data_split)\n",
        "\n",
        "# test\n",
        "test_results = storm_train.test_loop(data_split)\n"
      ],
      "execution_count": 0,
      "outputs": [
        {
          "output_type": "stream",
          "text": [
            "------------------------------------\n",
            "summary of dataset\n",
            "------------------------------------\n",
            "               train     valid      test\n",
            "percent         0.72      0.18      0.10\n",
            "size           34944      8742      4857\n",
            "batch            546       136        75\n",
            "------------------------------------\n",
            "summary of GPU\n",
            "------------------------------------\n",
            "Tesla K80\n",
            "Memory Usage:\n",
            "Allocated: 0.0 GB\n",
            "Cached:    0.0 GB\n",
            "------------------------------------\n",
            "training\n",
            "------------------------------------\n"
          ],
          "name": "stdout"
        },
        {
          "output_type": "display_data",
          "data": {
            "text/html": [
              "<img src='data:image/png;base64,iVBORw0KGgoAAAANSUhEUgAAA2AAAAJACAYAAADrSQUmAAAABHNCSVQICAgIfAhkiAAAAAlwSFlz\n",
              "AAALEgAACxIB0t1+/AAAADl0RVh0U29mdHdhcmUAbWF0cGxvdGxpYiB2ZXJzaW9uIDMuMC4zLCBo\n",
              "dHRwOi8vbWF0cGxvdGxpYi5vcmcvnQurowAAIABJREFUeJzs3Xl8G/WdP/7XSLJ8SZYvybcdxwnk\n",
              "cENICDQJcSAHDel2oS2tDZRmF7b0yLeUbuiWhl1Cf0AWaNIrTYGGwhbYBrNpuAolkOCEHE7iOPdF\n",
              "fF+xLcm3bMmyjt8fsmUrtmz50Ghkv56PRx6RNKOZl+XEnvd8LsHpdDpBREREREREficLdAAiIiIi\n",
              "IqKpggUYERERERGRSFiAERERERERiYQFGBERERERkUhYgBEREREREYmEBRgREREREZFIWIARERER\n",
              "ERGJhAUYERERERGRSFiAERERERERiYQFGBERERERkUhYgBEREREREYmEBRgREREREZFIWIARERER\n",
              "ERGJhAUYERERERGRSFiAERERERERiYQFGBERERERkUhYgBEREREREYmEBRgREREREZFIWIARERER\n",
              "ERGJhAUYERERERGRSFiAERERERERiYQFGBERERERkUhYgBEREREREYmEBRgREREREZFIWIARERER\n",
              "ERGJhAUYERERERGRSFiAERERERERiYQFGBERERERkUhYgBEREREREYmEBRgREREREZFIWIARERER\n",
              "ERGJhAUYERERERGRSFiAERERERERiYQFGBERERERkUhYgBEREREREYmEBRgREREREZFIWIARERER\n",
              "ERGJhAUYERERERGRSFiAERERERERiYQFGBERERERkUhYgBEREREREYmEBRgREREREZFIWIARERER\n",
              "ERGJhAUYERERERGRSFiAERERERERiYQFGBERERERkUhYgBEREREREYmEBRgREREREZFIWIARERER\n",
              "ERGJhAUYERERERGRSFiAERERERERiYQFGBERERERkUhYgBEREREREYmEBRgREREREZFIWIARERER\n",
              "ERGJhAUYERERERGRSFiAERERERERiYQFGBERERERkUhYgBEREREREYmEBRgREREREZFIWIARERER\n",
              "ERGJhAUYERERERGRSFiAERERERERiYQFGBERERERkUhYgBEREREREYmEBRgREREREZFIWIARERER\n",
              "ERGJhAUYERERERGRSBSBDkCjYzB0jOl9MTERaGnpmuA048NMvpFaJqnlAZjJV4HOpNWqA3buQJlM\n",
              "P7MHknI+KWcDpJ1PytkAaeeTcjZg7Pmm4s9tMbAFbIpQKOSBjjAIM/lGapmklgdgJl9JMRMNTerf\n",
              "Kynnk3I2QNr5pJwNkHY+KWcDpJ9vqmEBRkREREREJBIWYERERERERCJhAUZERERERCQSFmBERERE\n",
              "REQiYQFGREREREQkEhZgREREREREImEBJgKLxYJVq1Zh9+7dHq8fOXIE99xzD3Jzc7F9+3a/nf+t\n",
              "fSXYX1zjt+MTEdHEKThVhzc/vhToGERE5CcswETw4osvQqPRDHr9mWeewbZt27Bz504cPnwYpaWl\n",
              "E35um92BT4pqsPWvJyf82ERENPFOXNbj7b1XYLHaAh2FiIj8gAWYn5WVlaG0tBS33Xabx+s1NTXQ\n",
              "aDRISkqCTCbD8uXLUVhYGJiQREQkGalaFZxOoFbfGegoRETkByzA/Oz555/H448/Puh1g8GA2NhY\n",
              "9/PY2FgYDAYxoxERkQSlJ6gAANX6jgAnISIif1AEOsBk9u6772L+/PlIS0ubsGPGxERAoZD7vL/N\n",
              "7nA/1mrVE5ZjojCTb6SWSWp5AGbylRQzkaeMBNf3qLqRBRgR0WTEAsyP9u/fj5qaGuzfvx8NDQ1Q\n",
              "KpVITEzEkiVLoNPpYDQa3fs2NjZCp9ONeMyWlq5RZRhYgBkM0vplrtWqmckHUssktTwAM/kq0JlY\n",
              "/PkmMS4CIQoZqhpNgY5CRER+wALMj37729+6H2/btg0pKSlYsmQJACA1NRUmkwm1tbVITExEQUEB\n",
              "tmzZEqioREQkEQq5DBmJalTWt8Nmd0Ah52gBIqLJhAWYyHbv3g21Wo3Vq1fjqaeewoYNGwAAa9eu\n",
              "RWZmZoDTERGRFExPiUZpbRsamrqQqlMFOg4REU0gFmAi+fGPfzzotUWLFiE/Pz8AaYiISMqmJ0cB\n",
              "AKoaO1iAERFNMuzXQEREJDHTU6IBANUcB0ZENOmwACMiIpKYaclREADUcCp6IqJJhwUYERGRxISH\n",
              "KpAQG4HqRhOcTmeg4xAR0QRiAUZERCRB6QkqdHXbYGyzBDoKERFNIBZgREREEpTOBZmJiCYlFmBE\n",
              "REQDXLlyBatWrcKbb745aNuRI0dwzz33IDc3F9u3b/drjvQE1+yHnIiDiGhyYQFGRETUq6urC08/\n",
              "/TQWL1485PZnnnkG27Ztw86dO3H48GGUlpb6LUu6ji1gRESTEQswIiKiXkqlEjt27IBOpxu0raam\n",
              "BhqNBklJSZDJZFi+fDkKCwv9liUqUololRLVeraAERFNJizAiIiIeikUCoSFhQ25zWAwIDY21v08\n",
              "NjYWBoPBr3nSE9Ro6ehGe5fVr+chIiLxKAIdgIiIaLKKiYmAQiEf03u1WjVmZ8bhbFkT2i12ZGWo\n",
              "Jzjd+Gi10sozkJSzAdLOJ+VsgLTzSTkbIP18UwkLMCIiIh/odDoYjUb388bGxiG7Kg7U0tI1pnNp\n",
              "tWoYDB2IUykBAOeu6JEaGz6mY/lDXz4pknI2QNr5pJwNkHY+KWcDxp6PRZt/sAsiERGRD1JTU2Ey\n",
              "mVBbWwubzYaCggIsXbrUr+dMT3Rd/FRxIg4iokmDLWBERES9zp8/j+effx51dXVQKBTYs2cPVqxY\n",
              "gdTUVKxevRpPPfUUNmzYAABYu3YtMjMz/ZpHqwlDeKgcNZyIg4ho0mAB5kdmsxmPP/44mpqa0N3d\n",
              "jR/96Ee4/fbb3dtXrFiBxMREyOWu8QFbtmxBQkJCoOISEU152dnZeOONN7xuX7RoEfLz80XLIwgC\n",
              "0nRqlNS0ottqR6hybOPJiIhIOliA+VFBQQGys7Pxve99D3V1dXjwwQc9CjAA2LFjByIjIwOUkIiI\n",
              "pC49QYUrNa2oMZgwI0UT6DhERDROLMD8aO3ate7H9fX1bN0iIqJRy0hwjQOraexgAUZENAmwABNB\n",
              "Xl4eGhoa8NJLLw3atmnTJtTV1WHhwoXYsGEDBEEIQEIiIpKq9IS+iTg4DoyIaDJgASaCt956C5cu\n",
              "XcLPfvYzvP/+++4i65FHHsGyZcug0Wiwfv167NmzB2vWrBn2WKNdU8Zmd7gfS3EqUWbyjdQySS0P\n",
              "wEy+kmImGl5SXAQUcgHVnAmRiGhSYAHmR+fPn0dcXBySkpIwe/Zs2O12NDc3Iy4uDgBw9913u/fN\n",
              "ycnBlStXRizARrumzMACTGrrU0hxzQxmGpnU8gDM5KtAZ2LxNzYKuQwp8SrUGjphszugkHMFGSKi\n",
              "YMaf4n504sQJvPrqqwAAo9GIrq4uxMTEAAA6Ojrw0EMPwWq1AgCKioowc+bMgGUlIiLpSk9QwWZ3\n",
              "oKF5bAs7ExGRdLAFzI/y8vLwxBNP4L777oPFYsGTTz6Jd999F2q1GqtXr0ZOTg5yc3MRGhqKOXPm\n",
              "jNj6RUREU5NrHFg9qhs7kKpVBToOERGNAwswPwoLC8PWrVu9bl+3bh3WrVsnYiIiIgpG6Qmuoqu6\n",
              "0YQl2QEOQ0RE48IuiERERBKXplNBADgRBxHRJMACjIiISOLClAroYiNQ3WiC0+kMdBwiIhoHFmBE\n",
              "RERBIF2nQle3DU1tlkBHISKicWABRkREFAT6xoFxQWYiouDGAoyIiCgIZCS41lGr0XMcGBFRMGMB\n",
              "RkREFATSeguwaraAEREFNRZgREREQUATqYRGpUQVZ0IkIgpqLMCIiIiCREaCGi0d3ejosgY6ChER\n",
              "jRELMCIioiDhXpBZz26IRETBigUYERFRkEjX9Y0DYzdEIqJgxQKMiIgoSLhbwDgRBxFR0GIBRkRE\n",
              "FCTio8MRHipnCxgRURBjAUZERBQkZIKANJ0aDc1d6O6xBzoOERGNAQswPzKbzfjJT36C73znO/jW\n",
              "t76FgoICj+1HjhzBPffcg9zcXGzfvj1AKYmIKJik61RwOoFaTsRBRBSUWID5UUFBAbKzs/Hmm2/i\n",
              "t7/9LZ577jmP7c888wy2bduGnTt34vDhwygtLQ1QUiIiChbpfQsyswAjIgpKikAHmMzWrl3rflxf\n",
              "X4+EhAT385qaGmg0GiQlJQEAli9fjsLCQsyYMUP0nEREFDz6J+LgODAiomDEAkwEeXl5aGhowEsv\n",
              "veR+zWAwIDY21v08NjYWNTU1gYhHRERBJDk+EnKZwAKMiChIsQATwVtvvYVLly7hZz/7Gd5//30I\n",
              "gjDmY8XEREChkPu8f4+tf5C2Vqse83n9hZl8I7VMUssDMJOvpJhJajZv3owzZ85AEARs3LgR8+bN\n",
              "c2/73//9X7z//vuQyWTIzs7GE088IXo+hVyGFG0kag2dsDsckMs4moCIKJiwAPOj8+fPIy4uDklJ\n",
              "SZg9ezbsdjuam5sRFxcHnU4Ho9Ho3rexsRE6nW7EY7a0dI0qQ4/N4X5sMEjrbqlWq2YmH0gtk9Ty\n",
              "AMzkq0BnCobi7/jx46iqqkJ+fj7KysqwceNG5OfnAwBMJhP+/Oc/45NPPoFCocCDDz6I06dPY/78\n",
              "+aLnTE9Qo7rRhIamLqRoVaKfn4iIxo63zfzoxIkTePXVVwEARqMRXV1diImJAQCkpqbCZDKhtrYW\n",
              "NpsNBQUFWLp0aSDjEhFNeYWFhVi1ahUAICsrC21tbTCZXJNdhISEICQkBF1dXbDZbDCbzdBoNAHJ\n",
              "mdE3EQcXZCYiCjpsAfOjvLw8PPHEE7jvvvtgsVjw5JNP4t1334Varcbq1avx1FNPYcOGDQBcE3Zk\n",
              "ZmYGODER0dRmNBoxd+5c9/PY2FgYDAaoVCqEhoZi/fr1WLVqFUJDQ/HVr341YD+303SuVq+qxg4s\n",
              "zk4MSAYiIhobFmB+FBYWhq1bt3rdvmjRInfXFiIikh6n0+l+bDKZ8PLLL+Pjjz+GSqXCunXrcPny\n",
              "ZcyaNcvr+0c7bneg4bpsRqrDIAhAQ4s5YF07pdylVMrZAGnnk3I2QNr5pJwNkH6+qYQFGBERUa9r\n",
              "x+fq9XpotVoAQFlZGdLS0twz2N500004f/78sAXYaMft9vFlvJ4uOhxlta3Q69vHNbnTWAR6POFw\n",
              "pJwNkHY+KWcDpJ1PytmAsedj0eYfHANGRETUa+nSpdizZw8A4MKFC9DpdFCpXN39UlJSUFZWBovF\n",
              "AsA10dK0adMCFRXpCWp0WmxoarcELAMREY0eW8CIiIh6LViwAHPnzkVeXh4EQcCmTZuwe/du99jd\n",
              "hx56CN/97nchl8tx44034qabbprwDCUtZaiyCshQTh92v/QEFYou61HdaEK8JnzCcxARkX+wACMi\n",
              "Ihrgscce83g+sIthXl4e8vLy/Hr+f1TuQ1lbJX617JdQykO87pfungmxAwuu0/o1ExERTRx2QSQi\n",
              "IpKQFFUSbA4bqtqrh90vnVPRExEFJRZgREREEpIV7ZravrS1ctj9NJFKaCKVqNZLd+A/ERENxgJs\n",
              "0nOOvAsREUlGlmYaAKCsrWLEfdMT1Ghu74bJ3OPnVERENFFYgBEREUmIWqlCijoR5W2VsDvsw+6b\n",
              "nuCaobG6ka1gRETBggUYERGRxFyvzUK33Yo6U/2w+2VwHBgRUdBhAUZERCQxs+NnAABKR+iGmMYW\n",
              "MCKioMMCjIiISGJma10FWFnr8AWYNjocYUo5qvVsASMiChYswIiIiCRGGxmH6FANSlsr4HR6n0xJ\n",
              "JghI16lQ39SJ7p7hx4sREZE0sAAjIiKSGEEQkKWZBlNPJ/RdhmH3TUtQw+kEag1sBSMiCgaKQAeY\n",
              "Cl544QUUFxfDZrPh+9//Pu644w73thUrViAxMRFyuRwAsGXLFiQkJAQqKhERScSM6EwU68+gtK0C\n",
              "CZE6r/v1zYRY02hCVrJGrHhERDRGLMD87OjRoygpKUF+fj5aWlrw9a9/3aMAA4AdO3YgMjIyQAmJ\n",
              "iEiK+hZkLmutxNLkW7zu1z8TIifiICIKBizA/GzRokWYN28eACAqKgpmsxl2u93d4kVERDSUpMgE\n",
              "RCjCR5yIIzk+EnKZgCpORU9EFBQ4BszP5HI5IiIiAAC7du1CTk7OoOJr06ZNuPfee7Fly5ZhB1sT\n",
              "EdHUIRNkmK6ZBqOlGa3dbV73U8hlSImPRK3BBLvDIWJCIiIaC7aAiWTv3r3YtWsXXn31VY/XH3nk\n",
              "ESxbtgwajQbr16/Hnj17sGbNGq/HiYmJgELhe+uZdcCsWFqtevTB/YyZfCO1TFLLAzCTr6SYibyb\n",
              "EZ2J802XUNZagYUJ873ul56gRrXehIZmM1Li2aWdiEjKWICJ4ODBg3jppZfwyiuvQK32vPi5++67\n",
              "3Y9zcnJw5cqVYQuwlpauUZ17YAFmMEhrfIBWq2YmH0gtk9TyAMzkq0BnYvE3en3jwEpbK0cowFTA\n",
              "Odc4MBZgRETSxi6IftbR0YEXXngBL7/8MqKjowdte+ihh2C1WgEARUVFmDlzZiBiEhGRBKWrUxAi\n",
              "U6CsbfhxYOmciIOIKGiwBczPPvroI7S0tODRRx91v3bLLbfg+uuvx+rVq5GTk4Pc3FyEhoZizpw5\n",
              "w7Z+ERHR1KKQKTAtKh2lrRXo6jEjIiR8yP3SdK6p6Ks5EQcRkeSxAPOz3Nxc5Obmet2+bt06rFu3\n",
              "TsREREQUTLKiM1HSWo7ytkpkx88ecp/wUAV0MeGobuyA0+mEIAgipyQiIl+xCyIREZGEzdD0jQMb\n",
              "uRtip8WG5vZuMWIREdEYsQAjIiKSsExNOgQII48Dc3dD5DgwIiIpYwFGREQkYWGKMKSpk1HVXgur\n",
              "vcfrfu6JOPQcB0ZEJGUswIiIiCQuKzoTdqcdVe3VXvfJSGALGBFRMGABRkREJHH948Aqve6jUYVC\n",
              "E6lkAUZEJHEswIiIiCSub0HmkcaBpSWo0NTeDZPZe1dFIiIKLBZgREREA2zevBm5ubnIy8vD2bNn\n",
              "PbbV19fj3nvvxT333IMnn3xStExqpQoJEVpUtFXB4XR43S+jdxxYDVvBiIgkiwUYERFRr+PHj6Oq\n",
              "qgr5+fl49tln8eyzz3psf+655/Dggw9i165dkMvluHr1qmjZsjSZsNi7UWvyfs6+iTiquCAzEZFk\n",
              "sQCb5JyBDkBEFEQKCwuxatUqAEBWVhba2tpgMrmKGYfDgeLiYqxYsQIAsGnTJiQnJ4uWbUZfN8Rh\n",
              "xoG5p6LXswWMiEiqWIARERH1MhqNiImJcT+PjY2FwWAAADQ3NyMyMhL//d//jXvvvRdbt24VNVtW\n",
              "9DQAwy/IrI0JR5hSjhq2gBERSZYi0AGIiIikyul0ejxubGzEd7/7XaSkpODhhx/G/v37cdttt3l9\n",
              "f0xMBBQK+ZjOrdWqPZ7HO1WIOa1BRXsl4uNVEARhyPdNT9HgclULoqIjEBoytnOPJZ+USDkbIO18\n",
              "Us4GSDuflLMB0s83lbAAIyIi6qXT6WA0Gt3P9Xo9tFotACAmJgbJyclIT08HACxevBglJSXDFmAt\n",
              "LV1jyqHVqmEwDO5GOF09DcX6M7hQXYGECO2Q702KjcDFimacvtiA6clRYzr/WPNJgZSzAdLOJ+Vs\n",
              "gLTzSTkbMPZ8LNr8g10QiYiIei1duhR79uwBAFy4cAE6nQ4qlWtclUKhQFpaGiorK93bMzMzRc3n\n",
              "no5+mG6IHAdGRCRtbAEjIiLqtWDBAsydOxd5eXkQBAGbNm3C7t27oVarsXr1amzcuBGPP/44nE4n\n",
              "rrvuOveEHGLpm4ijtLUCS5JvHnKfvpkQqzkOjIhIkliAieCFF15AcXExbDYbvv/97+OOO+5wbzty\n",
              "5Ah+/etfQy6XIycnB+vXrw9gUiIieuyxxzyez5o1y/04IyMDO3fuFDuSW1JkAsIV4cO2gKVoIyGX\n",
              "CajmWmBERJLELoh+dvToUZSUlCA/Px+vvPIKNm/e7LH9mWeewbZt27Bz504cPnwYpaWlAUpKRERS\n",
              "JxNkyNJkwGhpRmt325D7KOQyJMdHolZvgsPBxUiIiKSGBZifLVq0CL/73e8AAFFRUTCbzbDb7QCA\n",
              "mpoaaDQaJCUlQSaTYfny5SgsLAxkXCIikrgsX9YDS1DBanOgoXlsk4AQEZH/sADzM7lcjoiICADA\n",
              "rl27kJOTA7ncNS2wwWBAbGyse9+B680QERENxb0gc9swE3G4x4GxGyIRkdRwDJhI9u7di127duHV\n",
              "V18d13FGu6aMxWpzP5biVKLM5BupZZJaHoCZfCXFTDQ66epUhMgUwy7InDFgIo4vzxUrGRER+YIF\n",
              "mAgOHjyIl156Ca+88grU6v6Ln2vXm2lsbIROpxv2WKNdU6a7x+5+LLX1KaS4ZgYzjUxqeQBm8lWg\n",
              "M7H4mxgKmQLTotJR2lqBrh4zIkLCB+2TxqnoiYgki10Q/ayjowMvvPACXn75ZURHR3tsS01Nhclk\n",
              "Qm1tLWw2GwoKCrB06dIJPX+InN9iIqLJJkszDU44Ud5WOeT28FAFdNHhqG40wenkRBxERFLCFjA/\n",
              "++ijj9DS0oJHH33U/dott9yC66+/HqtXr8ZTTz2FDRs2AADWrl074Yt6ymQCZIKA69KjR96ZiIiC\n",
              "QlZ0JlAFlLVVIjt+9pD7pCeocOILA1o6uhEbFSZyQiIi8oYFmJ/l5uYiNzfX6/ZFixYhPz/frxkE\n",
              "wa+HJyIikWVqMiBAGHYcWFqCGie+MKCqsYMFGBGRhLB/GhERUZAJV4QhVZ2M6vYa9Nh7htwnI8E1\n",
              "Dqym0SRmNCIiGgELMCIioiA0Q5MJm9OOyvaaIbf3TUVfxanoiYgkhQXYFGB3OFHV0B7oGERENIGy\n",
              "RlgPLFoViqhIJarZAkZEJCkswKYIc7d95J2IiChoZEVPA4Bhx4Gl61Roareg0zJ0N0UiIhIfCzAi\n",
              "IqIgFKVUQxcRj4q2KjicjiH3SR+wIDMREUkDCzAiIqIgNUOTCYu9G3Wm+iG3p/dOxFHNcWBERJLB\n",
              "AmwK6e5hN0QiosmkbxyYt26IGb0tYJUNLMCIiKSCBdgU8sOtBwIdgYiIJtCMvok4vBRg2phwxEWF\n",
              "4nSJEV0Wm5jRiIjICxZgREREQSouLBYaZRRK2yrgdDoHbZcJAm5fkIruHjsOnRu6myIREYmLBRgR\n",
              "EVGQEgQBWdHT0GE1wWA2DrlPzg3JCFHI8NnJWjiGKNKIiEhcLMCIiIiCWP84sMoht6vCQ3DLnATo\n",
              "W8w4X94kYjIiIhoKC7ApZqguKkREFLxmaIYfBwYAqxamAgD2FteKkomIiLxjATbF7Pj7xUBHICKi\n",
              "CZSsSkS4IgylbcMsyJygxsxUDc6XN6OhuUvEdEREdC0WYCK4cuUKVq1ahTfffHPQthUrVuC+++7D\n",
              "Aw88gAceeACNjY1+zXL0QiN+v+ss3j1Yjm6ra1r6OmMn9vGuKBFRUJIJMkzXTIPR3IS27nav+63s\n",
              "bQX7jD/viYgCShHoAJNdV1cXnn76aSxevNjrPjt27EBkZKRomU6XGnG61AiHE/hGznT81yvHAAAz\n",
              "UzVI710zhoiIgscMTSYuNF1GaWsFFibcMOQ+C67TIlqlxKFz9fh6znSEh/ISgIgoENgC5mdKpRI7\n",
              "duyATqcLdJRB2ju7PZ6bu7lGDBFRMOqbiKNsmG6ICrkMt92YAovVjiPnG8SKRkRE12AB5mcKhQJh\n",
              "YWHD7rNp0ybce++92LJli6iTZJi77R7PHZyfg4goKKVHpUIhU6DMy0yIfZbPT4FCLuCzk7WclImI\n",
              "KEDY/yDAHnnkESxbtgwajQbr16/Hnj17sGbNGq/7x8REQKGQT8i5iy7r8aS2v8vhB0cqkXNT+oQc\n",
              "21darfS6PDLTyKSWB2AmX0kxk9Rs3rwZZ86cgSAI2LhxI+bNmzdon61bt+L06dN44403ApBwsBCZ\n",
              "AtOi0lDWWgmzzYxwRfiQ+2kilVg0S4fCC424WNmCuZmxIiclIiIWYAF29913ux/n5OTgypUrwxZg\n",
              "LS0TO3uVXt8/YPtyVQsMho4JPf5wtFq1qOfzBTONTGp5AGbyVaAzBUPxd/z4cVRVVSE/Px9lZWXY\n",
              "uHEj8vPzPfYpLS1FUVERQkJCApRyaDM0mShtrUB5WxXmxs3yut/KhWkovNCIfcW1LMCIiAKAXRAD\n",
              "qKOjAw899BCsVisAoKioCDNnzhQ1wx92nxP1fEREUlZYWIhVq1YBALKystDW1gaTyeSxz3PPPYef\n",
              "/vSngYg3rP4Fmb2PAwOA6clRyEyKwplSI/StZjGiERHRAGwB87Pz58/j+eefR11dHRQKBfbs2YMV\n",
              "K1YgNTUVq1evRk5ODnJzcxEaGoo5c+YM2/rlD6dKjF63OZ1OvH+4EvNnxCMjUfp3romIxstoNGLu\n",
              "3Lnu57GxsTAYDFCpVACA3bt34+abb0ZKSkqgInqVqcmAAGHYBZn7rFqYih1/v4iCk7XIXSHujT8i\n",
              "oqmOBZifZWdnDztGYN26dVi3bp1fMzz90M34rz8fH/X7Smrb8N6hCrx3qAKvPr7CD8mIiKRt4EQV\n",
              "ra2t2L17N1577TWf12wcz7jd0XfZVGNadCqq2muhiQ2DUu69i+SdyyLwf/vLcOhcA/7t6/MQphz9\n",
              "5YCUu5RKORsg7XxSzgZIO5+UswHSzzeVsACbApLjx7bGmMVqH3knIqJJRKfTwWjs7xmg1+uh1WoB\n",
              "AEePHkVzczPuv/9+WK1WVFdXY/Pmzdi4caPX44113O5Yx+tlqNJR0VqD4vJLmNHbJdGbZfOS8MGR\n",
              "Svz9QCmWzx9di16gxxMOR8rZAGnnk3I2QNr5pJwNGHs+Fm3+wTFgU4AgCNe84kRIxkXIYgbfwe20\n",
              "9Ax4n5+DERFJzNKlS7Fnzx4AwIULF6DT6dzdD9esWYOPPvoIb7/9Nv7whz9g7ty5wxZfgeDrODAA\n",
              "uO3GFMhlAvYVc0p6IiIxsQCbikK6oUioRujMU4M2/fi3B1Fa1wYAYP1FRFPNggULMHfuXOTl5eGZ\n",
              "Z57Bpk2bsHv3bnz66aeBjuaTvlYvX8aBxahDsfB6LWoNnbhS0+rvaERE1ItdEKcgQRj+Tud7B8ux\n",
              "Ie9GkdIQEUnLY4895vF81qydxL05AAAgAElEQVTBU7qnpqZKZg2wgaKUaujC41HeVgWH0wGZMPx9\n",
              "1pULU3H8kh57i2txfXqMSCmJAkvfZcSHFZ/g7qy1iAmLDnQcmoLYAkaDXKhscT1gExgRUdDJis6E\n",
              "xW5Bnal+xH1npGiQnqDCqStGNLdbREhHFHjvln6IE42n8Y/KvYGOQlMUC7Ap4pFvzx/V/naHA9Ye\n",
              "h5/SEEmTydoJq90a6BhE45Ll7oZYOeK+giBg5cJUOJxOFJyq83MyosCr7biKM8YLAIBjDSfRbpXu\n",
              "xBk0ebEAmyJW3Zzufux0jty09cSOY1ykmaacnx/6JX5+8JeBjkE0LjM0vRNxtI08DgwAbpmdAFV4\n",
              "CA6cvooeG2e/pcnt48p9AIAbtNmwOWw4UHM4wIloKmIBNkUIgoC7bh1+SuKB9C1mP6Yhki6ro2fk\n",
              "nYgkLD48FhqlGmWtFT7NbqgMkSPnhmSYzD04dlEvQkKiwLhqasApwzmkq1PxL3PyoAqJxOd1hbDY\n",
              "ugMdjaYYFmBTCKeVJyKa/ARBQFZ0JtqtHTCYm3x6z+03pkAQwCnpaVLra/1am7kKSrkSOalL0GUz\n",
              "o7C+KMDJaKphATaFyNwV2OgrsQef+wznyn37RU5ERIGVpfF9OnoAiNOEYcFMLaoaO1BW1+7PaEQB\n",
              "0dCpx0n9WaSqkpEdNxsAsDxlCUJkIfis5iDsDna/JfGwAJtCls1L6n00trubv3n7zMSFISIiv3Ev\n",
              "yOzjODDANSU9AOwtrvFLJqJA+rjyMzjhxJ2ZqyD03pBWKSOxOGkRmi0tOKU/G+CENJWwAJtCNKpQ\n",
              "/Oju7KE3CnbIVC0Ya3FGRETSkaJKRJg8zOcWMAC4Pj0aKdpIFH9hQEsHx8TQ5KHvMuBE4ykkRyZi\n",
              "Xvwcj20r05dBgIBPqw+w+y2JhgXYFLPweu2Qr4dknkfonGOQxzaInIiIiCaaTJBhenQGDOYmtHX7\n",
              "Ns1235T0docTB05zSnqaPPZUFrhbv65dnDw+PA7zdV9CrekqvmgpDVBCmmpYgIngypUrWLVqFd58\n",
              "881B244cOYJ77rkHubm52L59u19zdPWY4XAOvbaXPLYRACBEtgOCHZAPPRNcp4UzxBERBYO+6ejL\n",
              "RtENcfGcRESEKrD/9FXY7FwLkoKf0dyE440nkRiZgPnaoXsBrU5fDgDYW31AzGg0hbEA87Ouri48\n",
              "/fTTWLx48ZDbn3nmGWzbtg07d+7E4cOHUVrqn7svdocdPzu4Cc8e/zUEYWATu9PjL8CJsBv3I3zh\n",
              "viGP8/Gxar/kIyKiieUeBzaKboihSjlunZeE9k4rii5zSnoKfnsqP4PD6cCd01YOav3qkxGVhpnR\n",
              "03Gp+QpqO66KnJCmIhZgfqZUKrFjxw7odLpB22pqaqDRaJCUlASZTIbly5ejsLDQLzl6HDYAQGOX\n",
              "AfL4/q4l4TfvAQQHBHn/nU5BMbiVS5FcCkXqF6jRc8V4oj5OpxPVHbWcPYskKSMqDQqZYlTjwABg\n",
              "xcJUCHBNSU8UzJrMzTjaUIyECC0W6OYNu+8qtoKRiFiA+ZlCoUBYWNiQ2wwGA2JjY93PY2NjYTAY\n",
              "/J4pJPWaVja5zf1QEVfvuU1wAIIdIamlCEmuQHtYmd/zEQXCWAZfH60/geeLfo93yz7yQyKi8QmR\n",
              "KZChTkOdqR5mm9nn9+miwzEvKw7lV9tRUc8p6Sl4fVJVAIfTgTXDtH71mRs3C8mRiSjWn0GzpUWk\n",
              "hDRVKQIdgEYnJiYCCoV81O8z91h82k9Qdg94bEbYfM87Qe0hNYiLU0Emm5hVnbVa9YQcZyIx08ik\n",
              "lgcYf6aB4yN9PVZ1matL7rnmi/iB9r4Jz+QPUsxE/jMjOhNlbRUob6vG3LjrfX7fyptScaasCXtP\n",
              "1OJ7X5sz8huIJKbF0orC+hPQhsdhoe6GEfcXBAEr03PwxqW3UVBzCN+c+TURUtJUxQIsgHQ6HYxG\n",
              "o/t5Y2PjkF0VB2pp6RrTueSR3rtIyaOMQ75+bfEFACZzN+762fvYkDsfXd02LJo1fN7haLVqGAzS\n",
              "6tLITCOTWh5gYjINLMB8PZal29Vd12F3DnrPZP2cxnt+EldWdCZQBZS2lo+qAJszLRaJsREoutyI\n",
              "3BUzEBWp9GNKoon3SdV+2J12fGXaSshlvt24vilhPj4o34NDV4/hzmkrERES4eeUNFWxC2IApaam\n",
              "wmQyoba2FjabDQUFBVi6dOmEn6erpws/+OAXXrcrZ4x+8cGt+afx4rvnxxOLyIPZZoGppzPQMUZF\n",
              "qkvGWO3WQEcgiZiuyUCILAQFNYdwoemyz++T9U5Jb7NzSnoKPq3dbThy9RjiwmJxc8KNPr9PIVPg\n",
              "9rRbYbVbcbDuqB8T0lTHAszPzp8/jwceeADvvPMOXn/9dTzwwAN47bXX8OmnnwIAnnrqKWzYsAH3\n",
              "338/1q5di8zMzAnP8EH5nok7mCDRK04Keo99/iR+fvCXATv/2BbgdL2nr0PuXy/vwrZTO8Z0/s9q\n",
              "DmLDgSfR1eP7WJ2hHL56DD898J84b7w0ruPQ5BCuCMND2fcDcOKls/+DY/XFPr93SXYiwpRyFJyq\n",
              "45T0FFT2Vh2AzWnHV6bd7nPrV5+lybcgTB6G/bWH0WPn0jvkH+yC6GfZ2dl44403vG5ftGgR8vPz\n",
              "/Zrh87qJnFnR8yLVZnegrK4NM1Oj4XA6UdXQgczkKMiEiRkjRhQUev+9H756fMyH+FvJBwBcXcXm\n",
              "aeeO+Tj7qg8CAI41FCM7fvaYj0OTx5fi5+DH8x/Gi2dfw+uX8tHRY3LP+Dac8FAFln4pCfuKa3Hy\n",
              "igE3z04QIS3R+LR1d+DQ1aOICY3GLYkLR/3+cEUYbk25BXurD+B440ksTb7FDylpqmMLGI3ONS1g\n",
              "bxeU4vm/nkLBqTrs/rwcz75RjIKTdbhQ2YyqBmmNfyHfOJwOWHnXL2DEaGOubq9lN8UpJit6Gv59\n",
              "wQ+hUUbhndIP8U7phz61+q5cmAqAU9JT8NhXfQA9Dhu+Mu12KGRja2e4Pe1WyAU59lV/7jE+mGii\n",
              "sACjURGuKcD2nnD9Ui6pbcXZsiYAwK4DZdj61mn88n+KRM9H4/ebky/hpweemHJrWznHWfoMvJgt\n",
              "a61Es7l1zEn8qay1Es+f+D3+dO51v56HpCdZlYgNC9cjIUKLvdUH8Malt0f8f54YG4HszFiU1Lah\n",
              "upE31UjaOqwmHKwrRHSoBl9OWjTm40SHarAo4UY0dhnYnZv8ggUYTZirRtcECt3WqXXhPtmUt1UC\n",
              "AKwO8VrBpDD5xthGgLneZTQ3Qd/Vv4bfr0/+ET/8YKNoOUbjamcDAOBS8xWv+5xoPI23r7zr5yQU\n",
              "CHHhMfj3BT9ChjoNxxqK8adzfxmxNbSvFWwvW8FI4vZVfw6rowd3ZNyOkDG2fvVZmZ4DgAszk3+w\n",
              "AKPR4SQcknNSfxY7zr3hh24S/v1e2x12nDach9VuRbM5+Be9/LjqM4/nY5vUA36fWlGGkcdnvnbh\n",
              "rzhQe2RUi/dS8FApI/HIjQ9jdux1ON90GdtO70Bnj/clTr6UFQdddDiOXWyEyczuySRNJmsnDtQd\n",
              "gUapxpJxtH71SVYlYm7cLJS1VaK8rWoCEhL1YwFGozT0xaFUp+OeCv58/k2cNpxDnal+Qo/r7+/p\n",
              "vurPsePc69hV8v64u/9NiHF+wccbTk5QEP8SBN9/7PP/9eQVpgjFD+b9C25KmI/ytir85uSLaLEM\n",
              "3W1WJghYsSAFPTYHPj9zVeSkRL75rOYgrHYrVmfcjhB5yIQcc3XvZDVsBaOJxgKMRsfLzfOiy3px\n",
              "c9AgkihiRqG6w9WdqUwidxbH1AXRDxWKv7+LAmcopV4KmQLr5uTh9tRbUd/ZiK3Ff0RD59A/y2+d\n",
              "lwRliAwFJ2vhcATXzxqa/Dp7unCg9jDUShWWJt88YcedET0dGeo0nDVcQOOAbuZE48UCjEZFFjG2\n",
              "QdjdVjs+LKxEexdnXgP8s1Cu4EPXstHhRVYg+LuQ3lu136/Hp+AiE2T45syv4a7pd6KluxW/PvlH\n",
              "VLRVD9ovIiwES7KT0NTejdOlxgAkJfKuoOYQLPZurEpfDqVcOWHHFQQBqzKWwwkn9lV/PmHHJWIB\n",
              "NsWsnbYqIOf94Egl/nagHH/+O2cTutR0BT898J84UHsk0FGG5e/ya+DxJ754HAtpFpydPV0T0tJ2\n",
              "3ngJH36xDw1do2mtluZn4m+bN29Gbm4u8vLycPbsWY9tR48exbe//W3k5eXhF7/4BRyO4J+iWhAE\n",
              "3DHtdtw/6x509Zjx+1Mv42LTF4P2W7kgBQCnpCdp6eoxY3/tIahCIrEsZfGEH3++NhvxYbE41lCM\n",
              "ditnAqWJwQJsinGIfEFVUd8Om92B5nYLAKCx2ftA76miqPEUANdaJVLmj+51QxEgfvdJm8M26Osb\n",
              "SwKb07cZPy02C/ZWHxh2ogN3jgGTqdSZ6vEfB59C/gTMSPji2dfwl9O7RvWeqVh+HT9+HFVVVcjP\n",
              "z8ezzz6LZ5991mP7k08+id///vd466230NnZiYMHDwYo6cRbknwzHv7Sd+GEEy+efW3QuMYUrQqz\n",
              "M2JwqaoFFVfbApSSyNOB2sMw2yxYmZ6D0Als/eojE2RYmZ4Dm8Mm+RunFDxYgE0x/vjhNJyn/3IC\n",
              "D/9qP45ebBT1vFLSbbcOWcxI/eLWgcDc2fd34Wd32PGT/Rux/cyffTpvV4/Z6zT5ZwznfTrnB+V7\n",
              "8E7ph8j/4p1RZS1pKQcAHKwrHNX7JopYRbiUFBYWYtUqV0+BrKwstLW1wWQyubfv3r0biYmJAIDY\n",
              "2Fi0tAT/DJ4DzdPOxf+b/z2EypX4y8W38FmNZ4G5+qY0AMATLx7BGXZFpAAz2yz4rOYgIhURyPFD\n",
              "61efLyfdBFVIJD6vPQKLrdtv56GpgwXYFJOTskS8k8lsUM46DlmU5y/pLkvPlJnKuMXSin8/8J/4\n",
              "6+W/BTrKqI108V3RVoXixtNet3daxvY97msNO1h3FFtObB9yodjXLvwV/3flvTEd32h2LRg+3DpY\n",
              "Hdb+C+6fHdyEnx/8JTqsJvTYx/Y19Z1Tb+7/v1DdUYtzxouD9h1/yTNxRVOwTewyEYxGI2JiYtzP\n",
              "Y2NjYTD0D75XqVQAAL1ej8OHD2P58uWiZ/S3GdGZ+OmCH0KjVONvJR/gvbJ/uH8ezJ8ZjwfuuA4W\n",
              "qw2/23UWb+0rgc0e/N0wKTh9XnsEXTYzVqTnIEwR5rfzKOVK5KQsRpfNjML6Ir+dh6aO8a1SR0En\n",
              "TBGKdHWqewY6f5LHXYU8qhnyqGaYj68B4Lqg+3+/dd1R/WDrXRN2rkvNV7D99J/x2E3rMS0qfcKO\n",
              "O16V7TUAgCP1x3H/7Hv8eq6Jvlge6XhbircDABYmzB+07VJlM3711mncvSwT/7w0c3TndToBAXjr\n",
              "i90AgPrORmgj4nGh6TLmxc+BQqbAid7C71vXjf7f0EeVe72d2f1oqDXVni/6PVq6W/HLxY8jPjx2\n",
              "3DNiPV/0ewDA9hUvXBNjwOc+jqFxEzGuzjEFW8CuNdSNiKamJvzgBz/Apk2bPIq1ocTEREChkI/p\n",
              "3FqtekzvmwharRrP6n6OZw/8Hp9UFaBH1o2Hb7oPcpkc3/7KbCz6UjJeeOMEPimqQXlDB/7jOzch\n",
              "KT4yYHmvFcjPzhdSziflbEB/PkuPBQW1BxEZEo5vzr8DESHhfj3vN9R3YG/NARy4ehjfnH8H5LLB\n",
              "/6+D5bOjwGMBNgU9tnA9Htn/i0GvhyvC8O8LfoQXTmxDj8M/LVRjvZ6z2R2QyQTIvEyh/U7ph3DC\n",
              "iU8qC/DwvHXjSDh6bd3tKGktx0LdDaJN8b279O+QC3LclXXnsPsVNZxCmCIUX4qf43Ufu8OOHkfP\n",
              "oLuHY+1+9uviP6KzJQJAOj45XjPqAmznF7vxtelr3M8FQcDbV97F0foTuCvrTtyRcfuYcvXpcdiG\n",
              "fN3p8dgJi83i8Zm0dLvWSCprrUB8eCyO1xePK4c3Uip5nAHqhhpIOp0ORmN/S6Ver4dWq3U/N5lM\n",
              "+N73vodHH30Ut95664jHa2kZ27hXrVYNgyGwA/4FKPGTG36AP555FQUVR2DsaMWDc++HUh6CzGQN\n",
              "nvjOQrz56Rc4fK4Bj2wtwLo1s3DLnISAZgak8dkNR8r5JjKbqacTckGO8AlsmRqY79Oq/eiwduKr\n",
              "mavR2WpDJ/z/mX458SZ8XleITy4ewU3X3HyU8vcVGHs+Fm3+wQLMzzZv3owzZ85AEARs3LgR8+bN\n",
              "c29bsWIFEhMTIZe77qJs2bIFCQkT/8trTtz1HjNaDXXXBnDdMU9WJSI+PBb1nUOP2RrdNfngYmSs\n",
              "09A//Kv9yEhQY9O/jn91+4m2tfiPaLI0Qx2iwvWxM0Q5Z990uCMVYP9zcSeAIVpZBvj/jv4KRkvz\n",
              "oH18bf1wOp0ehWdZW2Vv5+Z0jKUeLawvGvQLu6y1AgBGtdh0i6UVMkEGTWjUtYG9vKP/9b9e/hsu\n",
              "NF3GrJiZXo8/mgWN3e8Z9Ts8XW4uQWV7DdZMWzHOI/lmKo4BW7p0KbZt24a8vDxcuHABOp3O3e0Q\n",
              "AJ577jmsW7cOOTk5AUwpHrVShZ/c+DB2nHsD54wX8YfTO/CDef8CQI1QpRwPfXUO5mTE4vVPvsDL\n",
              "71/Axcpm3LfqOoQqx9bqNxYOpwP6LgOq2mtR1VEDZ5kdUTINdBHx0EVooQ2PR5giVLQ8U5ndYcf5\n",
              "pks4crUIF5ouQyFT4ObEBbgtdSmSVYkTdp5uuxV7qw8gTB6G21JHvhEyUVak5eBg3VHsrdrv15uu\n",
              "PfYeVwErk0MhyCGXKaAQ5JAJMq7lOEmwAPOjgbNplZWVYePGjcjPz/fYZ8eOHYiM9G+3jR/O+1eY\n",
              "FK0wtfUXP3dk3I5Pqgo89uvrsqQQvP/idP2/d2K4S0lZtB4Ok2bweyPb4NTWAlWzAacM7Z1WbH/n\n",
              "HO5amolUnWrQ/h8WVuJcWRP+4/4FAICqRu93bgJ5odhkaQYAtHaPblawgZltDhucAEJkI/+XvNB0\n",
              "eVTnGYmxN/+1hZSvXRqdcPrU3e2M4QKmazKgVvZ9r70fv8XS6n4sQBg2Sbu1Ay/tfxV3pq1GRlSa\n",
              "+/X/PLIZwODi05evqu8zvtxSMuT2tu527K3e78ORhjZUF8c+3j53U08ntp3eAQBYlvJlRIZEjPn8\n",
              "1yptrUByZOKgLjwDs5htZui7jB6f8WS0YMECzJ07F3l5eRAEAZs2bcLu3buhVqtx66234t1330VV\n",
              "VRV27XLNKPlP//RPyM3NDXBq/wpThOGHN/wrXr+Yj2L9Gfzm5Ev4evdXEGZXQRcRj8XZiZieHIWX\n",
              "3ruAg2frUVrXhh/enY1U7eCf6+PldDrRbGlBVUctqtprUNVeg5qOOljsw0+MoFFGuQsyXUQ8EiK0\n",
              "0IXHIz48zutNSfJdQ6cehfVFONZQ7B5Dm65OQWdPFw5fPYbDV49hVsxM3Ja2FHPjZkE2hhtYAx2q\n",
              "OwpTTyfunLbS710PB9JGxGG+NhunDOfwRUspZsV6v0k3Fj32Hhy8ehR7Kj/zOvmTqyCTQyEoIJfJ\n",
              "IRfkUMj6i7Rriza5TI4QmQLf+NJXEAPtkMck8bEA8yNvs2kNvJsqBpkgQ1ZsBgz2/gLmn3u7eA0s\n",
              "wnJSXRN0KK4pArLjZuN804D1uwQn4Bz6gluIbEXodSfhsITDdjXLY1vYXNdMbva2ODhaErHrsxIU\n",
              "f2FA8RcGLJuXhHtXzUSYsv/cfzvgmgHuQkXzkOe6WNmMfcW1+MFd2QMCjO3OUFt3O/5RuQ8PqO7C\n",
              "RMxNU9Veg7+V/B0LdPMGbRuqWNlw4L8AAL+7/b8BAB9X7kNnTxe+OfNr7n3+UbEX3XYrPh3Hhf9w\n",
              "HE4H5AOKb29FrbnH4jEVb9+Yrb5jDKWkpRx/OvcXJERo8eSXf+axbTRjlYba95PKApxrvIzK5lo8\n",
              "t+zJEY/hrcAZTQ2/49zrXrsyDn1OT4fqjvr0voFf77PHfu1+PFwBN1rVHbX4zckXkaJKwsabf+qx\n",
              "beC/gd+d+hNqOurwX7dsQGJk4LuZ+dNjjz3m8XzWrFnux+fP+zbz5WSjkCnwL3PvhUqpwoHaw9h+\n",
              "/C/ubZGKCGgj4pG+KA5hDTKUltvw9NuN+NaSeVg5f9q47th3WE3uQquyowbV7bUeF6YCBOgitJgX\n",
              "lYoMdRoyolKRnqDD5bpq6LsM0HcZXX+bjShtrUBJa7nH8WWCDPFhsR7FmS7c9bcmNGrchcJkZrF1\n",
              "45T+LI7UF6G8rRKA69/CbalLsST5ZqSokuBwOnDOeBEFNYdwuaUEl1tKoA2Pw/LUpVicdNOYJs6w\n",
              "2nvwafV+hMqVuD1t2QR/VSNbnXEbThnOYW/1gQkrwBxOB441nMSH5Z+gpbsVYfIwLNTdAAecsDvs\n",
              "sDltrr8ddtiddtgdNtic9t5tdljtVthsZtgdDtidNtgc9kG/667TT8MyLQswqWAB5kdGoxFz5851\n",
              "P++bTWtgAbZp0ybU1dVh4cKF2LBhg2hNy4Ig4K6sO90FWE7KEnw1czUA4P7Z38JfL+9CeVsVAGBF\n",
              "2jLkpCzBqyc+gEWphyKxArb6TAxVqMhCza6/w8zezy1zXTz29PTPbnfwbD0Onq3Hnbek40vT4zAr\n",
              "o39g++sfD14QFAC2vOWaiOFUSf9kCNd+eq2mbrxdUIpvLJuO+GjPu2SNnXo0GGyouWpFraoA54yX\n",
              "UFhfhOdvfXLcsyn96dzraO1uQ8MQXTmHKgCuXU/qg/I9AOBRgP294pNB79s5gbMr2p0OyDGgAPMy\n",
              "/ueNM7uxt2zotY+8FW3NFtdU3WOZuEIQBHd1dLHpC7x9zeyHfdPl+1qUeG8t9a0CM9ssqGiv9mnf\n",
              "a/UtqlzV3j8JzqCWRy/5RrsAaLH+DB7E/SPuZzS7bnAM1b3TCSeumhqgVqpQ01Hn3n+yF2A0NJkg\n",
              "w7dm/jMWJcxHu9CCssZa6M0G6LuaUNNRh8r2akAGKHt7Yr/Tchgf7AtHenQiEiN7i5veQic+PG5Q\n",
              "i7/ZZkZ1ex2qOmpc3Qnba9xjL/vEhsXgxujpyIhyFVtp6tRBXZa1ajXkceGYG3e9x+tWew+M5iZ3\n",
              "YdZo7i/QzjddBq7pXaCUhUAbEY/IkEjIe7t+yQUZZJBBJoz0R3D9DZnrPb1/5IIc11kzEAfdgN4A\n",
              "wcPpdKKyvRpHrhahWH8a3XYrBAiYFTMTS5IXYV78XITIQ9z7ywQZbtBm4wZtNmo7rmJ/7WEUNZ7C\n",
              "rpL38ffyPVicvAi3pS5FfHiczxkOXz2GDqsJd2TcPqE9AXyVEZWGmdHTcan5CupM9UhRJY35WE6n\n",
              "E2eNF/F++cdo6GyEQqbAyrQc3DHtdqhCxtc7yuF09BZsNjicTkxLTpD0GLWphgWYiK69sHrkkUew\n",
              "bNkyaDQarF+/Hnv27MGaNWu8vNtlomfUigwJR2ePGWlxCdDpotz7zZv2OL6d/0MAQHysGrO0M1Bo\n",
              "OIpT9XqEpJXA6ZADNiUcnVFwdocDztFnstoGXzDvuXIcH5+OwnPfu8P9mlzef3EaGxsJudyz8AuP\n",
              "CEVDvevC3thuwda3z2DzD5dCJhPwP3u+wNELjei02LH5R0vd77E77Fj/2RZXjoq5SJ6jB+DqCvi3\n",
              "ivfw6JJ/8ziHxdaNULnSfaF8tuESZsZlIjyk/xd/lcGEf5rn+oz7bpp22voH4Pd9/mFhIb1fl2zQ\n",
              "98Tbc2+DYA9dPeZ+HBMdCW3s0Pv5Mog2Ni7C4+s5qD+C797wTUQoPQvXunMNHs8johW4bCjFTcnz\n",
              "BhWSgsKO7ed2IDY8elAWZajrx49cIUNMjOcvmtDQ/l/gsbGRkPX+G+i0deFA7WGPY4VX965tJxv6\n",
              "6xz42qsn8z1acwduM1l9u9P9Wd3nPu0HAFExoThcfQJOmetzabK04LPGAve/AQCIj1dBJus/t0od\n",
              "Cq1WjcuGUrztZQFmRaQD2uihv6cOof//lVarhrnHghePvzHkvlqtGmpzmMfzgUzyNvyq8CXIB7QC\n",
              "xERHclD2FCYIAjI1GdBqs3FDVP/FnN1hR7OlFXqzq6CpaW3A6ZpqmIU2lLdVoLy9wvM4EBAbFg1d\n",
              "hBYRinDUmq4OukGjDlEhO24W0qPSkKFORUZU2riKFqU8BMmqxCHHInX1dPVmN/YXaF0G6LsMqHP4\n",
              "PvbUJ72NcPFhscjUZGCaJh3TozKQokqSbHfIDqsJxxtO4kh9kfvGYkxoNFam5eDLSYsQFz78bKAA\n",
              "kKpOxndmfwt3Zd2JQ3XHcLDuCApqDmF/zWFkx8/G7am34rqYrGFvRFvtPfi0aj+UciVWpgVuHOaq\n",
              "9OUoaS3Hp1UH8C9z88Z0jJKWMrxX9g9UtFdDgIAlSYuwNnM1YsKiR36zD2SCDEq5DEDIiPuS+FiA\n",
              "+dFIs2ndfffd7sc5OTm4cuXKiAXYRM+o9cj872Nv9edYEL1g0Pavz/gq9lV/DrU9BgZDB3qs/Rd2\n",
              "yoz+O4X29lhYL9/c+2xgkdn/Q1QIHdCXubf74qC1Y0IsCJ3patX64EB/90X7gP3u/o8PsG7N9UhP\n",
              "6L8APFBcA0e06wK3ymiEtbwJFTXNMLSaoW9ynbfNZPH4+qwD1nNSZl6AcUCD3dHaUx77mno68fOD\n",
              "v0RChBbp6jR0WDtwuaUECpkCv7tts3u/T49V45vZbZDLZBiqMabvmN0Wm/vrKqu76nGXq7pej3BF\n",
              "f8HzZtF7OGE4hccXPjr4gNdoae306GY61LmHoze0ISKk/3P5rPwwui023Dfrm8O+79cHX8HFpi9w\n",
              "/6x7sEB3g8c2R1QdLho8x1GV1tZBExoFa7frc+jqNqOlxbOve0VzTf/X1dzp8W/g2q/L3LvemNPh\n",
              "HPLrHPjaxyX7vW7r7PHt/1ZTl+8L7756/P9QUHPI47W/X97n8TnpDe0eF10dHa5/q09+ttXrcR/b\n",
              "8wwevfEHmBkzHQ6nA9tP/xlf0s7BbalL4RjwWRkMHfi0aj+O1p4c8jgGQwfa280ezwf61aGXALha\n",
              "R/u0tHbCoBjbXVQWbp4tV1sAACAASURBVJOXXCaHNiIO2og4V8tTGnD/XAfeO1SJDwvLIAs3Y8lC\n",
              "NVJSBRi6jNCbDTB0Gd3r8YXJw3BdzAx3oZURlYqY0GjReoVEhERgWkj6oGVMnE4nHE4HHOj92+sf\n",
              "JxxOO+xOB5xwwu60w+l0wn7Nfj2OHjQ7mnChvgSVbdUoajyFosZTAIAQWQjS1amYrslApiYdmZoM\n",
              "RCkD93/G4XTgUvMVHLlahHPGi7A77VAIcizQzcOSpJtxfeyMMXXRVCtVuDNzJVZnLMcp/TkU1B7C\n",
              "OeNFnDNeRHJkIm5LW4pFCQuglA8uHArKj6DN2o5V6cuhUgZu2YM5cdcjKTIBxfrTuCtrzaiKppqO\n",
              "q3i/7B+42Ozq3TNfm42vTf8KexZMMSzA/Gi42bQ6Ojrw6KOP4sUXX4RSqURRURG+8pWviJ4xVZ3s\n",
              "9e7NqvTlWJXev8iot1+E8qhmQHBApmqFTDVgIooBtVhIxoAxZHBCFtOAZsGGgf8EBUX/xX+hvhAh\n",
              "6Wb0VM9GU3v/4OqQaefxZnENVF39BVpbZzfQ+7NPkLsu6qsaOvCbt894+7KHdW1XtoZOV+tYY5fB\n",
              "4w6tbYgxQH2NnBabZcTztHS34heHnvZ47ZOq/R4zG75f/jGA/ok+htV7brvDPqa7qPYhqsa+BYSH\n",
              "PFGvy82uAqu+s9Gnacvzv3gHD89b5z5Kk6UFxY2e36uBn/OVljJY/bQswkD+WHS4ztQw8k6Dcvjm\n",
              "cvMVzIyZjvbeGwKXW0rQ2KlHk6W/QLTarTD78G9xdPmm3syINDZymQzfyJmO2enR+NMHF3HwoBXZ\n",
              "02Pwb19dgqhIV8u1xWZBZ08XYsKiJTneytXtcGDn7PHTatVYruuA0+mEvsuA8vZqVLZVoaK9GuVt\n",
              "lShr628tjAuLQaYmA5lRrqIsVZXs91Yyo7kZhfVFOFp/wj25VHJkIpYk34xFCTdOWOGjkCmwKPFG\n",
              "LEq8ERVtVSioOYRThnP46+W/4b2yf+DW5C8jJ3UxokNdk3r1OGx499IehMhCsDI9sLOQygQZVqYv\n",
              "x5uX3sZnNQc9hgt4o+8y4sOKT9zrWF4XnYW7ZtwpqbVLSTwswPxouNm0Vq9ejZycHOTm5iI0NBRz\n",
              "5swZsfUr0GTDTJYQvmjw+KSBLWDy6P6WQOWMswAA172fob/mvha2nurZA151QqGrBVCLtuNpA18e\n",
              "pKH5mtaMa/Y5ftn3C+OPK/f5tJ9M5Rqr0NbdMeKMXN74Urh509hlQHlbFf6v5D38eP73Rj042O60\n",
              "w2T1bInyZYKMvoJVEIQhi7hrDeyW2WdfjfduffleuuFda9xlgWh1hedn+vaVd5F3/TcG5PAtiN3p\n",
              "QIulFVb7/8/ence3VZ4J3/+dRbtled+S2HH2fSWBLEACCUsplJayNBNK33ZmnnlKZ9pOGcrw0IF5\n",
              "W6AwTN/SlildKGXgpQ2lMDBth32HQICwZN/j2E5sy7tk7dJ5/pAlS/ES2bEtJbm+n/hzdBadc1lW\n",
              "bp1L99Y3uukbjZvTjvn267eNPMxBjOYAIOLMMHtyEf/61eX8+s872X6wndt/s4W/vXwOsycXYdWt\n",
              "J93n9lSlKArljjLKHWWsqDwLiH8GHO6u53D3EQ71JmUfNH+cvGk3qTrVzom9SVk1E50TUBUlOThD\n",
              "os9PJNY3QEM0FiFqxPoN3NB/Pcqx7cfY3hL/dLZqVlZXnc3KquVUOyeOaW1krauGWlcNHYFO3mjc\n",
              "zNtH3+P5uld48chrLC6dz9pJq2n0HqPN38EFk87Nas1gwrLyRfz3ged4++h7XDp5HTBwTIlBvt4+\n",
              "+h4xI8Yk5wQ+N/VSZhVOlyHlz2CSgI2xoUbTuuGGG7jhhvGdNPhkDLeg0CsOD/MKA914xkgO9qEM\n",
              "MnrdceuK2c8ft70GVDHYcPlvfXoUhqjtTx0YIdFEZiCptQt6eT1uXxueyPCGo0+VaKYyEok5vyDe\n",
              "N2x6QV8t4V2Pfsj1F89k0gDD/Sf4wn7u3PKjtG2KotDhCeK0m9C1ob+dVlEHGEBibD9cvOEeuoPd\n",
              "/bbnyvxVzQMMwhIMp/eTe+voe1xauy65nmnkXaFubnvnrmF1Xh8NLx95g1JbyajO6SNOf/kOM9+6\n",
              "eiEvbKnnj68f4L7ff8xlKyfzudWT0dTcq/nKFqtuZVbR9OQXaIZh4Pa3cqjrCAe76zjcdYSDXXXx\n",
              "+RbHyLSCWlZWLmdx2XzMmnnMrjOQQmsBn5t6KZdOXsf7zVt5rf5tPmz5hA9bPkFVVEyaKa1lTjbp\n",
              "qs7aSav5rwN/4a3Gd6mpuiJtvy/s56Ujr/Nq/ZuEYmHKbCVcPvUSFpXOy8naXjG+JAETGRvuxLOq\n",
              "o/+N8ZDntw7QB0eLQlQFDBRr/zkxFFs3IXP65M6Wue+gmMKoPisxT/zm9Pib2oNtxzANkYAdPyT7\n",
              "YG56I33Y885gJ3s6B547CuCot4l3mz4YdP9bR99LG1hjpD5q+ZQtHwQx9bZs2N/Yxa//tJN//ery\n",
              "QZ8z0Ch7u9r38n+afkC+bxZ/c8EqJg8xB9Trje/0q3Uzig/1O240c6On9v2Jj9zb+m3/xbbfZvT8\n",
              "1ER7LG5ouoY5cuFwNHiOAoM1Ex35OVObMA7kQNdh7tzyoyEn9xZiIKqicMnZ1Uyf5OIXz+zgT+8c\n",
              "Zs+RDv7XFXMpyj8za8FORFGU3uHxSzm7cikQHxTqiKeeQ11HONrThKqo6ZP1qmpyjqjj54xKrqt6\n",
              "3/xRSt9cUrWVleAb36RrIGbNxKqqs1lZuZy9HQd4teEttrfu4jPT1+Ky5Gc7vKTVE87mucMv82rD\n",
              "W1yzJN59IBQN83rD27xQ9yq+iB+XOZ+rai9nReWynB1kRYw/ScBExra37jrxQcOlhSEa72ibGIAj\n",
              "lXnKNkL7lmCq3oVe0X/ob+v8dzj+9lPpHUhCMQ/cDHB/5yFMc94ZcF9CDINYNDyib6kGm6frhbpX\n",
              "ebFu4H1jwVTdN3y/VnwUnyuCYSwbdk2mYg7iMX/Cj7Z+gtOcx0TXwDUfoWgoOVFwnAG2wZPwT9wn\n",
              "P59S6oTNqWn2tpT36t6OA8woTJ+TLiE10d7bsf+k4xkpJW1Kh0ybIEZPfNAJ7Gjbw59Tpje4+/0f\n",
              "n/Q5hTiRqVUu7vh/lvHb5/bwwe4WvvfQFlbOrWDFvApqK53SLOsErLqFGYXTmFE4bdTPXepw4vbl\n",
              "zlDliqIws2gaM4um4Y8EmFhRTFvrwBMUZ4NNt7Fqwtm8fOQNXj/8Ll5PkL8cfonOYBc23caVUz/D\n",
              "+RNXjntNosh9koCJjIXHYCAE29KX8W+5ONl/6nhaYQuoEbSyhuP2xFALhp5TSi1oIdpZClETsZRq\n",
              "l48aB29SmGAYMb79+m2U2UuYUzQzOVrRiRxqGrz54TMH/iejc4wF89RP8QEN3qNMck6gPdDBjrY9\n",
              "/HfvIB+QWX8vT8ib8TXV/MFqZgxue+hdqM34VIPKpM/Z/s6DgyZgP/7oQYhpfH7StScfTIYULcon\n",
              "rTsG3d8W6OA3n2464XlGMqfa8f5r/59H5TxCDJfdauJ/f24ur08u5Ok3DvLy1gZe3tpAeZGdlXPL\n",
              "WTG3ot/cjeLMZtOtOdl0b+3E1bxa/xa//OBxID6a5UU1a1lffT72LMxTJk4NkoCJrNMn7Mc04cCg\n",
              "+7WSRlDSb7S18iNpQ+EPeN7iJhRTEMPnpL3iCK2eOTjMNt7e1gRlQ8f0xq54bUiLrxWrlnnTmD+3\n",
              "PJHxscPRMMAkuSMR7h258Ydb7u83GEamo9tl2r9qwCalQMwwONrqxTYKCVhqf7lEWJ5gepKoKhox\n",
              "I0Zddz3HS0w2/u877z75YIbBH0mfqDx19MhMB30ZDZkOvS/EWFAUhTWLJrB6fiU7DrWzeUcTH+1r\n",
              "5ek3D/H0m4eYPtHFinkVLJtVhsMqcxmJ3FRoLWBV1dm8ffQ9VlYt59LJFyZHbhRiMJKAiawbKvkC\n",
              "ME/u3/RRL+vfHHEgWn4H5Mf7tNz2ys/Ic5+FT4+ccFrCp1t+m3x8xHN87dv4e2j7Y6NynkhvLeZA\n",
              "IxFmmljVd59cMmhgDDqgynClNsMLRAM88PFD/WorVUXhpbrXeeZg9mogTyRbg4aMRa22EMOlayoL\n",
              "p5WwcFoJ/mCED/a0sHl7E3uOdLKvoYvHX9zLwmklrJxbwfypxSccEEiI8XbNjM/x12dfg7dTylSR\n",
              "GUnAxClJtQ38zf1AA3UkaM4O/M4X0QJnbpOA+z/65aCDJ2Tap6gnlGGtySA5RXu3f/Cdw+QLpQ/A\n",
              "MlBT0WcPPJfzc1fd9s5dJz5oDPiOq4kTIttsFp1zF1Rx7oIq2rsDbN7RxOYdzXy4x82He9w4rDrL\n",
              "Z5ezYl4FU6vypb+YyAmqomIzWfEiCZjIjCRg4rSiqCe+0VYHaRp3pvu0dee4XKezJzhqNWAtnT2o\n",
              "J+gmMtbJVyxgl/eUEGOgKN/KZSsm85lzajjS7GXzjibe3dnMqx818upHjZQV2lgxt4IVc8spKzxz\n",
              "v1gTQpx6JAET4gzzf96+c8Dtb4/C8PepzLUDJ3SqoxvUkx/BD0C1ZX80rHD9jAFH8BRCjA5FUaip\n",
              "cFJT4eTqtVPZebiDzdub2LrXzTNvHeKZtw4xbUJff7HSbAcshBAnIAmYEGeYzuDIJ4oeLaaqg9kO\n",
              "YfRE48WoEVMyqoEVQoycpqrMn1LM/CnF+IMRtu51s3lHE7sOd7C/Md5fbE5tMTazSr7djNNuwjnA\n",
              "0m7VUaX5ohAiSyQBExn7/LTLeHr/n9O2fW3exgEHiCi0FNARTB9afmnxUj5s+3BMYxSnBr08s0FU\n",
              "TgVG2EJw1zJiAQe2xa9lOxwhzhg2i86q+ZWsml9JhyfIuzub2Ly9mW0HWk/4XE1VyLOZBkzQjk/c\n",
              "HDYTdosug38IIUaNJGAiY+uqz2d11Tn8xycPcaDrMABLyhbwonMCRzyNAMwomMr8ktlcUH0egUgA\n",
              "t7+NH75/f/zYqrlEibJla+CEQ8gLcSqJeYqzHcK4e/H9etYvm5TtMIQAoNBp4dKza7j07BoKCu0c\n",
              "rGvH4wvj8Yfw9ITx+EJ4/PFld0/vdl+Ytu4ADe7MmjKbTSoOazwZs1l17BYde9rSlFy3WXUcyX0m\n",
              "bBYNTZUETggRJwmYGBarbuEfl36d/zn0MjX5EwFwWfKhNwH75pL/lXKslUnOCcl1XdH4m4UbWDf5\n",
              "CPd9KAmYyG3hIzMxVaePqhhpq0AvbspSRLnldy/vkwRM5CSTrlGUb6UoP7M5HMORGN5EcuaLJ2bx\n",
              "nxAeX4ieQARf4icYptMb5GhbD8OdPcJi1rBbdArzrdgtGi67GafDTL7djMthJj/lx2kzoarSRFKI\n",
              "05UkYGJELq29MPn4SzO/yLbW7w967LcW/x2bj73P7KIZgMw9JE4NkabaZAIW7SpGsfgxfE44PgEz\n",
              "+m6SQodnY6o6gGJOHx7/tKRGsh2BEKPCpKsUOi0UOi0ZP8cwDAKhKP5gIjHrS9D6krXUZTi53uj2\n",
              "EgwNPRCRAuTZTfGErDdBc9rN5Dvi2xIJm8NqIhyJEYpECYaihCKx3mWUYDhGKBwlFO57HAwff0yU\n",
              "UDjWu4xiMetMKHFQU54XH/ik3IkrL/PXRQiRGUnAxthdd93FJ598gqIo3HrrrSxYsCC575133uFH\n",
              "P/oRmqZx3nnnceONN2Yx0pFzWZzctPRGokZswP3TC6cwvXBKypbBvzaMNFefsH+QEdGJdRdjRHX0\n",
              "0saRhCzEkIJ7lqStR5pqiHWVodg8mCbt69veXI0RcCTXoy01xLwFWOdtHrdYs0XJgREohcgWRVGw\n",
              "WXRsFp2i/OE9t7TUSX1jB92+MN09obSfLl8IT/JxmPbuII0ZNpEcCU1VMJs0zCYVi0kjGIqyda+b\n",
              "rXvdyWNceWZqyp1Ul8cTspqKPIrzrWM6B1vMMOjyhnB3+mnt8tPaGaCtO0BRgR27SaUo30qJy0pR\n",
              "voU8m0nmgxOnHEnAxtCWLVuoq6tj06ZNHDhwgFtvvZVNmzYl9//gBz/goYceory8nI0bN3LxxRcz\n",
              "bdq0LEY8crWumoyPnVYwBU3RkhP/rqlcy2vHXgVgYuhsirrPZeHSMCGPgz82PZz+5JhKYOu65GrU\n",
              "PRHF4kMrbEEraj6p3yF8bDKmysOD7g/uXoZ5xoco6sCJJoAR1VC00RliXWRHLGAj1lUGxGu+NFcb\n",
              "ht8JgOF34v9gHdaFb6CYQoTrZhP/rrqP4XONd8jZETFlOwIhTllWs47VrFNWcIKJDIFwJEp3T5hu\n",
              "X0qy5gvR1RPCH4hg0tXeJErDYlJ7l31JVXJdT12PH3f8wCIlJXnsO9RGXbOHI02e+LLZw6cH2vj0\n",
              "QFvyOIdVT9aQJZalhbZhjSzpC4RxdwZo7fLj7gzg7k204klXgEh08M/aVGaTSnG+leLeZqfF+RaK\n",
              "XdbktgKnZVQHUDEMg1AkRiAUJRCKEAxFCYSiHO0MEPSHsFvjibkM3CKGIgnYGNq8eTPr1sWThalT\n",
              "p9LV1YXX6yUvL4/6+npcLheVlZUAnH/++WzevPmUTcCGQ1VUfrL2blxFVtpbe9BUjZkl1eRbnEy+\n",
              "oDrt2HZ9NW8f+ZiQ6mW5Yz1XLFyO9VwHz7x1CFeemT+8egC8hUTb4n3NbMufG/S6oUNzMdfuSNtm\n",
              "hE3EelyEDi6AiAlFjaI6OwjtW4IRtGFb/nz8ufsXEusuJrh9JVrxMUwTDgx4jcCH68AUwrb41ZN5\n",
              "iU45I52MOPDxeSh2D5YZH41qPCeVCMe05MPQvsUoeggjlHKTFNMJfHIeaBGOT76yJdpdhJbfPuj+\n",
              "xBD54capKKYgelnDiK8V87oI7jkLopKACTEeTLpGsUuj2JVZn7aToShKsjnmomklye0eX4gjzV7q\n",
              "mj3U9SZmOw93sPNwR/IYq1mjuiyP6pTETNfUeELV6cfd1Ztc9SZdPYGBmzE7rDoTSh2UFtgodVkp\n",
              "KbBRWhBPpqx2Cwfq2mntCtDeHa8Va+sO0NYV4FjbwJ9BigIFeZZ4QtZba1aSb8WVZyEciTe/DAQj\n",
              "vQlVlEA4nlgFgr0JVjjaty8UPy7T/n8mXU3WlNotOnaLllxPbLP1DuKSvk3DpGsYhoFhgIFB7794\n",
              "GyLDiD824gkhiccp+5LHGwaKolBUnJdZ0GJcSAI2hlpbW5k7d25yvaioCLfbTV5eHm63m6KiorR9\n",
              "9fX12Qgza8yaCU2N3+wuKJ074DFfnHEFX5xxBaFoGLPWd8N33YXTAdBVld+93NckLHRgAVrxUZYV\n",
              "r+TD0J9QtBj5zStpadIxgnaWzZ7EzuY6Wg9UUppvY82CyUycnkddhYen3jhIuC49jkSTyKinEAAj\n",
              "kEekMX5txeIjfHAhYGCq3t17jALheHv5mN9BcPcyFD2MXnmI8OE5WJe+hKKAf8vFyeQusOMc1LxO\n",
              "FD2EYvURba5BdbWmJXnRriI0VzuGoRA+MhPCFkzVuwnuXo5edgTF3o2W3/dBGPh0NUbIhmL2x2+4\n",
              "Kw+hFQw+NHPo4DzMU7Yn12NeF7GgbcgBJ4I7z8YyJz55c3D7SmxnvTTgcZHmSejlfe/taGcJWkEr\n",
              "wV3LMEJ2jJANI2Qh2l5OzFuAYvdgqjqUfq3dy1AdXWilDYMmekZUI9ZVglbUTLR1AtG2CixztqTH\n",
              "4p4waLPVmN+BaushtHdpykYdIzRAMRnT4z+DMCI6ij56faSinSXE/HmYKg8T2LYK6/y30/aHDizA\n",
              "uvD1tHnIjJiarK0N7joHvaSRyNGpYKhEmiZjXfBWeswGGL78+ETZA4g01RCunwGGNuB+IcTpy2k3\n",
              "M7e2iLm1ffctvkCE+pa+hKyu2cu+xi72Ngw916RJVylxWZk6wUWpy0ZJgZUSVzzJKi2wYbMMXraW\n",
              "ljoptA28PxCK0NYd7EvMEklaV4C27iAHj3azv3H482CadBWrWcNq1ijOt2G1aL3rOlZT72OLhjPP\n",
              "SluHD18wkuwb6O997A+EaRtGrd5YuPrC6VwqAyflDEnAxpEx3CGTBlBYaEfXR3YDVFrqPOnrj7aT\n",
              "jWnDZ+Zw1fqZWEwaXd4geXYzWu/IUdHYRRiGga7pxGIGMcMYsjnA0rkVhCMxZtYU8bMnPua6i2ZS\n",
              "UvAZWjo8PKfXM21iASUFNqpKHJQXXUFDi5fHn9/NZ1dPodi1npICG5FIjHe2HWVPwySmTynCssjE\n",
              "UbeX8uI1bC9r5WBjCfvq4/Oj3b/+hzS0eNjh6GL1wglMm1RALGawv6GTf3vsAy4tu5L8PJ37f/8x\n",
              "oIAW7p30V+GvPzePtz+Zy4JzS9C1pTy/+TCte70oepjvXncezIYfPvI+RiAPI5CHKVxOoLUeI6Zi\n",
              "BO0o1h6KHfm4G61MrbFxoDVIyFCIeYowDDXevMxQiTT0oDo7ibb2jmapRlHMfoxA/Js0/wfrUPRQ\n",
              "vFZoxzkQMWME7VTP6GHxjDKWVC7g0/1unv7gPYyIGcPvZPqkAvbtTZ0jTiHw8dq+1XaItk5AsXkh\n",
              "bCEWtEHYSqy7mMixlL6ESgzF2oN5xodEW6p798VQXW3EuovA0PBvuSR+rB5EUaMYITuR5hoULYJe\n",
              "dYBw3WwUqw+iOjFPEaMl8Om56MXHMMIW0MMYISuxrhLQQ6iOblRrD6qrFSPgIOYpjCfvYStoYdS8\n",
              "TlRnB7GuYkzVu0GPENq7BFCJ1M/qfd3XE/96U0kmRIEPLk5eX3W1EOtxodo9GGELht9JuKevaaQR\n",
              "yCO4ZylaQQvRjnKMoA0jYoaoCcXSg1baSKSpBiJmMAXjTwqnf/v+4C0XUloq36gKcaayW3VmVhcy\n",
              "s7owuS0YilLv9lLXFG+6aBhQ0ptYJZItl8M8Jn22rGadCSXxQUQGEo3F6PKGkrVnXT2heLPMRDLV\n",
              "u7SYNWy9CZfFnPn0AaWlTtxuz5DHhCOxeHKWSNKCEfwpiZovZV80aoCSaGehoCQeK6Ak1pXj9ykp\n",
              "x8RrNBVAVRXOXzIxo99DjA/FGI2sQAzopz/9KaWlpVx33XUAXHjhhTzzzDPk5eXR0NDAd77znWSf\n",
              "sJ/97GcUFBSwcePGIc95ov/cg8mkYBhvElNmci2mXIsHJKZMZTumXPwSaCCjOXjS6VRmp8rl+HI5\n",
              "Nsjt+HI5Nsjt+HI5Nhh5fKdKuX2qkd6BY2jVqlU8/3y8mdmOHTsoKysjLy/+jfHEiRPxer00NDQQ\n",
              "iUR49dVXWbVqVTbDFUKIM17q4El33nknd955Z9r+H/zgB/z0pz/ld7/7HW+//Tb79+/PUqRCCCFO\n",
              "VdIEcQwtWbKEuXPnct1116EoCrfffjtPPfUUTqeT9evXc8cdd/Cd73wHgM985jPU1tZmOWIhhDiz\n",
              "yeBJQgghxpokYGPspptuSlufNWtW8vGyZcvShqUXQgiRXTJ4khBCiLEmCZgQQggxiJPtJn26DZyU\n",
              "Kpfjy+XYILfjy+XYILfjy+XYIPfjO5NIAiaEEEL0Kisro7W1b8qGlpYWSktLB9zX3NxMWVnZkOfr\n",
              "6Bj+/Hhw+nboHw+5HBvkdny5HBvkdny5HBvIIBy5RgbhEEIIIXrJ4ElCCCHGmtSACSGEEL1k8CQh\n",
              "hBBjTeYBE0IIIYQQQohxIk0QhRBCCCGEEGKcSAImhBBCCCGEEONEEjAhhBBCCCGEGCeSgAkhhBBC\n",
              "CCHEOJEETAghhBBCCCHGiSRgQgghhBBCCDFOJAE7zd11111ce+21XHfddXz66afZDgeAe++9l2uv\n",
              "vZarrrqKF154IdvhJAUCAdatW8dTTz2V7VAAePbZZ7niiiv4whe+wGuvvZbtcOjp6eEb3/gG119/\n",
              "Pddddx1vvvlm1mLZu3cv69at47HHHgPg2LFjXH/99WzYsIFvfvObhEKhnIjpK1/5Chs3buQrX/kK\n",
              "brc76zElvPnmm8ycOXPc4xGZycVyOyFXy+9UuVaWJ+RamZ4ql8r3VLlY1g8VW7bL/KHiS5DyPzdI\n",
              "AnYa27JlC3V1dWzatIk777yTO++8M9sh8e6777Jv3z42bdrEr3/9a+66665sh5T085//HJfLle0w\n",
              "AOjo6OCBBx7g8ccf58EHH+Tll1/Odkg8/fTT1NbW8uijj3L//fdn7f3k8/n4/ve/z4oVK5LbfvKT\n",
              "n7BhwwYef/xxampqePLJJ7Me049//GOuueYaHnvsMdavX8/DDz+c9ZgAgsEgv/zlLyktLR3XeERm\n",
              "crHcTsjl8jtVLpXlCblYpqfKlfI9VS6W9UPFlu0y/0TxgZT/uUQSsNPY5s2bWbduHQBTp06lq6sL\n",
              "r9eb1ZiWLVvG/fffD0B+fj5+v59oNJrVmAAOHDjA/v37WbNmTbZDAeJ/uxUrVpCXl0dZWRnf//73\n",
              "sx0ShYWFdHZ2AtDd3U1hYWFW4jCbzfzqV7+irKwsue29997jwgsvBGDt2rVs3rw56zHdfvvtXHzx\n",
              "xUD6a5fNmAAefPBBNmzYgNlsHtd4RGZysdxOyNXyO1WuleUJuVimp8qV8j1VLpb1Q8WW7TI/lZT/\n",
              "uU8SsNNYa2trWiFaVFSU9SpxTdOw2+0APPnkk5x33nlompbVmADuuecebrnllmyHkdTQ0EAgEODv\n",
              "/u7v2LBhQ9Y+ZFJddtllHD16lPXr17Nx40a++93vZiUOXdexWq1p2/x+f/IDpbi4eNzf5wPFZLfb\n",
              "0TSNaDTK448/zuWXX571mA4dOsTu3bu59NJLxzUWkblcLLcTcrX8TpVrZXlCLpbpqXKlfE+Vi2V9\n",
              "Qi6W+amk/M99erYDEOPHMIxsh5D00ksv8eSTT/Kb3/wm26HwX//1XyxatIhJkyZlO5Q0nZ2d/Oxn\n",
              "P+Po0aN8+ctf5tVXX0VRlKzF88wzz1BVVcVDDz3E7t27ufXWW3OujwXk1vs8Go1y8803c8455/Rr\n",
              "CpINd999N7fddlu2wxDDkEvv54RcKr9T5WpZnpBrZXqqU6V8T5WL/zdyrcxPJeV/bpEE7DRWVlZG\n",
              "a2trcr2lpSUn2v2++eabPPjgg/z617/G6XRmOxxee+016uvree2112hqasJsNlNRUcHKlSuzFlNx\n",
              "cTGLFy9G13WqBCLcQQAAIABJREFUq6txOBy0t7dTXFyctZi2bt3K6tWrAZg1axYtLS1Eo9Gc+Abc\n",
              "brcTCASwWq00Nzf3a3aRLf/8z/9MTU0N3/jGN7IdCs3NzRw8eJCbbroJiJcHGzdu7NdBW2RXrpbb\n",
              "CblWfqfKxbI8IRfL9FS5XL6nytWyPiGXyvxUUv7nHmmCeBpbtWoVzz//PAA7duygrKyMvLy8rMbk\n",
              "8Xi49957+cUvfkFBQUFWY0n48Y9/zB//+EeeeOIJrr76ar7+9a9n/QN79erVvPvuu8RiMTo6OvD5\n",
              "fFlvk19TU8Mnn3wCQGNjIw6HI2c+nFeuXJl8r7/wwguce+65WY4oPuKZyWTiH/7hH7IdCgDl5eW8\n",
              "9NJLPPHEEzzxxBOUlZXJh28OysVyOyEXy+9UuViWJ+RimZ4ql8v3VLlY1ifkWpmfSsr/3CM1YKex\n",
              "JUuWMHfuXK677joUReH222/Pdkj85S9/oaOjg29961vJbffccw9VVVVZjCr3lJeXc/HFF3PNNdcA\n",
              "cNttt6Gq2f2+5Nprr+XWW29l48aNRCIR7rjjjqzEsX37du655x4aGxvRdZ3nn3+e++67j1tuuYVN\n",
              "mzZRVVXFlVdemfWY2trasFgsXH/99UB8QIXxfM0GiumnP/1pTt44iz65WG4nSPk9crlYpqfKlfI9\n",
              "VS6W9UPFlu0y/0TxSfmfWxQjFxvRCiGEEEIIIcRpKHe+fhFCCCGEEEKI05wkYEIIIYQQQggxTiQB\n",
              "E0IIIYQQQohxIgmYEEIIIYQQQowTScCEEEIIIYQQYpxIAiaEEEIIIYQQ40QSMCGEEEIIIYQYJ5KA\n",
              "CSGEEEIIIcQ4kQRMCCGEEEIIIcaJJGBCCCGEEEIIMU4kARNCCCGEEEKIcSIJmBBCCCGEEEKME0nA\n",
              "hBBCCCGEEGKcSAImhBBCCCGEEONEEjAhhBBCCCGEGCeSgAkhhBBCCCHEOJEETAghhBBCCCHGiSRg\n",
              "QgghhBBCCDFOJAETQgghhBBCiHEiCZgQQgghhBBCjBNJwIQQQgghhBBinEgCJoQQQgghhBDjRBIw\n",
              "IYQQQgghhBgnerYDEMPjdntG9LzCQjsdHb5RjubkSEyZybWYci0ekJgyle2YSkudWbt2tpxOZXaq\n",
              "XI4vl2OD3I4vl2OD3I4vl2ODkcd3Jpbb40FqwM4Quq5lO4R+JKbM5FpMuRYPSEyZysWYcsXevXtZ\n",
              "t24djz32GADHjh3j+uuvZ8OGDXzzm98kFAoB8Oyzz3LVVVdx9dVX84c//GHM4sn1v1Uux5fLsUFu\n",
              "x5fLsUFux5fLsUHux3emkQRMCCHEGc3n8/H973+fFStWJLf95Cc/YcOGDTz++OPU1NTw5JNP4vP5\n",
              "eOCBB/jtb3/Lo48+yiOPPEJnZ2cWIxdCCHEqkgRMCCHEGc1sNvOrX/2KsrKy5Lb33nuPCy+8EIC1\n",
              "a9eyefNmPvnkE+bPn4/T6cRqtbJkyRK2bt2arbCFEEKcoqQPmBBCiDOaruvoevrHod/vx2w2A1Bc\n",
              "XIzb7aa1tZWioqLkMUVFRbjd7nGNVQghxKlPErAxsnfvXr7+9a/zla98hY0bN3Ls2DFuvvlmotEo\n",
              "paWl/Nu//Rtms5lnn32WRx55BFVVueaaa7j66quzHboQQogUhmEMa3uqwkL7iPte5Hrn91yOL5dj\n",
              "g9yOL5djg9yOL5djg9yP70wiCdgYGKo/waWXXsqPfvQjnnzySa688koeeOABnnzySUwmE1/84hdZ\n",
              "v349BQUFWYxeCCGE3W4nEAhgtVppbm6mrKyMsrIyWltbk8e0tLSwaNGiIc8z0lHRSkudIx5BcTzk\n",
              "cny5HBvkdny5HBvkdny5HBuMPD5J2saG9AEbA9KfQAghTm0rV67k+eefB+CFF17g3HPPZeHChWzb\n",
              "to3u7m56enrYunUrZ511VpYjFUIIcaqRGrAxcCb2J9jRtoeYEWV+yZyMjm/qaeGBbb9isfMcmo7Y\n",
              "sVl0asqddPtCnDOnInncW41beG5zI+byBr4wex3zSmYTica47/cfs2peBf/9zmFauwKsmFvB5h1N\n",
              "KDYPal4HFyyexKvbDgEGWnEToQPzMfz5KI4uNFcrxFTOKl5Ojz9Gc4ePlg7/gHEq1h5Ul5tocw2g\n",
              "JLfrrnZiaohYR0X8GuV1xDpLMYIOALTioxhBGzFvIZgC6MXHiDTXoFcdQLH2ED6wCDW/FdQosc5y\n",
              "AFRnG4opRLS9EsXqxTJ3M1H3RIyIiWhHOZqrFSOmYQTsxPx56MVHiTRPRs3rRDEFwRTCXLOL8NFa\n",
              "Ig0z038RNYJl3ttE2yuIeQvQS46i2D1EGqaDKYjhz0OvOkj48BxUVytGj4uYtxDF6kUrbYCwhUjT\n",
              "ZPTKQ5gm7SV8tJZoSzV65UFAIVw3J/47R0xohc2ojm5iPidGwA6GimLtwYjqROpnoha40UsaCTdO\n",
              "xfDnx1+vkgZifidGjwswMM/4ELQIRo8LvaKO4N7FydcJUxBT1QGMkIVoVynWee8Q7SpG0UOEDi5A\n",
              "K3ATcU+EiBm98gCKzUu0rRLF4kdRo6BF0IqbAIPQ/kUoFj9ETMQ8xRm9dzOhOtuxzN5CrMdJzJeP\n",
              "YvGh2r3EvAXx+Jpq0CvqAIg0V4MSI3J0ClppI6YJBwCIdpSi5nVhhM0Edy1Hr6hDsfoIH5iPVtqA\n",
              "YgmgFR8j2lZJpGE6ptrt6KWNBHacg5rXSayrBNXR3fc+PI5WVodq96BYfah2D8E9S+PX8ztQXW0Q\n",
              "0TFiGqaqg0Q7S4l5C4i6JyWf/+O/X02+wzxqr1k2bd++nXvuuYfGxkZ0Xef555/nvvvu45ZbbmHT\n",
              "pk1UVVVx5ZVXYjKZ+M53vsPXvvY1FEXhxhtvxOmUb4eFSNUTCNPQ4qXB3UMsZlDotFDgtFCYZ8GV\n",
              "Z0bXsvfdvz8YoasnRJc3iMcXRtMUTLqKSVPRe5emlKWesk9VlBNfYAAxwyAUjhIMx3qX8Z9QONa7\n",
              "7FtP3R+NGSgoJC6rKKCg0Puvd5m+v/eIlG3xdVVVuHT1FGQg+twhCVgWnI79Cf7jlYcAeOLan2d0\n",
              "/Dde+S4GBjvd+/BvuSRt3+XnTwfAG+rhd688CUVAGH7+6cM8ce3P+dNbB9lb38ne+r7hnzfvaALA\n",
              "Ov9tAN7q3Imp714R6/x38G+5BOvczclt7x/SiLqrh4zTMu8tFNUg6HOm3aCbZm4BwL/lElRnO+aa\n",
              "3RiT9hL44CIAzFM/Te63zPgQ1eHBiGrJm+tIQw+WWR8kjwGwzH6/d70S64K3AJI36aaJ+9PiinoK\n",
              "0JydGIaKuWZ32j5T1SEiR6dCrO+/t3n6R6hWP2rVobRjzdM+SVvXeq9rxFQCH1yUjAMgFrRhmrQ3\n",
              "eQ29og5FjQEQPjol+TsnqI7ufq9nrKsEy4x4La9W1Bz/3bUw5inbk6+F4uhCK+ht5uWM/40tMz5K\n",
              "vk7mKZ+gudrjcUzaFz+Xqw3o+/ureZ2Ej8xM7tdLjvWLBcA6r+/9cPz78GRYZsffH6rDg+roa/Kh\n",
              "FcS/YEn8XQH08iPxfcXHULRo37GF8WMVUwi96hCmyvjfzgjYME04mDxOrToIMRW9tDH+O819t188\n",
              "x/9uiq0b8+RdadsGel4yxtJGKG3E31kKYSsA3/rpW/z3v39u0OecSubNm8ejjz7ab/vDDz/cb9sl\n",
              "l1zCJZeM3ntFiFNVJBqjud1HvdtLQ0sPDW4vDW4v7d3BQZ+jAE6HmcI8S0piZo4ve5O0QqcFm0VH\n",
              "yTDhMQyDnkCELm+Qzt7kqssbotMboqsnSKcnsT1EMBw98QkHoanxZE1PJGmpiZuuYjHreH2htIQq\n",
              "GI4SjsRGfM3RpGgql5099D2PGD+SgI2TM6U/QabXMBg82UycozvU/1xut4eGpv439iOhmAf/kEge\n",
              "o/bGqUcGP6j3pjmRjHDc75a4AVdMoZTnDHG+DKg2b3xpGbjmDjUGKWW+ah/ea9b3u6RsMwUHPUZR\n",
              "TvzlQfwcoQE2pj9X0cNDn8N64v8DirUHTnCeXJOafPXbp/e9bgP9/oo5MGrXGvJ5ajTt3T3cMkX6\n",
              "EggxegzDIBSJYTqJ2plMdfWEaGjxUt8ST7IaWrwcbeshEk0vvwvyzMybUsSk0jwmluZh0lU6PEE6\n",
              "vPFEKPH4WFsPdc2Dlx9mk3pckmbBlWdBN2k0tnjo8sYTrXiSFSISHTzJSSR95YU2XL21cAV5Zpw2\n",
              "MzHDIByJEY7EiETjy3A0RqR3OeB677GhcJQef5hI1CAUiWIYYDFpmE0qFpNGvsOMpfexuffHoquY\n",
              "zVp8m65iST7WsJh7t5nijzVVwTDi90uJ7+cT673/epep+42U4+IPDOI1YWcvnEB358juIcXokwRs\n",
              "nCT6E3zuc59L609w22230d3djaZpbN26lVtvvTXboY46T8jLEU8Dc4tnDXqMmt+KEbIBBjuaD3Ks\n",
              "QeWJj1/DVJt+3JNbN/M/HzeDbkV1dIGhEPPnJb+VH4rqaklb11ytRJqrUe1eVEcXkWNTUF1uFIsf\n",
              "tbfJXPLYoiZiHeX9zmmavAPF1vchoua3oub11cxZ5vXVIKmuvmQ7teZJKz8cbxqXsp6p1JqUVOYp\n",
              "28BQQA8R6yxDMQ0/GTHPTq8ROb7GJJVWNHANU79zHl9L5mwj5uu7Kbctf27w5077CLWgpS8pHoJq\n",
              "6xmyRmfA8896DyNoI3x4HhiDNZExUAvcGCErihodsGnfmEhJUvXipn679bKGIZ+ulTSAFkExBTH8\n",
              "TrTioyMKw1S7g2h7BdGWSaQ2yRVCnLxYzMAbCOPxhfH6Qnh8YTzJZRiPP32b1x/ubaYGVouOzaJh\n",
              "M+vYLDpWi4bdomM192636NjMKdsteu/+3n0WHbOuEgpHqWvy0OBOT7a6femfISZdZWJpHhPL8uLJ\n",
              "VlkeE0sdOO2ZNUs2DANfMEKHJz0xO/5x8yDdAyBeI5XvMDOpzIHLYaEgz9yXYDkSiZaFfIcJTR37\n",
              "Zo8lJXm0tnrH/DojZTFJA8RcIgnYGJD+BOn+/cMHcPvbuPmsv6cmf1L/A/QQllkfEAvYUK1+/mPH\n",
              "W0SaajDV9k8uXu18Gut8iPkdqLYeAIyoRuDD9SeMwzIzfYATNa8Ly9zNqJZ47YERMWGu3THgc/Xi\n",
              "Y4QPLOy/vaw+/Rq9zQqT17D3Fcaasy8xU1NqMY5vQnj8+kCUoWrk6Gvqdvx1h2M4zzNV7x3RNSyz\n",
              "38e/dW1m8RQ1j+gamdLyO4AOMNR4EjYA1eVONqEE8G+5iPEYy0gvGVnClJBo4nmytPx2tPx2giEr\n",
              "sc6yEz9BiDNYKBzF648nSh5/GG8iaUKhudXbl1z5w3T3hOgJhMmgJwI2i4bTZqbEZcVm0QmFo/iC\n",
              "UQKhCJ3eIMfafMQyOdFx4jUuBrHjnlrisrJ4uiuZcE0sdVBeaEdVR/4ljKIoOKwmHFYTE0vzBj0u\n",
              "Eo3R6Q3S6QnR6Q1SXuqEaBRXnpk8m2nMa/6GI9Mmk0KAJGBjQvoTpHP74/1zOoNd1NA/AUs0r1Kt\n",
              "fd90qc72Ic+ZSL5g5M2pgGTyBQP3WRJjL7X2Lxek1lT225fyvgPilUDDv8855WkFLZxVOXCSKsTp\n",
              "KBKNxZOp3oQp/jiUllj1PQ7h9Ucy7m/ksOo47WYqi+047WacdlP8x5Z43LfMs5kw6UN/6ZNomugP\n",
              "RvAHIwRCUXzBCIFgpHcZje8LRfCnPY5gMeuUF9iSNVsTSh3YLNm7VdQ1lRKXjRKXDcj9od6FyJQk\n",
              "YGJE2gMd2HU7Vt1CzMisg6mqqOyq66C1K71JwUA3vKkDF2QiPhrfyd0JH9/Hqd9+sz8+Yl6OJQyn\n",
              "OrVg8IQnG1RLANQIih7GiKnxZSAPTAHQjmvKqRj933b6AP3cTjN6WQO+nlNzxFZx+jIMgyPNXrbV\n",
              "ddDW4SMSiRGJGkSivf17ojEiEaPvcW/fnkjUSPbz6dtnJPv9JJKYTJhNKk6biYoiO3l2E06bCYct\n",
              "vsyzm8izmZhY6SIWiuB0mMmz6aPePE5RlHg/IpNGQZ5lWM+VBGdk/nzoRd7b/AEzC6azuGw+Mwun\n",
              "oanS5E8MThIwMWzhWITvvXM3+WYnd6/+Hi/WvZbR87q8YX7z+49QLD6sKa35MmlydyKJ0flOhlbY\n",
              "MuR+66LXT/oaoj/z5J3ZDqEf68LX0/rNBbatSo6wmK5/0m9b8soYRpY77Ha5uRDZZxgG9S1e3t/d\n",
              "wvu7WwadUiRTmqr0DT2uKeiaSlmBLZ5E9SZQeba+2qhEkpXXm2hl0s9GkpzTy96O/fzPoZcwMHjH\n",
              "v4V3jm3BpttYUDKHxWXzmVU4HZNmynaYIsdIAiaGLRSNf8OfGKVwa8unQx2e1N4Vr2FSLDIKj8ht\n",
              "xw9aMth79rYblvCDhzN7/59u1i+uPfFBQoyRBreX93fFk66m9vj/T4tJY/nsMpbNrSQUDKP3JlHx\n",
              "ZEpNT6ySjxPDiito2tiPJihOL/6In//c+QSKovD9C26ircPLRy2f8rF7O+81fch7TR9i1SzMK5nN\n",
              "4tL5zCmeiVk7PeZPFCdHEjAxLOFYJK3JoWEYhGN9N6v+SACbHh+RMBgNpc1tFh8M9QzsMCNOeQMN\n",
              "yw9Q6NIpzrfQlpj3Rh3Z9AKhg/NGbaCM8VJoH7zjvBBj4VhbD1t6k66jrfH+mGZd5axZZSyfVcb8\n",
              "qcVYTNppX8MUiARo9rlp6mmhPdCJSdOxahasmgWLftxSs2LVLZhV0yk1SEQ0FqUr1E1HoIuOYCcd\n",
              "gU66Qx4u0c/DgSvb4SU9sfcZOoKdfGbyOmaUTMFteJhWUMtV0y+nrruej9zb+LhlOx80f8wHzR9j\n",
              "Vk3MLZ7ForL5zCuehVU/8QjO4vSkGJnM/ityxkg/VEbjA+m1hrf5w95n0rZNdU3mQNfhtG1/M+96\n",
              "jngaeb6uf1MsI6YOejMrRK4yDBjs3mXCsS+wv96HYvWmTVw9HMF9i7BM//gkIhx//37e/zvsm4cz\n",
              "cR6wbJbZY2m84mtq9/H+rmbe391CgzuedJl0lQVTilk2u4yFU0uwmNOb/Z0ur5031EOTr4VjPc00\n",
              "97TQ5GuhqaeFjuDwR7ZVULBoFqy6Jb5MS9Li262ahaJ8J7Ggik2PJ27xpRWbZktu09WT++4+ZsTo\n",
              "DnnoCHTSEeyis3fZkbLsDnkGnC+00Orin5b+Ay5L9suSrS2f8tD2x6hxTuI7S79ORXnBgH9XwzCo\n",
              "9zbycct2PnJ/Sosv3u9ZV3VmF81gcel85pfMwW6yjUpckViE7pCHrmA3ncFuuoLdeMNe1s9ehSU4\n",
              "/C/OzsRyezxIDZjI2P8ceqnftuOTL4BX6t/iQNehAc8hyZfINbqvjLC5fcih/Yf64vgLF1Vx70P7\n",
              "hxw9cSgVkfnMm72clyK5kYB9ftplPL3/z0MeEz4yQ765FWOmpcMX79O1q4UjLfGpPHRNYfH0EpbN\n",
              "KmPhtJKsjsw3mgzDoDPYRVMywWrmWE8Lzb4WvOGefscXWFzMKpxOuaOMCnsZxbYiorEIgWiQQCRI\n",
              "MBokEA0SjMSXqY+Dvcf0hHtoC7QTiY2sxt6k6vGkTLdi1eLLZKJ23LZgNETncclVV6h70MG7NEWj\n",
              "wJLPFNdkCq0uCi0FFPQuj3gaeO7wyzy0/VG+ufh/ZXWQi85gF7/f/RQm1cQNc64dMhZFUah2TqTa\n",
              "OZHLp1zMsZ7mZDPFba072da6E03RmFk0jcWl81lQMpc8s6PfeWJGDG+4h85gF129iVUiweoKJda7\n",
              "BnzfAFhsOusrLxy110CcnNOjBBM5ZaSFuhgfD1xwL1/94StDTno8mJHU1Pi3XIKigHVZ3/VKY9No\n",
              "DjWmTT1wMoyoNuh0BMGdy7HM2TLoc+//7E189YevoDi6sM7dPOxrO6w6v7nlAv7l2d/TNuxnw/cu\n",
              "uh6Al3orjGMdFaiF/SdbHi3XzfwCv9/zVL/tyyuWcMOc6wCGTMBCdbOINk8eq/DEGaq108/7u1vY\n",
              "sruFuqZ4LYKmKiycGq/pWjStFLt1/G9Z2gMdeEJeDAwMo7chvWEk1+ON6w0MI/ko5bhYshYn1nts\n",
              "1Ijhb/VyoKWept5EKxBNH4FXQaHYVkStq5oKe3ky2apwlGLTR6eWBOLN/I5P3CwOleb2DvwRP4FI\n",
              "EH8kQCASiC+j8WXqto5AJ+EMP/NVRcVlzmdy/iQKLPGkqtBaQKHFRaG1gAJLAU6zA1UZeFTIBSVz\n",
              "6Ix28G79Vp7a/yeunvG5UXsthsMwDB7b9Qd6Ij6unXEl5Y7M50RUFIWqvAqq8iq4bMpFNPe08JF7\n",
              "Ox+3fMrOtj3sbNvD75SnmF4whXJ7KV0hTzLh6g55hhx12qyZKbDkU+kox2XJx2XJp8DiwmWOL5dN\n",
              "nUN7m/TBzxWSgImMZTrcfJ2n/sQHiazSRjiBpqKMrMWyWU//dnDUv7mMaXAS88EBYIzsNdm052la\n",
              "/W148rwnPjgTsbGd2Hmw5kO6kunHwanTj0Tkvo/2ufnTO3UcOhafh1FTFeZPKWbZrDIWzyjBYR3f\n",
              "0eMCkQD7Og+ys20vu9v30uIfu2kydEWjzF6aTLAqHWVUOMops5WMy6h5mqrhUO04TPbkttJSJ259\n",
              "eM03I7FIMlnzR/29yVmQQCSArurJJCvf7Dypsl9RFL6+7HoOtzfyWsPb1ORPYnnFkhGfb6TebNzM\n",
              "rva9zC6awbkTVpzUucodZVziuIBLJl9Aq7+Nj1q28bF7O3s69rOnYz8Qf5+4LPHE1WVOSaws+cl1\n",
              "lyU/2f9+MDIsfm6RBExkzBcZndoKkbnQobmYa3eM2vlmFU4H4JaNS7j3jW3oZQ0A5Acn0+HzEWmt\n",
              "GrSGqzp6FosWL+NZzycZXSt8tBYjFP9AuHnDYu7b1Ver8rWlV3LPlp8xGnWl5xdexvNvtmOdtxlr\n",
              "uJTO3TMwTdyLVhifp2rNkgls7ptvm0JlAh1GY/8TjTDxOdRdN+i+0OHZXHxuMa/W9+8bVhE4i1nT\n",
              "+s/RE+ssw1CiVBQ6cSv7RxRTKiNkIdpdhF5yDIh/mCfctPRG/nPnJlyWfD475aIBnx9pq0AvHrsa\n",
              "OXFmau8O8P+/uJeP9rWiKgpzJxeybHY5S2aUkmcbv6QrZsRo8BxlZ3s84TrYVUfUiH+ZY9UsLCiZ\n",
              "S6mtOFkroygKCkrvMl5bhaKgJtYS21OOA+L7FQUVlcnlldgjToqtRafFTbGu6uSZ9QGbzY02q8nK\n",
              "387/Mve+/1Me3/1HKh0VTHJWjfl1E5p7Wnhq/59x6HY2zr56VAc2KbEVs75mDetr1tAZ7KIn7MNl\n",
              "zsdhsp9SA6iIzEgCJs5IQzVZG2vBPUsxAnasC9884bHR1gkwwgTModvpiaQ3N/j6wq8CMLXKxd+v\n",
              "uYyf7/wFAHdf+vXkMTe+0j8BW1+9hiunfQaAZzOc5irSMDP5uLYyn+nHprCv8yBTXbVUuYqx21S6\n",
              "j5uzeG7xLHa0pc8LN8k5gW8s+mu+++a/9rtG1FPANRecz40XOXG7Pw/AVz96hdC+pckmlufMqWDz\n",
              "1r7nfGfFDdz2zl39Ax5hDdhQou5JfHH6un4J2JqJqwZvPmOohPYvZtbZVbiNoROws8oX8UHz4E1C\n",
              "/VsvgEh8yONEApZ6w1frquH2FTcP/Tu0TCJ8YNGImqyeymKxGLfffjv79u3DZDJxxx138Ktf/Yod\n",
              "O3ZQUFAAwNe+9jXWrFmT3UBPMdFYjBffr+eZd/cQ1rqZMMNg/sw8aopilNpDGFoQw9DH9IazM9jF\n",
              "rvZ97G7fy+72fck+Mwrxvjqzi2cwu2gGtfnVY5Ig5fogIbmu3F7KDXOu5RfbHuFX2/6T7y77h7Ra\n",
              "vLESjUV5ZOcmwrEwX55zLQWWsRuNscDiGtPzi+yTBEyIbDAyrG0Z5aQgtW19bBgDoA7WJv9kJL5l\n",
              "TjXQb6spGiqDXH+Yr4+uDnFjl+nfZDjGeIzZEw5iG+1/85haA5bZRca2SWSuevnll/F4PPz+97/n\n",
              "yJEj3HnnnRQWFvKP//iPrF27NtvhnRKisSit/jaafG6afS3sb21kT3MDYd2DOj+MBWgHXm8Gmvue\n",
              "Z9UslNiKKbUVU2ovocRWRKmthFJbMS5L/rDLo1A0zIHOQ+xq38uu9r0c7emr0S2wuFhRuYzZRdOZ\n",
              "WTSdPNPY1+KIk7egdC6XTr6Q/zn8Mg/veJyvL/zqmHxOpXru8MvUeepZXrGEJWULxvRa4vQnCZjI\n",
              "qkhbJXrxsXG5lhFVUbTefmxjUNtxIsXWIjq8AS6YOZ+X3j9KrCefS+Yspd7TyK72vX1xhiwo5r5O\n",
              "2TGvC0uolHBRem2IEjNhqOkTBqe6Ye6X+I9PHkquV1onpiUfFfYKYgE7kebqAZ9fm1/Noe4jAKye\n",
              "cPaAx1Q5KpI3M9GuItS8rkFrFj8/7TL+45Pf8PlplwHwlTlf4oGU+Ka4JvPZKZewvW03JtWUnF9O\n",
              "U7RBk6aq4v5D6v7tFXPY9PJ+Lqq5jHdb3qXaOTG574opl8SbDPX66twNAHxp3XSe27qXQL+znZzp\n",
              "kwrS1mvyJ9Hu7+D8iatO+FwNnUl5VdR7jwJw1fTL+eO+/0475uLJF7C8Ygk///RhAOYVz2Z72y4A\n",
              "avNr2NmbPC2bVUZiljEtgyGkN8y6isd3/5F8sxPDUsG5SyfwlzOsBfLhw4dZsCB+k1VdXc3Ro0fJ\n",
              "z8/PclS5qSfso9nXQnOPm2Zf4qcFt7+tX99hw6xgJZ+phVVMcJZTbi8l3+KkPdCJ299Kq78dt6+V\n",
              "Zp+bht73fiqTqlOcSM6SPyWU2osptBSgqRqGYXDU25RMuPZ3HkwOFGHqHfp7TtEMZhfPpMJeJs27\n",
              "TlGfqV1PnaeBnW17+POhF7l8ysVjdq3D3Ud4ru4VCi0FXJOlwT/E6UUSMJFV0baKZAIWC9gGHBUv\n",
              "0laBVtiSNoR9pLUKvaT/h3O0o4zQviVoZXWYJ+9K2xfcsQrrgoGb/U3Ln863z/obbnxl6OZYD1xw\n",
              "L99+/TZC0dCgx0Q7ylDzOlFMIVZPOIcvzfxCv2Ne2tJEcMdKPnf5BQD80xu344v4OX/iSq6ZcWUy\n",
              "jt/cciGpMoqIAAAgAElEQVSlpVfidnv6xfYvK7/Nv757b3L95rP+nt/u/B0tvlaWli1kbvFMHrjg\n",
              "XgajKzrBT88bdP9X5m6gxFbUb7vDbKcnFG/a+H/O/kdueuN2/BE/hj+PwL6l2M56ccDz1eRP4p5z\n",
              "b0+uzymeybeX/G/+v60/B+A7S+PNIBMxJ35fTdXSasYeuODe5L6CvP59qM6ZU8E5cyoAuHTq+Wn7\n",
              "ZhfNSLvZWlq+CID1Z01ixYIivvvW84O8GiNzy4alaeuXT7mY2UUzhnxOolJLURRuWf6ttH2pCVht\n",
              "fjUT8iqZkFeZ9ndOvDY3nXUjnEXK9vhSzWAQjVVVZ7OqqjfpXh1f/CXDpqenixkzZvDII49www03\n",
              "UFdXR319PeXl5Tz22GM8/PDDFBcX873vfY+iov7/R05n4WiYd469T+thN3VtRwcdLt2u26hxTkQN\n",
              "Ozl8OIavy0qJtYQvr13MnJqSE17HMAy6Qt3JhMztb6PV34bbH3/c1NPc7zmqolJsLSRChA5/V3L7\n",
              "hLxKZhVNZ3bRDKa5asdlgAsx9lRF5StzvsS97/+E5w6/TLVzIgtL5476dYLREI/s+D2GYfDlOdeO\n",
              "6kiU4swlCZjIrtRR9UbjS8jEzeuA840N3lwrk5vSzGNIOVeGzfz6jso8DuW4Y0f7W1xtkOYc/Zu9\n",
              "JdaVMWlyl+jcPhoSHeMHoqmj33zl+L/JYNce+LknPGL4AQExTnYuvjFuV5kjzj//fLZu3cpf/dVf\n",
              "MXPmTKZMmcIVV1zB9OnTmT17Nr/85S/52c9+xr/8y78MeZ7CQju6PrJ+RLk2AWq7r5Mfvf1LDrTH\n",
              "B55RFIVyRwkzSmqpyq9ggrOcqvxyJjgr8HoUHnzqUz7a68asq/zV+pl8fs00THrm/8/KyGc6E/tt\n",
              "NwwjPkmx102Tx02Tt4Vmb2t83duCgsLq6mUsqJjNwoo5FNpyry9Nrv1tU+VybJAeXylObj7vf3Pb\n",
              "y/fy6K5NzJn4XaryK0b1er/+8He0+Fv57Mx1rJqxKOPYclGux3cmkQRM5JCBb+yiLZPQClv61j0F\n",
              "RN0T0EuO9qsJi7jjH9bRzlJM1XsIN0xDtXvQipoxQlYiTTXoFXXEPIXJUfIAzp14DgDTiiazv/0w\n",
              "n629mL8cfhG7bsMb7kFB4eKaeL+PE932RtwTyS/2EDQGryU73mdrL+IP+57hrPKFQLy5YlewK+2Y\n",
              "AouLzpRtx9/cl9qKM74egNMe/xZ4wdSBnzfYcOUXTzufp3f1DchwWe1FPLnvWaLtFVywZCLHz6R1\n",
              "9Zqpg8ZQ6SgH4JyKswY95tyJKzD3fmM9vWDKoMcNZVHpfD52b6PQUjDoPHXacPtGDcPKymW8c+x9\n",
              "JuRVDnrMuRNW8GbjZi5dsID/fr2JJTNKhzzn2kkDN2MssRXT5m/vt31yfjWHu48QiY1s8JnLp1zM\n",
              "nw+9SKy7iNrKM+ND/Nvf/nby8bp16/jsZz+L2puoX3DBBdxxxx0nPEdHx8jm3cm1gRoOdh3mV9se\n",
              "pTvk4eyKpVy76DLUgBXTceVEJBrjyecP86d3DhOOxJhbW8T1F82grNBOZ8fAE8SOVAElFDhKmOWY\n",
              "DeV921Nfu4gX3N7ceR0h9/62qXI5Nhg4PgcuvjTzKh7Z+Xt++MaD/NPSG0dtovgdbbt5Yf8bVDkq\n",
              "WFexdsjX5lR87TJ9nhh9koCJrBpqXqmYz0lw59kQ00kkZ5GmGsJHZgEK/vcvAkMlfHhOb62Tkhww\n",
              "wAjkJfeDEa9pM1S+u+Z6KkusPPzJH9nhcWOETfz72tuxmeMjxd257maaWjrRVZ0Lqs/FrJqIGlFi\n",
              "RgyTmlmzlZ//zdV8790fEMw8/2LNpFWsmnB28mbmjhU396tp+v7Kf8YwDP7htX+Ov3Yp+3685q5+\n",
              "N0InYtI1fnHTGnRt4JRysA7NyycuSkvA1k5azeoJ58B5KqpqsPm19OMvPadm0BgcJvugsf907Q8J\n",
              "RcNY9Xgzw/vX3JVMkmrza4Yc/v14fz1vIxEjiknV8YbHPwH7q9lXc83Mzw/5N7pu5ue5avrlmFSd\n",
              "zy6bNWBNwf1r7kJVVKJGbNBz3X7OPw04OMdNS2+kqNjOi7uGP9k0wCWTL+SCSeeinqePeB65U8nu\n",
              "3bt55JFHuPvuu3njjTeYM2cO3/zmN7n55puZNGkS7733HtOnT892mOPi7aPvsWnPf2Fg8MXpV7Bm\n",
              "4irKXPm4Q+k3c3uOdPCfz+/hWJuPfIeZr35mOstnSx8rMfaWVyzhSHcDrza8xWO7/sDX5m086fed\n",
              "N9zDY7v+gKZofHnOddJ0VYwqScBEdqUkYP2SMUPpTb5SNsVUkqlHYnS22CBv4+TobUqyWaBZV7GZ\n",
              "zWlNwRLJVzwGJVnzY9F6h+/OeILauNQb5+E01kq9oVYVtV9V2/HbUj9chpt8JZ83RHMgdZAPr4Fu\n",
              "7k2qDmp81LNhxzBI7KqiJpMvSK+RS4SWaZM+RVEwneDvONYjaGXyN0ocM9jfJfEaDBXrQO8d6H1v\n",
              "azqh6OADt5yIWTOf+KDTxIwZMzAMgy9+8YtYLBbuu+8+6urq+Na3voXNZsNut3P33XdnO8wxFY1F\n",
              "eXLfs7zRuBmHbuer8/6KWUX9k06PL8QfXj3AW9uOoQBrF0/gqvOnYB/nSZTFme3z0y7jiKeRj9zb\n",
              "/m97dx4fZXnvffw7mck22RMmgUASwpKwL1ZaQRDZpGpVbGU5KaKnnlZbxNp6HrG8eCnWx7r16SMo\n",
              "j2ixvHqqVDQucE61UGldek7AUlq3FlHWLJBMYLJnkszy/BETEkgmk5Dccyf5vP9pZuae+/5a4Jr8\n",
              "5r6u36W3T76rRVlX9vhcfr9fvz30mqoaq3XD6KsN3WsMgwMFGIIWbYtWfS9vxuyrC3Rr+9wv+l7n\n",
              "CNnSCuWrvrgF7wmxzb9A2qNsUrV69E3+ZcMu1btF/xPwmK8OvUR7T76n3KQxPcoZSHJUks66XbLb\n",
              "mvc9aftL8VdSp+mt429rfEpuZ2/vUlx4rKqbajq94zfEniRJGhF74QeSUd90T3VM0tHKE5o8ZEK3\n",
              "39tZ0RZs9jBL2AWd3fqTEV9Og5zmmBTiJOYWFhamRx99tN1zw4YN06uvvhqiRMaqbqzR1k9+oy8q\n",
              "jik9Zqhun3KLhpw3zdnv9+u/Pz6tl//0hWrqm5SRGqtVX8/V6HTzrbnCwGcNs+q2SSv12F82aueR\n",
              "t5QRN7zDLwyC8cHpg/q782ONThiphZlzu34D0E0UYAjapWnT9H5x4OlLfp9FlrCu7/t4K4ao8egU\n",
              "yRMhf1O4LOEdfCvf5vfhphMT5CkdKb878GaLNqtF9yyfJovFoqraRv2/N5qbbz9zz1xV1TYqzt5c\n",
              "rERFNP/Vj4rs/j+Bm8Zer7nDZ+mn+3/e7vmmwhwtym5el7Nk9DW6fNhXlWrveB3Pph/OkdfXs2YG\n",
              "6792j2oaaxVli9T/nrWu3Vz3a7IX6tK0aUrr5LrB2DBzreo8dZ2uAUuMTtCDM+9TfMSFxfMFjUF6\n",
              "nCKwBRlXaFLK+Iv67+zI/Iw5+mNh4A2yOyvAsuIydKK6sFfz9IXM+BF64LL/peSopFBHgUkVVhfr\n",
              "2Y9+LVdDhaY5Juvm8cva3Y2WpMLSam387d/0WWGFIsLDtGzeGC2aMaJPmtkAwUqIjNO/Tb5ZTx7c\n",
              "ol99+qLWXvpDpUR3b6w7U+/Sy4d3KtIaoVUTVvT57AgMThRgCJo/iG/9/U2RskR2vZuSvyFa8jQX\n",
              "Qz53jKzhFR0d1eZni/zu4DbIzM1sHmxPlp5bnxAZbpUj8Vzr2HNT2LovzBKmtJjU1jtFrWkbIxVu\n",
              "iWx3TGdio3s+NSfSGqHI6Ob/75Ki2u8zFWYJ09AA1w1GlC3ygl+2ztdRe3rpwrtIPSlwg2GxWHr8\n",
              "3xnozzxQk4wWnXXMHBKd3C8KMEmdfjEAHCj9u1745ytq8jXpG9mL9fWR89v9u/b5/dr152N6c98J\n",
              "ebx+TRszRN9elKOUhN5pegBcrFEJWVqac71e+ux1bf3kP/TjS34Q9Potn9+n3/xzh9xet1aOW9rp\n",
              "Zx1wsSjrETR/ECuafFXBduLraJFK+/P7qrv/Df2EkcENlsNjmn/Rzknu+RTBnKT23f38DXalDwmu\n",
              "SBwsJow0312Wzu7sSQrqjtqIuOEdPm8PD3x3FjAzn9+nN754U9s+3S6rJUy3T75FV2cvuOBLlYJP\n",
              "TmvXfx9XYmyk7vzmZN110xSKL5jO7PTLdNmwS3WyulgvHX69w7XLHflj4fv6vOKopg6ZqMuGdd6d\n",
              "F7hY3AFD0HxBDGBNJybI5ihu91zj0UnyVjgUfcmfzj35ZVOMO785Wc/9c/8F52k4PF2+yubNOseO\n",
              "SNCMcana/vbnAa9tDbPo9uuD24RxZvoMxUXEKuci1mjljbtJl6ZNU3ZClt49/A9Fxg/TjHEXd/dp\n",
              "IFnzrckal2m+AizCGqG7p9/R4RS87ITOOza2mDnsUi3KnKvimlP6r2N7Wp9P6GBKJtAf1DXVadun\n",
              "v9U/zn6m1Oghun3KLRoak3bBcX6/X3v+Uqgwi0WP3TlHFm/PtjQA+prFYtHynBtVXHNK+04d0Mj4\n",
              "TM0ZflnA9xTXnNJ/Hvm94sJj9S/jvkX3TvQp7oAhKNWNNV1+g+T3WSTfha28veUjJE/HU9ouyXG0\n",
              "mWl47vy+ijTJ33yupLjITveqamvamCGKDnLKW5glTFMcE7ucahdIlC1SUxwTFRcRq29M+qoWXZrB\n",
              "gN3G9LGOoP88jDY2aVS31wW0sHz5d+fq7IUBjxuVlNmj8wNGOl1bqicOPK1/nP1ME5Jz9b8uXdNh\n",
              "8SVJn52sUGFZjb6S61BqMnd8YW4R1nB9d9IqxYTb9crhnTpW2fnWJU0+j379j5fk8Xv17fE3KS4i\n",
              "1sCkGIwowNClv5z+m+7780+17/SBgMf564O/A+BrOLceq2Vtl7+h4w/0lPgohdvOFXad7Vt1QZ6e\n",
              "9bgAWnXUMTEuPLhppt+aeE1vxwF61cfl/9ATB55WWX25FmVeqe9P/VfZw6M7PX7PX5rXOC6akWFU\n",
              "ROCipEQn6V8n5snn97VuJN6R3x3do+KaU7o8/Ws96q4LdJc5v56Gqfy17MNOX/N7rWr87CsKi62U\n",
              "50zXDQxaeMvOfYA3FebK746RryZRkRMunI54w+xsRYRbddnENO37tFT/Z/Xl+uGmP3fvPwKG+c7E\n",
              "PCVE9t821HdMuVVWi1VldeUanzy2tdvlhsvW6uPyTzUxZVxQ5+FeKMzK7/fr98f/qN8d2yNbmE3/\n",
              "OuFfdOnQ6QHfU+qq04dflCt7WLxGp8cblBS4eOOTc3T96K9r55G39PwnL+iuad+TNezcl7qfu47q\n",
              "7ZPvakh0ir455hshTIrBhAIMF8VTliFfTbJ8Nd3sFORvc/PVGy7P6WzN+WqsDqh9AbZiwVhFhDcP\n",
              "lN+7bqK+d13zGq+E2AhV1jQGvASzAUPjK2nTQh3horR8+znhvL3UHPYUzc+8ohtn4i8gzMftadBv\n",
              "/vmy/u78WEmRibp9yi3K6KSxTFt7DxTJL2nRjBFMtUa/syjzSp2oKtLfnR/r9SO/001jr5ck1Xvc\n",
              "+o9/7pAk3TJhxUUtSwC6gwIMXeps41pJkqen7dQvPKelOzNiO5heeP56I6YgwkhtN8RuftzzrQaA\n",
              "vlBef0bPfvRrldSe1pjEbP3bpJuDWutS5/bo/Y9PKSkuUpfm0mgI/Y/FYtHN45fqVG2p/lT4Z2XF\n",
              "ZWjG0OnKP7xLZ90ufX3kAo0KogkT0FsowNCljsovT/kwyWeVp7TzAaupeLR8tRdOVfGdt5nyd6+b\n",
              "oIrqBlXVNarp1MjW7ofBevT2y/RfBSd009zRXR8M9KIbRl+tnUfeUk7SGM0ZfplsYTa9fPgN5SaN\n",
              "0aTUXJ05UxvqiIAk6dDZz/WrT15UradOVwyfqZvGXt9uGlYg739UooZGr74xM0s2K0vH0T9F2aL0\n",
              "vcmr9MSBp/TioXyV15/VvtMHlBk3XNeMDNxUCehtFGDoEX99rDynAhc8nuKxnTzf/n0zJw6VJL38\n",
              "py/kKTxvfU0nt7Fanp07LV2pSXZ955rxXYcGetlVWfN0Vda81sdzR8zS3BGzJElhYfyiCnN4r+h/\n",
              "9Mrnu2SRRXnjvqXL078W9Hu9Pp/ePlCkCFuY5k7reqoiYGZDY1J184Tl+uXH/6H/OrZb4WE23TJh\n",
              "RdBfRgC9hd8QBqHXPv8v5R/eJUk67Dqinx94WtWNNZ0eX1nb0Vqr3l8D0JMzshIBADpX3Vijlw/v\n",
              "VIzNrrsvub1bxZck/f3zcp2pcmvW5GGKjWZaLfq/aY5J+vrIBZKkG8d8o9NtF4C+xB2wQWhv4XuS\n",
              "pJtyrtfGvz0rqfkb0mtHXdXh8UeKK2Vt02PDVxsnT1nnbYg9p7Pk72A/sPONzUhs93jxVzP1RXGl\n",
              "Pi+qlCTlZCRq9pT0Ls/TmYzUWE0ZnaKvTWBwRc8tzpqvJl9TqGMAPXK08rj88mvuiMs1KmFkt9//\n",
              "hy9bzy/8yoheTgaEznWjFuuK4bOUEBn89jlAb6IAQ7OAXa3av9bwz69Jvs7/6jSdDG464Mhh7deH\n",
              "xcdE6Ccrv6LvPPpHSdJ9376k8zcH0WEjLMyiu5dODSoL0JnrR3891BEQAj6fTw888IA+//xzhYeH\n",
              "a8OGDbLb7br33nvl9XrlcDj0xBNPKCIiouuThdDRLzef7UmDgeOnq3S4qFKTRiUrfUhw+98B/QXF\n",
              "F0KJAswgtbW1Wrt2rSorK9XU1KTVq1fL4XBow4YNkqTc3Fw9+OCDfXb9vUf+rFKXS4uyrmx9bsdn\n",
              "r7f+/OaxP8jvGqZvXDJJLneFdh39vQ67jqiiof3dr2a9M/GvV1oZ0w4ZQB/Yu3evqqur9dJLL+nk\n",
              "yZN6+OGHlZycrLy8PF199dX6xS9+ofz8fOXl5YU6akBHK0/IIouy4ru/eXLL3a+rLmXjZQDoTawB\n",
              "M8jrr7+u7Oxs/eY3v9HGjRv18MMP6+GHH9a6dev00ksvqaamRu+++26fXf/ZAy/qjSNvtnvuveKC\n",
              "do9/dzpfkvTioXx9cPqgKhoqOz5ZD9u7N51s3lfJW9Xc5fDqWSN7diJJeYtyJElzp/Z8iiIAdOb4\n",
              "8eOaMmWKJCkzM1MlJSXav3+/FixoXjsyb948FRQUBDpFyDX5PDpZXaQRscO6vb+Rq7pBH/yzTMNS\n",
              "7JqY3c19HgEAAVGAGSQpKUkVFRWSpKqqKiUmJqq4uLj1A94MH+YWW3OzjarG6q6O7NH5w86MVv0H\n",
              "i6WmSD2/dp7GjEjs+k2d+Or4ND2/dp6yhjKFAEDvy8nJ0Z///Gd5vV4dPXpUhYWFKi4ubp1ymJKS\n",
              "IqfTGeKUgRVWF8vj82hU4shuv/dPfyuW1+fXohkZbLwMAL2MKYgGufbaa/Xaa69p0aJFqqqq0jPP\n",
              "PKOf/vSnra/35Yd5cc2poI6z2Dz6/fE/BuyIKEny9/DD2C+1FG+98YHOLwUA+srcuXN18OBBffvb\n",
              "31Zubq5GjRqlw4cPt77uD3Kn96Qku2y2nrW4djgu7gumfWdOS5KmjhjXrXM1NHn13oclirOH67q5\n",
              "YxQV0fGvChebry+ZOZtk7nxmziaZO5+Zs0nmzzeYUIAZZOfOnUpPT9fzzz+vQ4cOafXq1YqLO/cP\n",
              "oS8/zFf/8d7Wn7v6x/efR3/frXN3x+KZI/Wf7x9tlyNQnlANFGYcoMyWyWx5JDIFy4yZzOpHP/pR\n",
              "688LFy5UWlqa3G63oqKiVFpaqtTU1C7P4XLV9ejaDkecnM6uZiME9lHJZ5KkIZa0bp3rvQ9LVFXb\n",
              "qGtnZqm6sl4dvbM38vUVM2eTzJ3PzNkkc+czczap5/n4zOgbFGAGOXjwoGbPni1JGjdunBoaGuTx\n",
              "eFpf7+sP8xYXOzj429zF6q5Z41NbCzCns7rLwSAUA5kZB1CzZTJbHolMwQp1pv70QX7o0CH9+te/\n",
              "1iOPPKL33ntPEyZMUEJCgnbv3q0bbrhBe/bs0Zw5c0Ids1N+v19HK48rMTJByVHBT/f2+/36w18K\n",
              "ZQ2zaP4ltJ4HgL7AGjCDZGVl6cMPP5QkFRcXKyYmRqNHj9aBAwckybAPc5/fd5FnYNofgIEvJydH\n",
              "fr9fN910k5599ln95Cc/0Zo1a/TGG28oLy9PFRUVWrJkSahjduqM+6yqG2uUnZDVrena/zjhUnF5\n",
              "rWaMS1VSXPcadwAAgsMdMIMsX75c69at08qVK+XxeLRhwwY5HA7df//98vl8mjp1qmbNmtXnOfad\n",
              "OnBxJ+hhB0RJiokOlyTFfvm/AGBWYWFhevTRRy94ftu2bSFI031HKo5L6v7+X60bL9N6HgD6DAWY\n",
              "QWJiYrRx48YLnt++fbuhOYJtyNG5nt8Bi40O14Pf+WqX36r+3zsvV12DJ+AxAIDOHa1q3oB5dMLI\n",
              "oN9z6kytPjpyRmOGJ2hUenwfJQMAUIANMr4gm310xhJ2cVMYM1JjuzwmITZSCbFMfQGAnjpWeULh\n",
              "YeEaERv8Xolv/7VIknTVDO5+AUBfYg3YIONqqAh1BABAH6r3uFVSc1pZ8SNkDQuua26tu0n//fEp\n",
              "pcRHanrOkD5OCACDGwXYIOP2uEMdAQDQh45XnpRffo3qxvTD9z4sUWOTTwu+kiFrGL8aAEBfYpQd\n",
              "ZOoNLsBmTkwz9HoAMNgdrTwuKfgGHF6fT3v/WqTIcKuumDqsD5MBACQKsEGnqKbE0OvF2SMMvR4A\n",
              "DHZHK5sbcGQHWYD99TOnzlY1aPbkYbJH0aUWAPoaBRj6zJjhCfrGrJGhjgEAg4bP79PxqpNKs6cq\n",
              "NjwmqPf84UBL63k2XgYAI1CAoc98a+4oRUcGtwAcAHDxSmpOy+1tCHr64ZGSSh0prtLU0SlKS7b3\n",
              "cToAgEQBhj5muYh9wwAA3dMy/TDYAuztA82t5xfReh4ADEMBhr5F/QUAhjnXgGNkl8eerXLrwKEy\n",
              "jXDEaHxWUt8GAwC0ogBDt3hdjm4dT/0FAMY5WnlCMTa7Uu1d7+X1x4PF8vr8WnRphiwWRmsAMAoF\n",
              "GLqJD2kAMKPKhiqdcZ9VdkKmwiyBP94bmrx69+/Fio0O12VsFwIAhrKFOgD6GX/gAswiKX1IjDxe\n",
              "n7KHxfOtKgAY5Fz7+ZFdHlvwyWnVuj26btZIhdtolgQARqIAQ6+JjrRp84+uCHUMABiUWtZ/je6i\n",
              "AYfP79cfDhTKGmbR/EuGG5AMANAWBRgAAOepra3V2rVrVVlZqaamJq1evVrPPfec6urqZLc3t2tf\n",
              "u3atJk2aFOKk5xyrPKEwS5iy4gN3NPz02FmdOlOnWZOGKiE20qB0AIAWFGDoFktEfagjAECfe/31\n",
              "15Wdna177rlHpaWluuWWW+RwOPTII48oJycn1PEu0Oht0snqYo2ITVeENSLgsX/4S/PGy4supfU8\n",
              "AIQCTTjQTazpAjDwJSUlqaKiQpJUVVWlpCRzt2k/WV0kr9+r0V2s/your9Unx84qJyNRWUPjjAkH\n",
              "AGiHAgzd4g/YhMNvWA4A6EvXXnutSkpKtGjRIq1cuVJr166VJG3atEnf/va3df/998vtdoc45TnH\n",
              "WhtwBF7/tfdA892vq9h4GQBChimIMITNyp0zAP3Hzp07lZ6erueff16HDh3SunXr9P3vf1+5ubnK\n",
              "zMzUAw88oBdffFG33XZbwPMkJdll62GXQYcj+DtURZ8VS5JmjJqoFHvH76uqbdT/fFqqtGS7Fs7M\n",
              "ljXs4sbl7uQzmpmzSebOZ+ZskrnzmTmbZP58gwkF2ADn9/f2Xanuf2D/3zsvV0Q4bY4B9B8HDx7U\n",
              "7NmzJUnjxo1TWVmZ5s+fL6u1eSybP3++3nzzzS7P43LV9ej6DkecnM7qoI71+/06VPaFkiIT5au1\n",
              "yVnb8ft+V3BcjU1ezZs+XGfP1PQoV0/yGc3M2SRz5zNzNsnc+cycTep5Poq2vsEUxAHO39vTAgOc\n",
              "rrNaLyE2UtGR1PoA+o+srCx9+OGHkqTi4mLZ7XbddtttqqqqkiTt379fY8eODWXEVs76ctU01WpU\n",
              "gOmHHq9Pe/9apKgIq+ZMGWZgOgDA+fiteIDr/TtgADDwLV++XOvWrdPKlSvl8Xj04IMPyuVy6dZb\n",
              "b1V0dLTS0tK0Zs2aUMeUdG4D5lEBGnAc+KxMFTWNWnRpBl+IAUCIMQoPcL5eb4xxbgrij5dNlc/v\n",
              "198/L9c7fy+hBQeAASMmJkYbN2684PlrrrkmBGkCa9mAeVRix3fA/H6//vCXQlkkLbh0hHHBAAAd\n",
              "ogAb4PryDtikUSmSpH8cd/XZNQAAgR2tPKGIsHANj+l4auGR4iodO1Wt6WOHKDUx2uB0AIDzsQZs\n",
              "gLNYLLL05t5dHbShT46PkiSNcMT03nUAAF2qa6rXqdpSjYzPlDWs42ZHe2g9DwCmwh2wAS48zKab\n",
              "xy/Tn4rfU2HVqQtebzqZo/DMw62PPWeGypZyusvz/ts3xrf+PP+S4ZKkr41P7YXEAIBgHav6cv1X\n",
              "4sgOX69v8OjgZ05lpMYqJyPRwGQAgM5wB2wQ+Nqwryg7KbPD1zynR7V77G+MCuqc8TERrT/brGG6\n",
              "akaGEmIjex4SANBt5xpwdLz+q8hZI5/frwkjk2SxsB8jAJgBBdgg0WsfvF9OQezVaY0AgB5pKcCy\n",
              "4zv+kq2orHm/rxGOWMMyAQACowADAKAf8vq8Ol51UkNj0mQPt3d4TKGzVpKUkUoBBgBmQQGGbuLO\n",
              "FwCYQXHtKTV6GzU6wAbMhWXVsoZZNCyFJkkAYBYUYINEmCXYP+ouCiw2+wIAU2idftjJBsw+v19F\n",
              "zloNTbEr3MbHPQCYBSPyIPEvk6/v9LWGQ5e2e9x0Mlee8nR5K1PU+MWU815r7n6Ym0k3LQAIpaMV\n",
              "xyV13oCjvNKthkavMlj/BQCmQht6A+3atUtbt26VzWbTXXfdpdzcXN17773yer1yOBx64oknFBER\n",
              "0fWJeiAxOkGb5z+u1X+894LXfFVD5PeFyRLmkyR5TmefezHM0/pj/Qdf1w2zs3XD7OzzTwEAMNjR\n",
              "ypVy//EAAB2mSURBVBOKDY9RavSQDl9vbcDB+i8AMBXugBnE5XJp8+bN2r59u7Zs2aK9e/dq06ZN\n",
              "ysvL0/bt25WVlaX8/Pw+u36du0m//M9PL/o8rAADgNBzuSvkaqhQdkJWp11uC+mACACmRAFmkIKC\n",
              "As2cOVOxsbFKTU3VQw89pP3792vBggWSpHnz5qmgoKDPrv+7/z6mgk9L2z3nOX1u2krTsUmSJK9z\n",
              "+HnvbP/BftnEtD7JBwAIXlf7f0nn7oDRAREAzIUpiAYpKiqS2+3WHXfcoaqqKq1Zs0b19fWtUw5T\n",
              "UlLkdDr77PqNTb72j0+Ml7f03Ae390y66s8M0wX3uNo03Xh+7Tw28gQAEzjWWoCN7PSYQmeNYqPD\n",
              "lRjbN1PbAQA9QwFmoIqKCj399NMqKSnRqlWr5Pefq27a/hxIUpJdNpu129f2n9++sMPLdVRcnXsu\n",
              "NTW+29ftisMR1+vnvFhk6prZ8khkCpYZM5lRbW2t1q5dq8rKSjU1NWn16tVyOBzasGGDJCk3N1cP\n",
              "PvhgyPIdrTwhq8WqzLgRHb7ubvTI6apXbmYiX5wBgMlQgBkkJSVF06dPl81mU2ZmpmJiYmS1WuV2\n",
              "uxUVFaXS0lKlpqZ2eR6Xq+6icnhKM2VLOylfdXJwb/A3f3CHNcTL6ay+qGufz+GI6/VzXiwydc1s\n",
              "eSQyBSvUmfpT8ff6668rOztb99xzj0pLS3XLLbfI4XBo3bp1mjJliu655x69++67mjt3ruHZGr2N\n",
              "KqwpVmbcCEVYwzs8pri8Vn7RgAMAzIg1YAaZPXu29u3bJ5/PJ5fLpbq6Os2aNUu7d++WJO3Zs0dz\n",
              "5szp8xxNJ8ar/q8L5K8P9hchi+oPLNSy4f/ap7kAwEySkpJUUVEhSaqqqlJiYqKKi4s1ZUrz1hx9\n",
              "vW43kBNVhfL5fQHXf7U04KAFPQCYD3fADJKWlqbFixdr2bJlkqT169dr8uTJWrt2rXbs2KH09HQt\n",
              "WbKkz67/8RflX/5kkbwdf2PaKZ9N1jBqdQCDx7XXXqvXXntNixYtUlVVlZ555hn99Kc/bX29r9ft\n",
              "BnI0iPVftKAHAPOiADPQihUrtGLFinbPbdu2zZBr/+PY2Yt6f/qQmF5KAgDmt3PnTqWnp+v555/X\n",
              "oUOHtHr1asXFnZs50NfrdqXOp2wWHSqWJM0YNVFJ0R0fU1rhVphFmjp+qCLDe3b9nuYzAzNnk8yd\n",
              "z8zZJHPnM3M2yfz5BhMKMARl5NDeb8ABAGZ18OBBzZ49W5I0btw4NTQ0yOM5tzF9X6/b7Wy9ns/v\n",
              "02dlR5QSlSxPTZicNRce4/f7dbS4UmnJdlVVXNy64e7mMwMzZ5PMnc/M2SRz5zNzNqnn+Sja+gbz\n",
              "ygAAOE9WVpY+/PBDSVJxcbFiYmI0evRoHThwQJJx63bPV1ZXrlpPXcD1X2erGlTf4GEDZgAwKe6A\n",
              "AQBwnuXLl2vdunVauXKlPB6PNmzYIIfDofvvv18+n09Tp07VrFmzDM8VzAbMhaz/AgBTowADAOA8\n",
              "MTEx2rhx4wXPb9++PQRpzjlaeVxS1xswS3RABACzYgoiAAD9xNHKE4q0Rig9dminx7R0QMzgDhgA\n",
              "mBIF2CBw+mzfLMIGABinpqlWpXVlyo7PUpil84/vImeNoiNtSo6PNDAdACBYFGCDwGcnXRf1/msu\n",
              "63ytAQDAGMe+XP+VHWD9V2OTV6fP1inDESOLxWJUNABAN7AGbBC4mA/hX903vxeTAAB6qqUBx+gA\n",
              "67+Ky2vl99OAAwDMjDtgg8D7H5WEOgIA4CIdqzwhiywamZDR6TGs/wIA86MAGwSOFFeFOgIA4CJ4\n",
              "fV4dryrUsJg0RduiOz2upQMid8AAwLwowAAAMLmimhI1+Zo0KnFk4OPKamSRNHxIjCG5AADdRwEG\n",
              "AIDJtW7AHN95Aw6/36/Csho5kqIVFcESbwAwKwowAABMLpgNmCtqGlXr9rABMwCYHAUYAAAm5vf7\n",
              "dbTyhOIiYjUkOrnT4wppwAEA/QIFGAAAJuZqqFBFQ6VGJYwMuK1IEQ04AKBfoABDh8ZlJoY6AgBA\n",
              "bdZ/BdiAWTrXgp4CDADMjVW6uMD1l4/UDbOz5fP7Qx0FAAa9YNZ/Sc1TECMjrBqSENX3oQAAPUYB\n",
              "hgtYLBZZLBZZA0x1AYCB7pVXXtGuXbtaH3/yySeaNGmS6urqZLfbJUlr167VpEmT+jTH0coTslms\n",
              "yogb3ukxTR6fTp2pU3Z6nMIYuwHA1CjAcIGcDKYfAsDSpUu1dOlSSdIHH3ygt956S1988YUeeeQR\n",
              "5eTkGJLB7WlQcc0pjYzPUHhY5x/Zp87Uyuf3KyM1zpBcAICeYw0YLjA+KynUEQDAVDZv3qwf/OAH\n",
              "hl/3RFWhfH5fUNMPJSnDwQbMAGB23AEDACCAjz76SMOGDZPD4ZAkbdq0SS6XS6NHj9a6desUFdV3\n",
              "a66CbsBBB0QA6DcowAAACCA/P1833nijJGnVqlXKzc1VZmamHnjgAb344ou67bbbOn1vUpJdNpu1\n",
              "R9d1OOJU/M8iSdKloyYqMarz6YWlLrckaeq4oYqJDu/R9XqSz6zMnE0ydz4zZ5PMnc/M2STz5xtM\n",
              "KMAAAAhg//79Wr9+vSRp0aJFrc/Pnz9fb775ZsD3ulx1PbqmwxGn0rJKHXIelSM6RU3VFjmrqzs9\n",
              "/mhxhYYkRKmuxq26GnePrtndfE5n53lCyczZJHPnM3M2ydz5zJxN6nk+ira+wRowAAA6UVpaqpiY\n",
              "GEVERMjv9+vWW29VVVWVpObCbOzYsX127dO1Zar31He5/quytlFVdU3KYPohAPQL3AEDAKATTqdT\n",
              "ycnJkpq36Fi2bJluvfVWRUdHKy0tTWvWrOmzax/7cv1XdrAbMDsowACgP6AAAwCgE5MmTdLWrVtb\n",
              "H19zzTW65pprDLn2kdYNmAMXYK0dELkDBgD9AlMQAQAwoWOVJxRljdKwmLSAx7UUYHRABID+gQJs\n",
              "gPP7/aGOAADopip3tcrqy5WdkKkwS+CP6iJnjSLCw5SaGG1QOgDAxWAK4gDn9QVfgE3MTtbir2b0\n",
              "YRoAQDA+O3NUUtfTDz1en0rKa5WZFqewMIsR0QAAF4kCDK2umzVSORmJoY4BAIPeZ+UtBdjIgMed\n",
              "Plsnr8+vjNQYA1IBAHoDUxABADCZw+VHZJFFI+MDz0oopAMiAPQ7FGAGc7vdWrhwoV577TWdOnVK\n",
              "N998s/Ly8vTDH/5QjY2NoY4HAAgxj8+jI2dPaHjsMEXZogIeW0QHRADodyjADPbMM88oISFBkrRp\n",
              "0ybl5eVp+/btysrKUn5+fojTAQBCrbC6WE0+T5fTDyWp0EkHRADobyjADHTkyBF98cUXuvLKKyVJ\n",
              "+/fv14IFCyRJ8+bNU0FBQQjTAQDM4OiXGzB31YBDar4DlhwfqZio8L6OBQDoJRRgBnrsscd03333\n",
              "tT6ur69XRESEJCklJUVOp9PQPDMnDm33mJb1ABB6wRZg1XWNqqhpZP0XAPQzdEE0yBtvvKFp06Yp\n",
              "I6PjBdXBFj9JSXbZbNagr+vx+jp9bd13vqbr7tnZ+jgx0S6HIy7oc/cGo68XDDJ1zWx5JDIFy4yZ\n",
              "0F6ULVJjkkcqOSop4HGs/wKA/okCzCDvvPOOCgsL9c477+j06dOKiIiQ3W6X2+1WVFSUSktLlZqa\n",
              "2uV5XK66bl03UAHmdFa3e1xRUXfBc33J4Ygz9HrBIFPXzJZHIlOwQp2J4i84K8ctlcMRp/LymoDH\n",
              "FTprJdEBEQD6Gwowgzz55JOtPz/11FMaPny4/va3v2n37t264YYbtGfPHs2ZMyeECQEAZmCxWGSx\n",
              "dL2pMnfAAKB/Yg1YCK1Zs0ZvvPGG8vLyVFFRoSVLlhh27Ydu+6ph1wIA9L5CZ41s1jClJUeHOgoA\n",
              "oBu4AxYCa9asaf1527ZtIUwCAOiPvD6fip21Gj4kRtYwvksFgP6EAmwQmTo6RR8eOdPuuehIm+ob\n",
              "PJKklPjAG34CwGDyyiuvaNeuXa2PP/nkE/32t7/Vhg0bJEm5ubl68MEHQ5Kt9Gy9PF6fRqTGhOT6\n",
              "AICeowAbRFZ/c7K+98Q7kqSWnotPfH+mnBVu2WxhGpLINBYAaLF06VItXbpUkvTBBx/orbfe0sMP\n",
              "P6x169ZpypQpuueee/Tuu+9q7ty5hmcr+nID5gwacABAv8O8hUHEZm3zx/1lBWaPClfW0DgNH8K3\n",
              "qADQmc2bN+u73/2uiouLNWXKFEnSvHnzVFBQEJI8hTTgAIB+iwJskLJHcfMTAILx0UcfadiwYbJa\n",
              "rYqPj299PiUlRU6nMySZWjogDqcAA4B+h9/CB5nHvz9Txc5aJbPeCwCCkp+frxtvvPGC5/1+fwdH\n",
              "t5eUZJfNZu3RdQPtm1Z8pk7J8ZEanZXSo3P3BjPv62bmbJK585k5m2TufGbOJpk/32BCATbIDEmI\n",
              "1pAE1noBQLD279+v9evXy2KxqKKiovX50tJSpaamBnyvy1XXo2sG2jS71t2k8op6TcpODtnG2qHe\n",
              "1DsQM2eTzJ3PzNkkc+czczap5/ko2voGUxABAOhEaWmpYmJiFBERofDwcI0aNUoHDhyQJO3Zs0dz\n",
              "5swxPFPL9MMRTD8EgH6JO2AAAHTC6XQqOTm59fG6det0//33y+fzaerUqZo1a5bhmYqctZJowAEA\n",
              "/RUFGAAAnZg0aZK2bt3a+njMmDHavn17CBO16YBIC3oA6JeYgjjABbFGHADQjxSW1cgaZtHQFHuo\n",
              "owAAeoACDACAfsLn86u4vEbDUmLa7+0IAOg3GL0BAOgnnBX1amzysf4LAPoxCjAAAPqJ1vVfFGAA\n",
              "0G9RgAEA0E8UtragjwlxEgBAT1GAAQDQTxQ56YAIAP0dBdiARxtEABgoCstqFGcPV3xMRKijAAB6\n",
              "iAIMAIB+oL7Bo/JKtzJSY2WxWEIdBwDQQxRgAAD0A8XOWknSCKYfAkC/RgEGAEA/UFhWLYkOiADQ\n",
              "31GAAQDQDxRyBwwABgQKsAHOTw8OABgQispqFGaxKH2IPdRRAAAXgQIMAACT8/n9KnLWaFiKXeE2\n",
              "a6jjAAAugi3UAQAAMKNdu3Zp69atstlsuuuuu/T73/9en376qRITEyVJt912m6688kpDspypdMvd\n",
              "6NUI1n8BQL9HAQYAwHlcLpc2b96sV199VXV1dXrqqackST/+8Y81b948w/MUljVvwDzCEWP4tQEA\n",
              "vYspiAAAnKegoEAzZ85UbGysUlNT9dBDD4U0T9GXBRgdEAGg/6MAAwDgPEVFRXK73brjjjuUl5en\n",
              "goICSdILL7ygVatW6Uc/+pHOnj1rWJ5CZ8sdMAowAOjvmII4wNEEEQB6pqKiQk8//bRKSkq0atUq\n",
              "PfLII0pMTNT48eP13HPP6emnn9b9998f8BxJSXbZetg0w+GIa/351Jk6xdnDlTNqiCwWS4/O19va\n",
              "5jMbM2eTzJ3PzNkkc+czczbJ/PkGEwowAADOk5KSounTp8tmsykzM1MxMTHKyclRSkqKJGn+/Pna\n",
              "sGFDl+dxuep6dH2HI05OZ/PGyw2NXp0qr1VuZqLKy2t6dL7e1jaf2Zg5m2TufGbOJpk7n5mzST3P\n",
              "R9HWN5iCCADAeWbPnq19+/bJ5/PJ5XKprq5O999/vwoLCyVJ+/fv19ixYw3JUlReI7+YfggAAwV3\n",
              "wAAAOE9aWpoWL16sZcuWSZLWr1+vmJgY3X333YqOjpbdbtcjjzxiSJaWBhy0oAeAgYECDACADqxY\n",
              "sUIrVqxo99yrr75qeI6islpJdEAEgIGCKYgAAJhYobNGFouUPoQ9wABgIOAOmIEef/xx/fWvf5XH\n",
              "49Htt9+uyZMn695775XX65XD4dATTzyhiIiIXr1mhI0aGwD6K7/fr8KyGqUl2RUZ3rNuigAAc6EA\n",
              "M8i+ffv0+eefa8eOHXK5XLrxxhs1c+ZM5eXl6eqrr9YvfvEL5efnKy8vr1eva5Z2xQCA7jtb1aD6\n",
              "Bo8mZieHOgoAoJdwe8QgM2bM0MaNGyVJ8fHxqq+v1/79+7VgwQJJ0rx581o3+gQAQDq3AXOGg+mH\n",
              "ADBQUIAZxGq1ym63S5Ly8/N1xRVXqL6+vnXKYUpKipxOZygjAgBMpqUDYkYqe/EAwEDBFESDvf32\n",
              "28rPz9evfvUrXXXVVa3P+/3+oN6flGSXzdazdQBm3EyPTMExWyaz5ZHIFCwzZkLnipwtLei5AwYA\n",
              "AwUFmIHef/99bdmyRVu3blVcXJzsdrvcbreioqJUWlqq1NTULs/hctX1+Ppm26HdjLvGk6lrZssj\n",
              "kSlYoc5E8dd9hWU1io60KiU+KtRRAAC9hCmIBqmurtbjjz+uZ599VomJiZKkWbNmaffu3ZKkPXv2\n",
              "aM6cOaGMCAAwkcYmr06frdMIRywNlQBgAOEOmEHefPNNuVwu3X333a3PPfroo1q/fr127Nih9PR0\n",
              "LVmyJIQJAQBmUnKmVn6/NIINmAFgQKEAM8jy5cu1fPnyC57ftm1bCNIAAMyusLUBBwUYAAwkTEEE\n",
              "AMCEispqJUkZDgowABhIKMAAADChwrLmhinD2QMMAAYUCjAAAEzG7/eryFmr1MRoRUWwWgAABhJG\n",
              "dQAAOrBr1y5t3bpVNptNd911l3Jzc3XvvffK6/XK4XDoiSeeUERERJ9c+2yVWzX1TcrJSOyT8wMA\n",
              "Qoc7YAAAnMflcmnz5s3avn27tmzZor1792rTpk3Ky8vT9u3blZWVpfz8/D67/vFTVZJowAEAAxEF\n",
              "GAAA5ykoKNDMmTMVGxur1NRUPfTQQ9q/f78WLFggSZo3b54KCgr67PrHSpoLsBE04ACAAYcpiAAA\n",
              "nKeoqEhut1t33HGHqqqqtGbNGtXX17dOOUxJSZHT6eyz6x8vabkDRgMOABhoKMAAAOhARUWFnn76\n",
              "aZWUlGjVqlXy+/2tr7X9OZCkJLtsNmu3r338VKWiI60aPyZVYWGWbr/fCA5HXKgjdMrM2SRz5zNz\n",
              "Nsnc+cycTTJ/vsGEAgwAgPOkpKRo+vTpstlsyszMVExMjKxWq9xut6KiolRaWqrU1NQuz+Ny1XX7\n",
              "2k0en4rKajRyWJzOnKnpSfw+53DEyemsDnWMDpk5m2TufGbOJpk7n5mzST3PR9HWN1gDBgDAeWbP\n",
              "nq19+/bJ5/PJ5XKprq5Os2bN0u7duyVJe/bs0Zw5c/rk2qfO1Mrr87MBMwAMUNwBAwDgPGlpaVq8\n",
              "eLGWLVsmSVq/fr0mT56stWvXaseOHUpPT9eSJUv65NqFZc13vUbQAREABiQKMAAAOrBixQqtWLGi\n",
              "3XPbtm3r8+sWOb8swLgDBgADElMQAQAwkSJnrSQKMAAYqLgDNggs/MoIRUWFhzoGACAIY4YnaOiQ\n",
              "GNmj+IgGgIGI0X0QyFuUY/ruPACAZjfMzmbMBoABjCmIAAAAAGAQCjAAAAAAMAgFGAAAAAAYhAIM\n",
              "AAAAAAxCAQYAAAAABqEAAwAAAACDUIABAAAAgEEsfr/fH+oQAAAAADAYcAcMAAAAAAxCAQYAAAAA\n",
              "BqEAAwAAAACDUIABAAAAgEEowAAAAADAIBRgAAAAAGAQCrAB7mc/+5mWL1+uFStW6KOPPgp1HEnS\n",
              "448/ruXLl+tb3/qW9uzZE+o4rdxutxYuXKjXXnst1FEkSbt27dL111+vb37zm3rnnXdCHUe1tbW6\n",
              "8847dfPNN2vFihV6//33Q5bl8OHDWrhwoV544QVJ0qlTp3TzzTcrLy9PP/zhD9XY2GiKTLfeeqtW\n",
              "rlypW2+9VU6nM+SZWrz//vvKzc01PA+CY8Zxu4VZx++2zDaWtzDbmN6Wmcb3tsw41gfKFuoxP1C+\n",
              "Foz/5kABNoB98MEHOnHihHbs2KGHH35YDz/8cKgjad++ffr888+1Y8cObd26VT/72c9CHanVM888\n",
              "o4SEhFDHkCS5XC5t3rxZ27dv15YtW7R3795QR9Lrr7+u7Oxs/eY3v9HGjRtD9veprq5ODz30kGbO\n",
              "nNn63KZNm5SXl6ft27crKytL+fn5Ic/05JNPatmyZXrhhRe0aNEibdu2LeSZJKmhoUHPPfecHA6H\n",
              "oXkQHDOO2y3MPH63ZaaxvIUZx/S2zDK+t2XGsT5QtlCP+V3lkxj/zYQCbAArKCjQwoULJUmjR49W\n",
              "ZWWlampqQpppxowZ2rhxoyQpPj5e9fX18nq9Ic0kSUeOHNEXX3yhK6+8MtRRJDX/2c2cOVOxsbFK\n",
              "TU3VQw89FOpISkpKUkVFhSSpqqpKSUlJIckRERGhX/7yl0pNTW19bv/+/VqwYIEkad68eSooKAh5\n",
              "pgceeECLFy+W1P7/u1BmkqQtW7YoLy9PERERhuZBcMw4brcw6/jdltnG8hZmHNPbMsv43pYZx/pA\n",
              "2UI95rfF+G9+FGADWHl5ebtBNDk5OeS3xK1Wq+x2uyQpPz9fV1xxhaxWa0gzSdJjjz2m++67L9Qx\n",
              "WhUVFcntduuOO+5QXl5eyD5k2rr22mtVUlKiRYsWaeXKlVq7dm1IcthsNkVFRbV7rr6+vvUDJSUl\n",
              "xfC/5x1lstvtslqt8nq92r59u6677rqQZzp27JgOHTqkq6++2tAsCJ4Zx+0WZh2/2zLbWN7CjGN6\n",
              "W2YZ39sy41jfwoxjfluM/+ZnC3UAGMfv94c6Qqu3335b+fn5+tWvfhXqKHrjjTc0bdo0ZWRkhDpK\n",
              "OxUVFXr66adVUlKiVatW6U9/+pMsFkvI8uzcuVPp6el6/vnndejQIa1bt850aywkc/0993q9uvfe\n",
              "e3XZZZddMBUkFB555BGtX78+1DHQDWb6+9zCTON3W2Ydy1uYbUxvq7+M722Z8d+G2cb8thj/zYUC\n",
              "bABLTU1VeXl56+OysjJTzPt9//33tWXLFm3dulVxcXGhjqN33nlHhYWFeuedd3T69GlFRERo6NCh\n",
              "mjVrVsgypaSkaPr06bLZbMrMzFRMTIzOnj2rlJSUkGU6ePCgZs+eLUkaN26cysrK5PV6TfENuN1u\n",
              "l9vtVlRUlEpLSy+YdhEqP/nJT5SVlaU777wz1FFUWlqqo0eP6t///d8lNY8HK1euvGCBNkLLrON2\n",
              "C7ON322ZcSxvYcYxvS0zj+9tmXWsb2GmMb8txn/zYQriAHb55Zdr9+7dkqRPP/1Uqampio2NDWmm\n",
              "6upqPf7443r22WeVmJgY0iwtnnzySb366qt6+eWXtXTpUv3gBz8I+Qf27NmztW/fPvl8PrlcLtXV\n",
              "1YV8Tn5WVpY+/PBDSVJxcbFiYmJM8+E8a9as1r/re/bs0Zw5c0KcqLnjWXh4uO66665QR5EkpaWl\n",
              "6e2339bLL7+sl19+WampqXz4mpAZx+0WZhy/2zLjWN7CjGN6W2Ye39sy41jfwmxjfluM/+bDHbAB\n",
              "7JJLLtHEiRO1YsUKWSwWPfDAA6GOpDfffFMul0t3331363OPPfaY0tPTQ5jKfNLS0rR48WItW7ZM\n",
              "krR+/XqFhYX2+5Lly5dr3bp1WrlypTwejzZs2BCSHJ988okee+wxFRcXy2azaffu3fr5z3+u++67\n",
              "Tzt27FB6erqWLFkS8kxnzpxRZGSkbr75ZknNDRWM/P+so0xPPfWUKX9xxjlmHLdbMH73nBnH9LbM\n",
              "Mr63ZcaxPlC2UI/5XeVj/DcXi9+Mk2gBAAAAYAAyz9cvAAAAADDAUYABAAAAgEEowAAAAADAIBRg\n",
              "AAAAAGAQCjAAAAAAMAgFGAAAAAAYhAIMAAAAAAxCAQYAAAAABqEAAwAAAACDUIABAAAAgEEowAAA\n",
              "AADAIBRgAAAAAGAQCjAAAAAAMAgFGAAAAAAYhAIMAAAAAAxCAQYAAAAABqEAAwAAAACDUIABAAAA\n",
              "gEEowAAAAADAIBRgAAAAAGAQCjAAAAAAMAgFGAAAAAAYhAIMAAAAAAxCAQYAAAAABqEAAwAAAACD\n",
              "UIABAAAAgEEowAAAAADAIBRgAAAAAGAQCjAAAAAAMAgFGAAAAAAYhAIMAAAAAAxCAQYAAAAABqEA\n",
              "AwAAAACDUIABAAAAgEEowAAAAADAIBRgAAAAAGAQCjAAAAAAMAgFGAAAAAAYhAIMAAAAAAxCAQYA\n",
              "AAAABqEAAwAAAACDUIABAAAAgEEowAAAAADAIBRgAAAAAGAQCjAAAAAAMAgFGAAAAAAYhAIMAAAA\n",
              "AAxCAQYAAAAABqEAAwAAAACDUIABAAAAgEEowAAAAADAIBRgAAAAAGAQCjAAAAAAMAgFGAAAAAAY\n",
              "hAIMAAAAAAxCAQYAAAAABvn/RoMzbZQ4ikEAAAAASUVORK5CYII=\n",
              "'/>"
            ],
            "text/plain": [
              "<IPython.core.display.HTML object>"
            ]
          },
          "metadata": {
            "tags": []
          }
        },
        {
          "output_type": "display_data",
          "data": {
            "text/html": [
              "Train: <progress value='100.0' max='100', style='width: 80%'>100.0\n",
              "                           </progress>"
            ],
            "text/plain": [
              "<IPython.core.display.HTML object>"
            ]
          },
          "metadata": {
            "tags": []
          }
        },
        {
          "output_type": "display_data",
          "data": {
            "text/html": [
              "Valid: <progress value='100.0' max='100', style='width: 80%'>100.0\n",
              "                           </progress>"
            ],
            "text/plain": [
              "<IPython.core.display.HTML object>"
            ]
          },
          "metadata": {
            "tags": []
          }
        },
        {
          "output_type": "stream",
          "text": [
            "------------------------------------\n",
            "summary of epoch: 0\n",
            "------------------------------------\n",
            "loss -           train     valid\n",
            "                 1.101     0.772\n",
            "accuracy/error - \n",
            "                58.757    71.912\n",
            " \n"
          ],
          "name": "stdout"
        },
        {
          "output_type": "display_data",
          "data": {
            "text/html": [
              "Train: <progress value='100.0' max='100', style='width: 80%'>100.0\n",
              "                           </progress>"
            ],
            "text/plain": [
              "<IPython.core.display.HTML object>"
            ]
          },
          "metadata": {
            "tags": []
          }
        },
        {
          "output_type": "display_data",
          "data": {
            "text/html": [
              "Valid: <progress value='100.0' max='100', style='width: 80%'>100.0\n",
              "                           </progress>"
            ],
            "text/plain": [
              "<IPython.core.display.HTML object>"
            ]
          },
          "metadata": {
            "tags": []
          }
        },
        {
          "output_type": "stream",
          "text": [
            "------------------------------------\n",
            "summary of epoch: 1\n",
            "------------------------------------\n",
            "loss -           train     valid\n",
            "                 0.483     0.279\n",
            "accuracy/error - \n",
            "                83.233    91.309\n",
            " \n"
          ],
          "name": "stdout"
        },
        {
          "output_type": "display_data",
          "data": {
            "text/html": [
              "Train: <progress value='100.0' max='100', style='width: 80%'>100.0\n",
              "                           </progress>"
            ],
            "text/plain": [
              "<IPython.core.display.HTML object>"
            ]
          },
          "metadata": {
            "tags": []
          }
        },
        {
          "output_type": "display_data",
          "data": {
            "text/html": [
              "Valid: <progress value='100.0' max='100', style='width: 80%'>100.0\n",
              "                           </progress>"
            ],
            "text/plain": [
              "<IPython.core.display.HTML object>"
            ]
          },
          "metadata": {
            "tags": []
          }
        },
        {
          "output_type": "stream",
          "text": [
            "------------------------------------\n",
            "summary of epoch: 2\n",
            "------------------------------------\n",
            "loss -           train     valid\n",
            "                 0.207     0.172\n",
            "accuracy/error - \n",
            "                93.312    94.886\n",
            " \n"
          ],
          "name": "stdout"
        },
        {
          "output_type": "display_data",
          "data": {
            "text/html": [
              "Train: <progress value='100.0' max='100', style='width: 80%'>100.0\n",
              "                           </progress>"
            ],
            "text/plain": [
              "<IPython.core.display.HTML object>"
            ]
          },
          "metadata": {
            "tags": []
          }
        },
        {
          "output_type": "display_data",
          "data": {
            "text/html": [
              "Valid: <progress value='100.0' max='100', style='width: 80%'>100.0\n",
              "                           </progress>"
            ],
            "text/plain": [
              "<IPython.core.display.HTML object>"
            ]
          },
          "metadata": {
            "tags": []
          }
        },
        {
          "output_type": "stream",
          "text": [
            "------------------------------------\n",
            "summary of epoch: 3\n",
            "------------------------------------\n",
            "loss -           train     valid\n",
            "                 0.121     0.154\n",
            "accuracy/error - \n",
            "                96.057    95.571\n",
            " \n"
          ],
          "name": "stdout"
        },
        {
          "output_type": "display_data",
          "data": {
            "text/html": [
              "Train: <progress value='100.0' max='100', style='width: 80%'>100.0\n",
              "                           </progress>"
            ],
            "text/plain": [
              "<IPython.core.display.HTML object>"
            ]
          },
          "metadata": {
            "tags": []
          }
        },
        {
          "output_type": "display_data",
          "data": {
            "text/html": [
              "Valid: <progress value='100.0' max='100', style='width: 80%'>100.0\n",
              "                           </progress>"
            ],
            "text/plain": [
              "<IPython.core.display.HTML object>"
            ]
          },
          "metadata": {
            "tags": []
          }
        },
        {
          "output_type": "stream",
          "text": [
            "------------------------------------\n",
            "summary of epoch: 4\n",
            "------------------------------------\n",
            "loss -           train     valid\n",
            "                 0.078     0.179\n",
            "accuracy/error - \n",
            "                97.548    94.955\n",
            " \n"
          ],
          "name": "stdout"
        },
        {
          "output_type": "display_data",
          "data": {
            "text/html": [
              "Train: <progress value='100.0' max='100', style='width: 80%'>100.0\n",
              "                           </progress>"
            ],
            "text/plain": [
              "<IPython.core.display.HTML object>"
            ]
          },
          "metadata": {
            "tags": []
          }
        },
        {
          "output_type": "display_data",
          "data": {
            "text/html": [
              "Valid: <progress value='100.0' max='100', style='width: 80%'>100.0\n",
              "                           </progress>"
            ],
            "text/plain": [
              "<IPython.core.display.HTML object>"
            ]
          },
          "metadata": {
            "tags": []
          }
        },
        {
          "output_type": "stream",
          "text": [
            "------------------------------------\n",
            "summary of epoch: 5\n",
            "------------------------------------\n",
            "loss -           train     valid\n",
            "                 0.068     0.161\n",
            "accuracy/error - \n",
            "                97.668    96.171\n",
            " \n"
          ],
          "name": "stdout"
        },
        {
          "output_type": "display_data",
          "data": {
            "text/html": [
              "Train: <progress value='100.0' max='100', style='width: 80%'>100.0\n",
              "                           </progress>"
            ],
            "text/plain": [
              "<IPython.core.display.HTML object>"
            ]
          },
          "metadata": {
            "tags": []
          }
        },
        {
          "output_type": "display_data",
          "data": {
            "text/html": [
              "Valid: <progress value='100.0' max='100', style='width: 80%'>100.0\n",
              "                           </progress>"
            ],
            "text/plain": [
              "<IPython.core.display.HTML object>"
            ]
          },
          "metadata": {
            "tags": []
          }
        },
        {
          "output_type": "stream",
          "text": [
            "------------------------------------\n",
            "summary of epoch: 6\n",
            "------------------------------------\n",
            "loss -           train     valid\n",
            "                 0.061     0.160\n",
            "accuracy/error - \n",
            "                98.011    96.198\n",
            " \n"
          ],
          "name": "stdout"
        },
        {
          "output_type": "display_data",
          "data": {
            "text/html": [
              "Train: <progress value='100.0' max='100', style='width: 80%'>100.0\n",
              "                           </progress>"
            ],
            "text/plain": [
              "<IPython.core.display.HTML object>"
            ]
          },
          "metadata": {
            "tags": []
          }
        },
        {
          "output_type": "display_data",
          "data": {
            "text/html": [
              "Valid: <progress value='100.0' max='100', style='width: 80%'>100.0\n",
              "                           </progress>"
            ],
            "text/plain": [
              "<IPython.core.display.HTML object>"
            ]
          },
          "metadata": {
            "tags": []
          }
        },
        {
          "output_type": "stream",
          "text": [
            "------------------------------------\n",
            "summary of epoch: 7\n",
            "------------------------------------\n",
            "loss -           train     valid\n",
            "                 0.051     0.134\n",
            "accuracy/error - \n",
            "                98.375    96.909\n",
            " \n"
          ],
          "name": "stdout"
        },
        {
          "output_type": "display_data",
          "data": {
            "text/html": [
              "Train: <progress value='100.0' max='100', style='width: 80%'>100.0\n",
              "                           </progress>"
            ],
            "text/plain": [
              "<IPython.core.display.HTML object>"
            ]
          },
          "metadata": {
            "tags": []
          }
        },
        {
          "output_type": "display_data",
          "data": {
            "text/html": [
              "Valid: <progress value='100.0' max='100', style='width: 80%'>100.0\n",
              "                           </progress>"
            ],
            "text/plain": [
              "<IPython.core.display.HTML object>"
            ]
          },
          "metadata": {
            "tags": []
          }
        },
        {
          "output_type": "stream",
          "text": [
            "------------------------------------\n",
            "summary of epoch: 8\n",
            "------------------------------------\n",
            "loss -           train     valid\n",
            "                 0.055     0.136\n",
            "accuracy/error - \n",
            "                98.126    96.685\n",
            " \n"
          ],
          "name": "stdout"
        },
        {
          "output_type": "display_data",
          "data": {
            "text/html": [
              "Train: <progress value='100.0' max='100', style='width: 80%'>100.0\n",
              "                           </progress>"
            ],
            "text/plain": [
              "<IPython.core.display.HTML object>"
            ]
          },
          "metadata": {
            "tags": []
          }
        },
        {
          "output_type": "display_data",
          "data": {
            "text/html": [
              "Valid: <progress value='100.0' max='100', style='width: 80%'>100.0\n",
              "                           </progress>"
            ],
            "text/plain": [
              "<IPython.core.display.HTML object>"
            ]
          },
          "metadata": {
            "tags": []
          }
        },
        {
          "output_type": "stream",
          "text": [
            "------------------------------------\n",
            "summary of epoch: 9\n",
            "------------------------------------\n",
            "loss -           train     valid\n",
            "                 0.032     0.182\n",
            "accuracy/error - \n",
            "                98.918    96.430\n",
            " \n"
          ],
          "name": "stdout"
        },
        {
          "output_type": "display_data",
          "data": {
            "text/html": [
              "Train: <progress value='100.0' max='100', style='width: 80%'>100.0\n",
              "                           </progress>"
            ],
            "text/plain": [
              "<IPython.core.display.HTML object>"
            ]
          },
          "metadata": {
            "tags": []
          }
        },
        {
          "output_type": "display_data",
          "data": {
            "text/html": [
              "Valid: <progress value='100.0' max='100', style='width: 80%'>100.0\n",
              "                           </progress>"
            ],
            "text/plain": [
              "<IPython.core.display.HTML object>"
            ]
          },
          "metadata": {
            "tags": []
          }
        },
        {
          "output_type": "stream",
          "text": [
            "------------------------------------\n",
            "summary of epoch: 10\n",
            "------------------------------------\n",
            "loss -           train     valid\n",
            "                 0.048     0.131\n",
            "accuracy/error - \n",
            "                98.452    96.928\n",
            " \n"
          ],
          "name": "stdout"
        },
        {
          "output_type": "display_data",
          "data": {
            "text/html": [
              "Train: <progress value='100.0' max='100', style='width: 80%'>100.0\n",
              "                           </progress>"
            ],
            "text/plain": [
              "<IPython.core.display.HTML object>"
            ]
          },
          "metadata": {
            "tags": []
          }
        },
        {
          "output_type": "display_data",
          "data": {
            "text/html": [
              "Valid: <progress value='100.0' max='100', style='width: 80%'>100.0\n",
              "                           </progress>"
            ],
            "text/plain": [
              "<IPython.core.display.HTML object>"
            ]
          },
          "metadata": {
            "tags": []
          }
        },
        {
          "output_type": "stream",
          "text": [
            "------------------------------------\n",
            "summary of epoch: 11\n",
            "------------------------------------\n",
            "loss -           train     valid\n",
            "                 0.034     0.369\n",
            "accuracy/error - \n",
            "                98.884    91.327\n",
            " \n"
          ],
          "name": "stdout"
        },
        {
          "output_type": "display_data",
          "data": {
            "text/html": [
              "Train: <progress value='100.0' max='100', style='width: 80%'>100.0\n",
              "                           </progress>"
            ],
            "text/plain": [
              "<IPython.core.display.HTML object>"
            ]
          },
          "metadata": {
            "tags": []
          }
        },
        {
          "output_type": "display_data",
          "data": {
            "text/html": [
              "Valid: <progress value='100.0' max='100', style='width: 80%'>100.0\n",
              "                           </progress>"
            ],
            "text/plain": [
              "<IPython.core.display.HTML object>"
            ]
          },
          "metadata": {
            "tags": []
          }
        },
        {
          "output_type": "stream",
          "text": [
            "------------------------------------\n",
            "summary of epoch: 12\n",
            "------------------------------------\n",
            "loss -           train     valid\n",
            "                 0.040     0.113\n",
            "accuracy/error - \n",
            "                98.752    97.685\n",
            " \n"
          ],
          "name": "stdout"
        },
        {
          "output_type": "display_data",
          "data": {
            "text/html": [
              "Train: <progress value='100.0' max='100', style='width: 80%'>100.0\n",
              "                           </progress>"
            ],
            "text/plain": [
              "<IPython.core.display.HTML object>"
            ]
          },
          "metadata": {
            "tags": []
          }
        },
        {
          "output_type": "display_data",
          "data": {
            "text/html": [
              "Valid: <progress value='100.0' max='100', style='width: 80%'>100.0\n",
              "                           </progress>"
            ],
            "text/plain": [
              "<IPython.core.display.HTML object>"
            ]
          },
          "metadata": {
            "tags": []
          }
        },
        {
          "output_type": "stream",
          "text": [
            "------------------------------------\n",
            "summary of epoch: 13\n",
            "------------------------------------\n",
            "loss -           train     valid\n",
            "                 0.033     0.175\n",
            "accuracy/error - \n",
            "                98.935    96.244\n",
            " \n"
          ],
          "name": "stdout"
        },
        {
          "output_type": "display_data",
          "data": {
            "text/html": [
              "Train: <progress value='100.0' max='100', style='width: 80%'>100.0\n",
              "                           </progress>"
            ],
            "text/plain": [
              "<IPython.core.display.HTML object>"
            ]
          },
          "metadata": {
            "tags": []
          }
        },
        {
          "output_type": "display_data",
          "data": {
            "text/html": [
              "Valid: <progress value='100.0' max='100', style='width: 80%'>100.0\n",
              "                           </progress>"
            ],
            "text/plain": [
              "<IPython.core.display.HTML object>"
            ]
          },
          "metadata": {
            "tags": []
          }
        },
        {
          "output_type": "stream",
          "text": [
            "------------------------------------\n",
            "summary of epoch: 14\n",
            "------------------------------------\n",
            "loss -           train     valid\n",
            "                 0.033     0.173\n",
            "accuracy/error - \n",
            "                98.918    96.696\n",
            " \n",
            "------------------------------------\n",
            "summary of test\n",
            "------------------------------------\n",
            "               total  accuracy\n",
            "test            4857    96.356\n"
          ],
          "name": "stdout"
        }
      ]
    },
    {
      "metadata": {
        "id": "pdxnWXXUvcaT",
        "colab_type": "text"
      },
      "cell_type": "markdown",
      "source": [
        "###Test Performance\n",
        "\n",
        "Let's now take a look at the model performance on the test dataset. The overall test accuracy is 96.3%. However, the analysis in [Statistics of satellite images and tracks](https://) shows that the number of sample for each class is not well balanced, prediction heavily biased towards the class with majority of the samples will not hurt the overal accuracy. To verify that, the confusion matrix is generated. Surprisingly, the confusion matrix shows that the model perform well with similar accuracy for classes with less samples, indicating the model is not sensitive to such imbalance in the sample classes. To ensure the best practices, we can penalize the loss based on the sample size ratio of each class, but is not demonstrated here. Next, we will turn our attention to residual network to see if we can further improve the accuracy of the prediction."
      ]
    },
    {
      "metadata": {
        "id": "Lq4amwYvu8Re",
        "colab_type": "code",
        "outputId": "fd2045e1-ca6b-4a79-c45a-6dbdfc9eff1e",
        "colab": {
          "base_uri": "https://localhost:8080/",
          "height": 530
        }
      },
      "cell_type": "code",
      "source": [
        "import seaborn as sns\n",
        "import matplotlib.pyplot as plt\n",
        "from sklearn.metrics import confusion_matrix\n",
        "\n",
        "# CONSTANT\n",
        "f_data_yml = config_params['f_data_yml']\n",
        "with open(f_data_yml, 'rb') as fp: data = yaml.load(fp)\n",
        "    \n",
        "one_hot_key   = data['one_hot_key']\n",
        "one_hot_rev   = data['one_hot_rev']\n",
        "train_indices = data['indices']['train']\n",
        "valid_indices = data['indices']['valid']\n",
        "test_indices  = data['indices']['test']\n",
        "\n",
        "f_test = config_params['f_test_yml']\n",
        "with open(f_test, 'r') as fp: test_results = yaml.load(fp)\n",
        "test_idxs = test_results['idxs']\n",
        "#test_idxs = test_idxs.detach().numpy()\n",
        "test_labels = test_results['labels']\n",
        "test_predicts = test_results['predicts']\n",
        "   \n",
        "# check test data, for debug purpose to make sure test dataset is correct\n",
        "# f_img_msg = p_data + os.sep + 'al_ir_track_filtered.msg'\n",
        "# pd_storm = pd.read_msgpack(f_img_msg) \n",
        "# print(len(test_labels))\n",
        "# print(len(pd_storm.iloc[test_indices].index))\n",
        "# print(pd_storm.iloc[test_indices].groupby(b'cat').count())\n",
        "# print(np.unique(test_labels, return_counts=True))\n",
        "\n",
        "# test summary\n",
        "n_correct = np.equal(test_predicts, test_labels).sum().item()\n",
        "accuracy = n_correct / len(test_labels) * 100.\n",
        "divider = '-' * 36\n",
        "print(divider)\n",
        "print('summary of test')\n",
        "print(divider)\n",
        "print('{:<10s}{:>10s}{:>10s}'.format('', 'total', 'accuracy'))\n",
        "print('{:<10s}{:>10d}{:>10.3f}'.format('test', len(test_labels), accuracy))   \n",
        "\n",
        "# confusion matrix\n",
        "cfx = confusion_matrix(test_labels, test_predicts)\n",
        "df_cfx = pd.DataFrame(cfx, index = [one_hot_rev[i] for i in range(7)], \n",
        "                           columns = [str(i+1) for i in range(7)])\n",
        "\n",
        "fig, ax = plt.subplots(figsize = (10,7))\n",
        "sns.heatmap(df_cfx, annot=True, annot_kws={'size': 12}, fmt='d', ax=ax)\n",
        "ax.set_xlabel('Predict',fontsize=16)\n",
        "ax.set_ylabel('Actual',fontsize=16)\n",
        "\n",
        "# true_to_false\n",
        "true_to_false = {} # miss-classified images\n",
        "for i in range(7): true_to_false[one_hot_rev[i]] = []\n",
        "for i, (x, y) in enumerate(zip(test_labels, test_predicts)):\n",
        "    if x==y: continue\n",
        "    true_cat = one_hot_rev[x]\n",
        "    false_cat = one_hot_rev[y]\n",
        "    true_to_false[true_cat].append([test_idxs[i], false_cat])\n",
        "    "
      ],
      "execution_count": 0,
      "outputs": [
        {
          "output_type": "stream",
          "text": [
            "------------------------------------\n",
            "summary of test\n",
            "------------------------------------\n",
            "               total  accuracy\n",
            "test            4857    96.356\n"
          ],
          "name": "stdout"
        },
        {
          "output_type": "display_data",
          "data": {
            "image/png": "[encoded data removed]",
            "text/plain": [
              "<Figure size 720x504 with 2 Axes>"
            ]
          },
          "metadata": {
            "tags": []
          }
        }
      ]
    }
  ]
}