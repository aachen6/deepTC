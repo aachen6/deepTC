{
  "nbformat": 4,
  "nbformat_minor": 0,
  "metadata": {
    "colab": {
      "name": "deepTC_classification_resnet.ipynb",
      "version": "0.3.2",
      "provenance": [],
      "collapsed_sections": [],
      "toc_visible": true,
      "include_colab_link": true
    },
    "kernelspec": {
      "name": "python3",
      "display_name": "Python 3"
    },
    "accelerator": "GPU"
  },
  "cells": [
    {
      "cell_type": "markdown",
      "metadata": {
        "id": "view-in-github",
        "colab_type": "text"
      },
      "source": [
        "<a href=\"https://colab.research.google.com/github/aachen6/deepTC/blob/master/colab/deepTC_classification_resnet.ipynb\" target=\"_parent\"><img src=\"https://colab.research.google.com/assets/colab-badge.svg\" alt=\"Open In Colab\"/></a>"
      ]
    },
    {
      "metadata": {
        "id": "9KZh9h7Dv2Qb",
        "colab_type": "text"
      },
      "cell_type": "markdown",
      "source": [
        "# DeepTC - Resnet\n",
        "\n",
        "The objective of *deepTC* can be found on [deepTC github page](https://github.com/aachen6/deepTC/), and the analysis is outlined below.\n",
        "1. Data Preprocess\n",
        " - 1.1 [Satellite images and tracks of TC](https://github.com/aachen6/deepTC/blob/master/colab/deepTC_images_tracks_sync.ipynb)\n",
        " - 1.2 [Statistics of satellite images and tracks](https://github.com/aachen6/deepTC/blob/master/colab/deepTC_images_tracks_stats.ipynb)\n",
        "\n",
        "2. Model for TC Image\n",
        " - 2.1 [Post-binding architecture of TC image](https://github.com/aachen6/deepTC/blob/master/colab/deepTC_net_image.ipynb)\n",
        " - 2.2 [CNN model for TC image classification ](https://github.com/aachen6/deepTC/blob/master/colab/deepTC_classification_cnn5.ipynb)\n",
        " - **2.3 [Resnet model for TC image classification](https://github.com/aachen6/deepTC/blob/master/colab/deepTC_classification_resnet.ipynb)**\n",
        " - 2.4 [Resnet model for TC image intensity estimation](https://github.com/aachen6/deepTC/blob/master/colab/deepTC_intensity_resnet.ipynb)\n",
        " - 2.5 [Operation of TC image prediction](https://github.com/aachen6/deepTC/blob/master/colab/deepTC_image_prediction.ipynb)\n",
        "\n",
        "3. Model for TC Track\n",
        " - 3.1 [Post-binding architecture of TC track](https://github.com/aachen6/deepTC/blob/master/colab/deepTC_net_track.ipynb)\n",
        " - 3.2 [LSTM model for TC track prediction](https://github.com/aachen6/deepTC/blob/master/colab/deepTC_track_lstm.ipynb)\n",
        " - 3.3 [LSTM model with attension for TC track prediction](https://github.com/aachen6/deepTC/blob/master/colab/deepTC_track_lstm.ipynb) \n",
        " - 3.4 [LSTM-CNN model for TC track prediction](https://github.com/aachen6/deepTC/blob/master/colab/deepTC_track_lstmcnn.ipynb)\n",
        "\n",
        "4. Generative Model for TC Image\n",
        " - 4.1 [DCGAN model for deepTC](https://github.com/aachen6/deepTC/blob/master/colab/deepTC_generative_dcgan.ipynb)\n",
        " - 4.2 [SAGAN model for deepTC](https://github.com/aachen6/deepTC/blob/master/colab/deepTC_generative_sagan.ipynb)\n",
        "\n",
        "In the [previous notebook](https://github.com/aachen6/deepTC/blob/master/colab/deepTC_cnn5_classification.ipynb), we demonstrated the implementation and training of a five-layer convolution network for the classification of the TC satellite images and achieved a test accuray of 96.3%. It is possible to design a different convolution architecture, e.g. deep layers and/or with larger channels, to improve the model accuracy. The accuary may be saturated or even degenerated due to notorious vanishing gradient problem. Therefore, let's turn to a different concept in this notebook for the classification of the TC satellite images, i.e. residual net. The purpose is to demonstrate i) how a different architecture can be easily implemented using the system we developed so far; ii) the performance of the residual net with the same depth for the same problem. As usual, let's start with importing the necessary python modules,  reusing our previous notebooks by installing *import-ipynb*, and mounting *Google Drive* access the processed dataset. "
      ]
    },
    {
      "metadata": {
        "id": "gXB8R2GLmRbd",
        "colab_type": "code",
        "colab": {}
      },
      "cell_type": "code",
      "source": [
        "!pip install import-ipynb"
      ],
      "execution_count": 0,
      "outputs": []
    },
    {
      "metadata": {
        "id": "Hv1cwjCXXnfa",
        "colab_type": "code",
        "colab": {}
      },
      "cell_type": "code",
      "source": [
        "import os \n",
        "import yaml\n",
        "import numpy as np\n",
        "import pandas as pd\n",
        "\n",
        "from google.colab import drive\n",
        "drive.mount('/content/drive', force_remount=True)\n",
        "\n",
        "work_dir = r'/content/drive/My Drive/Colab Notebooks/deepTC'\n",
        "p_data  = work_dir + os.sep + 'data/AL'\n",
        "p_image = work_dir + os.sep + 'image/AL'\n",
        "p_class = work_dir + os.sep + 'model/tc_classification'\n",
        "p_model = p_class + os.sep + 'resnet'\n",
        "\n",
        "# load class defined in other ipynb\n",
        "import import_ipynb\n",
        "model_ipynb = work_dir + os.sep + 'deepTC_net_image.ipynb'\n",
        "with open(model_ipynb, 'rb') as fp:\n",
        "    with open('deepTC_net_lib.ipynb','wb') as fout:\n",
        "       fout.write(fp.read())\n",
        "  \n",
        "import deepTC_net_lib\n",
        "# force reload in case of changes\n",
        "#import importlib\n",
        "#importlib.reload(deepTC_net_lib)\n",
        "from deepTC_net_lib import YML2ModelNet, ImageDataSet, ImageTrainer, ImageInference\n"
      ],
      "execution_count": 0,
      "outputs": []
    },
    {
      "metadata": {
        "id": "8yHi8RfKvEd0",
        "colab_type": "text"
      },
      "cell_type": "markdown",
      "source": [
        "##ResNet\n",
        "\n",
        "For simple sequentially stacking layers of deep neutral network,  repeated multiplication through the back-propagation may make the gradient infinitively small at earlier layers, causing the notorious vanishing gradient problem. As the network depth increases, the performance is not monotonically enhancing and may get saturated or even degrading rapidly. ResNet was firstly introduced in [this paper](https://arxiv.org/pdf/1512.03385.pdf) in 2015 by Microsoft research team to overcome this problem. In a nutshell, deep residual network is an architecture that fits a residual mapping rather than the underlying mapping by carrying the input to the output within a building block (residual block), and recast the underlying mapping as the summation of the input and the output from the original mapping, as shown in figure below.\n",
        "\n",
        "![residual block](https://cdn-images-1.medium.com/max/750/1*ByrVJspW-TefwlH7OLxNkg.png) *Image Credit: [https://arxiv.org/pdf/1512.03385.pdf](https://arxiv.org/pdf/1512.03385.pdf)*"
      ]
    },
    {
      "metadata": {
        "id": "AnOP7guxe-wK",
        "colab_type": "text"
      },
      "cell_type": "markdown",
      "source": [
        "###Network Architecture\n",
        "As compared with the *CNN5 net* developed in the [previous notebook](https://github.com/aachen6/deepTC/blob/master/colab/deepTC_cnn5_classification.ipynb), the only thing that needs be updated to implement the *Resnet* is to revise the network architecture in the configuration file. Similary, the first layer maps one channel greyscale images into 32 channels with 32 5 x 5 filters and reduces the feature map size by a factor of four using *maxpool2d* function with stride of 2. As compared with *CNN5 net*, this is followed by two residual blocks, and each has one convolution layer that doubles the channel size and one with constant channel size. *ReLU* is applied after the summation of the identity mapping and residual mapping. The *avgpool2d* with reduction of 16 is applied following the last convolution layer. The last two layer is the same as that in the *CNN5 net*, which transforms the feature space into a vector of 7 corresponding to the number of classes. Please note other than the different network architecture, this is not an apple to apple comparison as pooling is not used to reduce the feature size in the resnet block as suggested in the original [resnet paper](https://arxiv.org/pdf/1512.03385.pdf). The overall number of parameter is therefore larger than that from the *CNN5 net*.  \n",
        "\n",
        "<img src='https://raw.githubusercontent.com/aachen6/deepTC/master/model/tc_classification/resnet/resnet.png' width='800'/>\n",
        "\n",
        "The same dataset used for *CNN5 net* is used here for consistency, which has a separation ration of 72:18:10 among training, validation, and testing set. Similarly, *Cross-Entropy* loss with *Adam* optimizer are used with the default learning rate &eta;=0.001 and momentum parameters (&beta;<sub>1</sub>=0.9, &beta;<sub>2</sub>=0.999). We also trained the model for 15 epochs with a batch size of 64. The loss and accuracy of each batch and epoch (running average) are generated and updated in the plot below during the training and validation process. Even with the same deep, the *Resnet* achieves a best validation accuary of 97.2%, which is slightly better than its counterpart *CNN5* model. Although this statement is not entirely accurate as there is randomness in the prediction accuray due to model parameters initialization andl optimization process, the true benefit of *Resnet* is that it allows much deeper network without suffering vanishing gradient problem therefore allowing more complex model to be trained to achieve better accuarcy. This notebook simply demonstrates the implementation with this free resource, therefore much deeper *Resnet* is not tested."
      ]
    },
    {
      "metadata": {
        "id": "kNx21FCKvdz3",
        "colab_type": "text"
      },
      "cell_type": "markdown",
      "source": [
        "###Training and Validation"
      ]
    },
    {
      "metadata": {
        "id": "As3yk9OQu7yy",
        "colab_type": "code",
        "outputId": "b9c9a345-315d-415f-f41a-0409dec1420e",
        "colab": {
          "resources": {
            "http://localhost:8080/PLOT": {
              "data": "CjwhRE9DVFlQRSBodG1sPgo8aHRtbCBsYW5nPWVuPgogIDxtZXRhIGNoYXJzZXQ9dXRmLTg+CiAgPG1ldGEgbmFtZT12aWV3cG9ydCBjb250ZW50PSJpbml0aWFsLXNjYWxlPTEsIG1pbmltdW0tc2NhbGU9MSwgd2lkdGg9ZGV2aWNlLXdpZHRoIj4KICA8dGl0bGU+RXJyb3IgNDA0IChOb3QgRm91bmQpISExPC90aXRsZT4KICA8c3R5bGU+CiAgICAqe21hcmdpbjowO3BhZGRpbmc6MH1odG1sLGNvZGV7Zm9udDoxNXB4LzIycHggYXJpYWwsc2Fucy1zZXJpZn1odG1se2JhY2tncm91bmQ6I2ZmZjtjb2xvcjojMjIyO3BhZGRpbmc6MTVweH1ib2R5e21hcmdpbjo3JSBhdXRvIDA7bWF4LXdpZHRoOjM5MHB4O21pbi1oZWlnaHQ6MTgwcHg7cGFkZGluZzozMHB4IDAgMTVweH0qID4gYm9keXtiYWNrZ3JvdW5kOnVybCgvL3d3dy5nb29nbGUuY29tL2ltYWdlcy9lcnJvcnMvcm9ib3QucG5nKSAxMDAlIDVweCBuby1yZXBlYXQ7cGFkZGluZy1yaWdodDoyMDVweH1we21hcmdpbjoxMXB4IDAgMjJweDtvdmVyZmxvdzpoaWRkZW59aW5ze2NvbG9yOiM3Nzc7dGV4dC1kZWNvcmF0aW9uOm5vbmV9YSBpbWd7Ym9yZGVyOjB9QG1lZGlhIHNjcmVlbiBhbmQgKG1heC13aWR0aDo3NzJweCl7Ym9keXtiYWNrZ3JvdW5kOm5vbmU7bWFyZ2luLXRvcDowO21heC13aWR0aDpub25lO3BhZGRpbmctcmlnaHQ6MH19I2xvZ297YmFja2dyb3VuZDp1cmwoLy93d3cuZ29vZ2xlLmNvbS9pbWFnZXMvbG9nb3MvZXJyb3JwYWdlL2Vycm9yX2xvZ28tMTUweDU0LnBuZykgbm8tcmVwZWF0O21hcmdpbi1sZWZ0Oi01cHh9QG1lZGlhIG9ubHkgc2NyZWVuIGFuZCAobWluLXJlc29sdXRpb246MTkyZHBpKXsjbG9nb3tiYWNrZ3JvdW5kOnVybCgvL3d3dy5nb29nbGUuY29tL2ltYWdlcy9sb2dvcy9lcnJvcnBhZ2UvZXJyb3JfbG9nby0xNTB4NTQtMngucG5nKSBuby1yZXBlYXQgMCUgMCUvMTAwJSAxMDAlOy1tb3otYm9yZGVyLWltYWdlOnVybCgvL3d3dy5nb29nbGUuY29tL2ltYWdlcy9sb2dvcy9lcnJvcnBhZ2UvZXJyb3JfbG9nby0xNTB4NTQtMngucG5nKSAwfX1AbWVkaWEgb25seSBzY3JlZW4gYW5kICgtd2Via2l0LW1pbi1kZXZpY2UtcGl4ZWwtcmF0aW86Mil7I2xvZ297YmFja2dyb3VuZDp1cmwoLy93d3cuZ29vZ2xlLmNvbS9pbWFnZXMvbG9nb3MvZXJyb3JwYWdlL2Vycm9yX2xvZ28tMTUweDU0LTJ4LnBuZykgbm8tcmVwZWF0Oy13ZWJraXQtYmFja2dyb3VuZC1zaXplOjEwMCUgMTAwJX19I2xvZ297ZGlzcGxheTppbmxpbmUtYmxvY2s7aGVpZ2h0OjU0cHg7d2lkdGg6MTUwcHh9CiAgPC9zdHlsZT4KICA8YSBocmVmPS8vd3d3Lmdvb2dsZS5jb20vPjxzcGFuIGlkPWxvZ28gYXJpYS1sYWJlbD1Hb29nbGU+PC9zcGFuPjwvYT4KICA8cD48Yj40MDQuPC9iPiA8aW5zPlRoYXTigJlzIGFuIGVycm9yLjwvaW5zPgogIDxwPiAgPGlucz5UaGF04oCZcyBhbGwgd2Uga25vdy48L2lucz4K",
              "ok": false,
              "headers": [
                [
                  "content-length",
                  "1449"
                ],
                [
                  "content-type",
                  "text/html; charset=utf-8"
                ]
              ],
              "status": 404,
              "status_text": ""
            }
          },
          "base_uri": "https://localhost:8080/",
          "height": 3473
        }
      },
      "cell_type": "code",
      "source": [
        "import torch\n",
        "from torchvision.transforms import transforms\n",
        "\n",
        "torch.cuda.empty_cache()\n",
        "\n",
        "# load configuration file\n",
        "f_config = p_model + os.sep + 'config_resnet.yaml'\n",
        "with open(f_config, 'r') as fp: config = yaml.load(fp)\n",
        "\n",
        "# contruct the model\n",
        "storm_resnet = YML2ModelNet(config, 'resnet')\n",
        "\n",
        "# update path for config\n",
        "config_params = config['params']\n",
        "config_params['f_image_zip'] = p_image + os.sep + config_params['f_image_zip']\n",
        "config_params['f_storm_msg'] = p_data  + os.sep + config_params['f_storm_msg']\n",
        "config_params['f_data_yml']  = p_class + os.sep + config_params['f_data_yml']\n",
        "config_params['f_state_yml'] = p_model + os.sep + config_params['f_state_yml']\n",
        "config_params['f_model_pth'] = p_model + os.sep + config_params['f_model_pth']\n",
        "config_params['f_test_yml']  = p_model + os.sep + config_params['f_test_yml']\n",
        "\n",
        "\n",
        "# normalization is based on ramdon 1000 samples for this test\n",
        "image_transforms = transforms.Compose([\n",
        "    transforms.Grayscale(1),\n",
        "    transforms.ToTensor(),\n",
        "    transforms.Normalize((0.456,), (0.222,))])\n",
        "\n",
        "\n",
        "# dataset\n",
        "storm_data = ImageDataSet(config_params, image_transforms, hotstart=True)\n",
        "data_split = storm_data.load_data()\n",
        "\n",
        "# model\n",
        "storm_train = ImageTrainer(config_params, storm_resnet, hotstart=False)\n",
        "\n",
        "# train & valid\n",
        "storm_train.train_loop(data_split)\n",
        "\n",
        "# test\n",
        "test_results = storm_train.test_loop(data_split)\n"
      ],
      "execution_count": 0,
      "outputs": [
        {
          "output_type": "stream",
          "text": [
            "------------------------------------\n",
            "summary of dataset\n",
            "------------------------------------\n",
            "               train     valid      test\n",
            "percent         0.72      0.18      0.10\n",
            "size           34944      8742      4857\n",
            "batch            546       136        75\n",
            "------------------------------------\n",
            "summary of GPU\n",
            "------------------------------------\n",
            "Tesla K80\n",
            "Memory Usage:\n",
            "Allocated: 0.1 GB\n",
            "Cached:    0.1 GB\n",
            "------------------------------------\n",
            "training\n",
            "------------------------------------\n"
          ],
          "name": "stdout"
        },
        {
          "output_type": "display_data",
          "data": {
            "text/html": [
              "<img src='data:image/png;base64,iVBORw0KGgoAAAANSUhEUgAAA2AAAAJACAYAAADrSQUmAAAABHNCSVQICAgIfAhkiAAAAAlwSFlz\n",
              "AAALEgAACxIB0t1+/AAAADl0RVh0U29mdHdhcmUAbWF0cGxvdGxpYiB2ZXJzaW9uIDMuMC4zLCBo\n",
              "dHRwOi8vbWF0cGxvdGxpYi5vcmcvnQurowAAIABJREFUeJzs3Xl8VPWhNvDnzJZ1kkySSciekBAC\n",
              "AWQXBBURENFatVqiVu3tfbX2ve21C/1ca3vFvl5w6dVa0bpQtVZcUIyIyqIgyJawBRJCAiQh+zpJ\n",
              "JvsymZnz/jHJkJBJmGxzziTP9/Px48ycM2eeBBLmmfM7v58giqIIIiIiIiIiGnMKqQMQERERERFN\n",
              "FCxgRERERERELsICRkRERERE5CIsYERERERERC7CAkZEREREROQiLGBEREREREQuwgJGRERERETk\n",
              "IixgRERERERELsICRkRERERE5CIsYERERERERC7CAkZEREREROQiLGBEREREREQuwgJGRERERETk\n",
              "IixgRERERERELsICRkRERERE5CIsYERERERERC7CAkZEREREROQiLGBEREREREQuwgJGRERERETk\n",
              "IixgRERERERELsICRkRERERE5CIsYERERERERC7CAkZEREREROQiLGBEREREREQuwgJGRERERETk\n",
              "IixgRERERERELsICRkRERERE5CIsYERERERERC7CAkZEREREROQiLGBEREREREQuwgJGRERERETk\n",
              "IixgRERERERELsICRkRERERE5CIsYERERERERC7CAkZEREREROQiLGBEREREREQuwgJGRERERETk\n",
              "IixgRERERERELsICRkRERERE5CIsYERERERERC7CAkZEREREROQiLGBEREREREQuwgJGRERERETk\n",
              "IixgRERERERELsICRkRERERE5CIsYERERERERC7CAkZEREREROQiLGBEREREREQuwgJGRERERETk\n",
              "IixgRERERERELsICRkRERERE5CIsYERERERERC7CAkZEREREROQiLGBEREREREQuwgJGRERERETk\n",
              "IixgRERERERELsICRkRERERE5CIsYERERERERC7CAkZEREREROQiLGBEREREREQuwgJGRERERETk\n",
              "IixgRERERERELsICRkRERERE5CIsYERERERERC7CAkZEREREROQiLGBEREREREQuwgJGRERERETk\n",
              "IixgRERERERELqKSOgANjcHQPKzn6XTeMBrbRjnNyDCTc+SWSW55AGZyltSZ9HqtZK8tlfH0O7s3\n",
              "OeeTczZA3vnknA2Qdz45ZwOGn28i/t52BZ4BmyBUKqXUEfphJufILZPc8gDM5Cw5ZiLH5P5nJed8\n",
              "cs4GyDufnLMB8s4n52yA/PNNNCxgRERERERELsICJgM7duzAHXfcgbvvvhsHDhyQOg4REREREY0R\n",
              "FjCJGY1GvPbaa/jwww/xxhtvYN++fVJHIiIiIiKiMcJJOCSWlpaGxYsXw9fXF76+vnjmmWekjkRE\n",
              "RERERGOEZ8AkVlZWho6ODjz22GO4//77kZaWJnUkIiIiIiIaIzwDJgMNDQ149dVXUVFRgYceegj7\n",
              "9++HIAgO99XpvIc9k40cpxJlJufILZPc8gDM5Cw5ZiIiIppIWMAkFhQUhDlz5kClUiE6Oho+Pj6o\n",
              "r69HUFCQw/2Hs4bDx/vyMHOKHsnRASONO6r0eu2w18gZK8x0dXLLAzCTs6TOxPLnnP2ny2GyiLhl\n",
              "fqTUUYiIaAxwCKLEli5divT0dFitVhiNRrS1tUGn043a8c0WK745UYoXP8wYtWMSEdHYybhowNa9\n",
              "F9Ha0SV1FCIiGgM8Ayax0NBQ3HLLLfjxj38MAPjTn/4EhYK9mIhooooL88O5wnoUlDdhVrzj0RBE\n",
              "ROS++E5fBlJSUrBt2zZs27YNN998s9RxiIgmtIsXL2LFihXYsmVLv21Hjx7FPffcg7Vr1+K1114b\n",
              "k9dPiPAHAOSXN47J8YmISFosYERERN3a2trwzDPPYPHixQ63/8///A82bdqEjz76CEeOHEF+fv6o\n",
              "Z4iP8AMAFLCAERGNSyxgRERE3TQaDTZv3oyQkJB+20pLS+Hv74+wsDAoFArceOONY7J0iI+nGlGh\n",
              "WlyqaILFah314xMRkbRYwIiIiLqpVCp4eno63GYwGBAYGGi/HxgYCIPBMCY5psUGorPLgnJD65gc\n",
              "n4iIpMNJOIiIiMbIcNdunBarwzfHilHV2Il5M8LHINnIyXlZATlnA+SdT87ZAHnnk3M2QP75JhIW\n",
              "sHFugPWciYhoiEJCQlBbW2u/X11d7XCoYm/DWbsRAJJibWfazlyoxsLE4GEdYyxJvabcYOScDZB3\n",
              "PjlnA+SdT87ZgOHnY2kbGxyCSERE5ITIyEi0tLSgrKwMZrMZ+/fvx5IlS8bktSL0vvDxVCG/jBNx\n",
              "EBGNNzwDRkRE1C07OxvPP/88ysvLoVKpsGfPHixfvhyRkZFYuXIlnn76afzud78DAKxZswZxcXFj\n",
              "kkMQBCRE+COzoA4NLZ0I8PUYk9chIiLXYwEjIiLqNmPGDLz//vsDbl+wYAG2bt3qkiwJkbYCVlDe\n",
              "iHlTBx/qSERE7oNDEImIiGSICzITEY1PLGBEREQyFBvmB4UgsIAREY0zLGBEREQy5KFWIjrUF8VV\n",
              "zegyW6SOQ0REo4QFbJwTwHnoiYjcVUKEP8wWEcVVLVJHISKiUcICNs6JEKWOQEREw5QQyevAiIjG\n",
              "GxYwIiIimeJEHERE4w8LGBERkUwF+nlCp/VAfnkjRJEjGoiIxgMWMCIiIhmLj/BHU6sJhsYOqaMQ\n",
              "EdEoYAEjIiKSsZ5hiAVlHIZIRDQesIARERHJGK8DIyIaX1jAiIiIZCw61BdqlYIFjIhonGABIyIi\n",
              "kjGVUoG4SVqUGVrQ3mmWOg4REY0QCxgREZHMxUf6QxSBS5VNUkchIqIRUkkdYKI7duwYHn/8cUyZ\n",
              "MgUAkJiYiP/+7/+WOBUREclJ74k4kmMDJU5DREQjwQImAwsXLsQrr7widQwiIpKpeE7EQUQ0bnAI\n",
              "IhERkcz5eWsQqvNCQUUjrFyQmYjIrbGAyUB+fj4ee+wx3HfffThy5IjUcYiISIYSIvzR3mlBRW2r\n",
              "1FGIiGgEOARRYrGxsfjlL3+JW2+9FaWlpXjooYfwzTffQKPRONxfp/OGSqV0+vgWi9V+W6/Xjjjv\n",
              "aGMm58gtk9zyAMzkLDlmIufER/rjSHYVCsobEan3lToOERENEwuYxEJDQ7FmzRoAQHR0NIKDg1Fd\n",
              "XY2oqCiH+xuNbUM6vsV6uYAZDM3DDzoG9HotMzlBbpnklgdgJmdJnYnlb2R6L8h84+wIidMQEdFw\n",
              "cQiixHbs2IG3334bAGAwGFBXV4fQ0NBROz4vFSAiGh/Cg33g5aFEfjmnoicicmc8Ayax5cuXY926\n",
              "ddi3bx+6urrw9NNPDzj8kIiIJi6FICA+3B/ZhfVobjNB681/K4iI3BELmMR8fX3xxhtvSB2DiIjc\n",
              "QEKErYAVlDdh9pRgqeMQEdEwcAgiERGRm4iP5HpgRETujgWMiIjITUwO84MgsIAREbkzFjAiIiI3\n",
              "4eWhQqTeF4WVTTD3WmaEiIjcBwsYERGRG0mI8EeX2YrSmhapoxAR0TCwgBEREfWyceNGrF27Fikp\n",
              "KcjKyuqz7YMPPsDatWtx3333YcOGDZLks68HVsZhiERE7ogFjIiIqNvx48dRXFyMrVu3YsOGDX1K\n",
              "VktLC95++2188MEH+Oijj1BQUIAzZ864PCMn4iAicm8sYERERN3S0tKwYsUKAEB8fDwaGxvR0mIb\n",
              "6qdWq6FWq9HW1gaz2Yz29nb4+/u7PKPe3xN+3moWMCIiN8UCRkRE1K22thY6nc5+PzAwEAaDAQDg\n",
              "4eGB//iP/8CKFStw00034ZprrkFcXJzLMwqCgPgIfxibO1Hf1OHy1yciopHhQsxEREQDEEXRfrul\n",
              "pQVvvvkmdu/eDV9fXzz88MM4f/48kpKSBny+TucNlUo5rNfW67UDbps9NQSn82pR02TC1Hj9sI4/\n",
              "UoPlk5qcswHyzifnbIC888k5GyD/fBMJCxgREVG3kJAQ1NbW2u/X1NRAr7cVnIKCAkRFRSEwMBAA\n",
              "MH/+fGRnZw9awIzGtmHl0Ou1MBiaB9w+KcATAJCRW4WkSL9hvcZIXC2flOScDZB3PjlnA+SdT87Z\n",
              "gOHnY2kbGxyCSERE1G3JkiXYs2cPAODcuXMICQmBr68vACAiIgIFBQXo6LAN+8vOzkZsbKwkOWMn\n",
              "aaFUCLwOjIjIDfEMGBERUbe5c+ciOTkZKSkpEAQB69evR2pqKrRaLVauXIl///d/x0MPPQSlUok5\n",
              "c+Zg/vz5kuRUq5SInaRFYWUzOk0WeGiGN8yRiIhcjwWMiIiol3Xr1vW533uIYUpKClJSUlwdyaH4\n",
              "CH8UVDShqKoJU6N1V38CERHJAocgEhERuSH7gswchkhE5FZYwIiIiNxQfE8BK2MBIyJyJyxgRERE\n",
              "bkin9UCwvyfyyxv7TJdPRETyxgJGRETkphIi/NHaYUZV/fCmuyciItdjASMiInJT8bwOjIjI7bCA\n",
              "ERERuameiTgKypskTkJERM5iASMiInJTkSE+8FArUcAzYEREboMFjIiIyE0pFQpMDvdDeW0r2jq6\n",
              "pI5DREROYAEjIiJyYz3XgRVUcBgiEZE7YAGTiY6ODqxYsQKpqalSRyEiIjeSwPXAiIjcikrqAGTz\n",
              "+uuvw9/fX+oYREQkseKmUlRYgHBllFP7x0f4AeBMiERE7oJnwGSgoKAA+fn5WLZsmdRRiIhIYl8V\n",
              "foNnD76GqtZqp/b38VQjPNgHlyqbYLFaxzgdERGNFAuYDDz//PN44oknpI5BREQysDR8EayiFZ/n\n",
              "73T6OQkRfug0WVBuaB3DZERENBo4BFFi27dvx+zZsxEV5dxQE53OGyqV0unjd5kvfxqq12uHnG+s\n",
              "MZNz5JZJbnkAZnKWHDNRX7OCp2O6fgqyDbm4UJ+PqYEJV31OfIQ/DmZWIr+8EdGh/DMmIpIzFjCJ\n",
              "HThwAKWlpThw4ACqqqqg0WgwadIkXHfddQ73NxrbhnT83gXMYGgeUdbRptdrmckJcssktzwAMzlL\n",
              "6kwsf84RBAEPzf4Rnvj2OaTmf4X/WvCfUAiDD1ixT8RR3ojlcyNdEZOIiIaJBUxiL7/8sv32pk2b\n",
              "EBERMWD5IiKiiWFyYAwWTpqL41UZOFaVgcVh8wfdf1KgN3w8VZwJkYjIDfAaMCIiIhm6Y/JqqBUq\n",
              "fFmwG50W06D7CoKA+Ah/1DZ2oKGl00UJiYhoOFjAZORXv/oV7r77bqljEBGRDOg8A3Bz1A1oNDVh\n",
              "X8n3V92/ZxhiAaejJyKSNRYwIiIimVoZswxajS++LfkejZ1Ng+7b+zowIiKSLxYwIiIimfJUeeL2\n",
              "uFUwWUz46tKeQfeNC/ODQhBYwIiIZI4FjIiISMYWhy1AmE8o0ipPorylcsD9PDRKRIX6oriqGV1m\n",
              "iwsTEhHRULCAERERyZhSocRdCbdDhIjUvK8giuKA+yZE+MNsEVFc1eLChERENBQsYERERDKXHDQV\n",
              "0wITcd6Yh5z6CwPux+vAiIjkjwWMiIjIDdyVcBsECEjN/xoWq+MhhixgRETyxwJGRETkBiJ8w3Bd\n",
              "+AJUtVbjaOUJh/sE+nlAp/VAfnnjoEMViYhIOixgREREbuK2uFvgodTgq0t70G7u6Le9Z0HmplYT\n",
              "DI39txMRkfRYwIiIiNyEv4cWK6NvQktXK74p3u9wH/uCzGUchkhEJEcsYERERL1s3LgRa9euRUpK\n",
              "CrKysvpsq6ysxH333Yd77rkHTz31lCT5bo6+HgEe/thfegj1HcZ+23kdGBGRvLGAERERdTt+/DiK\n",
              "i4uxdetWbNiwARs2bOiz/bnnnsPPfvYzbNu2DUqlEhUVFS7PqFFqcMfk1eiymrGjYHe/7dGhvlCr\n",
              "FChgASMikiUWsHGPF2ETETkrLS0NK1asAADEx8ejsbERLS22NbWsVitOnTqF5cuXAwDWr1+P8PBw\n",
              "SXIumDQHUdoInKg+jeKm0j7bVEoF4iZpUWpoQXunWZJ8REQ0MBYwIiKibrW1tdDpdPb7gYGBMBgM\n",
              "AID6+nr4+Pjg2WefxX333YcXX3xRqphQCArcnXA7AOAzB4szx0f6QxSBwsomKeIREdEgVFIHICIi\n",
              "kqvexUYURVRXV+Ohhx5CREQEHn30URw4cADLli0b8Pk6nTdUKuWwXluv115l+2wcqZ6FkxVZKDJd\n",
              "wsLI2fZt86ZNwq70ElQ2dODGqxxnuK6WT0pyzgbIO5+cswHyzifnbID8800kLGBERETdQkJCUFtb\n",
              "a79fU1MDvV4PANDpdAgPD0d0dDQAYPHixcjLyxu0gBmNbcPKoddrYTA0X3W/NVGrkFGZjfcytiFK\n",
              "HQOVwvbPerBWAwDIvFiDm2eP/jBJZ/NJQc7ZAHnnk3M2QN755JwNGH4+lraxwSGIRERE3ZYsWYI9\n",
              "e/YAAM6dO4eQkBD4+voCAFQqFaKiolBUVGTfHhcXJ1VUAECoTwiuj1gEQ3sdDpWn2x/389YgVOeF\n",
              "gvImWLkgMxGRrPAMGBERUbe5c+ciOTkZKSkpEAQB69evR2pqKrRaLVauXIknn3wSTzzxBERRRGJi\n",
              "on1CDimtiV2J41UZ2FW4F9dOmgtvtTcA23T0R7KrUFnbigi9r8QpiYioBwsYERFRL+vWretzPykp\n",
              "yX47JiYGH330kasjDcpX44NbYpZje8FO7Crahx9N+QEA20QcR7KrkF/eyAJGRCQjHIJIRETk5pZF\n",
              "LkGQpw7flx2Foa0OAJAQzgWZiYjkiAWMiIjIzamVavww/lZYRAu+KNgJAAgP9oGXhxL55ZyKnohI\n",
              "TljAiIiIxoG5Idcgzi8apw1nUdBQBIVCwORwf1TXt6G5zSR1PCIi6sYCJrH29nY8/vjj+MlPfoJ7\n",
              "770X+/fvlzoSERG5IUEQcPeU7sWZ87+EVbQiIcI2DLGAZ8GIiGSDBUxi+/fvx4wZM7Blyxa8/PLL\n",
              "eO6556SOREREbmqyfyzmhMxCcVMpMqoz7QWM14EREckHC5jE1qxZg0ceeQQAUFlZidDQUIkTERGR\n",
              "O7sz/laoBCW+uLQbUZO8oFQIyLho4HpgREQywWnoZSIlJQVVVVV44403pI5CRERuLNgrCDdGLsG+\n",
              "0oNIr0nHouRQHDlbhcy8WsxJ1Esdj4howmMBk4mPP/4Yubm5+P3vf48dO3ZAEASH++l03lCplE4f\n",
              "19Rlsd/W67UjzjnamMk5cssktzwAMzlLjplo9K2OXY70ypPYU7QfP5/3Sxw5W4Wdx4oxe0rwgP++\n",
              "EBGRa7CASSw7OxtBQUEICwvDtGnTYLFYUF9fj6CgIIf7G41tQzp+7wJmMDSPKOto0+u1zOQEuWWS\n",
              "Wx6AmZwldSaWP9fxVnvj1rgV2Ja3A6cbj2B2QjzO5Ncir6wRiVEBUscjIprQeA2YxE6ePIl33nkH\n",
              "AFBbW4u2tjbodDqJUxERkbu7IWIxQryDcbjiGBbO8QYA7EovljgVERGxgEksJSUF9fX1uP/++/Ho\n",
              "o4/iqaeegkLBPxYiIhoZpUKJO+Nvg1W04lTz94iP8ENmQR3KDS1SRyMimtA4BFFinp6eePHFF6WO\n",
              "QURE49Cs4OlI0k1BTv0FLJ85FQXlwO5jJfj326dLHY2IaMLiqRYiIqJxShAErJ16F1QKFU627Mck\n",
              "vRrpOdWob+qQOhoR0YTFAkZERDSOhXgHY3XMzWgyNUOfVAyLVcQ3J0qljkVENGGxgBEREY1zK2Ju\n",
              "xCTvEBR0noWfvhXfZ1agtaNL6lhERBMSCxgREdE4p1aokDL1bogQ4RWfg05TF/ZnlEsdi4hoQmIB\n",
              "IyIimgCm6CZjcdgCNFnr4BVZir0nS9Fltlz9iURENKpYwIiIiCaIOxPWwFftA0V4HprNTThytkrq\n",
              "SEREEw4LGBER0QThq/bB3Qm3wwozNLE52HW8GFarKHUsIqIJhQWMiIhoAlk4aS4SA+KhCDCgDkXI\n",
              "uGiQOhIR0YTCAkZERDSBCIKAlKl3QSkooYnJxVfH8iGKPAtGROQqLGBEREQTTKhPCG6JuQmCphOV\n",
              "6tM4X9IgdSQiogmDBYyIiGgCWhVzE3SaQChDi/H5yQyp4xARTRgsYERERBOQWqnGQ8n3QBCAUk0a\n",
              "iqoapY5ERDQhsICNcxzVT0REA0nUJSDRJxkKnyZ8cPobqeMQEU0ILGBEREQT2L/NvhuCRYNyVQYK\n",
              "arguGBHRWGMBIyIi6mXjxo1Yu3YtUlJSkJWV5XCfF198EQ8++KCLk40NPw8trg24EYLSgn+e/Uzq\n",
              "OERE4x4LGBERUbfjx4+juLgYW7duxYYNG7Bhw4Z+++Tn5+PEiRMSpBs7KXOWQ9EWhHqhGOllmVLH\n",
              "ISIa11jAiIiIuqWlpWHFihUAgPj4eDQ2NqKlpaXPPs899xx+85vfSBFvzKhVSiwLXg3RKuCTi9vR\n",
              "Ye6QOhIR0bjFAkZERNSttrYWOp3Ofj8wMBAGg8F+PzU1FQsXLkRERIQU8cbUbXOTIRgS0IlW7CjY\n",
              "I3UcIqJxSyV1ACIiIrkSxctzyTY0NCA1NRXvvvsuqqurnXq+TucNlUo5rNfW67XDet5I3JawEl8a\n",
              "ynGw/CjWJN+IOF3UgPtKkc9Zcs4GyDufnLMB8s4n52yA/PNNJCxgRERE3UJCQlBbW2u/X1NTA71e\n",
              "DwBIT09HfX09HnjgAZhMJpSUlGDjxo148sknBzye0dg2rBx6vRYGQ/OwnjsSS6eHY8eWZIhTTuC1\n",
              "tH/h9/N/CYXQf7CMVPmcIedsgLzzyTkbIO98cs4GDD8fS9vY4BBEIiKibkuWLMGePbbhd+fOnUNI\n",
              "SAh8fX0BAKtXr8bOnTvxySef4NVXX0VycvKg5csd+flosCR2Fsy1YShpLsPB8jSpIxERjTs8AyYD\n",
              "L7zwAk6dOgWz2Yyf//znWLVqldSRiIgmpLlz5yI5ORkpKSkQBAHr169HamoqtFotVq5cKXU8l7hl\n",
              "YRQOvJMEta4WXxbsxmz9DAR4+Esdi4ho3GABk1h6ejry8vKwdetWGI1G3HXXXSxgREQSWrduXZ/7\n",
              "SUlJ/faJjIzE+++/76pILhWi88b8+ChklCRCjDuHbRd34P/MHB9rnhERyQGHIEpswYIF+Nvf/gYA\n",
              "8PPzQ3t7OywWi8SpiIhoIrt1UTQshkh4mIJx2nAWZ2tzpI5ERDRusIBJTKlUwtvbGwCwbds23HDD\n",
              "DVAqhzdjFhER0WiIneSHaTGBaLwwFQoosPXCdnRaTFLHIiIaFzgEUSb27t2Lbdu24Z133hl0v6FO\n",
              "adxhMttvy3EmG2ZyjtwyyS0PwEzOkmMmkqc1i2KQu9WIwM7pqEU2dhZ+i7sSbpM6FhGR22MBk4FD\n",
              "hw7hjTfewD/+8Q9otYO/ORrqlMadXZeHM8ptelQ5TtnKTFcntzwAMzlL6kwsf+5leqwO0aG+KM0O\n",
              "w6TFZfiu9BAWhM5BpDZc6mhERG6NQxAl1tzcjBdeeAFvvvkmAgICRv34aiX/iImIaOgEQcCt18ZA\n",
              "tCgR2nYtrKIVH11IhVW0Sh2NiMit8d25xHbu3Amj0Yhf//rXePDBB/Hggw+ioqJi1I6vUAijdiwi\n",
              "IppY5ifpEezviexMJWYGzkRRUwkOlx+TOhYRkVvjEESJrV27FmvXrpU6BhERUT9KhQK3LIzGB99e\n",
              "hH/jNfBU5mHHpV1YnnQt+BkuEdHw8LfnBCKKotQRiIjIzSydFQZfLzWOZDTgtthVaDd3YFP6u7BY\n",
              "uWQKEdFwsIBNIKxfREQ0VB5qJVbMi0RbpxldVVGYFZyM7JoL2F6wU+poRERuiQVsAunq4oXTREQ0\n",
              "dMvnRUKjVuCbk2V4YOq9CNeG4rvSQzhRdVrqaEREbocFbALZmV4sdQQiInJDvl5q3DArHMbmTmRe\n",
              "bMTvlz4GT6UHPji/DaXNozdxFBHRRMACNoF8ebRI6ghEROSmVi2MgkIQsPtYCcK1oXh4egq6rF3Y\n",
              "fPY9tHS1Sh2PiMhtsIDRqDB18WJsIqLxLNjfCwunh6C8thVHsyoxS5+MNbErUNdhxLvZH3JSDiIi\n",
              "J7GA0YhtP3QJj734PUqqm6WOQkREY+i2RTFQKRX429YMFFc149a4FZgRNA3njXnYcWm31PGIiNwC\n",
              "C9gEt/nLc/jDW+kjOsaOI0UAgLOX6kYhERERyVWE3heP/mA6OkwW/PXTTNQ1duKnySkI8Q7G3pLv\n",
              "car6jNQRiYhkjwVsgks7V43q+rZRORaXGSMiGv/mJ4Xg0TtnoqnVhJc+yYTZpMSjMx+Gh1KDLbmf\n",
              "orylUuqIRESyxgI2wXSZLUjPqULnFddsHc6q5ELNRETklNuXTsati6JRXd+GV7ZlIVATjIemp8Bk\n",
              "7cJbWe+htWt0PtgjIhqPWMAmmE/3F+CtHTn4dH9+n8ff2ZmLc4X1EqUiIiJ386Mb47E4ORQFFU14\n",
              "84tzmBk0Hatjb0ZtRz3ePfchrCLXniQicoQFbILZe6oMAFBU1X/CDGNzp6vjEBGRm1IIAv5tzTQk\n",
              "x+pwJr8W7++5iDWxK5AclITc+ov48tIeqSMSEckSC9gEdamiCek5VaN6TA5gJCKaWFRKBf7vXTMR\n",
              "HeqLg5kV+PpoCX46/T7ovYLwTfF+ZNRkSR2RiEh2WMAmsLd25EgdgYiI3JyXhwq/ufcaBPt7Yvvh\n",
              "QpzMMeLRmQ9Do9Tg/dxPUNEyuh/2ERG5OxYwsnt313lkXDRIHYOIiNyMv68HfvPja+Drpca/dl+A\n",
              "oUqFh6athcliwptn30MbJ+UgIrJjAaM+Xk09K3UEIiJyQ2FBPnj8nllQKQW8/kU2/M0xWBVzE2rb\n",
              "6/BuzkeclIOIqBsL2ARwwzVhrnkhTmNPRDShxUf44+c/TEaX2YqXP83EwoDrMT1wKnLqLuDrS99I\n",
              "HY9I9ipaqvDCyU14/sQrKG4qlToOjREWsAlAEASpIxAR0QQxZ4oeD94yFS3tXfjrJ1n4Udw9CPYM\n",
              "xO7i73CmhqMsiByxilbsLz2M50/aildJcxn+cvJVpOZ9hU6LSep4NMpYwCaAWxfFSB2BiIgmkGWz\n",
              "I3DHkljUNnbgzdSLeDjpJ9Ao1PhX7lZUtlZLHY9IVho6G/HambexLW8HPJUeeHTmw3h8zqMI9grE\n",
              "vtKD2HDsJZyvz5M6Jo0iFrDGOeDhAAAgAElEQVQJICTAa1jPs1pFVDc1orylcpQTERHRePfDpXG4\n",
              "flYYiqubsf3bWtw/9V50Wkx4K+s9tHW1Sx2PSBYyarKw8dhfcd6Yh+SgJDy58Le4Rp+MRF0Cnlz4\n",
              "W6yMXgZjZwM2ndmM93M+QSsntBkXVFIHIPk5lFWB62eF438/Po2i4G0QVGb85fo/w1s9vCJHRORO\n",
              "Nm7ciMzMTAiCgCeffBKzZs2yb0tPT8dLL70EhUKBuLg4bNiwAQoFP8t0RBAEPLR6KhpbTcgqqIOf\n",
              "zySsSLoRe0u+x3s5H+Hns34KhcDvHU1M7eYOfHrxCxyrOgW1Qo21iXfh+ohFfS4b0SjVuDNhDeaG\n",
              "zsKHuduQXnUS5+rO497EOzA35BpeYuLG+JuP+nl353kAwPmSBggqMwDbLwpHrL0m3uAUHETk7o4f\n",
              "P47i4mJs3boVGzZswIYNG/psf+qpp/DKK6/g448/RmtrKw4dOiRRUvegVCjwix/OQFyYFkezq2Ap\n",
              "S8S0wERk153HzsK9UscjkkR+QyGePf5XHKs6hWhtBP6w4HHcELl4wEIVrY3E7+f/CnfGr0GHpQPv\n",
              "nPsQb579J4wdDS5OTqOFBUwGLl68iBUrVmDLli1j9hpv/2nlkPb/cO/FPvcH+pBl78my4UYiIpKd\n",
              "tLQ0rFixAgAQHx+PxsZGtLS02LenpqZi0qRJAIDAwEAYjUZJcroTD40Sj997DUJ0XtiZXooE8zIE\n",
              "eQZiV9FeZBrOSR2PAHSYO7C35Hu8fvx9HC5PR3VrDUTObDzqzFYzdhTsxssZb6C+owGrY5Zj3bxf\n",
              "ItQn5KrPVSqUWBmzDE8u/C0SdQk4W5uL/zn2Ig6WHeUSD26IQxAl1tbWhmeeeQaLFy8e09cJ0XkP\n",
              "af+9J8ugjs2236+qb0degwnXTg+1P9ZltuDjfb0uCu31u7qlqxXGjkZEacOHnZmIyNVqa2uRnJxs\n",
              "vx8YGAiDwQBfX18AsP+/pqYGR44cweOPPy5JTnfj563Bb398DTa+fwqf7i3B2tt/gJ2mD/GvnI/x\n",
              "+/m/wiQn3oDS6GvrasOBsiPYX3oYbea+1+Vp1b5ICIhDQsBkTNFNRphPKIeMjkBVaw3+mfMRSpvL\n",
              "EeQZiIenpyA+IHbIxwnxDsZ/zn4EaZUnkZr/FbZe3I4T1WfwQNI9/DlyIyxgEtNoNNi8eTM2b97s\n",
              "wlcVAVUXYNYMupcq5PLZrRc/Pg3R5IUQnRfiwvwAAOnnBp7J6um0F9Bubsdfrn8a3ur+5c/EKVWJ\n",
              "yA04OgtQV1eHxx57DOvXr4dOpxv0+TqdN1Qq5bBeW6/XDut5rjLUfHq9Fk8/uhhP/v0IPtttwNp7\n",
              "7sJnlz7BG2ffQXxQLKxWKyyiBVbRCouj21YrLOLl21ax7/2e2zpPfyyffB2WxV0HPw/fMfrqR0bq\n",
              "P9umjmZ8dXEf9uR9j3ZzB3w1Plg74weYGz4TeXWFyDXkIceQh9OGszhtsC0d4KP2QpI+AdP0UzBd\n",
              "PwVxuigoFcP7uz0SUn/vBuMomyiK2JP/PbZkpsJk6cKyuMX46Zx7R3xd/Q9DluOGxHl4N+MTpJdl\n",
              "4NkTL+NH02/FD5NWQaV0/PZezt+7iYYFTGIqlQoqlWv+GH5x5wy8vj0b6vhMqIKq0HHmBogmJ8+M\n",
              "qboAkxfKalrQoqhGZv0ZhFsGPmvX3v1JWru5s18By28oxF8zXsdPrrkLi4PG9swfEdFQhISEoLa2\n",
              "1n6/pqYGer3efr+lpQWPPPIIfv3rX2Pp0qVXPZ7ROLwZy/R6LQyG5mE91xWGmy/AU4Vf3DkDr2zL\n",
              "wufb27BkxfU4UnMIhrb6AZ+jFJRQCAooBQUU3f/ZbtseVwtqKJSXt9W0GbAl83N8fPZLzA2ZhRsi\n",
              "FiPWL1o2ExZI+Wfb0NmIvSXf43D5MXRZu6DV+OKuhNuwNHwRPFUe0Ou08DUHYI7/HIjxIuo66pFn\n",
              "vIT8hkLkN1zCqYqzOFVhK2QeSg0m+8ciIWAyEgLiEOMXBbVibN/PyPnnwlG2xs4mbMn9FDn1F+Cj\n",
              "8sbDM1IwO2QmWhvMaMVofB0KPJiYglm6Gdh6YTu2Zn+JQ4UncH/SPYjzj75qPmewtI0NFjA3M5JP\n",
              "U9dcH4+9p8pQFlQFABB8mroLmAiPmYdhadDDXJrk8LnqyIswXZyPd3edh9fC3QCABf4+ADzt+3j7\n",
              "ePT7QQ0O9kWwd9/Hvi67AAD4LGcX7rh71bC+lrEkx182cssktzwAMzlLjpnkZMmSJdi0aRNSUlJw\n",
              "7tw5hISE2IcdAsBzzz2Hhx9+GDfccIOEKd3bzMlB+OmtSXj761ycPhiIJ+/7A/x81FeUq8v/DZWX\n",
              "vwI7sw/iYPlRHK/KwPGqDET5huP6iMWYP2kOPJSDj/4Yj+ra6/FNyQGkV5yAWbRA5xGAlTHLsDhs\n",
              "ATRKtcPnCIKAYK8gBHsFYXH4AgCAsaPBXsbyGwqRW38RufW2a8ZVChXi/KLthSzOP6bf91oURVhE\n",
              "C8xWM8zd/7dYLYPcNsNstcBiNcMiWhHeFQxlpwd0ngHwUnn2yywnZwzZ+PD8NrR2tWFaYCJ+Mu1e\n",
              "BHj4j8lrXaOfgURdPLbn78ThimN48dRrWBa5BLdPvgWeKo8xeU0aGRYwNzOST1Pzysrwu5QZ+M33\n",
              "tscEofuiTYUVCq9WKLxaByxggmf/1y1tLQQwzX6/rbWz36crxvo2iK19f7m3t18efii3T7Lk+Oma\n",
              "3DINlmdX4V54qjxxU9TVzwy4KpNUxjKTVbQNv1IN8dNmR5lEUYQI0SXXdrhD+Zs7dy6Sk5ORkpIC\n",
              "QRCwfv16pKamQqvVYunSpdi+fTuKi4uxbds2AMDtt9+OtWvXSpza/SyZGQZjcydSD17Cm6kX8fM7\n",
              "khGhH9q1ygPx1fjgpqilWBa5BBeM+ThUno6s2nP48MJn+Lzga1w7aR6uj1iEST6hVz+Ym6tuM+Cb\n",
              "ov04Xp0Bq2hFsFcQbom5CQsnzR3y7w8A0HkGYMGkOVgwaQ4AoNnU0qeQ5TcUIq/hEgBAISjgq/bp\n",
              "W6REy6h9bV4qT+g8AqDztP0X2H070FMHnYc/Ajz8JRki2WHuwLa8L5FWeQJqhQr3Jv4QN0ZcN+Zn\n",
              "YL1UXrgv6UeYHzoHH17Yhv1lh5FZew4pU+9GctDUMX1tGjoWsAnCbLXgj0f6TqcMRc+1Db2vcRAB\n",
              "9P8lofBsA9QdQNflT5zqmx1PTV9Re3nGsEFn5ul+2S6zFZn5tZgVHwSNeuBflp1dFmhUCtkMIyGb\n",
              "zWffByDikZkP4avCbwDA5QVMCofL0+Gt9sbckFlX33mUrU97HvUdRry2/IURH+v5E39Dk6kFG5f+\n",
              "yf6YxWrBeWM+pgRMHvDT8fFs3bp1fe4nJV3+YCo7O/vK3WmYblscg4aWTnyXUY6n3j6ORcmh+OHS\n",
              "uCFPGjUQQRCQFDgFSYFT0NDZiCPlx3Ck4jgOlB3BgbIjSAyIx/WRi3FNcPKYvVHvtJhQ2lyOkqZS\n",
              "FDeXoaKlCnqtDiGaUERqwxHlGw69d/CofwBS3lKJPUXfIaMmCyJETPIOwS2xyzEv5JpR/Vq1Gl/M\n",
              "CZmJOSEzAQBtXe241FiEvO5C1tbVBqVaCZWghEqhglKhhEpQQaVQQqlQXX5cUEKl6H27e59etxWC\n",
              "AqLajNL6ahg7GmDsaEB9hxEVrVUOswkQ4O/hB51HAAK7S5rOXtICEODhDy+V57CK6EAuNRbhvXMf\n",
              "o7ajHlG+4fhp8n0uL/pTdJPx5ILfYFfRPnxbcgB/z3wbC0Ln4hfX3e/SHDQ4FjCJZWdn4/nnn0d5\n",
              "eTlUKhX27NmDTZs2ISAgYFRf56sL/ddbETxaIfg0QOzwsT/mtXAP2k8v61O0eqhCi2GuSLDfbzeZ\n",
              "+2zffrgQCKjAnpov7I9ZHVzALlxR8HYcKcTXacVYMS8S969MdJi/sdWE32w6jEXJoXj0B8kO9yFp\n",
              "nOm+QHui+ehCKgBg7iiUIEdEUYTZaobaQQGq73B+6nOL1QJBEAZ8g1faUtHvsV1Fe7GraB+SdFOw\n",
              "MmYZkgKnOB+cyEmCIOCBlYmYEReE1IOXkHauGsdyarB0VhjuWBKLQL/RG2IW4OGP2yavwurYm5FV\n",
              "m4OD5Wm4aMzHxYYC+Gu0uC78WiwJXwid5/D/7e2ymlHRUonipjIUN5eipKkMla3VEHt9yKlRqLsL\n",
              "Q26fxyJ8wxCpjUCkbxgiteEI9wkb1ocfxU2l2F30HbJqbdP7R/qGY3XszbhGn+ySs9zeai/MCJ6G\n",
              "GcHTrr7zMDg6i99ubkd9dyEzdjbYb9d33y9uLkVhU/GAx1QKSngoNfBQesBD5XH5tlIDT2Xf+7bt\n",
              "Vzym9ICnygPfVR1Aas4uAMCqmJtwW9zKUS13Q6FWqnFH/GrMDZmFD85vw4nqDITlBuOW8BWS5KH+\n",
              "WMAkNmPGDLz//vtj+ho1bQZ8mLW93+PqiEtQR1yCta3vLFHKwCqIbf2HCqnDC6EOL+z1yOV/VBT+\n",
              "BqhCSrC7rAlCryHfVtGK41UZMFstuK57DHlvnV0WFFXZfpleqmwa8Gsoq7GdVUs/V80CRhPC37Pe\n",
              "QU7dBfz1xg1XfSPW0tWK/SWHsDz6BviovZFRk4Vgr0BEayPx2+//BD8PPzxz3R+cfu1dRfsAAOeN\n",
              "eThvzMNfrv/ziGfsInJEEATMnhKMWQlBOHm+BtsPFeJgZgWOZldi2ewI3HZdLPx9Ru+aLaVCaT9j\n",
              "U9Vag8Pl6UivOoldRXuxp/g7zAyejusjFmGqLmHQwmKxWlDVVtOrbJWivKWqzxA7TfckFTF+kYjR\n",
              "RiLaLwp6ryB4ByiRWZSHspYKlDVXoKylAsXNZShsKrn8fYGAUJ8QRPqGIUobgUjfcET6hsNX4+Mo\n",
              "DvIbCrG7aJ/9eqw4v2isjr0ZyUFJ437UiJfKCxG+XojwDXO43Spa0WRq7i5mRnsxa+hsQqe5E52W\n",
              "TnRaTOi0dKLZ1Ixaiwlmq9nhsa4m0FOHh6enICEgbiRf0qiJ1IZj3bz/QGbtOcyLmwaxVepE1IMF\n",
              "bAL48Pxng25XeLf0ua8MrIYy5vzVD9zrd7rH1FMOdxFFK97L+RgA+hUwi9WKX7z4/dVfB8Clikan\n",
              "9iN5E0XR7d4MiKKI8pZKhPmEjsrQnbTKk/gg91P8efETCPIaeArznDrbZDWtXa3QKAf/VP7Ti1/g\n",
              "ZPUZGDsb8UDSPXg727ao+2vLX4BZtDh1xsxkMUEzwOQEJqsJ3mABo7GjEAQsnBaKeVP1SD9XjS8O\n",
              "F2LvqTIczKrAzfMiceu1MfD1Gt3hsJN8QnBP4h34QfxqnKo+g4Placg0ZCPTkI0Qr2BcH7EIi8Lm\n",
              "w1PlCUN7HYqbSlHSXIbipjKUNZfDZO2yH0slKBGpDUeMNgrR3YVrkk+IwxLnq/FBoi4eibp4+2Nd\n",
              "VjMqW6tQ1lzZXczKUd5SiarWapysPmPfL8DD31bGuocvKhVK7C35HvkNtg9HEwPisTr2ZiTq4t3u\n",
              "d+1YUQgKBHRfEwb/GKeeY7Fa7KWsd0HrtJi6S5sJHX22maD398d1wYvhpZLX70qlQom5IbMQ7K2F\n",
              "oVVe10pPZCxgE0DPBbHOUmqdHd7Uf3jhlQ6UHXXwLNvzOrv6XozrYLSi3eeHCgfeSG7jT0c3Ilob\n",
              "iZ/PeljqKE5LrzqFLbmfYEX0jbgr4bYRH29L7icAgFPVZ7Aq9qYhP7/3Gnpdli6olWoYOxoA2GYo\n",
              "E534uXTkdM1ZXBs2z+E2R2thEY0FpUKBJTPDcO30UBzKqsSXRwqxK70EB06XY9WCaKxaEAUvj9F9\n",
              "6+Kh1OC68IVYHLYAxc2lOFiWhlM1mfgs/yvsuLQbKoUK7ebL1zwrBAXCfELtZ7Vi/CIR7jNpRMPN\n",
              "1AoVorWRiNZG2h+zilbUttejrKUC5c0VKO0+Y5Zdl4vsutw+z58eNBWrY24e1sK+1J9SoYS3wmtI\n",
              "Z/7lOBkUyRcL2Dg36CQYIySoTVD4G2B1MFyxx8HyvgVsb9ER7C89PGaZSN4aOhvR0Dn42cxMQzbC\n",
              "fcKg9w5yUarBXTTmAwBO12SNSgHrYRnmz2Z12+U1qn79/R/x2vIX7J90i8OuX4Mbm6MSDUylVOCm\n",
              "ORFYMmMSDpwux9fpxbazYidLsWZRDJbPi4THIJM2DYcgCIj1i0bs9GjcPeV2pFeeRFrlSYiiFTOC\n",
              "ptuGEvpFItI3fMCzxaNJISgQ4h2MEO/gPpP9NJta7EMXG01NWBg6F9F+kYMciYjkhgVsnLtywovR\n",
              "pPBqHXDooSOiKCI1fwf6j8gQoZlyGi1CKDadPo17E3+IST4ho5pVrkRRRFZtDhIC4uCjHp2Zv4ar\n",
              "tasNrV1tCPEOlixDQ2cj3jr7LwAYlRn+RkPPz5CjCWVGwtnpmLt6DXMCbEO1erOK1j4/5wOdrWo3\n",
              "d8BiHd7fMZ4AI6lo1EqsWhiNG2aHY+/JMuw+VoJPDxRgz4lS3L44BjfOjoBaNfqTS/iqfbAi+kas\n",
              "iL5x1I89UlqNL6YFJWJakONJq4hI/sZ+ShySlJzGgP9x8zEIiv7v5DRTT0Kpq0FLwFmcN+bh7ayP\n",
              "JUgnjXN15/HW2ffweuY7UkfBE4f/H/6c/sKonTW1itYhD13rMDte2uBqShrK8dTRZ1HYOPBMV8PV\n",
              "8zNk7GxAdm3uVfa2fd3FTaWwWB0XrJ5rQpwtYFsv9J1A58oPVU7XZF3xDMff83UHn8IT3z7n1Gv2\n",
              "xwZG0vLUqHD7dbF44ReLcft1sejssuDDvXn4w1tpOJhZAbNl7EZ7EBGNNhawCWDdvF9idcIy+Kod\n",
              "z57kKrWac/0fVHVC6V/X56Gy7jHUxVXNyC6s6/+ccaSm3TacrPfsV846daEGf9ycjpb2rqvv7ITR\n",
              "Hq667uBT+MupV1HVWjNoEfvq0h6cqDqNgoYifFGwe1iv9dHZL1DXYcTHFz4fbtwB9S48e0tsk8Z0\n",
              "9roO60qHy4/hhZObsDX7S4fblUMsYOeNeX3zXPGhyjvnPkRps20qeRHioGfqihvKBtzWZm4fcNup\n",
              "6ky8l/MxRFFEu7kDp6rPDFgwicaSt6cad98wGc8/thi3LIxCc1sX/rnrPP70j2NIO1cFq5UfFhCR\n",
              "/HEI4gQQ5x+NhQnJuD3qVnx0IRVHKo5JkkMdfaHPfUFpAQQH64R5tqKgsh4b3rPN/PTOE8v7bDdb\n",
              "rFAp+352cKDsCPw02qsuimu2WHG+xIjEyIBBF312B699blsQ9nhuNZbPHb3x/6IoOlqLu98+7+Vs\n",
              "xRTdwFPtdlpMKG4qxTPH/hdhPqFI0jleS6pnyvOR6PlbNNTzvVtyP4UA4IFp9w64z5VnnAobi/G/\n",
              "p14bcP+ea8ZOlGdiZdjN/bYrBSW6YB524XU0rLjDYjtzaOtew3sDui1vBxIC4hCljei37YtLtrVt\n",
              "botbiZy6C9h6cTt+NfsRrg9GkvHz1mDt8ilYtSAaX6UV4eCZCmz+Mgc704qxdtVUxAR7Q+s99tdp\n",
              "ERENB8+ATSCCIGBt4p32+wO9IZaaoDLjL8fftN1RdeJc3QVoppwCBNsn7o/+5QB+9tx3aGnvQluH\n",
              "ba2OTy9+gbezt6Cts3PQY3+dVoyXtmbisRcP4GfP7bvqsJXsS3U4dcEw5K+hw9yB50+8gjOG7CE/\n",
              "t8vShVPVmTBZHJ/Zautqs6/1ImjaIYoiLhoLUNlaPeTXcsTa/QbeKlqRW38RJksXRFG0n8USRRFf\n",
              "FOzCieqMPkscvPJZpv32lUMqK1ursb+s/+Qroza7XvdxLKK1z2xlA6lpM2BL7qdIqzyBo5UnBt23\n",
              "9wknAcLVhyE6GPZ7vj4Ph8rTAfQagmh1voD9I3sLPjz/mX1R5YGJVy12zaaWAbf1LC49mJ6zf8Nd\n",
              "J4doNOm0Hnhw1VQ8++giLJ0Zhoq6Vrz0YQYef+Uwnn7nOD75Lh9nL9Wh08QztkQkHzwDNsH0vPkL\n",
              "8PDHr+Y8gs/yvsR3pYdwfcRiHCpPAwDMDJ6Gs91vMkWzGoJqdIa4OSJoHL9ZVmqNgGCB19z9+Hvm\n",
              "fih1tgWiLXURgLILsKjw+Ju7oPCvxb9du8r+vMff34pXH36g3+xYxuZOeHuocLHUNl235/xvYW31\n",
              "Q27xbMycHGTfR1Qq+5xfeOkTW6nofRbuQn0+qttqcEPkdf1y96xzdcaQjZLmMmw++68hTybxdeG3\n",
              "+LbkAJZHXY8fTfkBAFspazK1IMhLh01nNqOkuRyqiMlQR1xCVnsjUk/bzhaOxsQVPaXoaMVxfHQh\n",
              "FYvC5qO0uRwA8OTC36C0sQLflhzo97wLug/st7PrnFhHDqM3u17PUSpaq7Du4FN4edlGqAeZEvrP\n",
              "6X/pc7+tqw3eA0yC0meCC4josAxe8h3ZdGYzAOD6iEVQCra/mxbRgs/yvkSiLh4KQYlpgVMGXPi1\n",
              "5zqvCN8wTBvkrFNBYxF+f+hp+/2y7qGJvVW1VkOr8e33OAAnTp4J9r8fcrq+lCg4wAs/u20ablsc\n",
              "g5zSRpw4V4n88kaU1LRg9/ESKBUC4iP8MT1Gh+mxgYgN0/YbSUFE5CosYBOMIAh4/vr18FB6AAB+\n",
              "MPkWhPmEYm7INfYC9uPEO/GDyavho/bGd8cM2Gd+a8zyeCanD5xVfcV1NgoroDDDa94+WJoDoNTa\n",
              "ytQHVb3e7CvNaG41Qe1v+/oUggLFjRX4f29nwE8dgPBg23VwgsIKpbYB+w07kRz3AExdVvzutSMA\n",
              "+pYtVeQFKAMMaO1YCh9P23CWV87Yvh9LIxb1ecNc0VKFDcdfwr9Nv8/5WuHgDFBxs+06nYyaLNwY\n",
              "eR06m1rw4qnNKG+pxHNLn0JJdxlShZQCAApNl8+ytZha4aXyhFKhhMVqGXDhYFEU0WnphKfKs/+2\n",
              "7vTFTbYcuXUX0Gi6vLbJQGfmhmO0zoCJV5z1MXYYEeKtd/r5vz/09IDlVRD6D3cdrjzjJfufSVlL\n",
              "BYqbSvFd6SEAwMPTU7Bw0txBn1/QUDikYX/Pnnh50O0tptY+90UMfvZMwOUzpAoOoCAZCg30xoyp\n",
              "objpmjCYuizIK29ETlE9couMyCttwMXSBmw/XAgPjRJTowIwPTYQ02N0iND78EMFInIZFrAJqPdk\n",
              "HJruBSgB4L/m/ycuNRUj0FNn3373Df7Y953LI9oIV7wZFEQogyoBwF6++j2l+5qyPx7ZAG+VF/57\n",
              "0Tq8cOpleM4GGo+vRoS+70QkF1rPIr/hErakdk/2oTIhreIErg2bB4WggDrctgD03z47jScfuLbP\n",
              "Bd6iKOKM4SziA+Kg1fjiaOVxAMC7OR/hgaSBrykayKXGIlyoz7efb2nobMT6tOf77NNk6r/IowWX\n",
              "h4L9Of0FtJnbMTd4DjJqT+OGiMVYO/Wufs/58PxnOFp5HM9c94c+f962r8v2fR/ovciV06CPhPUq\n",
              "VfVweToCPPwxI3gaAKDd3A4PpQeqWmugUqgQ4h2MLMM5nKnK6fM8c/cEEb2LZlVrDV498w/cn/Sj\n",
              "IWUU+twe+GvfUbC7b+F18KW9fPoN+/e7obWtz7ZD5ekI9dYjxi9qwNc4VZOJNXErnco9GFEU0WU1\n",
              "478O/7nv404898tLw5sohcjVNGolkmMDkRwbCABoae/ChRIjcoqNyCkyIqugDlkFtt/9fj4aTIvR\n",
              "YXqMDtNidQj2d34BXiKioWIBI7tov0iHizn+5+xHUdZSgdT8r1wbSNG3gCmDKgYsXr19eeF7NJma\n",
              "HZYVRydcsgw5KKv1BqCAZkoGtpxvgMUqwqs11r5Pfnkj9p7NRW5FFaC2PfaP7C3Iqj2HUG89nlr0\n",
              "+z7vXqt6XY/V2NmEU9VncGPkkgHPSAHAi6f+DgDQiD5Dn02iW89Mdhm1pwEAB8vTcO+UO/HajtNY\n",
              "lBSOBUmTIIqivSwWNpb0L2D2a8B67l+Waci2r9M1Gq48c3WlnmuS7pt6N+aFzsa6g+uRGBCPiw0F\n",
              "AIANS/6IN8++N+DzP837At+XHcV/X7sOu4r2wtjZgNcy33a4b3ZtLmYET0OLqRVZtTlY1F3Ce38q\n",
              "3tLV2u952y7ugKfKE3uKbZ9UXG0imJ4Sb2zuhKLXqMdLjUV44eQm/HnxfyHYa7BFqEd21vD93E/R\n",
              "YenAkwt/0//Iooiymv4/Nz2eO/E3++3hDMUkkpKvlxrzpoZg3lTbOpP1TR3IKTIit7geOcVGHMup\n",
              "xrEc2+/ukAAvTI/VYVpsICaH+UHn5zGqHz4R0cTGAkZXNTUwAVMDE1xewBS+xj73nSlfEEScbHV8\n",
              "yk4VkQezYiaufAO7v+ww1LHhfV7jo4vb0JG1FJ693kt/bnjXXr4AIKvWNq1+dZttko7e1zPVdVzO\n",
              "/uLxzajrqoZKoXJ43diVOq0dEJyYoFFQOzcU8GxJBc77fYycPD8sSPoTzvW6PsvRRAq7i75DVnkR\n",
              "KiotUF2xHrYzkzQMxWBTpveeTOLTvB3w7B4221O+ANuZTke2pWXi/94cjO/LjgIAnjn2v5jkEzpo\n",
              "ltez3sXc4LnIqM0AAJisJsRoI1HZWmPfp6K1qt/zHE0uAgx8fVujqREAoPB2PBnG+rTnB72Wb6QL\n",
              "Qtd11ANwPAlIY2snnv7kG3hMd/zc3lPV860oubtAP08snRWGpbPCIIoiKurakFtUj5wiIy6UGnHg\n",
              "TAUOnLFdR6lWKRCq80JooDcmdf/Xc9vXS32VVyIi6osFjJz2QNK9+OD8py57PU1cztV36qfvm9P/\n",
              "8/pWeEy13VZHFKC4sQHAvH7PUun7T1agSTx1+Y6D6fJ7K66tRafZcSGqNVVDEICGzqZ+2xzNXCgo\n",
              "B56ta1fh3kFzOPLWJdtZC4VPE84V1uNE4+Xvq6W75OQ3FNof61nrSuGjBdC3SIzWdT8VLVUI8wkd\n",
              "9JqjZ49fvn7JbDXj3ZyPnD7+BeU+PH6g7/T2VU7MEtlTvgDbzJrDcbrm7KDbrVbB4YLkvZU6mDyj\n",
              "x5tZ/xxOrH4sYv/y3dbZBVVEvlPP5/UyNJ4IgoCIYB9EBPtgxfwoWKxWFFU1I7fIiDJDC6rr21Fl\n",
              "bEOZof9ZcB9Plb2QhexjvT4AACAASURBVAZ6I6z7/yE6r34TQhERASxgNATXhS/A9KDEAc86DKar\n",
              "Mg7qsMKr7zhSV7wn9Jh6qu9mj3anP7pXeF7+tF+pG/zN+wtZfc9YnDFcfhPe8z6198vuKtwLT5Xn\n",
              "VadAv9Jpw+Bv7q/mxa1n4LXw8jpwPW+i/5rxer99FT62oWi9py1vNPUvkcOx4fhLAIAUB9en9XB0\n",
              "tskd9BTWdlMX2s3t9lkPe+9xNc8NMnlGbfcZrJEyO1hI2aJpgtLppZNYwGj8UioUiA/3R3y4v/0x\n",
              "URTR2GpCVV0bqoxtqK5vsxWz+jYUVTWjoKL/78dAPw+E6nqfMfNCglkEzGZ4eaj4QQbRBMUCRkMS\n",
              "4OGPjUv+hOKm0n7X3viofdDq4BoZABBNHrDUh0AZWONw+2hReF+tIIj9J/dwgmby0NfzulJZczUM\n",
              "De341+7zuBTyzYiPNxq25H6CLbmfSPb6H1/4XLLXHmvGznqsO7geasUVw5OucjbVVSziSNdFksfX\n",
              "QeQqgiAgwNcDAb4eSIrpe+2sxWpFbUMHquptxazK2G77f30bcouNyC029jueRv3/2bv3+LjqMoH/\n",
              "n3PmzH0mySSZXJukaZveW0pLuZRrobVFXEQR6dZWXXF3XXEXd/GH2MUVFwFxkQWV36II6g8WBesF\n",
              "d3WhclOQ0gKFQqElvSZp7vdMMveZ8/vjJJOZ3NMmmWn7vF/WOTlzzplnJuE75znf53y/Kh6XFY/b\n",
              "+JfjtpLrtpGTtC7baUFVJUkT4nQjCZiYtGxrFsu9S/js4r/mp0llYV8/92bufHY7ldmzOK7sZX35\n",
              "ZTx55EkA4p2FxFrKMflq0QprUW3+0Q5/Uky545SZKWA/Z/JlfFNhX8d7vP6MMdS/vWCcjaeJYp2e\n",
              "z12MLhJPLU3NlAvekZOcSFnSLyEGmVQ1UYI4VDAcpaUzkEjOAlGdxhYfnb4Qnb0hmjsDIxzRoCoK\n",
              "2S6LkZC5BpI049HjsuLJMpI2sybTQghxKpEETJyw1UVnM8tdwrd2fZc1xatxW118++rP9j+7DoAy\n",
              "j5cCewGBVTq3PbyLcPNsYi3l2FenpwdItY7+RTcTTIXHiPfmpO31rUtPfA4rcXr5n8PPntwBpmgO\n",
              "NyFOdzaLRnmhm/JC475ar9dNa+vgaKORaJyu3hCdvlDiMfGvN0RnT4iaJh9H4iNXeChAlstCfraN\n",
              "vCwbedk28rPt5GXZjHXZNrkXTYgMIwmYOCnFzkLuveTfEyPUDVWZXQ6A0wL33ngh3b0hQpEY3z2Q\n",
              "GSV4M81ScWD8jabRWAN8iDNLddfEBtsYjaRfQkwNs6bizbHjzRl97rG4rtPrj6QmZr4QnT1B2nuC\n",
              "tHUHOdbo43D9yEmay25OJGPJiZmxbMdhm7rTwbiuE4/rxOI6mknBpErvnBBDSQImTppds01oO5fd\n",
              "nBiud1PP53nstZdRXV3jlg3Ggw5i7cWgK8T7jBuihw6uIYSYWaMNsy+EmHqqopDltJDltFBR5B5x\n",
              "m3hcp6s3RFt3kPbuIG09Qdq7A/3LIY639nGsaeR5/uxWzeg9y7ERCkWJxQeTqIHHlHV6/7pYPLE8\n",
              "8NzQznGbxYTTZsZp03DYNJw2c+LRaddwjPKcw6pl/P1v0Vicnr4wXb1h2nojuC0qVov0NorxSQIm\n",
              "0uLihfP59XMtdDeFuGCpl1rLTjq0wfmdAnvWYp2/B9XVTbwnl2h9Vcr+4UNngSkK6Cc4XL0Q4mSY\n",
              "FLmqLUQmUVWF3CwbuVk2KBv+fFzX8fWF+xOz/iSt2+hBa+8O0toV4HirMeqtooBJVVBVxXhUjEeT\n",
              "SUVVFMwmFatZSWyT2E5V0AbWKQqRaJy+YBR/KEJzV4BQeHJVGHarlpKc5ebYMasKTpuWuKjrHHjs\n",
              "X+e0mU86cYvrOj5/hK7+slDjX9h49A0u9/SFUy5FKQqU5ruYU+JmTkk2lcVZlOY7ZzyRjMbiNLT1\n",
              "UdvcS22Lj8Z2Px9fW0VlgXNG4xCjkwQsA9x1113s3bsXRVHYtm0by5cvH3+n08Dj37wyUQf/TquJ\n",
              "H75rJGBnKVexOxbnK+fcyGHfIX7xujF61NlV+bx1sA2AWEdx/1F0kARMiBm3NG9RukMQQkyCMaCH\n",
              "lWyXNWV4/QG6ruPJddHR0Ys6TaMFRWNx/MEofcFI/2MUfzCS8jjSc80dAUKRXhhhNMmhFDAStv5k\n",
              "zEjUjJ9dtsGEzWox4fOHR02sYvHRe/ktmkqO20pVbg45Lgs5Lit2u4X9R9o41uzjeGsvf97bCIDV\n",
              "bKKiyM2ckizmFGcxpyQLj9s6ZVMQ+IOR/kSrl7pmH7UtvTS09aXErwCXrgpKApZBJAFLs927d1NT\n",
              "U8OTTz7J4cOH2bZtG08++WS6w5pxy71L+NaabeRYs1EUhb+9TEdRFOZyDiu/EKCmqZdVC7z8945q\n",
              "jjX3UJrv7G/cFPSYaUrubYocr8I86+CEtw/tX41i82OpfO+kX1uIU004omMf+dZPIcQpSFEUzJo6\n",
              "bckXgGZSE6WUkxWNxbE5rNQc76QvGKU3EKE3EKFv4DEYoTcQHVwXjNDREyQam3i5tEk1phqYXew2\n",
              "Rp3sH3lyIMka+Ge3moYlUAODq8Ticepb+zjS2MPRhh6ONPZwsK6L6rquxLbZTgtzSrKo7E/IKouz\n",
              "sFvHPiXXdZ32niB1/clWbbOPupZe2rqDKdtZNJWKIjflBS7KCo3HWV4Xs0pzUgZ/EeklCVia7dy5\n",
              "k3XrjBED586dS3d3N729vbhcrjRHNvM8tsHRAZMbtvxsO/nZxs3Jn/rQ/MT6eByONfXw+eXb+M3L\n",
              "R6jO/W8Agu9eiG3ZX4jUVeHwzSdYuhPV3YmipjbCoeqVWOa9jaLGiQecRBsriffk9o9SqIASQ81p\n",
              "Jd5VAKYI9pUvDr520EHclwu+PAKtZWjFR9CjZuI9edjO+vN0fDxCZJRfvniIT29cmO4whBBnCM2k\n",
              "4smyEfVO/PxI13VCkVh/UhalNziYsAXDMdx2c3+CZSRZLrv5pHumTKqaGPXyshWlAARCUWMky6Sk\n",
              "7K2DbYmqHgUoynMkesgqS7IwqWoiyapt9lHb3Is/lDp9iNthZkllbn+y5aK8wE1hrl0GPjkFSAKW\n",
              "Zm1tbSxZsiTxc25uLq2trWdkAjZZn7tqsATqpk+cxX/v7CVs6uEz/7iRXe+fx6JzPbjsZuLxCwlG\n",
              "Yhw43sY5VcWoA/euXA7h6Cdo7QxyuKGHn757gHhv0uSauol4Z5GxHLUS2L0h6dVTG+ho4xxyXBa6\n",
              "QmFi3bmYsjuIdRSOO8BI+PAy9LAN85x3Ua1B9IgFxWwcI3z4LFB0rAveJFK7APPs9xPzp0XqqtBK\n",
              "DqOYBieVDtcsItZejLl8P4oaT7x26OAK9KAT27LBIegDr6/HvvqPg/G3F6HlNaFHNRQtSrSlDK2g\n",
              "jkhdFeYyo1cwfGRpyoTUgTeMCwfmWQfRimqIdRQQD7gxlxqlpDFfDnrYRqytNGXQlLjfheroJbDn\n",
              "coirmCv3oeU1GcfcvQHV1YVl/psomvFFo8eVRPIc2L0R0LGfawyhHmmoxFxy1Ijv6JKU3shYVz6x\n",
              "Li+W2ftH/OyjzeVohbVj/n5OVqwrH1NO25QfN/j2pZjL90/7xOZjOTTKaGung7HKwl999VXuu+8+\n",
              "TCYTl1xyCTfeeGMaIxVCjEVRFGwWDZtFI3941eWMsVs1FlZ4Uibw7vSFONLQw5HGbo429HC0yUdj\n",
              "exN/2dc04jEKPXYW9ydbRoLnIttpmbJSRjGzJAHLMPo4c+t4PA407cRG2PF6Rx45KZ2mMqYvX70x\n",
              "sXx1Ydaw5+dW5I+4X2kxrFhczLXrFqSsH/hdKIpCMByloztIiddFJBpPTHqp6zqhcAxbf+mAruvE\n",
              "4lfx69d3UbpwNuVFWYQiMXyxdpra/JhMcMWyJfzvq4c40l7PX//9uWQ5LbR3BzGZFHa/18SSObm0\n",
              "dAR4Tq3jvCVFPLjdGGUy9M4lKLZessw5XLZsFv/36lw2f2gBT+zYz/nLSqiJ+WiM9vH9T/4Lew60\n",
              "MLvERVDpYcW1lbxV3codjzox5TUQ6/aCbiKw53IUcwg9aoGIlYpwFofqjJPqH31tHY8/s58/N9YT\n",
              "92cR783hshWVVJSdz2PP7zF6BftF6hYQD7iItZWArhLvzSbe7SU5SR1InFRVIT6YMxr7H15BZHD8\n",
              "FeK9HoJ71g38FgDQio8Q9w18cSkEdn8IFB10FT1iI9ZRCBEbgfZiTJ4WYj25EDE+t0BHMcRVUOOo\n",
              "9l5UZzfRtlKIWojULAI1ZgzoEjVKYhRbH3rEArqKeVa1kUR2e9EDLkBHsQZQHT5iXV7s5zyHHlcI\n",
              "7bsQPegENY5i60V1d6E6u4kcWZb4HFRPE6qzh1hnIVrRUVR7L6EDq1EdvcR9HkyeZmI+D1pBHaqr\n",
              "Cz1iNT5TJW58nqYIthV/InxwJXrYTvjQSmNibTWK5q0nHnQSa52F6u5ED1uNeLQwiimKHrGCKYaW\n",
              "10C0dRbEjL9XrawaPWTHlNdA5NgSTHkNmEuOEqldQLSpElNeAyhx9IgVPeQAXcEydy+RxjncfdNF\n",
              "5LhPvxrE8crCv/Wtb/HII49QWFjIli1b2LBhA/PmzUtjxEKIU5HHbWXVAi+rFngBYxTLxvY+jjT0\n",
              "cLSxh7gO5f29WqVe57gliuLUoujjnfGLafX9738fr9fLpk2bALjiiit4+umnR+0BO9H63aETP2YC\n",
              "iWliMi2mTIsHJKaJSndMmXgRaKgHHniAkpISrrvuOgA2btzI9u3bcblc1NXVccstt/Dzn/8cgB/+\n",
              "8Ic4HA62bt066vFOpzY7WSbHl8mxQWbHl8mxQWbHl8mxwYnHdyq026ciKRJNswsvvJBnnzXKqd57\n",
              "7z0KCgqk/FAIIdKkra0Nj2ewTGigLBygtbWV3NzcEZ8TQgghJkr6M9Ns5cqVLFmyhE2bNqEoCt/4\n",
              "xjfSHZIQQoh+J1skcrqVjSfL5PgyOTbI7PgyOTbI7PgyOTbI/PjOJJKAZYCvfOUr6Q5BCCEEUFBQ\n",
              "QFvb4MApLS0teL3eEZ9rbm6moKBg2DGSdXb6TyiO07WcaSZkcmyQ2fFlcmyQ2fFlcmwgJYiZRkoQ\n",
              "hRBCiH5jlYXPmjWL3t5ejh8/TjQa5cUXX+TCCy9MZ7hCCCFOQdIDJoQQQvQbqSz817/+NW63m/Xr\n",
              "13P77bdz8803A/DhD3+YysrKNEcshBDiVCMJmBBCCJFkaFn4woWDE06vXr06ZVh6IYQQYrKkBFEI\n",
              "IYQQQgghZojMAyaEEEIIIYQQM0R6wIQQQgghhBBihkgCJoQQQgghhBAzRBIwIYQQQgghhJghkoAJ\n",
              "IYQQQgghxAyRBEwIIYQQQgghZogkYEIIIYQQQggxQyQBO83dddddXH/99WzatIl33nkn3eEA8J3v\n",
              "fIfrr7+ea6+9lh07dqQ7nIRgMMi6dev49a9/ne5QAPjd737H1Vdfzcc//nFeeumldIdDX18fX/rS\n",
              "l9i6dSubNm3i5ZdfTlss1dXVrFu3jscffxyAxsZGtm7dyubNm7npppsIh8MZEdNnP/tZtmzZwmc/\n",
              "+1laW1vTHtOAl19+mQULFsx4PGJiMrHdHpCp7XeyTGvLB2Ram54sk9r3ZJnY1o8VW7rb/LHiGyDt\n",
              "f2aQBOw0tnv3bmpqanjyySe58847ufPOO9MdEq+99hoHDx7kySef5Mc//jF33XVXukNK+K//+i+y\n",
              "s7PTHQYAnZ2dPPjggzzxxBM89NBDPP/88+kOid/85jdUVlby2GOP8cADD6Tt78nv93PHHXdwwQUX\n",
              "JNZ973vfY/PmzTzxxBNUVFSwffv2tMd0//3388lPfpLHH3+c9evX85Of/CTtMQGEQiF+9KMf4fV6\n",
              "ZzQeMTGZ2G4PyOT2O1kmteUDMrFNT5Yp7XuyTGzrx4ot3W3+ePGBtP+ZRBKw09jOnTtZt24dAHPn\n",
              "zqW7u5ve3t60xrR69WoeeOABALKysggEAsRisbTGBHD48GEOHTrEZZddlu5QAON3d8EFF+ByuSgo\n",
              "KOCOO+5Id0h4PB66uroA6OnpwePxpCUOi8XCww8/TEFBQWLdrl27uOKKKwBYu3YtO3fuTHtM3/jG\n",
              "N9iwYQOQ+tmlMyaAhx56iM2bN2OxWGY0HjExmdhuD8jU9jtZprXlAzKxTU+WKe17skxs68eKLd1t\n",
              "fjJp/zOfJGCnsba2tpRGNDc3N+1d4iaTCYfDAcD27du55JJLMJlMaY0J4J577uHWW29NdxgJx48f\n",
              "JxgM8oUvfIHNmzen7Usm2VVXXUVDQwPr169ny5YtfPWrX01LHJqmYbPZUtYFAoHEF0peXt6M/52P\n",
              "FJPD4cBkMhGLxXjiiSf4q7/6q7THdPToUQ4cOMCVV145o7GIicvEdntAprbfyTKtLR+QiW16skxp\n",
              "35NlYls/IBPb/GTS/mc+Ld0BiJmj63q6Q0h47rnn2L59O48++mi6Q+G3v/0tK1asoKysLN2hpOjq\n",
              "6uIHP/gBDQ0NfPrTn+bFF19EUZS0xfP0009TUlLCI488woEDB9i2bVvG3WMBmfV3HovFuOWWWzj/\n",
              "/POHlYKkw913381tt92W7jDEJGTS3/OATGq/k2VqWz4g09r0ZKdK+54sE//byLQ2P5m0/5lFErDT\n",
              "WEFBAW1tbYmfW1paMqLu9+WXX+ahhx7ixz/+MW63O93h8NJLL1FXV8dLL71EU1MTFouFoqIi1qxZ\n",
              "k7aY8vLyOPvss9E0jfLycpxOJx0dHeTl5aUtpj179nDRRRcBsHDhQlpaWojFYhlxBdzhcBAMBrHZ\n",
              "bDQ3Nw8ru0iXr33ta1RUVPClL30p3aHQ3NzMkSNH+MpXvgIY7cGWLVuG3aAt0itT2+0BmdZ+J8vE\n",
              "tnxAJrbpyTK5fU+WqW39gExq85NJ+595pATxNHbhhRfy7LPPAvDee+9RUFCAy+VKa0w+n4/vfOc7\n",
              "/PCHPyQnJyetsQy4//77+dWvfsVTTz3Fddddxxe/+MW0f2FfdNFFvPbaa8TjcTo7O/H7/Wmvya+o\n",
              "qGDv3r0A1NfX43Q6M+bLec2aNYm/9R07dnDxxRenOSJjxDOz2cw//dM/pTsUAAoLC3nuued46qmn\n",
              "eOqppygoKJAv3wyUie32gExsv5NlYls+IBPb9GSZ3L4ny8S2fkCmtfnJpP3PPNIDdhpbuXIlS5Ys\n",
              "YdOmTSiKwje+8Y10h8Qf/vAHOjs7+fKXv5xYd88991BSUpLGqDJPYWEhGzZs4JOf/CQAt912G6qa\n",
              "3usl119/Pdu2bWPLli1Eo1Fuv/32tMSxb98+7rnnHurr69E0jWeffZZ7772XW2+9lSeffJKSkhKu\n",
              "ueaatMfU3t6O1Wpl69atgDGgwkx+ZiPF9P3vfz8jT5zFoExstwdI+33iMrFNT5Yp7XuyTGzrx4ot\n",
              "3W3+ePFJ+59ZFD0Ti2iFEEIIIYQQ4jSUOZdfhBBCCCGEEOI0JwmYEEIIIYQQQswQScCEEEIIIYQQ\n",
              "YoZIAiaEEEIIIYQQM0QSMCGEEEIIIYSYIZKACSGEEEIIIcQMkQRMCCGEEEIIIWaIJGBCCCGEEEII\n",
              "MUMkARNCCCGEEEKIGSIJmBBCCCGEEELMEEnAhBBCCCGEEGKGSAImhBBCCCGEEDNEEjAhhBBCCCGE\n",
              "mCGSgAkhhBBCCCHEDJEETAghhBBCCCFmiCRgQgghhBBCCDFDJAETQgghhBBCiBkiCZgQQgghhBBC\n",
              "zBBJwIQQQgghhBBihkgCJoQQQgghhBAzRBIwIYQQQgghhJghkoAJIYQQQgghxAyRBEwIIYQQQggh\n",
              "ZoiW7gDE5LS2+k5oP4/HQWenf4qjOTkS08RkWkyZFg9ITBOV7pi8XnfaXjtdTqc2O1kmx5fJsUFm\n",
              "x5fJsUFmx5fJscGJx3cmttszQXrAzhCaZkp3CMNITBOTaTFlWjwgMU1UJsYkRpbpv6tMji+TY4PM\n",
              "ji+TY4PMji+TY4PMj+9MIwmYEEKIM151dTXr1q3j8ccfB6CxsZGtW7eyefNmbrrpJsLhMAC/+93v\n",
              "uPbaa7nuuuv45S9/mc6QhRBCnKIkARNCCHFG8/v93HHHHVxwwQWJdd/73vfYvHkzTzzxBBUVFWzf\n",
              "vh2/38+DDz7IT3/6Ux577DF+9rOf0dXVlcbIhRBCnIokARNCCHFGs1gsPPzwwxQUFCTW7dq1iyuu\n",
              "uAKAtWvXsnPnTvbu3cuyZctwu93YbDZWrlzJnj170hW2EEKIU5QkYNNEylmEEOLUoGkaNpstZV0g\n",
              "EMBisQCQl5dHa2srbW1t5ObmJrbJzc2ltbV1RmMVQghx6pNREKfBWOUsV155Jffddx/bt2/nmmuu\n",
              "4cEHH2T79u2YzWY+8YlPsH79enJyctIYvRBCiGS6rk9qfTKPx3HCN79n+uhjmRxfJscGmR1fJscG\n",
              "mR1fJscGmR/fmUQSsGkwUM7y8MMPJ9bt2rWLb37zm4BRzvLoo49SWVmZKGcBEuUsl19+eVriFkII\n",
              "YXA4HASDQWw2G83NzRQUFFBQUEBbW1tim5aWFlasWDHmcU50WGqv133CQ9jPhEyOL5Njg8yOL5Nj\n",
              "g8yOL5NjgxOPT5K26SEJ2DTQNA1NS/1opZxl6lXXddHpC3He4kLeOdzGn6rfx+YOMs+5mAN9e1g7\n",
              "72ziQSeBUJSyQjdvVbeyfnUZTX3NHOo6wiWz1qDrOtv3PU9Xk5udb/YB4LRp9AWjI76my24mGI4R\n",
              "jcXJy7LR3hME4EOry9jxeh0AbjcEXEeINpdD3Pg7UD1NKFoY1DiKoqNmt6EHnETqq1AdPaiuLkx5\n",
              "TcS681C0CLH2YhR7L/GePEw5LcR9uajuTtSsdlR7L+FDK1BzWtAKa4m1F6PHNPSAi1h7MVphDbGu\n",
              "ArSCOvSYRrRhDugmFKsfy9y9RBoriXcWYco/juruJNZaih6xYfI0E+soxJTbjK4rmLLbCB9ciVZY\n",
              "A+YQsdZZqM4eUOLE2mYNfihqFK2glmjbLNAVtII6oi1lEDMnfXI6lnlvE/dnEe/JRbEGiLWX9O8f\n",
              "w37OH4m2lRA5shzF4seU20w85MBccpjQgXOwzH2HWHc+sebZAJjyGtAKawjtP894vx1F6DETWskR\n",
              "zMXHiPV4CB84D7QwWv5x4kEXJk8zqsOH6uwh9P55xHs9qK5O1Ow20BX0qAU96ECx96KoMfSwHXPl\n",
              "u8T7coh35xFtmAsoKI4etIJa9IgVc+lhAKItZcR7ckHRUcwhzOUfEPe7Ce1bAyiJvwGtsAY9YkPL\n",
              "ayTmyyFybAmWuXvRQw70sI140IGl4oBxzPYi4p2FoOjGZ2WKYF36FyKHzyLe6xn8u1J01JxWiKtE\n",
              "ji3FlNsIpiiKrQ8iVqJNs424LQGsS3YSay8m2lKGHnRiLj+AYgmiujsJHzoLy9x3UCwh9KiZ4NuX\n",
              "YsppRY+rKOYwqrObWEcR5rJqIg1zuW/rtWQ5LCf+H3CGW7NmDc8++ywf/ehH2bFjBxdffDFnnXUW\n",
              "t912Gz09PZhMJvbs2cO2bdvSHaoQ4jQQj+u0dgU43tpLfatxPlKU56A4z0lRrh2zDCN/WpEELA2k\n",
              "nGXQycT0uW+/AMBHLp3H/d9+Afu5z0AYdu1rxzr/Lfa9s4vAHuMmerfDjM8foaoil+++dx8Aq2Yv\n",
              "JqbHeal1B5gANgKMmnwB9AYiieWB5AtIJF8AQe87mPMbUCwBIjVLALBWvT38YNnt6DFz4iQeQHUY\n",
              "V6c0b/2Y7926eFdiWSs4nliO2PyYS45gLq8e3DhuIto4B/Ps91Bd3Vir3iaw53Isc/YBYMpvgIgF\n",
              "xWIkDsks89/ElN0OgLn4WGJ9oL0EdOMWUq3kMOaSo6juLvSoGc1bj2L1Ezm2dPB9Zbdhym3GlNuc\n",
              "dIxiQME8y4hVy28gcmQ5lkW7Ua2Dn63t7BdRVB1TThuB/gTMMvedlPhMBXXE+7LQ8pqM95TViWLr\n",
              "w1z2ASZPy4ifX2D3Rizz30TRRv99A5jcnZjcncR7c4j35GNb+uqwbbSCOiioS1mnOnyY8hqItZca\n",
              "rznkb8Dk7sK07C/GD47e4cfMa4L+9xNoL8a64HVUazAR+0jHjDbNxjJvb8o6PWIl1l6CbcWfjOMW\n",
              "1WAqrCV88Gy0oprBz2TR64llRYtgLqtGK6wd8j6P97/uW/z+tdX80/VnD4v7VLRv3z7uuece6uvr\n",
              "0TSNZ599lnvvvZdbb72VJ598kpKSEq655hrMZjM333wzN9xwA4qicOONNyYqGIQQYiJ0XafTF6K+\n",
              "rY/61r5EwtXQ3kckGh9xHwXIz7FRnOekJM9JUZ4j8eiym0fcR2Q2ScBmiJSzDDdVMQ09hmINGAva\n",
              "YLLk8xvL9c09iXV1LdPT2zjw+oq9b8LbThXVNvw1FbORzKjuzqSVg8m+ouhgCY18PEfPiOtRYxAz\n",
              "EjClf1/F7kOJGj0iQ9+XkvS7GFwZT/TMpRw6KfkCUNTRL0wMJKyqzQ+xIc2ZEkOxDU9sUuMaO/lK\n",
              "2dY88mc09j7hSe8z6rGco/wuxnk9xRIcvq6/p27MY43wt5Ssoysw6f9+M/EiEMDSpUt57LHHhq3/\n",
              "yU9+Mmzdxo0b2bhx40yEJYQYh67rRKJxguEYgXCUYChGMBwlMPAYTv05GOrfLhwjEonhsJlxOcy4\n",
              "HWayHBbcDjPugUe78Wgxn3jPU28gQn1rL/VtfRxv7TOWW/vwh1K/ezSTSkm+g9J8F7MKnJTmu1AV\n",
              "aGz309jeR0O7n6b2Pt453M47h9tT9s1ymCnKc1LS31tW3P/oybKiKsoJxy6mlyRgM0TKWSauq9e4\n",
              "MmQ1m8hymHHZzVTXdXPWvDz+5y/H8IeiFOU6Etu/8m49WvGRxM9qUuKj5jQT781BdXWjmEP8d/Vb\n",
              "mPqrPu/95euoVj/m8lECUWJGOV5chYgVxdZnlJmZjIZTj9hQnd3Eu72Yy/ejx01Ej883Sg0BU1YH\n",
              "Wmn1mCfhqnNq5xBK7mEaoBXVosdNKOrIV9bGophHSJwwSgBjLRVgDqLlNwCg2gKAkXiZstuxLvkL\n",
              "cV8uesyEufTI51wA8wAAIABJREFUsGNohbVGqaNnMBFWPcPjT3ldb22iR86Ib/CzVYckKKrDh2of\n",
              "/YKFNuuDUZ8biWXuu8SH9AiNx1z+AebyDwgfXTKp/YbSSg6T/D1qKqgdlrgCWBftHh5DWTWxLu+w\n",
              "9WpW+7B1yZI/55GER7lSK4QQE6HrOuFIHH8oij8UJRCM4g9Fkpajw5ZjcejpCyUSrWA4Riw+fvXQ\n",
              "ybCaTf2JWVJyNiRJczssdAaivHew1ejRajOSra7e1O9/RYFCj4PFsz2Uel2U5jsp9Top8NgxqcMH\n",
              "Jl86Jy/l595AhMb2vkRiNvB4sK6L6rrU8wmLWaU4tz8hy3fy0cvmTf2HI06Yok+k7k1MytBylsLC\n",
              "wkQ5SygUoqSkhLvvvhuz2cwzzzzDI488gqIobNmyhauvvnrMY59oj9Gp1AN243/+iUAolvh5flkO\n",
              "1XVd/NWa2fzPq8eGba+VHMI869CkXz9yfF7KfgNlXQPM5e+jFY1+wh0POlBtfsLHFmOZ/T4AwXcu\n",
              "wrb8lUnHMtNCB1eMXBY5CcG9l2A7689TFJE41XzY/kWuumD2pPbJ1B6w6XQ6tdnJMjm+TI4NMie+\n",
              "cCRGbyCCzx8xHgNhzBYzPb4g6Dpx3UiSdEDv/7+BXEfXdeL9p4/x/ud0nf5tB5YHE6yREqpAKDrp\n",
              "5ElVFewWEzaLCZtVw27REss2iynxs906sH6kdRp2iwnNpOIPRfH5I/j84cRjT/9jb/L6gLEcjU08\n",
              "3rwsa0qSNcvrojjPMS33coUjMZo7A0ZvWVsfTR1+Gtr8NHX4icaMi2XXrp3HVeeNdsV5dGdiuz0T\n",
              "pAdsGkg5y8lJTr6AxFWd92s6RtxedZ1gL5I+9jR4KSV7Iz1v8/dvNxjXQO9XphuxJHCyxziBkjxx\n",
              "+th4Al/kQojpEYnG6Q0YiVSvP4wvsRxJWjbW9wWMdeHIzPdiW8wqDqtGltNCYa4dh9WMw6Zht2o4\n",
              "rNq4y6XF2bS1jV1aPhlOmxmnzZxSVTMaXdcJhmMpSVpy8mazmclxmpmV76Ik34nDNnOn2BazibIC\n",
              "F2UFrpT18bhOW0+Q1q4A5ywtIdA7vCRdpIckYCJtWjr8hMMxVBUOtTWQ5dQg5Bp1+xH7atUoppy2\n",
              "EZ4Y3/AEQkex+9BDDmNkQufErlAqSfdPmfrL8TKdVnz0pI9hymucgkjEqWqkchkhxNTSdR1fIEJn\n",
              "T4iOniAdvsHH9p4gXb4QvkCEUDg2/sEwyulcdjPFeU7cduP+J9fAfVB2MwX5Lny9wcS9Q6qi9Jc/\n",
              "K6gKoICiKCgYjyOtMx6NZYtZTSRRdquGZjq5dkNJ4z1NiqJg738fBZ7hz2dKz2YyVVUoyLFTkGPH\n",
              "ZTdLApZBJAETaREIRbnxP18gP9uGxdNJZ4ExQlukcTawcMR9jjQMH4TAfs5zJxxD8ghwAKbCmsQQ\n",
              "4JNhSuopSx6RMJMN9N6djKEj5AkhhJicQCiaklB19IToHJJojToyngI5LiuFOXYjkbIb9yQllh1m\n",
              "nHYjsXL1/xtvQIlMTCKEOB1JAibSYmA497buIJqzgYFBVLW8RqJ1Iydg0800zgAQQgghxETFdZ3u\n",
              "3jBt3QHau4O0dQdp7wniC0ZpbuujwxccVnKfLMthpiTfSa7bSm6WjdwsK7luG3n9y9kui/REC3GK\n",
              "kgRMnLS4Hieux9FUjUg0jmZShpUJRKJxzNrgF8XATaGGpNpCZbSa9DjGTBgD2yYvT40TGSVQiDOR\n",
              "DN0kBMTicTp9ocHkqjtIW4/x2N6fbI02yITdqhlJlbs/scqyDUm0rDLxrhCnMUnAxEn71q77aPa3\n",
              "8P219/D3977EvFnZbNuyKvF8jz/Ml7/3ChctK+ZzVy0iruv868O7RjyWYo6glR4kWl+Vst628oX+\n",
              "QTN0Yw6ruCkxHPxUUV3dU3o8IU5XMrWMOBPouk57d5CWrtQerIFkq9MXSowEOFSW00JFkZu8LBv5\n",
              "2Tbysvsfs2zMn5NPn0/uxUmXSCxCQ18Tzf5WLCYLDs2GXbP3/7Nh12yoivQsiuklCZg4ac3+FsAY\n",
              "bQfg0PHUROZ4izFi0SvvNhoJ2DjDzppLDw9LwIZPmDu1yZcQZ4q4352YwDraXIZWWHdCx2n1t+N1\n",
              "5I2/oRCngN5AhOMtvRxv7R2cMLetj+AIg1soQI7bypzSrERSNZhk2cl1W8e818phM0sCNkOC0SDH\n",
              "exup89Vz3NdAXW89jX3NxPWxK15sJmtSQmbHYR6epDmSfnZodjRXCZA5iVskFuGDzkPsaz9Adedh\n",
              "PrZkA8vcy9IdlugnCZiYdnKxPLOsKjiLN1v2Tnq/wO6N2FY+PyVD2E+1uZ4KDnfWjL/hBOlRbYSk\n",
              "/9QXbS0l3peFZfZ+ACI1SyacgM3NruRw9+DomS2BNknAxCknHInR0N7H8ZY+Y8Lc1l6Ot/XRPWTC\n",
              "XJOqUJTroNTrpCjXYSRXWTbycowE62RH8ztRcT1Ona+eDzoO8UHnIZr8LZS6ipmTPZu52RVUZJVh\n",
              "MVnSElu69UX81PnqjWSrt4E6Xz0t/jb0pNsVLKqZCncZZe5Sip0FRPUYgUiAQDSIP2o8BpIeO0Pd\n",
              "NPY1pxxjLAX2fOZ75jLfM4/5nrm4LaOP7DwdukLdvNd2gHfb9/NBx0HCceP72qHZcVrsMxqLGJsk\n",
              "YGLahCIx/uG7fxq2/vUDzdhWP4OiGJMZx9pKhm1jXfYyqr3POM6B1dMe65nErJrH32hUmXnzj91s\n",
              "m9Lj6bHhCZjb7MIXmbr5Z9IhWj8PNfvEpm2IxFMTb7tmnYqQhJgW8bhOS1cg0atV32okXC1dgWH3\n",
              "MOZlWVk+N49ZXlfKhLnpSrKS6bpOs7+FA52HqO44RHXXEQLRQOJ5t8XFe+0HeK/dGMFXVVTK3KXM\n",
              "zZ7NnP5/2dbTbyLd7pCPOt9x6vp7tY776mkPps7daddszMuppMxdSpm7lHJ3KQUO76TLC+N6nFAs\n",
              "hD8ykJwF8EeDBBNJm5GwdcW6eL+5mlcadvFKg3GbRamrmPmeuSzwzGNezhzs2tR+V8X1OMd9Dbzb\n",
              "vp99be9T66tPPFfkKGBp/iKW5S+mMqucosIcGeEyg0gCJqbM0C+1oyMMGw/w8P++h70/p1JtfmLK\n",
              "8JP6geQLwDx735TFmCliXfmorq609LJcUX4JrzW9MWx9tLUUxdaHyT18YutifTFHAD1mnnTM0bZi\n",
              "tPypmTMsTyuiPdo0bP3frPwkNz9zR+LneG/2Sd3TF65ehX3JLnR18L1+bulmHnjrR6PuE6mdj7m8\n",
              "eszjRurnotj6iHd7scx5N7H+n1f+Aw/ufYRwzLgKb1Y1PjbvIzxV/dsTfg8j0XWFWHsJsexWok2z\n",
              "R9xmZcFy9rS8Mzz2pASs3DaPMvesKY1NiJPV4w/z3BvHOVDbSW2Tj/CQ4dudNo2qWTnM8jop9bqM\n",
              "x3zXqBPm+iN+dja+QTAWwmvPo8CRj9eej9M8/qS9J6Mj2Jno4aruPER3ePCkOc/m4WzvUhZ45jE/\n",
              "dx5ZFjfdIR9Hu49xuP9fna+emp46Xqh7GYB8e15/QlbBnOzZFDkLMv4eJ13XCUSDdIa66Ax20Rnq\n",
              "oiPYRev+Vo6016R8JgAus5PFuQuY5S5JJFt5ttwpmTdMVdRE+SGMMAFYP6/XTVNzF7W+eqo7jd/f\n",
              "ke5j1Pc28mLdK6iKSoV7VqJ3bE72bCymyV8QDcXCfNBxkH3t+9nXtj/xWZgUEws9VSzNX8TSvEVS\n",
              "oZDhJAET02bKbtTXp7aIMdadiym7Y0qPORF62IJiCRNtKSNybAnmivdO+P6b0URbS4n7s7BU7E+s\n",
              "C7y1FvvZLyZ+dpqdaKpGNB5N2q+EyNFlzFkQpJGXAOOL/t/XfC2xzedef4GResD+ccXf8v23Hx41\n",
              "pn/78Cbu2v2fAGw7958TywM+s3gTP3v/F+O+twcv/w4AfcEI/3j/y9jPfSbxXKHLy10Xfp1tfzGS\n",
              "sND7FySeX5K3MHF1eCyR4/MwzzoEgB5wM7vtOo4W/DzltUdSlV3FO3+cC5BIwPSwNWWC7pL6T3K4\n",
              "PvWCxIdWLmVHl3H8eTmV/Oel3+LGF24B4MOV67l01poRE7CvrLqRElcx//Kn28Z9TyOKmwgfWgnA\n",
              "qvle3h/y9KcXXZ9IwG5YuoVH9j0OGPcTAORYs/nqmr87sdcWYhp09AR5Zlctf97bQLh/xN3iPEdK\n",
              "j9Ysr4scl2VCJ+RdoW5eqH2ZVxpeIxQLD3veodnx2vPxOvKMR3seXkc+Bf3J2WRP+nvDfVR3HeaD\n",
              "joN80HmI1kB74jm32cWqgrNYkDuPBZ4q8u25w/bPtrpZUbCMFQXG/T3hWJianjoOd9dwpPsYR7pr\n",
              "2NX0Jrua3kzEX9mfjBlli+UnlAicjHAs3J9YdScSrM5gd0rCNdJnD+Cx5rA8fwmz3CWU9/duZVuy\n",
              "0jpJ8wCTaqIyu5zK7HI2zL6cSCzC0Z4aPug8THXnIY711HG0p5Zna15AUzXmZFWwIHce8z3zqHDP\n",
              "wqSOfO9gZ7CLd9v2s699P9Wdh4j0f3+7zE7OK1rF0vxFLMqdP+U9bGL6SAImpoyigFZ0FExRPvdt\n",
              "uOaiymHbfO7bLwy7KcxcenjM46r2k580OFWaGumBl53pKr4hCayqKCijfAZ60rajbTOUOs6XXvJx\n",
              "9CkYv3ykQ5hVbdQ4Jvo+ptTQXt0RYh4rrrFjPpl3pIz5IzDqScxAD5hZla8NkRka2/v4v9dq2fle\n",
              "E7G4Tm6WlSvPq+Cay6vwdQfGP8AQzX0tPFf7J3Y17SGmx8i2uPlw5XpKnEW0BdppDbTT4m+jNdBO\n",
              "fW8DNb7hF9Dsms1IyOz5eB35Sct5uM0uFEUhGAmyr20/H/T3ktT3DlYI2ExWluUvYoGnivmeuZQ4\n",
              "iyadWFhMFqo8c6nyGBeG4nqcpr4WjvT3kB3pOpZStmhSTJS5S5mTXcEC32z6esOJ10x8WygD7Y4x\n",
              "zcyI6yFlP8DoxRpIsJKSrL7I6N/rDs1Ovj0PjzWbHFsOudYcPLYcPNZslpbPJXQKVdGZTeb+Hq95\n",
              "wAaC0SCHuo5S3XnY6OHsOkx112HgWawmC1U5cxLbR+NR9rW9z7vt+1P+RkqcRYnSwtlZZRnfmylG\n",
              "Jt+kYsroOpjLPwAgWl/Fb185Os4ep7cS3yU0uP+ctCZ5DjNGzQP1iKV/UyWlF2WiYu1FkNQDRmz4\n",
              "f+YDyUqpq5juUA9KYDFrLq5kf+3g/UGfWvSJYfspI5SLzs4q56rSj/L7+qcByLV56Oivxb+o9PyU\n",
              "bfPteRQ5C+kKdhOMGaOALc1bSI41m67Q6CWDn1+6NbHssGnM8rrQlHk064f64xqeVFr6SnDb7GP2\n",
              "xC70VHGg8yDneFfx9iEnUQ4ROT4PgGsvncvvm+fjseYktj/Lu5TanuPE9Vii7EMzKZTkOzlngRfr\n",
              "rA384YNXcVlt9Oitif2uv7yK596sIxiO8c5h4+r2/LIcnh1S7XnD0i38svppzi1aOWrMinLi9/Gp\n",
              "MSsDRVkuu5mrL6zk/aQKX5fZmfJlvih3cDTSjbOv4Jljz/OphcP/LoSYSTVNPn7/Wg1vHmhBB4py\n",
              "HXz4/ArOX1KIZlKxWTQmc45e01PHjpqX2Nu6Dx2dAkc+68svY3XRylEvOMT1OJ3BbloDbcY/f3+C\n",
              "Fmijoa855V6cATaTlRxrNq2BNmL9o/Bpqsb8nLn9PVzzKB+jF+REqYpKiauIEldRok3uDvn6e8eM\n",
              "pKzWd5xjPbWJssXpYlHNeGw5lLlKE0mV8WgkWTnWbGxj3F+aZXPT6juFMrAhbJrNKBHMXwQYvZ8H\n",
              "u44kyk33tR9g35CKDU0xsTh3QaK0MM8+ehmkOHVIAibSIPMGcggfW0ystRTb2S8Ou8dJ1xWIWCaV\n",
              "DMUDTv71ox/hc/easK80yv+cdg1/1OhFMKkKl60o4ZUG4wrqxorL+cN7b6C6eoj3ZRGuPgcA2znP\n",
              "oqg6Gyou5+q5GwESZWqjig758tJVAq+vx776j0Zsup44ya7KmcN18z8KFxubvn+sk8DujSwoy2H+\n",
              "5fPGfZ8DpXkfXnBhIgG7I6lsEUi9uqtZ+fp5N/P7Izv4w7HnAHCYHdx54b+O+d7OLhgcOldVFP79\n",
              "hnOBc1O2Se4Be/TWy4HLAXjonZ+OGv8Xln8W80DpzTIIxzaklOJ8qfjzKdv/3bJPJ5a/88b3qemp\n",
              "Q0HhW58/r3/tHK6svIJ73/gBPUkVh/NmZTNvVnbKsWp7jg+LZ2XBclYWLB81Xui/Ij1GVvndS/6d\n",
              "m//8b8PWP3j5d/ji238iGI6x4dwyrr+8atg2DrM9JZE17nkwFDkLueuir48Z2+kkHo/zjW98g4MH\n",
              "D2I2m7n99tt5+OGHee+998jJMZLyG264gcsuuyy9gZ5Bquu6+N+dx9h3xCghryh0c9UFFayc70VV\n",
              "J9dLpOs6H3Qe4tmaF6nuNC7klLtn8aGKtZzlXTJur4KqqOTZPeTZPSwk9b+luB6nO9RDa6At0WPW\n",
              "Gmin1d9GR7CLSk85c9yVLPDMO+H7gE5WttXN2QXLEm3rQNliUPPj8wXQdR09Mfaf3l95YPyso2P8\n",
              "r38LPWk9g5UOuq5j06wpCZZDs2dEqWCmcFmcKb+HrlA3H3QYPWMqKkvzF7LAUzVmUipOTZKAiXHt\n",
              "b6+myd/C2rKLePODVnz+ED1Z+1hZsJxZ7sERDH3hwRHirGe9ROidi0Gf2it500cfM1Zdn2TZ10Ap\n",
              "X1JJX2IY24F1SV9CcXTGKo2c6BC4ox9g8L3F9Rhq/1wlQ48bixtXZU2m0WKZfBwjzbcS1Y25dTQl\n",
              "9TNXFXXc+VlGM9qX+li/uaFXmtNxIjRZ4528KGOcOI732zOr5jGOn3kXTqbT888/j8/n4xe/+AW1\n",
              "tbXceeedeDwe/uVf/oW1a9emO7wzhq7rvHuknd/vrOFg/xyTC8pyuGpNBUtmT36Qhbge5+3Wfeyo\n",
              "eZG6/l6qhZ4q1ldcxgLPvCkbtMFjMxIOo/QsldfrzrjR6AbKFjMxtjNJjjWb84pXcV7xqnSHIqaZ\n",
              "FI6Kcf1g74/ZfvB3xPU4D/7mXR5/7S88W/MCd79+f8p2vzr8u8Syag2iFdaOfMA0X/yKNpdPbocJ\n",
              "nHfG+7JSX6Op//63/vK/hZ4qrqr8kLGqowiA1YVnJ7Zf4V2Ktdv4oo62lE0uPgZ7KgaG9I+Hht+I\n",
              "644ao9Y5zU6ummPEsrLgrJRt1p9jvPYVK4ePcLdqvpdIw+i9YjnWbGym4a87UkK1wrsUgI/OvTJl\n",
              "/cDP5xVN/stntETrwpLUnrKLSs5LLE9X7fzasovG3WZghKpVQ34HyYbGDuC1G/slv48BFpNlxM8h\n",
              "12aUrGzZuBCAcxYWjPh6Hyq/LLFc4Tb+Fs4vNnpjS5zFo8Z5Ojp27BjLlxu9keXl5TQ0NBCLDZ+U\n",
              "V0yPeFxn9/5mbv/J69z/y3c4eLybs+bmsW3LKr76qZUsrcybVLIUiUf5S/0u/v21/+CRfY9z3NfA\n",
              "2QXL+eo5/8Q/nv23LMytkp4ZIcSMkR4wMWmKaeRhyHtCQ4ad10YewWg6r6THOr2YPK0jPhfYvcEY\n",
              "HEEfftLttGn0QGLwhMV5C3i/3bifzWRSyLJb6QoFibYVo1hCmLJSR1G8f+Ot6LqOxWyixx8ia+1A\n",
              "IqISeP1DfOmWK1AUhdZDBTzTexyTaox8d/9ldwHGwAb3feqThOMf44u7X5nQe/3YvKu4dNaFif3D\n",
              "sQgvuZv4xfMHCb1zcaLkEOCHX7kUk3oZMeKYVY1LZ61hTcm5w+5vOHdRIWdXeTFrwz+jL35sKdHY\n",
              "Er7yym0pIygOuGPN10YcZGOkBKwiq4z7L7tr2OuvK7+US2ddiFnVuLbqr7jl5dsn8lEAo/f8LM1f\n",
              "lPicY/EoNs3GJ6quntaTrVWFK7hi0fl8avs/jbqNXbNz/2V3DesFTLZ54Se4bv41fPmlbQD8x8Xf\n",
              "TCTbf73wWj4x/6MAmBSVQDSIQ7MnehcHfG31lylxGUn/NZfO49z5I/9+k38fD1x2F6b+uLYu+iSb\n",
              "Fnz8jBt8Y/78+fzsZz/jM5/5DDU1NdTV1VFYWMjjjz/OT37yE/Ly8vj6179Obu7wUenEiYvG4ry6\n",
              "r4n/e62G5s4AigLnLirgw+dXUF44+fmsAtEgr9S/xot1L9Md9qEpJi4sOZd15ZdS4PBOwzsQQojx\n",
              "nVnfqOKkdAS7MOXVozoHEy2ffzDJ8gdTT8q1wppEsqOHbegRK5a5e4m1Tuf8QWOPHjfakPZmLfUk\n",
              "WFMG/9NIGu/JeD8jDGphNQ+uy3EOmW1eVxMn++qQk+3kk1pVVbCpljHiT2VRLSn7W0xmTGpSnMmv\n",
              "0//+1KRO79FOqEc6OQej9M2sKaOONqgq6ogff2yUksJRX79//WQHmhir1HDwmP2PM1BqOJHXmEhS\n",
              "k7yNNmT75OcG5iYaOk6KSTWl9PSN9vud6OucKS699FL27NnDpz71KRYsWMCcOXO4+uqrqaqqYtGi\n",
              "RfzoRz/iBz/4Af/2b8Pvt0vm8TjQtBMrxfZ6M3sC3amMLxiKsmNXDb956RBt3UE0k8KG8yv4+Np5\n",
              "lOS7Jn08s1vnD9UvsOPQn/FHAtg1G1cv/BBXzb8cjz17/ANMs0z+3WZybJDZ8WVybJD58Z1Jzrxv\n",
              "VXHCvv36/VjmBlPWPbDjj9BffVff5seUVImnmOIjDjGvFdVMW4yxzgJMnpbEz7qujDhy37CYwgMj\n",
              "3Rnbui3OxHMKsLrobHbUvMhc9xwONnZg8rRQ6PDS7B+5t22qDOQ6ycnFCu9S3m7dx+zs4aWKlcXG\n",
              "L2DVAmN+Jz1mwmWf2mQjz+Gh0dcy/oYD2/eXv1VkTa600jTJ8sDxhsOfamd7l1HTU5cYzWo6Oc0O\n",
              "+iL+CX0mMiTx1Pnnf/7nxPK6dev4yEc+gqoan+/ll1/O7bffPu4xOjtPbBqNTL8XZ6riC4Vj7Hi9\n",
              "lj++cZzeQASLWeVDq8vYcG45HrcVdH3U19F1nUg8SiAaIBANEogG8EcDHOo9xAtHXyUaj+I2u7h6\n",
              "zkYuLr0Ah9lOtBdae9P7uWby7zaTY4PMji+TY4MTj0+StukhCZiYsEA0OGxdk68jkYBlglhbKYHu\n",
              "fFRrAD1qRg85sK/eMWy74NuXYlvxp8TPWjAP6GPg3NWhOVhVcBZvtuwF4K/mbOD8olXk2fJo7Qqi\n",
              "2K7kWE8tj+1/asx47v/Hi0YcBn0iucK3//58vvmWMZlwcg/E3yzZTEewc8TymTklWdz9d+eTl23D\n",
              "F9mG3w95l07+6vFYPLZsGn0tE06oPLYcvnnBV8m2TO4PZbIlgjM939e68ktZnr94zDKmuy/6+pQk\n",
              "RP9+wa34o4EJDU+tKirfWrON2141yi7Hm3vtOxffTkyXe5uGOnDgAD/72c+4++67+fOf/8zixYu5\n",
              "6aabuOWWWygrK2PXrl1UVQ0fSVJMXCgc476n3uZgUwsOZ5xLVnhYWpWFrvbybveb+NuD/cnVQIIV\n",
              "xD/wc8R4bmjJ7YB8Wy7rKi7lvKJzTonBdYQQZxZJwMRJiVjbE39EQ++LSg8FIjbikbFng9fDqWWC\n",
              "yTN0DSwPDFyAoqAqKoVOY+CC4jwn4ORYzyiDjCTJck68pHCoAo8jsZxczqap2pgn/YW5xn4eUw6e\n",
              "sT+Gk2KZRIlgfv/AEZMx2cRlpm+gVxQl8TcxmizL1Fw5tGk2bNrEf5keW874G/UbKF0UqebPn4+u\n",
              "63ziE5/AarVy7733UlNTw5e//GXsdjsOh4O777473WGesiLROD/49Tscjb+JfeUhdOD1GLx+YOz9\n",
              "NFXDrtlwmO3k2XONZc2OXbNh1+w4NDtVxeWUm2dP+XxaQggxVSQBEydFy29IdwjDVM3KTgxXPFHz\n",
              "Z2XT0NY3OEeyolDkME6ukyejTTaQVJQ4iyb8OqX5Rmnj4tkTu3F/TvZsjnQfo3gSrzHdqvIqeb/1\n",
              "ILOzJjma5DSb6R6wTKcpJqJ6DIfZPv7GYhhVVfn2t7+dsq64uJhf/epXaYro9BGNxXno6X3s76zG\n",
              "uuAQOdZsluYvGpJIGY+JZbMdu8k2oXsrM70UTAghJAETp5Wvf+YcCj12qo9385M/7Mfnj0xov01X\n",
              "VLFsTh6P1u9A142T+dVFZ+Mw26nKmTPiPvNyKvmH5X/D7OyJJyLnLSnEbtVYUD56D8Xdf3c+vUEj\n",
              "7n9Y/lnaaKFMq5jwa0y3Ty79CIXmYhbnLZj217p51Y24zM7xN8RImv9l5RfJtkq9OsA319xKc18r\n",
              "Odb0DzggxIB4XOfR3+/n7Zo6HMvfRVU0vrD8s5S5S9MdmhBCzBhJwM5wfRE/NpP1tCnVGBiEYsW8\n",
              "fMa59SWFxWzi7Ple9HpjJ6W/7HBZ/uIx95vsAAyqorCiKn/MbQpzHRT2LzvMDlZ5l2XU1VyzycxZ\n",
              "3iUz8lpzsieXeM7NmT09gZyCcqzZknyJjKLrOv/fswd4bX8jWWftI6KGuX7+xyX5EkKccWS4rDNY\n",
              "JB7llpdvHzah8unCOcLof8V5Y9/vUp5tnAjkWDNoZBEhhDjF6brOz58/yJ/3NpK74CgRSzurC8/m\n",
              "whEmFBdCiNOd9ICdwYL9oxo29jWnOZJBsa58TDltk97vhqVbhpWqLSjLobnDT+jgCogaydhtnz6H\n",
              "ux57k6aOkYeGvvXiL7Jj/19YU3zu5IMXQggxot+8fJTn3jhOfnkXfVkHKXQUsGnBx2d88BwhhMgE\n",
              "koCJBF3XE1+GycszKXx0GfazX5z0fisLlg9bNxC+1ltCOGJMBmy3atzxeeOK640v/N+wffIcHtaV\n",
              "Xzrp1xdCCDGyP7xWw/++eox8b4xY6duYdTOfX7oFm2ZNd2hCCJEWUoJ4BtMZvEnq6b27uOGeF/mg\n",
              "thOA/+fl2/mvvY+mIaipS/rsFuP6wlRPRCyEEGJinn/zONtfOownWyNryT6CsSCbFnyMElfmjOwq\n",
              "hBAzTRKwM1jyIBUv1L8EwHNvHAcgEA2wr32cCVmmJajRn4r3ZRHzTXx+o4+sqeDi5cXc+LFlIz6/\n",
              "eeG1k43zZyiZAAAgAElEQVROCCHEBL3yTiP//cdqspwWlq5potHfyJri1ZxffE66QxNCiLSSBExk\n",
              "mNF7wKLN5UQODy81DO67YMTtHTYzf/PhRRR6Rp4HaV525YmFKIQQYky79zfzk//bj9OmceVGjTfa\n",
              "36DUVcx1869Jd2hCCJF2koAJAKK2dsyz91HjfJ64Hk+sf+gPr89sIOOWIMoN20IIkcnePtTGw//z\n",
              "Plazic9cM4tnGv4Xq8nCDUu3YJnARMpCCHG6k0E4zmip9X5awXH6gBZ/a2LdW75X0WwzGdNgghXr\n",
              "9GLytA55fniN4sVnFY95RLtV45yFBSyq8KSs9zryWZa/iBXekUsUhRBCTM77xzr4f3+zD5OqcOO1\n",
              "i/lt02OEY2E+t2QzhQ5vusMTQoiMID1gZzB9lBuu4ikzGE9iNuOpkNQD9m8btk5ol7Vnjz2Jp6Io\n",
              "fPGapcO2UxWVLyz/G7kfQQghpsCh4918/1fvAjr/eO1y9vhfpKGviUtK17CqcEW6wxNCiIwhPWAz\n",
              "pK+vj69+9at0d3cTiUS48cYb8Xq93H777QAsWLCAb37zmzMWT2ewi8f2PzXic3fvfiCxrLq7Ziqk\n",
              "YVSZH0YIIU4JNU0+/vOXe4lE49z48aX0WA/z2tE3KHeX8vGqj6Q7PCGEyCiSgM2Q3/zmN1RWVnLz\n",
              "zTfT3NzMZz7zGbxeL9u2bWP58uXcfPPN/OlPf+LSS2dmDqonq3/DB52HRnwuTiyxrNpGnrB4qhQ7\n",
              "Cmn0J00EndQDZlJS/zxj3fkQtaBiItxcilZYa8Srz3AvnRBCiIT61l6+++TbBENR/vbqxRQUR/mP\n",
              "N36LXbNxw9KtmFU51RBCiGRSgjhDPB4PXV1Gb1JPTw85OTnU19ezfLkxqt/atWvZuXPnjMUTjIZm\n",
              "7LXGcsuqmwi+d37SGoXA7g0Edm9I6QEL7N4AERvoKt9bexcPbbpx5oMVQgiRornTz71Pvk1vIMJn\n",
              "rlzIivk5PLLvcSLxCFsXXU++PTfdIQohRMaRBGyGXHXVVTQ0NLB+/Xq2bNnCLbfcQlZWVuL5vLw8\n",
              "WluHDjgxdcLRMM8ce4HuUA+vNb7BsZ7aaXutyVAUleEjGyqAgpJSgqgk7TP0OekBE0JMrXg8zte/\n",
              "/nU2bdrE1q1bOXz4MI2NjWzdupXNmzdz0003EQ6H0x1mWnX0BLn352/R3Rvmr6+o4uLlxTxx4Fc0\n",
              "+1u5ouwSzvIuSXeIQgiRkaQuYIY8/fTTlJSU8Mgjj3DgwAFuvPFG3G534nl9gmV0Ho8DTTNN+vV/\n",
              "/f7/8T9HnqG65yAftB2e9P7Txet1jfpcfp57xPVer7F+RdFi3m56n4WzKsiyjbzticU0dceaKpkW\n",
              "U6bFAxLTRGViTJno+eefx+fz8Ytf/ILa2lruvPNOcnNz2bx5M1deeSX33Xcf27dvZ/PmzekONS06\n",
              "e4L8x8/for0nxMcvmcP61WW8XL+TN1v2UplVwUfnXpnuEIUQImNJAjZD9uzZw0UXXQTAwoULCYVC\n",
              "RKPRxPPNzc0UFBSMe5zOzhO7J6sjYJQ/1nY1nND+06W1tXfU5zo6+kbZxwfADYs+TbAqSMgHrT7f\n",
              "lMTj9boTx88UmRZTpsUDEtNEpTumUyn5O3bsWKJEvLy8nIaGBg4ePJgYLGnt2rU8+uijZ2QC1huI\n",
              "8N2fvk5zZ4CrLqjgI2tmU+s7zvbq3+E0O7hh6acwqZO/UCiEEGcKKUGcIRUVFezduxeA+vp6nE4n\n",
              "c+fO5Y033gBgx44dXHzxxdP2+kp/CV8gGpi21zgRYw10qIwz6bKqqDjMjimOSAghYP78+bzyyivE\n",
              "YjGOHDlCXV0d9fX1WCwWYPrLxjNVKBzjviffpqbJxxWrZvHxS+bgjwR45N3H+f/bu/fwKMsD7+O/\n",
              "yUxOM0nIMMxEAiSEUwA5iEqVFJRwEA/tgrYcNgLyrld3UYu1dV+wuajiyyqrtruCcBVdlO5VmxYb\n",
              "T+wuCouKZbchVGmlaKlgACEJQ4DJAXIgmZn3j5gYIJAD5HmeSb6fv5InM/P8Loz35Df3/dxPQzio\n",
              "+0b+rdxxyWbHBABLYwbMIHPnzlVubq7mz5+vhoYGrVixQl6vV48//rhCoZDGjh2rrKwss2Oawpcc\n",
              "p8qvvk7zJejLE42zYja2oQdgkltvvVV79uzRvffeq8zMTA0aNEiff/5588+7etm4ZM0Zwzc+OKjD\n",
              "x6s05cYBenjuONls0s/+99c6WXta94y8XZOHW+O+ilb8t2vJyvmsnE2ydj4rZ5Osn68noYAZxOVy\n",
              "afXq1Rcdz8vLM+T8bc0mXYmGk6lqKBmkuDH/06nn3zzyGm2raPz6sfnXa8/nZRo1yCObevYF7gDM\n",
              "9cMf/rD562nTpiklJUW1tbWKi4vr8mXjZi8XbU1DMKQ3dxxQbIxd35s1WqdOndH7R3dqd/GfNDR5\n",
              "kCb7brVEZiv+27Vk5XxWziZZO5+Vs0mdz0dp6xosQewhiqtKu+y1Q1XJCtdeejONtkS1+C2Mi3Eo\n",
              "a1RfJTljrkIyAOic/fv368c//rEk6Xe/+51GjhyprKwsbd26VVLXLxu3ol2f+lV+5pxuHZuqhPho\n",
              "Hao4ojcP/pcSYxL0f67N4bovAGgnZsB6gM8DX+jP/r922euHz8V3+rk2m2SLYqkhAGsZNmyYwuGw\n",
              "vvvd7yo2NlY//elPZbfbtWzZMm3atEmpqamaNWuW2TENEwqH9e7uL2WPsum28QNUVXdGL+/7lcLh\n",
              "sP7u2hz1ik1q+0UAAJIoYD3C4YquuedXsMKj4Ml+ClX0Oe/4uUMjFZPx2XnH6r/MVHTa+SXQLofs\n",
              "UVFyXKKAhVvc32vdD2/RQ//6O/14/vVXKT0AXFpUVJT++Z//+aLjGzduNCGN+fZ+cUolJ88qa9Q1\n",
              "Sk6M0drCf1egrlzfypihYe4hZscDgIjCEsQeINxFNyoO18cqeCpVF95IOViWdtFjG04MuOiYw97+\n",
              "X7/4WIdeeWyKhvZndy0AMNq7u45Ikm7/Rpq2H/lQfyzdpxG9h2nGwGyTkwFA5KGA9QCbi941O4IU\n",
              "vvSvmsMW3epxu43rCQDAbAeLK/T5sQqNGexRXcxJbS56V73jk3XfyHmKsvFnBAB0FEsQ0XkXTKzV\n",
              "/fUG2WJqW33o+OEp2neJl0l2eFR/dKiClR5pytfHXdFOfWfIt5SWdPHsGQDAGO8WNi5jnzI+Rf/+\n",
              "WeMSzB9M+DslqvObLwFAT8ZHV+iwUF1c68crvAqWtV6WHpg5uvnrxOjz37Rttig1lA5W+OzFywun\n",
              "pN2iIckZV5AWANBZpafO6o+flymjb5L+VP2hTtUGNCM9WyO8Q82OBgARiwLWzYXCIbMjXOTCrYrt\n",
              "7IIIAJa0dfdRhSUNH1OjwuMfKy2xv+7MmG52LACIaBSwbq4rb8DcHoPD39SI+PGSpEfGLdb1vjEa\n",
              "6x113mNGDeotSRqR7jY8HwCgdRVn6vT7faXq00faXbVd0VHRWjRyHvf7AoArxDVg3ZzNZm4B+9HU\n",
              "mc1fD3UP0lD3IL1x4D8bD3yVzWGP0iuPTWnt6QAAk2z/+JgagiG5hn2mEw01mpd5t1JcPrNjAUDE\n",
              "YwYMAACcp6auQe/vKZZrwDGdaDiqUZ7hmph6s9mxAKBbYAYMXaLBnyZbTI3ZMQAAnfC7T0pUGxWQ\n",
              "s+9+JUS7dO+I2aavqACA7oIZMFxVN2R6JUn1R0bq3IEbWn1MV90YGgBw5RqCIW396LBih+xVSEHN\n",
              "HzFbSTGJZscCgG6DAgYAAJoVfubXmV77ZIuv0sTUmzS6z0izIwFAt0IBQ4c1FA+RJAVP9rvoZ5Ov\n",
              "+/pYW9vLs5gFAKwlHA7rPz75SNF9D8sT69E9Q79tdiQA6Ha4BgwXqdl9m2ST4sdva/XnwZP9VXMq\n",
              "VQqf3983LMtWlM2ml/7vZEVF2RQOs9QQACLJRweKVdlnt2xhm+4fnaNYe4zZkQCg26GAoRVRavMy\n",
              "rfDFk6dRLbaVl9S8zTwAwPrC4bBeO/CmbPF1muSbrPSkAWZHAoBuiSWIAABA/7X/96qOP6q4eq/m\n",
              "XHu72XEAoNtiBqwH+OH1D+hf9/zc7BgXsXEVGACLOnv2rJYtW6aKigrV19froYce0ksvvaTq6mo5\n",
              "nU5J0rJlyzRq1CiTk14dp2pOa2vJFoVDds0Z9B1F2fh8FgC6CgWsB2ANPwB0zJtvvqmMjAw9+uij\n",
              "8vv9uu++++T1erVq1SoNGzbM7HhXVSgc0oa9eQrZ6pVUPl7fGJJhdiQA6Nb4iKsHSIh2tXo8VOM0\n",
              "OAkARAa3263y8nJJUmVlpdxut8mJus72Ix/qy7NfKng6RXdfO4kbLgNAF2MGrAdwxyWr7i/fkBz1\n",
              "euD28QrGVuqlNw7K3qdYUfHV7XqNcH206r8coVA1N+ME0P3dddddeuONNzR9+nRVVlbqxRdf1M9+\n",
              "9jOtWbNGgUBAgwcPVm5uruLi4syOekW+rDqm/zi0VeFzsUo6fYNuHO4zOxIAdHsUsB4iVNVbktTL\n",
              "4VWovo9CleWy9ymRJIXrY2SLPnf5559JVvBU6kXH3YmxClTVXf3AAGCit99+W6mpqXr55Ze1f/9+\n",
              "5ebm6oEHHlBmZqbS0tL0xBNP6Fe/+pXuv//+y76O2+2Uw2HvVAavt2s/8KprOKdX//CaQuGQzhWN\n",
              "1nenjdI1Kb3a/fyuznclrJxNsnY+K2eTrJ3Pytkk6+frSShgPczTv/y4+etwXbwkKVSdIHuv02ZF\n",
              "AgDL2bNnjyZOnChJGj58uE6cOKEpU6bIbm8sU1OmTNGWLVvafJ1AoH2rDC7k9SaqrKyqU89tr01/\n",
              "fUvFVcelsgw56/tqbIa73ec0Il9nWTmbZO18Vs4mWTuflbNJnc9HaesaXAPWgzWUDNK5I8N17ovr\n",
              "FDqT1MajL74mYHC/tp4DAJEpPT1dn3zyiSSpuLhYTqdT999/vyorKyVJhYWFGjp0qJkRr8i+k3/R\n",
              "74p/r8So3qo5PETTbuiv2OjOzdQBADqGGbCeLGxX0D9QktRwKlUxCZUdevp1Q/ro/T3FHT9tm3d5\n",
              "BgBzzZ07V7m5uZo/f74aGhr05JNPKhAIaNGiRYqPj1dKSoqWLFlidsxOqTp3Rq/u/63sNrvqvxij\n",
              "GEe0ptzQ3+xYANBjUMDQKNj4qxAOtX9S1GazyRUX3flrwNhoC4BFuVwurV69+qLjd955pwlprp5w\n",
              "OKy8/a+r6twZXZ9wi/63LE5Tb0hVQny02dEAoMdgCSIkScFTqWrwp6nu05tbf0Ark1Y2SX87dUiX\n",
              "5gIAXD2/L92tvSc/1bDkwTr8Z6+ibDbNGD/A7FgA0KNQwNAoHKX6IyMVrrnUdV2tTFfZpERXx2/y\n",
              "7Ilr3JFxYDJv+gBglBPVZcr/fLPiHfG6KeE2FZed1fgRPvVJjjc7GgD0KCxBRKfZOrmGcFK/mxVl\n",
              "i9JtI7JUZ90NgwCg2wiGgvrFZ7/RuVC9/m7EbL3/fuNNpm//RprJyQCg52EGDIZzRDl0a/8sJcWx\n",
              "tSkAGOHdw+/pSOVRjU+5Xr1Dg/SXIwGNHOhW+jWMwwBgNGbADLR582Zt2LBBDodDDz/8sDIzM7V0\n",
              "6VIFg0F5vV4999xzionp+JI+AAAupajiiN498r7cscmamzlTv/jPLyRJd9yUbnIyAOiZmAEzSCAQ\n",
              "0Lp165SXl6f169frvffe05o1a5STk6O8vDylp6crPz/f7JgdYrOp1c05AADWUB9q0L9/9huFw2Hd\n",
              "N3KeqqrC+uivJ5TmS9DIgW6z4wFAj0QBM0hBQYEmTJighIQE+Xw+rVy5UoWFhZo6daokKTs7WwUF\n",
              "BSanPF/o7OVvtMwu8gBgbQUlf9DJmlO6tX+WhroHaesfjioclm6/OU02G6M4AJiBAmaQY8eOqba2\n",
              "VosXL1ZOTo4KCgpUU1PTvOTQ4/GorKzM5JTnq/t0gkI1LklSOMwbNQBEkoZQg7Yd+UDRUQ7NGDhF\n",
              "ldXn9D97S+VJitP44T6z4wFAj8U1YAYqLy/X2rVrVVJSooULFyoc/nr9XsuvL8ftdsrhsHfovAV/\n",
              "Lu3Q4792+dKVkBgnd29X8/deb8cv5u7Mc7oamdpmtTwSmdrLipnQNXaVfqRAXbmyB0xUUkyi3ios\n",
              "Un1DSDO+MUD2KD5/BQCzUMAM4vF4NG7cODkcDqWlpcnlcslut6u2tlZxcXHy+/3y+dr+RDIQqO7w\n",
              "uZ/+xe7ORJYkNfjTFDPwLwqe6nvRz/r3jlfg9Nnm78vKOranvNeb2OHndDUytc1qeSQytZfZmSh/\n",
              "xmkINWjrV7Nf09Mmq+5cUO99fEyuOIcmjUk1Ox4A9Gh8BGaQiRMnateuXQqFQgoEAqqurlZWVpa2\n",
              "bt0qSdq2bZsmTZpkcsqLTRs4UT+5Plcv/f08Tbg2RZKUEB+ttY9MUloKf0wBgBUVHv9Yp2sD+mbq\n",
              "TeoVm6Sde0t0trZBU2/or9iYjq2iAABcXcyAGSQlJUUzZszQnDlzJEnLly/X6NGjtWzZMm3atEmp\n",
              "qamaNWuWySkvluiM0TXJyZKkuNivf12ccdFmRQIAXEYwFNTWwx/IEeXQ9PTJCoZC2vaHo4p2RGnK\n",
              "Df3NjgcAPR4FzEDz5s3TvHnzzju2ceNGk9K0T8urwIb266UP9hTrhkxv87EkV+MmIu7EWIOTAQBa\n",
              "s/v4Hp2qPa1b+mUpObaXCj/z62RFrbKv76ckJ/eaBACzUcBweS0a2E0jU5TS26kBvoTmY0muGP2/\n",
              "+7+h3olxJoQDALQUDAX17pH35bDZdVv6ZIXDYb1TeEQ2mzRj/ACz4wEARAFDG2wtGpjNZlNG34vv\n",
              "Ddbfm3DRMQCA8f7g/6NO1pzSpH4T5I5L1snyGn3pP6PrhvSRz+00Ox4AQBQwtKFPL2a2APQ8Z8+e\n",
              "1bJly1RRUaH6+no99NBD8nq9WrFihSQpMzNTTz75pLkhL9B47df7sn81+yVJRaWVkqRhA5JNTAYA\n",
              "aIkChlaNH+5TSm/nedd7AUBP8eabbyojI0OPPvqo/H6/7rvvPnm9XuXm5mrMmDF69NFH9eGHH+rW\n",
              "W281O2qzj098ohM1J/XN1JvUO84tSSoqaSxgGX3ZtRYArIJt6NGqB2aN0j23DJLNdvmbMQNAd+R2\n",
              "u1VeXi5JqqysVHJysoqLizVmzBhJUnZ2tgoKCsyMeJ5QOKR3D7+nKFuUZqRnNx8/VFopm00aeM3F\n",
              "y8cBAOaggAEAcIG77rpLJSUlmj59uubPn6+lS5cqKenrEuPxeFRWVmZiwvN97P9E/uoy3XzNjfLE\n",
              "95YkNQRDOnK8Sv36JHDvLwCwEJYgAgBwgbffflupqal6+eWXtX//fj300ENKTPx6GV84HG7X67jd\n",
              "TjkcnSs/Xm/7lg2GQiH990cfKMoWpZzrvy1vQuPzioordK4hpGsHe9r9Wl2RzwxWziZZO5+Vs0nW\n",
              "zmflbJL18/UkFDAAAC6wZ88eTZw4UZI0fPhw1dXVqaGhofnnfr9fPp+vzdcJBKo7dX6vN1FlZVXt\n",
              "euzH/j+puPK4bu57o2w1sSqraXzex5+WSpL6uuPb/Vpdkc9oVs4mWTuflbNJ1s5n5WxS5/NR2roG\n",
              "SxABALhAenq6PvnkE0lScXGxXC6XBg8erI8++kiStG3bNk2aNMnMiJIar/1656trv25Pn3rez5p2\n",
              "QBzUyu1DAADmYQYM57n9pjT197rMjgEAppo7d65yc3M1f/58NTQ0aMWKFfJ6vXr88ccVCoU0duxY\n",
              "ZWVlmR1Tfyrbp9Kzft10zQ3yOj3n/exQSaVio+1K7cOYDgBWQgHDeeZkDzE7AgCYzuVyafXq1Rcd\n",
              "z8vLMyFN60LhkN45tF022XT7wCnn/aymrkElJ89q2IBkRUWxmy0AWAlLEAEAiEB7yz5VydnjujFl\n",
              "nHzO8+/ZePh4lcKSBqWy/BAArIYCBgBAhAmFQ9pyuHH2644LZr+kxvt/SVIG138BgOVQwAAAiDB/\n",
              "PvmZis+U6oaUsUpxXbwbY1HJVxtwMAMGAJZDAQMAIIKEw+Hma7/uGDi11ccUlVSoV0KM3ImxBqcD\n",
              "ALSFAoZmc6ewAQcAWN2+U3/R0TMlut43Rte4Ui76eaCqTuVnzmlQ3yTZbGzAAQBWwy6IkCS9+I+T\n",
              "Fe2gjwOAlYXDYW059N9f7Xx46dkvieWHAGBV/MUNSaJ8AUAE+PTUfn1ZVazrfKOVmnBNq4/hBswA\n",
              "YG381Q0AQAQIh8Pacni7JF3y2i+p8QbMNkkDKWAAYEkUMAAAIsBnpz/Xkcqjus47Sv0S+rb6mFAo\n",
              "rEPHq9S3j0vxsVxlAABWRAEDAMDiGnc+/G9J0h0Dp13ycSWnzqruXFAZfRONigYA6CAKGAAAFrf/\n",
              "9AEdqvxSY/tcq/6JqZd83KHm+3/1MioaAKCDKGAAAFhY47VfjbNft2dc+toviQ04ACASUMB6sERn\n",
              "tNkRAABt+GvgoIoqjmh0nxFKS+x/2cceKqlUtCNK/bwug9IBADqKAtaD9evDGzQAWFnjfb+adj68\n",
              "9LVfklRXH9SxsrNKT0mUw87bOwBYFSN0D7bojuFmRwAAXMaB8i/0RcUhXesZrvSkAZd97JHjVQqF\n",
              "w9yAGQAsjj1qezBnHEsQAeBSfvvb32rz5s3N3+/bt0+jRo1SdXW1nE6nJGnZsmUaNWpUl2Vomv26\n",
              "M+Pys1+SVPTVBhwZXP8FAJZGAQMAoBWzZ8/W7NmzJUm7d+/WO++8o4MHD2rVqlUaNmxYl5//QKBI\n",
              "B8qLNLJ3pgYmpbX5+ENNG3AwAwYAlsYSxB4symZ2AgCIDOvWrdODDz5o6Dm3HP7q2q92zH5JjTNg\n",
              "CfHR6tMrritjAQCuEDNgPZjNRgMDgLbs3btXffv2ldfrlSStWbNGgUBAgwcPVm5uruLirn7h2V92\n",
              "UJ8HDmq4e6gG9Upv8/EVZ8/pVGWtxgz2MLYDgMVRwHqwKKbAAKBN+fn5uvvuuyVJCxcuVGZmptLS\n",
              "0vTEE0/oV7/6le6///5LPtftdsrhsHf4nC/u2ChJyhk3U15vYpuPP3TiuCRp1BBvux5/NRh1ns6w\n",
              "cjbJ2vmsnE2ydj4rZ5Osn68noYAZrLa2Vt/61rf04IMPasKECVq6dKmCwaC8Xq+ee+45xcTEGJYl\n",
              "yib97bShKj1Vbdg5ASDSFBYWavny5ZKk6dOnNx+fMmWKtmzZctnnBgIdH1+LKo5or/8vynQPkUc+\n",
              "lZVVtfmcP+73S5Ku6RXbrsdfKa830ZDzdIaVs0nWzmflbJK181k5m9T5fJS2rsE1YAb7+c9/rl69\n",
              "eklqXMaSk5OjvLw8paenKz8/v8vP/9DdX+/WZbPZNP3GAVo4I7PLzwsAkcjv98vlcikmJkbhcFiL\n",
              "Fi1SZWXjZheFhYUaOnToVT/n+0d3SpLuzJjexiO/dqikQpI0kB0QAcDyKGAG+uKLL3Tw4EFNnjxZ\n",
              "UuOb99SpUyVJ2dnZKigoMDQPSxAB4PLKysrUu3dvSY0fWs2ZM0eLFi3Svffeq+PHj+vee++96ufM\n",
              "dA/R3SNu15DkjHY9PhQO61BplVLc8UqI5/YiAGB1LEE00DPPPKOf/OQneuuttyRJNTU1zUsOPR6P\n",
              "ysrKrvo5z9UHL/kz6hcAXN6oUaO0YcOG5u/vvPNO3XnnnV16zkn9bu7QciH/6WpV1zVo7BBPl+YC\n",
              "AFwdFDCDvPXWW7ruuus0YMCAVn8eDofb9TodvaC77oIClpQU3/y1z2f+UhUrri0mU9uslkciU3tZ\n",
              "MROuTNP9v7gBMwBEBgqYQXbs2KGjR49qx44dOn78uGJiYuR0OlVbW6u4uDj5/X75fL42X6ejF3TX\n",
              "N5xfwCora5q/NvtiUStesEqmtlktj0Sm9jI7E+WvaxSVNN2AuZfJSQAA7UEBM8jzzz/f/PULL7yg\n",
              "fv366Y9//KO2bt2qmTNnatu2bZo0aVIXnPn8hYbhsORLjteJ8ppLPB4AEEkOlVbKYbdpgC/B7CgA\n",
              "gHaggJloyZIlWrZsmTZt2qTU1FTNmjXrqp+jtftxPvX3NykYbN+SRwCAddU3BPWl/4zSUhIV7WBf\n",
              "LQCIBBQwEyxZsqT5640bN3bpuS4sYDabZI+Kkp33aQCIeF/6zygYCmsQ138BQMTgz/BuztbKEkQA\n",
              "QPdQVNp0/RcFDAAiBQWsu2OveQDotg59tQFHBgUMACIGBQwAgAhVVFopZ6xDKe74th8MALAEChgA\n",
              "ABHoTE29TgRqlJGaJFtrOy4BACyJAgYAQARqugEzG3AAQGShgAEAEIGKuP4LACISBayHiY/jzgMA\n",
              "0B0wAwYAkYkC1s21vCpgWP9eGpnuNi0LAODqCIfDKiqpVJ9ecUpyxZgdBwDQARSwHuTOCQO5UBsA\n",
              "uoGyilqdqann/l8AEIFYjwYAQCt++9vfavPmzc3f79u3T7/+9a+1YsUKSVJmZqaefPJJU7IVlVRI\n",
              "kjJYfggAEYcCBgBAK2bPnq3Zs2dLknbv3q133nlHTz31lHJzczVmzBg9+uij+vDDD3Xrrbcanu1Q\n",
              "SZUkMQMGABGIJYgAALRh3bp1+t73vqfi4mKNGTNGkpSdna2CggJT8hSVVijKZlNaSqIp5wcAdB4F\n",
              "DACAy9i7d6/69u0ru92upKSvZ5w8Ho/KysoMz9MQDOnI8TPq73MpNtpu+PkBAFeGJYjd3PmbboRN\n",
              "ywEAkSo/P1933333RcfD4bbHVLfbKYejcyXJ6219duvg0XI1BEMaOajPJR9jBDPP3RYrZ5Osnc/K\n",
              "2SRr57NyNsn6+XoSChgAAJdRWFio5cuXy2azqby8vPm43++Xz+e77HMDgepOndPrTVRZWVWrP9vz\n",
              "Wakkqa877pKP6WqXy2c2K2eTrJ3Pytkka+ezcjap8/kobV2DJYg9ClvQA0BH+P1+uVwuxcTEKDo6\n",
              "WoMGDdJHH30kSdq2bZsmTZpkeKaiEm7ADACRjBmwHoUliADQEWVlZerdu3fz97m5uXr88ccVCoU0\n",
              "duxYZWVlGZ6pqLRScTF29fW4DD83AODKUcAAALiEUaNGacOGDc3fDxkyRHl5eablqa5t0PFT1Rqe\n",
              "7gP5xz4AAA8zSURBVFZUFKsaACASsQQRAIAIcfh4pcLiBswAEMkoYD1IOzbsAgBYWPP1X9yAGQAi\n",
              "FgUMAIAIcai0sYAxAwYAkYsC1oPYuFwAACJWOBxWUUml3ImxcifGmh0HANBJFLAehCWIABC5TlfW\n",
              "qeLsObafB4AIRwEDACACNC0/5PovAIhsFDAAACJA0wYcXP8FAJGNAtaDJDijzY4AAOikotJK2WzS\n",
              "wL6JZkcBAFwBClgPMji1l9kRAACdEAyFdPh4pVL7uBQX4zA7DgDgClDAAACwuJKT1TpXH2IDDgDo\n",
              "BihgAABYXFFJhSQpgw04ACDiUcAAALC45h0QmQEDgIhHAQMAwOKKSioVEx2lfl6X2VEAAFeIAgYA\n",
              "gIXVnmtQ8cmzGpiSKHsUb9sAEOnYSslAzz77rD7++GM1NDToH/7hHzR69GgtXbpUwWBQXq9Xzz33\n",
              "nGJiYsyOCQCwkCPHqxQOc/0XAHQXFDCD7Nq1SwcOHNCmTZsUCAR09913a8KECcrJydEdd9yhf/mX\n",
              "f1F+fr5ycnLMjgoAkLR582Zt2LBBDodDDz/8sN599119+umnSk5OliTdf//9mjx5cpfnKGq6/otb\n",
              "iQBAt0ABM8j48eM1ZswYSVJSUpJqampUWFioJ598UpKUnZ2tV155hQIGABYQCAS0bt06vf7666qu\n",
              "rtYLL7wgSfrRj36k7OxsQ7MUlTQWsAxuwAwA3QKLyQ1it9vldDolSfn5+brllltUU1PTvOTQ4/Go\n",
              "rKzMzIgAgK8UFBRowoQJSkhIkM/n08qVK03Lcqi0UkmuGHmS4kzLAAC4epgBM9j27duVn5+vV155\n",
              "Rbfddlvz8XA43K7nu91OORz2Tp3b67Xep6dkah+rZbJaHolM7WXFTFZ07Ngx1dbWavHixaqsrNSS\n",
              "JUskSa+++qo2btwoj8ejn/zkJ+rdu3eX5ig/U6fTlXW6bkgf2Wy2Lj0XAMAYFDAD7dy5U+vXr9eG\n",
              "DRuUmJgop9Op2tpaxcXFye/3y+fztfkagUB1p89fVlbV6ed2Ba83kUztYLVMVssjkam9zM4UaeWv\n",
              "vLxca9euVUlJiRYuXKhVq1YpOTlZI0aM0EsvvaS1a9fq8ccfv+xrXOmHZl/4z0iSRg3tY7l/P6vl\n",
              "acnK2SRr57NyNsna+aycTbJ+vp6EAmaQqqoqPfvss/rFL37RfAF3VlaWtm7dqpkzZ2rbtm2aNGmS\n",
              "ySkBAFLjsvBx48bJ4XAoLS1NLpdLw4YNk8fjkSRNmTJFK1asaPN1OvuhWVNZ/tN+vyQpJSnOUoXe\n",
              "7DJ/OVbOJlk7n5WzSdbOZ+VsUufzUdq6BteAGWTLli0KBAJ65JFHtGDBAi1YsECLFy/WW2+9pZyc\n",
              "HJWXl2vWrFlmxwQASJo4caJ27dqlUCikQCCg6upqPf744zp69KgkqbCwUEOHDu3yHGzAAQDdDzNg\n",
              "Bpk7d67mzp170fGNGzeakAYAcDkpKSmaMWOG5syZI0lavny5XC6XHnnkEcXHx8vpdGrVqlVdmiEU\n",
              "Duvw8Ur19TjljIvu0nMBAIxDAQMAoBXz5s3TvHnzzjv2+uuvG3b+46eqVVMX1Lih3IAZALoTliAC\n",
              "AGBBTcsPB6VSwACgO6GAAQBgQYdKm67/ooABQHdCAQMAwIKKSirlsEdpgC/B7CgAgKuIAgYAgMXU\n",
              "1Qd1rOyM0lMS5LDzVg0A3QmjOgAAFlN0rELBUFgZXP8FAN0OBQwAAIv565cBSdIgrv8CgG6HAgYA\n",
              "gMUcaCpgzIABQLdDAQMAwGL++mVACfHR8ibHmx0FAHCVUcAAALCQyupz8p+uVkbfJNlsNrPjAACu\n",
              "MgoYAAAWcqik6f5fiSYnAQB0BQoYAAAW0nQD5kGpvUxOAgDoChQwAAAs5FBplSRmwACgu3KYHQBd\n",
              "7xsjfBqW3tvsGACAdhiUmiSfx6lEZ4zZUQAAXYAC1gMsnjlKXm+iysqqzI4CAGjDzIkZjNkA0I2x\n",
              "BBEAAAAADMIMGAAArdi8ebM2bNggh8Ohhx9+WJmZmVq6dKmCwaC8Xq+ee+45xcSwTBAA0DHMgAEA\n",
              "cIFAIKB169YpLy9P69ev13vvvac1a9YoJydHeXl5Sk9PV35+vtkxAQARiAIGAMAFCgoKNGHCBCUk\n",
              "JMjn82nlypUqLCzU1KlTJUnZ2dkqKCgwOSUAIBKxBBEAgAscO3ZMtbW1Wrx4sSorK7VkyRLV1NQ0\n",
              "Lzn0eDwqKyszOSUAIBJRwAAAaEV5ebnWrl2rkpISLVy4UOFwuPlnLb++HLfbKYfD3qnze73Wvg+Y\n",
              "lfNZOZtk7XxWziZZO5+Vs0nWz9eTUMAAALiAx+PRuHHj5HA4lJaWJpfLJbvdrtraWsXFxcnv98vn\n",
              "87X5OoFAdafOb/Vt6K2cz8rZJGvns3I2ydr5rJxN6nw+SlvXsIXb+zEeAAA9hN/v12OPPaaXX35Z\n",
              "FRUVuueeezRx4kTdeOONmjlzpv7pn/5JmZmZmj17ttlRAQARhgIGAEArfvOb3zTvdPjAAw9o9OjR\n",
              "WrZsmerq6pSamqpVq1YpOjra5JQAgEhDAQMAAAAAg7ANPQAAAAAYhAIGAAAAAAahgAEAAACAQShg\n",
              "AAAAAGAQClg39/TTT2vu3LmaN2+e9u7da3YcSdKzzz6ruXPn6jvf+Y62bdtmdpxmtbW1mjZtmt54\n",
              "4w2zo0iSNm/erL/5m7/RPffcox07dpgdR2fPntX3v/99LViwQPPmzdPOnTtNy/L5559r2rRpevXV\n",
              "VyVJpaWlWrBggXJycvSDH/xA586ds0SmRYsWaf78+Vq0aJHKyspMz9Rk586dyszMNDwP2seK43YT\n",
              "q47fLVltLG9itTG9JSuN7y1Zcay/XDazx/zL5WvC+G8NFLBubPfu3Tpy5Ig2bdqkp556Sk899ZTZ\n",
              "kbRr1y4dOHBAmzZt0oYNG/T000+bHanZz3/+c/Xq1cvsGJKkQCCgdevWKS8vT+vXr9d7771ndiS9\n",
              "+eabysjI0C9/+UutXr3atN+n6upqrVy5UhMmTGg+tmbNGuXk5CgvL0/p6enNW4ebmen555/XnDlz\n",
              "9Oqrr2r69OnauHGj6Zkkqa6uTi+99JK8Xq+hedA+Vhy3m1h5/G7JSmN5EyuO6S1ZZXxvyYpj/eWy\n",
              "mT3mt5VPYvy3EgpYN1ZQUKBp06ZJkgYPHqyKigqdOXPG1Ezjx4/X6tWrJUlJSUmqqalRMBg0NZMk\n",
              "ffHFFzp48KAmT55sdhRJjf/tJkyYoISEBPl8Pq1cudLsSHK73SovL5ckVVZWyu12m5IjJiZG//Zv\n",
              "/yafz9d8rLCwUFOnTpUkZWdnq6CgwPRMTzzxhGbMmCHp/H87MzNJ0vr165WTk6OYmBhD86B9rDhu\n",
              "N7Hq+N2S1cbyJlYc01uyyvjekhXH+stlM3vMb4nx3/ooYN3YyZMnzxtEe/fubfqUuN1ul9PplCTl\n",
              "5+frlltukd1uNzWTJD3zzDN67LHHzI7R7NixY6qtrdXixYuVk5Nj2ptMS3fddZdKSko0ffp0zZ8/\n",
              "X8uWLTMlh8PhUFxc3HnHampqmt9QPB6P4b/nrWVyOp2y2+0KBoPKy8vTt7/9bdMzHTp0SPv379cd\n",
              "d9xhaBa0nxXH7SZWHb9bstpY3sSKY3pLVhnfW7LiWN/EimN+S4z/1ucwOwCMY6V7bm/fvl35+fl6\n",
              "5ZVXzI6it956S9ddd50GDBhgdpTzlJeXa+3atSopKdHChQv1wQcfyGazmZbn7bffVmpqql5++WXt\n",
              "379fubm5lrvGQrLW73kwGNTSpUt18803X7QUxAyrVq3S8uXLzY6BDrDS73MTK43fLVl1LG9itTG9\n",
              "pUgZ31uy4v8bVhvzW2L8txYKWDfm8/l08uTJ5u9PnDhhiXW/O3fu1Pr167VhwwYlJiaaHUc7duzQ\n",
              "0aNHtWPHDh0/flwxMTG65pprlJWVZVomj8ejcePGyeFwKC0tTS6XS6dPn5bH4zEt0549ezRx4kRJ\n",
              "0vDhw3XixAkFg0FLfALudDpVW1uruLg4+f3+i5ZdmOXHP/6x0tPT9f3vf9/sKPL7/SoqKtI//uM/\n",
              "SmocD+bPn3/RBdowl1XH7SZWG79bsuJY3sSKY3pLVh7fW7LqWN/ESmN+S4z/1sMSxG7sm9/8prZu\n",
              "3SpJ+vTTT+Xz+ZSQkGBqpqqqKj377LN68cUXlZycbGqWJs8//7xef/11vfbaa5o9e7YefPBB09+w\n",
              "J06cqF27dikUCikQCKi6utr0Nfnp6en65JNPJEnFxcVyuVyWeXPOyspq/l3ftm2bJk2aZHKixh3P\n",
              "oqOj9fDDD5sdRZKUkpKi7du367XXXtNrr70mn8/Hm68FWXHcbmLF8bslK47lTaw4prdk5fG9JSuO\n",
              "9U2sNua3xPhvPcyAdWPXX3+9rr32Ws2bN082m01PPPGE2ZG0ZcsWBQIBPfLII83HnnnmGaWmppqY\n",
              "ynpSUlI0Y8YMzZkzR5K0fPlyRUWZ+3nJ3LlzlZubq/nz56uhoUErVqwwJce+ffv0zDPPqLi4WA6H\n",
              "Q1u3btVPf/pTPfbYY9q0aZNSU1M1a9Ys0zOdOnVKsbGxWrBggaTGDRWM/DdrLdMLL7xgyT+c8TUr\n",
              "jttNGL87z4pjektWGd9bsuJYf7lsZo/5beVj/LcWW9iKi2gBAAAAoBuyzscvAAAAANDNUcAAAAAA\n",
              "wCAUMAAAAAAwCAUMAAAAAAxCAQMAAAAAg1DAAAAAAMAgFDAAAAAAMAgFDAAAAAAMQgEDAAAAAINQ\n",
              "wAAAAADAIBQwAAAAADAIBQwAAAAADEIBAwAAAACDUMAAAAAAwCAUMAAAAAAwCAUMAAAAAAxCAQMA\n",
              "AAAAg1DAAAAAAMAgFDAAAAAAMAgFDAAAAAAMQgEDAAAAAINQwAAAAADAIBQwAAAAADAIBQwAAAAA\n",
              "DEIBAwAAAACDUMAAAAAAwCAUMAAAAAAwCAUMAAAAAAxCAQMAAAAAg1DAAAAAAMAgFDAAAAAAMAgF\n",
              "DAAAAAAMQgEDAAAAAINQwAAAAADAIBQwAAAAADAIBQwAAAAADEIBAwAAAACDUMAAAAAAwCAUMAAA\n",
              "AAAwCAUMAAAAAAxCAQMAAAAAg1DAAAAAAMAgFDAAAAAAMAgFDAAAAAAMQgEDAAAAAINQwAAAAADA\n",
              "IBQwAAAAADAIBQwAAAAADEIBAwAAAACDUMAAAAAAwCAUMAAAAAAwCAUMAAAAAAxCAQMAAAAAg1DA\n",
              "AAAAAMAgFDAAAAAAMAgFDAAAAAAM8v8BQUbAsknJdIMAAAAASUVORK5CYII=\n",
              "'/>"
            ],
            "text/plain": [
              "<IPython.core.display.HTML object>"
            ]
          },
          "metadata": {
            "tags": []
          }
        },
        {
          "output_type": "display_data",
          "data": {
            "text/html": [
              "Train: <progress value='100.0' max='100', style='width: 80%'>100.0\n",
              "                           </progress>"
            ],
            "text/plain": [
              "<IPython.core.display.HTML object>"
            ]
          },
          "metadata": {
            "tags": []
          }
        },
        {
          "output_type": "display_data",
          "data": {
            "text/html": [
              "Valid: <progress value='100.0' max='100', style='width: 80%'>100.0\n",
              "                           </progress>"
            ],
            "text/plain": [
              "<IPython.core.display.HTML object>"
            ]
          },
          "metadata": {
            "tags": []
          }
        },
        {
          "output_type": "stream",
          "text": [
            "------------------------------------\n",
            "summary of epoch: 0\n",
            "------------------------------------\n",
            "loss -           train     valid\n",
            "                 1.030     0.708\n",
            "accuracy/error - \n",
            "                61.424    74.310\n",
            " \n"
          ],
          "name": "stdout"
        },
        {
          "output_type": "display_data",
          "data": {
            "text/html": [
              "Train: <progress value='100.0' max='100', style='width: 80%'>100.0\n",
              "                           </progress>"
            ],
            "text/plain": [
              "<IPython.core.display.HTML object>"
            ]
          },
          "metadata": {
            "tags": []
          }
        },
        {
          "output_type": "display_data",
          "data": {
            "text/html": [
              "Valid: <progress value='100.0' max='100', style='width: 80%'>100.0\n",
              "                           </progress>"
            ],
            "text/plain": [
              "<IPython.core.display.HTML object>"
            ]
          },
          "metadata": {
            "tags": []
          }
        },
        {
          "output_type": "stream",
          "text": [
            "------------------------------------\n",
            "summary of epoch: 1\n",
            "------------------------------------\n",
            "loss -           train     valid\n",
            "                 0.540     0.510\n",
            "accuracy/error - \n",
            "                80.990    82.726\n",
            " \n"
          ],
          "name": "stdout"
        },
        {
          "output_type": "display_data",
          "data": {
            "text/html": [
              "Train: <progress value='100.0' max='100', style='width: 80%'>100.0\n",
              "                           </progress>"
            ],
            "text/plain": [
              "<IPython.core.display.HTML object>"
            ]
          },
          "metadata": {
            "tags": []
          }
        },
        {
          "output_type": "display_data",
          "data": {
            "text/html": [
              "Valid: <progress value='100.0' max='100', style='width: 80%'>100.0\n",
              "                           </progress>"
            ],
            "text/plain": [
              "<IPython.core.display.HTML object>"
            ]
          },
          "metadata": {
            "tags": []
          }
        },
        {
          "output_type": "stream",
          "text": [
            "------------------------------------\n",
            "summary of epoch: 2\n",
            "------------------------------------\n",
            "loss -           train     valid\n",
            "                 0.300     0.331\n",
            "accuracy/error - \n",
            "                90.033    88.651\n",
            " \n"
          ],
          "name": "stdout"
        },
        {
          "output_type": "display_data",
          "data": {
            "text/html": [
              "Train: <progress value='100.0' max='100', style='width: 80%'>100.0\n",
              "                           </progress>"
            ],
            "text/plain": [
              "<IPython.core.display.HTML object>"
            ]
          },
          "metadata": {
            "tags": []
          }
        },
        {
          "output_type": "display_data",
          "data": {
            "text/html": [
              "Valid: <progress value='100.0' max='100', style='width: 80%'>100.0\n",
              "                           </progress>"
            ],
            "text/plain": [
              "<IPython.core.display.HTML object>"
            ]
          },
          "metadata": {
            "tags": []
          }
        },
        {
          "output_type": "stream",
          "text": [
            "------------------------------------\n",
            "summary of epoch: 3\n",
            "------------------------------------\n",
            "loss -           train     valid\n",
            "                 0.175     0.192\n",
            "accuracy/error - \n",
            "                94.408    94.149\n",
            " \n"
          ],
          "name": "stdout"
        },
        {
          "output_type": "display_data",
          "data": {
            "text/html": [
              "Train: <progress value='100.0' max='100', style='width: 80%'>100.0\n",
              "                           </progress>"
            ],
            "text/plain": [
              "<IPython.core.display.HTML object>"
            ]
          },
          "metadata": {
            "tags": []
          }
        },
        {
          "output_type": "display_data",
          "data": {
            "text/html": [
              "Valid: <progress value='100.0' max='100', style='width: 80%'>100.0\n",
              "                           </progress>"
            ],
            "text/plain": [
              "<IPython.core.display.HTML object>"
            ]
          },
          "metadata": {
            "tags": []
          }
        },
        {
          "output_type": "stream",
          "text": [
            "------------------------------------\n",
            "summary of epoch: 4\n",
            "------------------------------------\n",
            "loss -           train     valid\n",
            "                 0.118     0.194\n",
            "accuracy/error - \n",
            "                96.389    94.407\n",
            " \n"
          ],
          "name": "stdout"
        },
        {
          "output_type": "display_data",
          "data": {
            "text/html": [
              "Train: <progress value='100.0' max='100', style='width: 80%'>100.0\n",
              "                           </progress>"
            ],
            "text/plain": [
              "<IPython.core.display.HTML object>"
            ]
          },
          "metadata": {
            "tags": []
          }
        },
        {
          "output_type": "display_data",
          "data": {
            "text/html": [
              "Valid: <progress value='100.0' max='100', style='width: 80%'>100.0\n",
              "                           </progress>"
            ],
            "text/plain": [
              "<IPython.core.display.HTML object>"
            ]
          },
          "metadata": {
            "tags": []
          }
        },
        {
          "output_type": "stream",
          "text": [
            "------------------------------------\n",
            "summary of epoch: 5\n",
            "------------------------------------\n",
            "loss -           train     valid\n",
            "                 0.088     0.148\n",
            "accuracy/error - \n",
            "                97.118    96.358\n",
            " \n"
          ],
          "name": "stdout"
        },
        {
          "output_type": "display_data",
          "data": {
            "text/html": [
              "Train: <progress value='100.0' max='100', style='width: 80%'>100.0\n",
              "                           </progress>"
            ],
            "text/plain": [
              "<IPython.core.display.HTML object>"
            ]
          },
          "metadata": {
            "tags": []
          }
        },
        {
          "output_type": "display_data",
          "data": {
            "text/html": [
              "Valid: <progress value='100.0' max='100', style='width: 80%'>100.0\n",
              "                           </progress>"
            ],
            "text/plain": [
              "<IPython.core.display.HTML object>"
            ]
          },
          "metadata": {
            "tags": []
          }
        },
        {
          "output_type": "stream",
          "text": [
            "------------------------------------\n",
            "summary of epoch: 6\n",
            "------------------------------------\n",
            "loss -           train     valid\n",
            "                 0.072     0.171\n",
            "accuracy/error - \n",
            "                97.630    95.768\n",
            " \n"
          ],
          "name": "stdout"
        },
        {
          "output_type": "display_data",
          "data": {
            "text/html": [
              "Train: <progress value='100.0' max='100', style='width: 80%'>100.0\n",
              "                           </progress>"
            ],
            "text/plain": [
              "<IPython.core.display.HTML object>"
            ]
          },
          "metadata": {
            "tags": []
          }
        },
        {
          "output_type": "display_data",
          "data": {
            "text/html": [
              "Valid: <progress value='100.0' max='100', style='width: 80%'>100.0\n",
              "                           </progress>"
            ],
            "text/plain": [
              "<IPython.core.display.HTML object>"
            ]
          },
          "metadata": {
            "tags": []
          }
        },
        {
          "output_type": "stream",
          "text": [
            "------------------------------------\n",
            "summary of epoch: 7\n",
            "------------------------------------\n",
            "loss -           train     valid\n",
            "                 0.060     0.150\n",
            "accuracy/error - \n",
            "                98.106    96.856\n",
            " \n"
          ],
          "name": "stdout"
        },
        {
          "output_type": "display_data",
          "data": {
            "text/html": [
              "Train: <progress value='100.0' max='100', style='width: 80%'>100.0\n",
              "                           </progress>"
            ],
            "text/plain": [
              "<IPython.core.display.HTML object>"
            ]
          },
          "metadata": {
            "tags": []
          }
        },
        {
          "output_type": "display_data",
          "data": {
            "text/html": [
              "Valid: <progress value='100.0' max='100', style='width: 80%'>100.0\n",
              "                           </progress>"
            ],
            "text/plain": [
              "<IPython.core.display.HTML object>"
            ]
          },
          "metadata": {
            "tags": []
          }
        },
        {
          "output_type": "stream",
          "text": [
            "------------------------------------\n",
            "summary of epoch: 8\n",
            "------------------------------------\n",
            "loss -           train     valid\n",
            "                 0.046     0.204\n",
            "accuracy/error - \n",
            "                98.429    95.894\n",
            " \n"
          ],
          "name": "stdout"
        },
        {
          "output_type": "display_data",
          "data": {
            "text/html": [
              "Train: <progress value='100.0' max='100', style='width: 80%'>100.0\n",
              "                           </progress>"
            ],
            "text/plain": [
              "<IPython.core.display.HTML object>"
            ]
          },
          "metadata": {
            "tags": []
          }
        },
        {
          "output_type": "display_data",
          "data": {
            "text/html": [
              "Valid: <progress value='100.0' max='100', style='width: 80%'>100.0\n",
              "                           </progress>"
            ],
            "text/plain": [
              "<IPython.core.display.HTML object>"
            ]
          },
          "metadata": {
            "tags": []
          }
        },
        {
          "output_type": "stream",
          "text": [
            "------------------------------------\n",
            "summary of epoch: 9\n",
            "------------------------------------\n",
            "loss -           train     valid\n",
            "                 0.048     0.177\n",
            "accuracy/error - \n",
            "                98.455    95.875\n",
            " \n"
          ],
          "name": "stdout"
        },
        {
          "output_type": "display_data",
          "data": {
            "text/html": [
              "Train: <progress value='100.0' max='100', style='width: 80%'>100.0\n",
              "                           </progress>"
            ],
            "text/plain": [
              "<IPython.core.display.HTML object>"
            ]
          },
          "metadata": {
            "tags": []
          }
        },
        {
          "output_type": "display_data",
          "data": {
            "text/html": [
              "Valid: <progress value='100.0' max='100', style='width: 80%'>100.0\n",
              "                           </progress>"
            ],
            "text/plain": [
              "<IPython.core.display.HTML object>"
            ]
          },
          "metadata": {
            "tags": []
          }
        },
        {
          "output_type": "stream",
          "text": [
            "------------------------------------\n",
            "summary of epoch: 10\n",
            "------------------------------------\n",
            "loss -           train     valid\n",
            "                 0.041     0.179\n",
            "accuracy/error - \n",
            "                98.709    96.350\n",
            " \n"
          ],
          "name": "stdout"
        },
        {
          "output_type": "display_data",
          "data": {
            "text/html": [
              "Train: <progress value='100.0' max='100', style='width: 80%'>100.0\n",
              "                           </progress>"
            ],
            "text/plain": [
              "<IPython.core.display.HTML object>"
            ]
          },
          "metadata": {
            "tags": []
          }
        },
        {
          "output_type": "display_data",
          "data": {
            "text/html": [
              "Valid: <progress value='100.0' max='100', style='width: 80%'>100.0\n",
              "                           </progress>"
            ],
            "text/plain": [
              "<IPython.core.display.HTML object>"
            ]
          },
          "metadata": {
            "tags": []
          }
        },
        {
          "output_type": "stream",
          "text": [
            "------------------------------------\n",
            "summary of epoch: 11\n",
            "------------------------------------\n",
            "loss -           train     valid\n",
            "                 0.033     0.166\n",
            "accuracy/error - \n",
            "                98.930    97.160\n",
            " \n"
          ],
          "name": "stdout"
        },
        {
          "output_type": "display_data",
          "data": {
            "text/html": [
              "Train: <progress value='100.0' max='100', style='width: 80%'>100.0\n",
              "                           </progress>"
            ],
            "text/plain": [
              "<IPython.core.display.HTML object>"
            ]
          },
          "metadata": {
            "tags": []
          }
        },
        {
          "output_type": "display_data",
          "data": {
            "text/html": [
              "Valid: <progress value='100.0' max='100', style='width: 80%'>100.0\n",
              "                           </progress>"
            ],
            "text/plain": [
              "<IPython.core.display.HTML object>"
            ]
          },
          "metadata": {
            "tags": []
          }
        },
        {
          "output_type": "stream",
          "text": [
            "------------------------------------\n",
            "summary of epoch: 12\n",
            "------------------------------------\n",
            "loss -           train     valid\n",
            "                 0.044     0.161\n",
            "accuracy/error - \n",
            "                98.586    96.901\n",
            " \n"
          ],
          "name": "stdout"
        },
        {
          "output_type": "display_data",
          "data": {
            "text/html": [
              "Train: <progress value='100.0' max='100', style='width: 80%'>100.0\n",
              "                           </progress>"
            ],
            "text/plain": [
              "<IPython.core.display.HTML object>"
            ]
          },
          "metadata": {
            "tags": []
          }
        },
        {
          "output_type": "display_data",
          "data": {
            "text/html": [
              "Valid: <progress value='100.0' max='100', style='width: 80%'>100.0\n",
              "                           </progress>"
            ],
            "text/plain": [
              "<IPython.core.display.HTML object>"
            ]
          },
          "metadata": {
            "tags": []
          }
        },
        {
          "output_type": "stream",
          "text": [
            "------------------------------------\n",
            "summary of epoch: 13\n",
            "------------------------------------\n",
            "loss -           train     valid\n",
            "                 0.020     0.239\n",
            "accuracy/error - \n",
            "                99.307    95.822\n",
            " \n"
          ],
          "name": "stdout"
        },
        {
          "output_type": "display_data",
          "data": {
            "text/html": [
              "Train: <progress value='100.0' max='100', style='width: 80%'>100.0\n",
              "                           </progress>"
            ],
            "text/plain": [
              "<IPython.core.display.HTML object>"
            ]
          },
          "metadata": {
            "tags": []
          }
        },
        {
          "output_type": "display_data",
          "data": {
            "text/html": [
              "Valid: <progress value='100.0' max='100', style='width: 80%'>100.0\n",
              "                           </progress>"
            ],
            "text/plain": [
              "<IPython.core.display.HTML object>"
            ]
          },
          "metadata": {
            "tags": []
          }
        },
        {
          "output_type": "stream",
          "text": [
            "------------------------------------\n",
            "summary of epoch: 14\n",
            "------------------------------------\n",
            "loss -           train     valid\n",
            "                 0.041     0.168\n",
            "accuracy/error - \n",
            "                98.646    97.065\n",
            " \n",
            "------------------------------------\n",
            "summary of test\n",
            "------------------------------------\n",
            "               total  accuracy\n",
            "test            4857    97.099\n"
          ],
          "name": "stdout"
        }
      ]
    },
    {
      "metadata": {
        "id": "pdxnWXXUvcaT",
        "colab_type": "text"
      },
      "cell_type": "markdown",
      "source": [
        "###Test Performance\n",
        "\n",
        "On the test of the optimized model, the overall test accuracy is 97.1% with a 0.8% improvement from the *CNN5 net*. The confusion matrix below also shows that the model performs well for classes with much less samples, indicating the model is not sensitive to such imbalance in the sample classes. The prediction of the class with the least sample achieves even better accuarcy of 98.2% than the overall accuracy of 97.1%."
      ]
    },
    {
      "metadata": {
        "id": "Lq4amwYvu8Re",
        "colab_type": "code",
        "outputId": "26ccd788-51cc-45e9-f019-902eb2d5b697",
        "colab": {
          "base_uri": "https://localhost:8080/",
          "height": 530
        }
      },
      "cell_type": "code",
      "source": [
        "import seaborn as sns\n",
        "import matplotlib.pyplot as plt\n",
        "from sklearn.metrics import confusion_matrix\n",
        "\n",
        "# load configuration file\n",
        "f_config = p_model + os.sep + 'config_resnet.yaml'\n",
        "with open(f_config, 'r') as fp: config = yaml.load(fp)\n",
        "  \n",
        "# update path for config\n",
        "config_params = config['params']\n",
        "config_params['f_image_zip'] = p_image + os.sep + config_params['f_image_zip']\n",
        "config_params['f_storm_msg'] = p_data  + os.sep + config_params['f_storm_msg']\n",
        "config_params['f_data_yml']  = p_class + os.sep + config_params['f_data_yml']\n",
        "config_params['f_state_yml'] = p_model + os.sep + config_params['f_state_yml']\n",
        "config_params['f_model_pth'] = p_model + os.sep + config_params['f_model_pth']\n",
        "config_params['f_test_yml']  = p_model + os.sep + config_params['f_test_yml']\n",
        "\n",
        "f_data_yml = config_params['f_data_yml']\n",
        "with open(f_data_yml, 'rb') as fp: data = yaml.load(fp)\n",
        "\n",
        "f_test = config_params['f_test_yml']\n",
        "with open(f_test, 'r') as fp: test_results = yaml.load(fp)\n",
        "test_idxs = test_results['idxs']\n",
        "#test_idxs = test_idxs.detach().numpy()\n",
        "test_labels = test_results['labels']\n",
        "test_predicts = test_results['predicts']\n",
        "   \n",
        "# check test data, for debug purpose to make sure test dataset is correct\n",
        "# f_img_msg = p_data + os.sep + 'al_ir_track_filtered.msg'\n",
        "# pd_storm = pd.read_msgpack(f_img_msg) \n",
        "# print(len(test_labels))\n",
        "# print(len(pd_storm.iloc[test_indices].index))\n",
        "# print(pd_storm.iloc[test_indices].groupby(b'cat').count())\n",
        "# print(np.unique(test_labels, return_counts=True))\n",
        "\n",
        "# test summary\n",
        "n_correct = np.equal(test_predicts, test_labels).sum().item()\n",
        "accuracy = n_correct / len(test_labels) * 100.\n",
        "divider = '-' * 36\n",
        "print(divider)\n",
        "print('summary of test')\n",
        "print(divider)\n",
        "print('{:<10s}{:>10s}{:>10s}'.format('', 'total', 'accuracy'))\n",
        "print('{:<10s}{:>10d}{:>10.3f}'.format('test', len(test_labels), accuracy))   \n",
        "        \n",
        "\n",
        "# confusion matrix\n",
        "cfx = confusion_matrix(test_labels, test_predicts)\n",
        "df_cfx = pd.DataFrame(cfx, index = [one_hot_rev[i] for i in range(7)], \n",
        "                           columns = [str(i+1) for i in range(7)])\n",
        "\n",
        "fig, ax = plt.subplots(figsize = (10,7))\n",
        "sns.heatmap(df_cfx, annot=True, annot_kws={'size': 12}, fmt='d', ax=ax)\n",
        "ax.set_xlabel('Predict',fontsize=16)\n",
        "ax.set_ylabel('Actual',fontsize=16)\n",
        "\n",
        "# true_to_false\n",
        "true_to_false = {} # miss-classified images\n",
        "for i in range(7): true_to_false[one_hot_rev[i]] = []\n",
        "for i, (x, y) in enumerate(zip(test_labels, test_predicts)):\n",
        "    if x==y: continue\n",
        "    true_cat = one_hot_rev[x]\n",
        "    false_cat = one_hot_rev[y]\n",
        "    true_to_false[true_cat].append([test_idxs[i], false_cat])\n",
        "    "
      ],
      "execution_count": 0,
      "outputs": [
        {
          "output_type": "stream",
          "text": [
            "------------------------------------\n",
            "summary of test\n",
            "------------------------------------\n",
            "               total  accuracy\n",
            "test            4857    97.097\n"
          ],
          "name": "stdout"
        },
        {
          "output_type": "display_data",
          "data": {
            "image/png": "[encoded data removed]",
            "text/plain": [
              "<Figure size 720x504 with 2 Axes>"
            ]
          },
          "metadata": {
            "tags": []
          }
        }
      ]
    }
  ]
}