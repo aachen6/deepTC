{
  "nbformat": 4,
  "nbformat_minor": 0,
  "metadata": {
    "colab": {
      "name": "deepTC_classification_resnet.ipynb",
      "version": "0.3.2",
      "provenance": [],
      "collapsed_sections": [],
      "toc_visible": true,
      "include_colab_link": true
    },
    "kernelspec": {
      "name": "python3",
      "display_name": "Python 3"
    },
    "accelerator": "GPU"
  },
  "cells": [
    {
      "cell_type": "markdown",
      "metadata": {
        "id": "view-in-github",
        "colab_type": "text"
      },
      "source": [
        "<a href=\"https://colab.research.google.com/github/aachen6/deepTC/blob/master/colab/deepTC_classification_resnet.ipynb\" target=\"_parent\"><img src=\"https://colab.research.google.com/assets/colab-badge.svg\" alt=\"Open In Colab\"/></a>"
      ]
    },
    {
      "metadata": {
        "id": "9KZh9h7Dv2Qb",
        "colab_type": "text"
      },
      "cell_type": "markdown",
      "source": [
        "# DeepTC - Resnet\n",
        "\n",
        "The overall objective of *deepTC* can be found on [deepTC github page](https://github.com/aachen6/deepTC/) for new readers. In the [previous notebook](https://github.com/aachen6/deepTC/blob/master/colab/deepTC_cnn5_classification.ipynb), we demonstrated the implementation and training of a five-layer convolution network for the TC intensity classification from the satellite images and achieved a test accuray of 95.7%. It is possible to design a different convolution architecture, e.g. deep layers and/or with longer channels, to imrpove the model accuracy. However, we turn into a different concept in this notebook for TC intensity classification, i.e. residual net. The reason is that deep simple stacking convolution layers may be subject to the notorious vanishing gradient problem. The purpose is to demonstrate i) how a different architecture can be easily implemented using the system we developed so far; ii) the performance of the residual net with the same depth for the same problem.\n",
        "\n",
        "1. Data Preprocess\n",
        " - 1.1 [Satellite images and tracks of TCs](https://github.com/aachen6/deepTC/blob/master/colab/deepTC_images_tracks_sync.ipynb)\n",
        " - 1.2 [Statistics of satellite images and tracks](https://github.com/aachen6/deepTC/blob/master/colab/deepTC_images_tracks_stats.ipynb)\n",
        "\n",
        "2. Model for TC image\n",
        " - 2.1 [Post-binding architecture of TC image](https://github.com/aachen6/deepTC/blob/master/colab/deepTC_net_image.ipynb)\n",
        " - 2.2 [CNN model for intensity classification](https://github.com/aachen6/deepTC/blob/master/colab/deepTC_classification_cnn5.ipynb)\n",
        " - **2.3 [Resnet model for intensity classification](https://github.com/aachen6/deepTC/blob/master/colab/deepTC_classification_resnet.ipynb)**\n",
        " - 2.4 [Resnet model for TC intensity estimation](https://github.com/aachen6/deepTC/blob/master/colab/deepTC_intensity_resnet.ipynb)\n",
        "\n",
        "3. Generversial Model for TC image\n",
        " - 3.1 [DCGAN model for deepTC](https://github.com/aachen6/deepTC/blob/master/colab/deepTC_dcgan.ipynb)\n",
        "\n",
        "4. Model for TC Track\n",
        " - 4.1 [Post-binding architecture of TC Track](https://github.com/aachen6/deepTC/blob/master/colab/deepTC_net_track.ipynb)\n",
        " - 4.2 [LSTM model for TC track prediction](https://github.com/aachen6/deepTC/blob/master/colab/deepTC_track_lstm.ipynb)\n",
        " - 4.3 [LSTM-CNN model for TC track prediction](https://github.com/aachen6/deepTC/blob/master/colab/deepTC_track_lstmcnn.ipynb)\n",
        "\n",
        "\n",
        "As usual, let's start with importing the necessary python modules,  reusing our previous notebooks by installing *import-ipynb*, and mounting the Google Drive to access the data we processed earlier. For  new readers, you can find a copy of those datasets in [deepTC github page](https://github.com/aachen6/deepTC/)."
      ]
    },
    {
      "metadata": {
        "id": "gXB8R2GLmRbd",
        "colab_type": "code",
        "colab": {}
      },
      "cell_type": "code",
      "source": [
        "!pip install import-ipynb"
      ],
      "execution_count": 0,
      "outputs": []
    },
    {
      "metadata": {
        "id": "Hv1cwjCXXnfa",
        "colab_type": "code",
        "colab": {}
      },
      "cell_type": "code",
      "source": [
        "import os \n",
        "import yaml\n",
        "import numpy as np\n",
        "import pandas as pd\n",
        "\n",
        "from google.colab import drive\n",
        "drive.mount('/content/drive', force_remount=True)\n",
        "\n",
        "work_dir = r'/content/drive/My Drive/Colab Notebooks/deepTC'\n",
        "p_data  = work_dir + os.sep + 'data/AL'\n",
        "p_image = work_dir + os.sep + 'image/AL'\n",
        "p_model = work_dir + os.sep + 'model/tc_classification/resnet'\n",
        "\n",
        "# load class defined in other ipynb\n",
        "import import_ipynb\n",
        "model_ipynb = work_dir + os.sep + 'deepTC_net_image.ipynb'\n",
        "with open(model_ipynb, 'rb') as fp:\n",
        "    with open('deepTC_net_lib.ipynb','wb') as fout:\n",
        "       fout.write(fp.read())\n",
        "  \n",
        "import deepTC_net_lib\n",
        "from deepTC_net_lib import YML2Model, ImageDataSet, ImageTrainer, ImageInference\n"
      ],
      "execution_count": 0,
      "outputs": []
    },
    {
      "metadata": {
        "id": "8yHi8RfKvEd0",
        "colab_type": "text"
      },
      "cell_type": "markdown",
      "source": [
        "##ResNet\n",
        "\n",
        "For simple sequentially stacking layers of deep neutral network,  repeated multiplication through the back-propagation may make the gradient infinitively small at earlier layers, causing the notorious vanishing gradient problem. As the network depth increases, the performance is not monotonically enhancing and may get saturated or even degrading rapidly. ResNet was firstly introduced in [this paper](https://arxiv.org/pdf/1512.03385.pdf) in 2015 by Microsoft research team to overcome this problem. In a nutshell, deep residual network is an architecture that fits a residual mapping rather than the underlying mapping by carrying the input to the output within a building block (residual block), and recast the underlying mapping as the summation of the input and the output from the original mapping, as shown in Figure below.\n",
        "\n",
        "![residual block](https://cdn-images-1.medium.com/max/750/1*ByrVJspW-TefwlH7OLxNkg.png) *Image Credit: [https://arxiv.org/pdf/1512.03385.pdf](https://arxiv.org/pdf/1512.03385.pdf)*"
      ]
    },
    {
      "metadata": {
        "id": "AnOP7guxe-wK",
        "colab_type": "text"
      },
      "cell_type": "markdown",
      "source": [
        "###Network Architecture\n",
        "As compared with the *CNN5 net* developed in the [previous notebook](https://), the only thing that needs be updated to implement the *Resnet* is to revise the network architecture in the configuration file. The first layer maps one channel greyscale images into 32 channels with a 3 x 3 filter and reduces the feature map size by a factor of four using *maxpool2d* function with stride of 2. It's followed by two residual blocks, and each has one convolution layer that doubles the channel size and one with constant channel size. *ReLU* is applied at xxx. The *avgpool2d* with reduction of 16 is applied following the last convolution layer. The last two layer is the same as that in the *CNN5 net*, which transforms the feature space into a vector of 7 corresponding to the number of classes. Please note other than the different network architecture, this is not an apple to apple comparison as pooling is not used to reduce the feature size in the resnet block as suggested in xxx. The overall number of parameter is higher than the *CNN5 net*.  \n",
        "\n",
        "<img src='https://raw.githubusercontent.com/aachen6/deepTC/master/model/tc_classification/resnet/resnet.png' width='800'/>\n",
        "\n",
        "The same dataset used for *CNN5 net* is used here for consistency, which has a separation ration of 72:18:10 among training, validation, and testing set. Similarly, *Cross-Entropy* loss with *Adam* optimizer are used with the default learning rate &eta;=0.001 and momentum parameters (&beta;<sub>1</sub>=0.9, &beta;<sub>2</sub>=0.999). Similary, we trained the model for 15 epochs with a batch size of 64. The loss and accuracy of each batch and epoch (running average) are generated and updated in the plot below during the training and validation process. The *Resnet* converges even faster reaching a validation accuracy of 95% after 3 epochs, and achieves a final validation accuary of 98.9% after 15 epochs."
      ]
    },
    {
      "metadata": {
        "id": "kNx21FCKvdz3",
        "colab_type": "text"
      },
      "cell_type": "markdown",
      "source": [
        "###Training and Validation"
      ]
    },
    {
      "metadata": {
        "id": "As3yk9OQu7yy",
        "colab_type": "code",
        "outputId": "47989204-55bd-4600-caad-d5544c9488de",
        "colab": {
          "base_uri": "https://localhost:8080/",
          "height": 3217
        }
      },
      "cell_type": "code",
      "source": [
        "import torch\n",
        "from torchvision.transforms import transforms\n",
        "\n",
        "torch.cuda.empty_cache()\n",
        "\n",
        "# load configuration file\n",
        "f_config = p_model + os.sep + 'config_resnet.yaml'\n",
        "with open(f_config, 'r') as fp: config = yaml.load(fp)\n",
        "\n",
        "# contruct the model\n",
        "storm_resnet = YML2Model(config, 'resnet')\n",
        "\n",
        "# update path for config\n",
        "config_params = config['params']\n",
        "config_params['f_image_zip'] = p_image + os.sep + config_params['f_image_zip']\n",
        "config_params['f_storm_msg'] = p_data  + os.sep + config_params['f_storm_msg']\n",
        "config_params['f_state_yml'] = p_model + os.sep + config_params['f_state_yml']\n",
        "config_params['f_model_pth'] = p_model + os.sep + config_params['f_model_pth']\n",
        "config_params['f_test_yml']  = p_model + os.sep + config_params['f_test_yml']\n",
        "\n",
        "# splitted data to be used in other model as well for comparison\n",
        "config_params['f_data_yml']  = work_dir + os.sep + 'model/tc_classification' + os.sep + config_params['f_data_yml']\n",
        "\n",
        "# normalization is based on ramdon 1000 samples for this test\n",
        "image_transforms = transforms.Compose([\n",
        "    transforms.Grayscale(1),\n",
        "    transforms.ToTensor(),\n",
        "    transforms.Normalize((0.456,), (0.222,))])\n",
        "\n",
        "# dataset\n",
        "storm_data = ImageDataSet(config_params, image_transforms, hotstart=True)\n",
        "data_split = storm_data.load_data()\n",
        "\n",
        "# model\n",
        "storm_train = ImageTrainer(config_params, storm_resnet, hotstart=False)\n",
        "\n",
        "# train & valid\n",
        "storm_train.train_loop(data_split)\n",
        "\n",
        "# test\n",
        "test_results = storm_train.test_loop(data_split)\n"
      ],
      "execution_count": 0,
      "outputs": [
        {
          "output_type": "stream",
          "text": [
            "------------------------------------\n",
            "summary of dataset\n",
            "------------------------------------\n",
            "               train     valid      test\n",
            "percent         0.72      0.18      0.10\n",
            "size           34944      8742      4857\n",
            "batch            546       136        75\n",
            "------------------------------------\n",
            "summary of GPU\n",
            "------------------------------------\n",
            "Tesla K80\n",
            "Memory Usage:\n",
            "Allocated: 0.0 GB\n",
            "Cached:    0.0 GB\n",
            "------------------------------------\n",
            "training\n",
            "------------------------------------\n"
          ],
          "name": "stdout"
        },
        {
          "output_type": "display_data",
          "data": {
            "text/html": [
              "<img src=\"data:image/png;base64,iVBORw0KGgoAAAANSUhEUgAAAkAAAAGwCAYAAABB4NqyAAAABHNCSVQICAgIfAhkiAAAAAlwSFlz\n",
              "AAALEgAACxIB0t1+/AAAADl0RVh0U29mdHdhcmUAbWF0cGxvdGxpYiB2ZXJzaW9uIDMuMC4yLCBo\n",
              "dHRwOi8vbWF0cGxvdGxpYi5vcmcvOIA7rQAAIABJREFUeJzs3Xl8VPW9//HXObMkmewJSYBA2FfZ\n",
              "xBUUFMT1ttW2V8VU7HbbWte2tsqlttUfXdxqLWrrirVaK1davbS3LVgr1SpiBUVxY5E1QEjIvs52\n",
              "fn9MMmSSSTJZJ8l5Px8PHjNz1s93wpn5zPf7Pd+vYVmWhYiIiIiNmPEOQERERKS/KQESERER21EC\n",
              "JCIiIrajBEhERERsRwmQiIiI2I4SIBEREbEdJUAiIiJiO0qARERExHaUAImIiIjtKAESERER21EC\n",
              "JCIiIrajBEhERERsRwmQiIiI2I4SIBEREbEdJUAiIiJiO0qARERExHaUAImIiIjtKAESERER21EC\n",
              "JCIiIrajBEhERERsRwmQiIiI2I4SIBEREbEdJUAiIiJiO0qARERExHaUAImIiIjtKAESERER21EC\n",
              "JCIiIrajBEhERERsRwmQiIiI2I4SIBEREbEdJUAiIiJiO0qARERExHaUAImIiIjtKAESERER21EC\n",
              "JCIiIrajBEhERERsRwmQiIiI2I4SIBEREbEdJUAiIiJiO0qARERExHaUAImIiIjtKAESERER21EC\n",
              "JCIiIrajBEhERERsRwmQiIiI2I4SIBEREbEdJUAiIiJiO0qARERExHaUAImIiIjtKAESERER21EC\n",
              "JCIiIrbjjHcAA11JSXWn22Rmeigvr+uHaAYWO5bbjmWG2Mqdk5PaT9F0TyzXMtjzb2zHMoM9yz0U\n",
              "ruXeYssaoHXr1vGZz3yGz33uc2zcuLHHx3M6HT0PahCyY7ntWGawV7ntVNZmdiwz2LPcdixze2yX\n",
              "AJWXl/Pggw/yzDPP8NBDD/HSSy/FOyQRERHpZ7ZLgDZt2sS8efNISUkhNzeXlStXxjskEWlhx44d\n",
              "LFmyhKeffhqAw4cPs2zZMgoLC7nxxhvxer1AqCb385//PJdeeinPPfdcPEMWkUHIdgnQwYMHaWho\n",
              "4Oqrr6awsJBNmzbFOyQRaVJXV8fKlSuZN29eeNmqVasoLCzkmWeeYcyYMaxdu5a6ujoefPBBfvOb\n",
              "3/DUU0/x5JNPUlFREcfIRWSwsWUn6IqKCh544AEOHTrEVVddxcsvv4xhGFG3zcz0dNhmWt/oZ9+R\n",
              "KsYMT+urcAc0u3SWa8mOZYb+Kbfb7ebRRx/l0UcfDS/bvHkzt99+OwCLFi1i9erVjBs3jpkzZ5Ka\n",
              "Gopp7ty5bN26lcWLF/d5jL1hf3E1R8vrGTM8FafD5MW3DjB+RBpjhqfi9QXITE1gy8clvPFBMfnD\n",
              "ktl7pJpdRZVceHoBR8vq2bKjhJHDkjlUWktORiJlVY2Mzk1h1oRs/rG1iJyMRPYcjuz0bRoGQcsK\n",
              "v85IcTN74jB2F1VxsKQGgKQEJ/WN/l4ta+vzdkWC24HXF8CyID3ZTWWtN+p2LqeJzx9s9zhup4nX\n",
              "H8TpMPAH2o/FYRoEgpHrE9wOfL5gt8vQHSOyPRwtryczNYG0ZDellQ1UtVP2ZilJLmrqfaQkuait\n",
              "99Ey2mHpiZRWNgCw/IunMHmEPT/DWrNdApSdnc2JJ56I0+mkoKCA5ORkysrKyM7Ojrp9Z73lf/DY\n",
              "ZopKa7nrm/MYlp7UFyEPWDk5qTHfWTNU2LHMEFu5eyNBcjqdOJ2RH0v19fW43W4gdP2WlJRQWlpK\n",
              "VlZWeJusrCxKSkp6fP7+ctsT/4552w/3lYef//WN/eHnh0prASipCH2x7T1Szd4job9RTb2vzXFa\n",
              "f4FX1Hj55zuHIpb1dvIT7bxd0egNhJ+3l/wAHSY/AN6m9R0lP0Cb5Kd1DP3l8LHQ905pZUM4celM\n",
              "Tb0XHH5qA/WQ5McwAxgOPzj8lDv8OPL8GI4Ad//pMA//VyGmGf1Hv53YLgE688wzWb58OV/72teo\n",
              "rKykrq6OzMzMbh+vqOlDqKyq0XYJkEh/s9r5Mm1veUud1ea2ZNdavoHLAiMIhgVmEIwghhEEs8Vy\n",
              "I4hhBsEMtHgdOL5902PE61jPboWSBcNo+n9mWE0xNccW7XXz9k3Lw8+jHyPy2EQer1nEPk37mUFw\n",
              "hJKbmMrid5I1LBmXQ3eD2S4BysvL4/zzz+eyyy4D4NZbb8U0bdcVSmTQ8Hg8NDQ0kJiYSHFxMbm5\n",
              "ueTm5lJaWhre5ujRo8yZM6fD48Q63ktf1fI1egP85Kkt4eamIcMIgtOL4W7EcDZiuLwYrtAjrsbj\n",
              "z80gLb/Mw1/4QGTy0GJZONnpt9L0O8sCrOYCGseft1wGTW+dcfyxef+gA3wJBAMOCDixAs7jj0En\n",
              "VuvlDcmUH6ttt9sH2OcHgO0SIIClS5eydOnSeIchIjGYP38+69ev5+KLL2bDhg0sWLCA2bNnc+ut\n",
              "t1JVVYXD4WDr1q2sWLEi3qF26M+b9g7c5McIhGoRnL6m2gR/+DFymS/06PSHExvD2ba5rTXL5wp9\n",
              "UYdOBhZYVosfnm2+9JueW2Zou2DoefRloeVWsOl50+Px147211nHQ4oSdav3iBZJSMt4m143rbPa\n",
              "rGu5T+vX7Z68T3WU/NiJLRMgERmYtm/fzp133klRURFOp5P169dzzz33sHz5ctasWcPIkSO55JJL\n",
              "cLlc3HTTTXz1q1/FMAyuvfbacIfogaqiprF/TuT0YiTUYTh9GA4fOH2h505fKIFx+kPLHE3LnL4u\n",
              "NQc1s/wuLG8CwbpULF8C+NxYvgSs8GPoOX53KNmQLmvu2NwVXzh3MmPyUvnr5n28vbO08x1sTAmQ\n",
              "iAwYM2bM4Kmnnmqz/Iknnmiz7IILLuCCCy7oj7BiVlPv485ntnLK1FxeeHVPePnUggw+2t93t+kb\n",
              "CbU4Mo9iZhZjplR02mRkWUDAheV3QV0iwYAz9Lx1E0rAheVvfh25XklN3xs3Io33PjnWpX3GDk9l\n",
              "Qn46045kKgHqhBIgEZFe8q93D1NUUktRyZ6I5b2f/FgYyVU4MotxZBzF9ISa1iwLgtWZBGvTwd+U\n",
              "4DQlOi2fE3ASj6YXic3E/HR2FVWy7LzJ/OTpLVTWdHwLPMCkUekkJ7oYNyI0JEuUG9qkFSVAIiKD\n",
              "gRHETC3DkXkUR2YxhjvUpGYFTQLluaF/FbmhJqchZvXyxXzljn/EO4ywzuLJSHFTEUPS0p4Vy04K\n",
              "P//FdWfy/p4yfr7mnQ7jaa31nZHN29h1KI9olACJiPSS3u9bamFmHMWRdQRHRkmo/w6h/jf+kpEE\n",
              "yvMIVmVDcOh/lHc2iGF/MWP4I2elJXY7ARqWnthmmSex63/f9OShlwj3tqF/1YiI9JPezn+cI3fj\n",
              "GrULgGBjIoHSfALluQSrMxkMMxmdPCUHrz/Iu7tD/VjOPXk0L751IKZ950wcxsGSGq757AwAVv7X\n",
              "afzr3cP85Y19xDK24ncun829a7aFXye6HVyyYDzjR6Tx9Isfc+FpY3h43fv816emUVvvJy/Lw33P\n",
              "bSMjxc0tX5jLfz/8BgBJCQ7qGwPMmTiMSaPSmTs5B4CvfWo6j/75g/DxrzhnEtt2l3L4WB3nnTKa\n",
              "h/73fQBuvuJEqut9vL2jhLRkN0fL61kwewSlFQ38/qWdAHz909Px+oO8tOUgNy1tO5xDc7NWV5w6\n",
              "LY/qeh8piS6SupFA2YHeFRGRAciRdQjXqF0EG5Pw7pyDVZdGT1OsWROyw8lIXxs5LJlrPjuTV7Yd\n",
              "Cp/ziiWTmDk+i3v/J5SYnDN3FC9tPdhm3ymjM7jhP2dFLMvL9PD5sybw+bMm8N+PvEFxWfvjOs07\n",
              "YTgzxmVz73Vn8J0HXgMg1ePivFNGA3Dbl08F4FNnTYxoDorWlLTiypPIz0lpe44ZwyMSoHNPGc25\n",
              "Tcd/e8fxUcmnjgkNtHvK1Nw2x2hOgE4/YTgAC2ePbLdMXWWaBueePLrXjjcUDfyfECIiNmMkV+Aa\n",
              "vx3L78S7Yy5WXTq9Ub80pSCj58HF6PTpeUDoriSAk6aEak6GZ3nC20wfm0lWWkKbfU+Okiy0NK/p\n",
              "2K3NGBeaHmXmhNBjy5oio7vvXzfaNUfmJANwwtjuzzLQWkFe2yQMwOnQ13h3qQZIRKS39EInIMNd\n",
              "T8LkrWAE8e4+Eau+e+MbfeMzJ/DwuvfDr5d/YW6HU4bcefU8HvnT++wuqopYfs8180l0O/hgbzm/\n",
              "emF71H3Tkt3c/uVTCAQtvvur1wH4j3ljACjIS+Wub84jMzWU6AzLSOKub87D5w8yIjuZE8ZlUVRa\n",
              "S0V1IzUNPibmp0ckSdF8+oyxnD5jOEeO1XLfc++Gl1985jiWnT+FnIzem5aoo7/oVRdM4bd/+7jN\n",
              "8rxMD3d/cz7pKR33w/nlDWfiiHEmgu8vO5nqOi9ulwPTgIamOcq60z9IQvTOiYgMFKYf9+QtGC4v\n",
              "3r3TCFbmdPtQp03Pi0iAJo/OYMeB6Lfju50mORlJXHLm+DZ3G2WlhTrldlQrkz8smfSUyJqclqMN\n",
              "t54nseVrt8sR6uMyopMCtTp2bkYSPl+r+a8MIpKfWOaI6/xc7a/rqEN0dpTOzK2lemLvqOxymuG/\n",
              "BYAn0RXzvhKd6s5ERHpJz+p/LNwTt2F6avAXFxA4OqbbR1owKzKb+NT80LHa+77+8dVnNEUQmTAs\n",
              "nN15VpKVlsBliyZ2I8qey8vyMDr3eNNQQW5kbVnLmei/fNHULh378sUTGZ2b0mFt0klTcsjJSOTr\n",
              "n5nepWPLwKAaIBGRbrIsC58/iNvloKbex7Gqhm4fy1XwEY6MEgIVw/Dt6/jL+opzJoU70K78r9P4\n",
              "wWObw+uideQdPyK93WNNLchg2risNmPDRDtOLOv6k9NhcvtXTm1/gxb53JSCrvXHOf/UAs4/taDD\n",
              "bZITXdx59fwuHVcGDiVAIiLddNczb/PxgYo2t0R3lSNnP87h+wjWpeDdPZvOKueTk45/dLudnVfk\n",
              "J7jMpkdHh9sluobWV4JDHYSlA0Prf7uISD/6uKlPzdMv7uj2Mcy0UlxjP8TyufDumAuB6H07zp4z\n",
              "ko3vHALg9OnD+d2LO/nPsyeQk5FEdloCx6raTra6eG4++4qrw7dij85N4XMLx1OQlxLuPOwwj7eL\n",
              "TchPY0S2J3zHVmtfunAqGZ107P3WpbMpr+5+TVhvykwNNc9NzG+/Bkzsy3YJ0ObNm7nxxhuZNGkS\n",
              "AJMnT+YHP/hBnKMSkcHg8LFaaup9TBoVeTt5faO/W8czEmtwT3wHLPDunIvlbf/up+ljs8IJkGka\n",
              "PPjtheF1d19zRtSpGa48b0rk+QyDT80fG7GsZS2JYRj85GuntxtDLOPUzJqQ3ek2/emC0zpuxhL7\n",
              "sl0CBHDqqaeyatWqeIchIoPM9x8N9bXplT4wTi/uyVsxnH68u2cRrGm/j0peZlL41vBxI7p3W3x7\n",
              "WtYAidiJLRMgEZG4MoK4J76NmViHr2gCgWMjue3Lp3DbE/9us+my86dwxozhuF0Ofvilk9sdI+eO\n",
              "q+fh7EYyYyoBEpuyZQ+xXbt2cfXVV3PFFVfw2muvxTscERmEKmu7O9u3hWvsdhxp5fiPDcdfFLqF\n",
              "vCAvFU9C29+ki07Mx93UeXns8DQS3dF/t+ZmJEWMExMr1QCJXdmuBmjs2LFcd911XHjhhRw4cICr\n",
              "rrqKDRs24HZH79iXmenB6ez4zgmAjAwPOTm9WzU9GKjM9mHXcrdn7cu7urWfc8QenDmHCNak49sz\n",
              "k5ajB33j4hP4xf9sIyXJRU29jyuWTOqlaNtKcDto9Aa46PTujzckMpjZLgHKy8vjoosuAqCgoIBh\n",
              "w4ZRXFzM6NHRJ40rL29/wr2WKirqKCmJfVTPoSAnJ7XN2CFDnR3LDLGV224JUr030PlGrZjpJbhG\n",
              "7yDdnc4t51/Ptz94K2L9zPHZPH7LIgzDwLKsiNGUe9uvv3NWn59DZCCzXRPYunXrePzxxwEoKSnh\n",
              "2LFj5OVFn1hPRKQ3OfP2A/Dl6VeSnpAWdZvmhKQ/EhMlP2JntqsBWrx4Md/97nd56aWX8Pl83Hbb\n",
              "be02f4mI9BojgJl6jGBdCpOy1OwkEm+2S4BSUlJ46KGH4h2GiAxih4/Vcqi0tkv7mGllGI4g2Wb0\n",
              "5nYR6V+2S4BERHqqeTygrnCklwIwPjU+E4eKSCTb9QESEYkHM70UK+DgitNPCy/7wRdPZsroDO76\n",
              "5rw4RiZiT6oBEhGJgWVZnW/UDsNdh5lUS6A8l0TX8T6H40akccsX5vZGeCLSRaoBEhGJwd4j3R/+\n",
              "wMwINX8FKob1Vjgi0kOqARKRAa+2tpZbbrmFyspKfD4f1157LTk5Odx2220ATJkyhdtvv71PY/D6\n",
              "uj7uTzNHegkAwUolQCIDhRIgERnwnn/+ecaNG8dNN91EcXExX/ziF8nJyWHFihXMmjWLm266iX/+\n",
              "85+cddZZ8Q61LSOImVZGsD65w9neRaR/qQlMRAa8zMxMKioqAKiqqiIjI4OioiJmzZoFwKJFi9i0\n",
              "aVM8Q2yXmVqO4Qio9kdkgFECJCID3n/8x39w6NAhzj33XK688kpuvvlm0tKOj6ScnZ1NSUlJHCNs\n",
              "n9nU/BWoyIlzJCLSkprARGTA+9///V9GjhzJ448/zkcffcS1115LaurxucdiuUMr1omNIfq8Zkeq\n",
              "GmMPuAVH0+3vwerMdo89EAzUuPqaHcttxzJHowRIRAa8rVu3cuaZZwIwdepUGhsb8fv94fXFxcXk\n",
              "5uZ2eIxYJzZub+LXyorY9m/JcNdjempCtT9WKPkaiJPpapJf+9DExsepCUxEBrwxY8awbds2AIqK\n",
              "ikhOTmbChAm89VZoNvUNGzawYMGCPo3B6w92eR8zXbe/iwxUqgESkQHv8ssvZ8WKFVx55ZX4/X5u\n",
              "u+02cnJy+OEPf0gwGGT27NnMnz+/T2P402t7u7zP8dvfQ/1/xo2wxy9rkcFACZCIDHjJycn88pe/\n",
              "bLP8mWee6bcYSivru7aDEcRMP0awwYPhTea+G87Ak6iPXJGBQlejiEgn/v3RUSpqvF3ax0wJ3f4e\n",
              "KAk1f6V63J3sISL9ybZ9gBoaGliyZAl//OMf4x2KiAxwv35he5f3Cff/qdTt7yIDkW0ToF//+tek\n",
              "p6fHOwwRGaJyx1Rj4iBYlYVhxDsaEWnNlgnQ7t272bVrF2effXa8QxGRocjVQLmvlGGOfLAcDM/W\n",
              "FBgiA40tE6A777yT5cuXxzsMERmiHE3NX2eMncXnFo7n25fOjnNEItKa7TpBv/DCC8yZM4fRo0fH\n",
              "tH2so8dmZHhsM3hUSyqzfdi13N3hyAjd/j4zZxp5Y9QHSGQgsl0CtHHjRg4cOMDGjRs5cuQIbreb\n",
              "4cOHtzuGSKyjx1ZU1FFSYq+7PDSKqn1o9NguMIKYacfIcGeQm6QBEEUGKtslQPfdd1/4+f33309+\n",
              "fn6fD6AmIvZhJldgOP3MypmGod7PIgOWLfsAiYj0FTMj1P9nevaUOEciIh2xXQ1QS9dff328QxCR\n",
              "IcaRXgpBk8mZE+Mdioh0QDVAIiK9JCPDwkyuItUaToLDXn0CRQYbJUAiIh3w+QMxbxtILgYgPZjf\n",
              "V+GISC9RAiQi0oHK2tjmALts0USCKUcByLBG9WVIItILlACJiLRjx4EKnn/lk5i2PfeUfILJJQQb\n",
              "E0m0Mvo4MhHpKVt3ghYRaU9FTSN3/G5rzNvvqz4ATh/BsuGMn5rWh5GJSG9QAiQiEkVNna9L279/\n",
              "7GMAPjPzFBZMH9kXIYlIL1ITmIhIFFYXt//g2Mc4DAfnTJmDqQEQRQY8JUAiIj206NRh7K8+yIT0\n",
              "sSQ6E+MdjojEQAmQiEgPTZ4Wai7T6M8ig4cSIBGRHvqgLNT/RwmQyOChBEhEpEcsPizbQUZCOiOT\n",
              "h8c7GBGJkRIgEZFWDhytweuLbQRoI7mSWl8d07OmaPZ3kUFEt8GLiLSw62AFP1r9ZszbO9I1+7vI\n",
              "YGS7BKi+vp7ly5dz7NgxGhsbueaaa1i0aFG8wxKRAWL/keoube/IKME0TKZmafZ3kcHEdgnQyy+/\n",
              "zIwZM/ja175GUVERX/nKV5QAiUj3OL0YyZWMTx9HkjMp3tGISBfYLgG66KKLws8PHz5MXl5eHKMR\n",
              "kcHMkVaKYcD0LDV/iQw2tkuAmi1dupQjR47w0EMPxTsUEYnBunXreOyxx3A6ndxwww1MmTKFm2++\n",
              "mUAgQE5ODnfffTdut7tfYzIzmvv/TO3X84pIz9k2AXr22Wf58MMP+d73vse6devavXsjM9OD0+no\n",
              "9HgZGR5yclJ7O8wBT2W2j3iWu7y8nAcffJA//OEP1NXVcf/997N+/XoKCwu58MILuffee1m7di2F\n",
              "hYU9O091I7/4fewToJqJtQQbExmVMqJH5xWR/me7BGj79u1kZ2czYsQIpk2bRiAQoKysjOzs7Kjb\n",
              "l5fXxXTcioo6Skr699dnvOXkpFJS0rUOo4OdHcsMsZW7LxOkTZs2MW/ePFJSUkhJSWHlypUsXryY\n",
              "22+/HYBFixaxevXqHidAL2052KXtvbvm8MULdPu7yGBku3GA3nrrLVavXg1AaWkpdXV1ZGZmxjkq\n",
              "EenIwYMHaWho4Oqrr6awsJBNmzZRX18fbvLKzs6mpKSkx+fx+mMb+6eZ5U1i4XTd/SUyGNmuBmjp\n",
              "0qV8//vfp7CwkIaGBn74wx9imrbLA0UGnYqKCh544AEOHTrEVVddhWUdn6+95fP2xNKc/fe3ulYD\n",
              "5HQYQ6ZJdKiUo6vsWG47ljka2yVAiYmJ/PznP493GCLSBdnZ2Zx44ok4nU4KCgpITk7G4XDQ0NBA\n",
              "YmIixcXF5ObmdniMWJuzu2Llf502JJpE1bRrH/Fuzh5IVPUhIgPemWeeyRtvvEEwGKS8vJy6ujrm\n",
              "z5/P+vXrAdiwYQMLFizo97jyMj39fk4R6R22qwESkcEnLy+P888/n8suuwyAW2+9lZkzZ3LLLbew\n",
              "Zs0aRo4cySWXXBLnKEVkMFECJCKDwtKlS1m6dGnEsieeeCJO0YjIYKcmMBEREbEdJUAiIt2w9JxJ\n",
              "8Q5BRHpACZCISBdlpyVy3imj4x2GiPSAEiAREaCypjHeIYhIP1ICJCICHDha04WtOx94UUQGNiVA\n",
              "IiIopRGxGyVAIiJdNGdiTrxDEJEe0jhAIiJd8P2rTmJMnj2mChAZypQAiYgAMcynCsCEkel9G4iI\n",
              "9As1gYmIiIjtKAESEQHUDVrEXmzZBHbXXXexZcsW/H4/3/jGNzjvvPPiHZKIxFmsTWAiMjTYLgF6\n",
              "44032LlzJ2vWrKG8vJzPfvazSoBEJKb6n29dOqvP4xCR/mG7BOiUU05h1qzQh1haWhr19fUEAgEc\n",
              "DkecIxORuIohA5o1YVjfxyEi/cJ2fYAcDgcejweAtWvXsnDhQiU/IoLVSQaU5nH1UyQi0h9sVwPU\n",
              "7O9//ztr165l9erVHW6XmenB6ew8QcrI8JCTY7+xQVRm+xjq5e6oD9BX/2MaM8Zn918wItLnbJkA\n",
              "vfrqqzz00EM89thjpKZ2/KFeXl4X0zEPHakiN9XdG+ENGjk5qZSUVMc7jH5lxzJDbOUeygnS9LFZ\n",
              "pCfb6/oWGeps1wRWXV3NXXfdxcMPP0xGRkavHffJ9R/12rFEpP+lKcERsRXb1QD95S9/oby8nG99\n",
              "61vhZXfeeScjR47s0XEra7w9DU1E4siTYLuPQxFbs90Vf/nll3P55ZfHOwwRGWA0DJCIvdiuCUxE\n",
              "JKoOekEbRj/GISL9QgmQiIiI2I4SIBER1AQmYjdKgEREOqEWMJGhRwmQiAioCkjEZpQA9aJdRZXx\n",
              "DkFkyGpoaGDJkiX88Y9/5PDhwyxbtozCwkJuvPFGvN6eD0Oh/EfEXpQA9aKfPrWFfUfsN0qwSH/4\n",
              "9a9/TXp6OgCrVq2isLCQZ555hjFjxrB27dpeP9/4kWm9fkwRGTiUAPWy23/zbw4fq6Wm3hfvUESG\n",
              "jN27d7Nr1y7OPvtsADZv3sw555wDwKJFi9i0aVOvnzN/WPLxF7oPXmTIUQLUB77/6GZu+OWr8Q5D\n",
              "ZMi48847Wb58efh1fX09bndo6ors7GxKSkp6fA4ryjhAy86bzKwJ2ZoJXmQIst1I0P3J6wvQ4AuQ\n",
              "5tEcQyLd9cILLzBnzhxGjx4ddX20xCWazEwPTqej3fU1vmDE66QkN5edP43LYg91UBvKk9l2xI7l\n",
              "tmOZo1EC1EMjhyVzqLQ26rpbHt5EZY2Xx25ZhKkqdJFu2bhxIwcOHGDjxo0cOXIEt9uNx+OhoaGB\n",
              "xMREiouLyc3N7fQ45eV1XVrf0OCjpMQeffpyclJtU9aW7FjuWMpslwRJCVAPBYPt//psniA1GLQw\n",
              "HUqARLrjvvvuCz+///77yc/P5+2332b9+vVcfPHFbNiwgQULFvT4PLHWJInI0KA+QD106aIJnW7z\n",
              "2nuH+yESEfu4/vrreeGFFygsLKSiooJLLrkk3iGJyCCjGqAeOnFSTqfbPPm3jzllah6BYJBU9QcS\n",
              "6bbrr78+/PyJJ57o03NNHZPRp8cXkfiyZQ3Qjh07WLJkCU8//XS/nfO6+17hxlX/UjW7yCCw8qun\n",
              "ctq0vHiHISJ9yHYJUF1dHStXrmTevHlxOf/2PWXU+jrujCki8ZWfk4KhGxdEhjTbJUBut5tHH300\n",
              "prtGYnVyF34pPvbya9z86m38dc9LvXZ+Eek5Vc6K2IvtEiCn00liYmKvHvPU6bEnQNVlCaQ60vnz\n",
              "nvVsKX4HgJ0HKzh4tKZXYxIREZH2qRN0JzobPA1gSaaHX/3h3dgOGHBR8s4MMk/cwlMfPceEEaP4\n",
              "2dOhff/084t7Gm6/s8t4ES3Zscxg33KLyNCkBKgTnQ2eBqEvhsduWURDY4Dr7nul0+2t+lTOy72Y\n",
              "dYf+hzte+RWG+yQsb9KgG5BLg4jZhwZPE5GhxnZNYH3FNAw8iU5OntL5bfEAz75QSeO+qVR7a3BP\n",
              "3gqmn1seel13iYmIiPQD2yVA27dvZ9myZTz//PP89re/ZdmyZVRUVPTa8b95yQyWnDwqpm0DxQWc\n",
              "knMKpqca94RtlFTU91ocIiIi0j7bNYHNmDGDp556qs+ObxgGhUsmMyonhd/89aPOtuaV/8vEPSUb\n",
              "R2YJztEfs+XjmZw89fgdaj5TZ4yTAAAgAElEQVR/EJfTdnmqiIhIn9I3ax+ZWhDrKLIm3l1zCNal\n",
              "4Bqxl4df+2t4zfo39/ONezay+1Bl3wQpIiJiU0qA+khupocvXzQ1to0DLrw752L5XLjGfMCf33uL\n",
              "d3eX8vyrnwDw1kdH+zBS6W2HSmspq2qIdxgiItIBJUB96OQpsQ+2aDV68O6cC8BfDv+RX/7pdby+\n",
              "YGhdL/aL3vDmfu559m11tu5Dtz62me/+6vV4hyFdZKFrQsROlAD1oaQEJ7kZSTFvH6zJxLdnBobT\n",
              "H7ozzOmNWP/KtkPc9OBr1DX4uh3Ts//YxQd7y6lt8Hf7GCIiIoOdEqA+NmfSsC5tHziWj69oPGZi\n",
              "He6Jb4MRDK/7zV8/ory6kXv/ZxtP/q2zDtYdMzXNkUgEA10UInaiBKiPLZqbT1KCg+y0RM4/dXRM\n",
              "+/iLJhEoy8ORVo5r7Pts/vAIweDx6vlPDlXxz3cOUVHTGF5WVtXAO7tKY45LEz3Gj88f7Hwj6Xdq\n",
              "AhOxFyVAfSwv08OD3z6Lu6+Zz+WLJ8W4l4H3k1kEa9Jw5hRRm/Ix37hnY5utVjzyRvj5fz/yBqvW\n",
              "vktxq5GrSyrq2fxBcZt9zW5UAfn8Af74yu4+G6/IHwjy2799xJ7DVRHL395RwgtNHcIHu6LSWr5x\n",
              "z8YhUx4RkcFKCVA/K8hLiW3DoIPGnXMJNibiHL0DcvaAEYjYpMEb4KH/3U6jLxCuVaiq9UZ0cP7v\n",
              "h9/g4XXv88q2Q9z1zNbw8rKqBv62eT8f7iuPuebo5a1F/Pn1fdzy0KaI5QdLavjLG/t63LH67Z2l\n",
              "bHznECuffCti+f1/fI91r+3F6wu0s+fg8d7uYwCse21vfAORNtQEJmIvthsIMd5Om5bH/uIYZ373\n",
              "JeLdOZeEaZtxj/kIK383/pJRBIpHY3k9ALz54VHe/PD4bfI/ezqU5Kz86qls2VFCsCkpaT0o449/\n",
              "+xb1jccTitXLFwNgWRZbPi5h5oRsElyRk8A++49dUcP84eNvAjAxP53Jo2Md/6itzhKc5vTqhVc/\n",
              "wRcIcunZE7t9rnhp2fIYtCzMVk2R7+wqZdzwVNJTEvotpt+9uIN/f1jMvded2a2aQRGRwUg1QP0s\n",
              "KbFrOadVl0bDuwvwFY0Hy8A1Yg8Js1/BPWkrZloptNNv4QePv8kLr+5p97gtkx8IffFalsVtT/yb\n",
              "X72wnRt++SoAxWV1HC2v4/uPvhG5/c7SNjU+jb4A7+8t48m/fRROvKIJBIP4A5H9YO559m0e/78P\n",
              "w68PHq3htfcOR+7YdMh1r+3lr2/sb/f40ew+VEmjN0AgOHD637RuStx3pJpVa9/l/7WqAYNQ8+Av\n",
              "n9sWtbau+e9QVtVAaWXkMesb/Z3WzL205SBVdT5qe3B3oYjIYKMaoH524qQcnnlxB4VLJvPb9R/H\n",
              "tpMvEX/RZPyHJuLIOowzbz+OzKM4Mo8SrE/GX1xAoDQfgt3/c65a+27kKf1BLMvivx95I/r2f3iX\n",
              "4qoGzp2bH7HPA398D4CTpuQwY1w2e49U8efX9/H1T0/H5TR54/1iHv3zByS6HfzqO2cBUF7dyAd7\n",
              "yyOO/8PVoVqlGeOywsva66Ta6AvgdprtduzecaCCO353vPnvlsITmVKQSW2Dj+REV9R99h6por7B\n",
              "z/j8dD7eX47L6WBMXs9mOy+vbmRNO7VoAGXVDeHtWvtgbznbdh9j2+5jPHrz2XxyqIrxI9N4f085\n",
              "9z23jeVfmBsuY3NtXllVQ8R4RD/7+unkZXnaPb+GhhIRO1EC1M/Sk9088r1FAJx9Yj5fueMfse9s\n",
              "mQSO5RM4lo+RXBFKhLIO4x77IdboHQRK8/EXF2A1xNjPqBMtm9aiWfPiDj785Fj49e9e3BF+fu+a\n",
              "bdx3w5n8v9+EajO+88BrfPmiqTz65w+AUP+lRm+AsuoGHln3QbvnaGzRLNb6C7qm3scLr37CP7YW\n",
              "ceq0XK6+eEab/YtKaiKSH4A7n3mbz581nj/88xOuPG8yi+dGTl578GhNOO75M4bz+vYjAIwbkcaq\n",
              "7y6K2PadXaVkpSYwOjeFvUeqGZWT3G5ZnmqV8H68v4K8zFBCcqi0lvv/8F67+7asxfnLpn08/+oe\n",
              "5kwcFk6a/vrGvjb7tG5qfeD591j51dN44i8fkpbs5vNnTYhY//r2I1xwWkG7MYiIDCVKgAYpqzYD\n",
              "3ycZ+PZPwZlzEGfe/vC/QGU2gWMjsRo8BBuTwJcA3ejg+eif2k9Mmr27+3gC1Lrm4lur/hV+Xtfo\n",
              "58Hnt0es/+a9/+z0+JtbJGG3P/FvLlk4Lvy6uZkOQsnalef5SEmKrNH5QVP/pNb+8M/QXVhPb9jB\n",
              "xPx0KmoaGZ6dTHKiM1z7BPDhvuM1U3sOV/HHl3cxf3oODtNk/Zv7wzU6N3x+Fqv+EFmL9sHeMlI9\n",
              "brbvOcbonJQ2zVellaHkxecPsOn9IxHrDpbUMDzLg9NhcvhYLTX1x5untu4MHeedXaVkpyUCbRtC\n",
              "/YG2zYxFJbW8su0Qr74balpsnQC9+NaBiATotfcOk5OR1KN+XSIiA5Vh2XBOhJ/+9Kds27YNwzBY\n",
              "sWIFs2bNanfbkpLqTo+Xk5Ma03Yd6VJNUFRBzMyjOPP24UiLbE6ygiZWY1LTPw9WYxLBFq8JRG8G\n",
              "Goy+f9VJJLoc/OzprfiDwfB0Ir1pxvgsPj1/bLjDeW+YWpDBR/srIpadOXMEcyfntEmsWnKYBoFg\n",
              "5CW8evnimP4/3Xn1PHIyksLbJrgd/Po7Z/HiWwdISXSFa+tOPyGPL39mBq5OPipycnrWRNjXOrtG\n",
              "9x2p5vbf/Bs43oxoF73xGTYY2bHcsZR5oF/LvcV2NUBvvvkm+/btY82aNezevZsVK1awZs2aeIfF\n",
              "dy6bzevvH+G93ce6OU2FSbB8ON7y4RhJ1Zip5RgJdZgJ9RhN/8yk2qh7Wn4nljcRK+CEoAOCDqyg\n",
              "CQEnBE2spmWh5U2PAQdYJgRNsMzQ9h28xjLoTi1UV/3kt1v6/BzbPylj+ydlvXrM1skPwL/eO8y/\n",
              "WncEb6V18gOhcZNicctDm/jcwvHh143eAD94bDNFpZH/T954v5jSygZWXHlSTMcVERkMbJcAbdq0\n",
              "iSVLlgAwYcIEKisrqampISWld/rNdNeM8dnMGJ8dfl3f6Oe5jbvZ+HZRl49l1acSqI+SwTt8GO4W\n",
              "CVFCXfi54W7AMAMYZt9UCFoWTQmRoympavHcCj2GE6/mdZaJZTUlTc2PGMefd7QOju+L0dRG1OKx\n",
              "zf6hfa0Wz4/vY7TYpkWh2s3nor2HRotVkTtGxNlym2ixRi1PpAf+vBnD3V5szecMJaV/fO0jMJsS\n",
              "VMtsk/w023WwsuMDiogMMrZLgEpLSznhhBPCr7OysigpKYl7AtRaUoKTq86fwlXnT8HnD7Bq7bu8\n",
              "3+pOqS4LuLDqXVj1aaGX0bYxgmAGwAxgmAEwQ68NR8tlzc+DTduHHmN63XRMwwyA09+0PIBm5hgY\n",
              "QomqcbzWrqk2z7dverxDExHpVbZLgFrrrAtUZqYHp9PR4TbQ922md1y/kEDQwtE0UN2B4mqKSmrI\n",
              "y/Lw0b5yxo1IIyM1gevueZlGbw9GTLZMCJihZKnl4p6F39lJwbCOJ0dGc+IVbFoX2sYwrBbbt36M\n",
              "sg5aLKdpf+t4BUz4dYvlTc+NlusizmHRs6a8Fudv+a62ibP18lblioifDv5A0WJtLpeFYQTBtEKJ\n",
              "astlRotlAJYR934Bd911F1u2bMHv9/ONb3yDmTNncvPNNxMIBMjJyeHuu+/G7e6k6qsDWWmhwSfH\n",
              "56f3VsgiMoDZLgHKzc2ltPT43ThHjx4lJyen3e3LW82tFU08OtIlmjChaVqNkyc2NZ0Fg/y6aWyd\n",
              "7vIHgjhMA8MwaPQFaPAGcDkMkhJC/1Wax9qxLIu0dA9lZTW4nA4sy6LRF8AfsDCM0LQClbWNuJwm\n",
              "w9KT8PkDFJfXk5ORRHWdF4dpEgxaHK2oJ83jIinBidvloKyqgd2HqpiUn44vEOTVbYcYNzINp2ky\n",
              "Oi+F8upGqmq9jB+ZRm2DH4dpkJ2eyPt7yshKTcDtcnCwpIaikloqm6YFSU1yM3FUOrmZSQQCFslJ\n",
              "TlI9bo4cq2PrzhJyM5I4VtVAIGBRWevF6TCYd8Jwikpr+feHxTgcJvnDkpk8OgPT5WRvUTk+fxDD\n",
              "MKip8zEi20N5dSO1DT5G56YycVQ6NfU+6hv8HC6ro7isDn8giMtp4klwYhgGi07M57mNuxmVm4zD\n",
              "NNny8VFGZCdjAMMyEjlaXk+jL4DTYZKVlkij148n0cWxygaSk5wEAhaZaQkcPFpLbmYSB4qrcTeN\n",
              "3P3hvnJSPC4mjkynrtHP/BnDOVpeT1KCk7KqBo6U1zFxZDqfHK6iorqR+kY/Xl8Qrz+AwzRp9AUo\n",
              "yE3BMA2qaryMHZHKiltPj2vHyTfeeIOdO3eyZs0aysvL+exnP8u8efMoLCzkwgsv5N5772Xt2rUU\n",
              "FhZ2+xypHjc/v/YMxhVkUVEevSlQRIYO290FtnXrVu6//36eeOIJ3n//fX784x/z+9//vt3t++su\n",
              "sMHIjuW2Y5kh/neOBAIBGhsb8Xg8BAIB5s+fT3JyMn/7299wu928/fbbrF69mvvvv7/dY8T6d7Pj\n",
              "39iOZQZ7ljve1/JAYrsaoLlz53LCCSewdOlSDMPgRz/6UbxDEpFOOBwOPJ7QoJFr165l4cKF/Otf\n",
              "/wo3eWVnZ1NSEtvdbyIiYMMECOC73/1uvEMQkW74+9//ztq1a1m9ejXnnXdeeHksFdmx9ucD+/wC\n",
              "bsmOZQZ7ltuOZY7GlgmQiAw+r776Kg899BCPPfYYqampeDweGhoaSExMpLi4mNzc3A73j6U/H6hZ\n",
              "xE7sWG41gR2n2eBFZMCrrq7mrrvu4uGHHyYjIzQ1x/z581m/fj0AGzZsYMGCBfEMUUQGGdt1ghaR\n",
              "wWfNmjXcf//9jBt3fC64O+64g1tvvZXGxkZGjhzJz372M1yuoTOti4j0LSVAIiIiYjtqAhMRERHb\n",
              "UQIkIiIitqMESERERGxHCZCIiIjYjhIgERERsR0lQD3005/+lMsvv5ylS5fy7rvvxjucPrd582ZO\n",
              "P/10li1bxrJly1i5cmW8Q+pTO3bsYMmSJTz99NMAHD58mGXLllFYWMiNN96I1+uNc4R9o3W5ly9f\n",
              "zqc//enw333jxo3xDbAP2O1aBl3Pdrie7Xgtx0ojQffAm2++yb59+1izZg27d+9mxYoVrFmzJt5h\n",
              "9blTTz2VVatWxTuMPldXV8fKlSuZN29eeNmqVat6dQbygShauQG+853vsGjRojhF1bfsei2Drueh\n",
              "fD3b8VruCtUA9cCmTZtYsmQJABMmTKCyspKampo4RyW9xe128+ijj0ZMsbB582bOOeccABYtWsSm\n",
              "TZviFV6fiVbuoU7X8tBnx+vZjtdyVygB6oHS0lIyMzPDr7OysmwxI/WuXbu4+uqrueKKK3jttdfi\n",
              "HU6fcTqdJCYmRiyrr68f8jOQRys3wNNPP81VV13Ft7/9bcrKyuIQWd+x67UMup6H8vVsx2u5K9QE\n",
              "1ovsMKj22LFjue6667jwwgs5cOAAV111FRs2bAh/iNiJHf7ezS6++GIyMjKYNm0ajzzyCA888AA/\n",
              "/OEP4x1Wn7HL31bX83F2+Zvb7VruiGqAeiA3N5fS0tLw66NHj5KTkxPHiPpeXl4eF110EYZhUFBQ\n",
              "wLBhwyguLo53WP2meQZyIKYZyIeKefPmMW3aNAAWL17Mjh074hxR77LjtQy6nu14PQ/1a7krlAD1\n",
              "wBlnnBGejfr9998nNzeXlJSUOEfVt9atW8fjjz8OQElJCceOHSMvLy/OUfUfu85Afv3113PgwAEg\n",
              "1G9i0qRJcY6od9nxWgZdz3a8nof6tdwVmgy1h+655x7eeustDMPgRz/6EVOnTo13SH2qpqaG7373\n",
              "u1RVVeHz+bjuuus466yz4h1Wn9i+fTt33nknRUVFOJ1O8vLyuOeee1i+fPmQnoE8WrmvvPJKHnnk\n",
              "EZKSkvB4PPzsZz8jOzs73qH2Krtdy6Dreahfz3a9lmOlBEhERERsR01gIiIiYjtKgERERMR2lACJ\n",
              "iIiI7SgBEhEREdtRAiQiIiK2owRIREREbEcJkIiIiNiOEiARERGxHSVAIiIiYjtKgERERMR2lACJ\n",
              "iIiI7SgBEhEREdtRAiQiIiK2owRIREREbMcZ7wAGupKS6k63ycz0UF5e1w/RDCx2LLcdywyxlTsn\n",
              "J7WfoumeWK5lsOff2I5lBnuWeyhcy71FNUC9wOl0xDuEuLBjue1YZrBXue1U1mZ2LDPYs9x2LHN7\n",
              "lACJyICyY8cOlixZwtNPPw3A4cOHWbZsGYWFhdx44414vV4A1q1bx+c//3kuvfRSnnvuuXiGLCKD\n",
              "kBIgERkw6urqWLlyJfPmzQsvW7VqFYWFhTzzzDOMGTOGtWvXUldXx4MPPshvfvMbnnrqKZ588kkq\n",
              "KiriGLmIDDZKgERkwHC73Tz66KPk5uaGl23evJlzzjkHgEWLFrFp0ya2bdvGzJkzSU1NJTExkblz\n",
              "57J169Z4hS0ig5A6QduU1xfgo/3lnDAuC4epPFgGBqfTidMZ+bFUX1+P2+0GIDs7m5KSEkpLS8nK\n",
              "ygpvk5WVRUlJSb/GGs3uQ5WkJ7sZlp4UdX0waLF9zzGmFGRiAC9tOUhGagJj8lIZke3h71sOkp2W\n",
              "SKLbQXZ6IvWNfgJBi/Wb95OX5eGzC8fzxvtH+Oc7h5gxLgtfwMJhGricJtlpiew+VMnp04dzz7Nv\n",
              "M2/GcCqqG0lKcDJxVDq//dvHjMj2UFvvo6rOR1qym1On5rL/aA2TCzJ56a391DcGKMhNYVhGEjV1\n",
              "XsqqG3E4TIrLQp1mx41IxeEw2XWwsk3ZMlMTyM1I4uMDoZq4McNTOVxai9cfJC8ziczUBD45XEX+\n",
              "sGT2HI7skD4i28PhY3Xh5w7T4KQpufz7o6MYBmBB0LIoq2rEYRrMnjiMD/aWUVkbag4dOSyZQ6W1\n",
              "ACw7bzIVNV7Kqhqoqfexbfcxhmd5OFJWx/SxmRSV1JKRmsC+I9WcfdIoSsrqKK2op7i8nlOm5tLo\n",
              "C3CsqoFg0MJhmhwsqcHpMMnJSAzHCOAwDUzTwOcPMnlUOlnpiew8UMG4EWm4nCbv7j5GbYOfNI+L\n",
              "zLRE9h2pxjDAstr+vyjITWH/0RpG5SSTluymosYbLs+YvFRq6r0cq2oEwOkw8AeOH2RYeiKWBXWN\n",
              "fgLBIF5fkJQkF75AkIyUBDKS3Xx8oILCJZOwgFmTc8lLS+jkf7I9KAGyqWf+vpNXth3i8sUTOf/U\n",
              "gniHIxITK9q3RwfLW8rM9MTcAbQ7d8FYlsVX7vgHAH/6+cVRt/nrpr38au27nH3SKBJcDta/sS+8\n",
              "buU35vH7v+/s8BwzJ+Xy2J8/BGBnlCQE4O9vHQTg5a1F4WWvbz8CEPEFXlXr5e9bQtvuOHC8+XD/\n",
              "0Rr2H62JeuzWiUtL5dWNlFc3hl/vO3J82+LyUILR3jFaxtX8/GDJnnbPten9IxGvm5MFgKc27Giz\n",
              "/ZGmBO6DveUA4cRpY1P5m/37o6NRz+cPBCNiBAgELQLB0P+7HQcroenvcawqMhGvqgslnBA9+QHC\n",
              "7/fBklooqY1Yt6848v1qmfwAlFY2tDleTX3ofMVldeHk9Zmm/1u///vOdv9/2o0SIJv6aH/og6Dl\n",
              "h5TIQOTxeGhoaCAxMZHi4mJyc3PJzc2ltLQ0vM3Ro0eZM2dOh8eJ9XbnnJzUmG+ZbynY4tutvf3f\n",
              "3xX6ctz60VGS3JHJ2I49xzo9x859nW8j0pnO/n/rNngRkQFg/vz5rF+/HoANGzawYMECZs+ezXvv\n",
              "vUdVVRW1tbVs3bqVk08+Ob6Bdl4J1SHDMDrdxjQ730bixAiCqxEjqRozpQwzoxhH9iEcWYcxM45i\n",
              "ppdgph7DTCnH8FRiJFVjJNRiuOvB2QgOHxgBevwfSWKmGiCb06UmA8n27du58847KSoqwul0sn79\n",
              "eu655x6WL1/OmjVrGDlyJJdccgkul4ubbrqJr371qxiGwbXXXktqanx/tVoxXE0R6UurhCeW5MbA\n",
              "LglQ83sZ5/KafoyEegx3A4a7HsPdiOH0gdOH4fRGPncEeu20lmWAZUDQDD1aZtMys+2yiPeo8/+D\n",
              "Vl0qlrUopoR7qFMCZFP6ry8D0YwZM3jqqafaLH/iiSfaLLvgggu44IIL+iOsDpVXN5Ke4qam3h91\n",
              "fX1jaHlSwvGP26paL1VN/VCaHSiO3u+mpc0fFvcg0t4QBFfTF78ZwDCDYAbAsDDMQKgWpGmZEX4e\n",
              "bLEucPx183bNx4h4HiTU89kBQRMr6Gh67sAKmlGWt3gecGIFHBBsfmzaL+CEgAMrGHrEMsHpxUgI\n",
              "JTdmc6KTUB9KdhIaQuXsgBUwsfxurEYPQb8L/K7Q6+bnAScYwVC5mt+PTl9boWVNjxhWi+0CTTVF\n",
              "TduYFm2Tniif7i02scwgFpaNkun2KQGyKdX8iPTcrqJKfvrUFs4+MZ+NbxdF3ebaX7wCwOrli9vU\n",
              "+rT00taD7a5r1jd99qxQ042rEcPljXjE2fq1r6MidP3MFhGJjeV3QTAhlMxAZHLk9IHZgGEGejWG\n",
              "qHEFTCxvEsGadCxvIlZjEpY3CcubgNWU5OB3gTU4R1U2P63eL6AESESk2z5uupmgveRnwDECGJ4a\n",
              "TE8Vpqcao/mxk+Yby+/E8iVg1adg+RLA7w7VroSbZJprYJqfNy9vqp1p3i7gwGpaRtARasrpck2E\n",
              "1VQr0rrWKNBUQxLAMP3gaFrmCISassKv/eHt8buxvIkEG5MiEh38rm7EJYONEiCb0qUtMsQ5vJie\n",
              "aszkKgxPNaanCiOpNtS00sSyDKz6ZAL1KeBLwPK5Q4mOz43lT4Cm11gDqcagqX9MwISAK6I2Ox41\n",
              "24luBw3e3uv/01MnThrG2ztLO99QlADZXSzjp4hI7+jbHx4WZmoZjpyDmKnlmAmR48NYAUeoSacu\n",
              "jWBdKsG6NKy6lEHbjDNQOB0mMHASIH2kx25IJkA7duzgmmuu4Utf+hJXXnllxLrXX3+de++9F4fD\n",
              "wcKFC7n22mvjFGWc6Q4AkT7T/MPCarWsT76bHD4cw4pw5h7ATAoNomd53QQqhjUlOU3JToMH1f32\n",
              "PqdD7+lgNeQSoGiTKbb04x//mMcff5y8vDyuvPJKzj//fCZOnNjPUQ4A+pkg0mPNIwG39tU7X45p\n",
              "WU8YnkqcuQdwZB/GcASwggb+0hEEjhYQrMlAyU7/SPOEpq4YKNyujpsrF588up8iGfgGUsNur4g2\n",
              "mWKzAwcOkJ6ezogRIzBNk7POOotNmzbFIUoRGQoqa/v5i88M4Bh2kITpm0icsQln7kEsnxvfgck0\n",
              "vHM2vk9mE6zJZLAmP0kJXWuO+9KFU7t9rkR323OdPCUn4nWoeSu6OROHMTE/nW9+dka3zj9n4rCI\n",
              "oRFidcWSSQzP8nDleZOjrj9rTj6mYTBrQjYAhUsm8dkF48Lrv/ypE7oV71A05BIgp9NJYmJi1HUl\n",
              "JSUDcgLFuFATmEiP9VdFqpFYg6vgQxLnvIx7/HaM5EoC5Tk0fnwSje8uxH94PPh7Z4LLM2YMb7Ns\n",
              "9fLFJCe2/2X9mTPGRl2ekeJuc5yOfOeyOaxevjjqdsvOnxLxOj8nmYWzR4a3v/e6Mzo89rknj2b1\n",
              "8sWcNj0PgLRkN3dce2Z4/awJ2Vzz2ZkR+zzyvbPbjfmG/5zFimUnkZfpienj9Bct4vvRl07hhv+c\n",
              "xf3fWtDpfquXL45I9M49eTQ//frpLJ47KrzsvuuPl8PtMnnslkV869LZrF6+mCUnj2ZRi20zUjUR\n",
              "arMh1wTW22KdQHGwzZ3S3G6dmODqUeyDrdy9wY5lBvuWu0N9nAEZ7npc47bjSA/NAWZ53fiKxhMo\n",
              "GR26XbsPtFeijkYObu9t6NPRhrv41jeHEggEgdBs7r11E0h3D9Nb707LUcTVuyF2tkqAWk+g2Dyx\n",
              "YkdimUAx2uSJlbVeUj0uzAFa09I8o3BDo69bEz9C9yeNHMzsWGaIrdx2TJD68rvGSKzBPeUtzIQG\n",
              "AlWZBI4WECjPi9st6R1N1dFH3bsj9PSTNJwANfXbcrQqT59/Ukf5Log1QewsUYsoSpRNdbdvdEOu\n",
              "Cawjo0aNoqamhoMHD+L3+3n55Zc544yOq01jteNABf+3aS8Ah4/V8u37/8XD//t+rxy7LwzMtExk\n",
              "cOmr7xUjuZKEaZsxExrw7Z+M96PTCJSNiOt4PB1NVdZ+DVAXT9LR9q3WdfWtb042gk0JkGkaEcfo\n",
              "67mx+vLoLWOPlowq/4luyCVA27dvZ9myZTz//PP89re/ZdmyZTzxxBO8+OKLANx2223cdNNNfOEL\n",
              "X+Ciiy5i3LhxnRwxNnf8bit/+OcnlFbWs/dw6Jfyvz862ivH7gu6HkR6Q+9fSWbqMRKmvglOH949\n",
              "J+A/Mr5Xj5+fk9zpNte26gsD8M1Ljnf2nTwqPfz8hv+cxTknjSI/J5nRuSnhfj+fXTg+pi/9pAQn\n",
              "X7pwKuNHpjEmr/1axFOn5vKZM8aSl5nEiGwPX74osgN0WrK7nT1Dzm26++nSRRPJH5bMly6cytQx\n",
              "meFa+v88ewIA1zSV8/NnHX/fPzV/DHMn54T74nx6/tiIY3/r0lkRr2eOz2bR3HzOnDWCpYsnMrUg\n",
              "gxSPi6sumMKE/LSIv8Hsps7KrS2cPZKzT8wH2v9fdumiCUwfm0mi28FV509h3IhUCqK8hykeF9PG\n",
              "ZHL5Yhve8dyBIdcE1t5kis1OOeUU1qxZ02fnDwSUWohI95gZxbgnvgOAd9ccguWhDsnTxmTy9c+c\n",
              "wLfv/1d42199ZyHX3PtKu8davXwxz760kw3/PhCxDOArd/wjvOzck0dzwxVz+fL/W09pZQOWBSdN\n",
              "yeHbl83mF/+zLbzdpFEZ4ecnTc1l+ZUnRZxv5VdPaxPDK+8c6jC+lhbOHtnpdpcsGM8lC6InhO11\n",
              "N/jO5bOZMe54kjFyWKvM2j0AACAASURBVDIr/ysUq8vp4LFbFkVsf/LU3DaxfW7hhA7jnDVhGCu/\n",
              "eio/ePxNAL592eyI9eedWgDA2XPyOXtOfsS6Gy89vm3z3+UzZ4xtt5wtXXjaGC48bUzo2CfmhxOm\n",
              "1kzD4HtXnNjp8exmyCVA8TZY0h81gYn0XG82LTiGHcQ1bjsEHXh3nkiwalh4nWl078bNnsTXUf/F\n",
              "WPs2DoQukP0163lv/Fcwmo7T5u82WL5YBhklQD1kWRaFP/hr5DL9bxWxhd5KgJzD9+Aq+BjL76Lx\n",
              "45OwajMi1pum2eZrPJYv9u51fg3t0xvJy0BIgPrr115v/F8wDKNpxPDIg+kbpW8oAeqhZ17cSXXd\n",
              "8cHQLMsaVB3OBlOsIgPNO7t6OumkhXPUTlwjP8HyJtD48clY9W37cBhGlE66MXyxB7twgbc5fAfZ\n",
              "S6yJTX/VvnQcQ//ojTutjKYqoLY1QPqg7gtDrhN0f9u606YDKYoINfW+Huxt4Rr7Aa6RnxBs8ND4\n",
              "wWlRkx+A+TOGt01QOjjyBaeF+pycPv34oIYLZo0IP//U/DHh56dOCw0F8ql5YwE4Y2Zou9G5KVH2\n",
              "C21zwtjjA8p25FMtOgtnpyU0PSbGNOJzSpKL9E46NrcW7bj9lQDlZITGZWoeaLE7mjtin9RqROrp\n",
              "40Lvd8u/m/ScaoB6aEBU8YrI4GIEcY1/F2f2EYK1qTR+fHJ4JOclJ4/iskUT+frdG8ObTynIjNg9\n",
              "Ky0h4rPnwW8vxO0ysazQjRgJTdM8TByVziPfOxuInNbhcwsn8JkzxkUsXzB7JPNmDA+/Tkly8cj3\n",
              "zm6133g+c8bYDqeIaOnMWSM4/YS8UA1WUypy59XzYuom0HJ041g9+O2zIjp496ekBGeb96urzj+1\n",
              "gHNOGtXmGHmZnh4fW9pSAtRDgzX/UeImEiemH/fEd3BklBKozsS7Yy4EXOHVLqfZ5ouube2PQctP\n",
              "n5ZzSrUeuL69L81oy1svi2WbzrTePjSgYucfQB0NvNgl/fhh1xsJSlf+XtIzSoBERPqLw4d78hYc\n",
              "qRUEKnLw7poDwVYZS5TKEdMwIrqBGN28K8yO9DZJe5QA9Vjk5VVZ4+W9T47FKZauU9c6kf7jyt+F\n",
              "I7UCf+kIfHtmRh3ZOdo1aRi0SYAkNnqvpD1KgHrZXb9/O94hiMgAZaaWYQXNdpMfgEn56W2WuZ0O\n",
              "WqZGp0zN0xd7O3IzkzhaXh/vMGQQUAJkc/oMFem+EycN4+2dMd4Kb/oxPNUEqzO58NSx/HXz/ojV\n",
              "GSluvnjBVGY1TY1w73Vn0OANYJoGLmcoWbrjG6dTVetj/Mg0jTfWjs8tHM9DLeZh7Os5vmTwUq+q\n",
              "Horl2iqvbuzSeBz9aWBGJTI4tJ5RvCNmSgWGAcGajKi3Ss+dnMPsicPCX9gZKQkMz/KQ23R7NUBu\n",
              "poeJo9IxTWNAjLEzEMU6SrWIEqA+tudwFTc9+BpP/N+HBIMWPn8g3iGJSC/pyg8IM7UcgGB1ZtT1\n",
              "Xf4xou/5mCgfkvaoCayP7TpYCcBr24/w2vYjAKy6cQEpSa6OdhORFoLBID/60Y/YuXMnLpeL2267\n",
              "DY/Hw80330wgECAnJ4e7774bt7trA+f1WBeyFjOlKQGqyYi6vquVxPpej41qyqQ9qgHqoU5/XURZ\n",
              "v7uosk9iERmqXnrpJaqrq3n22Wf5yU9+wl133cWqVasoLCzkmWeeYcyYMaxdu7bf44q9aTuImVJJ\n",
              "sC4FAqEkLTkx9PtzWHoiAMOzPF06t/q2RJeRmhDxOsWjH5sSnWqAeqizXxc1dW2Hyg8E1fNGpCv2\n",
              "7t3LrFmzACgoKODQoUPs3LmT22+/HYBFixaxevVqCgsL+zWuWPMfw1ON4QgQaFH7c/tXTuWTQ1VM\n",
              "H5vFtt2lnDI1t8vnv+nyOW2+8O1uYn4637xkBlmpCVTUeLucWIp9KAHqY396fW+bZf5AsP8DERnE\n",
              "Jk+ezJNPPskXv/hF9u3bx4EDB6ivrw83eWVnZ1NS0v/z8sVaAxSt/09WWiJZaaHan3knDI+6X2dO\n",
              "GBfbnFx2051kUuxnSCZAP/3pT9m2bRuGYbBixYrwL0eA3/3ud6xbtw7TNJkxYwbf//73e3aybtRC\n",
              "D6gaoAF6d5pIS2eddRZbt27lC1/4AlOmTGH8+PHs2LEjvD6WmbgzMz04W88T0Y6cnOiTkrbmcsV2\n",
              "PDOlAoBgTSgByspKjvkc/WWgxdNf7FhuO5Y5miGXAL355pvs27ePNWvWsHv3blasWMGaNWv4/+3d\n",
              "fXxT9aE/8M/JYx8S2rQ0hRYQrEKxiorARECHK3c+bD+3XR2VId6r1/3c0G0Opqy/XcA5HrzXsU1x\n",
              "bipyd/UqKOsm8wn0DsVhAUEFAaG0QikF2qQPadOHNMk5vz/Spk2bpCdN0tPkfN6vF682OU/fk3KS\n",
              "T77n+wAATqcTmzZtws6dO6HT6XDPPffgs88+w1VXXTWsZZTzZh1vbD9Aieahhx7y/15cXIzc3Fx0\n",
              "dnYiJSUFdXV1sFrDf+tvamqXdZycHDNsttaw67g9IjxeES6XR8YeJWjNTZC6jJBcvi7tYpdn0GMM\n",
              "JznnnIzUeN5yzlktASnpAlB5eTmKi4sBAAUFBXA4HHA6nTCZTNDr9dDr9Whvb0daWho6OjqQkTFw\n",
              "1NVIJHqMUD6KEQ3u+PHj+NOf/oR169Zh9+7duOyyy5CRkYEdO3bgtttuw86dOzFv3rxhKcu7H9fg\n",
              "lf89KXt9wdABweCCtzEXPe8Yo9KHubcaEQ2QdAHIbrejqKjI/zgrKws2mw0mkwlGoxFLly5FcXEx\n",
              "jEYjbr31VkyaNEnB0hKRHJMnT4YkSbj99tthNBrxxBNPQKvV4pFHHsHWrVuRl5eHb33rW8NSltf/\n",
              "cSqi9TVm3+0vb4jxf4hIGUkXgPrre7vJ6XTij3/8I9555x2YTCbcfffdOH78OAoLC0NuP1i7Aa02\n",
              "8pEEzOYUxasYe8qdYtRHVRalz0MJajxnQNnz1mg0WL9+/YDnN2/ePOxlibTWtHf8HwYgopEk6QKQ\n",
              "1WqF3d47N099fT1ycnIAAFVVVRg/fjyysnw9J2bMmIEjR46EDUCDtRsYSoPmlpZOxe87e7t7onW6\n",
              "3EMuC++fqwfbDQydxtwEyauF1M7Xh2gkSbqBEOfMmYMdO3YAAI4ePQqr1QqTyQQAyM/PR1VVFTo7\n",
              "OwEAR44cwcSJE6M6XqK2AUrUchMpL4IvPVo3hFQnxLaMkLO/E5Eykq4GaPr06SgqKkJJSQkEQcCq\n",
              "VatQVlYGs9mMBQsW4N5778WSJUug1Wpx9dVXY8aMGUoXmYiSlH8CVLb/IRpxki4AAcDy5csDHve9\n",
              "xVVSUoKSkpKYHSsZe5P/z7sVqKlrxYrF1yhdFKKEljuuE80IPf8XESmHdbIKeKO8WukihPW/B8+i\n",
              "4iznKyOKhkGvQU5+BwAGIKKRiAEoSucb5A2u1lddY+TbENHIIHccU61GwumWGlh0owEvJ+QkGmkY\n",
              "gNSOIyESxYWQ1gK36IbVkK90UYgoCAYgtUrCtktE8XbqfAs6u7yy1hW6x/9hACIamRiA1Io1P0QR\n",
              "e+xPB2SvO26SGwBg1efFqzhEFAUGICKiKG16ZL7/99X/OhPPP/xVNInnkWnMQLp2lIIlI6JQGIDU\n",
              "irfAiGJG6DMehiQBDZ1NaO1y4uKMiwKWEdHIwQCkcrwTRhR7VQ7fhKkXZ0xUtiBEFFJSDoRIg+N3\n",
              "UqKBGhyd2LKrCtYMI1INOozJTkOaUYcjpxpx43R5jZlFScKXjtMAgILMibjgjGOBiWjIGIBUijU/\n",
              "RAM9/vInsDs6A57TagR4RQmpRq3s/VQ5qmHQGpCfPhbGXBcA4JopOTh4wpaUo8cTJSIGoOGm8UCX\n",
              "ewbt7tlI06cqXRoi6qN/+AEAryiFXBZMu6cDF9rqMMVyCbQaLXKz0vCbB+fCnKZHp8sLrZYJiGgk\n",
              "YBugYaYxN0E/vgJ7zu1TtBx8CyaKjNwRoM911AAACvq0/8lIN0AjCEhL0cGol1+TRETxwwA0zMR2\n",
              "MwCgsvlLhUtCRJGQZCag2vazAICLMyfGsTREFC0GoCiNzU6LbAN3CsTOVFQ5qiFKYnwKFQG5b+pE\n",
              "atfhkjcCdG1HDQQImDRqQpxLRETRYACKUnpK5JMciq0WdHg6cL6tLg4lkos3wYgi8e6BmrDLM9IN\n",
              "gCCirvMcxpnGIkWXMkwlI6KhSLoAtHbtWixcuBAlJSU4fPhwwLLz58/jzjvvxO23346VK1fG5HhL\n",
              "bpoS8TZiaxYAoLL5VEzKMDSD1/ywdohIvl/eOwtLvpULr+Tl7S+iBJBUAWj//v2orq7G1q1bsWbN\n",
              "GqxZsyZg+fr163HPPfdg27Zt0Gq1OHfuXNTHHJ0R+bc80WkBAFQpGoAGx/hDJJ85zQB3SgMADoBI\n",
              "lAiSKgCVl5ejuLgYAFBQUACHwwGn0zcKmSiKOHjwIG688UYAwKpVq5CXp8wkhVJnGsx6EyqbTylY\n",
              "y8JbYESx9qWjGkBgDzAiGpmSKgDZ7XZYLBb/46ysLNhsNgBAY2Mj0tPTsW7dOtx555349a9/rVQx\n",
              "AQgoyJwER1cLGjobFSzHIFgFRCSb1D0CtMWYCUtKptLFIaJBJPVAiH1rVyRJQl1dHZYsWYL8/Hx8\n",
              "//vfx/vvv4+vfvWrYfdhsaRBpws9bkenyzOksl01rhCf2T7Hefc5TJ0wcUj7iIZO58u+BoMOOTnm\n",
              "oOuMzjFDqwlfUxRq22SmxnMG1HvectW32+B0t2FG7lVKF4WIZEiqAGS1WmG32/2P6+vrkZOTAwCw\n",
              "WCzIy8vDhAm+rqmzZ8/GyZMnBw1ATU3tYZe7uuR1je0vVzcWALDxrV04mKHDv9w8dUj7GSqPx9cF\n",
              "v6vLA5utNeg6NlsLtJrQlYQ5OeaQ2yYrNZ4zIO+84xmQ2tra8Mgjj8DhcMDtdmPp0qXIycnB6tWr\n",
              "AQBTpkzBo48+Grfjy1HF219ECSWpboHNmTMHO3bsAAAcPXoUVqsVJpMJAKDT6TB+/HicPn3av3zS\n",
              "pEnRH3SITWkOfNIJyauFxtyI3YfOh1xPkiRU1DTD5R5a0IoGO4HRSPGXv/wFkyZNwosvvojf/e53\n",
              "/k4OpaWl2LJlC5xOJz744ANFy9gzASobQBMlhqSqAZo+fTqKiopQUlICQRCwatUqlJWVwWw2Y8GC\n",
              "BSgtLcWKFSsgSRImT57sbxCthDfKz8Aw2QJtph3QuUKud6iqAU9uO4yrLhmNH90+LWbH54SMlEgs\n",
              "FgtOnDgBAGhpaUFmZiZqa2sxbZrvmpg/fz7Ky8txww03KFbGLx2nkaJNQZ5pjGJlICL5kioAAcDy\n",
              "5csDHhcWFvp/v+iii/DKK6/E9HjR5Aix1ReANOamkOvU1Pt6sX1WaQ+5DlGyu/XWW1FWVoYFCxag\n",
              "paUFzzzzDH75y1/6l2dnZ/s7PCihtcuJunYbpmZNhkZIqop1oqSVdAEokfSMB6QNE4DiXVHD21yU\n",
              "CF5//XXk5eVh06ZNOH78OJYuXQqzubfNkZzhJAbr0BCNBtQDAK7Im5KwjcUTtdzRUuN5q/Gcg2EA\n",
              "UpDozIAkCmFrgJTEcEQjxSeffIK5c+cC8NXqulwueDy9PTDr6upgtVrD7mOwDg3R+PTMFwCAMbqx\n",
              "CdlIno371UPpDg0jCetqoxRVWxpJC7EtA0JaCzo8nbHfvwzh9z94AhIliVNmUNxddNFFOHToEACg\n",
              "trYW6enpKCgowIEDBwAAO3fuxLx58xQrX1XzaWgEDSZmcAJUokTBGiCFia0WaM3NOOWoxmXZkc8r\n",
              "Fq1os8uyp/cgy2zEv989MzYFIgpi4cKFKC0txeLFi+HxeLB69Wrk5ORg5cqVEEURV155Ja677jpl\n",
              "Cid4UdN6FuNMeTBqDcqUgYgixgCkMN/EqKdQ1XxqWAOQnIolOeHI4eyCw9kVdXmIwklPT8fvfve7\n",
              "Ac+//PLLCpQmkCa9BR7Jy/F/iBIMb4FFLbp7VKIzE5IEVDpG9sSoRBRcTxs+zgBPlFgYgKKk12nw\n",
              "87tn4pf3zPI/d21RrvwdePWQ2s043VIDtzi0aTXihS17iAanz3AA4AjQRImGASgGrpuWh3FWU+8T\n",
              "ESYH0WmBR/TgTMvZ2BYsWkxARIOQgPRGZKdkIcM4SunCEFEEGIBGALHVNx5QVfPA22ACh2wmGrGE\n",
              "lDZA6+b0F0QJiAEoDiKtOPF2B6CR1g5IYhUQUVg97X8K2P6HKOEwAMVBxHU27hTkpGbjS8dpiJIY\n",
              "3b7kUrBi6Z19Zzi1ByUFjak7ALEGiCjhMADF0NjsNABA4UWWiLctyJyEDk8nzjkvyN7mcJUdP392\n",
              "LxzO0JOpRiNe4xu+uqsST247HJ+dEw0jTZoTesGIMenhR6EmopGHASiGli28CgtvvARzrhgDU6oe\n",
              "AJCRLm9gtFSP7w30SP3JwAVhamp++9ph1DW244ND54ZUXjVobe/C/i/qOFo1xYX7zBT88Kp/4QSo\n",
              "RAmIV20MZY1KwddnTYBWo8ED37kC460m/GLJDHxt+rhBt337Pd/cLH/55CA+rVBuVut4G+4gsuHV\n",
              "Q/jD60fxSQVvuVHsia3ZmGwpULoYRDQEDEBxMnl8Jh69ZxayM1LwvX+aPOj6kisNUpcRWnMTPqns\n",
              "DUAXGmRM4NidKdweL+zNHRGVM1wgSYZKk+oLvmBpd0T2uhARUXJjABoxBHhbLRAMLnQJvTP1fnj4\n",
              "vOw9rHnxIB7+Q7msNkGCQq2gkyBTERFREki6ALR27VosXLgQJSUlOHw4eEPbX//617jrrruGuWSD\n",
              "E52+xtNOTd2Qtj9T5wQANLTEqlF08sSVZKjNIiKi2EmqALR//35UV1dj69atWLNmDdasWTNgncrK\n",
              "Snz88ccKlG5wPQMi9gSg1nZ5k4zys52IiCgySRWAysvLUVxcDAAoKCiAw+GA0+kMWGf9+vV46KGH\n",
              "lCgeACDcwM5SuxmSR4dWoQ7vf1qLHz/5j+ErWLDyJMxOiYiIIpNUAchut8Ni6R2DJysrCzZbb4Pi\n",
              "srIyzJo1C/n5+UoUDwCgCTu1hQDRmQmXpgXvH/lyyMeI1QjOvG1ERETJSqd0AeKpbw+n5uZmlJWV\n",
              "YfPmzairk9/GxmJJg06nHXS9nByzrP1pNAK8YuhkIbZaoM20Q0prBBC4zx0HzmLuVfmYODZw0sW0\n",
              "NEPA8S2ZaYOWR6f3ZV+9QRdy3dGjTTCnyRvHSO75e729I13L3SYW0tONMTvecJZ7JFHreRNRckqq\n",
              "AGS1WmG39473Ul9fj5ycHADA3r170djYiO9973vo6urCmTNnsHbtWpSWlobdZ1PT4N3Qc3LMsNla\n",
              "B10PGHwGCrE1CwDQoatH/wC09b0KbH2vAi+suDHg+bY2V8Dxm5raYUvThz2Ox+MLIl1dnpBlt9ud\n",
              "6EwNvZ++H4hyz98r9gYgudvEQv/XaKgi+VsnEznnnegBqb3TrXQRiGgYJdUtsDlz5mDHjh0AgKNH\n",
              "j8JqtcJkMgEAbrrpJrz11lt49dVXsXHjRhQVFQ0afuJB0ISPQGJbBiRRgy5jnAdDVOj2Vrxvq/UE\n",
              "rC/PtaDL7e09Lhsf0SBa2xmAiNQkqWqApk+fjqKiIpSUlEAQBKxatQplZWUwm81YsGCB0sUDAAyS\n",
              "fwBJA9GZAbe5GdB4AFG5P1GiTR/x1w+/xPY9p/GvtxRi81vHMa0gW+kiUZKyWlJR38TBNYkSWVIF\n",
              "IABYvnx5wOPCwsIB64wbNw4vvvjicBUpgJxMITot0I5qgsbcBNGRE/kx5KwkYxzExIo/wPY9pwEA\n",
              "O/fXAAAOVzUoWBpKZsoMI0pEsZRUt8ASgZxQ0TMekMbcJG+fiZZU4o2fThRvYXtzElEiYAAabnJq\n",
              "gFotkCRAY5IXgIZyDFlv3yH24/aIOFM3chsCBz03hkSKIcYfosTHADTMcjJTBl9J1EFqHwWNyQEI\n",
              "4qCrD+XLaDR54NntR7F688c4XBl5Q+1Y1lYdrmrAPev/jqpzjtjtlEgGVgARJT4GoGEya6oVozNS\n",
              "8J3rC2StL7ZaIGhEaNIH/3CPNFQ0tnTibL1z0PU2ln0Oj3dgADtY4Qs+lTXKBo9Xd1UCAHbsOxPw\n",
              "vBDk04kVQERE1FfSNYIeqe6/7XIAwBfV8m5reVst0I2phsbc6J8ktS9HW+h5wgbr8r389x/JKkNl\n",
              "rQMnappRNDEr5JEil/hRpKrWgYMnbLhjfkHQsDXSSZKEdz+uweUXZyNvdLrSxZHltddew/bt2/2P\n",
              "jxw5gldeeQWrV68GAEyZMgWPPvqoQqUjokTEADTcZFbXBDSEPj9w+UNP9c4T1n+PoQ4hilLY4BRU\n",
              "mOKO1MbXwSJJLLv0r3nxIADgqktHY/L4zJjtd7hUnWvBlr9XAn+vHDCo5kh1xx134I477gDgm/T4\n",
              "7bffxpo1a1BaWopp06Zh2bJl+OCDD3DDDTcM+Rgj9L8zEcUJb4ENM9lvsh4jxM40aEzNkWwV1h9e\n",
              "P4JlT+8JLM8wv+sPy/GGqVLG3T2adktbF8SRmgaDaO/0KF2EqDz99NO47777UFtbi2nTpgEA5s+f\n",
              "j/Ly8qj2G0lIDj+nHxElAgagYRbJx6TYaoGg80BIi6zHVVtH8BFtD5wYwujS4Wavj3xvSedsvRM/\n",
              "eeof2PzmF0oXRbZE/uw+fPgwxo4dC61Wi1GjeufEy87ODpj4eChGZ6TKXvf/zJ0U1bGISHm8BTbM\n",
              "IvmWKbZagJxaaMyN8LaPCrNm4D5f+d+TuHqyvAEUo/kwHMptpWQLTZW1vobge45cwL3fuEzh0iS/\n",
              "bdu24dvf/vaA5+X8X5Q7sbEcF+X33vpM9DnQeiTLeURKjeetxnMOhgFouEWQAHomRtWam+Ctmyh7\n",
              "u4aWzsBDSlLIxroJdOdGNiGCe2Aer4gPD53DNYVWjOqe+X7vsQuABFxbNEbOwQL8+YMq7DtWh3X/\n",
              "91poNSOzgjWBK4Cwb98+/OIXv4AgCGhubvY/X1dXB6vVGnZbORMby9Xc3LuvZJgcl5P8qocaJjaW\n",
              "a2S+QyexSPKG5EqF1GXsHhCxd8v+33bf+Kgabo8XoTzw2w/xdNnnEZbUJ9IPy/IjF9Dg6Bx8xTAk\n",
              "SYqu0XKQQofa3QefncOLOyvw+z6vz7Pbj+HZvx0b0qHfLK+G3dGJljZOrBlrdXV1SE9Ph8FggF6v\n",
              "x8UXX4wDBw4AAHbu3Il58+YpXEIiSiSsARpmkX2wC77u8NkXIBjbIbl8XZZfeGtge5Pdh4J0FevW\n",
              "4fL4x+6Jpf6nUnXOgefeOIYUgxa//2mI3jgyTn/FH8sxKt2A/3fXjOgLOYiesFZx1gFRkiJu3DpS\n",
              "alOef+MY6ps7ULr4msFXHimFjpDNZkNWVu+QDKWlpVi5ciVEUcSVV16J6667btjKkmgTBRPRQAxA\n",
              "w8wrRvbGKbZagOwL0Jib4O0OQHs+vzBgvS53bw1QJO/Ng40ZFMm2rd21Hp1doWuj5LA1d8LWHLwW\n",
              "qfKsA59/2YBvzQvdCDVoN3gZx/23x3fFrFv4F9WNuO7ysTHZlxwfHRn4fyLZXH755Xj++ef9jy+5\n",
              "5BK8/PLLCpaIiBIZb4ENM3HwmS0C1+8eD0ibVYewH+MhvtUP9k21yy2GXSeSygI5lSfRBC4AWPvS\n",
              "Qfzto9M4a2sLUw75pT5rCxwRO9Lbd6GO9fwbI7dXWLA2UnZHBy40xq6NTDIypeqVLgIRxRAD0DCL\n",
              "tOpc6jDD25oJbaYN+gnHESoEhWr4O9jRKmqa8bNn5I0MPdjOh7N7dVeYNk+ROHKqMeDxf71zPCb7\n",
              "jbfGlk688dHpoFOVDMXDz5Sj9Nm9MdlXskrk4QOIaKCkC0Br167FwoULUVJSgsOHDwcs27t3L777\n",
              "3e+ipKQEP//5zyFGWh0TA5HeAgMEdJ2cDrHdBN2YaujGfilrqw5X92B3Mg7X2OIK3Yg6zLv+kCbC\n",
              "iFHTiXD7ieaD6mi/QBSNlZv240xdb28LSZLQ2RWbQQh/+9phlO3+Ers+rY18Y36QR41NgIgSX1IF\n",
              "oP3796O6uhpbt27FmjVrsGbNmoDlK1euxJNPPoktW7agra0NH3744bCX0WqRP9ian8cA14kZEF0p\n",
              "0I8/Ca31zKCbLP3NbgDybzm53CKaWl2o6TdJqt3REcEox8P4yRrp3UAFPrHO2px4cecJ/+Pn/nYM\n",
              "P9ywG02trqj3faHRdwvQ4Rw4tYkoSXj5vQpU1DQPWEZDJ/b58sL8Q5T4kioAlZeXo7i4GABQUFAA\n",
              "h8MBp7P3A72srAxjxvjGdsnKykJTk7yJSWNp0thwAxqG4U5B1/GZkNwG6C86Bm3WuYDFwWo9Olwe\n",
              "2Z/7XlHCsqf3YNUL+wOe3/zWcWx572TQbfrvezhvEUTblihWBjtlj7e3nHuP1QEY2O4IANo73QNu\n",
              "j9bUO3tr8kIcOdgt1apaB947cBbr/+eTQUpHkZhdNAbZo4wAAL0uqd46iVQpqa5iu90Oi6V35vSs\n",
              "rKyA4fFNJhMAoL6+Hnv27Ilq4kQlSK50uE7MALw66C/+HJqM3nML9kG89De70dgir1GvN0xbkt2H\n",
              "zgVf0O/DN975p9nZW3MSLtj1zNHVV3vIIBGlQU7a65XQ3ukOW4t26nwLHvjth3htV5X/OXtzB1a9\n",
              "sB+/+u8DQbfRdB832F49Qc4/giJTH/mj0/2/33ztRVj7/Wvx2wfnQqvhq0iU6JK6G3ywb8cNDQ24\n",
              "//77sWrVqoCwFIrc4fOHa+RMqX0Uuiqmw1B4AIZLPkXXiZkQnRbojcF7qDS2yfvgP3CyIezyYOcn\n",
              "9Vue0dARdn3AV9Mx2Dqhlh861Vtjd6K2BVqtL78bjfqAdc/UD6xh2bG/Bg8snB7wnDPEnGlyy5eR\n",
              "kYq+r26w9R1tLjzw2w8x67LeUaVHjUoNWPf9w74xnN7ZfwZLF14NALjQ4gt75xvag+5X0/0BnJIS\n",
              "eO6jR5uQ0WcIgWDbZjaFXh7unNUyOmxffXv5SZIEvU4LvU4Le5SDfRKR8pIqAFmtVtjtdv/j+vp6\n",
              "5OT0zonldDpx6G6DQwAAFJpJREFU33334Sc/+Qnmzp0ra59yhs8f7uHURWcWuk5eBcOln8Iw+SBc\n",
              "X8zCi28H73b9Hy8Fr0Hob8u7J0IuEyXfcP8nzjQhOyPF//yRqt7QZLO14s1/VAU8DtyHhA1bP8PU\n",
              "iywh1+nPZmvFqfMteOGtL7D021egpaU3YP3l/UrkdX87d7ncsl7//uts/8epiNYHAkOAw9GB1j7t\n",
              "eT47NnAwytZ2X8jaf6x3nJ7m5vaAfbe19e6j53lHn6kWtu74ApdNzMKYrDT/cz2N6dvbuwL29fvX\n",
              "PsM7+3rbiAU7B4cj9DQOoV5HtQ6fH+q27ki5BUtEQ5dUt8DmzJmDHTt2AACOHj0Kq9Xqv+0FAOvX\n",
              "r8fdd9+N66+/XqkixozosMJ96gpA64FxygEIxtDj4sSCy+3F4y9/ioefKfc/93lVb9g8faEF+7+o\n",
              "D1i/r8aWThw73YQ/fyCvF1uPTW9+gVpbG/7r7eNRf+Q0tnQGdBv3xKAXYN8PyH/ftD/0in30P49g\n",
              "Ywn1fe6lnRX4xXP7/I/fPVDjv80nSlLAa903/AQjShIawzTCrqhpDqil23esDp+ejP0o4olIfmcA\n",
              "IkoESVUDNH36dBQVFaGkpASCIGDVqlUoKyuD2WzG3Llz8de//hXV1dXYtm0bAOAb3/gGFi5cqHCp\n",
              "h87bkAdo3TBM/AKGwo/hOnYt4E4ZfMMIebxi0HY1fbV1BN5qe+5vx2BK1WP65BxMK8gOO0Gpxyui\n",
              "qtaBS8dl+m/tAL62MT2PKmqa0do+sMdTJJb//iNMHGPGyn+ZKWv9nklkRUnCTzfuwVWXZONnS2ZF\n",
              "VQbfjgMfymlN0vfD988f9Na0QQIOVdqDbBHclvdO4r2DZ0Mu72k43TMi9h+3HwUA/NN1F8s+RjKZ\n",
              "PD7T3zMyxdDn7ZJZiCjhJVUAAoDly5cHPC4sLPT/fuTIkeEuTtx56y+CW+eGflwljFMOwHV8FuAx\n",
              "xPw4g/Xw6r/8k+65x3YfOofnH5kftrbltV1VePdADe4svhQLZoz3P//YnwJv351vCH07Uu6AgKcv\n",
              "yL9V+cSWz/CzO6/GqXMtaGnrwu5D5/GzPsvrm9rx7oHQYUK2IK+t3B51koSIGuQOadwgFfvu/ALk\n",
              "j06H1ZIaMBI08w9R4ku6AKRGnnMFEHRu6MZUwzj5IFzHZwJibP+04WpwBvPo5o8HjC/U15FTvrZE\n",
              "f/3wFK69LHdIx/jpxj1D2i6cL6p9ja5DDV754s6KIe23p/3IGx+dxoRcU9B15L7eEqSAWrPBBAtW\n",
              "nNgzNL1Oi69enT9wAV8yooSXVG2A1EuA+0whPPY8aEwOGC79FBBiO8p1rT10gAF8tSWhhAo/b+2t\n",
              "hiRJaOjuqt/h8mDtiweHVL7BenQN1edfNsQ+IEiA2+NF2e4v8dvXDgcPO3GqAQq24/94+dMQ++an\n",
              "PBElLwagpCHAfepyeJus0GY0wDD5IDTmRsTqq+qx07EfNHLb+1V4a281uty9Ya2uqSPMFsPvN68e\n",
              "ivkg0oeqAtvs1DcP/ZwlSYIm3HQlkgR7n/33z0q25g6cCDJi9Jvlp3Hv47uGXK5kx15gRImPAUgB\n",
              "s4vGwKCPw0svadBVeSW8jmxoMxpgnLofxmm7ocurhGCILljEqzYg0l5hfZ2zR9fzbf+x+sFXQuzv\n",
              "duw+dD4gVAUbuDBYpDlxpglHTzUGBEavKGHDq4dCHuv1f5zCw38ox5r/PgCH0zVgx4/8oTzodtH8\n",
              "XZJFuJo1Vo4RJT62AVLAfd+8DP8mTcUPN+we0F08apIWXSdmQGNuhDanFlpLHfTjKqHLr4TYkg2v\n",
              "PR/eplxAHHxwx4DdJtkbvscryq556TuadsWZ2NSEBbycwT5ngzz3eJBbVY628D3jtu85DQCoOteC\n",
              "hzbugVEf2d9dzeT2FiSixMQApBBBEOLYxkKA2JoNsTUbbo0H2qwLvjCU0QBtRgMkrxbehrHw2vMh\n",
              "OjMhp8FJMuWfl9+rwHsR9N7a9GbvIJPLfrc7NoXo84IeDtKNXW4j6HC3v4KJeeBOYkOauJiIEgYD\n",
              "kIKGJVSIOnjt4+C1j4NgbIN2dC20o89BZz0LnfUsxI40eO358Njzw44hFKuaj3g4cCKygfoiCT/x\n",
              "0ndcn5b2gQ245eaaqnOOWBWJIsAG4kSJjwFIQZdPysKnJ+UPYhctyZUOT+1keGovhWZUgy8MZdVB\n",
              "P/4k9ONPQmw3QWy1QGy1wNuaFRCIKs7yg3Ykag0SnoiIaHAMQAq675uX4YcbfLdUJo014/avXoJc\n",
              "SypSjTpU1TpQY3NCFKU4NEgVILaMhtgyGu5qt+8WWdYFaEzN0KU5gdwaAIDYmQqxNcsfiiRXGjiX\n",
              "eGw0tISfTDPCO1txV2tzIvbDayauSMZeIqKRiQFIQSkGHTTdUy0UTcoKmCj08ouzcfnF2QDi3CPH\n",
              "q4fXNh5e23hAECGktUBrboLG3AiNuQm6nFogxzd6sNRlhLfV4g9FUmc6ILEj4VCslDlv2Ehx6KQN\n",
              "My8drXQxRoyC/AzMuWIMvjJ1aAN3EpHyGIAUdvtXC/DqrkpcM9mqdFEASQOpLROetkzgwiQAEoRU\n",
              "pz8Mac1N0GVfALJ9M5tLEiB1pUBypUFypXb/8/0uulIBtxGsMYrMij+U44HvXIF3P1a+nVJfZy60\n",
              "MgD1oREE3HvrZUoXg4iiwACksJu+MgHFM8ZBpx2JNSkCpA4zvB1m35xjkCAY26ExN0FjboKQ0g6N\n",
              "sR2CuRHCqIFbS6ImMBh1GSF5DJDcBqD7p+QxAF4dRnRQEkRA44Gg9U34KnWlIF5DaNU3d2DlCyOv\n",
              "dmjvkfP453mTlC4GEVHMMACNACMz/AQjQHKlw+tKh9c+rs/TIgRjBwRjOwRDB4SUDl8wMnZAMHZA\n",
              "kxp+wEJJFHyByB+K9N2P9YAk+P5B6O42J0CSusNSwLI+AUro6aEj+XKVIKGnz53Qs6znOY3XF2y0\n",
              "HghaL6B1B3kcOFChJAmQXCkBNV6SKw1i90949BjRgW4IVNnpSY3nTKQiDEAJZMaUnIi7fA8LSQOp\n",
              "M93XJigYjac7HLkg6Log6LuA7p+9j90QDB3QpMmfrT1eJK8G8OogiTrAbYTo1QGe7seQfKHO2AFN\n",
              "RiOAxiDbawfcDux7mzDWE9UOjS/8+YKeJ8TP7gAoiJDaL1W6wNi+fTuef/556HQ6/OhHP8KUKVPw\n",
              "8MMPw+v1IicnB//5n/8Jg4FNtYlInpHwTkyDKL3rGrzx0WksuanQH4Ae+7ev4L/fOY5T51tx01fG\n",
              "442PqhUuZRiiDlLHKEhyBl4WxN5wpHV3V6RIvTU2fWp0hL7P+dfpUxvU/VPqV4Pk/wkAohaSR9cb\n",
              "eLw6+Q27Ba+/lkvorvHy13yltEOTFnwSWMmj94chsecWYVdqn4CkATSS77UQfD+Fnt81fZ/rXkcj\n",
              "hgkxntBBJ4JKKrEuQ/7KcdDU1ISnn34af/7zn9He3o6nnnoKO3bswKJFi3DzzTdjw4YN2LZtGxYt\n",
              "WhSzY+rjMV0NEY0YSReA1q5di0OHDkEQBJSWlmLatGn+ZR999BE2bNgArVaL66+/HkuXLlWwpPJd\n",
              "kp+Bn9xxZcBz+aPT8fPF1wDwTdUwogNQJCQN4E6B5E4Z+XcgJC2kThOkTlOwhb5aLWOHr2arX1AS\n",
              "UpzQpLdguCamkETBH/KkrhRIXr3vsVfX76d24PMePdJSs4eppMGVl5dj9uzZMJlMMJlMeOyxx3Dj\n",
              "jTfi0UcfBQDMnz8fL7zwQswC0MN3Xh3xKNtElFiSKgDt378f1dXV2Lp1K6qqqlBaWoqtW7f6l//q\n",
              "V7/Cpk2bkJubi8WLF+PrX/86LrnkEgVLHLnH7589oM1Q1qgU/Oifp2Hs6DTU2tow9SILlv4mRlM2\n",
              "0BD1adfUloGB051KvpouY59wZPD9hCB1t2/SAJIAqfsnRI3/eanPcojafkGm/+OeWq2hf6ALoQcJ\n",
              "HxZnz55FZ2cn7r//frS0tODBBx9ER0eH/5ZXdnY2bLYReHuYiEaspApA5eXlKC4uBgAUFBTA4XDA\n",
              "6XTCZDKhpqYGGRkZGDt2LADghhtuQHl5ecIFoJzM4PMTXdXdRTnXkgYAuLYoF3uP1mFaQTa+c/3F\n",
              "WL3546DbaTUCCidk4ujpkTvVRXISAI8RkscIb1um0oUZ1EiojWtubsbGjRtx7tw5LFmyJGA6CjlT\n",
              "U1gsadDp5NW5ZWSmIifHPOSyJiK1nW8PNZ63Gs85mKQKQHa7HUVFRf7HWVlZsNlsMJlMsNlsyMrK\n",
              "ClhWU1OjRDGHxZKvT8EVF2djxhQr9DoNnll2A97eW42ZU3Px6Ob98HglfHveJNw6eyIEAbj38V0B\n",
              "2z/90PVo63Cj1t6GN/dWozLEVBij0g24adYEvLqrcjhOixQyOkTwHi7Z2dm4+uqrodPpMGHCBKSn\n",
              "p0Or1aKzsxMpKSmoq6uD1Rp+LK2mpnbZx2tu7oDNpnyD/OGSk2NW1fn2UON5yzlntQSkpApA/cVi\n",
              "wkK53xpH4n+Y8fmWgMf3fcdX07Bt/TehEXwz0vd49L7ZOF7diPwcEzQaARPG+badeilQPHsS3B4v\n",
              "qs46kJdjwsHjddh39AJ+9r1roO2+HXfnzVPx0ttfwDIqBZPHW/BZRT1a2ruw+9NaFORnYPHNU2FO\n",
              "M+B4dSM6XR5Mys/AOZsTL71zHDqtBuftbbjvtsvx0efncfTLBn+5Lh2fiZM1zf7Ht994Kbb9/STm\n",
              "XZWPDz+rHXDOGgG4o3gytr5b4X/u2svH4Af/fCW2vnsCb310OuhrNf+acZh52Rg0ODqwafvRsK9r\n",
              "0cXZAWUcaaYXWvHJ8fqY7GvaJaNxuNKOFUtmKhqC5s6dixUrVuC+++6Dw+FAe3s75s6dix07duC2\n",
              "227Dzp07MW/evKiPM7PQio+P1yNvdIgejUSUNAQpiaY1fuqpp5CTk4OSkhIAwNe+9jW8/vrrMJlM\n",
              "OHv2LJYtW+ZvE7Rx40ZkZmZi8eLFYfcp59uBGr9FAPE7777/JYUR0BBVlCR/6xmrdRRstlZIkgSP\n",
              "V4Q+RDiWJGlA2d0eL7QaX2DsO5dU/3V7jidJgFcUodNqup8T4PaI0Os10AgCJEmCy+1FikEHj1eE\n",
              "IMC/fwAQRcl/nA6XB0aDFhrBtw+d1vdToxECtutZFlAeUUJu7ijFvzVu2bIF27ZtAwD84Ac/wBVX\n",
              "XIFHHnkELpcLeXl5WLduHfR6fcjt5fxflSQJ5ow0OFvkdFlMHnwPUw/WAPVKqhqgOXPm4KmnnkJJ\n",
              "SQmOHj0Kq9UKk8nXQ2fcuHFwOp04e/YsxowZg127duGJJ55QuMQUzEgIPX0F6w0kCELI8NOzvL9Q\n",
              "6/dft+d4ggBoNL5ttN3PGQ3agO1SDL5LONhgmn1DVqqx91LX63zrGvQDy9OzLNR+lFRSUuL/ctNj\n",
              "8+bNMT2GIAhINeoQfAADIkomSRWApk+fjqKiIpSUlEAQBKxatQplZWUwm81YsGABVq9ejWXLlgEA\n",
              "brnlFkyaxKH9iYiI1CipAhAALF++POBxYWGh//eZM2cGdIsnIiIideJQp0RERKQ6DEBERESkOknV\n",
              "C4yIiIhIDtYAERERkeowABEREZHqMAARERGR6jAAERERkeowABEREZHqMAARERGR6jAARWnt2rVY\n",
              "uHAhSkpKcPjwYaWLE3f79u3Dtddei7vuugt33XUXHnvsMaWLFFcVFRUoLi7GSy+9BAA4f/487rrr\n",
              "LixatAg//vGP0dXVpXAJ46P/ea9YsQLf/OY3/X/3999/X9kCxoHarmWA17Marmc1XstyJd1UGMNp\n",
              "//79qK6uxtatW1FVVYXS0lJVTLUxa9YsPPnkk0oXI+7a29vx2GOPYfbs2f7nnnzySSxatAg333wz\n",
              "NmzYgG3btmHRokUKljL2gp03APz0pz/F/PnzFSpVfKn1WgZ4PSfz9azGazkSrAGKQnl5OYqLiwEA\n",
              "BQUFcDgccDo5j3SyMBgMeO6552C1Wv3P7du3D1/72tcAAPPnz0d5eblSxYubYOed7HgtJz81Xs9q\n",
              "vJYjwQAUBbvdDovF4n+clZUFm82mYImGR2VlJe6//37ceeed2LNnj9LFiRudToeUlJSA5zo6OmAw\n",
              "GAAA2dnZSfn3DnbeAPDSSy9hyZIleOihh9DY2KhAyeJHrdcywOs5ma9nNV7LkeAtsBhSw6wiEydO\n",
              "xAMPPICbb74ZNTU1WLJkCXbu3Ol/E1ETNfy9e9x2223IzMzE1KlT8eyzz2Ljxo1YuXKl0sWKG7X8\n",
              "bXk991LL31xt13I4rAGKgtVqhd1u9z+ur69HTk6OgiWKv9zcXNxyyy0QBAETJkzA6NGjUVdXp3Sx\n",
              "hk1aWho6OzsBAHV1daqpWp49ezamTp0KALjxxhtRUVGhcIliS43XMsDrWY3Xc7Jfy5FgAIrCnDlz\n",
              "sGPHDgDA0aNHYbVaYTKZFC5VfG3fvh2bNm0CANhsNjQ0NCA3N1fhUg2f6667zv8337lzJ+bNm6dw\n",
              "iYbHgw8+iJqaGgC+dhOXXnqpwiWKLTVeywCvZzVez8l+LUeCs8FH6YknnsCBAwcgCAJWrVqFwsJC\n",
              "pYsUV06nE8uXL0dLSwvcbjceeOAB3HDDDUoXKy6OHDmCxx9/HLW1tdDpdMjNzcUTTzyBFStWwOVy\n",
              "IS8vD+vWrYNer1e6qDEV7LwXL16MZ599FqmpqUhLS8O6deuQnZ2tdFFjSm3XMsDrOdmvZ7Vey3Ix\n",
              "ABEREZHq8BYYERERqQ4DEBEREakOAxARERGpDgMQERERqQ4DEBEREakOAxARERGpDgMQERERqQ4D\n",
              "EBEREakOAxARERGpDgMQERERqQ4DEBEREakOAxARERGpDgMQERERqQ4DEBEREakOAxARERGpDgMQ\n",
              "ERERqQ4DEBEREakOAxARERGpDgMQERERqQ4DEBEREakOAxARERGpDgMQERERqQ4DEBEREakOAxAR\n",
              "ERGpDgMQERERqQ4DEBEREakOAxARERGpDgMQERERqQ4DEBEREakOAxARERGpDgMQERERqQ4DEBER\n",
              "EakOAxARERGpDgMQERERqQ4DEBEREakOAxARERGpDgMQERERqQ4DEBEREanO/wey715Ej2707AAA\n",
              "AABJRU5ErkJggg==\n",
              "\"/>"
            ],
            "text/plain": [
              "<IPython.core.display.HTML object>"
            ]
          },
          "metadata": {
            "tags": []
          }
        },
        {
          "output_type": "display_data",
          "data": {
            "text/html": [
              "Train: <progress value='100.0' max='100', style='width: 80%'>100.0\n",
              "                           </progress>"
            ],
            "text/plain": [
              "<IPython.core.display.HTML object>"
            ]
          },
          "metadata": {
            "tags": []
          }
        },
        {
          "output_type": "display_data",
          "data": {
            "text/html": [
              "Valid: <progress value='100.0' max='100', style='width: 80%'>100.0\n",
              "                           </progress>"
            ],
            "text/plain": [
              "<IPython.core.display.HTML object>"
            ]
          },
          "metadata": {
            "tags": []
          }
        },
        {
          "output_type": "stream",
          "text": [
            "------------------------------------\n",
            "summary of epoch: 0\n",
            "------------------------------------\n",
            "                loss  accurary\n",
            "train          1.042    61.238\n",
            "valid          0.664    76.443\n",
            " \n"
          ],
          "name": "stdout"
        },
        {
          "output_type": "display_data",
          "data": {
            "text/html": [
              "Train: <progress value='100.0' max='100', style='width: 80%'>100.0\n",
              "                           </progress>"
            ],
            "text/plain": [
              "<IPython.core.display.HTML object>"
            ]
          },
          "metadata": {
            "tags": []
          }
        },
        {
          "output_type": "display_data",
          "data": {
            "text/html": [
              "Valid: <progress value='100.0' max='100', style='width: 80%'>100.0\n",
              "                           </progress>"
            ],
            "text/plain": [
              "<IPython.core.display.HTML object>"
            ]
          },
          "metadata": {
            "tags": []
          }
        },
        {
          "output_type": "stream",
          "text": [
            "------------------------------------\n",
            "summary of epoch: 1\n",
            "------------------------------------\n",
            "                loss  accurary\n",
            "train          0.400    86.350\n",
            "valid          0.241    92.441\n",
            " \n"
          ],
          "name": "stdout"
        },
        {
          "output_type": "display_data",
          "data": {
            "text/html": [
              "Train: <progress value='100.0' max='100', style='width: 80%'>100.0\n",
              "                           </progress>"
            ],
            "text/plain": [
              "<IPython.core.display.HTML object>"
            ]
          },
          "metadata": {
            "tags": []
          }
        },
        {
          "output_type": "display_data",
          "data": {
            "text/html": [
              "Valid: <progress value='100.0' max='100', style='width: 80%'>100.0\n",
              "                           </progress>"
            ],
            "text/plain": [
              "<IPython.core.display.HTML object>"
            ]
          },
          "metadata": {
            "tags": []
          }
        },
        {
          "output_type": "stream",
          "text": [
            "------------------------------------\n",
            "summary of epoch: 2\n",
            "------------------------------------\n",
            "                loss  accurary\n",
            "train          0.171    94.797\n",
            "valid          0.132    95.875\n",
            " \n"
          ],
          "name": "stdout"
        },
        {
          "output_type": "display_data",
          "data": {
            "text/html": [
              "Train: <progress value='100.0' max='100', style='width: 80%'>100.0\n",
              "                           </progress>"
            ],
            "text/plain": [
              "<IPython.core.display.HTML object>"
            ]
          },
          "metadata": {
            "tags": []
          }
        },
        {
          "output_type": "display_data",
          "data": {
            "text/html": [
              "Valid: <progress value='100.0' max='100', style='width: 80%'>100.0\n",
              "                           </progress>"
            ],
            "text/plain": [
              "<IPython.core.display.HTML object>"
            ]
          },
          "metadata": {
            "tags": []
          }
        },
        {
          "output_type": "stream",
          "text": [
            "------------------------------------\n",
            "summary of epoch: 3\n",
            "------------------------------------\n",
            "                loss  accurary\n",
            "train          0.101    97.027\n",
            "valid          0.094    97.395\n",
            " \n"
          ],
          "name": "stdout"
        },
        {
          "output_type": "display_data",
          "data": {
            "text/html": [
              "Train: <progress value='100.0' max='100', style='width: 80%'>100.0\n",
              "                           </progress>"
            ],
            "text/plain": [
              "<IPython.core.display.HTML object>"
            ]
          },
          "metadata": {
            "tags": []
          }
        },
        {
          "output_type": "display_data",
          "data": {
            "text/html": [
              "Valid: <progress value='100.0' max='100', style='width: 80%'>100.0\n",
              "                           </progress>"
            ],
            "text/plain": [
              "<IPython.core.display.HTML object>"
            ]
          },
          "metadata": {
            "tags": []
          }
        },
        {
          "output_type": "stream",
          "text": [
            "------------------------------------\n",
            "summary of epoch: 4\n",
            "------------------------------------\n",
            "                loss  accurary\n",
            "train          0.079    97.516\n",
            "valid          0.070    98.095\n",
            " \n"
          ],
          "name": "stdout"
        },
        {
          "output_type": "display_data",
          "data": {
            "text/html": [
              "Train: <progress value='100.0' max='100', style='width: 80%'>100.0\n",
              "                           </progress>"
            ],
            "text/plain": [
              "<IPython.core.display.HTML object>"
            ]
          },
          "metadata": {
            "tags": []
          }
        },
        {
          "output_type": "display_data",
          "data": {
            "text/html": [
              "Valid: <progress value='100.0' max='100', style='width: 80%'>100.0\n",
              "                           </progress>"
            ],
            "text/plain": [
              "<IPython.core.display.HTML object>"
            ]
          },
          "metadata": {
            "tags": []
          }
        },
        {
          "output_type": "stream",
          "text": [
            "------------------------------------\n",
            "summary of epoch: 5\n",
            "------------------------------------\n",
            "                loss  accurary\n",
            "train          0.064    97.937\n",
            "valid          0.057    98.430\n",
            " \n"
          ],
          "name": "stdout"
        },
        {
          "output_type": "display_data",
          "data": {
            "text/html": [
              "Train: <progress value='100.0' max='100', style='width: 80%'>100.0\n",
              "                           </progress>"
            ],
            "text/plain": [
              "<IPython.core.display.HTML object>"
            ]
          },
          "metadata": {
            "tags": []
          }
        },
        {
          "output_type": "display_data",
          "data": {
            "text/html": [
              "Valid: <progress value='100.0' max='100', style='width: 80%'>100.0\n",
              "                           </progress>"
            ],
            "text/plain": [
              "<IPython.core.display.HTML object>"
            ]
          },
          "metadata": {
            "tags": []
          }
        },
        {
          "output_type": "stream",
          "text": [
            "------------------------------------\n",
            "summary of epoch: 6\n",
            "------------------------------------\n",
            "                loss  accurary\n",
            "train          0.046    98.589\n",
            "valid          0.048    98.544\n",
            " \n"
          ],
          "name": "stdout"
        },
        {
          "output_type": "display_data",
          "data": {
            "text/html": [
              "Train: <progress value='100.0' max='100', style='width: 80%'>100.0\n",
              "                           </progress>"
            ],
            "text/plain": [
              "<IPython.core.display.HTML object>"
            ]
          },
          "metadata": {
            "tags": []
          }
        },
        {
          "output_type": "display_data",
          "data": {
            "text/html": [
              "Valid: <progress value='100.0' max='100', style='width: 80%'>100.0\n",
              "                           </progress>"
            ],
            "text/plain": [
              "<IPython.core.display.HTML object>"
            ]
          },
          "metadata": {
            "tags": []
          }
        },
        {
          "output_type": "stream",
          "text": [
            "------------------------------------\n",
            "summary of epoch: 7\n",
            "------------------------------------\n",
            "                loss  accurary\n",
            "train          0.042    98.629\n",
            "valid          0.047    98.677\n",
            " \n"
          ],
          "name": "stdout"
        },
        {
          "output_type": "display_data",
          "data": {
            "text/html": [
              "Train: <progress value='100.0' max='100', style='width: 80%'>100.0\n",
              "                           </progress>"
            ],
            "text/plain": [
              "<IPython.core.display.HTML object>"
            ]
          },
          "metadata": {
            "tags": []
          }
        },
        {
          "output_type": "display_data",
          "data": {
            "text/html": [
              "Valid: <progress value='100.0' max='100', style='width: 80%'>100.0\n",
              "                           </progress>"
            ],
            "text/plain": [
              "<IPython.core.display.HTML object>"
            ]
          },
          "metadata": {
            "tags": []
          }
        },
        {
          "output_type": "stream",
          "text": [
            "------------------------------------\n",
            "summary of epoch: 8\n",
            "------------------------------------\n",
            "                loss  accurary\n",
            "train          0.038    98.792\n",
            "valid          0.048    98.540\n",
            " \n"
          ],
          "name": "stdout"
        },
        {
          "output_type": "display_data",
          "data": {
            "text/html": [
              "Train: <progress value='100.0' max='100', style='width: 80%'>100.0\n",
              "                           </progress>"
            ],
            "text/plain": [
              "<IPython.core.display.HTML object>"
            ]
          },
          "metadata": {
            "tags": []
          }
        },
        {
          "output_type": "display_data",
          "data": {
            "text/html": [
              "Valid: <progress value='100.0' max='100', style='width: 80%'>100.0\n",
              "                           </progress>"
            ],
            "text/plain": [
              "<IPython.core.display.HTML object>"
            ]
          },
          "metadata": {
            "tags": []
          }
        },
        {
          "output_type": "stream",
          "text": [
            "------------------------------------\n",
            "summary of epoch: 9\n",
            "------------------------------------\n",
            "                loss  accurary\n",
            "train          0.032    98.998\n",
            "valid          0.054    98.369\n",
            " \n"
          ],
          "name": "stdout"
        },
        {
          "output_type": "display_data",
          "data": {
            "text/html": [
              "Train: <progress value='100.0' max='100', style='width: 80%'>100.0\n",
              "                           </progress>"
            ],
            "text/plain": [
              "<IPython.core.display.HTML object>"
            ]
          },
          "metadata": {
            "tags": []
          }
        },
        {
          "output_type": "display_data",
          "data": {
            "text/html": [
              "Valid: <progress value='100.0' max='100', style='width: 80%'>100.0\n",
              "                           </progress>"
            ],
            "text/plain": [
              "<IPython.core.display.HTML object>"
            ]
          },
          "metadata": {
            "tags": []
          }
        },
        {
          "output_type": "stream",
          "text": [
            "------------------------------------\n",
            "summary of epoch: 10\n",
            "------------------------------------\n",
            "                loss  accurary\n",
            "train          0.032    98.987\n",
            "valid          0.041    98.814\n",
            " \n"
          ],
          "name": "stdout"
        },
        {
          "output_type": "display_data",
          "data": {
            "text/html": [
              "Train: <progress value='100.0' max='100', style='width: 80%'>100.0\n",
              "                           </progress>"
            ],
            "text/plain": [
              "<IPython.core.display.HTML object>"
            ]
          },
          "metadata": {
            "tags": []
          }
        },
        {
          "output_type": "display_data",
          "data": {
            "text/html": [
              "Valid: <progress value='100.0' max='100', style='width: 80%'>100.0\n",
              "                           </progress>"
            ],
            "text/plain": [
              "<IPython.core.display.HTML object>"
            ]
          },
          "metadata": {
            "tags": []
          }
        },
        {
          "output_type": "stream",
          "text": [
            "------------------------------------\n",
            "summary of epoch: 11\n",
            "------------------------------------\n",
            "                loss  accurary\n",
            "train          0.030    99.056\n",
            "valid          0.028    99.088\n",
            " \n"
          ],
          "name": "stdout"
        },
        {
          "output_type": "display_data",
          "data": {
            "text/html": [
              "Train: <progress value='100.0' max='100', style='width: 80%'>100.0\n",
              "                           </progress>"
            ],
            "text/plain": [
              "<IPython.core.display.HTML object>"
            ]
          },
          "metadata": {
            "tags": []
          }
        },
        {
          "output_type": "display_data",
          "data": {
            "text/html": [
              "Valid: <progress value='100.0' max='100', style='width: 80%'>100.0\n",
              "                           </progress>"
            ],
            "text/plain": [
              "<IPython.core.display.HTML object>"
            ]
          },
          "metadata": {
            "tags": []
          }
        },
        {
          "output_type": "stream",
          "text": [
            "------------------------------------\n",
            "summary of epoch: 12\n",
            "------------------------------------\n",
            "                loss  accurary\n",
            "train          0.026    99.127\n",
            "valid          0.030    98.985\n",
            " \n"
          ],
          "name": "stdout"
        },
        {
          "output_type": "display_data",
          "data": {
            "text/html": [
              "Train: <progress value='100.0' max='100', style='width: 80%'>100.0\n",
              "                           </progress>"
            ],
            "text/plain": [
              "<IPython.core.display.HTML object>"
            ]
          },
          "metadata": {
            "tags": []
          }
        },
        {
          "output_type": "display_data",
          "data": {
            "text/html": [
              "Valid: <progress value='100.0' max='100', style='width: 80%'>100.0\n",
              "                           </progress>"
            ],
            "text/plain": [
              "<IPython.core.display.HTML object>"
            ]
          },
          "metadata": {
            "tags": []
          }
        },
        {
          "output_type": "stream",
          "text": [
            "------------------------------------\n",
            "summary of epoch: 13\n",
            "------------------------------------\n",
            "                loss  accurary\n",
            "train          0.027    99.170\n",
            "valid          0.035    98.905\n",
            " \n"
          ],
          "name": "stdout"
        },
        {
          "output_type": "display_data",
          "data": {
            "text/html": [
              "Train: <progress value='100.0' max='100', style='width: 80%'>100.0\n",
              "                           </progress>"
            ],
            "text/plain": [
              "<IPython.core.display.HTML object>"
            ]
          },
          "metadata": {
            "tags": []
          }
        },
        {
          "output_type": "display_data",
          "data": {
            "text/html": [
              "Valid: <progress value='100.0' max='100', style='width: 80%'>100.0\n",
              "                           </progress>"
            ],
            "text/plain": [
              "<IPython.core.display.HTML object>"
            ]
          },
          "metadata": {
            "tags": []
          }
        },
        {
          "output_type": "stream",
          "text": [
            "------------------------------------\n",
            "summary of epoch: 14\n",
            "------------------------------------\n",
            "                loss  accurary\n",
            "train          0.016    99.548\n",
            "valid          0.041    98.909\n",
            " \n",
            "------------------------------------\n",
            "summary of test\n",
            "------------------------------------\n",
            "               total  accuracy\n",
            "test            4857    96.000\n"
          ],
          "name": "stdout"
        }
      ]
    },
    {
      "metadata": {
        "id": "pdxnWXXUvcaT",
        "colab_type": "text"
      },
      "cell_type": "markdown",
      "source": [
        "###Test Performance\n",
        "\n",
        "On the test of the optimized model, the overall test accuracy is 97.0% with a 1.3% improvement from the *CNN5 net*. The confusion matrix below also shows that the model perform well for classes with much less samples, indicating the model is not sensitive to such imbalance in the sample classes. It performs less well for the  prediction of HU5 that has the least number of samples for this run."
      ]
    },
    {
      "metadata": {
        "id": "Lq4amwYvu8Re",
        "colab_type": "code",
        "outputId": "35e58986-60b7-4121-cb77-29bfbd948cc6",
        "colab": {
          "base_uri": "https://localhost:8080/",
          "height": 536
        }
      },
      "cell_type": "code",
      "source": [
        "import seaborn as sns\n",
        "import matplotlib.pyplot as plt\n",
        "from sklearn.metrics import confusion_matrix\n",
        "\n",
        "# CONSTANT\n",
        "f_data_yml = config_params['f_data_yml']\n",
        "with open(f_data_yml, 'rb') as fp: data = yaml.load(fp)\n",
        "    \n",
        "one_hot_key   = data['one_hot_key']\n",
        "one_hot_rev   = data['one_hot_rev']\n",
        "train_indices = data['indices']['train']\n",
        "valid_indices = data['indices']['valid']\n",
        "test_indices  = data['indices']['test']\n",
        "\n",
        "f_test = config_params['f_test_yml']\n",
        "with open(f_test, 'r') as fp: test_results = yaml.load(fp)\n",
        "test_idxs = test_results['idxs']\n",
        "#test_idxs = test_idxs.detach().numpy()\n",
        "test_labels = test_results['labels']\n",
        "test_predicts = test_results['predicts']\n",
        "   \n",
        "# check test data, for debug purpose to make sure test dataset is correct\n",
        "# f_img_msg = p_data + os.sep + 'al_ir_track_filtered.msg'\n",
        "# pd_storm = pd.read_msgpack(f_img_msg) \n",
        "# print(len(test_labels))\n",
        "# print(len(pd_storm.iloc[test_indices].index))\n",
        "# print(pd_storm.iloc[test_indices].groupby(b'cat').count())\n",
        "# print(np.unique(test_labels, return_counts=True))\n",
        "\n",
        "# test summary\n",
        "n_correct = np.equal(test_predicts, test_labels).sum().item()\n",
        "accuracy = n_correct / len(test_labels) * 100.\n",
        "divider = '-' * 36\n",
        "print(divider)\n",
        "print('summary of test')\n",
        "print(divider)\n",
        "print('{:<10s}{:>10s}{:>10s}'.format('', 'total', 'accuracy'))\n",
        "print('{:<10s}{:>10d}{:>10.3f}'.format('test', len(test_labels), accuracy))   \n",
        "        \n",
        "\n",
        "# confusion matrix\n",
        "cfx = confusion_matrix(test_labels, test_predicts)\n",
        "df_cfx = pd.DataFrame(cfx, index = [one_hot_rev[i] for i in range(7)], \n",
        "                           columns = [str(i+1) for i in range(7)])\n",
        "\n",
        "fig, ax = plt.subplots(figsize = (10,7))\n",
        "sns.heatmap(df_cfx, annot=True, annot_kws={'size': 12}, fmt='d', ax=ax)\n",
        "ax.set_xlabel('Predict',fontsize=16)\n",
        "ax.set_ylabel('Actual',fontsize=16)\n",
        "\n",
        "# true_to_false\n",
        "true_to_false = {} # miss-classified images\n",
        "for i in range(7): true_to_false[one_hot_rev[i]] = []\n",
        "for i, (x, y) in enumerate(zip(test_labels, test_predicts)):\n",
        "    if x==y: continue\n",
        "    true_cat = one_hot_rev[x]\n",
        "    false_cat = one_hot_rev[y]\n",
        "    true_to_false[true_cat].append([test_idxs[i], false_cat])\n",
        "    "
      ],
      "execution_count": 0,
      "outputs": [
        {
          "output_type": "stream",
          "text": [
            "------------------------------------\n",
            "summary of test\n",
            "------------------------------------\n",
            "               total  accuracy\n",
            "test            4857    96.973\n"
          ],
          "name": "stdout"
        },
        {
          "output_type": "display_data",
          "data": {
            "image/png": "[encoded data removed]",
            "text/plain": [
              "<Figure size 720x504 with 2 Axes>"
            ]
          },
          "metadata": {
            "tags": []
          }
        }
      ]
    },
    {
      "metadata": {
        "id": "dQ5Bjw2AggH2",
        "colab_type": "text"
      },
      "cell_type": "markdown",
      "source": [
        "##Inference\n",
        "\n",
        "This section shows how a trained model can be put into operation through inference. As an example, the model predicts a satellite IR image from NRL to be category 4 hurricane, which matches that from the best track. This is a dummy example as most likely the image is in the training dataset. Since no data augmentation is used during the train, the model does not generalize well to a different image set, i.e. storms centered differently etc. Without data augmentation, the model is currently limited to IR images similar to that from NRL. "
      ]
    },
    {
      "metadata": {
        "id": "u1OCewXjx-xY",
        "colab_type": "code",
        "colab": {}
      },
      "cell_type": "code",
      "source": [
        "import matplotlib.pyplot as plt\n",
        "import seaborn as sns\n",
        "from torchvision import transforms\n",
        "\n",
        "f_config = p_model + os.sep + 'config_resnet.yaml'\n",
        "with open(f_config, 'r') as fp: config = yaml.load(fp)\n",
        "\n",
        "config_params = config['params']\n",
        "config_params['f_image_zip'] = p_image + os.sep + config_params['f_image_zip']\n",
        "config_params['f_storm_msg'] = p_data  + os.sep + config_params['f_storm_msg']\n",
        "config_params['f_state_yml'] = p_model + os.sep + config_params['f_state_yml']\n",
        "config_params['f_model_pth'] = p_model + os.sep + config_params['f_model_pth']\n",
        "config_params['f_test_yml']  = p_model + os.sep + config_params['f_test_yml']\n",
        "config_params['f_data_yml']  = work_dir + os.sep + 'model/tc_classification' +  \\\n",
        "                                          os.sep + config_params['f_data_yml']\n",
        "\n",
        "f_data_yml = config_params['f_data_yml']\n",
        "with open(f_data_yml, 'rb') as fp: data = yaml.load(fp)    \n",
        "one_hot_key   = data['one_hot_key']\n",
        "one_hot_rev   = data['one_hot_rev']\n",
        "\n",
        "storm_infer = ImageInference(config, 'resnet')\n",
        "      \n",
        "image_transforms = transforms.Compose([\n",
        "    transforms.Grayscale(1),\n",
        "    transforms.ToTensor(),\n",
        "    transforms.Normalize((0.456,), (0.222,))])"
      ],
      "execution_count": 0,
      "outputs": []
    },
    {
      "metadata": {
        "id": "Khp5Qy33yP5Y",
        "colab_type": "code",
        "colab": {}
      },
      "cell_type": "code",
      "source": [
        "###@title Number fields\n",
        "URL = 'https://www.nrlmry.navy.mil/tcdat/tc05/ATL/18L.RITA/ir/geo/1km_bw/20050923.0600.goes10.x.ir1km_bw.18LRITA.120kts-924mb-265N-907W.jpg' #@param {type:'string'}\n",
        "\n",
        "import requests\n",
        "from io import BytesIO\n",
        "from PIL import Image\n",
        "\n",
        "try: \n",
        "  response = requests.get(URL, stream=True)\n",
        "  sample = Image.open(BytesIO(response.content))\n",
        "  sample = sample.crop((64, 64, 960, 960))\n",
        "  sample = sample.resize((256,256))\n",
        "except:\n",
        "  print ('Wrong URL:', URL)"
      ],
      "execution_count": 0,
      "outputs": []
    },
    {
      "metadata": {
        "id": "9QtXBNsyyuGZ",
        "colab_type": "code",
        "outputId": "bae64372-fbc3-4b31-c4e8-38e88147e4a9",
        "colab": {
          "base_uri": "https://localhost:8080/",
          "height": 439
        }
      },
      "cell_type": "code",
      "source": [
        "#row = pd_storm[pd_storm[b'key']=='AL200518RITA09220845'].iloc[0]\n",
        "#cat = row[b'cat']\n",
        "#image = row[b'image'].decode('utf-8')\n",
        "#temp = image.split('.')[0].split('_')\n",
        "#f_image = temp[0] + '_' + temp[1] + '.jpg'\n",
        "#sample = Image.open(img_archv.open(f_image))     \n",
        "\n",
        "img_tensor = image_transforms(sample)\n",
        "img_tensor = img_tensor.unsqueeze(0)\n",
        "\n",
        "predict = storm_infer.inference(img_tensor)\n",
        "fig, (ax1, ax2) = plt.subplots(1,2,figsize=(12,6))  \n",
        "ax1.imshow(sample)\n",
        "\n",
        "data = []\n",
        "for key, value in one_hot_rev.items():\n",
        "    data.append([value, predict[0][key]])\n",
        "\n",
        "df_predict = pd.DataFrame(data, columns=['label','probability'])\n",
        "sns.barplot(x='probability', y='label', data=df_predict, ax=ax2)\n"
      ],
      "execution_count": 0,
      "outputs": [
        {
          "output_type": "stream",
          "text": [
            "/usr/local/lib/python3.6/dist-packages/seaborn/categorical.py:1428: FutureWarning: remove_na is deprecated and is a private function. Do not use.\n",
            "  stat_data = remove_na(group_data)\n"
          ],
          "name": "stderr"
        },
        {
          "output_type": "execute_result",
          "data": {
            "text/plain": [
              "<matplotlib.axes._subplots.AxesSubplot at 0x7f42a613edd8>"
            ]
          },
          "metadata": {
            "tags": []
          },
          "execution_count": 60
        },
        {
          "output_type": "display_data",
          "data": {
            "image/png": "[encoded data removed]",
            "text/plain": [
              "<Figure size 864x432 with 2 Axes>"
            ]
          },
          "metadata": {
            "tags": []
          }
        }
      ]
    }
  ]
}