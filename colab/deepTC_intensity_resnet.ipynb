{
  "nbformat": 4,
  "nbformat_minor": 0,
  "metadata": {
    "colab": {
      "name": "deepTC_intensity_resnet.ipynb",
      "version": "0.3.2",
      "provenance": [],
      "collapsed_sections": [],
      "toc_visible": true,
      "include_colab_link": true
    },
    "kernelspec": {
      "name": "python3",
      "display_name": "Python 3"
    },
    "accelerator": "GPU"
  },
  "cells": [
    {
      "cell_type": "markdown",
      "metadata": {
        "id": "view-in-github",
        "colab_type": "text"
      },
      "source": [
        "<a href=\"https://colab.research.google.com/github/aachen6/deepTC/blob/master/colab/deepTC_intensity_resnet.ipynb\" target=\"_parent\"><img src=\"https://colab.research.google.com/assets/colab-badge.svg\" alt=\"Open In Colab\"/></a>"
      ]
    },
    {
      "metadata": {
        "id": "9KZh9h7Dv2Qb",
        "colab_type": "text"
      },
      "cell_type": "markdown",
      "source": [
        "# DeepTC - Resnet for Intensity\n",
        "\n",
        "The objective of *deepTC* can be found on [deepTC github page](https://github.com/aachen6/deepTC/), and the analysis is outlined below.\n",
        "1. Data Preprocess\n",
        " - 1.1 [Satellite images and tracks of TC](https://github.com/aachen6/deepTC/blob/master/colab/deepTC_images_tracks_sync.ipynb)\n",
        " - 1.2 [Statistics of satellite images and tracks](https://github.com/aachen6/deepTC/blob/master/colab/deepTC_images_tracks_stats.ipynb)\n",
        "\n",
        "2. Model for TC Image\n",
        " - 2.1 [Post-binding architecture of TC image](https://github.com/aachen6/deepTC/blob/master/colab/deepTC_net_image.ipynb)\n",
        " - 2.2 [CNN model for TC image classification ](https://github.com/aachen6/deepTC/blob/master/colab/deepTC_classification_cnn5.ipynb)\n",
        " - 2.3 [Resnet model for TC image classification](https://github.com/aachen6/deepTC/blob/master/colab/deepTC_classification_resnet.ipynb)\n",
        " - **2.4 [Resnet model for TC image intensity estimation](https://github.com/aachen6/deepTC/blob/master/colab/deepTC_intensity_resnet.ipynb)**\n",
        " - 2.5 [Operation of TC image prediction](https://github.com/aachen6/deepTC/blob/master/colab/deepTC_image_prediction.ipynb)\n",
        "\n",
        "3. Model for TC Track\n",
        " - 3.1 [Post-binding architecture of TC track](https://github.com/aachen6/deepTC/blob/master/colab/deepTC_net_track.ipynb)\n",
        " - 3.2 [LSTM model for TC track prediction](https://github.com/aachen6/deepTC/blob/master/colab/deepTC_track_lstm.ipynb)\n",
        " - 3.3 [LSTM model with attention for TC track prediction](https://github.com/aachen6/deepTC/blob/master/colab/deepTC_track_lstm.ipynb) \n",
        " - 3.4 [LSTM-CNN model for TC track prediction](https://github.com/aachen6/deepTC/blob/master/colab/deepTC_track_lstmcnn.ipynb)\n",
        "\n",
        "4. Generative Model for TC Image\n",
        " - 4.1 [DCGAN model for deepTC](https://github.com/aachen6/deepTC/blob/master/colab/deepTC_generative_dcgan.ipynb)\n",
        " - 4.2 [SAGAN model for deepTC](https://github.com/aachen6/deepTC/blob/master/colab/deepTC_generative_sagan.ipynb)\n",
        "\n",
        "In the [previous notebook](https://github.com/aachen6/deepTC/blob/master/colab/deepTC_classification_resnet.ipynb), we demonstrated the implementation and training of residual network for the classification of the TC satellite images. This notebook reuses the model for TC intensity estimation through simply redefinding the model objective and target parameter as the wind speed in the configuration file. WIthout further due, let's get started with module loading."
      ]
    },
    {
      "metadata": {
        "id": "gXB8R2GLmRbd",
        "colab_type": "code",
        "colab": {}
      },
      "cell_type": "code",
      "source": [
        "!pip install import-ipynb"
      ],
      "execution_count": 0,
      "outputs": []
    },
    {
      "metadata": {
        "id": "Hv1cwjCXXnfa",
        "colab_type": "code",
        "colab": {}
      },
      "cell_type": "code",
      "source": [
        "import os \n",
        "import yaml\n",
        "import numpy as np\n",
        "import pandas as pd\n",
        "\n",
        "from google.colab import drive\n",
        "drive.mount('/content/drive', force_remount=True)\n",
        "\n",
        "work_dir = r'/content/drive/My Drive/Colab Notebooks/deepTC'\n",
        "p_data  = work_dir + os.sep + 'data/AL'\n",
        "p_image = work_dir + os.sep + 'image/AL'\n",
        "p_model = work_dir + os.sep + 'model/tc_intensity'\n",
        "\n",
        "# load class defined in other ipynb\n",
        "import import_ipynb\n",
        "model_ipynb = work_dir + os.sep + 'deepTC_net_image.ipynb'\n",
        "with open(model_ipynb, 'rb') as fp:\n",
        "    with open('deepTC_net_lib.ipynb','wb') as fout:\n",
        "       fout.write(fp.read())\n",
        "  \n",
        "import deepTC_net_lib\n",
        "#force reload in case of error \n",
        "import importlib  \n",
        "importlib.reload(deepTC_net_lib)\n",
        "from deepTC_net_lib import YML2ModelNet, ImageDataSet, ImageTrainer, ImageInference\n"
      ],
      "execution_count": 0,
      "outputs": []
    },
    {
      "metadata": {
        "id": "kNx21FCKvdz3",
        "colab_type": "text"
      },
      "cell_type": "markdown",
      "source": [
        "###Training and Validation\n",
        "\n",
        "The network architecture is nearly the same as the *Resnet* defined in the [previous notebook](https://github.com/aachen6/deepTC/blob/master/colab/deepTC_classification_resnet.ipynb) for the classfication of the TC satellite images. In summary, the model consists in sequential layers of i) convolution layer with 5 x 5 filters that maps greyscale image into 32 channels and reduces the feature map size by a factor of four using *maxpool2d* function with stride of 2; ii) two consective residual blocks with each having one convolution layer that doubles the channel size and one with constant channel size and *ReLU* activation; iii) *avgpool2d* layer with reduction factor of 16; iv) two consective fully connected layers that transform the feature space into the target, i.e. wind speed. \n",
        "\n",
        "Since the wind speed correponds well to the category of the storm, the dataset split in a similar way as before to preserve the ratio of different classes in training, validation, and testing datefsets. The wind speed is normalized and appended to the original dataset based on normal distribuation with mean of 61.1 knots and standard deviation of 26.5 knots. For the training, the model objective is changed to be regression with target column being wind speed in the  dataset. Similarly, the model is trained with 15 epochs with a batch size of 64, and the training log is shown below. The model achieved a best mean absolute prediction error of 0.226 on the validation dataset, corresponding to an actual error of 6 knots."
      ]
    },
    {
      "metadata": {
        "id": "As3yk9OQu7yy",
        "colab_type": "code",
        "outputId": "f72d8447-c416-4945-8630-1c9e82d3feec",
        "colab": {
          "base_uri": "https://localhost:8080/",
          "height": 3769
        }
      },
      "cell_type": "code",
      "source": [
        "import torch \n",
        "from torchvision.transforms import transforms\n",
        "\n",
        "torch.cuda.empty_cache()\n",
        "\n",
        "work_dir = r'/content/drive/My Drive/Colab Notebooks/deepTC'\n",
        "p_data  = work_dir + os.sep + 'data/AL'\n",
        "p_image = work_dir + os.sep + 'image/AL'\n",
        "p_model = work_dir + os.sep + 'model/tc_intensity'\n",
        "\n",
        "# load configuration file\n",
        "f_config = p_model + os.sep + 'config_resnet_regression.yaml'\n",
        "with open(f_config, 'r') as fp: config = yaml.load(fp)\n",
        "\n",
        "# contruct the model\n",
        "storm_resnet = YML2ModelNet(config, 'resnet')\n",
        "\n",
        "# update path for config\n",
        "config_params = config['params']\n",
        "config_params['f_image_zip'] = p_image + os.sep + config_params['f_image_zip']\n",
        "config_params['f_storm_msg'] = p_data  + os.sep + config_params['f_storm_msg']\n",
        "config_params['f_data_yml']  = p_model + os.sep + config_params['f_data_yml']\n",
        "config_params['f_state_yml'] = p_model + os.sep + config_params['f_state_yml']\n",
        "config_params['f_model_pth'] = p_model + os.sep + config_params['f_model_pth']\n",
        "config_params['f_test_yml']  = p_model + os.sep + config_params['f_test_yml']\n",
        "\n",
        "# normalize data \n",
        "def scaler_normal(x):\n",
        "    x_norm = (x - x.mean())/x.std()\n",
        "    return x_norm \n",
        "\n",
        "# for simplicity, the target value is normalized in the input table\n",
        "pd_data = pd.read_msgpack(config_params['f_storm_msg'])\n",
        "# pd_data['win_org'] = pd_data['win']\n",
        "# win = pd_data['win_org'].values\n",
        "# pd_data['win'] = scaler_normal(win)\n",
        "# pd_data.to_msgpack(config_params['f_storm_msg'])\n",
        "\n",
        "# print the normalization factor for inverse normal\n",
        "print(pd_data.describe())\n",
        "\n",
        "# normalization is based on ramdon 1000 samples for this test\n",
        "image_transforms = transforms.Compose([\n",
        "    transforms.Grayscale(1),\n",
        "    transforms.ToTensor(),\n",
        "    transforms.Normalize((0.456,), (0.222,))])\n",
        "\n",
        "# dataset\n",
        "storm_data = ImageDataSet(config_params, image_transforms, hotstart=False)\n",
        "data_split = storm_data.load_data()\n",
        "\n",
        "# model\n",
        "storm_train = ImageTrainer(config_params, storm_resnet, hotstart=False)\n",
        "\n",
        "# train & valid\n",
        "storm_train.train_loop(data_split)\n",
        "\n"
      ],
      "execution_count": 0,
      "outputs": [
        {
          "output_type": "stream",
          "text": [
            "                win       win_org\n",
            "count  5.042800e+04  50428.000000\n",
            "mean   8.592450e-16     61.059828\n",
            "std    1.000010e+00     26.491270\n",
            "min   -1.738697e+00     15.000000\n",
            "25%   -7.949803e-01     40.000000\n",
            "50%   -2.287504e-01     55.000000\n",
            "75%    5.262228e-01     75.000000\n",
            "max    3.734859e+00    160.000000\n",
            "------------------------------------\n",
            "summary of dataset\n",
            "------------------------------------\n",
            "               train     valid      test\n",
            "percent         0.72      0.18      0.10\n",
            "size           36303      9080      5045\n",
            "batch            567       141        78\n",
            "------------------------------------\n",
            "summary of GPU\n",
            "------------------------------------\n",
            "Tesla K80\n",
            "Memory Usage:\n",
            "Allocated: 0.1 GB\n",
            "Cached:    0.1 GB\n",
            "------------------------------------\n",
            "training\n",
            "------------------------------------\n"
          ],
          "name": "stdout"
        },
        {
          "output_type": "display_data",
          "data": {
            "text/html": [
              "<img src='data:image/png;base64,iVBORw0KGgoAAAANSUhEUgAAA2AAAAJACAYAAADrSQUmAAAABHNCSVQICAgIfAhkiAAAAAlwSFlz\n",
              "AAALEgAACxIB0t1+/AAAADl0RVh0U29mdHdhcmUAbWF0cGxvdGxpYiB2ZXJzaW9uIDMuMC4zLCBo\n",
              "dHRwOi8vbWF0cGxvdGxpYi5vcmcvnQurowAAIABJREFUeJzs3Xl8VPWh9/HvmZkkk8k6SWayQIgQ\n",
              "AglhURYroJRVcaEuVYm0YFur9rbaai+3j5f7VLxPC1rtpvXea9XrUq0Si4harYAgrmHfwxYChADZ\n",
              "N7Kv8/yROEIJIURyZgKf9+uV18yZ+Z0zX0AJ35zf+R3D4/F4BAAAAADodRZfBwAAAACAiwUFDAAA\n",
              "AABMQgEDAAAAAJNQwAAAAADAJBQwAAAAADAJBQwAAAAATEIBAwAAAACTUMAAAAAAwCQUMAAAAAAw\n",
              "CQUMAAAAAExCAQMAAAAAk1DAAAAAAMAkFDAAAAAAMAkFDAAAAABMQgEDAAAAAJNQwAAAAADAJBQw\n",
              "AAAAADAJBQwAAAAATEIBAwAAAACTUMAAAAAAwCQUMAAAAAAwCQUMAAAAAExCAQMAAAAAk1DAAAAA\n",
              "AMAkFDAAAAAAMAkFDAAAAABMQgEDAAAAAJNQwAAAAADAJBQwAAAAADAJBQwAAAAATEIBAwAAAACT\n",
              "UMAAAAAAwCQUMAAAAAAwCQUMAAAAAExCAQMAAAAAk1DAAAAAAMAkFDAAAAAAMAkFDAAAAABMQgED\n",
              "AAAAAJNQwAAAAADAJBQwAAAAADAJBQwAAAAATEIBAwAAAACTUMAAAAAAwCQUMAAAAAAwCQUMAAAA\n",
              "AExCAQMAAAAAk1DAAAAAAMAkFDAAAAAAMAkFDAAAAABMQgEDAAAAAJNQwAAAAADAJBQwAAAAADAJ\n",
              "BQwAAAAATEIBAwAAAACTUMAAAAAAwCQUMAAAAAAwCQUMAAAAAExCAQMAAAAAk1DAAAAAAMAkFDAA\n",
              "AAAAMAkFDAAAAABMQgEDAAAAAJNQwAAAAADAJBQwAAAAADAJBQwAAAAATEIBAwAAAACTUMAAAAAA\n",
              "wCQ2XwfAuSkpqe7Rfk6nQxUVdec5zddDpu7xt0z+lkciU3f5OpPLFeazz/aVC+nv7JP5cz5/zib5\n",
              "dz5/zib5dz5/zib1PN/F+Pe2GTgDdpGw2ay+jnAaMnWPv2XytzwSmbrLHzOhc/7+Z+XP+fw5m+Tf\n",
              "+fw5m+Tf+fw5m+T/+S42FDAAAAAAMAkFDAAAAABMQgEDAAAAAJNQwAAAAADAJBQwAAAAADAJBQwA\n",
              "AAAATEIBuwgsWZ2jtZvzfR0DANANH209pr+8v9vXMQAAvYQCdoFraW3Tyo35+t1rW3wdBQDQDbsP\n",
              "l+tvq3N0uPCEr6MAAHoBBQwAAD/yzVEJkqRVG4/6OAkAoDdQwAAA8CPpA6OUGBuqDXuKVFXT6Os4\n",
              "AIDzjAIGAIAfMQxDs64cpNY2jz7aeszXcQAA5xkFDAAAPzNlTKJC7DZ9tPWYmltafR0HAHAeUcAA\n",
              "APAz9iCbJl2aoOq6Zq3bXeTrOACA84gCBgCAH5o2ur8shqEPNx2Vx+PxdRwAwHlCAQMAwA9Fhds1\n",
              "ZqhL+cU12nek0tdxAADnic3XAQAA8CeLFy/W9u3bZRiGFixYoJEjR0qSioqKNH/+fO+4/Px8/eu/\n",
              "/qtmzZrVa1lmjEvUxr3FWrUpX6lJzl77HACAeShgAAB02LBhg/Ly8pSZmanc3FwtWLBAmZmZkqTY\n",
              "2Fi98sorkqSWlhbNnTtXU6dO7dU8yQnhGhgfrm05pSquqJPb6ejVzwMA9D6mIAIA0CErK0vTp0+X\n",
              "JCUnJ6uqqko1NTWnjXvrrbd0zTXXKCQkpFfzGIahGWP7yyNp9WaWpAeACwEF7AJnGL5OAAB9R2lp\n",
              "qZzOr6b6RUVFqaSk5LRxf/vb33TrrbeakmlsqluRoYH6dMdx1Te2mPKZAIDewxREAADOoLPVB7du\n",
              "3apBgwYpNDT0rPs7nQ7ZbNYefbbLFeZ9PuuqZL3yjz3adrBc35qU3KPjnW8n5/M3/pxN8u98/pxN\n",
              "8u98/pxN8v98FxMKmEnq6+v10EMPqaysTI2Njfrxj3+s1NRU/eIXv1Bra6tcLpeeeOIJBQYG+joq\n",
              "AFy03G63SktLvdvFxcVyuVynjFm7dq3Gjx/freNVVNT1KIfLFaaSkmrv9tiUaC1ZZdHyjw/oG0Nd\n",
              "slh8O73hn/P5E3/OJvl3Pn/OJvl3Pn/OJvU8H6WtdzAF0SQfffSRhg8frldffVV//OMf9dhjj+mp\n",
              "p57SnDlz9NprrykpKUlLly71dUwAuKhNnDhRK1askCRlZ2fL7XafdqZr586dSk1NNTVXmCNQ49Nj\n",
              "VVLZoO25pWffAQDgtyhgJrnuuut09913S5IKCgoUGxur9evXa9q0aZKkKVOmKCsry5cRAeCiN3r0\n",
              "aKWnpysjI0O//vWvtXDhQi1btkyrVq3yjikpKVF0dLTp2aaPTZQkrdqYb/pnAwDOH6YgmiwjI0OF\n",
              "hYV65pln9P3vf9875TA6OrrTC70BAOY6+V5fkk472/Xuu++aGcervytUwy5xavfhCh0pqtaAWKYG\n",
              "AUBfRAEz2ZIlS7Rnzx7927/92ykXd3d2oXdnzvWC7tbWNu9zf5zHS6bu8bdM/pZHIlN3+WMmdN/0\n",
              "sYnafbhCH246qh9cn+brOACAHqCAmWTXrl2Kjo5WfHy80tLS1NraqpCQEDU0NMhut6uoqEhut/us\n",
              "xznXC7pb274qYP52cag/XrBKprPztzwSmbrL15kof1/fyORouZ3BWre7SLdOTlZ4CAs3AUBfwzVg\n",
              "Jtm0aZNeeOEFSe33mamrq9OECRO8F3uvXLlSV111lS8jAgD8nMUwNGNsolpa27R2GzdmBoC+iAJm\n",
              "koyMDJWXl2vOnDm655579PDDD+v+++/X8uXLNWfOHFVWVuqmm246759riDsxA8CFZOKIOAUH2fTR\n",
              "lmNqOWmaOQCgb2AKoknsdrt+97vfnfb6iy++2Kuf61H3ri0DAPQN9kCbrhoZr5Ub87VxT7HGD4/z\n",
              "dSQAwDngDBgAAH3MtDH9ZRjSyo353V7ECQDgHyhgAAD0Ma7IYI1OcSmvqFo5R6t8HQcAcA4oYAAA\n",
              "9EEzxnXcmHkTN2YGgL6EAgYAQB+U0j9CA2JDtWV/iUqr6n0dBwDQTRQwAAD6IKNjSXqPR1qzmSXp\n",
              "AaCvoIABANBHXZ4Wq/CQQH28/bgamlp8HQcA0A0UMAAA+qgAm0VTLuun+sYWfb6z0NdxAADdQAED\n",
              "AKAPm3xZP9mshj7cfFRtLEkPAH6PAgYAQB8WERKobwyLVVF5nXYdLPN1HADAWVDAAADo42aM7ViS\n",
              "fiNL0gOAv6OAAQDgR4rqSpRbnndO+wyIDdPQxEhlH67QsZKaXkoGADgfKGAAAJxk8eLFmj17tjIy\n",
              "MrRjx45T3isoKNAdd9yhW2+9VQ8//HCvfP7SnHf0f1c/oaPVx89pvy9vzPzh5qO9EQsAcJ5QwAAA\n",
              "6LBhwwbl5eUpMzNTixYt0qJFi055/7HHHtMPfvADLV26VFarVcePn1tJ6o7J/a9Ua1urXtz9uppa\n",
              "m7u936WDYxQTYdcXuwpVU9/9/QAA5qKAAQDQISsrS9OnT5ckJScnq6qqSjU17VP62tratHnzZk2d\n",
              "OlWStHDhQiUkJJz3DOnRQzVz8GQV1hbp7dz3u72fxWJo+thENbe06eNt3JgZAPwVBQwAgA6lpaVy\n",
              "Op3e7aioKJWUlEiSysvLFRISokcffVR33HGHfve73/Vaju+OullxDrfWHv1cu8v2dXu/K0fEKyjQ\n",
              "qjVbjqmlta3X8gEAes7m6wAAAPgrz0n31fJ4PCoqKtK8efPUr18/3XPPPVq7dq0mT558xv2dTods\n",
              "NmuPPvvBK3+oBR/+Rn/d9zf9duYvFR4U2q39rv5Gkt799KByCqo16bL+Pfrs7nC5wnrt2F+XP2eT\n",
              "/DufP2eT/DufP2eT/D/fxYQCBgBAB7fbrdLSUu92cXGxXC6XJMnpdCohIUEDBgyQJI0fP145OTld\n",
              "FrCKiroe5XC5whTaEqlZA6/R8tz39afPXtLdI+bJMIyz7jthmFt///Sg3lyTo7T+ET36/O7kKymp\n",
              "7pVjf13+nE3y73z+nE3y73z+nE3qeT5KW+9gCiIAAB0mTpyoFStWSJKys7PldrsVGtp+5slmsykx\n",
              "MVGHDx/2vj9w4MBezTNtwCSlRA7S9tJsZRVs6tY+sU6HRg2O0cHjJ5R7rKpX8wEAzh1nwEz0+OOP\n",
              "a/PmzWppadG9996rNWvWKDs7W5GRkZKku+66q8ufpAIAetfo0aOVnp6ujIwMGYahhQsXatmyZQoL\n",
              "C9OMGTO0YMECPfTQQ/J4PBoyZIh3QY7eYjEsmjdsthZv+IP+lvO2UiIHyeWIPut+M8b217YDpVq1\n",
              "KV/J/XrnLBgAoGcoYCZZt26dcnJylJmZqYqKCt1888264oor9POf/1xTpkzxdTwAQIf58+efsp2a\n",
              "mup9npSUpNdff93UPFF2pzKG3KwXd7+ul3e/rgdH/4uslq6vK0tNcqq/K0Sb9paofEqDosLtJqUF\n",
              "AJwNUxBNMm7cOD355JOSpPDwcNXX16u1tdXHqQAAfcHYuMs0NvZSHTpxRB/krTnreMMwNGNsoto8\n",
              "Hq3ZwpL0AOBPKGAmsVqtcjgckqSlS5dq0qRJslqtevXVVzVv3jw9+OCDKi8vP++fe9ICXgCAPmz2\n",
              "kJvlDIrUB4dX61BV3lnHX5Eeq9DgAH287Zgam/mBHwD4C6YgmuzDDz/U0qVL9cILL2jXrl2KjIxU\n",
              "Wlqann32WT399NN6+OGHu9z/XJc0Pvk+MP64kg2ZusffMvlbHolM3eWPmdA9joBg3Tlstp7c+qxe\n",
              "2r1E/z7uZ7Lbzjy1MMBm1eTL+unvXxxW1q5CTb6sn4lpAQBnQgEz0aeffqpnnnlGzz//vMLCwjR+\n",
              "/Hjve1OnTtUjjzxy1mOc65LGJxcwf1se1R+XbCXT2flbHolM3eXrTJS/ry/FmazpA76pVUfW6s2c\n",
              "d/WdtNu6HD91dD99sD5Pyz89qEtTYhQZGmRSUgDAmTAF0STV1dV6/PHH9ec//9m76uH999+v/Px8\n",
              "SdL69euVkpLiy4gAgD7ghkFXq39ogr4o2KhtJbu6HBsZGqTbJg/WibpmPffubrW1MS8dAHyNM2Am\n",
              "ef/991VRUaEHHnjA+9ott9yiBx54QMHBwXI4HHr00Ud9mBAA0BfYLDZ9P/0OPbbxSb22d6kGhg9Q\n",
              "RFD4GcdPH9tfe/IqtO1Aqd7LOqxZE3v33mUAgK5RwEwye/ZszZ49+7TXb775Zh+kAQD0ZXEhsbp5\n",
              "8A16Y/9yvbLnDf141A9kMTqf1GIYhn5wfZoeeXGDln92SEMHODUkMdLkxACALzEFEQCAPmhSv/Ea\n",
              "FjVUe8r365OjWV2ODQ0O0L3fSpchQ39+J1vVdU0mpQQA/DMKGAAAfZBhGPpu2u0KDQjR8tz3dLym\n",
              "sMvxKf0jdfOkgaqobtQL7+2Rh/uUAIBPUMAAAOijIoLCNCf1VjW3teil3a+rua2ly/HXXpGk9Euc\n",
              "2p5bplUb801KCQA4GQUMAIA+bJQrXRMTLtexmgL9/eCKLsdaDEM/nJWu8JBA/W1trg4VnDApJQDg\n",
              "SxQwAAD6uFsGz5IrOFqrj3yi/RUHuhwbERKou2cNU1ubR/+zfJfqGro+awYAOL8oYAAA9HF2W5Du\n",
              "HHaHDMPQy7szVddc1+X49EuidP2EJJVWNeilD/ZyPRgAmIgCBgDABWBgxABdd8l0VTZWacm+t85a\n",
              "qm68cqBS+kdo095ifbztuEkpAQAUMAAALhBXJ03RwPAkbS7ero1FW7sca7VYdO+30hVit+n11TnK\n",
              "L64xKSUAXNwoYAAAXCCsFqvuHJahIGugMvctV1l9RZfjo8Ltuuv6YWpuadMzb+9SY1OrSUkB4OJF\n",
              "AQMA4ALickTrtpQb1dDaoJd3L1Gbp63L8ZemxOjqcYkqKKvTq6v2mZQSAC5eNl8HAADAnyxevFjb\n",
              "t2+XYRhasGCBRo4c6X1v6tSpiouLk9VqlST99re/VWxsrK+intEV8WO1q2yvtpXs1Id5H+vqS6Z0\n",
              "Of7Wycnan1+pz3cWKi3JqQnD401KCgAXHwoYAAAdNmzYoLy8PGVmZio3N1cLFixQZmbmKWOee+45\n",
              "hYSE+Chh9xiGoTtSb9GhqsN699AKpUanaEBY/zOOt1kt+tGN6frPlzbqlRX7NTA+XPHR/v1rBIC+\n",
              "iimIAAB0yMrK0vTp0yVJycnJqqqqUk1N31ycIjQgRHPTZqvN06aXspeoqbW5y/Fup0N3zkxVY3Or\n",
              "nnk7W80tXA8GAL2BAgYAQIfS0lI5nU7vdlRUlEpKSk4Zs3DhQt1xxx367W9/6/f3z0qLHqLJ/Seq\n",
              "qK5Yb+e+f9bxl6fFavKlCcovrtGSNV3f0BkA0DNMQQQA4Az+uWD99Kc/1VVXXaWIiAj95Cc/0YoV\n",
              "KzRz5swz7u90OmSzWXv02S5XWI/2+2c/dN6unKpcrT36ua5MHqORcWldjr8vY7QOF9Xooy3H9I0R\n",
              "CZo4MqFX8/UGf84m+Xc+f84m+Xc+f84m+X++iwkFDACADm63W6Wlpd7t4uJiuVwu7/ZNN93kfT5p\n",
              "0iTt37+/ywJWUVHXoxwuV5hKSqp7tG9nvjv0dj2x+Wk9ve5l/cflD8oR4Ohy/A+vT9P/e3mjnlyy\n",
              "Vc5gm1yRwb2a73zy52ySf+fz52ySf+fz52xSz/NR2noHUxABAOgwceJErVixQpKUnZ0tt9ut0NBQ\n",
              "SVJ1dbXuuusuNTU1SZI2btyolJQUn2U9FwPC++u6S2aosrFKmfuXn3V8QkyIvjtjqOobW/Tnd7LV\n",
              "0tr1UvYAgO7jDBgAAB1Gjx6t9PR0ZWRkyDAMLVy4UMuWLVNYWJhmzJihSZMmafbs2QoKCtKwYcO6\n",
              "PPvlb65Omqzssj3aVLRNI2OGaUzspV2OnzgiTnvyypWVXaRlnxzU7VMGm5QUAC5sFDATPf7449q8\n",
              "ebNaWlp07733asSIEfrFL36h1tZWuVwuPfHEEwoMDPR1TAC4qM2fP/+U7dTUVO/zO++8U3feeafZ\n",
              "kc4Lq8WqecNm69ENf9SSfW8pOXKgIoMizjjeMAx99+qhOlhQrQ/WH1HqAKdGJkebmBgALkxMQTTJ\n",
              "unXrlJOTo8zMTD3//PNavHixnnrqKc2ZM0evvfaakpKStHTpUl/HBABcwNwOl25JuUF1LfV6dc/f\n",
              "zrqKY3CQTf9yY7psVoue//tuVVQ3mpQUAC5cFDCTjBs3Tk8++aQkKTw8XPX19Vq/fr2mTZsmSZoy\n",
              "ZYqysrJ8GREAcBG4MuEKDYseqj3l+/XJsbN/3xkQG6bZUwerpr5Zz76TrbY2/156HwD8HQXMJFar\n",
              "VQ5H+6pTS5cu1aRJk1RfX++dchgdHX3avWYAADjfDMPQd1NvU4jNobcOvKei2uKz7jN1dD+NGeLS\n",
              "vvxKvfP5IRNSAsCFi2vATPbhhx9q6dKleuGFF3T11Vd7X+/uzTzP9Z4yzS1frVzlj0uJkql7/C2T\n",
              "v+WRyNRd/pgJ5osICldG6i36312v6uXdmfrXMT+W1XLm7y2GYej716XqcGG13v38sMaP6qfY8CAT\n",
              "EwPAhYMCZqJPP/1UzzzzjJ5//nmFhYXJ4XCooaFBdrtdRUVFcrvdZz3Gud5T5uSlg/3t/hT+eM8M\n",
              "Mp2dv+WRyNRdvs5E+fMvo90jtTNutDYUbtEHeWt0/cAZXY532AN0743pevSVzXpm2Q7933ljZLUw\n",
              "kQYAzhV/c5qkurpajz/+uP785z8rMjJSkjRhwgTv/WZWrlypq666ypcRAQAXmduH3ChnUKQ+OLxa\n",
              "h08cOev4wf0idNWoeOUVVuvjbcdNSAgAFx4KmEnef/99VVRU6IEHHtDcuXM1d+5c/ehHP9Ly5cs1\n",
              "Z84cVVZW6qabbvJ1TADARSTYFqx5w25Xm6dNL+9eoqbWprPuc/OkZDnsNr31yUHV1DebkBIALixM\n",
              "QTTJ7NmzNXv27NNef/HFF32QBgCAdkOcgzU18Sqtyf9Ubx14X7OHdv3DwIiQQGXMGKoX3s3W258d\n",
              "0ndmDDEpKQBcGDgDBgDARe5bg2YqLiRWnxz7QrvL9p11/A1XDlKsM1gfbTmmYyU1JiQEgAsHBQwA\n",
              "gItcgDVA3xuWIath1at73lBtc9cLPgXYLMqYlqI2j0dLVud0eyVfAAAFDAAASEoM66frB85QVVO1\n",
              "luxbdtZSNTI5WsMHRin7cIW2HygzKSUA9H0UMAAAIEmakTRZgyKStKV4hzYVbetyrGEYypiWIoth\n",
              "aMmanFPuOwkAODMKGAAAkCRZDIvmpWUo0BqozP3LVdFQ2eX4hJgQTR3TT8UV9fpwc75JKQGgb6OA\n",
              "AQAAL5cjWrcOnqX6lnq9sucNtXm6PrN145UDFRocoHc/P6yqmkaTUgJA30UBAwAAp5iQcLmGR6dp\n",
              "X8UBfXz0iy7HhtgDdPOkQWpoatWbnxw0KSEA9F0UMAAAcArDMPSdtFsVGhCit3PfV2FtUZfjvzkq\n",
              "Qf1dofp8R4EOFZwwKSUA9E0UMAAATrJ48WLNnj1bGRkZ2rFjR6djfve732nu3LkmJzNXeGCY7kj9\n",
              "tprbWvTS7iVqaWs541iLxdAd01PkkfT6hyxLDwBdoYABANBhw4YNysvLU2ZmphYtWqRFixadNubA\n",
              "gQPauHGjD9KZ71LXcF0RN1b51cf0j8OruxybluTUmCEuHThWpfV7uj5jBgAXMwoYAAAdsrKyNH36\n",
              "dElScnKyqqqqVFNTc8qYxx57TA8++KAv4vnErUO+pSi7UysOr9Ghqrwux942dbBsVov+9lGuGptb\n",
              "TUoIAH0LBewCxywQAOi+0tJSOZ1O73ZUVJRKSkq828uWLdPll1+ufv36+SKeTwTb7JqXNluS9PLu\n",
              "JWpsbTrjWHdksK65PFEV1Y36x7quyxoAXKxsvg4AAIC/OvlapsrKSi1btkwvvviiioq6N8XO6XTI\n",
              "ZrP26LNdrrAe7dcbXK5ROlg/Xe/sXaV/HF2hu+PmnDHfnbOGKyu7UB+sP6Ibp6TI7XSYnNa/fu86\n",
              "48/5/Dmb5N/5/Dmb5P/5LiYUMAAAOrjdbpWWlnq3i4uL5XK5JEnr1q1TeXm5vvOd76ipqUlHjhzR\n",
              "4sWLtWDBgjMer6Kirkc5XK4wlZRU92jf3jI1boo25e/UqtxPNSZhpBIDks449pZJg/T83/foz29u\n",
              "149uHG5iSv/8vTuZP+fz52ySf+fz52xSz/NR2noHUxABAOgwceJErVixQpKUnZ0tt9ut0NBQSdLM\n",
              "mTP1/vvv64033tDTTz+t9PT0LsvXhSbAYtP30u+QzbDqmY2vqKap9oxjr0iP06CEcG3YU6z9+ZUm\n",
              "pgQA/0cBAwCgw+jRo5Wenq6MjAz9+te/1sKFC7Vs2TKtWrXK19H8Qr/QeN0w6BpVNpzQ6/uWnXG5\n",
              "eYvRviy9JL324X61tXFBMgB8iSmIAACcZP78+adsp6amnjamf//+euWVV8yK5FemDZikfSf2a1vJ\n",
              "Tm0o3KJvxI/pdFxyQoTGp8cpK7tQn+0s0KRRCSYnBQD/xBkwAADQbRbDop9cfqeCrIF6Y//bKm+o\n",
              "OOPYWycnKyjAqmUf56qu4cw3cgaAiwkFzET79+/X9OnT9eqrr0qSHnroIc2aNUtz587V3LlztXbt\n",
              "Wt8GBACgG9yhMbo15UY1tDbold1vqM3T1uk4Z1iQrh+fpBN1zfr7F4fNDQkAfoopiCapq6vTr371\n",
              "K40fP/6U13/+859rypQpPkoFAEDPjI8fq52lu7WjNFtr8z/T1AGTOh13zeWJ+mT7ca3alK9JlyYo\n",
              "Lsr8ZekBwJ9wBswkgYGBeu655+R2u30dBQCAr80wDM1J/bbCAkL19sEPdLymsNNxATarZk8drNY2\n",
              "jzJX55icEgD8DwXMJDabTXa7/bTXX331Vc2bN08PPvigysvLfZAMAICeCQsM1ZzUb6ulrUUv716i\n",
              "lrbOr/MaPcSl1AGR2p5bpp0Hy0xOCQD+hSmIPnTjjTcqMjJSaWlpevbZZ/X000/r4Ycf7nIfp9Mh\n",
              "m83a7c9obmn1PvfHm+mRqXv8LZO/5ZHI1F3+mAl920hXuibEj9MXBRv13qFVujH52tPGGIahO6YP\n",
              "0SMvbtCS1TlKS3LKZuVnwAAuThQwHzr5erCpU6fqkUceOes+FRV15/QZzS1fXRjtb3do98e7xpPp\n",
              "7Pwtj0Sm7vJ1JsrfhevbKbO0ryJXq/LWanh0mpIjLzltTKI7VN+8tJ/Wbj2mj7Yc04xxieYHBQA/\n",
              "wI+ffOj+++9Xfn6+JGn9+vVKSUnxcSIAAM6d3WbXvGGzJUl/2b1EDS0NnY676aqBcgTZ9PZnh1Rd\n",
              "12RmRADwG5wBM8muXbv0m9/8RseOHZPNZtOKFSv03e9+Vw888ICCg4PlcDj06KOP+jomAAA9Mjhy\n",
              "oGYkTdbKvI+07MDfNSf11tPGhDsCdeOVA/X66hwt//SQ5l4z1AdJAcC3KGAmGT58uF555ZXTXr/m\n",
              "mmt8kAYAgPPv+oEzlF22V58f36ARMcM0ImbYaWOmjO6ntduOae22Y5p8WT8lukN9kBQAfIcpiAAA\n",
              "4LywWWz63rA7ZDOs+uuepapuqjl9jNWiO6alyOORXv9wvzwejw+SAoDvUMAAAMB5kxAap1nJM1Xd\n",
              "XKPX977ZacEaPihao5KjtfdIpbbsL/FBSgDwHQoYAAA4r6YmXqWUyEHaXpqtdYWbOx0ze1qKrBZD\n",
              "mWsOqLG5tdMxAHAhooABAIDzymJYNDdttuxWu5buf1tl9eWnjYmLcmjG2ESVVjXouXd3q62NqYgA\n",
              "Lg4UMAAAcN5FBzt1+5Ab1dDaqJd3Z6rN03bamJsnDVLqgEht2V+iJWtyfJASAMxHAQMAAL3i8rjR\n",
              "utQ1XLlVh7T6yCenvR9gs+i+W0aoX0yIPtx0VCs3HPFBSgAwFwXsgseUDgA4F4sXL9bs2bOVkZGh\n",
              "HTt2nPLeG2+8odtvv10ZGRl65JFHWMHvLAzD0B1Dv62wwFD9/eAKHaspOG2Mwx6gB24bpcjQQGWu\n",
              "OaBNe4t9kBQAzEMBAwCgw4YNG5SXl6fMzEwtWrRIixYt8r5XX1+v9957T3/961+1ZMkSHTx4UFu3\n",
              "bvVh2r4hNDBE3029TS2eVr0Y8wR4AAAgAElEQVS8e4ma21pOGxMdYdcDt41SYKBVz767W/vzK32Q\n",
              "FADMQQEDAKBDVlaWpk+fLklKTk5WVVWVamra72UVHBysl19+WQEBAaqvr1dNTY1cLpcv4/YZw2PS\n",
              "NDHhGzpWU6D3Dq7sdMyA2DD95Obh8ng8+tObO1RQVmtySgAwBwUMAIAOpaWlcjqd3u2oqCiVlJx6\n",
              "n6pnn31WM2bM0MyZM5WYmGh2xD7rlsE3KCY4Wh8e+VgHKg91Omb4wGjdOTNVtQ0t+sMb21VV22Ry\n",
              "SgDofTZfBwAAwF91do3XPffco3nz5unuu+/WmDFjNGbMmDPu73Q6ZLNZe/TZLldYj/Yzy7nnC9MD\n",
              "E36gX675rV7d94aeuOY/5AgIPm3UzdPC1NDSptdW7tN/Ld+lR/9louxB5/bPlQvv9848/pxN8u98\n",
              "/pxN8v98FxMKGAAAHdxut0pLS73bxcXF3mmGlZWVysnJ0bhx42S32zVp0iRt2bKlywJWUVHXoxwu\n",
              "V5hKSqp7tK8ZeprPKZeuGTBFH+St0Z+zXtd3027rdNy0yxJ0pPCEPttRoF/97zrd/+0Rslq6N2nn\n",
              "Qv29M4M/Z5P8O58/Z5N6no/S1juYgggAQIeJEydqxYoVkqTs7Gy53W6FhoZKklpaWvTQQw+ptrb9\n",
              "2qSdO3dq4MCBPsvaV107cLoSQxOUVbBR20uyOx1jGIbmXTNUwwdGaUdumf66cj8rTgK4YFDAAADo\n",
              "MHr0aKWnpysjI0O//vWvtXDhQi1btkyrVq1STEyMfvKTn2jevHmaPXu2IiMjNW3aNF9H7nNsFpvu\n",
              "TL9DNotNr+1dqhNNnf9U3ma16F9uGq4B7lCt3XZc76/LMzkpAPQOpiACAHCS+fPnn7KdmprqfX7L\n",
              "LbfolltuMTvSBSc+JFY3Jl+rN3Pe1Wt7l+reEd+TYRinjQsOsulnt43Solc26c2PDyoq3K7x6XE+\n",
              "SAwA5w9nwAAAgOkm95+oIc7B2lm6R8/seFHVTTWdjnOGBenB20YpOMimF97boz2Hy01OCgDnFwUM\n",
              "AACYzmJY9IP0OUqLGqJdZXu1aMPvlV22r9Ox/Vyhuu+WEZKkp9/aqaMlnZc1AOgLKGAAAMAnwgJD\n",
              "9eNRP9Atg29QfXO9/nv7/2rp/nfU3Np82ti0JKfuuj5N9Y2t+sMb21VR3eiDxADw9VHAAACAz1gM\n",
              "i6YNmKT5Y+9XrMOtj45+pic2P63jNYWnjb0iPU7f/uYgVVQ36g9vbFd9Y4sPEgPA10MBM9H+/fs1\n",
              "ffp0vfrqq5KkgoICzZ07V3PmzNHPfvYzNTU1+TghAAC+kRiWoIfG/VRX9rtCx2oK9Pimp/Tx0S9O\n",
              "W37+uiuSNOWyfjpaUqP/fmunWlrbfJQYAHqGAmaSuro6/epXv9L48eO9rz311FOaM2eOXnvtNSUl\n",
              "JWnp0qU+TAgAgG8FWgN1x9BbdM+IOxVoDdQb+5frmR0vnbJAh2EYmjMjRaOSo5V9uEIv/2Mv9wgD\n",
              "0KdQwEwSGBio5557Tm632/va+vXrvfeQmTJlirKysnwVDwAAvzHKla4Flz+ooc7B2lW2R4s3/EF7\n",
              "yvZ737daLPrRjcM1MD5Mn+8q1NufHfJhWgA4NxQwk9hsNtnt9lNeq6+vV2BgoCQpOjpaJSUlvogG\n",
              "AIDfiQyK0H2X/lA3D75etc11enr783oz5101t7Vf9xUUaNVPbx2lmAi73vn8sD7ZftzHiQGge7gR\n",
              "s5/o7vQJp9Mhm83a7eM2Nbd6n7tcYeecq7eRqXv8LZO/5ZHI1F3+mAk4E4th0fQB39QQZ7Jeyn5d\n",
              "a/I/1b6KA/p++hzFh8QqIiRQD94+Sotf2ay/fLBPzrAgTeW/cQB+jgLmQw6HQw0NDbLb7SoqKjpl\n",
              "euKZVFTUndNnNLd8VcBKSqrPOWNvcrnCyNQN/pbJ3/JIZOouX2ei/KGnBoT11/8Z9zO9mfOuPj++\n",
              "Xr/Z+KRuGTxLV/W7QvHRIfrprSP1xOvb9N/LdympX6TCg7r/g0oAMBtTEH1owoQJWrFihSRp5cqV\n",
              "uuqqq3ycCAAA/xRkDdSc1G/r7hHzFGgJVOb+t/TnnS+rpqlWKf0jdc+sYWpqatXDz2ZpR26Zr+MC\n",
              "wBlRwEyya9cuzZ07V2+99Zb+8pe/aO7cubrvvvu0fPlyzZkzR5WVlbrpppt8HRMAAL92qWu4Fnzj\n",
              "QQ1xDtbO0t1atOH32lO+X2NT3brz2lTVNTTrj3/brtc/zFFzC0vUA/A/TEE0yfDhw/XKK6+c9vqL\n",
              "L77ogzQAAPRdkUERuv/SH2r1kU/0zsEP9PS25zUtcZJmjZipS1Nj9djLG7VqU772HanQvTemKz46\n",
              "xNeRAcCLM2AXOG6NAgC4EFkMi2YkTda/jblP7uAYrc7/RL/d9LSCwuu18HvjNGlUvI4U1+g/X9qo\n",
              "T7Yf515hAPwGBQwAAPRZA8LbF+iYED9OR2uO698++LWW5r6lGybH6sc3DZfNYtFL/9ir/1m+S7UN\n",
              "zb6OCwBMQQQAAH2b3Rak76TdpuExaXr38Af6omCD1hVu0jfixuhn35moN1cWaNO+Eh0sOKF7ZqVr\n",
              "SGKkryMDuIhxBgwAAFwQRrmG6w8zF+rOYRlyBUcrq2Cjnsp+SgmjD2jGlVGqrG7Sb17borc+OajW\n",
              "NhboAOAbnAEDAOAkixcv1vbt22UYhhYsWKCRI0d631u3bp1+//vfy2KxaODAgVq0aJEsFn6W6U8s\n",
              "FosujxutsbGXakvRdv3j8GqtL9wsi7FVl05L16GtsXr3i8PanVeue2elKyYy2NeRAVxk+K4BAECH\n",
              "DRs2KC8vT5mZmVq0aJEWLVp0yvsPP/ywnnrqKS1ZskS1tbX69NNPfZQUZ2MxLBobd5n+4xs/1w/S\n",
              "v6NYh0t7TuxUY/JqxV+2XwfLjmvhixu0fneRr6MCuMhwBgwAgA5ZWVmaPn26JCk5OVlVVVWqqalR\n",
              "aGioJGnZsmXe51FRUaqoqPBZVnSPxbBoTOwoXeYeoW0lu/SPQx/qeO1BBY88pLbyeD27skq7Dg3W\n",
              "nOlDFBzEP4sA9D7OgAEA0KG0tFROp9O7HRUVpZKSEu/2l+WruLhYn3/+ub75zW+anhE9YzEsGu0e\n",
              "qX+//AHdPXyuEkLjZEQdl33EZ9pQ94Eefm21DhWc8HVMABcBftQDAMAZdHbvqLKyMv3oRz/SwoUL\n",
              "TylrnXE6HbLZrD36bJcrrEf7mcWf850t2wz3BE0bdoU2Hduhpdnv67CRr9qoQv3m82xdl3y1vj/9\n",
              "Clkshs/y+ZI/Z5P8O58/Z5P8P9/FhAIGAEAHt9ut0tJS73ZxcbFcLpd3u6amRnfffbceeOABXXnl\n",
              "lWc9XkVFXY9yuFxhKimp7tG+ZvDnfOeSbWBQsuZfdp92lu7Wsn0rVBJVqBUVf9Gnr3yku8Z+S6nu\n",
              "JJ/mM5s/Z5P8O58/Z5N6no/S1juYgggAQIeJEydqxYoVkqTs7Gy53W7vtENJeuyxx3TnnXdq0qRJ\n",
              "voqI88wwDI10pWvhxAd159C5srdEq86erz/t+i89kfWcjlYf93VEABcYzoABANBh9OjRSk9PV0ZG\n",
              "hgzD0MKFC7Vs2TKFhYXpyiuv1PLly5WXl6elS5dKkm644QbNnj3bx6lxPhiGocv7jdDY+HS9vuEL\n",
              "fVb8iQ4rR49u/KNSI9J0y9CZ6hca7+uYAC4AFDAAAE4yf/78U7ZTU1O9z3ft2mV2HJjMYrHoO1dc\n",
              "qUlFo/Rfqz9SVehO7dUeLd6wR2kRw3TL0JlKCI3zdUwAfRhTEAEAAP5JYmyYFmfM0vcG36XQwglq\n",
              "qwnXnqrdWrT+93p680sqqOX+YQB6hjNgAAAAnbBYDH1jWJzGpd2oLfsm6M1tX6gyZJf2GLv163W7\n",
              "lRaRrlvTrlVciNvXUQH0IRQwAACALlgMQ2NT3Roz9EZtPzBRS7d+obLgndpjZOtX63YrNSJdtw+7\n",
              "VrEO19kPBuCiRwEDAADoBsMwdGmKS6MGf0vZh67UG1s+U0nQDu01dun/ZWUrNTxds9OvlZsiBqAL\n",
              "FDAAAIBzYBiGhg+K1vBBN2pv3lVasvkzFQVu015jl/4zK1upYemaPfw6uR0xvo4KwA9RwHxs/fr1\n",
              "+tnPfqaUlBRJ0pAhQ/TLX/7Sx6kAAEB3pCZF6ZGkbynn6CQt2fSpjtu2eovY0LDhumP4tXJRxACc\n",
              "hALmBy6//HI99dRTvo4BAAB6KKV/pH7Zf5YOHp+k1zd9rKPWrdpn7NQjWbs0NHSE5oy4VjGOaF/H\n",
              "BOAHKGAAAADnyaCECP3Ht76lw4Xf1OubPtERY4v2GTu0MGunhoSM0M2jr1JYW4QigyJkGIav4wLw\n",
              "AQqYHzhw4IB+9KMfqaqqSvfdd58mTpzo60gAAOBruCQuQv9+wyzll0zWaxvX6rBns/YbO/Sbz3ZI\n",
              "koKsQUoIiVV8SJziQ2OVEBKn+JBYhQeGUcyACxwFzMcuueQS3Xfffbr22muVn5+vefPmaeXKlQoM\n",
              "DOx0vNPpkM1m7fbxG5pavM9drrCvnfd8I1P3+Fsmf8sjkam7/DETcCFLdIXp/1w3SwVlk5W5KUv7\n",
              "So+oLfCEPI4aHWrJ16ETR04ZH2JzKC4k9pRSlhASp9DAEB/9CgCcbxQwH4uNjdV1110nSRowYIBi\n",
              "YmJUVFSkxMTETsdXVNSd0/Ebm1u9z0tKqnsetBe4XGFk6gZ/y+RveSQydZevM1H+cDGLjw7TA9dc\n",
              "LUeoXe+szdFHW4+poLxGhr1W0bHNSkyUbCE1Km4o1sGqw8qtOnTK/mEBoYoPbS9kX5ay+JBYOQKC\n",
              "ffQrAtBTFDAfe+edd1RSUqK77rpLJSUlKisrU2xsrK9jAQCAXhASHKDpYxM1bUx/7c+v1Edbj2nz\n",
              "vhKVHvYoKNCl8cOu0NxRsQoIrVdBbaEKaotUUFuo4zVF2l9xQPsrDpxyvMigiPYy1nHGLCEkTnEh\n",
              "bgVaO59JA8D3KGA+NnXqVM2fP1+rV69Wc3OzHnnkkTNOPwQAABcGwzA0dIBTQwc4VVXTqE92FOiT\n",
              "bce0dttxrd12XIP7RWjKZf10XeooBXRcetDQ0qiiumId95ay9oK2u3yfdpfv++rYMhQTHNVRzOK8\n",
              "15q5HTGyWfinH+Br/F/oY6GhoXrmmWd8HQMAAPhIRGiQZk24RNdfkaQduWX6aOsx7TpYpgPHqvT6\n",
              "6gBdOTJeky9NkNvpUFJ4opLCT71Moa65XgW1RTpeW+gtZsdrC7W9NFvbS7O946yGVbEOV8c0xjgl\n",
              "hLY/xgRHyWJYzP5lAxctChgAAIAfsFgMXZoSo0tTYlRcWa+Ptx3Tp9sL9MH6I/pg/RENHxilKZf1\n",
              "08jB0bJavipMjoBgJUdeouTIS7yveTweVTfXeM+StT+2F7PjtYWStnvHBlgCFB/iVv/IOKnFqiBb\n",
              "oOzWIAVZgxRkDTz10fbl9levBVhsrNwInAMKGAAAgJ9xRwbrtsmDddOVg7RpX3H7WbFD5dp1qFzO\n",
              "sCB989IETRqVoMjQoE73NwxD4YFhCo8KU2pUivd1j8ej8obKr8pYTcd0xtoiHak+1qOshoyvCllH\n",
              "QbNbgxQTHK1U52ANiRqs8EAW4QG+RAEDAOAkixcv1vbt22UYhhYsWKCRI0d632tsbNTDDz+snJwc\n",
              "LVu2zIcpcbEIsFk0Pj1O49PjlF9co7Vbj+mL7EIt//SQ3v7skAa4wzR0QKSGJLZ/hQYHdHk8wzAU\n",
              "HexUdLBTw2PSvK+3trUqMFw6XlyuxtZGNbY0tT+2Nqqxtanjq9H72NDSeNprja1Nqm9uUGVDlZra\n",
              "mpVTeVBZBRslSQkhcUqNStFQ52ANjhwku63z4ghcDChgAAB02LBhg/Ly8pSZmanc3FwtWLBAmZmZ\n",
              "3vcff/xxpaWlKScnx4cpcbFKdIdq7jVDdevkZK3bXaR12YU6VHBCeUXVWrkxX5LU3xWioYlODeko\n",
              "ZREh3VvYy2qxKio4TK2O7t9rtCutba06VlOgvRU52ld+QLlVh3Q8v1Br8j+VxbBoYHiSUqMGa6gz\n",
              "RZeEJ8pqOT+fC/QFFDAAADpkZWVp+vTpkqTk5GRVVVWppqZGoaGhkqQHH3xQlZWVeuedd3wZExe5\n",
              "4CCbplzWT1Mu66em5lblHj+h/fmV2nekQrnHT+hoSa1WbzkqSYqPdmhox9mxoQOccoaZc+bJarFq\n",
              "QHh/DQjvr6uTpqi5tVkHq/K8hezLe529d2iVgqyBSolM9p4hiw+J5ZoyXNAoYAAAdCgtLVV6erp3\n",
              "OyoqSiUlJd4CFhoaqsrKSl/FA04TGGBVWpJTaUlOSQPV3NKmw4UntO9IpfblV+rA0Srv0vZS+7Vl\n",
              "QwZEamhi+1dMpDk3cg6wBmho1GANjRosJUt1zXXaX3lQ+8pztLciR7vK9mhX2R5JUnhgmIY6B2to\n",
              "VIpSnYPltEee9fjNrc2qbalTXXO96lrqVdtcp7qWetX902Ntc/uYxrYmRQaGK8rePh0zyu5UtD1K\n",
              "0cFOhQeGmbIqZGtbqyoaq1TeUHHSV6XKGyokSTHBUYqxRys6OEoxwVGKDo5SiM1BOb0AUMAAADgD\n",
              "j8fztfZ3Oh2y2Xo2tcrl8u9FC/w5nz9nk3o/X0J8hCZc1r5UfWtrm3KPVWlXbql2HSzT7oNl+mxH\n",
              "gT7bUdCexRms9EHRGj4oRukeKSEmVBaLGf/AD1NSQqxmaLwkqbS2XDuL9mpn8T7tLNqrjUVbtbFo\n",
              "a/uvJyxWw91DFXg0QDVNdapprlNtU237847H5tbmbn+yzWJTkDVAhbVFZ3w/xuGUKyRarpBouUOi\n",
              "5XJ89TwyOLzTgvbPf65NLU0qrStXSV25SmrLVFLb/ry0tkwldeUqr6/s8u+YfRWnvxYcYFdsSIzc\n",
              "ITFyh8YoNiRGsaEx7RlDohVgPfM1gP7+/8XFhAIGAEAHt9ut0tJS73ZxcbFcLlePj1dRUdej/Vyu\n",
              "MJWUVPf4c3ubP+fz52ySb/I5g226anicrhoep7Y2j/KLa7Qvv1L7O77Wbj6qtZvbpyw6gmy6JD5M\n",
              "A+PDvV/mTFsM0PCwERoeNkIZgzwqqC3yTlfMqczVytxPThltyFCwzS5HgEPxjliFBDjksAXL4X0M\n",
              "lsPmUEjHoyMg2DsmwBIgwzDU2NqkioYKlTVUqKy+/QxUWUO5yhoqVF5focKavZ0mtRlWOe2RirZH\n",
              "ec+gRUeEK7+sqP0MVsexqptrOt3fkKHIoAgNCr+k48xbpKLszo6vSDntTkkelTVUqLS+TKX15Sqr\n",
              "L1dpQ/vj8RNFOlx5tNPjRgSFt58ts7efNYsJjlZMcJTGDUpXWVntOf+pUNp6BwUMAIAOEydO1J/+\n",
              "9CdlZGQoOztbbrfbO/0QuBBYLIaS4sKUFBemq8clqs3j0fHSWu07UqljZXXac6hMuw9XaPfhr06/\n",
              "RIYGflXIEsI1MC5MDnvXqy1+HYZhKCE0TgmhcZqaeJVa21p1tOa4nM4QNdV45LAFy26zf+1pgkHW\n",
              "QMWFxCouJLbT95tamzpKWecFbW9F54vxfFnQEkLjvKWqvay1F63IoIhuLTrSfsPs07N9eY+3svpy\n",
              "lXZ8lTWUe8tabuVhHdChU/a5uW6mpsdP7cbvCsxAAQMAoMPo0aOVnp6ujIwMGYahhQsXatmyZQoL\n",
              "C9OMGTP005/+VIWFhTp06JDmzp2r22+/XbNmzfJ1bKDHLIah/q5Q9XeFes/O1TY063BBtQ4WnNDh\n",
              "ghM6WHBCW3NKtTXnq7PDsVEODYoP0yXx4RoUH64BsaEK6OF027OxWqxKCk+UKypMJa3mnT0M7FZB\n",
              "q1RZQ4UCHYasTUGKskf2+jVk3nu8BYZpYETSae+3tLW056ovV2lDmSobqjRxwFip+7M00csoYAAA\n",
              "nGT+/PmnbKempnqfP/XUU2bHAUwXYg9Q+sAopQ+M8r5WUd2og8dP6HDhiY7HamVlFykru/06Kqul\n",
              "vcgNPGn6YnyMQ1ZL7y9m4SvtBc2tuBC3X019tVlscjti5HbEeF9zRfpPPlDAAAAAcBbOsCCNGerS\n",
              "mKHt10S2eTwqKq/ToYITOlRQrUMFJ3SkqEZ5RdXeFRetFkMxEXa5nQ65ncFyO4MV6wyW2+lQTIRd\n",
              "NuuFW86ArlDAAAAAcE4shqH46BDFR4dowvB4SVJLa5uOltS0F7LjJ1RQVquiinrtPFh22v6GIUWH\n",
              "272F7MuC5nY65I6099p0RsAfUMAAAADwtdmsFl0SF65L4sI15bJ+3tfrGppVXFmv4op6FVXUq7ii\n",
              "TsUV7dvZhyuUffjU9dYNSc7wILkj2wtZbEc5S2lslc3T1qsLgABmoIBdRA4cq9LgfhGS2lfQOVJU\n",
              "ow835WvWxEvkdjrU2tam/35rl64cGa/LUrpedrm1rU25x04ouV/4BT2/GwAAfD0Oe4AuiQvQJXHh\n",
              "p73X0NTiLWMllScVtMp67T1Sqb1HTr/xuSPIpphIu1wRwYqJtCsmIliujseYCLsCAzh7Bv9GAbtI\n",
              "WCJK9MQX/6vmgyMlz6mF6fNdhbr/2yNUUtngXeXoJzeP0OghMXp9dY6yD5WroKxOv/3xBEWF2yVJ\n",
              "mWsOaHX2Ht04doS+NXGQisrrFBNpp4wBAIBuswfaNCA2TANiT7/fVFNzq0qqGlRcUaei8nrVNrUq\n",
              "v/CESirrVVhWpyNFnd9nKyIk0FvQoiPsckW2F7OYyGBFhQVx7Rl8jgJ2kQgaulmSZAQ0SUabmnJG\n",
              "Sy2B7a8FV+u5I0+otaS/LJFuWcPL9D+ryhV4aLsa94+WpylYUoD+4/PF8jSEqGnfOFldR2QfsVvv\n",
              "HT2s5Y+NkIxWyfBIbTbdf8sItXmk0qp6Za45IJvVosV3f0MxkcFqaW3T258d0oThcSqubpLDZig0\n",
              "OEDNLa3afqBMcdEO9Xd1fs+dpuZW1Ta0KDI0UB61zz8HAAAXpsAAq/rFhKhfTIikU29i7fF4dKK2\n",
              "SSVVDSqtrFdpVYNKq+pVUtn+eLigWrnHTpx2TIthyBkWJFdkezFzRbZPb/zyMYTpjTABBewCZ7MY\n",
              "Chq11rttDS+XJAWPXnP6WPdR2dztd1a3xeVJkuzDs04dFNQgI6RSgQN3t49zHZMMj2wx7SseNe4Z\n",
              "p2dz/yRLUIPaasMVfPkJtZbH6v+uXSdreLmaDoxU64lovb99pzyNwVJr+190tsR98tSHqLW0v+Zd\n",
              "M1R/WbFP82YOVe6xKu0/WqFrrkjQq//IlRFUL8NRo6DWCN1z9eXyeKShAyL16Y4C2QOtigwNVFpS\n",
              "lCpqGhXTcbbOYjm9qDW3tHKBLwAAfZRhGIoIDVJEaJD38oqTtba1qaK6UaWVDSqpqldpRzH7srB1\n",
              "Nb3R5QyW+5/LWWSwnGFBnf6bAjhXFDA/sHjxYm3fvl2GYWjBggUaOXLkeTu2YZEsQQ3n7XiSZE9f\n",
              "d8r2l+VLkoLSNnqfW0Laf/JkjSryvhY4eEeXx26NLNHfKj5Q8OVS5tHPZHHUSCnSm2VS8OWnjv2f\n",
              "nTtljShTwwdXyFMbIcmQEVQneQx5muyyuo7K0xLYXvTaLLI2h6ml1ePdf/igKE2+tJ/yi6pVZN2j\n",
              "lIRoJRam62B+pQ4VnNC8a4Zq75EK2QOsSkmMlNViqLquWRXVjUqKa58qUV3XpECbVZU1jXI7gyVJ\n",
              "dY0tCrRZFWBjigMAAL5gtVg6rgkLVqqcp73f3NKq0qqG9uvPKutV0nENWnFlvY6V1Cqv8PR7Ztms\n",
              "hqIjvixn9vbHjrIWEmaXx+ORwewcdAMFzMc2bNigvLw8ZWZmKjc3VwsWLFBmZuZ5O35v3om9N5xc\n",
              "1iyOzud2e8dGtC9r+8+FsCsnTyzIlZR7tGOjWdp+UJKWSZJaW6O14/OX5fFILQWDZHPlywj46hby\n",
              "jcsvU0D/A7I4qtV8fKACEg6d8jnN+SlqKR4gI6BR8hiyhJyQpyVAbXVhskaWKNQepOTYGB0pK1Vb\n",
              "Xbgam1tU39IgI6hegYN2eY8zqu47+vGtY1RUXa6WFkOu0HAdLqxWq6dFNotNa7bkKyy6QZWNFbp6\n",
              "xHDtOp6nke40FbceUkywSycqLIqJMdQ/Ik7Nbc0KsNhkyFCrp00trS2yBwR5P6ultVU2q/Wk7TbV\n",
              "NzUpODCwy/nyVY3VCrIGym776lhffhOqaapVsM0uq+Wr4xbUFikiMEzBtuDTvlHVNNXKERCs0voy\n",
              "RdujTtnvbOpb2n/QEGyzd3ufc+EP31g9nvYfIPg6BwD0dQE2q3cZ/X/W5vGosrrRW8hKKtunNn65\n",
              "UMjO8rpOj2kxDDnsNjmCbAruePxyO8QecNprXz0GyBFkU2CAhb/fLxKG58vv6PCJJ598UgkJCbrt\n",
              "ttskSTNnztTSpUsVGtr5dVA9uYt5YW2RNpZtkavu/7N35/FR1Yf6xz9nZjKZ7JnsZCWEJSEB2RVR\n",
              "igiutbVuBMSlWr32atXeS72W25be20LV2/rT2sUWl1pxgSJadxYFRWRHtrBDCEt2su/JzPz+CMRQ\n",
              "QAPCnEPyvF+vvmTmfGfmyST9Js+c7zknh0/zvyDO6EdheQP5TXm4UvfSXBaPrzmIgMR9DE8YTPGu\n",
              "WPYdqsPnCeDy0W52V+6nKaCMGE9/8oMWf+3rtZUmg70Nb3UMhquBgMR9p51ZrMPnNTBs53aa8Mdr\n",
              "nMlr+Xzt16rxB29TMDbX8b/UvXUR2EKr/RPgX4S0JlAfUNxxu7UonYCYwxDQAsCvL/5v3K4Tl/18\n",
              "ldjYEw+y7+7OZM6G4491sSIr57NyNrB2PitnA+vka2hqO1rKvixodU1tVNc209DcRkNTKw3NbbS0\n",
              "ek/ree02g6CjxczltOMMsON02HA67DgDbF/ePvrfwID2MQEOG84AG4GOL2+3b2t/bKDTTnpq1Bm9\n",
              "dz1x3vYH7QEzWXl5OdnZ2R23o6KiKCsrO2UBOxMJIfHc1fsWyspquSgzBTh68GrDICJCnCc+YMi/\n",
              "3tF57d/EU76Oz+ejzdtGgP34A1i9Ph/1ja2EBX/5WlW1TbjjAjhQWkJSaAKNLS00tbZQVdtKRFAw\n",
              "4aF2PilYy4CovqzcftgzWmcAACAASURBVJg+8bEkxNrYXlhEXXko+ZWFuBNriWxN5+Paefjs7X8U\n",
              "+jx2DLvna9+T1oP9sMcUgsdh2h+45wt/FCN/la/TfS1/fhD5r+ULMPVns3P5Agjodfxe3rz9ZVyS\n",
              "eXoFTESkOwh2OUhLCOs4HAFOXg7bPF4amttobGo7Wszajitox27/6/b6plZq6ltoafXiPUv7Se64\n",
              "diDfGpRwVp5LvjkVMIv5uh2SbncwjjM8ecS/fooRd0bPcnYcyxITGnnKMVN6XQXA8P59O+4blpF5\n",
              "wrh/Y8xZTtfO623/5Mr2L6fW93p9+Hw+7EeX5Xm9Pny0f3J17PvX0NRKm9eDz9ZGTW0byTERHCip\n",
              "Iy0hjJY2L41NbbR5PbhDXdQ1tlLf1EqQ09H+30AHlbXNxEYGsbe0kJZWL1t21hARHkBRQyEul5eU\n",
              "qDgCvRHgaKawtImC4iouyA4lyBZOQICPaFc0dgcUlJXxzqcFxIaHUlBRwpHqJgxHK8lRsWTEx/LJ\n",
              "tu0A+FqPLh90tBIeFEhtcyPepmDwODACG8HjwOe1YwurwDB8+Fpc+FpcGM6m9j0irU5soZV4m0Lx\n",
              "NQdhuOqh1Ql2D3jtGIENGIGNeOvDsbka8PkMbEH1YG/FWxONrzGk/Xm8dvDa2s/WCfi8NmgLwHA2\n",
              "g82Dz+PAMLz4fLb2yym0OdqXrdq8+JqD8HltOGIO4/M68DWE4fPYsYVU42sOBpun/TE+A7y29q8n\n",
              "qA5bSA1tZcnty0UxsIVVHB3fhrcmBgwveO3Yo4toK0vCHlGOrzm4PZvXDh4H4MPndbQ/t8/AFlaJ\n",
              "rzEUe1Qx3sYQvHVuDGdT+3M3heKtD8ceUYbP4wCbD1tIFd7qmPalqkffc095EuDDCGxs//60BWAE\n",
              "1eFrDAVHS/sxll4b3vqIL79HLYEYQfUYrga8dZHgMzCcjfhaXdiCq8Hmw7C3tj9/WRLYvB0n3vE2\n",
              "hGK4Gtrfx8bQ9u+xx4EtpLr9/TF8YPiwRZQR1ZLJ+GsHEhEaiIiInJzDbiM82El48Ek+7O4Cn8+H\n",
              "x+ujpdVLS5uHllYPLa1emts8tHbc56W51UNLm5fWVg/Nbd6Occce0+bxkdU76ix/dfJNqICZLC4u\n",
              "jvLy8o7bpaWlxMae+iLIlZUnX3f8dayy276znpIpyHBw5Eg9IQ6D8vLjj2urqKgH2o9Na2tuJdAA\n",
              "b0sbEYF2WhpbSAmLITY2jIyoY5nSTnj+wb2AC07+2jGpqQyfmnrKbLeNzz7ltlPpKd+3b6q7Z2pp\n",
              "bKGsseW0X19ERLrGMAwcdgOH3UbwN/yT3Yq/k3qy8+sMDd3QmDFjWLhwIQB5eXnExcWd1eWHIiIi\n",
              "IiJiHdoDZrJhw4aRnZ1Nbm4uhmEwY8YMsyOJiIiIiMg5ogJmAdOmTTM7goiIiIiI+IGWIIqIiIiI\n",
              "iPiJCpiIiIiIiIifqICJiIiIiIj4iQqYiIiIiIiInxi+r7vyr4iIiIiIiJwV2gMmIiIiIiLiJypg\n",
              "IiIiIiIifqICJiIiIiIi4icqYCIiIiIiIn6iAiYiIiIiIuInKmAiIiIiIiJ+ogLWzc2aNYtJkyaR\n",
              "m5vL5s2bzY4DwBNPPMGkSZO48cYbWbRokdlxOjQ1NTFhwgQWLFhgdhQA3n77bb7zne9www03sGzZ\n",
              "MrPjUF9fzwMPPMBtt91Gbm4uy5cvNy3Lrl27mDBhAnPmzAGgqKiI2267jSlTpvDQQw/R0tJiiUx3\n",
              "3nknU6dO5c4776SsrMz0TMcsX76cAQMG+D2PdI0V5+1jrDp/d2a1ufwYq83pnVlpfu/MinP9V2Uz\n",
              "e87/qnzHaP63BhWwbmzNmjUUFBQwd+5cZs6cycyZM82OxKpVq9i9ezdz587lueeeY9asWWZH6vDn\n",
              "P/+ZiIgIs2MAUFlZyR//+EdeffVVnn32WT766COzI/Hmm2+Snp7Oyy+/zNNPP23az1NDQwO/+tWv\n",
              "GD16dMd9v//975kyZQqvvvoqaWlpzJ8/3/RMTz31FLfccgtz5sxh4sSJvPjii6ZnAmhubuavf/0r\n",
              "sbGxfs0jXWPFefsYK8/fnVlpLj/GinN6Z1aZ3zuz4lz/VdnMnvO/Lh9o/rcSFbBubOXKlUyYMAGA\n",
              "jIwMqqurqaurMzXTyJEjefrppwEIDw+nsbERj8djaiaAvXv3smfPHsaNG2d2FKD9ezd69GhCQ0OJ\n",
              "i4vjV7/6ldmRcLvdVFVVAVBTU4Pb7TYlh9PpZPbs2cTFxXXct3r1ai6//HIALrvsMlauXGl6phkz\n",
              "ZnDllVcCx793ZmYCePbZZ5kyZQpOp9OveaRrrDhvH2PV+bszq83lx1hxTu/MKvN7Z1ac678qm9lz\n",
              "fmea/61PBawbKy8vP24SjYqKMn2XuN1uJzg4GID58+czduxY7Ha7qZkAHn/8cR599FGzY3Q4dOgQ\n",
              "TU1N3HfffUyZMsW0XzKdXXvttRQWFjJx4kSmTp3Kf/3Xf5mSw+Fw4HK5jruvsbGx4xdKdHS033/O\n",
              "T5YpODgYu92Ox+Ph1Vdf5brrrjM9U35+Pjt27ODqq6/2axbpOivO28dYdf7uzGpz+TFWnNM7s8r8\n",
              "3pkV5/pjrDjnd6b53/ocZgcQ//H5fGZH6LBkyRLmz5/PCy+8YHYU3nrrLYYMGUJKSorZUY5TVVXF\n",
              "H/7wBwoLC7n99ttZunQphmGYluef//wniYmJPP/88+zYsYPp06db7hgLsNbPucfj4ZFHHuGiiy46\n",
              "YSmIGX7zm9/ws5/9zOwYchqs9PN8jJXm786sOpcfY7U5vbPzZX7vzIr/37DanN+Z5n9rUQHrxuLi\n",
              "4igvL++4XVpaaol1v8uXL+fZZ5/lueeeIywszOw4LFu2jIMHD7Js2TKKi4txOp0kJCRw8cUXm5Yp\n",
              "OjqaoUOH4nA4SE1NJSQkhIqKCqKjo03LtGHDBi655BIAMjMzKS0txePxWOIT8ODgYJqamnC5XJSU\n",
              "lJyw7MIsP/3pT0lLS+OBBx4wOwolJSXs27ePadOmAe3zwdSpU084QFvMZdV5+xirzd+dWXEuP8aK\n",
              "c3pnVp7fO7PqXH+Mleb8zjT/W4+WIHZjY8aMYeHChQDk5eURFxdHaGioqZlqa2t54okn+Mtf/kJk\n",
              "ZKSpWY556qmneOONN5g3bx4333wz//7v/276L+xLLrmEVatW4fV6qayspKGhwfQ1+WlpaWzatAmA\n",
              "w4cPExISYplfzhdffHHHz/qiRYu49NJLTU7UfsazgIAAHnzwQbOjABAfH8+SJUuYN28e8+bNIy4u\n",
              "Tr98LciK8/YxVpy/O7PiXH6MFef0zqw8v3dmxbn+GKvN+Z1p/rce7QHrxoYNG0Z2dja5ubkYhsGM\n",
              "GTPMjsT7779PZWUlDz/8cMd9jz/+OImJiSamsp74+HiuvPJKbrnlFgB+9rOfYbOZ+3nJpEmTmD59\n",
              "OlOnTqWtrY1f/vKXpuTYunUrjz/+OIcPH8bhcLBw4UJ++9vf8uijjzJ37lwSExO5/vrrTc905MgR\n",
              "AgMDue2224D2Eyr48z07WaZnnnnGkn84y5esOG8fo/n7zFlxTu/MKvN7Z1ac678qm9lz/tfl0/xv\n",
              "LYbPiotoRUREREREuiHrfPwiIiIiIiLSzamAiYiIiIiI+IkKmIiIiIiIiJ+ogImIiIiIiPiJCpiI\n",
              "iIiIiIifqICJiIiIiIj4iQqYiIiIiIiIn6iAiYiIiIiI+IkKmIiIiIiIiJ+ogImIiIiIiPiJCpiI\n",
              "iIiIiIifqICJiIiIiIj4iQqYiIiIiIiIn6iAiYiIiIiI+IkKmIiIiIiIiJ+ogImIiIiIiPiJCpiI\n",
              "iIiIiIifqICJiIiIiIj4iQqYiIiIiIiIn6iAiYiIiIiI+IkKmIiIiIiIiJ+ogImIiIiIiPiJCpiI\n",
              "iIiIiIifOMwOIKenrKz2jB7ndgdTWdlwltN8M8rUNVbLZLU8oExdZXam2Ngw017bLN1pzu7Myvms\n",
              "nA2snc/K2cDa+aycDc48X0+ct/1Be8B6CIfDbnaEEyhT11gtk9XygDJ1lRUzyclZ/Xtl5XxWzgbW\n",
              "zmflbGDtfFbOBtbP19OogImIiIiIiPiJCpiIiIiIiIifqICJiIiIiIj4iQqYiIiIiIiIn6iAiYiI\n",
              "iIiI+IkKmIiIiIiIiJ+ogPUAK7cWs6OgwuwYIiLSBTsKKvn0i0NmxxARkXNEBayb83i9zH53Gz/5\n",
              "/XKzo4iISBcsWnuQ/5uznnU7Ss2OIiIi54AKWDfn85mdQERETseN4zJwOe288P52io7Umx1HRETO\n",
              "MhUwERERC0mKCeGBm4fQ1OLhT29upbnFY3YkERE5i1TARERELOZbw5K5fHgyh8vr+fvCHfi0nEFE\n",
              "pNtQARMREbGgSeP7kpEYzsq8EpZ9cdjsOCIicpaogImIiFiQw27jh9fnEBoUwKtLdrOvsMbsSCIi\n",
              "chaogImIiFhUVLiL+76bjdfn409vbaG2ocXsSCIi8g2pgImIiFjYwN5RXH9pHypqmvnrO9vwenU8\n",
              "mIjI+UwFTERExOKuHZ3G4Ixo8vIreHtFvtlxRETkG1ABExERsTibYXDPdQOJiXDx9or9bN5bbnYk\n",
              "ERE5QypgIiIi54EQVwD3f28QDruN2e9so7yq0exIIiJyBlTAREREzhNpCWFMvaI/9U1t/PGtrbS2\n",
              "6SLNIiLnGxUwERGR88jYCxK5ZHAvCopreXXJbrPjiIjIaXKYHaCnW716NQ899BD9+vUDoH///vz8\n",
              "5z83OZWIiFjZ1In9OVBcyycbC8lIjOCSwb3MjiQiIl2kAmYBo0aN4ve//73ZMURE5DzhDLDz7zcM\n",
              "4n9fXMvLi3aSGh9KanyY2bFERKQLtARRRESkk1mzZjFp0iRyc3PZvHnzcduKioqYPHkyN910E7/4\n",
              "xS9MStguLjKIH3x7IK1tXv705lYamlpNzSMiIl2jAmYBe/bs4b777mPy5MmsWLHC7DgiIj3WmjVr\n",
              "KCgoYO7cucycOZOZM2cet/2xxx7jrrvuYv78+djtdgoLC01K2m5IvxiuHZ1GaVUjz727Ha9PF2kW\n",
              "EbE6LUE0We/evXnggQe4+uqrOXjwILfffjuLFi3C6XSedLzbHYzDYe/y87d5vB3/jo213vIUZeoa\n",
              "q2WyWh5Qpq6yYiYrWblyJRMmTAAgIyOD6upq6urqCA0Nxev1sn79ep588kkAZsyYYWbUDt+7tA/7\n",
              "CmvYuKecD1cf4JqL0syOJCIiX0EFzGTx8fFcc801AKSmphITE0NJSQkpKSknHV9Z2XBaz9+5gJWV\n",
              "1Z550HMgNjZMmbrAapmslgeUqavMznQ+lL/y8nKys7M7bkdFRVFWVkZoaCgVFRWEhITwm9/8hry8\n",
              "PEaMGMF//ud/mpi2nc1m8G/fyeZ//raWNz7ZS3qvcLLS3GbHEhGRU1ABM9nbb79NWVkZd999N2Vl\n",
              "ZRw5coT4+HizY4mICODrtKTP5/NRUlLC7bffTlJSEvfeey/Lli1j3Lhxp3z86a5aAHh7xyL27T7A\n",
              "bUNuJDq4a0UqNham3zmKR//4GbPf2cZT//EtoiOCTut1T5eVC7WVs4G181k5G1g7n5WzgfXz9SQq\n",
              "YCYbP34806ZN46OPPqK1tZVf/vKXp1x+KCIi51ZcXBzl5eUdt0tLS4mNjQXA7XaTmJhIamoqAKNH\n",
              "j2b37t1fWcBOd9UCQGFFOZ8fXM8XRduY1P96RsQPwTCMr31cdEgAk8b35dUlu/n186t5ZMpQHPZz\n",
              "c6i32XtTv4qVs4G181k5G1g7n5WzwZnnU2k7N3QSDpOFhoby7LPP8uqrr/KPf/yDb33rW2ZHEhHp\n",
              "scaMGcPChQsByMvLIy4ujtDQUAAcDgcpKSns37+/Y3t6evpZz3BD329z74hb8fg8/G3bazyf9wp1\n",
              "rfVdeuzlw5MZlRXHnsPV/GPp3rOeTUREvjntARMRETlq2LBhZGdnk5ubi2EYzJgxgwULFhAWFsbE\n",
              "iROZPn06jz76KD6fj/79+zN+/PiznsEwDCZkXEKiI5m/b5/LF6Wb2VuVz9Ssm8mOzvzax955dSYH\n",
              "S+tYvO4gGUnhjMrSsnYREStRARMREelk2rRpx93OzPyy9KSlpfHaa6/5JUdscDQ/HnYfSw58wrv7\n",
              "FvGnTS9wSeKFfK/vt3E5Ak/5OJfTwQM3DOJ/X1rHix/sIDk2lMSYEL9kFhGRr6cliCIiIhZlM2xc\n",
              "kXYZj4z4EYkhCXxWuJrfrH2KfdX7v/JxvaJD+P7VmTS3ePjjm1toamnzT2AREflaKmAiIiIWlxyW\n",
              "yCMjH2Ri6jiONFbw5Po/88+9H9DmPXWxGpUVz8QRKRQdaWD2O9uOuyyJiIiYRwVMRETkPBBgc3B9\n",
              "32t4eNh9RLncLCpYyhPrnuFwXdEpH3PzZRlkpbn5Ync5f31nGx6vSpiIiNlUwERERM4jfSPTmT7q\n",
              "YcYkjuJwXRFPrP09iwuW4fWdWK4cdhsP3jiY/skRrNtRymyVMBER06mAiYiInGdcDhdTMm/ih4O/\n",
              "T1BAEG/tfZ+nNvyF8saKE8YGOu08dPMF9E2OYM32Ul54bzter+8kzyoiIv6gAiYiInKeyonJ4mej\n",
              "/pMhsYPYW53PrDVP8nnhGny+4wtWUKCDH998ARmJ4azMK+HF97fj9amEiYiYQQVMRETkPBbqDOEH\n",
              "OVO5Y2AuNsPGKzvm85ctf6Ompfa4cUGBDn58yxDSe4WxYmsxL32wQyVMRMQEKmAiIiLnOcMwGJUw\n",
              "jP8e9R8McPdlS/l2Zq5+ko2lW44bF+xy8J+ThpCWEMbyzUXMWbjzhL1lIiJybqmAiYiIdBNuVyQP\n",
              "DPkBN/X7Ds2eZmZvfZmXtr1OY1tjx5hgVwD/OWkIqXGhLNtYyCuLd6mEiYj4kQqYiIhIN2IzbFyW\n",
              "cgmPjnyY1LBk1hRv4JmNzx13zbDQoACmTR5KcmwIH284zGsf7VYJExHxExUwERGRbighJI5pw+9n\n",
              "RPwQCmoO8tae94/bfqyEJcWEsGTdIeZ+vEclTETED1TAREREuim7zc6UzJtICIln6aHPTjgmLDzY\n",
              "ybTJQ+kVHcyitQeZv2yvSpiIyDmmAiYiItKNBdqd/CBnKk5bAC9v/wdlDUeO2x4R4uQnk4cSHxXM\n",
              "B6sP8ObyfSphIiLnkAqYiIhIN9crJJ7cATfQ5Gni+a0v0+ppPW57ZGggj0weSpw7iHc/L+DtFfvN\n",
              "CSoi0gOogImIiPQAF/YazsW9RnGwrpA39rx7wnZ3WHsJi4108c/P8nlnRb4JKUVEuj8VMBERkR7i\n",
              "5v7fJSm0F8sPr2Rd8RcnbI8Kd/HI5GHERLh4c3k+763c7/eMIiLdnQqYiIhID+G0B3B3zlQC7U5e\n",
              "3fkGJfWlJ4yJjnDxyOShRIUH8sYn+/hw9QETkoqIdF8qYCIiIj1IfHAst2beRLOnhee2zqHF03LC\n",
              "mJjIIB6ZPBR3WCDzlu5h0dqDJiQVEemeVMBERER6mOHxQxibNJrC+mLm7frnScfEuYN5ZPJQIkKd\n",
              "vP7Rbj5af8jPKUVEuicVMBERkR7ohn7XkRqWxMqitawqWnfSMfFR7SUsPMTJK4t3sfSLw35OKSLS\n",
              "/aiAiYiI9EABNgd350wlyOHi9Z1vUlhXfNJxvaJD+MnkoYQHB/Dywp18uqnQz0lFRLoXFTAREZEe\n",
              "KiYomqlZt9DqbeW5rXNoams+6bikmBCmTR5KaFAAL32wg883q4SJiJwpFTCLaGpqYsKECSxYsMDs\n",
              "KCIi0oMMic1hfMqllDSU8vrOBfh8vpOOS44NZVruEAIcNv70xibqGltPOk5ERL6aCphF/PnPfyYi\n",
              "IsLsGCIi0gN9N+Nq0sNTWVvyBZ8XrjnluNT4MK6/tA/VdS28tmSXHxOKiHQfKmAWsHfvXvbs2cO4\n",
              "cePMjiIiIj2Qw+bgrpxbCXEEM2/3PzlYe+olhhNHJtMvJZKVeSVs3lvux5QiIt2DCpgFPP744zz6\n",
              "6KNmxxARkR4syuXm9oGTaPO28fzWl2lsazrpOLvNxoOThmK3Gfx94U4am9v8nFRE5PzmMDtAT/fW\n",
              "W28xZMgQUlJSujTe7Q7G4bB3+fnbPN6Of8fGhp12vnNNmbrGapmslgeUqausmEmsIycmiyvSLmNR\n",
              "wVJe2TGfu7NvxTCME8b17hXOtaPTeHvFfuZ/spfbrhhgQloRkfOTCpjJli1bxsGDB1m2bBnFxcU4\n",
              "nU4SEhK4+OKLTzq+srLhtJ6/cwErK6v9RlnPttjYMGXqAqtlsloeUKauMjvT+VL+Zs2axaZNmzAM\n",
              "g+nTpzN48OCObePHjychIQG7vf2DsN/+9rfEx8ebFfWc+Hb6Feyt2s8XpZv5JDKdccljTjru2tG9\n",
              "WbezjKUbDnNhVjz9UyL9nFRE5PykAmayp556quPfzzzzDElJSacsXyIicm6tWbOGgoIC5s6dy969\n",
              "e5k+fTpz5849bszs2bMJCQkxKeG5Z7fZuStnCr9Z8xQLdr9LengqaeEnrtIIcNj4/tWZzHp5PS++\n",
              "v53/uWsUzoCur9AQEempdAyYiIjIUStXrmTChAkAZGRkUF1dTV1dncmp/C8yMII7syfj9Xl5fusc\n",
              "GlpPvvoiIymCCSNSKKls5O0V+/0bUkTkPKUCZiE/+tGPuOGGG8yOISLSY5WXl+N2uztuR0VFUVZW\n",
              "dtyYGTNmMHnyZH7729+e8ppZ3UFWVH+u6n05R5oq+fv2eaf8Wm8Y24eYCBcfrj5AQbG1lt2KiFiR\n",
              "liCKiIicwr+WjgcffJBLL72UiIgI7r//fhYuXMhVV111ysef7omTOrPCMXN3RH+Pgw0H2VK6jdUV\n",
              "a7guc0LHts75Hsodys//spKXF+3idw+PxWE39/NdK7x3X8XK+aycDaydz8rZwPr5ehIVMBERkaPi\n",
              "4uIoL//y2lalpaXExsZ23L7++us7/j127Fh27dr1lQXsdE+cdIzZJ0zp7Nb+t/Cbqqd4ZfObxDni\n",
              "6RPR+4R8Se4gLhnci882FzHnvTyuHd3btLxWeu9Oxsr5rJwNrJ3PytngzPOptJ0bWoIoIiJy1Jgx\n",
              "Y1i4cCEAeXl5xMXFERoaCkBtbS133303LS0tAKxdu5Z+/fqZltVfwp1h3JU9BZ/Px/NbX6Gupf6k\n",
              "4yaN70tEiJN/frafoiMnHyMiIipgIiIiHYYNG0Z2dja5ubn8+te/ZsaMGSxYsIDFixcTFhbG2LFj\n",
              "mTRpErm5uURFRX3l3q/upJ87g2/3uZKq5mpe2vY6Xp/3hDEhrgCmXjGANo+XFz/YgbcbHx8nIvJN\n",
              "aAmiiIhIJ9OmTTvudmZmZse/77jjDu644w5/R7KEK9LGsbcqn20VO3l7x2LGxJx4yZThA2IZMSC2\n",
              "4/pglw9PNiGpiIi1aQ+YiIiIfC2bYeOOgblEOMOYu/UdDtQcOum4Wyf2J8TlYP4neymvbvRzShER\n",
              "61MBExERkS4JdYZw28BJeLwe/rbtNVo8LSeMiQgNJPfyfjS3ePj7wp3d+lT9IiJnQgVMREREuiwr\n",
              "qj/X9r+ckoYy3tjz7knHXJyTQHZ6FFv3VbAyr9jPCUVErE0FTERERE7L5MHfJTEkgc8Or2JzWd4J\n",
              "2w3D4I4rBxAYYOe1Jbuprj9xT5mISE+lAiYiIiKnxWkP4PvZU3DYHLyyYz7VzSdeXygmMogbv9WH\n",
              "+qY2Xl28y4SUIiLWpAImIiIipy0xNIHrM66hrrWeOdvnnfRYr/HDkumbFMHaHaVs2FVmQkoREetR\n",
              "ARMREZEzMi55DAOjBrCtYiefHPr8hO02m8GdV2fisBu8vGgnDU2tJqQUEbEWFTARERE5I4ZhMDXr\n",
              "FkIDQnhz73sU1p14wo3EmBCuG5NOdV0L85buMSGliIi1qICJiIjIGYsIDOPWzJto87bxt22v0eo5\n",
              "cS/X1RemkhIXyqebiti2v8KElCIi1qECJiIiIt/I4NhsLkm8kMN1Rby978MTtjvsNu66JgubYfDS\n",
              "hztobvGYkFJExBpUwEREROQbu6HfdcQHx/LxweVsrzjxrIdpCWFceWEKZVVNvLl8nwkJRUSsQQVM\n",
              "REREvrFAu5M7B07GZth4edtc6lrqTxjz3THpxLuDWLzuIHsLq01IKSJiPhUwEREROStSw5O5rs+V\n",
              "VLfU8urON044Nb0zwM6dV2fi88Hf3t9Bm8drUlIREfOogImIiMhZMyH1W/SL7MOmsq18XrTmhO0D\n",
              "Ut1cNjSJw+X1vLeywISEIiLmUgETERGRs8Zm2LhjYC5BjiDm73qbkoYTL8B807gM3GGBvPv5fg6V\n",
              "1ZmQUkTEPCpgIiIicla5XZFMHvA9WrytvJT3Oh7v8Wc9DAp0cPuVA/B4fbz4/g48Xi1FFJGeQwVM\n",
              "REREzrrh8UMYlTCMgtqDvJ+/+ITtF/SN4aLsePKLapi/bK8JCUVEzKECJiIiIufELf2vJ9oVxcKC\n",
              "peypyj9h+9SJA+gVHczCNQdZsaXIhIQiIv6nAiYiIiLnRJDDxR0DcwH4W95rNLQ2Hrc92OXgwRsH\n",
              "E+Jy8NKHO9hzWKemF5HuTwWsm/uXMwCLiIj4VUZkb67qfTmVzVXM3fXmCdvjo4K57/ocvF74w4It\n",
              "VNQ0mZBSRMR/VMBM1tjYyEMPPcTUqVO5+eabWbp0qdmRREREzqqre19O7/BU1pVsZE3xhhO2Z/eO\n",
              "YtLlfampb+GZN7bQ3Oo5ybOIiHQPKmAmW7p0KTk5OcyZM4ennnqKxx57zOxIIiIiZ5XdZufOgZMJ\n",
              "tDuZu/MtjjRWnDBmwvBkxl7Qi4KSWl54b/sJF3EWEekuVMBMds0113DPPfcAUFRURHx8vMmJRERE\n",
              "zr7Y4Ghu7vddmjxNvLTtdby+4089bxgGU68YQL/kCNbuKOXdz/ebE1RE5BxTAbOI3Nxcpk2bxvTp\n",
              "082OIiIick5c1GsEQ2MHsbd6P4sKTlxy77DbuP97g4gOD+TN5fms33niRZxFRM53DrMDSLvXX3+d\n",
              "7du385Of/IS3334bwzBOOs7tDsbhsHf5eVvbvlxHHxsb9o1znm3K1DVWy2S1PKBMXWXFTNJzGIbB\n",
              "5Mwbya85wHv5n3drewAAIABJREFUi8mM6kfv8NTjxoSHOPnRjYP5zZwNPPfuNuLcw0mJCzUpsYjI\n",
              "2acCZrKtW7cSHR1Nr169yMrKwuPxUFFRQXR09EnHV1Y2nNbzt7Z9ucSjrKz2G2U922Jjw5SpC6yW\n",
              "yWp5QJm6yuxMKn8CEBIQzO1Zk3hm42z+lvcaj458GJcj8LgxqfFh/ODbWfzxza38fv5mfn7nCMKD\n",
              "nSYlFhE5u7QE0WTr1q3jhRdeAKC8vJyGhgbcbrfJqURERM6dAVF9GZ96KWWNR3hj9zsnHTN8QBzX\n",
              "X5LOkZom/rRgC20e70nHiYicb1TATJabm0tFRQVTpkzh3nvv5Re/+AU2m74tIiJmmTVrFpMmTSI3\n",
              "N5fNmzefdMzvfvc7brvtNj8n616u63MVyaGJfF60hvm73qbN23bimDG9GZEZx65D1cxZtEtnRhSR\n",
              "bkFLEE3mcrn43e9+Z3YMEREB1qxZQ0FBAXPnzmXv3r1Mnz6duXPnHjdmz549rF27loCAAJNSdg8B\n",
              "Ngc/yLmNZze/yNJDn7G/5iB359yK2xXZMcYwDO6+JovSygY+3VRIcmwIE0akmJhaROSb064WERGR\n",
              "o1auXMmECRMAyMjIoLq6mrq6uuPGPPbYY/z4xz82I163ExsczU9G/IgR8UPIryngsbVPs71i13Fj\n",
              "Ap12fnTDYMKDA3j9oz3k7T/xGmIiIucTFTAREZGjysvLjzsONyoqirKyL0+FvmDBAkaNGkVSUpIZ\n",
              "8bollyOQOwdO5pb+19PY1sQfNz7PB/lLjrtOWHSEiwduGIzNBs++tZWSitM7IZWIiJVoCaKIiMgp\n",
              "dD7mqKqqigULFvDiiy9SUlLSpcef7qVDOrP6WSPPdr6b4q7kgtT+PPn5bN7NX8ShxkP86KLvExYY\n",
              "2vF697d6eHruRv741lZ+++BYQoJOvgy0p713Z5OVs4G181k5G1g/X0+iAiYiInJUXFwc5eXlHbdL\n",
              "S0uJjY0FYNWqVVRUVHDrrbfS0tLCgQMHmDVrFtOnTz/l853upUOOMfuSAV/nXOWLJIZHhj/IS3mv\n",
              "s7F4G9M+mMkPBk3tuFbYBelRXDEyhUVrDzLzhdU8dNNgbLbjr5vZU9+7s8HK2cDa+aycDc48n0rb\n",
              "uaEliCIiIkeNGTOGhQsXApCXl0dcXByhoe17YK666iref/995s2bxx/+8Aeys7O/snzJmQkNCOGH\n",
              "F3yfa9MnUtVczZPr/8ynhz7v2Bt582UZ5KRHsWXfEeZ/stfktCIip08FTERE5Khhw4aRnZ1Nbm4u\n",
              "v/71r5kxYwYLFixg8eLFZkfrUWyGjWvSJ3L/BXfjcgQyd9db/G3bazS1NWO32bjvu9kkRAXz4eoD\n",
              "rNhSZHZcEZHToiWIIiIinUybNu2425mZmSeMSU5O5uWXX/ZXpB4rK7o/Px35MM9vncO6ko0cqivi\n",
              "npypJITE8+BNg/nVS+t46cMdJEQFk5EUYXZcEZEu0R4wERERsSy3K5KHh93HuOQxFNeX8Pi6Z1hf\n",
              "spGEqGB+eH02Hq+PZxZsoaKmyeyoIiJdogImIiIiluawObi5/3e5K3sKBvBC3qvM2/VPMtMimDS+\n",
              "HzX1LTyzYAvNrR6zo4qIfC0VMBERETkvDI8fwiMjHiQhJJ5PDq3g/214luE5IVwyuBcFxbW8+P72\n",
              "4y4dICJiRSpg3Z5+EYmISPeREBLHT4Y/wIj4IeyvOcDj637PiBEGfZMiWLO9lHlLdpkdUUTkK6mA\n",
              "iYiIyHnF5QjkzoGTmdT/ezS3NfPXrS8yYFQp7nAncz7cwT+W7sGrPWEiYlEqYCIiInLeMQyDscmj\n",
              "+Y/h/47bFcnHh5eSODKPXvEOPlh9gD+/uVXHhImIJamAiYiIyHkrLTyF/xr5IAOjB7Cvdi8MWE5K\n",
              "v1rW7yrl8Vc2UFXXbHZEEZHjqICJiIjIeS00IIQfDv4+3+lzFXUt9ZS7VxA/fCsFlSX86qV1HCip\n",
              "NTuiiEgHFTARERE579kMG1f2Hs9vr/oZA9x9qbEfJviCFdSGbuM3r65l055ysyOKiAAqYCIiItKN\n",
              "JIbF86Mh93DnwMmEOIMISNmNMWA5f1i0lCXrDpodT0REBUxERES6F8MwGJkwlF9c+BPGJo3GcNXj\n",
              "zFzLP/a9wYuLNuLxes2OKCI9mAqYiIiIdEvBAUFMGvA9fjLiAXoF9cIRU8ha/sGv3llAfVOL2fFE\n",
              "pIdSARMREZFurXd4Kj+98EG+m/5tbDYfZWFrmP7xk2wtyjc7moj0QCpgIiIi0u3ZbXauSB/L/455\n",
              "hGhvOm2uCv687Vle+OINmtqazI4nIj2ICpiIiIj0GFFBkfzvhB9ycfB38Da7WF+5mp9/9n9sLNuK\n",
              "z+czO56I9AAqYCIiItLj3HrRJdzT7z58xX2pb6tj9pa/8+fNL1LeWGF2NBHp5lTAREREpEca1q8X\n",
              "P50wBdf+y/DURJF3ZAe/Xv07Fu1fSpu3zex4ItJNqYBZwBNPPMGkSZO48cYbWbRokdlxREREeoyU\n",
              "uFB+kXsZidXjadk7GE+rjX/u+4DfrH2a3ZX7zI4nIt2QCpjJVq1axe7du5k7dy7PPfccs2bNMjuS\n",
              "iIhIjxIZGsh/TRnOkJgLqN94CQFV6RTXl/DUF8/y2s4FtGpvmIicRQ6zA/R0I0eOZPDgwQCEh4fT\n",
              "2NiIx+PBbrebnExERKTnCAyw88Prc1jwSTDvrwog2J1IVPYuPju8ikO1hdwz6DYiAyPMjiki3YD2\n",
              "gJnMbrcTHBwMwPz58xk7dqzKl4iIiAlshsFN4zL4/jWZNFeHU7RqKKnOAeyvOcDja3/P3qr9ZkcU\n",
              "kW5Ae8AsYsmSJcyfP58XXnjhK8e53cE4HF0vaC2tno5/x8aGnXG+c0WZusZqmayWB5Spq6yYScRq\n",
              "Lh2cSExEEH96cws7P+tNclYwlWGbePqLv3Bz/+9wSeJFGIZhdkwROU+pgFnA8uXLefbZZ3nuuecI\n",
              "C/vqP44qKxtO67lb274sYGVltWeU71yJjQ1Tpi6wWiar5QFl6iqzM6n8yfkkK83N/9w1ir8v3Mnm\n",
              "7QaB7pG4+m/i9Z1vcqDmELcM+B4BNv0ZJSKnT0sQTVZbW8sTTzzBX/7yFyIjI8/68+uakiIiImcm\n",
              "KtzFQzcN5p7rBuJojKXmiwsJaHHzedFantrwLFXN1WZHFJHzkD66Mdn7779PZWUlDz/8cMd9jz/+\n",
              "OImJiSamEhEREQDDMBidnUB27yheWbyLtZucBPbJYz8HeGzN0/xg0G30jUw3O6aInEdUwEw2adIk\n",
              "Jk2aZHYMERER+QrhIU5+eH0OF+6K5+8LXdTXhVObupOnN7QfF3Zp0mgdFyYiXaIliCIiIiJdNKx/\n",
              "LDPvuYjRcaNp3jECT6udubve4u/b5tHqaTU7noicB7QHTEREpJNZs2axadMmDMNg+vTpHddqBJg3\n",
              "bx7z58/HZrORmZnJjBkztNejBwpxBXDXtVmMyo/jxcVuGnqtYk3JegqqCvnR8O/jdp39Y7pFpPvQ\n",
              "HjAREZGj1qxZQ0FBAXPnzmXmzJnMnDmzY1tjYyPvvfcer7zyCq+//jr79u3jiy++MDGtmC0nPZqZ\n",
              "d45jtOsGPOWJlDQX8T8rnmR72R6zo4mIhamAiYiIHLVy5UomTJgAQEZGBtXV1dTV1QEQFBTESy+9\n",
              "REBAAI2NjdTV1REbG2tmXLEAl9PB7RMH8uOL7sBVdgEtNPOHzbN5fdNifDoVsYichAqYiIjIUeXl\n",
              "5bjd7o7bUVFRlJWVHTfmr3/9KxMnTuSqq64iJSXF3xHFogakunnsxlyG2r6Nry2A5UcWM2PxbKob\n",
              "Tu/6nSLS/ekYMBERkVM42R6Me++9l9tvv5177rmH4cOHM3z48FM+3u0OxuGwn9FrW/3C1VbOZ2a2\n",
              "6bdcw7q9A3ny879yxLmH/176FD+44A4mDs20RL6vY+VsYO18Vs4G1s/Xk6iAiYiIHBUXF0d5eXnH\n",
              "7dLS0o5lhlVVVezevZuRI0ficrkYO3YsGzZs+MoCVll5Zns/YmPDKCurPaPH+oOV81khW1p4NI9d\n",
              "/h/8vxVzOBy0k7/m/ZklG8dx7/ixZKRFm57vVKzw3n0VK+ezcjY483wqbeeGliCKiIgcNWbMGBYu\n",
              "XAhAXl4ecXFxhIaGAtDW1sajjz5KfX09AFu2bCE9XRfglZMLCgjkp9+6iysSr8ZwtLLPtZjpC17n\n",
              "o7UHdGyYSA+nPWAiIiJHDRs2jOzsbHJzczEMgxkzZrBgwQLCwsKYOHEi999/P7fffjsOh4MBAwZw\n",
              "+eWXmx1ZLMwwDL6beRlZcak8u+nvNCdu5dmduwjaHsXwlL5kxvUmJTSJmKAoXc5ApAdRARMREelk\n",
              "2rRpx93OzPzy2J0bbriBG264wd+R5DzXPyqDn4/+MXO3v8OOI/toCihmRWkxK0o/A8Bld5ESlkhy\n",
              "WCIpoUmkhCURHxyL3XZmxw+KiLWpgImIiIicY25XJPcNvY2YmFD++Wke81ZvoNGoINhdT1BUI3uq\n",
              "8tldta9jfIDNQVJoeylLDU0iOSyRxJAEAuwBJn4VInI2qICJiIiI+IlhGIwZmMbQPkm8+ek+Pt5w\n",
              "iBrgokHRXDwihPLWEg7VFnKw9jAHaw+zv+ZAx2Ntho1eIfGkHC1kaeHJpIWlaE+ZyHlGBUxERETE\n",
              "z4JdDm69oj+jcxL4+4c7WLXlCFv31DBpfF9uzbkYwzBo9bZRVF/cqZAVcqiukMN1RVDc/jxBDhcD\n",
              "owaQE5PFwKgBhDpDzP3CRORrqYCJiIiImKRPYjg/v3MES9Yd4q3l+Tz/3nZWbCnitisH0Cs6hNSw\n",
              "ZFLDkjvGe31eShvKOFB7mPzqArYe2cH60k2sL92EgUF6RCo50VnkxGSRGJKgk3uIWJAKmIiIiIiJ\n",
              "7DYbV45KZcSAOF5ZvIuNe8qZ8cIarrkojWtHpxHQ6WLeNsNGQkg8CSHxjEoYxi0+H0X1JWw9sp2t\n",
              "5dvZV13AvuoC3t73Ie7ASAbFZJEdnUl/d1+cOn5MxBJUwEREREQsIDrCxY9uHMSGXeW8umQXb6/Y\n",
              "z+ptJdx+5QCyeked9DGGYZAYmkBiaAJXpF1GXWs924/sYuuR7eQd2cmnh1fy6eGVBNgCyIzqS3Z0\n",
              "FjnRmbhdkX7+6kTkGBWwbk6XehQRETl/GIbB8AGxDOzt5s3l+/ho/SH+7/WNjM5OYNLlfQkPdn7l\n",
              "40MDQhiZMJSRCUPxeD3k1xxga/l2thzZzpby9v8BJIcmkhPTXsbSwlOwGTZ/fHkiggqYiIiIiOUE\n",
              "BTqYMqE/F+ck8NIHO1mZV8zmveXcfFlfLhncC1sXju2y2+z0jUynb2Q61/e9hvLGI2wt38HWI9vZ\n",
              "XbmXQ3WFfLj/I0IDQsiOzmRoShatjeC0BeC0Owm0O3HanThtTpz2AALtTgJsATquTOQbUgETERER\n",
              "sajeCeH87I7hfLz+MAuW7+NvH+zg8y1F3HZVJkkxp3fGw5igaMaljGFcyhia2prZWbm7o5CtLl7P\n",
              "6uL1X/scBgYB9gACj5Yy59GS1n77y/sC7U7SwlIYET9Ep8kX+RcqYCIiIiIWZrfZmDgyheEDYnl1\n",
              "yW427Crjly+s4aoLU7lyVCqhQad/cg2XI5ALYnO4IDYHr8/LodpCaoxKyqtraPW00uxpocXTQrO3\n",
              "/b/t/zt6/9H7mj0tVDfX0OJtpc3bdtLX+bDgI67tPZFh8RdomaPIUSpgIiIiIueBqHAXD9wwiC92\n",
              "l/HK4l28t7KAhWsOMiIzlnFDkuiXHHFGywNtho3U8GRiY7MoK6s9o2wer4cWb2tHMWtsa+TzwjV8\n",
              "XrSWF7e9xsKCpVzb5wouiMnWEkbp8VTARERERM4jQ/vFkpXm5pONhSzbWMiqvBJW5ZXQKzqYcUOS\n",
              "GJ2TcEZ7xb4Ju81OkM1OkMPVcV9aeAoT08bxfv4S1hRvYPaWv5MalsS3+1zJwKgBKmLSY6mAiYiI\n",
              "iJxnXE4HV45K5YqRKew8UMWyjYdZv7OM1z7azfxP9jJiQBzjhibSN+nM9oqdLTFB0dw+cBJXpF3G\n",
              "+/mLWV+6iT9teoE+EWlc1+dK+rv7mpZNxCwqYCIiIiLnKcMwyExzk5nmpqahhRVbivhkYyEr84pZ\n",
              "mVdMUmxI+16x7HiCXeZdiDkhJI67cm7lyrrxvLdvEZvK83j6i7/SPzKD6zKupE9Eb9Oyifibjoa0\n",
              "gF27djFhwgTmzJljdhQRERE5T4UHO7n6wjRm3XsR03KHMCIzjuIjDbyyeBf/8YcVvPDedvYersbn\n",
              "M+8qoUmhvbh38B08MuJHDIwawK6qvfxu/Z/446bnOVBzyLRcIv6kPWAma2ho4Fe/+hWjR482O4qI\n",
              "iIh0AzbDYGDvKAb2jqK6/thescN8tqWIz7YUkRwbyrihiYzOTiAo0Jw/BdPCU7h/yN3sqcrn3X0L\n",
              "2XZkJ9uO7OSC2ByuTZ9IUmgvU3KJ+IMKmMmcTiezZ89m9uzZZkcRERGRbiYixMk1F6Vx1YWpbN9f\n",
              "ybKNh9m4u5w5i3Yxb+keLsyKZ9zQJHonhJmSr29kOg8N/Td2Vu7h3X0L2VS2lc1leQyPv4Br0icS\n",
              "Hxx7Vl7H4/VQ01JLdUsN1c01NLQ1kRzai6TQXjo9vvidCpjJHA4HDoe+DSIiInLu2AyD7PQostOj\n",
              "qK5rZvnmIj7dVMjyzUUs31xEanwo3740g4HJ4X4/VswwDDKj+jHA3Ze8Izt4d99C1pVsZH3JJi5M\n",
              "GM7V6ROICYo66WN9Ph/1rQ1UNVd3lKuq5mqqm2uobqmhqrn9vtqWOnycuPTSZXfRJyKNjMh0MiJ6\n",
              "0zs8hQC7f7/+prYmCmoOkV9zgP01ByioOYjNsNHfnUGmux8DovoSGRjh10xybukv//OM2x2Mw9H1\n",
              "K8o3tXx5YcTYWHM+3foqytQ1VstktTygTF1lxUwi4l8RoYF8++LeXDM6jW35FSzbWMjG3eX8af4m\n",
              "HHYbw/rHcMmgXgzsHYXN5r8zKBqGQU5MFtnRmWwq28q7+YtYVbyONSUbGN1rJL3LEymsKOsoW1XN\n",
              "NdQ019Dm85zyOQNsAUQGhhMX2ZvIwAginOFEBIbjtDs5UHOQPdX5bKvYybaKnQA4DDup4Sn0PVrI\n",
              "+kT0Jjgg6Kx9jV6fl6L6EvZXt5et/TUHKaovOa4cRgZG0OZtY03xBtYUbwAgPjiOzKi+DHD3o7+7\n",
              "D0GOs5dJ/E8F7DxTWdlwWuObW7+clIqKq3HYrbObPTY27Iwv+HiuKNPXs1oeUKauMjuTyp+ItdgM\n",
              "g5w+0eT0iaaytpnN+ytZtGo/a7aXsmZ7KZGhTi7O6cWYQQn0ig7xWy7DMBgSN4jBsdlsKNnEe/mL\n",
              "WVG4mhWFnbPbCHeGkRyWRERgOBHOcCID28tVRGB4R9kKcrhOfRr+pIsAqGmpZW/VfvZW57O3Kp/8\n",
              "6gL2Ve9vz4JBYmgCGRHpZET2pm9k+mntjapurukoWvurD1BQe5BmT0vHdqfdSd/IdHqHp9I7IpXe\n",
              "4SlEBkZ0FLUdFbvZUbmbPVX5fHLocz459DkGBmnhKQxw9yUzqi/p4Wl+32sn34wKWA+y+2AVWb1P\n",
              "vgtfREREei53WCA3je/H2Jx49hXVsGJLMau3lfD+qgLeX1VAn8RwxgzqxaisOEL8tETRZtgYkTCU\n",
              "oXGD2Vaxk4iIYGhyEBkYQWhAyFk7divcGcbQuEEMjRsEtC8JzK8+wJ6jhWx/zQEO1xXx6eHPAYh2\n",
              "RXXsIcuITO84Tq3F08rB2sPsrznQvpyw+gCVzVUdr2NgEB8SR+/wFNLDU+kdnkqvkHjsthNXNtkM\n",
              "G0lHj1G7PHUsbd429tccZEfFbnZW7jla6g6wsOBjAmwOMiLSO5ZxJocl6rg2i1MBM9nWrVt5/PHH\n",
              "OXz4MA6Hg4ULF/LMM88QGRl51l+rrunL5YjNLR4+/uIQ2/IryJ3Qn6QY/32yJSIiItZkGAYZiRFk\n",
              "JEYw+fK+fLG7nBVbitmaf4R9hTW8tmQ3w/rHMGZQL7L9tETRbrMzKGag3/biuxwusqL7kxXdH4A2\n",
              "bxsHag+ztyr/6F6y/awuXs/q4vUAhAaEEBPi5kB1IV6ft+N5QgNCyInOIj2ivWylhSef8dJBh81B\n",
              "38h0+kam822uoKmtiT1V+eyo3M3Oij3sqGzfUwYQ4gimvzuDAUeXLMYGRX/Dd0TONhUwk+Xk5PDy\n",
              "yy/75bVeWbyL/imRGAY8/PvPOu7/+XOrGT4glvu/N+ikj2vzeDlUVkdafNipd+OLiIhItxLgsDMq\n",
              "K55RWfFU1jazKq+Yz7YUdSxRjAh1cnF2AhcP6tWtP8h12Bz0iUijT0QaExmH1+eluL6UPUcL2Z6q\n",
              "fA7VFJMalnx0z1YKvSNSiXZFnbO/m1wOFzkxWeTEZAHtyyh3VexhR+UedlTs5ouyLXxRtgWAKJeb\n",
              "e0dOISUg7ZxkkdOnAtaD1NS38ONnPjvptvU7y2hu9fCz2au4YlQq44clYbfZWLT2IJ9sPEzRkQbu\n",
              "vjaLMYPar8txoKSWP721lX+/PoeYCBeHyurpn3L299qJiIiI+dxhgVx99HT2+UW1rNhSxOptJXyw\n",
              "+gAfrD5Aeq9wLhmUwKiB8X5bomgWm2EjMTSBxNAExia3X8c1OiaEI+X1pmUKd4YxImEoIxKG4vP5\n",
              "KGs8ws6je8f2VRdQ3nCElAgVMKtQAZMOW/Ye4UhNM68t2c1rS3Zz97VZvP7R7o7tOw5U4g4LpFd0\n",
              "CHMW7aK0spFfvriWOHcQpZWNzLhzJGkmXUdEREREzj3DMOiTGE6fxHByL+/Lxj1HWLGliC37jpBf\n",
              "VMNrH+1mSL9YLhmUQHZ6FHZbzzgWyUrHXBmGQVxwDHHBMVya1F4QzT4JkxxPBayHsEcX4ogvoHn7\n",
              "KPAdf7CnzV2CI66AP73dRsePhOHhxRXLwIgFX/uksiLvECu2FAEG4MNw1eNrCqG0shGAksqG4wrY\n",
              "pj3lfLqpkB9en2Opsy+KiIjINxfgsDMyM46RmXFU1TWzMq+YFVuKWbejlHU7SgkOdJCV5iY7PYqB\n",
              "6VHERerU6SKgAtbt2Y6uPXZmbG6/HX4Eb3XccWMC+30BQEB6Hr6GUNrKkglI244jupjWQ31pK+wL\n",
              "jhaChn2Mpzqalp0jsccewpmeh7chlOa8iwlI3cELWzdRUnE9V1+UxsfrD/H6x3sA2La/koG93V9b\n",
              "wj5afwibzeCyoUln+20QERGRcygyNJCrL0zjqlGp7C9uX6K4ee8R1u8qY/2uMgBiI11kp0eT3dtN\n",
              "Vprb7xd8FrEKFbBuLsBxfOkJHLCB1sI+tB3qR/uerC85oosgGgJSvlx2GJC8B3tMIa0F7Qd52iOO\n",
              "gOHFHtk+mdqC63DEF+CIPwDAm8vzOVRWz9odpR3P8dQ/NgE+vjc2g+Ij9azMKyEjKZzGZg/3fy+n\n",
              "49oiryzeBfC1p7gtLK+nudVDeq/wM3tTRERE5JwwDIP0XuGk9wrH5/NRWtVIXn4FefkV7DhQybIv\n",
              "DrPsi8MYBvTpFc7A3lFkp0fRJzFcq2Wkx1AB6wEciXuOux2QuA+bqx4jsBHD2fS1j7e5GrAFdVo3\n",
              "bPPQ6YLtBKTu7DTax/rCbTgSavG1OTECmmkrS8I1aAXvV39C6+GBQBx7D9cA8N+zVxPotNPc8uUF\n",
              "o5/9Zx63XNaXmAgXQYEOZr+zjfyiGmbecyEer4+fPbcagBceHU9dYysup/2ESftIdRPu8MCOPYAi\n",
              "Il01a9YsNm3ahGEYTJ8+ncGDB3dsW7VqFU8++SQ2m4309HRmzpyJrYcc4yJyugzDIN4dTLw7mPHD\n",
              "kvF4veQX1pK3v4K8/RXsO1zD3sIa3vl8P4FOO1mpbgb2bl+ymBAVrDMvS7elAtbNebweApL3nHC/\n",
              "ParktJ4nIHVXx7//f3t3HiVVea97/Ltr7K6ep+qmGZpmhmZGDZM4YYwah+iNcLmYmORqPDkuNWd5\n",
              "o3JdITceTTRZ55oYb0xiTE7iMcFDUHMyQTSSoAEREJBJoIG25+7qoZoeat73j6KL6jAIiFWb7uez\n",
              "lqu7qnZVPV2Uv12/2u9+X9fYHdjzfSffbvRuHN66gdeNjN/XANwTthGqmUS0uQLsEYg6CYaiOMfu\n",
              "wOzJJdJUye7D7aw8vPmEx/7SE28MuOxPmtXxrhumUJDjZuKoAnYdbuPfVu3gkxePZOlV48/q7xSR\n",
              "oW3z5s3U1NSwatUqqqurWbFiBatWrUrc/vWvf51f/OIXlJWVce+997JhwwYuu+yyNCYWuXDYbTbG\n",
              "jchj3Ig8blpYSW8gwvsfdMQbssPtbD/oY/vB+OeLwlx3/OjY6EImjy4g1+NKc3qR80cN2CB3stXV\n",
              "P/JjnqL5Ak5ovk7GVbEPKvYBEGkdTrh24rHhj41EmkZjeLow+3LAtGG4ejGjTog6wRnAUdxArDcb\n",
              "M5A9YEr9H//XHgAeXj6bPUc6AFj3Ti3Xzq0gLytetPceaWd/nZ+bFlae898uIoPbxo0bWbx4MQBj\n",
              "x47F7/fT3d1NdnY2AGvWrEn8XlhYSEdHR9qyilzoPBkOZk0oYdaEEgB8/j72HOlg1+F29h5p582d\n",
              "jby5sxGAitIcLq4qo7I0m/Ej8jRcUS5oasAkrRwl9RiOUOKya9z2xNG50JEpuEbvwYzaCWy7koyq\n",
              "jRiuYGLbSPMozKiDSN2ExHXfemHbgMf/6tNv8vxDVwLwnV9vB2CUN5vtB318ZtEY8rPdxx8vGkNE\n",
              "hjafz0dVVVXicmFhIa2trYmmq/9nS0sLb731Fvfdd19acooMRsV5mSyakcmiGeXEYiY1zUfZfbid\n",
              "PUfaOVDnp+Yv8XPU3U47E0flM7WykKljiigtyNRwRbmgqAGTtLMXtB7/PWlopGt0/KiWYY+SefGf\n",
              "T7hf/8Qf0bZh8SNmp/DmzkZ+87fqxOWn18RXhu84GuRflswE4HBjF4/++xZmjC9mWmUhHzR3s/yT\n",
              "E/QNm8gQZ5rmCde1tbVx9913s3LlSgoKCk57/4ICDw7HuY1EKCmx9rqKVs5n5Wxg7XxWylZamssl\n",
              "0+MzIwc8n3zKAAAcLElEQVSCEd6r9vHu/la27WthZ3UbO6vbgAN4CzKZNdHLrIleZowvITszPbMr\n",
              "Wum1Oxmr5xtK1IANUbGeXGxZXemOcV5kTHuLvs2fGnilEYuvX2bEeP5P7wEG2GPYcjqIdZYABrsO\n",
              "t/PFb/8FI6OHQm8IKGDHAR87DsSHWOZnu8jLdlM5LIfRZfEZF03TJBI1T5hdMll3Xxi304bzHD90\n",
              "iUj6eL1efL7jw6xbWlooKSlJXO7u7ubOO+/k/vvvZ+HChR/6eB0dveeUw+qLplo5n5WzgbXzWTkb\n",
              "wMVTyhhdksVnFozG5z8+u+KeIx2s3VTD2k018dkVy3OZWlnE1MpCRg/LScli0FZ/7c41n5q2j4ca\n",
              "sCHAm1lMS58PM+LEcIQJ144n0jKKzDmvn3R70zQwDPOE389U9Gg+hjOELePcPnicC3tRA7HeHJwV\n",
              "e4m2l+IavXfA7WbITSzgwZ7bQah6OoYrQKR1BLbsTtwTttEL0Hg59vxW7PkthA7M4nc7txLryYOY\n",
              "gy9/djQ/euV9CMeHLP7ogcuw2208s+Y9rpw9gomj8vnWC9uoqjL4/YYGzGBWYujjuajpqsUf7GJ6\n",
              "SdWHbywi582CBQt4+umnWbp0Kbt378br9SaGHQJ8+9vf5vOf/zyLFi1KY0oRKc7L5LKZw7ls5nCi\n",
              "sRhHGo+y61hDVt3gp7q+i1ffPIzH7UjMrDi1soiivIx0RxdRAzYUPHDRPfxqy0b+/laYURP9TBo5\n",
              "g3WNDafc/tLyubzZuBGA8UdvZteRVhylHxBpGYm9sIlIYyWZF712yvuHD0/DDMTX9sKIYjiDZMz8\n",
              "23n9m/5R/0LTAPbc9hNuN1xB7MfOH+vftn92xn7O4QcTk4g4hh3BOXI/0c4SQvvn8IuaZ8mcBX3v\n",
              "Xo6jqJGfryvmg8Y+6lu7efeAD4womHaaRv6JjBnQt/lTmKaJCWc9FX7H0SBPbnkagGeufPKs7isi\n",
              "H83s2bOpqqpi6dKlGIbBypUrWbNmDTk5OSxcuJBXXnmFmpoaVq9eDcCnP/1plixZkubUIkOb3WZj\n",
              "7PA8xg7vn10xzN6a+GQeuw61s+X9Vra8Hz/dYViRh6rRhUwdU8jkigKNVpG0UAM2BGQ5PTx8483U\n",
              "zenE7YoXmnWbG+jbfA03XT6chuYwUVuAy6aNpMzrpCizgL/82QGZncy8aBQXjangZ3/I5u6bqjjU\n",
              "0EX+BDeusix+U/0qY7qvxx3NI8fjYpvj10SMAGbk+NvqkknD2Ly3hcDOS7Fl+Y8dicomc9Ybp4qb\n",
              "NskzONqL4g2qPb8VR9nhxPWZs9YDsKXNj83bS2ZlF9H2UuyFzUS7jp8LYi+uS0yb/80vXsJfW16n\n",
              "od6gvcZLXpaLr942g0P1fsqKsqiu9wPQ3hVg7Tu1+G11uCfGH+eVDYe485YZH+efLSL/4IEHHhhw\n",
              "edKkSYnfd+3aleo4InKWPBlO5kz0MmeiF9M0ae6ID1fcdaiNfR908trWOl7bWofbZWfG2CJmTyhh\n",
              "2pgiMt36WCypoXfaENLffAF86frJ/PyP+7h0ymgK5554OP6R2y7ntS21LJhahstp59Lp5QBcMrn0\n",
              "2BajuHzUPGzG8XHVt4S+Rkegk/9oaGbW+BI+9YlRAMwc10RtSzfXz6uguaOPo70hVjVspzN8fPrm\n",
              "WHcesWAmNncvwb1zyf3EesKx47MjJov4ynEUxxukWG82Nk/3R3pdTib5MQcuNB3nKGpK/N4/cYg9\n",
              "9/jf4xqzi772MlzjtvPYpo3Ysv3ghEjuCLq8dfzz8/uwZXbjHHGQ0KGpRP3FEM7AltuGe+LWxOP8\n",
              "/uB6/kdgCg3dTfQFI4wuKOdgnZ++YJTJFQVgxGeDikRjOOw29td2EooFyMwL4LZlUlsf5aLxZac9\n",
              "Z01ERGSwMgyDskIPZYUerpozgkg0xsE6Pzur29i6v4XNe+P/Oew2plYWMmdiCTPHF5OVkZ6JPGRo\n",
              "MMyTTfEklnWuJ3ha7eTQmBnjxYP/SZaRzbWjFxMMGrgcNjbtaSbX46Qjcy8vH/w9c8su4mDnYe6f\n",
              "/WUchoNt+9v4999X4xi5D5uni3DNFDKmv/nhT3gBCx2ZnDin7YTJRgDD48dw90HEiS3fh72wEZs7\n",
              "AIAZcZJtFPLIorto6m2hLMtLriuH3kCE7QdbuXhS6Smbs+5gL+tq1nPdmCvpjfSR48rBaXOc1Xsp\n",
              "HItgN2wDGvUzEYyGcNtPvujm+nfrmVxRQGmhJ3Gd1d7foEynev6hZrDU7H9k5XxWzgbWzmflbHD+\n",
              "85mmSV1rD1vfb2Hr/lbqW3sAsNsMJo3KZ/ZEL7PHF5OXtGRNqrKdb5qEw1rUgF1gBtPO/MMydYd7\n",
              "yHZmDbjONE3WvVPLpFEFVJTFi0J3sJcH3/oGQGI44OmYYSeGM/zRwqeJGbUTaRqNvaD5nI/8XTfq\n",
              "Wn53YD1mbw6h6unYctpxlH6QWGA71p1LtKMUI6MXR0k9ZtSOYY/icXi4a8I/U1mRTWdnH/5AN9WH\n",
              "I2wKrsEw4KGLvjpgLH1Ldzv/Z/O3GeEZya0Tr6MvEmBGSRWPv/X/qA8ewfb+FSy9vowXD/6Kr8/9\n",
              "X2Q6Mnh88/9lRslU3qzfxKcrr2F++cWseOtfcdqcrLjkq+yur+OFPxzBcES49boCrhl9BTbDRklJ\n",
              "Di0tXWe0Dkw4GqbmaB1j80af1boxkViE2qP1dId7mFY85bTbhqJhyksL8PnO79HZUDSE0+Y8ae5I\n",
              "LMLGxneY7Z1BljPenJqmSWfQz9/qN3JNxZWMHFZ81nWgfxdxPtbYGYo78sFUs5NZOZ+Vs4G181k5\n",
              "G3z8+Zrae+PN2PutHGmKP48BjBuRx5wJJcyeWEJxXmZasn1UasCsRQ3YBWYw7cw/jkyvb62j2tzI\n",
              "jq53APjc5CVs2WzQ7aynt7mI+kAtl4+fQcTRxVvVe4i2jsKW3wKYuCe8e9rHjgU8KZ3ZUc5MkdPL\n",
              "ly75b/x0668wgUfnP0w4FuE93x7KPF4iZoRcVw757jwAfrnnJTY1beFLU5cz2zsdiDdlb2z/AKJO\n",
              "PnnJKMLHmq2drbsZk1fBG7Vvsr/z+Fpyn6y4AhsGC4Z/Arthpz3QQUXuSHrDfbjtLu7/6/9mRtkU\n",
              "vjTpdv5a/3fmeGeQ68rBMAze8+3BYTiYWDiOYDTEpsYtlHm8jMuv5LeH/sQlZbP5W91GPjX6Kooy\n",
              "j59X2BHo5JG/Pw7AfbPuoj3QybqaN7h1/I209Lay+sBvAZhWPJm7p3+Bpp4WHn37uwNeq1/f9gxt\n",
              "vvg3vEdD3WQ5PdR3N1HqKcZhc2AzbPiDXTT2NDOpcDwA9/zlQcbkjeZf5vzTR/63Goo78sFUs5NZ\n",
              "OZ+Vs4G181k5G6Q2X5s/wLb9rWx9v4UDdX76PyxXlOUwZ0IJcyaWMKzo+JfEg/W1G4p1OxXUgF1g\n",
              "BtPO/OPM1NbXQUFG3glD32IxE5st/k1+Y1sPdptBSX4mfcEoj/znq1wxfRxbtwX5oLmbzEv+BMB8\n",
              "z41UVRQT9hfyw1d24Sivxl5SS/hIFfaCFozMo9hzOgk3jCHaOoKMGR99xsfggZm4xm3nPBx0GHLK\n",
              "w7NpcG47+Y0RJzjSd/TzmSuf5J//8rWT3nbz2Ot4pfoPJ2zfFwmwqXFLosH6KBaPvZRYCPZ3VFPX\n",
              "feJMqGPyKqjrbiQUDfGFqmX8x77VhKLxczG/PO3z/P7wn6nrbsBpc/Lo/IfJcWWf8BinMxR35IOp\n",
              "Ziezcj4rZwNr57NyNkhfPn9PiHcPtLL1/Vb21XQQjcU/OpcXZyWasdlVw877qIfzSQ2YtagBu8AM\n",
              "pp25VTO1tHQRiZoc8B8gEAkwu3TgLISNbT088/Iu7r6xirIiDyt+8nfaAu088YWreWdvCztsr1Lb\n",
              "XUdg91wyqjYB8aGRoSNVEOk/r8nEcPdiBo99e+YM4ChqxHD3Ea6ZDBjYi+twjdGMa2JNX5jy37mo\n",
              "bNZZ3Wco7sgHU81OZuV8Vs4G1s5n5WxgjXw9gTDbD/jYtr+VXYfbCUdiABTlZTCs0ENZkYdhRVmU\n",
              "F3koK8oi13PyYeOppgbMWjQLosg/MAwDp8NgStHEk94+rCiLf/2fn0hc/uYX5+LvDlGcl8m1cyu4\n",
              "xrwH0zSxX2ln04EZ/P7tGr541Rz+5Kjl1svG0ODrxd8TZGplEZluO2+8W8/6dxt44KbL+aC5m7HX\n",
              "53KooYtxI+excm03fX0GkfqxZMxcj+GIABBpqiAWzMRRXI8ta2BBjQUyCX8wmanesezp2QaGSdRX\n",
              "jr2kHpunC3teGwCB3XNxjdmJLfP4sMpohxd7QUvicnDvxbgmbiVcOwFH6QcDhmBGWkYMmLpfhpbs\n",
              "szz6JSIyGGRlOFkwbRgLpg0jEIrw3qF2tr7fwsF6f3zdscMD1yL1uB0MO9aUDSs63qCV5Gdgt2mG\n",
              "4qFKR8AuMIPp21RlOjP9mX7+x33sb2zh1uvymV06ja7eMJkuO3/c+R579oa455aZ9AUj5GW5E0sO\n",
              "mKZJNGZy13fWD3jMz1xayZGmo/FFpONbEj/VGGy5PtyTthBuGEOkbsLxOzlCOEftxbDFCNdOwAxm\n",
              "Ybh6MTJ7wDRweGuJ+ouJtg2DmB3sEQxHCHthM4YzgBnKJNIy8qSLeAd2LMKW58OW0064egZGlh/D\n",
              "MIkFMyGcAZjYctvAHsE9fjsR3zAMdx+xjtKTLhOQKtGuAmL+khMW9baaqL8Qe96JC5R/FPeMfZDJ\n",
              "FUVndZ+h+E3qYKrZyaycz8rZwNr5rJwNrJ2vpCSHmtoOmtp7aWzrobEt/rOpvZeWjr7EsMV+dptB\n",
              "aaEn6ahZvDErK/R8LOuR6QiYtagBu8AMpp25Mp2Z85HpQF0nbqed3/39CHMmevnElFLCkSivb62n\n",
              "tCATp8NGbzDCJZNLOdobojcU5HB9D5dMKaV/4ES9r4eVz28muWL82z0LqK7v4pmX3wPgO/80nx3V\n",
              "Pl5YF29IvnjdZApz3axeX52YUcqW3c5nF01mz74I7x3ygS0KsY+yszHBMMG0ASa2/FZsOe1Eaidi\n",
              "uPqwFzYRPVqE2ZMHRgz35Lcxow5Ch6aROWs90c5iQoenQjgDZ+V7OErq6XvnajLmvIZhM+NT/9vD\n",
              "GBk9mD35J49gRMEegUh8qmLD0wVRO/aSOqIdpfH7OQMYhokZysSW3YG9qJFIYyWOEQeI9eRiBjw4\n",
              "yg9hOMLYMnsIHZlCzF8ExrHhqn05mBEnxBzY8lqwFzcSqRuHGfTQ3zxjD0PMhi2vjVhPLoTdidsM\n",
              "Vy9GVhf2PB+xowWYoQzck99J/AmhI1NwlB3BcPURqZtApG0Y7slvY8voI7BrHgAOby2GK0CoejpE\n",
              "XTz/0JVn9S81FHfkg6lmJ7NyPitnA2vns3I2sHa+02WLRGO0dvYdb8raemk81qj1BaMnbF+Q46Yk\n",
              "L4O8bDd52S7ys93kZcV/5me7yMt2k5XhOKuhjWrArEUN2AVmMO3MlenMWClTx9EgO490MH+yd8D6\n",
              "Yf1H2hz2s1zvKxwlGIqyv7aT2RNK8PeE2FHt47IZ5USiMew2G+veqeXyWeWYJuw46GPCyHwKczMS\n",
              "i0+bpsmPf7eXt3cfXxx76VXjWXzRCAxgz5EOQuEowXCUH//XHgA+efFIHHYbc6cV0dwWpKmtD4Df\n",
              "/PXQ8XC2+HDPKaNKuPumqfj8fXzz51vO8ZU7C0YUwxU81lh9zE/l8WOGM8A0ks5PPDM3LazkpoWV\n",
              "Z3WfobgjH0w1O5mV81k5G1g7n5WzgbXznUs20zTx94RobOulKemoWUNbL51Hg5zuA7rDbjvWlLmO\n",
              "N2rHmrS8pEYtx+PEZhhqwCxGDZgFPP744+zYsQPDMFixYgXTp08/5baDaWeuTGfGapmslgfOb6bm\n",
              "9l4Kcty0dPZRkpeZGM7ZLxYzMYwPXxerqCibXfubeXtPM4tmlPN+bSfr3qnlrhumUFroIRyJ8dPf\n",
              "7aFyWC7bDrRS09TNFbOG090X4nOfmoTPH2Db+y28vOEwAJdOH8aGnY0nfa4cj5OR3myWXDme2paj\n",
              "HGroosHXg78nxPXzKvDme9h5qI3f/f3IgPuN9GbTF4zg8wcGXD+8JCuxIOltV4yjtqWbjbubuOvG\n",
              "KYwrz2PDzkY+PX/0KRfxPpWhuCMfTDU7mZXzWTkbWDuflbOBtfOd72zRWIyunjCd3UH83SE6e+I/\n",
              "/d1BOrtD+HviP7t6QicMb0xmMwzysl3cefM0Jg3PPescQ7Fup4Im4UizzZs3U1NTw6pVq6iurmbF\n",
              "ihWsWrUq3bFEhqzSwviRpxElJ59kon8Zgw9jsxkMK8ri5kvHADCvqox5VWWJ291OO1/5zDQArp1b\n",
              "ccL9hxdnkesZzo7qNm5ZNIYpowv5wnWTP/R5R3qzmT912AnXjxuRx5dvncGu/c3kZLrwZAws/9FY\n",
              "7LQnhN95w/HFpz+zaMyH5hARkXNnt9koyHFTkOM+7XYx06S791ij1hNKNGzJTdvRvnBitkaxBjVg\n",
              "abZx40YWL14MwNixY/H7/XR3d5OdrRnGRIa6HI+LRz530Xl9zNKCkw9t1GxcIiIXHpthkJvlIjfr\n",
              "9MPIrXz0cCjSHjfNfD4fBQUFicuFhYW0tramMZGIiIiIiHxcdATMYj7slLyCAg8Oh/2025yKFcfx\n",
              "KtOZsVomq+UBZTpTVswkIiIylKgBSzOv14vP50tcbmlpoaSk5JTbd3T0nvK207HioWdlOjNWy2S1\n",
              "PKBMZyrdmdT8iYiIaAhi2i1YsIC1a9cCsHv3brxer87/EhEREREZpHQELM1mz55NVVUVS5cuxTAM\n",
              "Vq5cme5IIiIiIiLyMVEDZgEPPPBAuiOIiIiIiEgKaAiiiIiIiIhIihjmh027JyIiIiIiIueFjoCJ\n",
              "iIiIiIikiBowERERERGRFFEDJiIiIiIikiJqwERERERERFJEDZiIiIiIiEiKqAETERERERFJETVg\n",
              "g9zjjz/OkiVLWLp0KTt37kx3HACefPJJlixZwq233sq6devSHSchEAiwePFi1qxZk+4oAPz2t7/l\n",
              "xhtv5JZbbmH9+vXpjkNPTw/33HMPt99+O0uXLmXDhg1py7J//34WL17MCy+8AEBjYyO33347y5Yt\n",
              "47777iMUClki0x133MHy5cu54447aG1tTXumfhs2bGDixIkpzyNnxop1u59V63cyq9Xyflar6cms\n",
              "VN+TWbHWny5bumv+6fL1U/23BjVgg9jmzZupqalh1apVPPbYYzz22GPpjsSmTZs4cOAAq1at4rnn\n",
              "nuPxxx9Pd6SEH/7wh+Tl5aU7BgAdHR0888wzvPjiizz77LO8/vrr6Y7Eyy+/TGVlJb/85S/53ve+\n",
              "l7b3U29vL48++ijz5s1LXPf973+fZcuW8eKLL1JRUcHq1avTnumpp57itttu44UXXuDqq6/mZz/7\n",
              "WdozAQSDQX784x9TUlKS0jxyZqxYt/tZuX4ns1It72fFmp7MKvU9mRVr/emypbvmf1g+UP23EjVg\n",
              "g9jGjRtZvHgxAGPHjsXv99Pd3Z3WTBdffDHf+973AMjNzaWvr49oNJrWTADV1dUcPHiQyy+/PN1R\n",
              "gPi/3bx588jOzsbr9fLoo4+mOxIFBQV0dnYC0NXVRUFBQVpyuFwufvKTn+D1ehPXvf3221x11VUA\n",
              "XHHFFWzcuDHtmVauXMk111wDDHzt0pkJ4Nlnn2XZsmW4XK6U5pEzY8W63c+q9TuZ1Wp5PyvW9GRW\n",
              "qe/JrFjrT5ct3TU/meq/9akBG8R8Pt+AIlpYWJj2Q+J2ux2PxwPA6tWrWbRoEXa7Pa2ZAJ544gke\n",
              "euihdMdIqKurIxAIcPfdd7Ns2bK07WSSXX/99TQ0NHD11VezfPlyHnzwwbTkcDgcZGRkDLiur68v\n",
              "sUMpKipK+fv8ZJk8Hg92u51oNMqLL77IDTfckPZMhw8fZt++fVx77bUpzSJnzop1u59V63cyq9Xy\n",
              "flas6cmsUt+TWbHW97NizU+m+m99jnQHkNQxTTPdERJee+01Vq9ezfPPP5/uKLzyyivMnDmTkSNH\n",
              "pjvKAJ2dnfzgBz+goaGBz33uc7zxxhsYhpG2PK+++irl5eX89Kc/Zd++faxYscJy51iAtd7n0WiU\n",
              "r33ta8ydO/eEoSDp8K1vfYtHHnkk3THkLFjp/dzPSvU7mVVreT+r1fRkF0p9T2bF/zesVvOTqf5b\n",
              "ixqwQczr9eLz+RKXW1paLDHud8OGDTz77LM899xz5OTkpDsO69evp7a2lvXr19PU1ITL5aKsrIz5\n",
              "8+enLVNRURGzZs3C4XAwatQosrKyaG9vp6ioKG2Ztm3bxsKFCwGYNGkSLS0tRKNRS3wD7vF4CAQC\n",
              "ZGRk0NzcfMKwi3R5+OGHqaio4J577kl3FJqbmzl06BAPPPAAEK8Hy5cvP+EEbUkvq9btflar38ms\n",
              "WMv7WbGmJ7NyfU9m1Vrfz0o1P5nqv/VoCOIgtmDBAtauXQvA7t278Xq9ZGdnpzXT0aNHefLJJ/nR\n",
              "j35Efn5+WrP0e+qpp/jNb37DSy+9xGc/+1m+8pWvpH2HvXDhQjZt2kQsFqOjo4Pe3t60j8mvqKhg\n",
              "x44dANTX15OVlWWZnfP8+fMT7/V169Zx6aWXpjlRfMYzp9PJvffem+4oAJSWlvLaa6/x0ksv8dJL\n",
              "L+H1erXztSAr1u1+VqzfyaxYy/tZsaYns3J9T2bFWt/PajU/meq/9egI2CA2e/ZsqqqqWLp0KYZh\n",
              "sHLlynRH4g9/+AMdHR3cf//9ieueeOIJysvL05jKekpLS7nmmmu47bbbAHjkkUew2dL7fcmSJUtY\n",
              "sWIFy5cvJxKJ8I1vfCMtOXbt2sUTTzxBfX09DoeDtWvX8t3vfpeHHnqIVatWUV5ezs0335z2TG1t\n",
              "bbjdbm6//XYgPqFCKl+zk2V6+umnLfnBWY6zYt3up/p97qxY05NZpb4ns2KtP122dNf8D8un+m8t\n",
              "hmnFQbQiIiIiIiKDkHW+fhERERERERnk1ICJiIiIiIikiBowERERERGRFFEDJiIiIiIikiJqwERE\n",
              "RERERFJEDZiIiIiIiEiKqAETERERERFJETVgIiIiIiIiKaIGTEREREREJEXUgImIiIiIiKSIGjAR\n",
              "EREREZEUUQMmIiIiIiKSImrAREREREREUkQNmIiIiIiISIqoARMREREREUkRNWAiIiIiIiIpogZM\n",
              "REREREQkRdSAiYiIiIiIpIgaMBERERERkRRRAyYiIiIiIpIiasBERERERERSRA2YiIiIiIhIiqgB\n",
              "ExERERERSRE1YCIiIiIiIimiBkxERERERCRF1ICJiIiIiIikiBowERERERGRFFEDJiIiIiIikiJq\n",
              "wERERERERFJEDZiIiIiIiEiKqAETERERERFJETVgIiIiIiIiKaIGTEREREREJEXUgImIiIiIiKSI\n",
              "GjAREREREZEUUQMmIiIiIiKSImrAREREREREUkQNmIiIiIiISIqoARMREREREUkRNWAiIiIiIiIp\n",
              "ogZMREREREQkRdSAiYiIiIiIpIgaMBERERERkRRRAyYiIiIiIpIiasBERERERERSRA2YiIiIiIhI\n",
              "iqgBExERERERSRE1YCIiIiIiIimiBkxERERERCRF1ICJiIiIiIikiBowERERERGRFFEDJiIiIiIi\n",
              "kiJqwERERERERFJEDZiIiIiIiEiKqAETERERERFJETVgIiIiIiIiKfL/ASwfRYMD0+LjAAAAAElF\n",
              "TkSuQmCC\n",
              "'/>"
            ],
            "text/plain": [
              "<IPython.core.display.HTML object>"
            ]
          },
          "metadata": {
            "tags": []
          }
        },
        {
          "output_type": "display_data",
          "data": {
            "text/html": [
              "Train: <progress value='100.0' max='100', style='width: 80%'>100.0\n",
              "                           </progress>"
            ],
            "text/plain": [
              "<IPython.core.display.HTML object>"
            ]
          },
          "metadata": {
            "tags": []
          }
        },
        {
          "output_type": "display_data",
          "data": {
            "text/html": [
              "Valid: <progress value='100.0' max='100', style='width: 80%'>100.0\n",
              "                           </progress>"
            ],
            "text/plain": [
              "<IPython.core.display.HTML object>"
            ]
          },
          "metadata": {
            "tags": []
          }
        },
        {
          "output_type": "stream",
          "text": [
            "------------------------------------\n",
            "summary of epoch: 0\n",
            "------------------------------------\n",
            "loss -           train     valid\n",
            "                 0.745     0.614\n",
            "accuracy/error - \n",
            "                 0.650     0.596\n",
            " \n"
          ],
          "name": "stdout"
        },
        {
          "output_type": "display_data",
          "data": {
            "text/html": [
              "Train: <progress value='100.0' max='100', style='width: 80%'>100.0\n",
              "                           </progress>"
            ],
            "text/plain": [
              "<IPython.core.display.HTML object>"
            ]
          },
          "metadata": {
            "tags": []
          }
        },
        {
          "output_type": "display_data",
          "data": {
            "text/html": [
              "Valid: <progress value='100.0' max='100', style='width: 80%'>100.0\n",
              "                           </progress>"
            ],
            "text/plain": [
              "<IPython.core.display.HTML object>"
            ]
          },
          "metadata": {
            "tags": []
          }
        },
        {
          "output_type": "stream",
          "text": [
            "------------------------------------\n",
            "summary of epoch: 1\n",
            "------------------------------------\n",
            "loss -           train     valid\n",
            "                 0.567     0.504\n",
            "accuracy/error - \n",
            "                 0.580     0.558\n",
            " \n"
          ],
          "name": "stdout"
        },
        {
          "output_type": "display_data",
          "data": {
            "text/html": [
              "Train: <progress value='100.0' max='100', style='width: 80%'>100.0\n",
              "                           </progress>"
            ],
            "text/plain": [
              "<IPython.core.display.HTML object>"
            ]
          },
          "metadata": {
            "tags": []
          }
        },
        {
          "output_type": "display_data",
          "data": {
            "text/html": [
              "Valid: <progress value='100.0' max='100', style='width: 80%'>100.0\n",
              "                           </progress>"
            ],
            "text/plain": [
              "<IPython.core.display.HTML object>"
            ]
          },
          "metadata": {
            "tags": []
          }
        },
        {
          "output_type": "stream",
          "text": [
            "------------------------------------\n",
            "summary of epoch: 2\n",
            "------------------------------------\n",
            "loss -           train     valid\n",
            "                 0.463     0.392\n",
            "accuracy/error - \n",
            "                 0.524     0.486\n",
            " \n"
          ],
          "name": "stdout"
        },
        {
          "output_type": "display_data",
          "data": {
            "text/html": [
              "Train: <progress value='100.0' max='100', style='width: 80%'>100.0\n",
              "                           </progress>"
            ],
            "text/plain": [
              "<IPython.core.display.HTML object>"
            ]
          },
          "metadata": {
            "tags": []
          }
        },
        {
          "output_type": "display_data",
          "data": {
            "text/html": [
              "Valid: <progress value='100.0' max='100', style='width: 80%'>100.0\n",
              "                           </progress>"
            ],
            "text/plain": [
              "<IPython.core.display.HTML object>"
            ]
          },
          "metadata": {
            "tags": []
          }
        },
        {
          "output_type": "stream",
          "text": [
            "------------------------------------\n",
            "summary of epoch: 3\n",
            "------------------------------------\n",
            "loss -           train     valid\n",
            "                 0.328     0.280\n",
            "accuracy/error - \n",
            "                 0.440     0.409\n",
            " \n"
          ],
          "name": "stdout"
        },
        {
          "output_type": "display_data",
          "data": {
            "text/html": [
              "Train: <progress value='100.0' max='100', style='width: 80%'>100.0\n",
              "                           </progress>"
            ],
            "text/plain": [
              "<IPython.core.display.HTML object>"
            ]
          },
          "metadata": {
            "tags": []
          }
        },
        {
          "output_type": "display_data",
          "data": {
            "text/html": [
              "Valid: <progress value='100.0' max='100', style='width: 80%'>100.0\n",
              "                           </progress>"
            ],
            "text/plain": [
              "<IPython.core.display.HTML object>"
            ]
          },
          "metadata": {
            "tags": []
          }
        },
        {
          "output_type": "stream",
          "text": [
            "------------------------------------\n",
            "summary of epoch: 4\n",
            "------------------------------------\n",
            "loss -           train     valid\n",
            "                 0.240     0.225\n",
            "accuracy/error - \n",
            "                 0.374     0.367\n",
            " \n"
          ],
          "name": "stdout"
        },
        {
          "output_type": "display_data",
          "data": {
            "text/html": [
              "Train: <progress value='100.0' max='100', style='width: 80%'>100.0\n",
              "                           </progress>"
            ],
            "text/plain": [
              "<IPython.core.display.HTML object>"
            ]
          },
          "metadata": {
            "tags": []
          }
        },
        {
          "output_type": "display_data",
          "data": {
            "text/html": [
              "Valid: <progress value='100.0' max='100', style='width: 80%'>100.0\n",
              "                           </progress>"
            ],
            "text/plain": [
              "<IPython.core.display.HTML object>"
            ]
          },
          "metadata": {
            "tags": []
          }
        },
        {
          "output_type": "stream",
          "text": [
            "------------------------------------\n",
            "summary of epoch: 5\n",
            "------------------------------------\n",
            "loss -           train     valid\n",
            "                 0.184     0.186\n",
            "accuracy/error - \n",
            "                 0.328     0.334\n",
            " \n"
          ],
          "name": "stdout"
        },
        {
          "output_type": "display_data",
          "data": {
            "text/html": [
              "Train: <progress value='100.0' max='100', style='width: 80%'>100.0\n",
              "                           </progress>"
            ],
            "text/plain": [
              "<IPython.core.display.HTML object>"
            ]
          },
          "metadata": {
            "tags": []
          }
        },
        {
          "output_type": "display_data",
          "data": {
            "text/html": [
              "Valid: <progress value='100.0' max='100', style='width: 80%'>100.0\n",
              "                           </progress>"
            ],
            "text/plain": [
              "<IPython.core.display.HTML object>"
            ]
          },
          "metadata": {
            "tags": []
          }
        },
        {
          "output_type": "stream",
          "text": [
            "------------------------------------\n",
            "summary of epoch: 6\n",
            "------------------------------------\n",
            "loss -           train     valid\n",
            "                 0.146     0.147\n",
            "accuracy/error - \n",
            "                 0.292     0.290\n",
            " \n"
          ],
          "name": "stdout"
        },
        {
          "output_type": "display_data",
          "data": {
            "text/html": [
              "Train: <progress value='100.0' max='100', style='width: 80%'>100.0\n",
              "                           </progress>"
            ],
            "text/plain": [
              "<IPython.core.display.HTML object>"
            ]
          },
          "metadata": {
            "tags": []
          }
        },
        {
          "output_type": "display_data",
          "data": {
            "text/html": [
              "Valid: <progress value='100.0' max='100', style='width: 80%'>100.0\n",
              "                           </progress>"
            ],
            "text/plain": [
              "<IPython.core.display.HTML object>"
            ]
          },
          "metadata": {
            "tags": []
          }
        },
        {
          "output_type": "stream",
          "text": [
            "------------------------------------\n",
            "summary of epoch: 7\n",
            "------------------------------------\n",
            "loss -           train     valid\n",
            "                 0.114     0.134\n",
            "accuracy/error - \n",
            "                 0.258     0.280\n",
            " \n"
          ],
          "name": "stdout"
        },
        {
          "output_type": "display_data",
          "data": {
            "text/html": [
              "Train: <progress value='100.0' max='100', style='width: 80%'>100.0\n",
              "                           </progress>"
            ],
            "text/plain": [
              "<IPython.core.display.HTML object>"
            ]
          },
          "metadata": {
            "tags": []
          }
        },
        {
          "output_type": "display_data",
          "data": {
            "text/html": [
              "Valid: <progress value='100.0' max='100', style='width: 80%'>100.0\n",
              "                           </progress>"
            ],
            "text/plain": [
              "<IPython.core.display.HTML object>"
            ]
          },
          "metadata": {
            "tags": []
          }
        },
        {
          "output_type": "stream",
          "text": [
            "------------------------------------\n",
            "summary of epoch: 8\n",
            "------------------------------------\n",
            "loss -           train     valid\n",
            "                 0.095     0.120\n",
            "accuracy/error - \n",
            "                 0.236     0.264\n",
            " \n"
          ],
          "name": "stdout"
        },
        {
          "output_type": "display_data",
          "data": {
            "text/html": [
              "Train: <progress value='100.0' max='100', style='width: 80%'>100.0\n",
              "                           </progress>"
            ],
            "text/plain": [
              "<IPython.core.display.HTML object>"
            ]
          },
          "metadata": {
            "tags": []
          }
        },
        {
          "output_type": "display_data",
          "data": {
            "text/html": [
              "Valid: <progress value='100.0' max='100', style='width: 80%'>100.0\n",
              "                           </progress>"
            ],
            "text/plain": [
              "<IPython.core.display.HTML object>"
            ]
          },
          "metadata": {
            "tags": []
          }
        },
        {
          "output_type": "stream",
          "text": [
            "------------------------------------\n",
            "summary of epoch: 9\n",
            "------------------------------------\n",
            "loss -           train     valid\n",
            "                 0.079     0.117\n",
            "accuracy/error - \n",
            "                 0.216     0.261\n",
            " \n"
          ],
          "name": "stdout"
        },
        {
          "output_type": "display_data",
          "data": {
            "text/html": [
              "Train: <progress value='100.0' max='100', style='width: 80%'>100.0\n",
              "                           </progress>"
            ],
            "text/plain": [
              "<IPython.core.display.HTML object>"
            ]
          },
          "metadata": {
            "tags": []
          }
        },
        {
          "output_type": "display_data",
          "data": {
            "text/html": [
              "Valid: <progress value='100.0' max='100', style='width: 80%'>100.0\n",
              "                           </progress>"
            ],
            "text/plain": [
              "<IPython.core.display.HTML object>"
            ]
          },
          "metadata": {
            "tags": []
          }
        },
        {
          "output_type": "stream",
          "text": [
            "------------------------------------\n",
            "summary of epoch: 10\n",
            "------------------------------------\n",
            "loss -           train     valid\n",
            "                 0.068     0.096\n",
            "accuracy/error - \n",
            "                 0.201     0.233\n",
            " \n"
          ],
          "name": "stdout"
        },
        {
          "output_type": "display_data",
          "data": {
            "text/html": [
              "Train: <progress value='100.0' max='100', style='width: 80%'>100.0\n",
              "                           </progress>"
            ],
            "text/plain": [
              "<IPython.core.display.HTML object>"
            ]
          },
          "metadata": {
            "tags": []
          }
        },
        {
          "output_type": "display_data",
          "data": {
            "text/html": [
              "Valid: <progress value='100.0' max='100', style='width: 80%'>100.0\n",
              "                           </progress>"
            ],
            "text/plain": [
              "<IPython.core.display.HTML object>"
            ]
          },
          "metadata": {
            "tags": []
          }
        },
        {
          "output_type": "stream",
          "text": [
            "------------------------------------\n",
            "summary of epoch: 11\n",
            "------------------------------------\n",
            "loss -           train     valid\n",
            "                 0.058     0.101\n",
            "accuracy/error - \n",
            "                 0.186     0.239\n",
            " \n"
          ],
          "name": "stdout"
        },
        {
          "output_type": "display_data",
          "data": {
            "text/html": [
              "Train: <progress value='100.0' max='100', style='width: 80%'>100.0\n",
              "                           </progress>"
            ],
            "text/plain": [
              "<IPython.core.display.HTML object>"
            ]
          },
          "metadata": {
            "tags": []
          }
        },
        {
          "output_type": "display_data",
          "data": {
            "text/html": [
              "Valid: <progress value='100.0' max='100', style='width: 80%'>100.0\n",
              "                           </progress>"
            ],
            "text/plain": [
              "<IPython.core.display.HTML object>"
            ]
          },
          "metadata": {
            "tags": []
          }
        },
        {
          "output_type": "stream",
          "text": [
            "------------------------------------\n",
            "summary of epoch: 12\n",
            "------------------------------------\n",
            "loss -           train     valid\n",
            "                 0.047     0.092\n",
            "accuracy/error - \n",
            "                 0.168     0.226\n",
            " \n"
          ],
          "name": "stdout"
        },
        {
          "output_type": "display_data",
          "data": {
            "text/html": [
              "Train: <progress value='100.0' max='100', style='width: 80%'>100.0\n",
              "                           </progress>"
            ],
            "text/plain": [
              "<IPython.core.display.HTML object>"
            ]
          },
          "metadata": {
            "tags": []
          }
        },
        {
          "output_type": "display_data",
          "data": {
            "text/html": [
              "Valid: <progress value='100.0' max='100', style='width: 80%'>100.0\n",
              "                           </progress>"
            ],
            "text/plain": [
              "<IPython.core.display.HTML object>"
            ]
          },
          "metadata": {
            "tags": []
          }
        },
        {
          "output_type": "stream",
          "text": [
            "------------------------------------\n",
            "summary of epoch: 13\n",
            "------------------------------------\n",
            "loss -           train     valid\n",
            "                 0.042     0.101\n",
            "accuracy/error - \n",
            "                 0.160     0.238\n",
            " \n"
          ],
          "name": "stdout"
        },
        {
          "output_type": "display_data",
          "data": {
            "text/html": [
              "Train: <progress value='100.0' max='100', style='width: 80%'>100.0\n",
              "                           </progress>"
            ],
            "text/plain": [
              "<IPython.core.display.HTML object>"
            ]
          },
          "metadata": {
            "tags": []
          }
        },
        {
          "output_type": "display_data",
          "data": {
            "text/html": [
              "Valid: <progress value='100.0' max='100', style='width: 80%'>100.0\n",
              "                           </progress>"
            ],
            "text/plain": [
              "<IPython.core.display.HTML object>"
            ]
          },
          "metadata": {
            "tags": []
          }
        },
        {
          "output_type": "stream",
          "text": [
            "------------------------------------\n",
            "summary of epoch: 14\n",
            "------------------------------------\n",
            "loss -           train     valid\n",
            "                 0.039     0.091\n",
            "accuracy/error - \n",
            "                 0.154     0.223\n",
            " \n"
          ],
          "name": "stdout"
        }
      ]
    },
    {
      "metadata": {
        "id": "pdxnWXXUvcaT",
        "colab_type": "text"
      },
      "cell_type": "markdown",
      "source": [
        "###Test Performance\n",
        "\n",
        "On the test performance of the model, the mean absolute error is 6.0 knots with a standard deviation of 5.4 knots and the maximum error of 74 knots. The histograms of the predicted and target wind speed, and the absolute error of the test dataset are plotted in the figure blow, which shows that the error is not normally distributed but concentrated on the low end. This indicates the maximum error is associated with some anomalies. \n",
        "\n",
        "More specifically, histograms of the predicted and target wind speed and the absolute error for each category of TC are also plotted. The histogram of target wind speed is scatter as the wind speed reported has a resolution 5 knots. The overall mean absolute error of 6.0 knots is very close to this resolution, indicating the overall performance of the model is pretty good. The performance for categories with less samples is not as good as that with more samples since the histogram show more uniformity across the error range and spreads into larger error. "
      ]
    },
    {
      "metadata": {
        "id": "Lq4amwYvu8Re",
        "colab_type": "code",
        "outputId": "c0e4c868-cf6e-4430-f05c-0bbb305637cd",
        "colab": {
          "base_uri": "https://localhost:8080/",
          "height": 1508
        }
      },
      "cell_type": "code",
      "source": [
        "import seaborn as sns\n",
        "import matplotlib.pyplot as plt\n",
        "from torchvision.transforms import transforms\n",
        "\n",
        "# load configuration file\n",
        "f_config = p_model + os.sep + 'config_resnet_regression.yaml'\n",
        "with open(f_config, 'r') as fp: config = yaml.load(fp)\n",
        "  \n",
        "# update path for config\n",
        "config_params = config['params']\n",
        "config_params['f_image_zip'] = p_image + os.sep + config_params['f_image_zip']\n",
        "config_params['f_storm_msg'] = p_data  + os.sep + config_params['f_storm_msg']\n",
        "config_params['f_data_yml']  = p_model + os.sep + config_params['f_data_yml']\n",
        "config_params['f_state_yml'] = p_model + os.sep + config_params['f_state_yml']\n",
        "config_params['f_model_pth'] = p_model + os.sep + config_params['f_model_pth']\n",
        "config_params['f_test_yml']  = p_model + os.sep + config_params['f_test_yml']\n",
        "\n",
        "image_transforms = transforms.Compose([\n",
        "    transforms.Grayscale(1),\n",
        "    transforms.ToTensor(),\n",
        "    transforms.Normalize((0.456,), (0.222,))])\n",
        "\n",
        "# test\n",
        "#storm_resnet = YML2ModelNet(config, 'resnet') # contruct the model\n",
        "#storm_data = ImageDataSet(config_params, image_transforms, hotstart=True) # dataset\n",
        "#data_split = storm_data.load_data()\n",
        "#storm_train = ImageTrainer(config_params, storm_resnet, hotstart=True) # test\n",
        "#test_results = storm_train.test_loop(data_split)\n",
        "f_test = config_params['f_test_yml']\n",
        "with open(f_test, 'r') as fp: test_results = yaml.load(fp)\n",
        "  \n",
        "#normalization factor for target\n",
        "mean = 61.1;   std  = 26.5\n",
        "test_idxs     = test_results['idxs']\n",
        "test_targets  = test_results['labels'].flatten()*std + mean\n",
        "test_predicts = test_results['predicts'].flatten()*std + mean\n",
        "\n",
        "\n",
        "def _plot(title, pd_data):\n",
        "  fig, axes = plt.subplots(1,3, figsize=(12,3))\n",
        "  plt.tight_layout(pad=3)\n",
        "  plt.suptitle(title)\n",
        "  pd_data.hist('target', bins=12, ax=axes[0])     \n",
        "  pd_data.hist('prediction', bins=12, ax=axes[1]) \n",
        "  pd_data.hist('mae', bins=12, ax=axes[2])   \n",
        "  \n",
        "#test summary\n",
        "error = np.abs(test_predicts-test_targets) # mae error \n",
        "table = np.transpose(np.vstack((test_predicts, test_targets, error)))\n",
        "pd_table = pd.DataFrame(table, columns=['prediction', 'target', 'mae'])\n",
        "print(pd_table.describe())\n",
        "\n",
        "_plot('Test Dataset', pd_table)\n",
        "wins  = np.array([30, 64, 83, 96, 113, 137, 9999])\n",
        "for i in range(len(wins)-1):\n",
        "  pd_filter = pd_table[(pd_table['target']>=wins[i]) & (pd_table['target']<wins[i+1])]\n",
        "  title = 'wind speed = [{0:.1f}, {1:.1f})'.format(wins[i], wins[i+1])\n",
        "  _plot(title, pd_filter)"
      ],
      "execution_count": 0,
      "outputs": [
        {
          "output_type": "stream",
          "text": [
            "        prediction       target          mae\n",
            "count  5045.000000  5045.000000  5045.000000\n",
            "mean     60.383850    61.162487     5.979302\n",
            "std      22.756012    26.666098     5.427673\n",
            "min      12.495682    15.024536     0.001022\n",
            "25%      43.956436    40.033020     2.154339\n",
            "50%      55.952530    55.038113     4.611328\n",
            "75%      71.382484    75.044907     8.252144\n",
            "max     150.735809   155.072052    74.342537\n"
          ],
          "name": "stdout"
        },
        {
          "output_type": "display_data",
          "data": {
            "image/png": "[encoded data removed]",
            "text/plain": [
              "<Figure size 864x216 with 3 Axes>"
            ]
          },
          "metadata": {
            "tags": []
          }
        },
        {
          "output_type": "display_data",
          "data": {
            "image/png": "[encoded data removed]",
            "text/plain": [
              "<Figure size 864x216 with 3 Axes>"
            ]
          },
          "metadata": {
            "tags": []
          }
        },
        {
          "output_type": "display_data",
          "data": {
            "image/png": "[encoded data removed]",
            "text/plain": [
              "<Figure size 864x216 with 3 Axes>"
            ]
          },
          "metadata": {
            "tags": []
          }
        },
        {
          "output_type": "display_data",
          "data": {
            "image/png": "[encoded data removed]",
            "text/plain": [
              "<Figure size 864x216 with 3 Axes>"
            ]
          },
          "metadata": {
            "tags": []
          }
        },
        {
          "output_type": "display_data",
          "data": {
            "image/png": "[encoded data removed]",
            "text/plain": [
              "<Figure size 864x216 with 3 Axes>"
            ]
          },
          "metadata": {
            "tags": []
          }
        },
        {
          "output_type": "display_data",
          "data": {
            "image/png": "[encoded data removed]",
            "text/plain": [
              "<Figure size 864x216 with 3 Axes>"
            ]
          },
          "metadata": {
            "tags": []
          }
        },
        {
          "output_type": "display_data",
          "data": {
            "image/png": "[encoded data removed]",
            "text/plain": [
              "<Figure size 864x216 with 3 Axes>"
            ]
          },
          "metadata": {
            "tags": []
          }
        }
      ]
    }
  ]
}